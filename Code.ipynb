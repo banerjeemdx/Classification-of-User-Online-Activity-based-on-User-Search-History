{
 "cells": [
  {
   "cell_type": "markdown",
   "metadata": {},
   "source": [
    "## Classification of User Online Activity based on User Search History\n"
   ]
  },
  {
   "cell_type": "markdown",
   "metadata": {},
   "source": [
    "#### Abstract\n",
    "In this project we will try to classify the user browsing activity using machine learning techniques on the user’s clickstream data. Our data consists of text and multiple labels like Online Shopping, Net banking, Travel, etc. Firstly, we will use Natural Language Processing Techniques to preprocess the text data and then try supervised learning techniques to classify the user activity of Online Shopping. We will use multiple methods like decision tree, random forest, SVM, and MLP on the text data which will be processed to bag of words, TfIdf matrices, and Trigram matrices, then we will use evaluation methods like accuracy and confusion matrix to evaluate the results. We will also approach the problem through unsupervised learning techniques ie, clustering techniques to find out how the machine learning algorithm forms clusters on the text data. In the end, we will try to find out the intent of the search carried out by the user through web crawling techniques."
   ]
  },
  {
   "cell_type": "code",
   "execution_count": 8,
   "metadata": {},
   "outputs": [],
   "source": [
    "#As usual, in the first step we will import the libraries which we are gonna use.\n",
    "import pandas as pd #pandas will help us reading the csv data to dataframes(df) and then working on the df.\n",
    "import matplotlib.pyplot as plt #matplotlib will be used to visualize the data in the form of graphs.\n",
    "import numpy as np # linear algebra\n",
    "import string #for text pre-processing\n",
    "import re #Regular expression operations\n",
    "from sklearn.model_selection import KFold #for cross validations(CV)\n",
    "from sklearn import metrics #for getting CV score\n",
    "from collections import Counter #counting of words in the texts\n",
    "import operator\n"
   ]
  },
  {
   "cell_type": "code",
   "execution_count": 9,
   "metadata": {},
   "outputs": [
    {
     "name": "stdout",
     "output_type": "stream",
     "text": [
      "showing info https://raw.githubusercontent.com/nltk/nltk_data/gh-pages/index.xml\n"
     ]
    },
    {
     "data": {
      "text/plain": [
       "True"
      ]
     },
     "execution_count": 9,
     "metadata": {},
     "output_type": "execute_result"
    }
   ],
   "source": [
    "import nltk\n",
    "nltk.download()\n"
   ]
  },
  {
   "cell_type": "code",
   "execution_count": 10,
   "metadata": {},
   "outputs": [],
   "source": [
    "from nltk.corpus import stopwords #for removing stopwords\n",
    "from nltk import ngrams\n",
    "from nltk import word_tokenize"
   ]
  },
  {
   "cell_type": "code",
   "execution_count": 11,
   "metadata": {},
   "outputs": [],
   "source": [
    "data = pd.read_excel(r'C:\\Users\\GB656\\Desktop\\sensedataset.xlsx')"
   ]
  },
  {
   "cell_type": "code",
   "execution_count": 12,
   "metadata": {},
   "outputs": [
    {
     "data": {
      "text/plain": [
       "pandas.core.frame.DataFrame"
      ]
     },
     "execution_count": 12,
     "metadata": {},
     "output_type": "execute_result"
    }
   ],
   "source": [
    "type(data)"
   ]
  },
  {
   "cell_type": "code",
   "execution_count": 13,
   "metadata": {},
   "outputs": [
    {
     "data": {
      "text/plain": [
       "(1178, 10)"
      ]
     },
     "execution_count": 13,
     "metadata": {},
     "output_type": "execute_result"
    }
   ],
   "source": [
    "data.shape"
   ]
  },
  {
   "cell_type": "code",
   "execution_count": 14,
   "metadata": {},
   "outputs": [
    {
     "data": {
      "text/html": [
       "<div>\n",
       "<style scoped>\n",
       "    .dataframe tbody tr th:only-of-type {\n",
       "        vertical-align: middle;\n",
       "    }\n",
       "\n",
       "    .dataframe tbody tr th {\n",
       "        vertical-align: top;\n",
       "    }\n",
       "\n",
       "    .dataframe thead th {\n",
       "        text-align: right;\n",
       "    }\n",
       "</style>\n",
       "<table border=\"1\" class=\"dataframe\">\n",
       "  <thead>\n",
       "    <tr style=\"text-align: right;\">\n",
       "      <th></th>\n",
       "      <th>label</th>\n",
       "      <th>id</th>\n",
       "      <th>text</th>\n",
       "      <th>url</th>\n",
       "      <th>type</th>\n",
       "      <th>time</th>\n",
       "      <th>seen</th>\n",
       "      <th>label1</th>\n",
       "      <th>label2</th>\n",
       "      <th>label3</th>\n",
       "    </tr>\n",
       "  </thead>\n",
       "  <tbody>\n",
       "    <tr>\n",
       "      <th>0</th>\n",
       "      <td>shopping</td>\n",
       "      <td>1529005370661</td>\n",
       "      <td>iphone x plus</td>\n",
       "      <td>https://www.google.co.in/search?q=iphone+x+plu...</td>\n",
       "      <td>search</td>\n",
       "      <td>2018-06-14T19:42:50.661Z</td>\n",
       "      <td>True</td>\n",
       "      <td>NaN</td>\n",
       "      <td>NaN</td>\n",
       "      <td>NaN</td>\n",
       "    </tr>\n",
       "    <tr>\n",
       "      <th>1</th>\n",
       "      <td>shopping</td>\n",
       "      <td>1529005417834</td>\n",
       "      <td>iphone x plus amazon</td>\n",
       "      <td>https://www.google.co.in/search?ei=O8UiW92GHZP...</td>\n",
       "      <td>search</td>\n",
       "      <td>2018-06-14T19:43:37.834Z</td>\n",
       "      <td>True</td>\n",
       "      <td>NaN</td>\n",
       "      <td>NaN</td>\n",
       "      <td>NaN</td>\n",
       "    </tr>\n",
       "    <tr>\n",
       "      <th>2</th>\n",
       "      <td>shopping</td>\n",
       "      <td>1529005428970</td>\n",
       "      <td>Apple iPhone X (Space Grey, 256GB): Amazon.in:...</td>\n",
       "      <td>https://www.amazon.in/Apple-iPhone-Space-Grey-...</td>\n",
       "      <td>link</td>\n",
       "      <td>2018-06-14T19:43:48.970Z</td>\n",
       "      <td>True</td>\n",
       "      <td>NaN</td>\n",
       "      <td>NaN</td>\n",
       "      <td>NaN</td>\n",
       "    </tr>\n",
       "    <tr>\n",
       "      <th>3</th>\n",
       "      <td>shopping</td>\n",
       "      <td>1529005457957</td>\n",
       "      <td>Apple iPhone 8 Plus (Gold, 256GB): Amazon.in: ...</td>\n",
       "      <td>https://www.amazon.in/Apple-iPhone-Plus-Gold-2...</td>\n",
       "      <td>link</td>\n",
       "      <td>2018-06-14T19:44:17.957Z</td>\n",
       "      <td>True</td>\n",
       "      <td>NaN</td>\n",
       "      <td>NaN</td>\n",
       "      <td>NaN</td>\n",
       "    </tr>\n",
       "    <tr>\n",
       "      <th>4</th>\n",
       "      <td>shopping</td>\n",
       "      <td>1529005482407</td>\n",
       "      <td>Apple iPhone X (Silver, 256GB): Amazon.in: Ele...</td>\n",
       "      <td>https://www.amazon.in/Apple-iPhone-X-Silver-25...</td>\n",
       "      <td>link</td>\n",
       "      <td>2018-06-14T19:44:42.407Z</td>\n",
       "      <td>True</td>\n",
       "      <td>NaN</td>\n",
       "      <td>NaN</td>\n",
       "      <td>NaN</td>\n",
       "    </tr>\n",
       "  </tbody>\n",
       "</table>\n",
       "</div>"
      ],
      "text/plain": [
       "      label             id                                               text  \\\n",
       "0  shopping  1529005370661                                      iphone x plus   \n",
       "1  shopping  1529005417834                               iphone x plus amazon   \n",
       "2  shopping  1529005428970  Apple iPhone X (Space Grey, 256GB): Amazon.in:...   \n",
       "3  shopping  1529005457957  Apple iPhone 8 Plus (Gold, 256GB): Amazon.in: ...   \n",
       "4  shopping  1529005482407  Apple iPhone X (Silver, 256GB): Amazon.in: Ele...   \n",
       "\n",
       "                                                 url    type  \\\n",
       "0  https://www.google.co.in/search?q=iphone+x+plu...  search   \n",
       "1  https://www.google.co.in/search?ei=O8UiW92GHZP...  search   \n",
       "2  https://www.amazon.in/Apple-iPhone-Space-Grey-...    link   \n",
       "3  https://www.amazon.in/Apple-iPhone-Plus-Gold-2...    link   \n",
       "4  https://www.amazon.in/Apple-iPhone-X-Silver-25...    link   \n",
       "\n",
       "                       time  seen label1 label2 label3  \n",
       "0  2018-06-14T19:42:50.661Z  True    NaN    NaN    NaN  \n",
       "1  2018-06-14T19:43:37.834Z  True    NaN    NaN    NaN  \n",
       "2  2018-06-14T19:43:48.970Z  True    NaN    NaN    NaN  \n",
       "3  2018-06-14T19:44:17.957Z  True    NaN    NaN    NaN  \n",
       "4  2018-06-14T19:44:42.407Z  True    NaN    NaN    NaN  "
      ]
     },
     "execution_count": 14,
     "metadata": {},
     "output_type": "execute_result"
    }
   ],
   "source": [
    "data.head()"
   ]
  },
  {
   "cell_type": "code",
   "execution_count": 15,
   "metadata": {},
   "outputs": [],
   "source": [
    "group_by_label=data.groupby('label',as_index=False).count()"
   ]
  },
  {
   "cell_type": "code",
   "execution_count": 16,
   "metadata": {},
   "outputs": [
    {
     "data": {
      "text/html": [
       "<div>\n",
       "<style scoped>\n",
       "    .dataframe tbody tr th:only-of-type {\n",
       "        vertical-align: middle;\n",
       "    }\n",
       "\n",
       "    .dataframe tbody tr th {\n",
       "        vertical-align: top;\n",
       "    }\n",
       "\n",
       "    .dataframe thead th {\n",
       "        text-align: right;\n",
       "    }\n",
       "</style>\n",
       "<table border=\"1\" class=\"dataframe\">\n",
       "  <thead>\n",
       "    <tr style=\"text-align: right;\">\n",
       "      <th></th>\n",
       "      <th>label</th>\n",
       "      <th>id</th>\n",
       "      <th>text</th>\n",
       "      <th>url</th>\n",
       "      <th>type</th>\n",
       "      <th>time</th>\n",
       "      <th>seen</th>\n",
       "      <th>label1</th>\n",
       "      <th>label2</th>\n",
       "      <th>label3</th>\n",
       "    </tr>\n",
       "  </thead>\n",
       "  <tbody>\n",
       "    <tr>\n",
       "      <th>0</th>\n",
       "      <td>hobbies</td>\n",
       "      <td>25</td>\n",
       "      <td>25</td>\n",
       "      <td>25</td>\n",
       "      <td>25</td>\n",
       "      <td>25</td>\n",
       "      <td>25</td>\n",
       "      <td>0</td>\n",
       "      <td>0</td>\n",
       "      <td>0</td>\n",
       "    </tr>\n",
       "    <tr>\n",
       "      <th>1</th>\n",
       "      <td>medical</td>\n",
       "      <td>45</td>\n",
       "      <td>45</td>\n",
       "      <td>45</td>\n",
       "      <td>45</td>\n",
       "      <td>45</td>\n",
       "      <td>45</td>\n",
       "      <td>0</td>\n",
       "      <td>0</td>\n",
       "      <td>0</td>\n",
       "    </tr>\n",
       "    <tr>\n",
       "      <th>2</th>\n",
       "      <td>netbanking</td>\n",
       "      <td>17</td>\n",
       "      <td>17</td>\n",
       "      <td>17</td>\n",
       "      <td>17</td>\n",
       "      <td>17</td>\n",
       "      <td>17</td>\n",
       "      <td>0</td>\n",
       "      <td>0</td>\n",
       "      <td>0</td>\n",
       "    </tr>\n",
       "    <tr>\n",
       "      <th>3</th>\n",
       "      <td>search for places</td>\n",
       "      <td>20</td>\n",
       "      <td>20</td>\n",
       "      <td>20</td>\n",
       "      <td>20</td>\n",
       "      <td>20</td>\n",
       "      <td>20</td>\n",
       "      <td>0</td>\n",
       "      <td>0</td>\n",
       "      <td>0</td>\n",
       "    </tr>\n",
       "    <tr>\n",
       "      <th>4</th>\n",
       "      <td>shopping</td>\n",
       "      <td>642</td>\n",
       "      <td>642</td>\n",
       "      <td>642</td>\n",
       "      <td>642</td>\n",
       "      <td>642</td>\n",
       "      <td>642</td>\n",
       "      <td>275</td>\n",
       "      <td>164</td>\n",
       "      <td>273</td>\n",
       "    </tr>\n",
       "    <tr>\n",
       "      <th>5</th>\n",
       "      <td>social network</td>\n",
       "      <td>67</td>\n",
       "      <td>67</td>\n",
       "      <td>67</td>\n",
       "      <td>67</td>\n",
       "      <td>67</td>\n",
       "      <td>67</td>\n",
       "      <td>0</td>\n",
       "      <td>0</td>\n",
       "      <td>0</td>\n",
       "    </tr>\n",
       "    <tr>\n",
       "      <th>6</th>\n",
       "      <td>study</td>\n",
       "      <td>109</td>\n",
       "      <td>109</td>\n",
       "      <td>109</td>\n",
       "      <td>109</td>\n",
       "      <td>109</td>\n",
       "      <td>109</td>\n",
       "      <td>0</td>\n",
       "      <td>0</td>\n",
       "      <td>0</td>\n",
       "    </tr>\n",
       "    <tr>\n",
       "      <th>7</th>\n",
       "      <td>travel</td>\n",
       "      <td>211</td>\n",
       "      <td>211</td>\n",
       "      <td>211</td>\n",
       "      <td>211</td>\n",
       "      <td>211</td>\n",
       "      <td>211</td>\n",
       "      <td>39</td>\n",
       "      <td>21</td>\n",
       "      <td>22</td>\n",
       "    </tr>\n",
       "    <tr>\n",
       "      <th>8</th>\n",
       "      <td>weather</td>\n",
       "      <td>42</td>\n",
       "      <td>42</td>\n",
       "      <td>37</td>\n",
       "      <td>42</td>\n",
       "      <td>42</td>\n",
       "      <td>42</td>\n",
       "      <td>0</td>\n",
       "      <td>0</td>\n",
       "      <td>0</td>\n",
       "    </tr>\n",
       "  </tbody>\n",
       "</table>\n",
       "</div>"
      ],
      "text/plain": [
       "               label   id  text  url  type  time  seen  label1  label2  label3\n",
       "0            hobbies   25    25   25    25    25    25       0       0       0\n",
       "1            medical   45    45   45    45    45    45       0       0       0\n",
       "2         netbanking   17    17   17    17    17    17       0       0       0\n",
       "3  search for places   20    20   20    20    20    20       0       0       0\n",
       "4           shopping  642   642  642   642   642   642     275     164     273\n",
       "5     social network   67    67   67    67    67    67       0       0       0\n",
       "6              study  109   109  109   109   109   109       0       0       0\n",
       "7             travel  211   211  211   211   211   211      39      21      22\n",
       "8            weather   42    42   37    42    42    42       0       0       0"
      ]
     },
     "execution_count": 16,
     "metadata": {},
     "output_type": "execute_result"
    }
   ],
   "source": [
    "group_by_label"
   ]
  },
  {
   "cell_type": "code",
   "execution_count": 17,
   "metadata": {},
   "outputs": [
    {
     "data": {
      "image/png": "[encoded data removed]",
      "text/plain": [
       "<Figure size 432x288 with 1 Axes>"
      ]
     },
     "metadata": {
      "needs_background": "light"
     },
     "output_type": "display_data"
    }
   ],
   "source": [
    "#Though it is clear that there is no much difference between the inputs for each classes(authors),\n",
    "#we can still have a look at bar-chart for better visualisation.\n",
    "\n",
    "objects = group_by_label['label']  #storing values of authors in objects\n",
    "y_pos = np.arange(len(objects)) #creating numpy array for the count of authors\n",
    "ids = group_by_label['id'] #assignig values of id for each author\n",
    " \n",
    "plt.bar(y_pos, ids, align='center', alpha=0.4,color = 'bgk') #basic configuration for bar chart\n",
    "plt.xticks(y_pos, objects) #assigning Labels to be displayed on X-axis\n",
    "plt.ylabel('Input Count') #Labels for Y-axis\n",
    "plt.title('Inputs per author') #Label for Chart\n",
    " \n",
    "plt.show()"
   ]
  },
  {
   "cell_type": "code",
   "execution_count": 18,
   "metadata": {},
   "outputs": [],
   "source": [
    "#Creating a backup of the dataset\n",
    "data2_backup=pd.DataFrame(data)"
   ]
  },
  {
   "cell_type": "code",
   "execution_count": 19,
   "metadata": {},
   "outputs": [],
   "source": [
    "#Label Encoding the data (label column) with shopping as 1 and others as 0\n",
    "data['label'] = np.where(data['label']=='shopping', 1, 0)"
   ]
  },
  {
   "cell_type": "code",
   "execution_count": 20,
   "metadata": {},
   "outputs": [
    {
     "data": {
      "text/html": [
       "<div>\n",
       "<style scoped>\n",
       "    .dataframe tbody tr th:only-of-type {\n",
       "        vertical-align: middle;\n",
       "    }\n",
       "\n",
       "    .dataframe tbody tr th {\n",
       "        vertical-align: top;\n",
       "    }\n",
       "\n",
       "    .dataframe thead th {\n",
       "        text-align: right;\n",
       "    }\n",
       "</style>\n",
       "<table border=\"1\" class=\"dataframe\">\n",
       "  <thead>\n",
       "    <tr style=\"text-align: right;\">\n",
       "      <th></th>\n",
       "      <th>label</th>\n",
       "      <th>id</th>\n",
       "      <th>text</th>\n",
       "      <th>url</th>\n",
       "      <th>type</th>\n",
       "      <th>time</th>\n",
       "      <th>seen</th>\n",
       "      <th>label1</th>\n",
       "      <th>label2</th>\n",
       "      <th>label3</th>\n",
       "    </tr>\n",
       "  </thead>\n",
       "  <tbody>\n",
       "    <tr>\n",
       "      <th>0</th>\n",
       "      <td>0</td>\n",
       "      <td>536</td>\n",
       "      <td>536</td>\n",
       "      <td>531</td>\n",
       "      <td>536</td>\n",
       "      <td>536</td>\n",
       "      <td>536</td>\n",
       "      <td>39</td>\n",
       "      <td>21</td>\n",
       "      <td>22</td>\n",
       "    </tr>\n",
       "    <tr>\n",
       "      <th>1</th>\n",
       "      <td>1</td>\n",
       "      <td>642</td>\n",
       "      <td>642</td>\n",
       "      <td>642</td>\n",
       "      <td>642</td>\n",
       "      <td>642</td>\n",
       "      <td>642</td>\n",
       "      <td>275</td>\n",
       "      <td>164</td>\n",
       "      <td>273</td>\n",
       "    </tr>\n",
       "  </tbody>\n",
       "</table>\n",
       "</div>"
      ],
      "text/plain": [
       "   label   id  text  url  type  time  seen  label1  label2  label3\n",
       "0      0  536   536  531   536   536   536      39      21      22\n",
       "1      1  642   642  642   642   642   642     275     164     273"
      ]
     },
     "execution_count": 20,
     "metadata": {},
     "output_type": "execute_result"
    }
   ],
   "source": [
    "group_by_label=data.groupby('label',as_index=False).count()\n",
    "group_by_label"
   ]
  },
  {
   "cell_type": "code",
   "execution_count": 21,
   "metadata": {},
   "outputs": [],
   "source": [
    "#Selecting only the text column for further pre-processing\n",
    "text=data.iloc[:,2:3]"
   ]
  },
  {
   "cell_type": "code",
   "execution_count": 22,
   "metadata": {},
   "outputs": [
    {
     "data": {
      "text/html": [
       "<div>\n",
       "<style scoped>\n",
       "    .dataframe tbody tr th:only-of-type {\n",
       "        vertical-align: middle;\n",
       "    }\n",
       "\n",
       "    .dataframe tbody tr th {\n",
       "        vertical-align: top;\n",
       "    }\n",
       "\n",
       "    .dataframe thead th {\n",
       "        text-align: right;\n",
       "    }\n",
       "</style>\n",
       "<table border=\"1\" class=\"dataframe\">\n",
       "  <thead>\n",
       "    <tr style=\"text-align: right;\">\n",
       "      <th></th>\n",
       "      <th>text</th>\n",
       "    </tr>\n",
       "  </thead>\n",
       "  <tbody>\n",
       "    <tr>\n",
       "      <th>0</th>\n",
       "      <td>iphone x plus</td>\n",
       "    </tr>\n",
       "    <tr>\n",
       "      <th>1</th>\n",
       "      <td>iphone x plus amazon</td>\n",
       "    </tr>\n",
       "    <tr>\n",
       "      <th>2</th>\n",
       "      <td>Apple iPhone X (Space Grey, 256GB): Amazon.in:...</td>\n",
       "    </tr>\n",
       "    <tr>\n",
       "      <th>3</th>\n",
       "      <td>Apple iPhone 8 Plus (Gold, 256GB): Amazon.in: ...</td>\n",
       "    </tr>\n",
       "    <tr>\n",
       "      <th>4</th>\n",
       "      <td>Apple iPhone X (Silver, 256GB): Amazon.in: Ele...</td>\n",
       "    </tr>\n",
       "  </tbody>\n",
       "</table>\n",
       "</div>"
      ],
      "text/plain": [
       "                                                text\n",
       "0                                      iphone x plus\n",
       "1                               iphone x plus amazon\n",
       "2  Apple iPhone X (Space Grey, 256GB): Amazon.in:...\n",
       "3  Apple iPhone 8 Plus (Gold, 256GB): Amazon.in: ...\n",
       "4  Apple iPhone X (Silver, 256GB): Amazon.in: Ele..."
      ]
     },
     "execution_count": 22,
     "metadata": {},
     "output_type": "execute_result"
    }
   ],
   "source": [
    "text.head()"
   ]
  },
  {
   "cell_type": "code",
   "execution_count": 23,
   "metadata": {},
   "outputs": [
    {
     "data": {
      "text/plain": [
       "'!\"#$%&\\'()*+,-./:;<=>?@[\\\\]^_`{|}~'"
      ]
     },
     "execution_count": 23,
     "metadata": {},
     "output_type": "execute_result"
    }
   ],
   "source": [
    "string.punctuation"
   ]
  },
  {
   "cell_type": "code",
   "execution_count": 24,
   "metadata": {},
   "outputs": [],
   "source": [
    "#Selecting a row of column'text' to test preprocessing steps\n",
    "test_string_original=data.iloc[3,2]\n",
    "test_string=data.iloc[3,2]"
   ]
  },
  {
   "cell_type": "code",
   "execution_count": 25,
   "metadata": {},
   "outputs": [
    {
     "name": "stdout",
     "output_type": "stream",
     "text": [
      "Apple iPhone 8 Plus (Gold, 256GB): Amazon.in: Electronics\n"
     ]
    }
   ],
   "source": [
    "print(test_string)"
   ]
  },
  {
   "cell_type": "code",
   "execution_count": 26,
   "metadata": {},
   "outputs": [
    {
     "name": "stdout",
     "output_type": "stream",
     "text": [
      "After removing punctuations: apple iphone 8 plus  gold  256gb   amazon in  electronics\n",
      "After removing stopwords: apple iphone 8 plus  gold  256gb   amazon electronics\n",
      "After removing space: apple iphone 8 plus  gold  256gb   amazon electronics \n",
      "\n",
      "Before processing: Apple iPhone 8 Plus (Gold, 256GB): Amazon.in: Electronics\n",
      "After processing: apple iphone plus gold gb amazon electronics\n"
     ]
    }
   ],
   "source": [
    "#Function for removing punctuations from string\n",
    "def remove_punctuations_from_string(string1):\n",
    "    string1 = string1.lower() #changing to lower case\n",
    "    translation_table = dict.fromkeys(map(ord, string.punctuation), ' ') #creating dictionary of punc & None\n",
    "    string2 = string1.translate(translation_table) #translating string1\n",
    "    return string2\n",
    "\n",
    "test_string = remove_punctuations_from_string(test_string)\n",
    "print('After removing punctuations:',test_string)\n",
    "\n",
    "#Function for removing stopwords\n",
    "\n",
    "def remove_stopwords_from_string(string1):\n",
    "    pattern = re.compile(r'\\b(' + r'|'.join(stopwords.words('english')) + r')\\b\\s*') #compiling all stopwords.\n",
    "    string2 = pattern.sub('', string1) #replacing the occurrences of stopwords in string1\n",
    "    return string2\n",
    "\n",
    "test_string = remove_stopwords_from_string(test_string)\n",
    "print('After removing stopwords:',test_string)\n",
    "\n",
    "\n",
    "def remove_space_from_string(string1):\n",
    "    string1 = re.sub('\\d+', '', string1) #stripping the numbers\n",
    "    string2 = re.sub('\\s{2,}', ' ', string1) #replacing the spaces\n",
    "    string3 = re.sub('\\n', '', string2) #stripping \\n\n",
    "    return string3\n",
    "\n",
    "print('After removing space:',test_string,'\\n')\n",
    "\n",
    "print('Before processing:', test_string_original)\n",
    "\n",
    "test_string = remove_space_from_string(test_string)\n",
    "print('After processing:',test_string)"
   ]
  },
  {
   "cell_type": "code",
   "execution_count": 27,
   "metadata": {},
   "outputs": [
    {
     "data": {
      "text/html": [
       "<div>\n",
       "<style scoped>\n",
       "    .dataframe tbody tr th:only-of-type {\n",
       "        vertical-align: middle;\n",
       "    }\n",
       "\n",
       "    .dataframe tbody tr th {\n",
       "        vertical-align: top;\n",
       "    }\n",
       "\n",
       "    .dataframe thead th {\n",
       "        text-align: right;\n",
       "    }\n",
       "</style>\n",
       "<table border=\"1\" class=\"dataframe\">\n",
       "  <thead>\n",
       "    <tr style=\"text-align: right;\">\n",
       "      <th></th>\n",
       "      <th>label</th>\n",
       "      <th>type</th>\n",
       "      <th>text</th>\n",
       "    </tr>\n",
       "  </thead>\n",
       "  <tbody>\n",
       "    <tr>\n",
       "      <th>0</th>\n",
       "      <td>1</td>\n",
       "      <td>search</td>\n",
       "      <td>iphone x plus</td>\n",
       "    </tr>\n",
       "    <tr>\n",
       "      <th>1</th>\n",
       "      <td>1</td>\n",
       "      <td>search</td>\n",
       "      <td>iphone x plus amazon</td>\n",
       "    </tr>\n",
       "    <tr>\n",
       "      <th>2</th>\n",
       "      <td>1</td>\n",
       "      <td>link</td>\n",
       "      <td>Apple iPhone X (Space Grey, 256GB): Amazon.in:...</td>\n",
       "    </tr>\n",
       "    <tr>\n",
       "      <th>3</th>\n",
       "      <td>1</td>\n",
       "      <td>link</td>\n",
       "      <td>Apple iPhone 8 Plus (Gold, 256GB): Amazon.in: ...</td>\n",
       "    </tr>\n",
       "    <tr>\n",
       "      <th>4</th>\n",
       "      <td>1</td>\n",
       "      <td>link</td>\n",
       "      <td>Apple iPhone X (Silver, 256GB): Amazon.in: Ele...</td>\n",
       "    </tr>\n",
       "  </tbody>\n",
       "</table>\n",
       "</div>"
      ],
      "text/plain": [
       "   label    type                                               text\n",
       "0      1  search                                      iphone x plus\n",
       "1      1  search                               iphone x plus amazon\n",
       "2      1    link  Apple iPhone X (Space Grey, 256GB): Amazon.in:...\n",
       "3      1    link  Apple iPhone 8 Plus (Gold, 256GB): Amazon.in: ...\n",
       "4      1    link  Apple iPhone X (Silver, 256GB): Amazon.in: Ele..."
      ]
     },
     "execution_count": 27,
     "metadata": {},
     "output_type": "execute_result"
    }
   ],
   "source": [
    "#Creating a new copy of the dataset with label, type and text columns\n",
    "data3=pd.DataFrame(data['label'])\n",
    "data3[\"type\"] = data[\"type\"].astype(str)\n",
    "data3[\"text\"] = data[\"text\"].astype(str)\n",
    "data3.head()"
   ]
  },
  {
   "cell_type": "code",
   "execution_count": 28,
   "metadata": {},
   "outputs": [
    {
     "data": {
      "text/html": [
       "<div>\n",
       "<style scoped>\n",
       "    .dataframe tbody tr th:only-of-type {\n",
       "        vertical-align: middle;\n",
       "    }\n",
       "\n",
       "    .dataframe tbody tr th {\n",
       "        vertical-align: top;\n",
       "    }\n",
       "\n",
       "    .dataframe thead th {\n",
       "        text-align: right;\n",
       "    }\n",
       "</style>\n",
       "<table border=\"1\" class=\"dataframe\">\n",
       "  <thead>\n",
       "    <tr style=\"text-align: right;\">\n",
       "      <th></th>\n",
       "      <th>label</th>\n",
       "      <th>type</th>\n",
       "      <th>text</th>\n",
       "      <th>text_clean</th>\n",
       "      <th>text_remove_stopwords</th>\n",
       "    </tr>\n",
       "  </thead>\n",
       "  <tbody>\n",
       "    <tr>\n",
       "      <th>0</th>\n",
       "      <td>1</td>\n",
       "      <td>search</td>\n",
       "      <td>iphone x plus</td>\n",
       "      <td>iphone x plus</td>\n",
       "      <td>iphone x plus</td>\n",
       "    </tr>\n",
       "    <tr>\n",
       "      <th>1</th>\n",
       "      <td>1</td>\n",
       "      <td>search</td>\n",
       "      <td>iphone x plus amazon</td>\n",
       "      <td>iphone x plus amazon</td>\n",
       "      <td>iphone x plus amazon</td>\n",
       "    </tr>\n",
       "    <tr>\n",
       "      <th>2</th>\n",
       "      <td>1</td>\n",
       "      <td>link</td>\n",
       "      <td>Apple iPhone X (Space Grey, 256GB): Amazon.in:...</td>\n",
       "      <td>apple iphone x space grey gb amazon in electro...</td>\n",
       "      <td>apple iphone x space grey gb amazon electronics</td>\n",
       "    </tr>\n",
       "    <tr>\n",
       "      <th>3</th>\n",
       "      <td>1</td>\n",
       "      <td>link</td>\n",
       "      <td>Apple iPhone 8 Plus (Gold, 256GB): Amazon.in: ...</td>\n",
       "      <td>apple iphone plus gold gb amazon in electronics</td>\n",
       "      <td>apple iphone plus gold gb amazon electronics</td>\n",
       "    </tr>\n",
       "    <tr>\n",
       "      <th>4</th>\n",
       "      <td>1</td>\n",
       "      <td>link</td>\n",
       "      <td>Apple iPhone X (Silver, 256GB): Amazon.in: Ele...</td>\n",
       "      <td>apple iphone x silver gb amazon in electronics</td>\n",
       "      <td>apple iphone x silver gb amazon electronics</td>\n",
       "    </tr>\n",
       "  </tbody>\n",
       "</table>\n",
       "</div>"
      ],
      "text/plain": [
       "   label    type                                               text  \\\n",
       "0      1  search                                      iphone x plus   \n",
       "1      1  search                               iphone x plus amazon   \n",
       "2      1    link  Apple iPhone X (Space Grey, 256GB): Amazon.in:...   \n",
       "3      1    link  Apple iPhone 8 Plus (Gold, 256GB): Amazon.in: ...   \n",
       "4      1    link  Apple iPhone X (Silver, 256GB): Amazon.in: Ele...   \n",
       "\n",
       "                                          text_clean  \\\n",
       "0                                      iphone x plus   \n",
       "1                               iphone x plus amazon   \n",
       "2  apple iphone x space grey gb amazon in electro...   \n",
       "3    apple iphone plus gold gb amazon in electronics   \n",
       "4     apple iphone x silver gb amazon in electronics   \n",
       "\n",
       "                             text_remove_stopwords  \n",
       "0                                    iphone x plus  \n",
       "1                             iphone x plus amazon  \n",
       "2  apple iphone x space grey gb amazon electronics  \n",
       "3     apple iphone plus gold gb amazon electronics  \n",
       "4      apple iphone x silver gb amazon electronics  "
      ]
     },
     "execution_count": 28,
     "metadata": {},
     "output_type": "execute_result"
    }
   ],
   "source": [
    "#Applying above made functions on the 'text' column of the new copy of the dataset 'data3'.\n",
    "data3[\"text_clean\"] = data3[\"text\"].apply(lambda x:remove_punctuations_from_string(x))\n",
    "data3[\"text_remove_stopwords\"] = data3[\"text_clean\"].apply(lambda x:remove_stopwords_from_string(x))\n",
    "data3[\"text_clean\"] = data3[\"text_clean\"].apply(lambda x:remove_space_from_string(x))\n",
    "data3[\"text_remove_stopwords\"] = data3[\"text_remove_stopwords\"].apply(lambda x:remove_space_from_string(x))\n",
    "data3.head()"
   ]
  },
  {
   "cell_type": "code",
   "execution_count": 29,
   "metadata": {},
   "outputs": [],
   "source": [
    "#Lemmatize function\n",
    "\n",
    "ps = nltk.PorterStemmer()\n",
    "\n",
    "def text_stemmed(tokenized):\n",
    "    string3 =[ps.stem(word) for word in tokenized]\n",
    "    return string3\n"
   ]
  },
  {
   "cell_type": "code",
   "execution_count": 30,
   "metadata": {},
   "outputs": [],
   "source": [
    "#Tokenize function\n",
    "\n",
    "def tokenize(text):\n",
    "    tokens = re.split('\\W+',text)\n",
    "    return tokens\n",
    "\n",
    "data3[\"text_tokenized\"] = data3[\"text_remove_stopwords\"].apply(lambda x:tokenize(x))\n",
    "\n",
    "\n",
    "#Lematize function data after tokenizing\n",
    "\n",
    "wn = nltk.WordNetLemmatizer()\n",
    "def lemmatize(tokenized_text):\n",
    "    text2=[wn.lemmatize(word) for word in tokenized_text]\n",
    "    return text2\n",
    "\n",
    "data3[\"text_lemmatized\"] = data3[\"text_tokenized\"].apply(lambda x:lemmatize(x))\n"
   ]
  },
  {
   "cell_type": "code",
   "execution_count": 31,
   "metadata": {},
   "outputs": [
    {
     "data": {
      "text/html": [
       "<div>\n",
       "<style scoped>\n",
       "    .dataframe tbody tr th:only-of-type {\n",
       "        vertical-align: middle;\n",
       "    }\n",
       "\n",
       "    .dataframe tbody tr th {\n",
       "        vertical-align: top;\n",
       "    }\n",
       "\n",
       "    .dataframe thead th {\n",
       "        text-align: right;\n",
       "    }\n",
       "</style>\n",
       "<table border=\"1\" class=\"dataframe\">\n",
       "  <thead>\n",
       "    <tr style=\"text-align: right;\">\n",
       "      <th></th>\n",
       "      <th>label</th>\n",
       "      <th>type</th>\n",
       "      <th>text</th>\n",
       "      <th>text_clean</th>\n",
       "      <th>text_remove_stopwords</th>\n",
       "      <th>text_tokenized</th>\n",
       "      <th>text_lemmatized</th>\n",
       "    </tr>\n",
       "  </thead>\n",
       "  <tbody>\n",
       "    <tr>\n",
       "      <th>0</th>\n",
       "      <td>1</td>\n",
       "      <td>search</td>\n",
       "      <td>iphone x plus</td>\n",
       "      <td>iphone x plus</td>\n",
       "      <td>iphone x plus</td>\n",
       "      <td>[iphone, x, plus]</td>\n",
       "      <td>[iphone, x, plus]</td>\n",
       "    </tr>\n",
       "    <tr>\n",
       "      <th>1</th>\n",
       "      <td>1</td>\n",
       "      <td>search</td>\n",
       "      <td>iphone x plus amazon</td>\n",
       "      <td>iphone x plus amazon</td>\n",
       "      <td>iphone x plus amazon</td>\n",
       "      <td>[iphone, x, plus, amazon]</td>\n",
       "      <td>[iphone, x, plus, amazon]</td>\n",
       "    </tr>\n",
       "    <tr>\n",
       "      <th>2</th>\n",
       "      <td>1</td>\n",
       "      <td>link</td>\n",
       "      <td>Apple iPhone X (Space Grey, 256GB): Amazon.in:...</td>\n",
       "      <td>apple iphone x space grey gb amazon in electro...</td>\n",
       "      <td>apple iphone x space grey gb amazon electronics</td>\n",
       "      <td>[apple, iphone, x, space, grey, gb, amazon, el...</td>\n",
       "      <td>[apple, iphone, x, space, grey, gb, amazon, el...</td>\n",
       "    </tr>\n",
       "    <tr>\n",
       "      <th>3</th>\n",
       "      <td>1</td>\n",
       "      <td>link</td>\n",
       "      <td>Apple iPhone 8 Plus (Gold, 256GB): Amazon.in: ...</td>\n",
       "      <td>apple iphone plus gold gb amazon in electronics</td>\n",
       "      <td>apple iphone plus gold gb amazon electronics</td>\n",
       "      <td>[apple, iphone, plus, gold, gb, amazon, electr...</td>\n",
       "      <td>[apple, iphone, plus, gold, gb, amazon, electr...</td>\n",
       "    </tr>\n",
       "    <tr>\n",
       "      <th>4</th>\n",
       "      <td>1</td>\n",
       "      <td>link</td>\n",
       "      <td>Apple iPhone X (Silver, 256GB): Amazon.in: Ele...</td>\n",
       "      <td>apple iphone x silver gb amazon in electronics</td>\n",
       "      <td>apple iphone x silver gb amazon electronics</td>\n",
       "      <td>[apple, iphone, x, silver, gb, amazon, electro...</td>\n",
       "      <td>[apple, iphone, x, silver, gb, amazon, electro...</td>\n",
       "    </tr>\n",
       "  </tbody>\n",
       "</table>\n",
       "</div>"
      ],
      "text/plain": [
       "   label    type                                               text  \\\n",
       "0      1  search                                      iphone x plus   \n",
       "1      1  search                               iphone x plus amazon   \n",
       "2      1    link  Apple iPhone X (Space Grey, 256GB): Amazon.in:...   \n",
       "3      1    link  Apple iPhone 8 Plus (Gold, 256GB): Amazon.in: ...   \n",
       "4      1    link  Apple iPhone X (Silver, 256GB): Amazon.in: Ele...   \n",
       "\n",
       "                                          text_clean  \\\n",
       "0                                      iphone x plus   \n",
       "1                               iphone x plus amazon   \n",
       "2  apple iphone x space grey gb amazon in electro...   \n",
       "3    apple iphone plus gold gb amazon in electronics   \n",
       "4     apple iphone x silver gb amazon in electronics   \n",
       "\n",
       "                             text_remove_stopwords  \\\n",
       "0                                    iphone x plus   \n",
       "1                             iphone x plus amazon   \n",
       "2  apple iphone x space grey gb amazon electronics   \n",
       "3     apple iphone plus gold gb amazon electronics   \n",
       "4      apple iphone x silver gb amazon electronics   \n",
       "\n",
       "                                      text_tokenized  \\\n",
       "0                                  [iphone, x, plus]   \n",
       "1                          [iphone, x, plus, amazon]   \n",
       "2  [apple, iphone, x, space, grey, gb, amazon, el...   \n",
       "3  [apple, iphone, plus, gold, gb, amazon, electr...   \n",
       "4  [apple, iphone, x, silver, gb, amazon, electro...   \n",
       "\n",
       "                                     text_lemmatized  \n",
       "0                                  [iphone, x, plus]  \n",
       "1                          [iphone, x, plus, amazon]  \n",
       "2  [apple, iphone, x, space, grey, gb, amazon, el...  \n",
       "3  [apple, iphone, plus, gold, gb, amazon, electr...  \n",
       "4  [apple, iphone, x, silver, gb, amazon, electro...  "
      ]
     },
     "execution_count": 31,
     "metadata": {},
     "output_type": "execute_result"
    }
   ],
   "source": [
    "data3.head()"
   ]
  },
  {
   "cell_type": "code",
   "execution_count": 32,
   "metadata": {},
   "outputs": [],
   "source": [
    "#Remove empty rows after cleaning\n",
    "# empty_rows=data3[data3['text_remove_stopwords'] == ''].index\n",
    "# print(empty_rows)\n",
    "# data3.head(80)"
   ]
  },
  {
   "cell_type": "code",
   "execution_count": 33,
   "metadata": {},
   "outputs": [],
   "source": [
    "# data3=data3.drop(rr)\n",
    "# data3.head(80)"
   ]
  },
  {
   "cell_type": "code",
   "execution_count": 34,
   "metadata": {},
   "outputs": [],
   "source": [
    "#Train-Test Split\n",
    "from sklearn.model_selection import train_test_split\n",
    "train25, test25, train25_target, test25_target  = train_test_split(data3['text_remove_stopwords'],data3['label'], test_size=0.3)"
   ]
  },
  {
   "cell_type": "code",
   "execution_count": 35,
   "metadata": {},
   "outputs": [
    {
     "name": "stdout",
     "output_type": "stream",
     "text": [
      "31      buy lenovo ideapad th gen intel core i u proce...\n",
      "1082                                world cup match today\n",
      "992                           popular internet activities\n",
      "1129                                        hertfordshire\n",
      "504                               microsoft life linkedin\n",
      "Name: text_remove_stopwords, dtype: object \n",
      "\n",
      "31      1\n",
      "1082    0\n",
      "992     0\n",
      "1129    0\n",
      "504     0\n",
      "Name: label, dtype: int32\n"
     ]
    }
   ],
   "source": [
    "print(train25.head(),'\\n')\n",
    "print(train25_target.head())"
   ]
  },
  {
   "cell_type": "code",
   "execution_count": 36,
   "metadata": {},
   "outputs": [
    {
     "name": "stdout",
     "output_type": "stream",
     "text": [
      "335                                                    £ \n",
      "914                  visa policy united kingdom wikipedia\n",
      "1126    potters bar rickmansworth ways travel via bus ...\n",
      "876        tie front sweatshirt red manhattan ladies h gb\n",
      "60                                          fabricviscose\n",
      "Name: text_remove_stopwords, dtype: object \n",
      "\n",
      "335     1\n",
      "914     0\n",
      "1126    0\n",
      "876     1\n",
      "60      1\n",
      "Name: label, dtype: int32\n"
     ]
    }
   ],
   "source": [
    "print(test25.head(),'\\n')\n",
    "print(test25_target.head())"
   ]
  },
  {
   "cell_type": "code",
   "execution_count": 37,
   "metadata": {},
   "outputs": [
    {
     "name": "stdout",
     "output_type": "stream",
     "text": [
      "(824, 1135)\n",
      "1135\n"
     ]
    }
   ],
   "source": [
    "from sklearn.feature_extraction.text import CountVectorizer\n",
    "vector = CountVectorizer()\n",
    "train25_trans = vector.fit_transform(train25)\n",
    "print(train25_trans.shape)\n",
    "print (len(vector.get_feature_names()))\n",
    "# print(vector.get_feature_names())\n",
    "# print(vect.toarray())"
   ]
  },
  {
   "cell_type": "code",
   "execution_count": 38,
   "metadata": {},
   "outputs": [
    {
     "data": {
      "text/plain": [
       "<824x1135 sparse matrix of type '<class 'numpy.int64'>'\n",
       "\twith 5151 stored elements in Compressed Sparse Row format>"
      ]
     },
     "execution_count": 38,
     "metadata": {},
     "output_type": "execute_result"
    }
   ],
   "source": [
    "train25_trans"
   ]
  },
  {
   "cell_type": "code",
   "execution_count": 39,
   "metadata": {},
   "outputs": [],
   "source": [
    "test25_trans = vector.transform(test25)"
   ]
  },
  {
   "cell_type": "code",
   "execution_count": 40,
   "metadata": {},
   "outputs": [
    {
     "data": {
      "text/plain": [
       "<354x1135 sparse matrix of type '<class 'numpy.int64'>'\n",
       "\twith 1890 stored elements in Compressed Sparse Row format>"
      ]
     },
     "execution_count": 40,
     "metadata": {},
     "output_type": "execute_result"
    }
   ],
   "source": [
    "test25_trans"
   ]
  },
  {
   "cell_type": "code",
   "execution_count": 41,
   "metadata": {},
   "outputs": [],
   "source": [
    "from sklearn import tree\n",
    "dtree = tree.DecisionTreeClassifier()\n",
    "dtree = dtree.fit(train25_trans,train25_target)"
   ]
  },
  {
   "cell_type": "code",
   "execution_count": 42,
   "metadata": {},
   "outputs": [],
   "source": [
    "#Prediction on Test Data\n",
    "dtree_pred=dtree.predict(test25_trans)"
   ]
  },
  {
   "cell_type": "code",
   "execution_count": 43,
   "metadata": {},
   "outputs": [],
   "source": [
    "#tree.plot_tree(dtree)\n",
    "# dtree_pred"
   ]
  },
  {
   "cell_type": "code",
   "execution_count": 44,
   "metadata": {},
   "outputs": [],
   "source": [
    "#tree.export_graphviz(dtree)"
   ]
  },
  {
   "cell_type": "code",
   "execution_count": 45,
   "metadata": {},
   "outputs": [],
   "source": [
    "from sklearn.metrics import precision_score, recall_score\n",
    "from sklearn.metrics import confusion_matrix, classification_report, accuracy_score\n"
   ]
  },
  {
   "cell_type": "code",
   "execution_count": 46,
   "metadata": {
    "scrolled": true
   },
   "outputs": [
    {
     "name": "stdout",
     "output_type": "stream",
     "text": [
      "Accuracy:  0.9209039548022598\n",
      "Precision: 0.9237557169760559\n",
      "Recall: 0.9209039548022598\n",
      "\n",
      " Confusion Matrix:\n",
      " [[138  22]\n",
      " [  6 188]]\n",
      "\n",
      " Classification Report:\n",
      "               precision    recall  f1-score   support\n",
      "\n",
      "     class 0       0.96      0.86      0.91       160\n",
      "     class 1       0.90      0.97      0.93       194\n",
      "\n",
      "    accuracy                           0.92       354\n",
      "   macro avg       0.93      0.92      0.92       354\n",
      "weighted avg       0.92      0.92      0.92       354\n",
      "\n"
     ]
    }
   ],
   "source": [
    "dtree_accuracy=accuracy_score(y_pred=dtree_pred, y_true=test25_target)\n",
    "print('Accuracy: ',dtree_accuracy)\n",
    "      \n",
    "dtree_precision = precision_score(y_pred=dtree_pred, y_true=test25_target, average='weighted')\n",
    "print('Precision:',dtree_precision)\n",
    "\n",
    "dtree_recall = recall_score(y_pred=dtree_pred, y_true=test25_target, average='weighted')\n",
    "print('Recall:',dtree_recall)\n",
    "\n",
    "dtree_conf_matrix=confusion_matrix(y_pred=dtree_pred, y_true=test25_target)\n",
    "print('\\n Confusion Matrix:\\n',dtree_conf_matrix)\n",
    "\n",
    "target_names = ['class 0', 'class 1',]\n",
    "print('\\n Classification Report:\\n',classification_report(y_pred=dtree_pred, y_true=test25_target, target_names=target_names))"
   ]
  },
  {
   "cell_type": "code",
   "execution_count": 47,
   "metadata": {},
   "outputs": [
    {
     "name": "stdout",
     "output_type": "stream",
     "text": [
      "Accuracy:  0.9576271186440678\n",
      "Precision: 0.958624891970095\n",
      "Recall: 0.9576271186440678\n",
      "\n",
      " Confusion Matrix:\n",
      " [[148  12]\n",
      " [  3 191]]\n"
     ]
    }
   ],
   "source": [
    "#Applying SVM Classification on Bag of Words data\n",
    "from sklearn import svm\n",
    "\n",
    "SVM = svm.SVC(C=1.0, kernel='linear', degree=3, gamma='auto')\n",
    "bow_svm = SVM.fit(train25_trans,train25_target)\n",
    "bow_svm_pred = SVM.predict(test25_trans)\n",
    "# bow_svm_pred\n",
    "\n",
    "bow_svm_accuracy=accuracy_score(y_pred=bow_svm_pred, y_true=test25_target)\n",
    "print('Accuracy: ',bow_svm_accuracy)\n",
    "\n",
    "bow_svm_precision = precision_score(y_pred=bow_svm_pred, y_true=test25_target, average='weighted')\n",
    "print('Precision:',bow_svm_precision)\n",
    "\n",
    "bow_svm_recall = recall_score(y_pred=bow_svm_pred, y_true=test25_target, average='weighted')\n",
    "print('Recall:',bow_svm_recall)\n",
    "\n",
    "bow_svm_conf_matrix=confusion_matrix(y_pred=bow_svm_pred, y_true=test25_target)\n",
    "print('\\n Confusion Matrix:\\n',bow_svm_conf_matrix)"
   ]
  },
  {
   "cell_type": "code",
   "execution_count": 48,
   "metadata": {},
   "outputs": [
    {
     "name": "stdout",
     "output_type": "stream",
     "text": [
      "Accuracy:  0.9265536723163842\n",
      "Precision: 0.9325582030077241\n",
      "Recall: 0.9265536723163842\n",
      "\n",
      " Confusion Matrix:\n",
      " [[136  24]\n",
      " [  2 192]]\n"
     ]
    }
   ],
   "source": [
    "#Applying RF Classification on Bag of Words data\n",
    "from sklearn.ensemble import RandomForestClassifier\n",
    "\n",
    "RF = RandomForestClassifier(n_estimators=100)\n",
    "bow_rf = RF.fit(train25_trans,train25_target)\n",
    "bow_rf_pred = RF.predict(test25_trans)\n",
    "# bow_rf_pred\n",
    "\n",
    "bow_rf_accuracy=accuracy_score(y_pred=bow_rf_pred, y_true=test25_target)\n",
    "print('Accuracy: ',bow_rf_accuracy)\n",
    "\n",
    "bow_rf_precision = precision_score(y_pred=bow_rf_pred, y_true=test25_target, average='weighted')\n",
    "print('Precision:',bow_rf_precision)\n",
    "\n",
    "bow_rf_recall = recall_score(y_pred=bow_rf_pred, y_true=test25_target, average='weighted')\n",
    "print('Recall:',bow_rf_recall)\n",
    "\n",
    "bow_rf_conf_matrix=confusion_matrix(y_pred=bow_rf_pred, y_true=test25_target)\n",
    "print('\\n Confusion Matrix:\\n',bow_rf_conf_matrix)"
   ]
  },
  {
   "cell_type": "code",
   "execution_count": 49,
   "metadata": {},
   "outputs": [],
   "source": [
    "# #Applying AdaBoost Classification on Bag of Words data\n",
    "# from sklearn.ensemble import AdaBoostClassifier\n",
    "\n",
    "# ADA = AdaBoostClassifier(n_estimators=1000, random_state=0)\n",
    "# bow_ada = ADA.fit(train25_trans,train25_target)\n",
    "# bow_ada_pred = ADA.predict(test25_trans)\n",
    "# # bow_ada_pred\n",
    "# bow_ada_accuracy=accuracy_score(y_pred=bow_ada_pred, y_true=test25_target)\n",
    "# print('Accuracy: ',bow_ada_accuracy)\n",
    "\n",
    "# dtree_precision = precision_score(y_pred=bow_ada_pred, y_true=test25_target, average='weighted')\n",
    "# print('Precision:',dtree_precision)\n",
    "\n",
    "# dtree_recall = recall_score(y_pred=bow_ada_pred, y_true=test25_target, average='weighted')\n",
    "# print('Recall:',dtree_recall)\n",
    "\n",
    "# dtree_conf_matrix=confusion_matrix(y_pred=bow_ada_pred, y_true=test25_target)\n",
    "# print('\\n Confusion Matrix:\\n',dtree_conf_matrix)"
   ]
  },
  {
   "cell_type": "code",
   "execution_count": null,
   "metadata": {},
   "outputs": [],
   "source": []
  },
  {
   "cell_type": "code",
   "execution_count": 50,
   "metadata": {},
   "outputs": [
    {
     "name": "stdout",
     "output_type": "stream",
     "text": [
      "Accuracy:  0.940677966101695\n",
      "Precision: 0.9237557169760559\n",
      "Recall: 0.9209039548022598\n",
      "\n",
      " Confusion Matrix:\n",
      " [[141  19]\n",
      " [  2 192]]\n"
     ]
    }
   ],
   "source": [
    "#Applying MLP on Bag of Words data\n",
    "from sklearn.neural_network import MLPClassifier\n",
    "\n",
    "MLP = MLPClassifier(solver='lbfgs', alpha=1e-5, hidden_layer_sizes=(10,), random_state=1)\n",
    "bow_mlp = MLP.fit(train25_trans,train25_target)\n",
    "bow_mlp_pred = MLP.predict(test25_trans)\n",
    "\n",
    "# bow_mlp_pred\n",
    "\n",
    "bow_mlp_accuracy=accuracy_score(y_pred=bow_mlp_pred, y_true=test25_target)\n",
    "print('Accuracy: ',bow_mlp_accuracy)\n",
    "\n",
    "bow_mlp_precision = precision_score(y_pred=bow_mlp_pred, y_true=test25_target, average='weighted')\n",
    "print('Precision:',dtree_precision)\n",
    "\n",
    "bow_mlp_recall = recall_score(y_pred=bow_mlp_pred, y_true=test25_target, average='weighted')\n",
    "print('Recall:',dtree_recall)\n",
    "\n",
    "bow_mlp_conf_matrix=confusion_matrix(y_pred=bow_mlp_pred, y_true=test25_target)\n",
    "print('\\n Confusion Matrix:\\n',bow_mlp_conf_matrix)"
   ]
  },
  {
   "cell_type": "code",
   "execution_count": 51,
   "metadata": {},
   "outputs": [
    {
     "name": "stdout",
     "output_type": "stream",
     "text": [
      "Accuracy:  0.963276836158192\n"
     ]
    }
   ],
   "source": [
    "#Applying NB on Bag of Words data\n",
    "from sklearn.naive_bayes import MultinomialNB\n",
    "\n",
    "NB = MultinomialNB()\n",
    "bow_nb = NB.fit(train25_trans, train25_target)\n",
    "bow_nb_pred = NB.predict(test25_trans)\n",
    "#bow_nb_pred\n",
    "bow_nb_accuracy=accuracy_score(y_pred=bow_nb_pred, y_true=test25_target)\n",
    "print('Accuracy: ',bow_nb_accuracy)"
   ]
  },
  {
   "cell_type": "code",
   "execution_count": null,
   "metadata": {},
   "outputs": [],
   "source": []
  },
  {
   "cell_type": "code",
   "execution_count": 52,
   "metadata": {},
   "outputs": [],
   "source": [
    "from sklearn.feature_extraction.text import TfidfVectorizer"
   ]
  },
  {
   "cell_type": "code",
   "execution_count": 53,
   "metadata": {},
   "outputs": [
    {
     "name": "stdout",
     "output_type": "stream",
     "text": [
      "(824, 1135)\n",
      "1135\n"
     ]
    }
   ],
   "source": [
    "#Creating vectors of tfidf data\n",
    "vector2 = TfidfVectorizer()\n",
    "train25_trans_tfidf = vector2.fit_transform(train25)\n",
    "print(train25_trans_tfidf.shape)\n",
    "print (len(vector2.get_feature_names()))\n",
    "# print(vector2.get_feature_names())"
   ]
  },
  {
   "cell_type": "code",
   "execution_count": 54,
   "metadata": {},
   "outputs": [
    {
     "data": {
      "text/plain": [
       "<824x1135 sparse matrix of type '<class 'numpy.float64'>'\n",
       "\twith 5151 stored elements in Compressed Sparse Row format>"
      ]
     },
     "execution_count": 54,
     "metadata": {},
     "output_type": "execute_result"
    }
   ],
   "source": [
    "train25_trans_tfidf"
   ]
  },
  {
   "cell_type": "code",
   "execution_count": 55,
   "metadata": {},
   "outputs": [],
   "source": [
    "test25_trans_tfidf = vector2.transform(test25)"
   ]
  },
  {
   "cell_type": "code",
   "execution_count": 56,
   "metadata": {},
   "outputs": [],
   "source": [
    "#Creating dtree of tfidf data\n",
    "dtree = tree.DecisionTreeClassifier()\n",
    "dtree_tfidf = dtree.fit(train25_trans_tfidf,train25_target)\n",
    "dtree_pred_tfidf=dtree_tfidf.predict(test25_trans_tfidf)\n",
    "# dtree_pred_tfidf"
   ]
  },
  {
   "cell_type": "code",
   "execution_count": 57,
   "metadata": {},
   "outputs": [
    {
     "name": "stdout",
     "output_type": "stream",
     "text": [
      "Accuracy_tfidf:  0.923728813559322\n"
     ]
    }
   ],
   "source": [
    "dtree_accuracy_tfidf=accuracy_score(y_pred=dtree_pred_tfidf, y_true=test25_target)\n",
    "print('Accuracy_tfidf: ',dtree_accuracy_tfidf)"
   ]
  },
  {
   "cell_type": "code",
   "execution_count": 58,
   "metadata": {},
   "outputs": [
    {
     "name": "stdout",
     "output_type": "stream",
     "text": [
      "Accuracy:  0.903954802259887\n"
     ]
    }
   ],
   "source": [
    "#Applying SVM Classification on Tfidf data\n",
    "from sklearn import svm\n",
    "SVM = svm.SVC(C=0.8, kernel='linear', degree=3, gamma='auto')\n",
    "tfidf_svm = SVM.fit(train25_trans_tfidf,train25_target)\n",
    "tfidf_svm_pred = SVM.predict(test25_trans_tfidf)\n",
    "# tfidf_svm_pred\n",
    "tfidf_svm_accuracy=accuracy_score(y_pred=tfidf_svm_pred, y_true=test25_target)\n",
    "print('Accuracy: ',tfidf_svm_accuracy)"
   ]
  },
  {
   "cell_type": "code",
   "execution_count": 59,
   "metadata": {},
   "outputs": [
    {
     "name": "stdout",
     "output_type": "stream",
     "text": [
      "Accuracy:  0.923728813559322\n"
     ]
    }
   ],
   "source": [
    "#Applying RF Classification on tfidf data\n",
    "# from sklearn.ensemble import RandomForestClassifier\n",
    "\n",
    "RF = RandomForestClassifier(n_estimators=100)\n",
    "tfidf_rf = RF.fit(train25_trans_tfidf,train25_target)\n",
    "tfidf_rf_pred = RF.predict(test25_trans_tfidf)\n",
    "# rf_svm_pred\n",
    "tfidf_rf_accuracy=accuracy_score(y_pred=tfidf_rf_pred, y_true=test25_target)\n",
    "print('Accuracy: ',tfidf_rf_accuracy)"
   ]
  },
  {
   "cell_type": "code",
   "execution_count": 60,
   "metadata": {},
   "outputs": [
    {
     "name": "stdout",
     "output_type": "stream",
     "text": [
      "Accuracy:  0.963276836158192\n"
     ]
    }
   ],
   "source": [
    "#Applying NB on tfidf data\n",
    "from sklearn.naive_bayes import MultinomialNB\n",
    "\n",
    "NB = MultinomialNB()\n",
    "tfidf_nb = NB.fit(train25_trans_tfidf, train25_target)\n",
    "tfidf_nb_pred = NB.predict(test25_trans_tfidf)\n",
    "#tfidf_nb_pred\n",
    "tfidf_nb_accuracy=accuracy_score(y_pred=tfidf_nb_pred, y_true=test25_target)\n",
    "print('Accuracy: ',tfidf_nb_accuracy)"
   ]
  },
  {
   "cell_type": "code",
   "execution_count": null,
   "metadata": {},
   "outputs": [],
   "source": []
  },
  {
   "cell_type": "code",
   "execution_count": 61,
   "metadata": {},
   "outputs": [
    {
     "name": "stdout",
     "output_type": "stream",
     "text": [
      "(824, 4660)\n"
     ]
    }
   ],
   "source": [
    "#Creating vectors of trigram data\n",
    "vector_trigram = CountVectorizer(ngram_range=(1,3))\n",
    "train25_trans_trigram = vector_trigram.fit_transform(train25)\n",
    "print(train25_trans_trigram.shape)\n",
    "# print(vector_trigram.get_feature_names())"
   ]
  },
  {
   "cell_type": "code",
   "execution_count": 62,
   "metadata": {},
   "outputs": [],
   "source": [
    "test25_trans_trigram = vector_trigram.transform(test25)"
   ]
  },
  {
   "cell_type": "code",
   "execution_count": 63,
   "metadata": {},
   "outputs": [],
   "source": [
    "#Applying dtree on trigram data\n",
    "dtree = tree.DecisionTreeClassifier()\n",
    "dtree_trigram = dtree.fit(train25_trans_trigram,train25_target)\n",
    "dtree_pred_trigram=dtree_trigram.predict(test25_trans_trigram)\n",
    "# dtree_pred_trigram"
   ]
  },
  {
   "cell_type": "code",
   "execution_count": 64,
   "metadata": {},
   "outputs": [
    {
     "name": "stdout",
     "output_type": "stream",
     "text": [
      "Accuracy_trigram:  0.923728813559322\n"
     ]
    }
   ],
   "source": [
    "dtree_accuracy_trigram = accuracy_score(y_pred=dtree_pred_trigram, y_true=test25_target)\n",
    "print('Accuracy_trigram: ',dtree_accuracy_trigram)"
   ]
  },
  {
   "cell_type": "code",
   "execution_count": 65,
   "metadata": {},
   "outputs": [
    {
     "name": "stdout",
     "output_type": "stream",
     "text": [
      "Accuracy:  0.9689265536723164\n"
     ]
    }
   ],
   "source": [
    "#Applying SVM Classification on trigram data\n",
    "from sklearn import svm\n",
    "SVM = svm.SVC(C=0.3, kernel='linear', degree=3, gamma='auto')\n",
    "trigram_svm = SVM.fit(train25_trans_trigram,train25_target)\n",
    "trigram_svm_pred = SVM.predict(test25_trans_trigram)\n",
    "# bow_svm_pred\n",
    "trigram_svm_accuracy=accuracy_score(y_pred=trigram_svm_pred, y_true=test25_target)\n",
    "print('Accuracy: ',trigram_svm_accuracy)"
   ]
  },
  {
   "cell_type": "code",
   "execution_count": null,
   "metadata": {},
   "outputs": [],
   "source": []
  },
  {
   "cell_type": "code",
   "execution_count": 68,
   "metadata": {},
   "outputs": [],
   "source": [
    "#Creating the dataframe for applying Clustering \n",
    "data4 = pd.read_excel(r'C:\\Users\\GB656\\Desktop\\sensedataset.xlsx')\n",
    "# data4.head()"
   ]
  },
  {
   "cell_type": "code",
   "execution_count": 69,
   "metadata": {},
   "outputs": [],
   "source": [
    "# Categorizing the labels with numbers \n",
    "data4.loc[data4.label =='shopping', 'label'] = 1\n",
    "data4.loc[data4.label =='hobbies', 'label'] = 2\n",
    "data4.loc[data4.label =='medical', 'label'] = 3\n",
    "data4.loc[data4.label =='netbanking', 'label'] = 4\n",
    "data4.loc[data4.label =='search for places', 'label'] = 5\n",
    "data4.loc[data4.label =='social network', 'label'] = 6\n",
    "data4.loc[data4.label =='study', 'label'] = 7\n",
    "data4.loc[data4.label =='travel', 'label'] = 8\n",
    "data4.loc[data4.label =='weather', 'label'] = 9"
   ]
  },
  {
   "cell_type": "code",
   "execution_count": 70,
   "metadata": {},
   "outputs": [
    {
     "data": {
      "text/html": [
       "<div>\n",
       "<style scoped>\n",
       "    .dataframe tbody tr th:only-of-type {\n",
       "        vertical-align: middle;\n",
       "    }\n",
       "\n",
       "    .dataframe tbody tr th {\n",
       "        vertical-align: top;\n",
       "    }\n",
       "\n",
       "    .dataframe thead th {\n",
       "        text-align: right;\n",
       "    }\n",
       "</style>\n",
       "<table border=\"1\" class=\"dataframe\">\n",
       "  <thead>\n",
       "    <tr style=\"text-align: right;\">\n",
       "      <th></th>\n",
       "      <th>label</th>\n",
       "      <th>id</th>\n",
       "      <th>text</th>\n",
       "      <th>url</th>\n",
       "      <th>type</th>\n",
       "      <th>time</th>\n",
       "      <th>seen</th>\n",
       "      <th>label1</th>\n",
       "      <th>label2</th>\n",
       "      <th>label3</th>\n",
       "    </tr>\n",
       "  </thead>\n",
       "  <tbody>\n",
       "    <tr>\n",
       "      <th>0</th>\n",
       "      <td>1</td>\n",
       "      <td>642</td>\n",
       "      <td>642</td>\n",
       "      <td>642</td>\n",
       "      <td>642</td>\n",
       "      <td>642</td>\n",
       "      <td>642</td>\n",
       "      <td>275</td>\n",
       "      <td>164</td>\n",
       "      <td>273</td>\n",
       "    </tr>\n",
       "    <tr>\n",
       "      <th>1</th>\n",
       "      <td>2</td>\n",
       "      <td>25</td>\n",
       "      <td>25</td>\n",
       "      <td>25</td>\n",
       "      <td>25</td>\n",
       "      <td>25</td>\n",
       "      <td>25</td>\n",
       "      <td>0</td>\n",
       "      <td>0</td>\n",
       "      <td>0</td>\n",
       "    </tr>\n",
       "    <tr>\n",
       "      <th>2</th>\n",
       "      <td>3</td>\n",
       "      <td>45</td>\n",
       "      <td>45</td>\n",
       "      <td>45</td>\n",
       "      <td>45</td>\n",
       "      <td>45</td>\n",
       "      <td>45</td>\n",
       "      <td>0</td>\n",
       "      <td>0</td>\n",
       "      <td>0</td>\n",
       "    </tr>\n",
       "    <tr>\n",
       "      <th>3</th>\n",
       "      <td>4</td>\n",
       "      <td>17</td>\n",
       "      <td>17</td>\n",
       "      <td>17</td>\n",
       "      <td>17</td>\n",
       "      <td>17</td>\n",
       "      <td>17</td>\n",
       "      <td>0</td>\n",
       "      <td>0</td>\n",
       "      <td>0</td>\n",
       "    </tr>\n",
       "    <tr>\n",
       "      <th>4</th>\n",
       "      <td>5</td>\n",
       "      <td>20</td>\n",
       "      <td>20</td>\n",
       "      <td>20</td>\n",
       "      <td>20</td>\n",
       "      <td>20</td>\n",
       "      <td>20</td>\n",
       "      <td>0</td>\n",
       "      <td>0</td>\n",
       "      <td>0</td>\n",
       "    </tr>\n",
       "    <tr>\n",
       "      <th>5</th>\n",
       "      <td>6</td>\n",
       "      <td>67</td>\n",
       "      <td>67</td>\n",
       "      <td>67</td>\n",
       "      <td>67</td>\n",
       "      <td>67</td>\n",
       "      <td>67</td>\n",
       "      <td>0</td>\n",
       "      <td>0</td>\n",
       "      <td>0</td>\n",
       "    </tr>\n",
       "    <tr>\n",
       "      <th>6</th>\n",
       "      <td>7</td>\n",
       "      <td>109</td>\n",
       "      <td>109</td>\n",
       "      <td>109</td>\n",
       "      <td>109</td>\n",
       "      <td>109</td>\n",
       "      <td>109</td>\n",
       "      <td>0</td>\n",
       "      <td>0</td>\n",
       "      <td>0</td>\n",
       "    </tr>\n",
       "    <tr>\n",
       "      <th>7</th>\n",
       "      <td>8</td>\n",
       "      <td>211</td>\n",
       "      <td>211</td>\n",
       "      <td>211</td>\n",
       "      <td>211</td>\n",
       "      <td>211</td>\n",
       "      <td>211</td>\n",
       "      <td>39</td>\n",
       "      <td>21</td>\n",
       "      <td>22</td>\n",
       "    </tr>\n",
       "    <tr>\n",
       "      <th>8</th>\n",
       "      <td>9</td>\n",
       "      <td>42</td>\n",
       "      <td>42</td>\n",
       "      <td>37</td>\n",
       "      <td>42</td>\n",
       "      <td>42</td>\n",
       "      <td>42</td>\n",
       "      <td>0</td>\n",
       "      <td>0</td>\n",
       "      <td>0</td>\n",
       "    </tr>\n",
       "  </tbody>\n",
       "</table>\n",
       "</div>"
      ],
      "text/plain": [
       "   label   id  text  url  type  time  seen  label1  label2  label3\n",
       "0      1  642   642  642   642   642   642     275     164     273\n",
       "1      2   25    25   25    25    25    25       0       0       0\n",
       "2      3   45    45   45    45    45    45       0       0       0\n",
       "3      4   17    17   17    17    17    17       0       0       0\n",
       "4      5   20    20   20    20    20    20       0       0       0\n",
       "5      6   67    67   67    67    67    67       0       0       0\n",
       "6      7  109   109  109   109   109   109       0       0       0\n",
       "7      8  211   211  211   211   211   211      39      21      22\n",
       "8      9   42    42   37    42    42    42       0       0       0"
      ]
     },
     "execution_count": 70,
     "metadata": {},
     "output_type": "execute_result"
    }
   ],
   "source": [
    "#Visualising the labels with other columns\n",
    "data4.groupby('label',as_index=False).count()\n"
   ]
  },
  {
   "cell_type": "code",
   "execution_count": 71,
   "metadata": {},
   "outputs": [
    {
     "data": {
      "text/html": [
       "<div>\n",
       "<style scoped>\n",
       "    .dataframe tbody tr th:only-of-type {\n",
       "        vertical-align: middle;\n",
       "    }\n",
       "\n",
       "    .dataframe tbody tr th {\n",
       "        vertical-align: top;\n",
       "    }\n",
       "\n",
       "    .dataframe thead th {\n",
       "        text-align: right;\n",
       "    }\n",
       "</style>\n",
       "<table border=\"1\" class=\"dataframe\">\n",
       "  <thead>\n",
       "    <tr style=\"text-align: right;\">\n",
       "      <th></th>\n",
       "      <th>label</th>\n",
       "      <th>id</th>\n",
       "      <th>text</th>\n",
       "      <th>url</th>\n",
       "      <th>type</th>\n",
       "      <th>time</th>\n",
       "      <th>seen</th>\n",
       "      <th>label1</th>\n",
       "      <th>label2</th>\n",
       "      <th>label3</th>\n",
       "      <th>text_clean</th>\n",
       "      <th>text_remove_stopwords</th>\n",
       "    </tr>\n",
       "  </thead>\n",
       "  <tbody>\n",
       "    <tr>\n",
       "      <th>0</th>\n",
       "      <td>1</td>\n",
       "      <td>1529005370661</td>\n",
       "      <td>iphone x plus</td>\n",
       "      <td>https://www.google.co.in/search?q=iphone+x+plu...</td>\n",
       "      <td>search</td>\n",
       "      <td>2018-06-14T19:42:50.661Z</td>\n",
       "      <td>True</td>\n",
       "      <td>NaN</td>\n",
       "      <td>NaN</td>\n",
       "      <td>NaN</td>\n",
       "      <td>iphone x plus</td>\n",
       "      <td>iphone x plus</td>\n",
       "    </tr>\n",
       "    <tr>\n",
       "      <th>1</th>\n",
       "      <td>1</td>\n",
       "      <td>1529005417834</td>\n",
       "      <td>iphone x plus amazon</td>\n",
       "      <td>https://www.google.co.in/search?ei=O8UiW92GHZP...</td>\n",
       "      <td>search</td>\n",
       "      <td>2018-06-14T19:43:37.834Z</td>\n",
       "      <td>True</td>\n",
       "      <td>NaN</td>\n",
       "      <td>NaN</td>\n",
       "      <td>NaN</td>\n",
       "      <td>iphone x plus amazon</td>\n",
       "      <td>iphone x plus amazon</td>\n",
       "    </tr>\n",
       "    <tr>\n",
       "      <th>2</th>\n",
       "      <td>1</td>\n",
       "      <td>1529005428970</td>\n",
       "      <td>Apple iPhone X (Space Grey, 256GB): Amazon.in:...</td>\n",
       "      <td>https://www.amazon.in/Apple-iPhone-Space-Grey-...</td>\n",
       "      <td>link</td>\n",
       "      <td>2018-06-14T19:43:48.970Z</td>\n",
       "      <td>True</td>\n",
       "      <td>NaN</td>\n",
       "      <td>NaN</td>\n",
       "      <td>NaN</td>\n",
       "      <td>apple iphone x space grey gb amazon in electro...</td>\n",
       "      <td>apple iphone x space grey gb amazon electronics</td>\n",
       "    </tr>\n",
       "    <tr>\n",
       "      <th>3</th>\n",
       "      <td>1</td>\n",
       "      <td>1529005457957</td>\n",
       "      <td>Apple iPhone 8 Plus (Gold, 256GB): Amazon.in: ...</td>\n",
       "      <td>https://www.amazon.in/Apple-iPhone-Plus-Gold-2...</td>\n",
       "      <td>link</td>\n",
       "      <td>2018-06-14T19:44:17.957Z</td>\n",
       "      <td>True</td>\n",
       "      <td>NaN</td>\n",
       "      <td>NaN</td>\n",
       "      <td>NaN</td>\n",
       "      <td>apple iphone plus gold gb amazon in electronics</td>\n",
       "      <td>apple iphone plus gold gb amazon electronics</td>\n",
       "    </tr>\n",
       "    <tr>\n",
       "      <th>4</th>\n",
       "      <td>1</td>\n",
       "      <td>1529005482407</td>\n",
       "      <td>Apple iPhone X (Silver, 256GB): Amazon.in: Ele...</td>\n",
       "      <td>https://www.amazon.in/Apple-iPhone-X-Silver-25...</td>\n",
       "      <td>link</td>\n",
       "      <td>2018-06-14T19:44:42.407Z</td>\n",
       "      <td>True</td>\n",
       "      <td>NaN</td>\n",
       "      <td>NaN</td>\n",
       "      <td>NaN</td>\n",
       "      <td>apple iphone x silver gb amazon in electronics</td>\n",
       "      <td>apple iphone x silver gb amazon electronics</td>\n",
       "    </tr>\n",
       "  </tbody>\n",
       "</table>\n",
       "</div>"
      ],
      "text/plain": [
       "   label             id                                               text  \\\n",
       "0      1  1529005370661                                      iphone x plus   \n",
       "1      1  1529005417834                               iphone x plus amazon   \n",
       "2      1  1529005428970  Apple iPhone X (Space Grey, 256GB): Amazon.in:...   \n",
       "3      1  1529005457957  Apple iPhone 8 Plus (Gold, 256GB): Amazon.in: ...   \n",
       "4      1  1529005482407  Apple iPhone X (Silver, 256GB): Amazon.in: Ele...   \n",
       "\n",
       "                                                 url    type  \\\n",
       "0  https://www.google.co.in/search?q=iphone+x+plu...  search   \n",
       "1  https://www.google.co.in/search?ei=O8UiW92GHZP...  search   \n",
       "2  https://www.amazon.in/Apple-iPhone-Space-Grey-...    link   \n",
       "3  https://www.amazon.in/Apple-iPhone-Plus-Gold-2...    link   \n",
       "4  https://www.amazon.in/Apple-iPhone-X-Silver-25...    link   \n",
       "\n",
       "                       time  seen label1 label2 label3  \\\n",
       "0  2018-06-14T19:42:50.661Z  True    NaN    NaN    NaN   \n",
       "1  2018-06-14T19:43:37.834Z  True    NaN    NaN    NaN   \n",
       "2  2018-06-14T19:43:48.970Z  True    NaN    NaN    NaN   \n",
       "3  2018-06-14T19:44:17.957Z  True    NaN    NaN    NaN   \n",
       "4  2018-06-14T19:44:42.407Z  True    NaN    NaN    NaN   \n",
       "\n",
       "                                          text_clean  \\\n",
       "0                                      iphone x plus   \n",
       "1                               iphone x plus amazon   \n",
       "2  apple iphone x space grey gb amazon in electro...   \n",
       "3    apple iphone plus gold gb amazon in electronics   \n",
       "4     apple iphone x silver gb amazon in electronics   \n",
       "\n",
       "                             text_remove_stopwords  \n",
       "0                                    iphone x plus  \n",
       "1                             iphone x plus amazon  \n",
       "2  apple iphone x space grey gb amazon electronics  \n",
       "3     apple iphone plus gold gb amazon electronics  \n",
       "4      apple iphone x silver gb amazon electronics  "
      ]
     },
     "execution_count": 71,
     "metadata": {},
     "output_type": "execute_result"
    }
   ],
   "source": [
    "#Applying above made functions on the 'text' column of the new copy of the dataset 'data3'.\n",
    "data4[\"text\"] = data4[\"text\"].astype(str)\n",
    "data4[\"text_clean\"] = data4[\"text\"].apply(lambda x:remove_punctuations_from_string(x))\n",
    "data4[\"text_remove_stopwords\"] = data4[\"text_clean\"].apply(lambda x:remove_stopwords_from_string(x))\n",
    "data4[\"text_clean\"] = data4[\"text_clean\"].apply(lambda x:remove_space_from_string(x))\n",
    "data4[\"text_remove_stopwords\"] = data4[\"text_remove_stopwords\"].apply(lambda x:remove_space_from_string(x))\n",
    "data4.head()"
   ]
  },
  {
   "cell_type": "code",
   "execution_count": null,
   "metadata": {},
   "outputs": [],
   "source": []
  },
  {
   "cell_type": "code",
   "execution_count": 72,
   "metadata": {},
   "outputs": [
    {
     "name": "stdout",
     "output_type": "stream",
     "text": [
      "(824, 1135)\n",
      "1135\n"
     ]
    },
    {
     "data": {
      "text/plain": [
       "<824x1135 sparse matrix of type '<class 'numpy.float64'>'\n",
       "\twith 5151 stored elements in Compressed Sparse Row format>"
      ]
     },
     "execution_count": 72,
     "metadata": {},
     "output_type": "execute_result"
    }
   ],
   "source": [
    "#Clustering with KMeans\n",
    "\n",
    "#Splitting the data to test and tarin\n",
    "train52, test52, train52_target, test52_target = train_test_split(data4['text_remove_stopwords'],data4['label'], test_size=0.2)\n",
    "\n",
    "#Creating vectors of tfidf data\n",
    "vector5 = TfidfVectorizer()\n",
    "train52_trans_tfidf = vector5.fit_transform(train25)\n",
    "print(train52_trans_tfidf.shape)\n",
    "print (len(vector5.get_feature_names()))\n",
    "# print(vector2.get_feature_names())\n",
    "\n",
    "train52_trans_tfidf\n"
   ]
  },
  {
   "cell_type": "code",
   "execution_count": 73,
   "metadata": {},
   "outputs": [],
   "source": [
    "#Transforming the test data\n",
    "test52_trans = vector.transform(test52)"
   ]
  },
  {
   "cell_type": "code",
   "execution_count": 74,
   "metadata": {},
   "outputs": [
    {
     "data": {
      "text/plain": [
       "KMeans(algorithm='auto', copy_x=True, init='k-means++', max_iter=100,\n",
       "       n_clusters=9, n_init=1, n_jobs=None, precompute_distances='auto',\n",
       "       random_state=None, tol=0.0001, verbose=0)"
      ]
     },
     "execution_count": 74,
     "metadata": {},
     "output_type": "execute_result"
    }
   ],
   "source": [
    "#Fit KMeans model on the data\n",
    "from sklearn.cluster import KMeans\n",
    "true_k = 9\n",
    "model = KMeans(n_clusters=true_k, init='k-means++', max_iter=100, n_init=1)\n",
    "model.fit(train52_trans_tfidf)"
   ]
  },
  {
   "cell_type": "code",
   "execution_count": 75,
   "metadata": {},
   "outputs": [],
   "source": [
    "order_centroids = model.cluster_centers_.argsort()[:, ::-1]\n",
    "terms = vector5.get_feature_names()"
   ]
  },
  {
   "cell_type": "code",
   "execution_count": 76,
   "metadata": {},
   "outputs": [
    {
     "data": {
      "text/plain": [
       "array([[ 378,  583,  405, ...,  747,  746,    0],\n",
       "       [  25,  559, 1039, ...,  611,  612,  152],\n",
       "       [ 683,  780,  119, ...,  709,  708,    0],\n",
       "       ...,\n",
       "       [ 341,  440,  278, ...,  748,  747,    0],\n",
       "       [ 520,  365,  272, ...,  742,  741,    0],\n",
       "       [1117,  950, 1001, ...,  731,  730,    0]], dtype=int64)"
      ]
     },
     "execution_count": 76,
     "metadata": {},
     "output_type": "execute_result"
    }
   ],
   "source": [
    "order_centroids\n",
    "# terms"
   ]
  },
  {
   "cell_type": "code",
   "execution_count": 77,
   "metadata": {},
   "outputs": [
    {
     "name": "stdout",
     "output_type": "stream",
     "text": [
      "Cluster  0\n",
      "google\n",
      "maps\n",
      "hangouts\n",
      "mussourie\n",
      "linkedin\n",
      "accounts\n",
      "flights\n",
      "jobs\n",
      "weather\n",
      "overview\n",
      "Cluster  1\n",
      "amazon\n",
      "london\n",
      "uk\n",
      "co\n",
      "cafes\n",
      "microphone\n",
      "usb\n",
      "rs\n",
      "musical\n",
      "instruments\n",
      "Cluster  2\n",
      "online\n",
      "psychology\n",
      "buy\n",
      "india\n",
      "prices\n",
      "low\n",
      "sneakers\n",
      "coursera\n",
      "craft\n",
      "amazon\n",
      "Cluster  3\n",
      "scotland\n",
      "trip\n",
      "locations\n",
      "outlander\n",
      "film\n",
      "tours\n",
      "package\n",
      "mussoorie\n",
      "highlands\n",
      "fh\n",
      "Cluster  4\n",
      "dresses\n",
      "men\n",
      "online\n",
      "shop\n",
      "sneakers\n",
      "colors\n",
      "benetton\n",
      "casual\n",
      "united\n",
      "buy\n",
      "Cluster  5\n",
      "hampstead\n",
      "museum\n",
      "burgh\n",
      "house\n",
      "cafe\n",
      "collection\n",
      "menus\n",
      "lantana\n",
      "buttery\n",
      "visit\n",
      "Cluster  6\n",
      "foods\n",
      "hypothyroidism\n",
      "eat\n",
      "everyday\n",
      "health\n",
      "avoid\n",
      "diet\n",
      "best\n",
      "zero\n",
      "gmail\n",
      "Cluster  7\n",
      "ladies\n",
      "gb\n",
      "dress\n",
      "wrap\n",
      "black\n",
      "jersey\n",
      "sweatshirt\n",
      "spotted\n",
      "pink\n",
      "green\n",
      "Cluster  8\n",
      "women\n",
      "sunglasses\n",
      "top\n",
      "shirts\n",
      "reviews\n",
      "myntra\n",
      "buy\n",
      "shirt\n",
      "tops\n",
      "mic\n"
     ]
    }
   ],
   "source": [
    "#Check clusters created by the model\n",
    "\n",
    "for i in range(true_k):\n",
    "    print('Cluster ', i)\n",
    "    for ind in order_centroids[i, :10]:\n",
    "        print(terms[ind])"
   ]
  },
  {
   "cell_type": "code",
   "execution_count": 78,
   "metadata": {},
   "outputs": [
    {
     "name": "stdout",
     "output_type": "stream",
     "text": [
      "[2 1 4 1 2 1 2 8 1 1 1 2 1 1 1 8 3 3 8 1 1 1 3 1 1 0 1 1 1 8 2 1 1 1 7 3 8\n",
      " 1 1 2 2 1 1 1 1 8 1 1 1 1 5 1 1 1 2 2 2 3 2 2 5 1 0 1 1 1 4 1 4 1 1 1 1 1\n",
      " 1 5 1 1 1 4 1 1 1 1 1 2 1 1 1 2 1 1 1 1 1 1 7 2 8 3 1 2 8 1 1 4 5 2 1 4 7\n",
      " 1 1 7 3 1 7 1 4 1 1 4 7 1 4 1 2 2 1 3 4 2 1 2 6 1 1 1 6 1 1 2 1 1 1 0 1 1\n",
      " 1 1 5 4 1 0 1 1 1 1 1 1 7 1 1 1 1 4 7 5 2 7 1 1 1 1 2 1 1 1 1 1 1 1 6 1 1\n",
      " 1 1 1 7 1 2 1 1 4 1 1 7 1 1 1 3 8 1 0 2 1 1 1 1 1 1 8 1 2 1 5 1 1 1 4 8 1\n",
      " 7 1 1 4 8 1 1 3 1 7 1 2 2 1]\n"
     ]
    }
   ],
   "source": [
    "# Predicted output\n",
    "predicted = model.predict(test52_trans)\n",
    "print(predicted)"
   ]
  },
  {
   "cell_type": "code",
   "execution_count": 79,
   "metadata": {},
   "outputs": [
    {
     "data": {
      "text/plain": [
       "-0.056340176814405285"
      ]
     },
     "execution_count": 79,
     "metadata": {},
     "output_type": "execute_result"
    }
   ],
   "source": [
    "# Evaluate Clustering with actual test target data\n",
    "metrics.adjusted_rand_score(test52_target, predicted)  \n"
   ]
  },
  {
   "cell_type": "code",
   "execution_count": null,
   "metadata": {},
   "outputs": [],
   "source": []
  },
  {
   "cell_type": "code",
   "execution_count": null,
   "metadata": {},
   "outputs": [],
   "source": []
  },
  {
   "cell_type": "code",
   "execution_count": 89,
   "metadata": {},
   "outputs": [
    {
     "name": "stdout",
     "output_type": "stream",
     "text": [
      "<class 'bs4.BeautifulSoup'>\n"
     ]
    }
   ],
   "source": [
    "## Web Crawling\n",
    "\n",
    "from bs4 import BeautifulSoup\n",
    "import urllib\n",
    "soup = BeautifulSoup(urllib.request.urlopen('https://www.flipkart.com/puma-slyde-nu-idp-sneakers-men/p/itmf3xxcvu8fwgcp?pid=SHOF32HGW4SNK2DM&lid=LSTSHOF32HGW4SNK2DM6XG3EX&marketplace=FLIPKART&srno=b_1_12&otracker=browse&fm=organic&iid=5285686d-f13b-435f-9276-231e9d39f021.SHOF32HGW4SNK2DM.SEARCH&ppt=Store%20Browse&ppn=Store').read())\n",
    "print (type(soup))\n",
    "\n",
    "#Below will show the raw file fetched from the internet\n",
    "#soup"
   ]
  },
  {
   "cell_type": "code",
   "execution_count": 81,
   "metadata": {},
   "outputs": [
    {
     "data": {
      "text/plain": [
       "\"             Explore   Plus                                  Login   Signup          More                    Cart                                                                                                             NOTIFY ME  Get notified when this item comes back in stock.          Big Shopping Days start in :   01  days   20  hrs :   03  mins :   54  secs          Home        Footwear        Men's Footwear        Casual Shoes        Puma Casual Shoes          Puma Slyde NU IDP Sneakers For Men (Blue) \\n                   Share            Puma\\xa0  Slyde NU IDP Sneakers For Men \\xa0\\xa0(Blue)       ₹1,949  ₹ 2,999   35% off             4.2     12,203 ratings and 1,911 reviews            Sold Out  This item is currently out of stock           This is a genuine product of Puma Sports India Pvt Ltd. The product comes with a standard brand warranty of 90 days. Know More                Color          Black           Black-Cherry Tomato           Black-Electric Blue Lemonade           Blue           Blue Depths-Lapis Blue           Blue Depths-Lapis blue           Golden Brown-Chocolate Brown           MYKONOS BLUE-NRGY YELLOW-WHITE           Olive Night           Peacoat-Infinity           Puma Black-Electric Blue Lemonade           QUIET SHADE-Peacoat           Tibetan Red-Cherry Tomato        Please select a Color to proceed  ✕       Size- UK/India    4   4     6   Euro 39      7   Euro 40.5      8   Euro 42      9   Euro 43      10   Euro 44.5      11   Euro 46      12   12      Size Chart         Please select a Size- UK/India to proceed  ✕      💡  Tip :  This product runs a size larger. If you usually buy UK 10, buy UK 9 for this.          Read all details                      Product Details          Color  Blue    Outer Material  Fabric    Model Name  Slyde NU IDP    Ideal For  Men    Occasion  Casual    Sole Material  Rubber    Closure  Lace-Ups    Style  Panel and Stitch Detail, Loop at Ankle    Tip Shape  Round    Season  SS 18   Manufacturing, Packaging and Import Info   Read More          Ratings   Reviews    4.2     12,203 ratings and 1,911 reviews      Rate Product        What our customers felt:        Look    Comfort           Colour        Images uploaded by customers:            +  179             5   it's really amazing product I love it..and fast delivery..      but packing is not good.....   READ MORE                  Vãrùñ Gøwdâ  Jun, 2018          152        24         Permalink     Report Abuse                 Certified Buyer  , Chikkamagaluru             5   Nice product... It is very good looking, stylish and comfortable in affordable price...Can go for it   READ MORE            Flipkart Customer  Jun, 2018          15        0         Permalink     Report Abuse                 Certified Buyer  , Pune             5   Mind blowing shoes   READ MORE                    Anwar Ansari  Oct, 2018          72        10         Permalink     Report Abuse                 Certified Buyer  , Kodad          All 1911 reviews           Questions and Answers          Q:  Suitable to ware with?     A:  casual      Anonymous           Certified Buyer         70        12        Report Abuse            Q:  without socks can i use ????     A:  yes.      Anonymous           Certified Buyer         64        14        Report Abuse            Q:  It is in light weight     A:  yes      Anonymous           Certified Buyer         40        8        Report Abuse       Read other answers      All questions                           You might be interested in                 Sports Shoes  Min 40% off   Shop Now                  Formal Shoes  Min 50% off   Shop Now                  Slippers   Flip Flops  Min 50% off   Shop Now                  Sandals   Floaters  Min 30% off   Shop Now                                       Top Stories : Brand Directory    MOST SEARCHED IN Footwear :  ADIDAS NEO INDIA  CONVERSE SHOES INDIA  SCHOLL INDIA  F SPORTS SHOES  KHADIM SHOES  ACTION SHOES ONLINE  BATA SHOES PRICE  MENS LOAFERS  CLOGS  BATA FORMAL SHOES  FORMAL LEATHER SHOES  MENS SHOES ONLINE  PUMA FOOTWEAR  ADIDAS FLOATERS  SPARX FLOATERS  ADIDAS FLIP FLOPS  ADIDAS SHOES PRICE  CRICKET SHOES  PUMA BMW SHOES  BROWN FORMAL SHOES  CHELSEA BOOTS  FILA SHOES  RED SNEAKERS  WHITE SHOES FOR WOMEN  LADIES BOOTS  HIGH HILLS  FOOTWEAR ONLINE INDIA  SPORT SHOES FOR WOMEN  FORMAL BOOTS        ABOUT  Contact Us  About Us  Careers  Flipkart Stories  Press    HELP  Payments  Shipping  Cancellation   Returns  FAQ  Report Infringement    POLICY  Return Policy  Terms Of Use  Security  Privacy  Sitemap  EPR Compliance    SOCIAL  Facebook  Twitter  YouTube      Mail Us:      Flipkart Internet Private Limited,  \\n  Buildings Alyssa, Begonia    \\n  Clove Embassy Tech Village,  \\n  Outer Ring Road, Devarabeesanahalli Village,  \\n  Bengaluru, 560103,  \\n  Karnataka, India. \\n         Registered Office Address:      Flipkart Internet Private Limited,  \\n  Buildings Alyssa, Begonia    \\n  Clove Embassy Tech Village,  \\n  Outer Ring Road, Devarabeesanahalli Village,  \\n  Bengaluru, 560103,  \\n  Karnataka, India  \\n  CIN : U51109KA2012PTC066107  \\n  Telephone:  1800 208 9898  \\n            Sell On Flipkart       Advertise       Gift Cards       Help Center    © 2007- 2019   Flipkart.com.               Back to top     \""
      ]
     },
     "execution_count": 81,
     "metadata": {},
     "output_type": "execute_result"
    }
   ],
   "source": [
    "#Remove Tags and special characters\n",
    "\n",
    "tags = re.compile('<.*?>|&([a-z0-9]+|#[0-9]{1,6}|#x[0-9a-f]{1,6});')\n",
    "\n",
    "def remove_tags(text):\n",
    "    return tags.sub(' ', text)\n",
    "\n",
    "# type(soup)\n",
    "\n",
    "#Fetch the div data in the crawled web page\n",
    "\n",
    "soup_to_str=str(soup.div)\n",
    "type(soup_to_str)\n",
    "soup_to_str\n",
    "\n",
    "soup_clean=remove_tags(soup_to_str)\n",
    "soup_clean\n",
    "\n"
   ]
  },
  {
   "cell_type": "code",
   "execution_count": 82,
   "metadata": {},
   "outputs": [
    {
     "data": {
      "text/plain": [
       "<title>Puma Slyde NU IDP Sneakers For Men - Buy Peacoat-Infinity Color Puma Slyde NU IDP Sneakers For Men Online at Best Price - Shop Online for Footwears in India | Flipkart.com</title>"
      ]
     },
     "execution_count": 82,
     "metadata": {},
     "output_type": "execute_result"
    }
   ],
   "source": [
    "soup.title"
   ]
  },
  {
   "cell_type": "code",
   "execution_count": 83,
   "metadata": {},
   "outputs": [
    {
     "name": "stdout",
     "output_type": "stream",
     "text": [
      " explore plus login signup cart notify get notified item comes back stock big shopping days start days hrs mins secs home footwear men footwear casual shoes puma casual shoes puma slyde nu idp sneakers men blue share puma slyde nu idp sneakers men blue ₹ ₹ ratings reviews sold item currently stock genuine product puma sports india pvt ltd product comes standard brand warranty days know color black black cherry tomato black electric blue lemonade blue blue depths lapis blue blue depths lapis blue golden brown chocolate brown mykonos blue nrgy yellow white olive night peacoat infinity puma black electric blue lemonade quiet shade peacoat tibetan red cherry tomato please select color proceed ✕ size uk india euro euro euro euro euro euro size chart please select size uk india proceed ✕ 💡 tip product runs size larger usually buy uk buy uk read details product details color blue outer material fabric model name slyde nu idp ideal men occasion casual sole material rubber closure lace ups style panel stitch detail loop ankle tip shape round season ss manufacturing packaging import info read ratings reviews ratings reviews rate product customers felt look comfort colour images uploaded customers really amazing product love fast delivery packing good read vãrùñ gøwdâ jun permalink report abuse certified buyer chikkamagaluru nice product good looking stylish comfortable affordable price go read flipkart customer jun permalink report abuse certified buyer pune mind blowing shoes read anwar ansari oct permalink report abuse certified buyer kodad reviews questions answers q suitable ware casual anonymous certified buyer report abuse q without socks use yes anonymous certified buyer report abuse q light weight yes anonymous certified buyer report abuse read answers questions might interested sports shoes min shop formal shoes min shop slippers flip flops min shop sandals floaters min shop top stories brand directory searched footwear adidas neo india converse shoes india scholl india f sports shoes khadim shoes action shoes online bata shoes price mens loafers clogs bata formal shoes formal leather shoes mens shoes online puma footwear adidas floaters sparx floaters adidas flip flops adidas shoes price cricket shoes puma bmw shoes brown formal shoes chelsea boots fila shoes red sneakers white shoes women ladies boots high hills footwear online india sport shoes women formal boots contact us us careers flipkart stories press help payments shipping cancellation returns faq report infringement policy return policy terms use security privacy sitemap epr compliance social facebook twitter youtube mail us flipkart internet private limited buildings alyssa begonia clove embassy tech village outer ring road devarabeesanahalli village bengaluru karnataka india registered office address flipkart internet private limited buildings alyssa begonia clove embassy tech village outer ring road devarabeesanahalli village bengaluru karnataka india cin ukaptc telephone sell flipkart advertise gift cards help center © flipkart com back top \n"
     ]
    }
   ],
   "source": [
    "#Remove punctuations, stopwords and spaces from string\n",
    "\n",
    "# type(soup_clean)\n",
    "test99=soup_clean\n",
    "\n",
    "test99 = remove_punctuations_from_string(test99)\n",
    "test99 = remove_stopwords_from_string(test99)\n",
    "test99 = remove_space_from_string(test99)\n",
    "\n",
    "print(test99)"
   ]
  },
  {
   "cell_type": "code",
   "execution_count": 84,
   "metadata": {},
   "outputs": [
    {
     "data": {
      "text/plain": [
       "['',\n",
       " 'explore',\n",
       " 'plus',\n",
       " 'login',\n",
       " 'signup',\n",
       " 'cart',\n",
       " 'notify',\n",
       " 'get',\n",
       " 'notified',\n",
       " 'item',\n",
       " 'come',\n",
       " 'back',\n",
       " 'stock',\n",
       " 'big',\n",
       " 'shopping',\n",
       " 'day',\n",
       " 'start',\n",
       " 'day',\n",
       " 'hr',\n",
       " 'min',\n",
       " 'sec',\n",
       " 'home',\n",
       " 'footwear',\n",
       " 'men',\n",
       " 'footwear',\n",
       " 'casual',\n",
       " 'shoe',\n",
       " 'puma',\n",
       " 'casual',\n",
       " 'shoe',\n",
       " 'puma',\n",
       " 'slyde',\n",
       " 'nu',\n",
       " 'idp',\n",
       " 'sneaker',\n",
       " 'men',\n",
       " 'blue',\n",
       " 'share',\n",
       " 'puma',\n",
       " 'slyde',\n",
       " 'nu',\n",
       " 'idp',\n",
       " 'sneaker',\n",
       " 'men',\n",
       " 'blue',\n",
       " 'rating',\n",
       " 'review',\n",
       " 'sold',\n",
       " 'item',\n",
       " 'currently',\n",
       " 'stock',\n",
       " 'genuine',\n",
       " 'product',\n",
       " 'puma',\n",
       " 'sport',\n",
       " 'india',\n",
       " 'pvt',\n",
       " 'ltd',\n",
       " 'product',\n",
       " 'come',\n",
       " 'standard',\n",
       " 'brand',\n",
       " 'warranty',\n",
       " 'day',\n",
       " 'know',\n",
       " 'color',\n",
       " 'black',\n",
       " 'black',\n",
       " 'cherry',\n",
       " 'tomato',\n",
       " 'black',\n",
       " 'electric',\n",
       " 'blue',\n",
       " 'lemonade',\n",
       " 'blue',\n",
       " 'blue',\n",
       " 'depth',\n",
       " 'lapis',\n",
       " 'blue',\n",
       " 'blue',\n",
       " 'depth',\n",
       " 'lapis',\n",
       " 'blue',\n",
       " 'golden',\n",
       " 'brown',\n",
       " 'chocolate',\n",
       " 'brown',\n",
       " 'mykonos',\n",
       " 'blue',\n",
       " 'nrgy',\n",
       " 'yellow',\n",
       " 'white',\n",
       " 'olive',\n",
       " 'night',\n",
       " 'peacoat',\n",
       " 'infinity',\n",
       " 'puma',\n",
       " 'black',\n",
       " 'electric',\n",
       " 'blue',\n",
       " 'lemonade',\n",
       " 'quiet',\n",
       " 'shade',\n",
       " 'peacoat',\n",
       " 'tibetan',\n",
       " 'red',\n",
       " 'cherry',\n",
       " 'tomato',\n",
       " 'please',\n",
       " 'select',\n",
       " 'color',\n",
       " 'proceed',\n",
       " 'size',\n",
       " 'uk',\n",
       " 'india',\n",
       " 'euro',\n",
       " 'euro',\n",
       " 'euro',\n",
       " 'euro',\n",
       " 'euro',\n",
       " 'euro',\n",
       " 'size',\n",
       " 'chart',\n",
       " 'please',\n",
       " 'select',\n",
       " 'size',\n",
       " 'uk',\n",
       " 'india',\n",
       " 'proceed',\n",
       " 'tip',\n",
       " 'product',\n",
       " 'run',\n",
       " 'size',\n",
       " 'larger',\n",
       " 'usually',\n",
       " 'buy',\n",
       " 'uk',\n",
       " 'buy',\n",
       " 'uk',\n",
       " 'read',\n",
       " 'detail',\n",
       " 'product',\n",
       " 'detail',\n",
       " 'color',\n",
       " 'blue',\n",
       " 'outer',\n",
       " 'material',\n",
       " 'fabric',\n",
       " 'model',\n",
       " 'name',\n",
       " 'slyde',\n",
       " 'nu',\n",
       " 'idp',\n",
       " 'ideal',\n",
       " 'men',\n",
       " 'occasion',\n",
       " 'casual',\n",
       " 'sole',\n",
       " 'material',\n",
       " 'rubber',\n",
       " 'closure',\n",
       " 'lace',\n",
       " 'ups',\n",
       " 'style',\n",
       " 'panel',\n",
       " 'stitch',\n",
       " 'detail',\n",
       " 'loop',\n",
       " 'ankle',\n",
       " 'tip',\n",
       " 'shape',\n",
       " 'round',\n",
       " 'season',\n",
       " 's',\n",
       " 'manufacturing',\n",
       " 'packaging',\n",
       " 'import',\n",
       " 'info',\n",
       " 'read',\n",
       " 'rating',\n",
       " 'review',\n",
       " 'rating',\n",
       " 'review',\n",
       " 'rate',\n",
       " 'product',\n",
       " 'customer',\n",
       " 'felt',\n",
       " 'look',\n",
       " 'comfort',\n",
       " 'colour',\n",
       " 'image',\n",
       " 'uploaded',\n",
       " 'customer',\n",
       " 'really',\n",
       " 'amazing',\n",
       " 'product',\n",
       " 'love',\n",
       " 'fast',\n",
       " 'delivery',\n",
       " 'packing',\n",
       " 'good',\n",
       " 'read',\n",
       " 'vãrùñ',\n",
       " 'gøwdâ',\n",
       " 'jun',\n",
       " 'permalink',\n",
       " 'report',\n",
       " 'abuse',\n",
       " 'certified',\n",
       " 'buyer',\n",
       " 'chikkamagaluru',\n",
       " 'nice',\n",
       " 'product',\n",
       " 'good',\n",
       " 'looking',\n",
       " 'stylish',\n",
       " 'comfortable',\n",
       " 'affordable',\n",
       " 'price',\n",
       " 'go',\n",
       " 'read',\n",
       " 'flipkart',\n",
       " 'customer',\n",
       " 'jun',\n",
       " 'permalink',\n",
       " 'report',\n",
       " 'abuse',\n",
       " 'certified',\n",
       " 'buyer',\n",
       " 'pune',\n",
       " 'mind',\n",
       " 'blowing',\n",
       " 'shoe',\n",
       " 'read',\n",
       " 'anwar',\n",
       " 'ansari',\n",
       " 'oct',\n",
       " 'permalink',\n",
       " 'report',\n",
       " 'abuse',\n",
       " 'certified',\n",
       " 'buyer',\n",
       " 'kodad',\n",
       " 'review',\n",
       " 'question',\n",
       " 'answer',\n",
       " 'q',\n",
       " 'suitable',\n",
       " 'ware',\n",
       " 'casual',\n",
       " 'anonymous',\n",
       " 'certified',\n",
       " 'buyer',\n",
       " 'report',\n",
       " 'abuse',\n",
       " 'q',\n",
       " 'without',\n",
       " 'sock',\n",
       " 'use',\n",
       " 'yes',\n",
       " 'anonymous',\n",
       " 'certified',\n",
       " 'buyer',\n",
       " 'report',\n",
       " 'abuse',\n",
       " 'q',\n",
       " 'light',\n",
       " 'weight',\n",
       " 'yes',\n",
       " 'anonymous',\n",
       " 'certified',\n",
       " 'buyer',\n",
       " 'report',\n",
       " 'abuse',\n",
       " 'read',\n",
       " 'answer',\n",
       " 'question',\n",
       " 'might',\n",
       " 'interested',\n",
       " 'sport',\n",
       " 'shoe',\n",
       " 'min',\n",
       " 'shop',\n",
       " 'formal',\n",
       " 'shoe',\n",
       " 'min',\n",
       " 'shop',\n",
       " 'slipper',\n",
       " 'flip',\n",
       " 'flop',\n",
       " 'min',\n",
       " 'shop',\n",
       " 'sandal',\n",
       " 'floater',\n",
       " 'min',\n",
       " 'shop',\n",
       " 'top',\n",
       " 'story',\n",
       " 'brand',\n",
       " 'directory',\n",
       " 'searched',\n",
       " 'footwear',\n",
       " 'adidas',\n",
       " 'neo',\n",
       " 'india',\n",
       " 'converse',\n",
       " 'shoe',\n",
       " 'india',\n",
       " 'scholl',\n",
       " 'india',\n",
       " 'f',\n",
       " 'sport',\n",
       " 'shoe',\n",
       " 'khadim',\n",
       " 'shoe',\n",
       " 'action',\n",
       " 'shoe',\n",
       " 'online',\n",
       " 'bata',\n",
       " 'shoe',\n",
       " 'price',\n",
       " 'men',\n",
       " 'loafer',\n",
       " 'clog',\n",
       " 'bata',\n",
       " 'formal',\n",
       " 'shoe',\n",
       " 'formal',\n",
       " 'leather',\n",
       " 'shoe',\n",
       " 'men',\n",
       " 'shoe',\n",
       " 'online',\n",
       " 'puma',\n",
       " 'footwear',\n",
       " 'adidas',\n",
       " 'floater',\n",
       " 'sparx',\n",
       " 'floater',\n",
       " 'adidas',\n",
       " 'flip',\n",
       " 'flop',\n",
       " 'adidas',\n",
       " 'shoe',\n",
       " 'price',\n",
       " 'cricket',\n",
       " 'shoe',\n",
       " 'puma',\n",
       " 'bmw',\n",
       " 'shoe',\n",
       " 'brown',\n",
       " 'formal',\n",
       " 'shoe',\n",
       " 'chelsea',\n",
       " 'boot',\n",
       " 'filum',\n",
       " 'shoe',\n",
       " 'red',\n",
       " 'sneaker',\n",
       " 'white',\n",
       " 'shoe',\n",
       " 'woman',\n",
       " 'lady',\n",
       " 'boot',\n",
       " 'high',\n",
       " 'hill',\n",
       " 'footwear',\n",
       " 'online',\n",
       " 'india',\n",
       " 'sport',\n",
       " 'shoe',\n",
       " 'woman',\n",
       " 'formal',\n",
       " 'boot',\n",
       " 'contact',\n",
       " 'u',\n",
       " 'u',\n",
       " 'career',\n",
       " 'flipkart',\n",
       " 'story',\n",
       " 'press',\n",
       " 'help',\n",
       " 'payment',\n",
       " 'shipping',\n",
       " 'cancellation',\n",
       " 'return',\n",
       " 'faq',\n",
       " 'report',\n",
       " 'infringement',\n",
       " 'policy',\n",
       " 'return',\n",
       " 'policy',\n",
       " 'term',\n",
       " 'use',\n",
       " 'security',\n",
       " 'privacy',\n",
       " 'sitemap',\n",
       " 'epr',\n",
       " 'compliance',\n",
       " 'social',\n",
       " 'facebook',\n",
       " 'twitter',\n",
       " 'youtube',\n",
       " 'mail',\n",
       " 'u',\n",
       " 'flipkart',\n",
       " 'internet',\n",
       " 'private',\n",
       " 'limited',\n",
       " 'building',\n",
       " 'alyssa',\n",
       " 'begonia',\n",
       " 'clove',\n",
       " 'embassy',\n",
       " 'tech',\n",
       " 'village',\n",
       " 'outer',\n",
       " 'ring',\n",
       " 'road',\n",
       " 'devarabeesanahalli',\n",
       " 'village',\n",
       " 'bengaluru',\n",
       " 'karnataka',\n",
       " 'india',\n",
       " 'registered',\n",
       " 'office',\n",
       " 'address',\n",
       " 'flipkart',\n",
       " 'internet',\n",
       " 'private',\n",
       " 'limited',\n",
       " 'building',\n",
       " 'alyssa',\n",
       " 'begonia',\n",
       " 'clove',\n",
       " 'embassy',\n",
       " 'tech',\n",
       " 'village',\n",
       " 'outer',\n",
       " 'ring',\n",
       " 'road',\n",
       " 'devarabeesanahalli',\n",
       " 'village',\n",
       " 'bengaluru',\n",
       " 'karnataka',\n",
       " 'india',\n",
       " 'cin',\n",
       " 'ukaptc',\n",
       " 'telephone',\n",
       " 'sell',\n",
       " 'flipkart',\n",
       " 'advertise',\n",
       " 'gift',\n",
       " 'card',\n",
       " 'help',\n",
       " 'center',\n",
       " 'flipkart',\n",
       " 'com',\n",
       " 'back',\n",
       " 'top',\n",
       " '']"
      ]
     },
     "execution_count": 84,
     "metadata": {},
     "output_type": "execute_result"
    }
   ],
   "source": [
    "#Tokenize and lemmatize the text\n",
    "\n",
    "test99 = tokenize(test99)\n",
    "test99 = lemmatize(test99)\n",
    "test99"
   ]
  },
  {
   "cell_type": "code",
   "execution_count": 85,
   "metadata": {},
   "outputs": [
    {
     "data": {
      "text/plain": [
       "list"
      ]
     },
     "execution_count": 85,
     "metadata": {},
     "output_type": "execute_result"
    }
   ],
   "source": [
    "type(test99)"
   ]
  },
  {
   "cell_type": "code",
   "execution_count": 86,
   "metadata": {},
   "outputs": [],
   "source": [
    "fd=nltk.FreqDist(test99)"
   ]
  },
  {
   "cell_type": "code",
   "execution_count": 87,
   "metadata": {},
   "outputs": [
    {
     "data": {
      "image/png": "[encoded data removed]",
      "text/plain": [
       "<Figure size 432x288 with 1 Axes>"
      ]
     },
     "metadata": {
      "needs_background": "light"
     },
     "output_type": "display_data"
    },
    {
     "data": {
      "text/plain": [
       "<matplotlib.axes._subplots.AxesSubplot at 0x2673ec22f98>"
      ]
     },
     "execution_count": 87,
     "metadata": {},
     "output_type": "execute_result"
    }
   ],
   "source": [
    "fd.plot(15)"
   ]
  },
  {
   "cell_type": "code",
   "execution_count": null,
   "metadata": {},
   "outputs": [],
   "source": []
  },
  {
   "cell_type": "code",
   "execution_count": null,
   "metadata": {},
   "outputs": [],
   "source": []
  }
 ],
 "metadata": {
  "kernelspec": {
   "display_name": "Python 3",
   "language": "python",
   "name": "python3"
  },
  "language_info": {
   "codemirror_mode": {
    "name": "ipython",
    "version": 3
   },
   "file_extension": ".py",
   "mimetype": "text/x-python",
   "name": "python",
   "nbconvert_exporter": "python",
   "pygments_lexer": "ipython3",
   "version": "3.7.3"
  }
 },
 "nbformat": 4,
 "nbformat_minor": 2
}
