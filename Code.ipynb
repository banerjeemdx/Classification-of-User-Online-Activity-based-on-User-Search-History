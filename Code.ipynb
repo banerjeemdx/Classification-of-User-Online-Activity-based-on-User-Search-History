{
 "cells": [
  {
   "cell_type": "markdown",
   "metadata": {},
   "source": [
    "## Classification of User Online Activity based on User Search History\n"
   ]
  },

  {
   "cell_type": "markdown",
   "metadata": {},
   "source": [
    "#### Abstract\n",
    "In this project we will try to classify the user browsing activity using machine learning techniques on the user’s clickstream data. Our data consists of text and multiple labels like Online Shopping, Net banking, Travel, etc. Firstly, we will use Natural Language Processing Techniques to preprocess the text data and then try supervised learning techniques to classify the user activity of Online Shopping. We will use multiple methods like decision tree, random forest, SVM, and MLP on the text data which will be processed to bag of words, TfIdf matrices, and Trigram matrices, then we will use evaluation methods like accuracy and confusion matrix to evaluate the results. We will also approach the problem through unsupervised learning techniques ie, clustering techniques to find out how the machine learning algorithm forms clusters on the text data. In the end, we will try to find out the intent of the search carried out by the user through web crawling techniques."
   ]
  },
  {
   "cell_type": "code",
   "execution_count": 1,
   "metadata": {},
   "outputs": [],
   "source": [
    "#As usual, in the first step we will import the libraries which we are gonna use.\n",
    "import pandas as pd #pandas will help us reading the csv data to dataframes(df) and then working on the df.\n",
    "import matplotlib.pyplot as plt #matplotlib will be used to visualize the data in the form of graphs.\n",
    "import numpy as np # linear algebra\n",
    "import string #for text pre-processing\n",
    "import re #Regular expression operations\n",
    "from sklearn.model_selection import KFold #for cross validations(CV)\n",
    "from sklearn import metrics #for getting CV score\n",
    "from collections import Counter #counting of words in the texts\n",
    "import operator\n"
   ]
  },
  {
   "cell_type": "code",
   "execution_count": 2,
   "metadata": {},
   "outputs": [
    {
     "name": "stdout",
     "output_type": "stream",
     "text": [
      "showing info https://raw.githubusercontent.com/nltk/nltk_data/gh-pages/index.xml\n"
     ]
    },
    {
     "data": {
      "text/plain": [
       "True"
      ]
     },
     "execution_count": 2,
     "metadata": {},
     "output_type": "execute_result"
    }
   ],
   "source": [
    "import nltk\n",
    "nltk.download()\n"
   ]
  },
  {
   "cell_type": "code",
   "execution_count": 3,
   "metadata": {},
   "outputs": [],
   "source": [
    "from nltk.corpus import stopwords #for removing stopwords\n",
    "from nltk import ngrams\n",
    "from nltk import word_tokenize"
   ]
  },
  {
   "cell_type": "code",
   "execution_count": 4,
   "metadata": {},
   "outputs": [],
   "source": [
    "data = pd.read_excel(r'C:\\Users\\banerjee\\Desktop\\Dissertation\\sensedataset.xlsx')"
   ]
  },
  {
   "cell_type": "code",
   "execution_count": 5,
   "metadata": {},
   "outputs": [
    {
     "data": {
      "text/plain": [
       "pandas.core.frame.DataFrame"
      ]
     },
     "execution_count": 5,
     "metadata": {},
     "output_type": "execute_result"
    }
   ],
   "source": [
    "type(data)"
   ]
  },
  {
   "cell_type": "code",
   "execution_count": 6,
   "metadata": {},
   "outputs": [
    {
     "data": {
      "text/plain": [
       "(1178, 10)"
      ]
     },
     "execution_count": 6,
     "metadata": {},
     "output_type": "execute_result"
    }
   ],
   "source": [
    "data.shape"
   ]
  },
  {
   "cell_type": "code",
   "execution_count": 7,
   "metadata": {},
   "outputs": [
    {
     "data": {
      "text/html": [
       "<div>\n",
       "<style scoped>\n",
       "    .dataframe tbody tr th:only-of-type {\n",
       "        vertical-align: middle;\n",
       "    }\n",
       "\n",
       "    .dataframe tbody tr th {\n",
       "        vertical-align: top;\n",
       "    }\n",
       "\n",
       "    .dataframe thead th {\n",
       "        text-align: right;\n",
       "    }\n",
       "</style>\n",
       "<table border=\"1\" class=\"dataframe\">\n",
       "  <thead>\n",
       "    <tr style=\"text-align: right;\">\n",
       "      <th></th>\n",
       "      <th>label</th>\n",
       "      <th>id</th>\n",
       "      <th>text</th>\n",
       "      <th>url</th>\n",
       "      <th>type</th>\n",
       "      <th>time</th>\n",
       "      <th>seen</th>\n",
       "      <th>label1</th>\n",
       "      <th>label2</th>\n",
       "      <th>label3</th>\n",
       "    </tr>\n",
       "  </thead>\n",
       "  <tbody>\n",
       "    <tr>\n",
       "      <th>0</th>\n",
       "      <td>shopping</td>\n",
       "      <td>1529005370661</td>\n",
       "      <td>iphone x plus</td>\n",
       "      <td>https://www.google.co.in/search?q=iphone+x+plu...</td>\n",
       "      <td>search</td>\n",
       "      <td>2018-06-14T19:42:50.661Z</td>\n",
       "      <td>True</td>\n",
       "      <td>NaN</td>\n",
       "      <td>NaN</td>\n",
       "      <td>NaN</td>\n",
       "    </tr>\n",
       "    <tr>\n",
       "      <th>1</th>\n",
       "      <td>shopping</td>\n",
       "      <td>1529005417834</td>\n",
       "      <td>iphone x plus amazon</td>\n",
       "      <td>https://www.google.co.in/search?ei=O8UiW92GHZP...</td>\n",
       "      <td>search</td>\n",
       "      <td>2018-06-14T19:43:37.834Z</td>\n",
       "      <td>True</td>\n",
       "      <td>NaN</td>\n",
       "      <td>NaN</td>\n",
       "      <td>NaN</td>\n",
       "    </tr>\n",
       "    <tr>\n",
       "      <th>2</th>\n",
       "      <td>shopping</td>\n",
       "      <td>1529005428970</td>\n",
       "      <td>Apple iPhone X (Space Grey, 256GB): Amazon.in:...</td>\n",
       "      <td>https://www.amazon.in/Apple-iPhone-Space-Grey-...</td>\n",
       "      <td>link</td>\n",
       "      <td>2018-06-14T19:43:48.970Z</td>\n",
       "      <td>True</td>\n",
       "      <td>NaN</td>\n",
       "      <td>NaN</td>\n",
       "      <td>NaN</td>\n",
       "    </tr>\n",
       "    <tr>\n",
       "      <th>3</th>\n",
       "      <td>shopping</td>\n",
       "      <td>1529005457957</td>\n",
       "      <td>Apple iPhone 8 Plus (Gold, 256GB): Amazon.in: ...</td>\n",
       "      <td>https://www.amazon.in/Apple-iPhone-Plus-Gold-2...</td>\n",
       "      <td>link</td>\n",
       "      <td>2018-06-14T19:44:17.957Z</td>\n",
       "      <td>True</td>\n",
       "      <td>NaN</td>\n",
       "      <td>NaN</td>\n",
       "      <td>NaN</td>\n",
       "    </tr>\n",
       "    <tr>\n",
       "      <th>4</th>\n",
       "      <td>shopping</td>\n",
       "      <td>1529005482407</td>\n",
       "      <td>Apple iPhone X (Silver, 256GB): Amazon.in: Ele...</td>\n",
       "      <td>https://www.amazon.in/Apple-iPhone-X-Silver-25...</td>\n",
       "      <td>link</td>\n",
       "      <td>2018-06-14T19:44:42.407Z</td>\n",
       "      <td>True</td>\n",
       "      <td>NaN</td>\n",
       "      <td>NaN</td>\n",
       "      <td>NaN</td>\n",
       "    </tr>\n",
       "  </tbody>\n",
       "</table>\n",
       "</div>"
      ],
      "text/plain": [
       "      label             id                                               text  \\\n",
       "0  shopping  1529005370661                                      iphone x plus   \n",
       "1  shopping  1529005417834                               iphone x plus amazon   \n",
       "2  shopping  1529005428970  Apple iPhone X (Space Grey, 256GB): Amazon.in:...   \n",
       "3  shopping  1529005457957  Apple iPhone 8 Plus (Gold, 256GB): Amazon.in: ...   \n",
       "4  shopping  1529005482407  Apple iPhone X (Silver, 256GB): Amazon.in: Ele...   \n",
       "\n",
       "                                                 url    type  \\\n",
       "0  https://www.google.co.in/search?q=iphone+x+plu...  search   \n",
       "1  https://www.google.co.in/search?ei=O8UiW92GHZP...  search   \n",
       "2  https://www.amazon.in/Apple-iPhone-Space-Grey-...    link   \n",
       "3  https://www.amazon.in/Apple-iPhone-Plus-Gold-2...    link   \n",
       "4  https://www.amazon.in/Apple-iPhone-X-Silver-25...    link   \n",
       "\n",
       "                       time  seen label1 label2 label3  \n",
       "0  2018-06-14T19:42:50.661Z  True    NaN    NaN    NaN  \n",
       "1  2018-06-14T19:43:37.834Z  True    NaN    NaN    NaN  \n",
       "2  2018-06-14T19:43:48.970Z  True    NaN    NaN    NaN  \n",
       "3  2018-06-14T19:44:17.957Z  True    NaN    NaN    NaN  \n",
       "4  2018-06-14T19:44:42.407Z  True    NaN    NaN    NaN  "
      ]
     },
     "execution_count": 7,
     "metadata": {},
     "output_type": "execute_result"
    }
   ],
   "source": [
    "data.head()"
   ]
  },
  {
   "cell_type": "code",
   "execution_count": 8,
   "metadata": {},
   "outputs": [],
   "source": [
    "group_by_label=data.groupby('label',as_index=False).count()"
   ]
  },
  {
   "cell_type": "code",
   "execution_count": 9,
   "metadata": {},
   "outputs": [
    {
     "data": {
      "text/html": [
       "<div>\n",
       "<style scoped>\n",
       "    .dataframe tbody tr th:only-of-type {\n",
       "        vertical-align: middle;\n",
       "    }\n",
       "\n",
       "    .dataframe tbody tr th {\n",
       "        vertical-align: top;\n",
       "    }\n",
       "\n",
       "    .dataframe thead th {\n",
       "        text-align: right;\n",
       "    }\n",
       "</style>\n",
       "<table border=\"1\" class=\"dataframe\">\n",
       "  <thead>\n",
       "    <tr style=\"text-align: right;\">\n",
       "      <th></th>\n",
       "      <th>label</th>\n",
       "      <th>id</th>\n",
       "      <th>text</th>\n",
       "      <th>url</th>\n",
       "      <th>type</th>\n",
       "      <th>time</th>\n",
       "      <th>seen</th>\n",
       "      <th>label1</th>\n",
       "      <th>label2</th>\n",
       "      <th>label3</th>\n",
       "    </tr>\n",
       "  </thead>\n",
       "  <tbody>\n",
       "    <tr>\n",
       "      <th>0</th>\n",
       "      <td>hobbies</td>\n",
       "      <td>25</td>\n",
       "      <td>25</td>\n",
       "      <td>25</td>\n",
       "      <td>25</td>\n",
       "      <td>25</td>\n",
       "      <td>25</td>\n",
       "      <td>0</td>\n",
       "      <td>0</td>\n",
       "      <td>0</td>\n",
       "    </tr>\n",
       "    <tr>\n",
       "      <th>1</th>\n",
       "      <td>medical</td>\n",
       "      <td>45</td>\n",
       "      <td>45</td>\n",
       "      <td>45</td>\n",
       "      <td>45</td>\n",
       "      <td>45</td>\n",
       "      <td>45</td>\n",
       "      <td>0</td>\n",
       "      <td>0</td>\n",
       "      <td>0</td>\n",
       "    </tr>\n",
       "    <tr>\n",
       "      <th>2</th>\n",
       "      <td>netbanking</td>\n",
       "      <td>17</td>\n",
       "      <td>17</td>\n",
       "      <td>17</td>\n",
       "      <td>17</td>\n",
       "      <td>17</td>\n",
       "      <td>17</td>\n",
       "      <td>0</td>\n",
       "      <td>0</td>\n",
       "      <td>0</td>\n",
       "    </tr>\n",
       "    <tr>\n",
       "      <th>3</th>\n",
       "      <td>search for places</td>\n",
       "      <td>20</td>\n",
       "      <td>20</td>\n",
       "      <td>20</td>\n",
       "      <td>20</td>\n",
       "      <td>20</td>\n",
       "      <td>20</td>\n",
       "      <td>0</td>\n",
       "      <td>0</td>\n",
       "      <td>0</td>\n",
       "    </tr>\n",
       "    <tr>\n",
       "      <th>4</th>\n",
       "      <td>shopping</td>\n",
       "      <td>642</td>\n",
       "      <td>642</td>\n",
       "      <td>642</td>\n",
       "      <td>642</td>\n",
       "      <td>642</td>\n",
       "      <td>642</td>\n",
       "      <td>275</td>\n",
       "      <td>164</td>\n",
       "      <td>273</td>\n",
       "    </tr>\n",
       "    <tr>\n",
       "      <th>5</th>\n",
       "      <td>social network</td>\n",
       "      <td>67</td>\n",
       "      <td>67</td>\n",
       "      <td>67</td>\n",
       "      <td>67</td>\n",
       "      <td>67</td>\n",
       "      <td>67</td>\n",
       "      <td>0</td>\n",
       "      <td>0</td>\n",
       "      <td>0</td>\n",
       "    </tr>\n",
       "    <tr>\n",
       "      <th>6</th>\n",
       "      <td>study</td>\n",
       "      <td>109</td>\n",
       "      <td>109</td>\n",
       "      <td>109</td>\n",
       "      <td>109</td>\n",
       "      <td>109</td>\n",
       "      <td>109</td>\n",
       "      <td>0</td>\n",
       "      <td>0</td>\n",
       "      <td>0</td>\n",
       "    </tr>\n",
       "    <tr>\n",
       "      <th>7</th>\n",
       "      <td>travel</td>\n",
       "      <td>211</td>\n",
       "      <td>211</td>\n",
       "      <td>211</td>\n",
       "      <td>211</td>\n",
       "      <td>211</td>\n",
       "      <td>211</td>\n",
       "      <td>39</td>\n",
       "      <td>21</td>\n",
       "      <td>22</td>\n",
       "    </tr>\n",
       "    <tr>\n",
       "      <th>8</th>\n",
       "      <td>weather</td>\n",
       "      <td>42</td>\n",
       "      <td>42</td>\n",
       "      <td>37</td>\n",
       "      <td>42</td>\n",
       "      <td>42</td>\n",
       "      <td>42</td>\n",
       "      <td>0</td>\n",
       "      <td>0</td>\n",
       "      <td>0</td>\n",
       "    </tr>\n",
       "  </tbody>\n",
       "</table>\n",
       "</div>"
      ],
      "text/plain": [
       "               label   id  text  url  type  time  seen  label1  label2  label3\n",
       "0            hobbies   25    25   25    25    25    25       0       0       0\n",
       "1            medical   45    45   45    45    45    45       0       0       0\n",
       "2         netbanking   17    17   17    17    17    17       0       0       0\n",
       "3  search for places   20    20   20    20    20    20       0       0       0\n",
       "4           shopping  642   642  642   642   642   642     275     164     273\n",
       "5     social network   67    67   67    67    67    67       0       0       0\n",
       "6              study  109   109  109   109   109   109       0       0       0\n",
       "7             travel  211   211  211   211   211   211      39      21      22\n",
       "8            weather   42    42   37    42    42    42       0       0       0"
      ]
     },
     "execution_count": 9,
     "metadata": {},
     "output_type": "execute_result"
    }
   ],
   "source": [
    "group_by_label"
   ]
  },
  {
   "cell_type": "code",
   "execution_count": 10,
   "metadata": {},
   "outputs": [
    {
     "data": {
      "image/png": "[encoded data removed]",
      "text/plain": [
       "<Figure size 432x288 with 1 Axes>"
      ]
     },
     "metadata": {
      "needs_background": "light"
     },
     "output_type": "display_data"
    }
   ],
   "source": [
    "#Though it is clear that there is no much difference between the inputs for each classes(authors),\n",
    "#we can still have a look at bar-chart for better visualisation.\n",
    "\n",
    "objects = group_by_label['label']  #storing values of authors in objects\n",
    "y_pos = np.arange(len(objects)) #creating numpy array for the count of authors\n",
    "ids = group_by_label['id'] #assignig values of id for each author\n",
    " \n",
    "plt.bar(y_pos, ids, align='center', alpha=0.4,color = 'bgk') #basic configuration for bar chart\n",
    "plt.xticks(y_pos, objects) #assigning Labels to be displayed on X-axis\n",
    "plt.ylabel('Input Count') #Labels for Y-axis\n",
    "plt.title('Inputs per author') #Label for Chart\n",
    " \n",
    "plt.show()"
   ]
  },
  {
   "cell_type": "code",
   "execution_count": 11,
   "metadata": {},
   "outputs": [],
   "source": [
    "#Creating a backup of the dataset\n",
    "data2_backup=pd.DataFrame(data)"
   ]
  },
  {
   "cell_type": "code",
   "execution_count": 12,
   "metadata": {},
   "outputs": [],
   "source": [
    "#Label Encoding the data (label column) with shopping as 1 and others as 0\n",
    "data['label'] = np.where(data['label']=='shopping', 1, 0)"
   ]
  },
  {
   "cell_type": "code",
   "execution_count": 13,
   "metadata": {},
   "outputs": [
    {
     "data": {
      "text/html": [
       "<div>\n",
       "<style scoped>\n",
       "    .dataframe tbody tr th:only-of-type {\n",
       "        vertical-align: middle;\n",
       "    }\n",
       "\n",
       "    .dataframe tbody tr th {\n",
       "        vertical-align: top;\n",
       "    }\n",
       "\n",
       "    .dataframe thead th {\n",
       "        text-align: right;\n",
       "    }\n",
       "</style>\n",
       "<table border=\"1\" class=\"dataframe\">\n",
       "  <thead>\n",
       "    <tr style=\"text-align: right;\">\n",
       "      <th></th>\n",
       "      <th>label</th>\n",
       "      <th>id</th>\n",
       "      <th>text</th>\n",
       "      <th>url</th>\n",
       "      <th>type</th>\n",
       "      <th>time</th>\n",
       "      <th>seen</th>\n",
       "      <th>label1</th>\n",
       "      <th>label2</th>\n",
       "      <th>label3</th>\n",
       "    </tr>\n",
       "  </thead>\n",
       "  <tbody>\n",
       "    <tr>\n",
       "      <th>0</th>\n",
       "      <td>0</td>\n",
       "      <td>536</td>\n",
       "      <td>536</td>\n",
       "      <td>531</td>\n",
       "      <td>536</td>\n",
       "      <td>536</td>\n",
       "      <td>536</td>\n",
       "      <td>39</td>\n",
       "      <td>21</td>\n",
       "      <td>22</td>\n",
       "    </tr>\n",
       "    <tr>\n",
       "      <th>1</th>\n",
       "      <td>1</td>\n",
       "      <td>642</td>\n",
       "      <td>642</td>\n",
       "      <td>642</td>\n",
       "      <td>642</td>\n",
       "      <td>642</td>\n",
       "      <td>642</td>\n",
       "      <td>275</td>\n",
       "      <td>164</td>\n",
       "      <td>273</td>\n",
       "    </tr>\n",
       "  </tbody>\n",
       "</table>\n",
       "</div>"
      ],
      "text/plain": [
       "   label   id  text  url  type  time  seen  label1  label2  label3\n",
       "0      0  536   536  531   536   536   536      39      21      22\n",
       "1      1  642   642  642   642   642   642     275     164     273"
      ]
     },
     "execution_count": 13,
     "metadata": {},
     "output_type": "execute_result"
    }
   ],
   "source": [
    "group_by_label=data.groupby('label',as_index=False).count()\n",
    "group_by_label"
   ]
  },
  {
   "cell_type": "code",
   "execution_count": 14,
   "metadata": {},
   "outputs": [],
   "source": [
    "#Selecting only the text column for further pre-processing\n",
    "text=data.iloc[:,2:3]"
   ]
  },
  {
   "cell_type": "code",
   "execution_count": 15,
   "metadata": {},
   "outputs": [
    {
     "data": {
      "text/html": [
       "<div>\n",
       "<style scoped>\n",
       "    .dataframe tbody tr th:only-of-type {\n",
       "        vertical-align: middle;\n",
       "    }\n",
       "\n",
       "    .dataframe tbody tr th {\n",
       "        vertical-align: top;\n",
       "    }\n",
       "\n",
       "    .dataframe thead th {\n",
       "        text-align: right;\n",
       "    }\n",
       "</style>\n",
       "<table border=\"1\" class=\"dataframe\">\n",
       "  <thead>\n",
       "    <tr style=\"text-align: right;\">\n",
       "      <th></th>\n",
       "      <th>text</th>\n",
       "    </tr>\n",
       "  </thead>\n",
       "  <tbody>\n",
       "    <tr>\n",
       "      <th>0</th>\n",
       "      <td>iphone x plus</td>\n",
       "    </tr>\n",
       "    <tr>\n",
       "      <th>1</th>\n",
       "      <td>iphone x plus amazon</td>\n",
       "    </tr>\n",
       "    <tr>\n",
       "      <th>2</th>\n",
       "      <td>Apple iPhone X (Space Grey, 256GB): Amazon.in:...</td>\n",
       "    </tr>\n",
       "    <tr>\n",
       "      <th>3</th>\n",
       "      <td>Apple iPhone 8 Plus (Gold, 256GB): Amazon.in: ...</td>\n",
       "    </tr>\n",
       "    <tr>\n",
       "      <th>4</th>\n",
       "      <td>Apple iPhone X (Silver, 256GB): Amazon.in: Ele...</td>\n",
       "    </tr>\n",
       "  </tbody>\n",
       "</table>\n",
       "</div>"
      ],
      "text/plain": [
       "                                                text\n",
       "0                                      iphone x plus\n",
       "1                               iphone x plus amazon\n",
       "2  Apple iPhone X (Space Grey, 256GB): Amazon.in:...\n",
       "3  Apple iPhone 8 Plus (Gold, 256GB): Amazon.in: ...\n",
       "4  Apple iPhone X (Silver, 256GB): Amazon.in: Ele..."
      ]
     },
     "execution_count": 15,
     "metadata": {},
     "output_type": "execute_result"
    }
   ],
   "source": [
    "text.head()"
   ]
  },
  {
   "cell_type": "code",
   "execution_count": 16,
   "metadata": {},
   "outputs": [
    {
     "data": {
      "text/plain": [
       "'!\"#$%&\\'()*+,-./:;<=>?@[\\\\]^_`{|}~'"
      ]
     },
     "execution_count": 16,
     "metadata": {},
     "output_type": "execute_result"
    }
   ],
   "source": [
    "string.punctuation"
   ]
  },
  {
   "cell_type": "code",
   "execution_count": 17,
   "metadata": {},
   "outputs": [],
   "source": [
    "#Selecting a row of column'text' to test preprocessing steps\n",
    "test_string_original=data.iloc[3,2]\n",
    "test_string=data.iloc[3,2]"
   ]
  },
  {
   "cell_type": "code",
   "execution_count": 18,
   "metadata": {},
   "outputs": [
    {
     "name": "stdout",
     "output_type": "stream",
     "text": [
      "Apple iPhone 8 Plus (Gold, 256GB): Amazon.in: Electronics\n"
     ]
    }
   ],
   "source": [
    "print(test_string)"
   ]
  },
  {
   "cell_type": "code",
   "execution_count": 19,
   "metadata": {},
   "outputs": [
    {
     "name": "stdout",
     "output_type": "stream",
     "text": [
      "After removing punctuations: apple iphone 8 plus  gold  256gb   amazon in  electronics\n",
      "After removing stopwords: apple iphone 8 plus  gold  256gb   amazon electronics\n",
      "After removing space: apple iphone 8 plus  gold  256gb   amazon electronics \n",
      "\n",
      "Before processing: Apple iPhone 8 Plus (Gold, 256GB): Amazon.in: Electronics\n",
      "After processing: apple iphone plus gold gb amazon electronics\n"
     ]
    }
   ],
   "source": [
    "#Function for removing punctuations from string\n",
    "def remove_punctuations_from_string(string1):\n",
    "    string1 = string1.lower() #changing to lower case\n",
    "    translation_table = dict.fromkeys(map(ord, string.punctuation), ' ') #creating dictionary of punc & None\n",
    "    string2 = string1.translate(translation_table) #translating string1\n",
    "    return string2\n",
    "\n",
    "test_string = remove_punctuations_from_string(test_string)\n",
    "print('After removing punctuations:',test_string)\n",
    "\n",
    "#Function for removing stopwords\n",
    "\n",
    "def remove_stopwords_from_string(string1):\n",
    "    pattern = re.compile(r'\\b(' + r'|'.join(stopwords.words('english')) + r')\\b\\s*') #compiling all stopwords.\n",
    "    string2 = pattern.sub('', string1) #replacing the occurrences of stopwords in string1\n",
    "    return string2\n",
    "\n",
    "test_string = remove_stopwords_from_string(test_string)\n",
    "print('After removing stopwords:',test_string)\n",
    "\n",
    "\n",
    "def remove_space_from_string(string1):\n",
    "    string1 = re.sub('\\d+', '', string1) #stripping the numbers\n",
    "    string2 = re.sub('\\s{2,}', ' ', string1) #replacing the spaces\n",
    "    string3 = re.sub('\\n', '', string2) #stripping \\n\n",
    "    return string3\n",
    "\n",
    "print('After removing space:',test_string,'\\n')\n",
    "\n",
    "print('Before processing:', test_string_original)\n",
    "\n",
    "test_string = remove_space_from_string(test_string)\n",
    "print('After processing:',test_string)"
   ]
  },
  {
   "cell_type": "code",
   "execution_count": 20,
   "metadata": {},
   "outputs": [
    {
     "data": {
      "text/html": [
       "<div>\n",
       "<style scoped>\n",
       "    .dataframe tbody tr th:only-of-type {\n",
       "        vertical-align: middle;\n",
       "    }\n",
       "\n",
       "    .dataframe tbody tr th {\n",
       "        vertical-align: top;\n",
       "    }\n",
       "\n",
       "    .dataframe thead th {\n",
       "        text-align: right;\n",
       "    }\n",
       "</style>\n",
       "<table border=\"1\" class=\"dataframe\">\n",
       "  <thead>\n",
       "    <tr style=\"text-align: right;\">\n",
       "      <th></th>\n",
       "      <th>label</th>\n",
       "      <th>type</th>\n",
       "      <th>text</th>\n",
       "    </tr>\n",
       "  </thead>\n",
       "  <tbody>\n",
       "    <tr>\n",
       "      <th>0</th>\n",
       "      <td>1</td>\n",
       "      <td>search</td>\n",
       "      <td>iphone x plus</td>\n",
       "    </tr>\n",
       "    <tr>\n",
       "      <th>1</th>\n",
       "      <td>1</td>\n",
       "      <td>search</td>\n",
       "      <td>iphone x plus amazon</td>\n",
       "    </tr>\n",
       "    <tr>\n",
       "      <th>2</th>\n",
       "      <td>1</td>\n",
       "      <td>link</td>\n",
       "      <td>Apple iPhone X (Space Grey, 256GB): Amazon.in:...</td>\n",
       "    </tr>\n",
       "    <tr>\n",
       "      <th>3</th>\n",
       "      <td>1</td>\n",
       "      <td>link</td>\n",
       "      <td>Apple iPhone 8 Plus (Gold, 256GB): Amazon.in: ...</td>\n",
       "    </tr>\n",
       "    <tr>\n",
       "      <th>4</th>\n",
       "      <td>1</td>\n",
       "      <td>link</td>\n",
       "      <td>Apple iPhone X (Silver, 256GB): Amazon.in: Ele...</td>\n",
       "    </tr>\n",
       "  </tbody>\n",
       "</table>\n",
       "</div>"
      ],
      "text/plain": [
       "   label    type                                               text\n",
       "0      1  search                                      iphone x plus\n",
       "1      1  search                               iphone x plus amazon\n",
       "2      1    link  Apple iPhone X (Space Grey, 256GB): Amazon.in:...\n",
       "3      1    link  Apple iPhone 8 Plus (Gold, 256GB): Amazon.in: ...\n",
       "4      1    link  Apple iPhone X (Silver, 256GB): Amazon.in: Ele..."
      ]
     },
     "execution_count": 20,
     "metadata": {},
     "output_type": "execute_result"
    }
   ],
   "source": [
    "#Creating a new copy of the dataset with label, type and text columns\n",
    "data3=pd.DataFrame(data['label'])\n",
    "data3[\"type\"] = data[\"type\"].astype(str)\n",
    "data3[\"text\"] = data[\"text\"].astype(str)\n",
    "data3.head()"
   ]
  },
  {
   "cell_type": "code",
   "execution_count": 21,
   "metadata": {},
   "outputs": [
    {
     "data": {
      "text/html": [
       "<div>\n",
       "<style scoped>\n",
       "    .dataframe tbody tr th:only-of-type {\n",
       "        vertical-align: middle;\n",
       "    }\n",
       "\n",
       "    .dataframe tbody tr th {\n",
       "        vertical-align: top;\n",
       "    }\n",
       "\n",
       "    .dataframe thead th {\n",
       "        text-align: right;\n",
       "    }\n",
       "</style>\n",
       "<table border=\"1\" class=\"dataframe\">\n",
       "  <thead>\n",
       "    <tr style=\"text-align: right;\">\n",
       "      <th></th>\n",
       "      <th>label</th>\n",
       "      <th>type</th>\n",
       "      <th>text</th>\n",
       "      <th>text_clean</th>\n",
       "      <th>text_remove_stopwords</th>\n",
       "    </tr>\n",
       "  </thead>\n",
       "  <tbody>\n",
       "    <tr>\n",
       "      <th>0</th>\n",
       "      <td>1</td>\n",
       "      <td>search</td>\n",
       "      <td>iphone x plus</td>\n",
       "      <td>iphone x plus</td>\n",
       "      <td>iphone x plus</td>\n",
       "    </tr>\n",
       "    <tr>\n",
       "      <th>1</th>\n",
       "      <td>1</td>\n",
       "      <td>search</td>\n",
       "      <td>iphone x plus amazon</td>\n",
       "      <td>iphone x plus amazon</td>\n",
       "      <td>iphone x plus amazon</td>\n",
       "    </tr>\n",
       "    <tr>\n",
       "      <th>2</th>\n",
       "      <td>1</td>\n",
       "      <td>link</td>\n",
       "      <td>Apple iPhone X (Space Grey, 256GB): Amazon.in:...</td>\n",
       "      <td>apple iphone x space grey gb amazon in electro...</td>\n",
       "      <td>apple iphone x space grey gb amazon electronics</td>\n",
       "    </tr>\n",
       "    <tr>\n",
       "      <th>3</th>\n",
       "      <td>1</td>\n",
       "      <td>link</td>\n",
       "      <td>Apple iPhone 8 Plus (Gold, 256GB): Amazon.in: ...</td>\n",
       "      <td>apple iphone plus gold gb amazon in electronics</td>\n",
       "      <td>apple iphone plus gold gb amazon electronics</td>\n",
       "    </tr>\n",
       "    <tr>\n",
       "      <th>4</th>\n",
       "      <td>1</td>\n",
       "      <td>link</td>\n",
       "      <td>Apple iPhone X (Silver, 256GB): Amazon.in: Ele...</td>\n",
       "      <td>apple iphone x silver gb amazon in electronics</td>\n",
       "      <td>apple iphone x silver gb amazon electronics</td>\n",
       "    </tr>\n",
       "  </tbody>\n",
       "</table>\n",
       "</div>"
      ],
      "text/plain": [
       "   label    type                                               text  \\\n",
       "0      1  search                                      iphone x plus   \n",
       "1      1  search                               iphone x plus amazon   \n",
       "2      1    link  Apple iPhone X (Space Grey, 256GB): Amazon.in:...   \n",
       "3      1    link  Apple iPhone 8 Plus (Gold, 256GB): Amazon.in: ...   \n",
       "4      1    link  Apple iPhone X (Silver, 256GB): Amazon.in: Ele...   \n",
       "\n",
       "                                          text_clean  \\\n",
       "0                                      iphone x plus   \n",
       "1                               iphone x plus amazon   \n",
       "2  apple iphone x space grey gb amazon in electro...   \n",
       "3    apple iphone plus gold gb amazon in electronics   \n",
       "4     apple iphone x silver gb amazon in electronics   \n",
       "\n",
       "                             text_remove_stopwords  \n",
       "0                                    iphone x plus  \n",
       "1                             iphone x plus amazon  \n",
       "2  apple iphone x space grey gb amazon electronics  \n",
       "3     apple iphone plus gold gb amazon electronics  \n",
       "4      apple iphone x silver gb amazon electronics  "
      ]
     },
     "execution_count": 21,
     "metadata": {},
     "output_type": "execute_result"
    }
   ],
   "source": [
    "#Applying above made functions on the 'text' column of the new copy of the dataset 'data3'.\n",
    "data3[\"text_clean\"] = data3[\"text\"].apply(lambda x:remove_punctuations_from_string(x))\n",
    "data3[\"text_remove_stopwords\"] = data3[\"text_clean\"].apply(lambda x:remove_stopwords_from_string(x))\n",
    "data3[\"text_clean\"] = data3[\"text_clean\"].apply(lambda x:remove_space_from_string(x))\n",
    "data3[\"text_remove_stopwords\"] = data3[\"text_remove_stopwords\"].apply(lambda x:remove_space_from_string(x))\n",
    "data3.head()"
   ]
  },
  {
   "cell_type": "code",
   "execution_count": 22,
   "metadata": {},
   "outputs": [],
   "source": [
    "#Lemmatize function\n",
    "\n",
    "ps = nltk.PorterStemmer()\n",
    "\n",
    "def text_stemmed(tokenized):\n",
    "    string3 =[ps.stem(word) for word in tokenized]\n",
    "    return string3\n"
   ]
  },
  {
   "cell_type": "code",
   "execution_count": 23,
   "metadata": {},
   "outputs": [],
   "source": [
    "#Tokenize function\n",
    "\n",
    "def tokenize(text):\n",
    "    tokens = re.split('\\W+',text)\n",
    "    return tokens\n",
    "\n",
    "data3[\"text_tokenized\"] = data3[\"text_remove_stopwords\"].apply(lambda x:tokenize(x))\n",
    "\n",
    "\n",
    "#Lematize function data after tokenizing\n",
    "\n",
    "wn = nltk.WordNetLemmatizer()\n",
    "def lemmatize(tokenized_text):\n",
    "    text2=[wn.lemmatize(word) for word in tokenized_text]\n",
    "    return text2\n",
    "\n",
    "data3[\"text_lemmatized\"] = data3[\"text_tokenized\"].apply(lambda x:lemmatize(x))\n"
   ]
  },
  {
   "cell_type": "code",
   "execution_count": 24,
   "metadata": {},
   "outputs": [
    {
     "data": {
      "text/html": [
       "<div>\n",
       "<style scoped>\n",
       "    .dataframe tbody tr th:only-of-type {\n",
       "        vertical-align: middle;\n",
       "    }\n",
       "\n",
       "    .dataframe tbody tr th {\n",
       "        vertical-align: top;\n",
       "    }\n",
       "\n",
       "    .dataframe thead th {\n",
       "        text-align: right;\n",
       "    }\n",
       "</style>\n",
       "<table border=\"1\" class=\"dataframe\">\n",
       "  <thead>\n",
       "    <tr style=\"text-align: right;\">\n",
       "      <th></th>\n",
       "      <th>label</th>\n",
       "      <th>type</th>\n",
       "      <th>text</th>\n",
       "      <th>text_clean</th>\n",
       "      <th>text_remove_stopwords</th>\n",
       "      <th>text_tokenized</th>\n",
       "      <th>text_lemmatized</th>\n",
       "    </tr>\n",
       "  </thead>\n",
       "  <tbody>\n",
       "    <tr>\n",
       "      <th>0</th>\n",
       "      <td>1</td>\n",
       "      <td>search</td>\n",
       "      <td>iphone x plus</td>\n",
       "      <td>iphone x plus</td>\n",
       "      <td>iphone x plus</td>\n",
       "      <td>[iphone, x, plus]</td>\n",
       "      <td>[iphone, x, plus]</td>\n",
       "    </tr>\n",
       "    <tr>\n",
       "      <th>1</th>\n",
       "      <td>1</td>\n",
       "      <td>search</td>\n",
       "      <td>iphone x plus amazon</td>\n",
       "      <td>iphone x plus amazon</td>\n",
       "      <td>iphone x plus amazon</td>\n",
       "      <td>[iphone, x, plus, amazon]</td>\n",
       "      <td>[iphone, x, plus, amazon]</td>\n",
       "    </tr>\n",
       "    <tr>\n",
       "      <th>2</th>\n",
       "      <td>1</td>\n",
       "      <td>link</td>\n",
       "      <td>Apple iPhone X (Space Grey, 256GB): Amazon.in:...</td>\n",
       "      <td>apple iphone x space grey gb amazon in electro...</td>\n",
       "      <td>apple iphone x space grey gb amazon electronics</td>\n",
       "      <td>[apple, iphone, x, space, grey, gb, amazon, el...</td>\n",
       "      <td>[apple, iphone, x, space, grey, gb, amazon, el...</td>\n",
       "    </tr>\n",
       "    <tr>\n",
       "      <th>3</th>\n",
       "      <td>1</td>\n",
       "      <td>link</td>\n",
       "      <td>Apple iPhone 8 Plus (Gold, 256GB): Amazon.in: ...</td>\n",
       "      <td>apple iphone plus gold gb amazon in electronics</td>\n",
       "      <td>apple iphone plus gold gb amazon electronics</td>\n",
       "      <td>[apple, iphone, plus, gold, gb, amazon, electr...</td>\n",
       "      <td>[apple, iphone, plus, gold, gb, amazon, electr...</td>\n",
       "    </tr>\n",
       "    <tr>\n",
       "      <th>4</th>\n",
       "      <td>1</td>\n",
       "      <td>link</td>\n",
       "      <td>Apple iPhone X (Silver, 256GB): Amazon.in: Ele...</td>\n",
       "      <td>apple iphone x silver gb amazon in electronics</td>\n",
       "      <td>apple iphone x silver gb amazon electronics</td>\n",
       "      <td>[apple, iphone, x, silver, gb, amazon, electro...</td>\n",
       "      <td>[apple, iphone, x, silver, gb, amazon, electro...</td>\n",
       "    </tr>\n",
       "  </tbody>\n",
       "</table>\n",
       "</div>"
      ],
      "text/plain": [
       "   label    type                                               text  \\\n",
       "0      1  search                                      iphone x plus   \n",
       "1      1  search                               iphone x plus amazon   \n",
       "2      1    link  Apple iPhone X (Space Grey, 256GB): Amazon.in:...   \n",
       "3      1    link  Apple iPhone 8 Plus (Gold, 256GB): Amazon.in: ...   \n",
       "4      1    link  Apple iPhone X (Silver, 256GB): Amazon.in: Ele...   \n",
       "\n",
       "                                          text_clean  \\\n",
       "0                                      iphone x plus   \n",
       "1                               iphone x plus amazon   \n",
       "2  apple iphone x space grey gb amazon in electro...   \n",
       "3    apple iphone plus gold gb amazon in electronics   \n",
       "4     apple iphone x silver gb amazon in electronics   \n",
       "\n",
       "                             text_remove_stopwords  \\\n",
       "0                                    iphone x plus   \n",
       "1                             iphone x plus amazon   \n",
       "2  apple iphone x space grey gb amazon electronics   \n",
       "3     apple iphone plus gold gb amazon electronics   \n",
       "4      apple iphone x silver gb amazon electronics   \n",
       "\n",
       "                                      text_tokenized  \\\n",
       "0                                  [iphone, x, plus]   \n",
       "1                          [iphone, x, plus, amazon]   \n",
       "2  [apple, iphone, x, space, grey, gb, amazon, el...   \n",
       "3  [apple, iphone, plus, gold, gb, amazon, electr...   \n",
       "4  [apple, iphone, x, silver, gb, amazon, electro...   \n",
       "\n",
       "                                     text_lemmatized  \n",
       "0                                  [iphone, x, plus]  \n",
       "1                          [iphone, x, plus, amazon]  \n",
       "2  [apple, iphone, x, space, grey, gb, amazon, el...  \n",
       "3  [apple, iphone, plus, gold, gb, amazon, electr...  \n",
       "4  [apple, iphone, x, silver, gb, amazon, electro...  "
      ]
     },
     "execution_count": 24,
     "metadata": {},
     "output_type": "execute_result"
    }
   ],
   "source": [
    "data3.head()"
   ]
  },
  {
   "cell_type": "code",
   "execution_count": 25,
   "metadata": {},
   "outputs": [],
   "source": [
    "#Remove empty rows after cleaning\n",
    "# empty_rows=data3[data3['text_remove_stopwords'] == ''].index\n",
    "# print(empty_rows)\n",
    "# data3.head(80)"
   ]
  },
  {
   "cell_type": "code",
   "execution_count": 26,
   "metadata": {},
   "outputs": [],
   "source": [
    "# data3=data3.drop(rr)\n",
    "# data3.head(80)"
   ]
  },
  {
   "cell_type": "code",
   "execution_count": 27,
   "metadata": {},
   "outputs": [],
   "source": [
    "#Train-Test Split\n",
    "from sklearn.model_selection import train_test_split\n",
    "train25, test25, train25_target, test25_target  = train_test_split(data3['text_remove_stopwords'],data3['label'], test_size=0.3)"
   ]
  },
  {
   "cell_type": "code",
   "execution_count": 28,
   "metadata": {},
   "outputs": [
    {
     "name": "stdout",
     "output_type": "stream",
     "text": [
      "130                                                   rs \n",
      "26      buy dell inspiron i th gen gb tb dos int onlin...\n",
      "1073                             fifa world cup wikipedia\n",
      "442     tuition funding masters usc viterbi prospectiv...\n",
      "227     art craft supplies buy art craft supplies onli...\n",
      "Name: text_remove_stopwords, dtype: object \n",
      "\n",
      "130     1\n",
      "26      1\n",
      "1073    0\n",
      "442     0\n",
      "227     1\n",
      "Name: label, dtype: int32\n"
     ]
    }
   ],
   "source": [
    "print(train25.head(),'\\n')\n",
    "print(train25_target.head())"
   ]
  },
  {
   "cell_type": "code",
   "execution_count": 29,
   "metadata": {},
   "outputs": [
    {
     "name": "stdout",
     "output_type": "stream",
     "text": [
      "351                                      courses program\n",
      "550                        mykotakrewards flight booking\n",
      "358                                                weeks\n",
      "58     buy people black checked shirt women online in...\n",
      "698                                 wilson brand rackets\n",
      "Name: text_remove_stopwords, dtype: object \n",
      "\n",
      "351    0\n",
      "550    0\n",
      "358    0\n",
      "58     1\n",
      "698    1\n",
      "Name: label, dtype: int32\n"
     ]
    }
   ],
   "source": [
    "print(test25.head(),'\\n')\n",
    "print(test25_target.head())"
   ]
  },
  {
   "cell_type": "code",
   "execution_count": 30,
   "metadata": {},
   "outputs": [
    {
     "name": "stdout",
     "output_type": "stream",
     "text": [
      "(824, 1151)\n",
      "1151\n"
     ]
    }
   ],
   "source": [
    "from sklearn.feature_extraction.text import CountVectorizer\n",
    "vector = CountVectorizer()\n",
    "train25_trans = vector.fit_transform(train25)\n",
    "print(train25_trans.shape)\n",
    "print (len(vector.get_feature_names()))\n",
    "# print(vector.get_feature_names())\n",
    "# print(vect.toarray())"
   ]
  },
  {
   "cell_type": "code",
   "execution_count": 31,
   "metadata": {},
   "outputs": [
    {
     "data": {
      "text/plain": [
       "<824x1151 sparse matrix of type '<class 'numpy.int64'>'\n",
       "\twith 5084 stored elements in Compressed Sparse Row format>"
      ]
     },
     "execution_count": 31,
     "metadata": {},
     "output_type": "execute_result"
    }
   ],
   "source": [
    "train25_trans"
   ]
  },
  {
   "cell_type": "code",
   "execution_count": 32,
   "metadata": {},
   "outputs": [],
   "source": [
    "test25_trans = vector.transform(test25)"
   ]
  },
  {
   "cell_type": "code",
   "execution_count": 33,
   "metadata": {},
   "outputs": [
    {
     "data": {
      "text/plain": [
       "<354x1151 sparse matrix of type '<class 'numpy.int64'>'\n",
       "\twith 1968 stored elements in Compressed Sparse Row format>"
      ]
     },
     "execution_count": 33,
     "metadata": {},
     "output_type": "execute_result"
    }
   ],
   "source": [
    "test25_trans"
   ]
  },
  {
   "cell_type": "code",
   "execution_count": 34,
   "metadata": {},
   "outputs": [],
   "source": [
    "from sklearn import tree\n",
    "dtree = tree.DecisionTreeClassifier()\n",
    "dtree = dtree.fit(train25_trans,train25_target)"
   ]
  },
  {
   "cell_type": "code",
   "execution_count": 35,
   "metadata": {},
   "outputs": [],
   "source": [
    "#Prediction on Test Data\n",
    "dtree_pred=dtree.predict(test25_trans)"
   ]
  },
  {
   "cell_type": "code",
   "execution_count": 36,
   "metadata": {},
   "outputs": [
    {
     "data": {
      "text/plain": [
       "[Text(329.99138240574507, 216.6036923076923, 'X[30] <= 0.5\\nentropy = 0.498\\nsamples = 824\\nvalue = [384, 440]'),\n",
       " Text(327.58707360861763, 214.93107692307692, 'X[125] <= 0.5\\nentropy = 0.496\\nsamples = 702\\nvalue = [384, 318]'),\n",
       " Text(325.18276481149013, 213.25846153846155, 'X[375] <= 0.5\\nentropy = 0.472\\nsamples = 620\\nvalue = [384, 236]'),\n",
       " Text(322.7784560143627, 211.58584615384615, 'X[970] <= 0.5\\nentropy = 0.44\\nsamples = 571\\nvalue = [384, 187]'),\n",
       " Text(320.37414721723525, 209.91323076923078, 'X[538] <= 0.5\\nentropy = 0.422\\nsamples = 551\\nvalue = [384, 167]'),\n",
       " Text(317.96983842010775, 208.24061538461538, 'X[637] <= 0.5\\nentropy = 0.409\\nsamples = 538\\nvalue = [384, 154]'),\n",
       " Text(315.5655296229803, 206.56799999999998, 'X[628] <= 0.5\\nentropy = 0.393\\nsamples = 525\\nvalue = [384, 141]'),\n",
       " Text(313.1612208258528, 204.89538461538461, 'X[207] <= 0.5\\nentropy = 0.378\\nsamples = 514\\nvalue = [384, 130]'),\n",
       " Text(310.75691202872537, 203.22276923076922, 'X[549] <= 0.5\\nentropy = 0.366\\nsamples = 506\\nvalue = [384, 122]'),\n",
       " Text(308.35260323159787, 201.55015384615385, 'X[288] <= 0.5\\nentropy = 0.353\\nsamples = 498\\nvalue = [384, 114]'),\n",
       " Text(305.9482944344704, 199.87753846153845, 'X[862] <= 0.5\\nentropy = 0.343\\nsamples = 492\\nvalue = [384, 108]'),\n",
       " Text(296.9321364452424, 198.20492307692308, 'X[777] <= 0.5\\nentropy = 0.326\\nsamples = 478\\nvalue = [380, 98]'),\n",
       " Text(290.92136445242375, 196.53230769230768, 'X[980] <= 0.5\\nentropy = 0.313\\nsamples = 469\\nvalue = [378, 91]'),\n",
       " Text(288.51705565529625, 194.8596923076923, 'X[1098] <= 0.5\\nentropy = 0.304\\nsamples = 465\\nvalue = [378, 87]'),\n",
       " Text(283.7084380610413, 193.18707692307692, 'X[944] <= 0.5\\nentropy = 0.293\\nsamples = 459\\nvalue = [377, 82]'),\n",
       " Text(281.30412926391386, 191.51446153846155, 'X[324] <= 0.5\\nentropy = 0.282\\nsamples = 453\\nvalue = [376, 77]'),\n",
       " Text(278.89982046678637, 189.84184615384615, 'X[627] <= 0.5\\nentropy = 0.275\\nsamples = 450\\nvalue = [376, 74]'),\n",
       " Text(276.4955116696589, 188.16923076923078, 'X[218] <= 0.5\\nentropy = 0.267\\nsamples = 447\\nvalue = [376, 71]'),\n",
       " Text(274.0912028725314, 186.49661538461538, 'X[692] <= 0.5\\nentropy = 0.259\\nsamples = 444\\nvalue = [376, 68]'),\n",
       " Text(271.686894075404, 184.824, 'X[975] <= 0.5\\nentropy = 0.254\\nsamples = 442\\nvalue = [376, 66]'),\n",
       " Text(269.2825852782765, 183.15138461538461, 'X[541] <= 0.5\\nentropy = 0.249\\nsamples = 440\\nvalue = [376, 64]'),\n",
       " Text(266.87827648114904, 181.47876923076922, 'X[171] <= 1.0\\nentropy = 0.243\\nsamples = 438\\nvalue = [376, 62]'),\n",
       " Text(264.47396768402155, 179.80615384615385, 'X[189] <= 0.5\\nentropy = 0.237\\nsamples = 436\\nvalue = [376, 60]'),\n",
       " Text(262.0696588868941, 178.13353846153845, 'X[772] <= 0.5\\nentropy = 0.232\\nsamples = 434\\nvalue = [376, 58]'),\n",
       " Text(259.6653500897666, 176.46092307692308, 'X[576] <= 0.5\\nentropy = 0.226\\nsamples = 432\\nvalue = [376, 56]'),\n",
       " Text(257.26104129263916, 174.78830769230768, 'X[901] <= 0.5\\nentropy = 0.251\\nsamples = 380\\nvalue = [324, 56]'),\n",
       " Text(254.8567324955117, 173.1156923076923, 'X[610] <= 0.5\\nentropy = 0.248\\nsamples = 379\\nvalue = [324, 55]'),\n",
       " Text(252.45242369838422, 171.44307692307692, 'X[162] <= 0.5\\nentropy = 0.245\\nsamples = 378\\nvalue = [324, 54]'),\n",
       " Text(250.04811490125675, 169.77046153846155, 'X[97] <= 0.5\\nentropy = 0.242\\nsamples = 377\\nvalue = [324, 53]'),\n",
       " Text(247.64380610412928, 168.09784615384615, 'X[312] <= 0.5\\nentropy = 0.238\\nsamples = 376\\nvalue = [324, 52]'),\n",
       " Text(245.2394973070018, 166.42523076923078, 'X[372] <= 0.5\\nentropy = 0.235\\nsamples = 375\\nvalue = [324, 51]'),\n",
       " Text(242.83518850987434, 164.75261538461538, 'X[105] <= 0.5\\nentropy = 0.232\\nsamples = 374\\nvalue = [324, 50]'),\n",
       " Text(240.43087971274687, 163.07999999999998, 'X[432] <= 0.5\\nentropy = 0.228\\nsamples = 373\\nvalue = [324, 49]'),\n",
       " Text(238.0265709156194, 161.40738461538461, 'X[822] <= 0.5\\nentropy = 0.225\\nsamples = 372\\nvalue = [324, 48]'),\n",
       " Text(235.62226211849193, 159.73476923076925, 'X[818] <= 0.5\\nentropy = 0.221\\nsamples = 371\\nvalue = [324, 47]'),\n",
       " Text(233.21795332136446, 158.06215384615385, 'X[391] <= 0.5\\nentropy = 0.218\\nsamples = 370\\nvalue = [324, 46]'),\n",
       " Text(230.81364452423702, 156.38953846153845, 'X[168] <= 0.5\\nentropy = 0.214\\nsamples = 369\\nvalue = [324, 45]'),\n",
       " Text(228.40933572710955, 154.71692307692308, 'X[548] <= 0.5\\nentropy = 0.211\\nsamples = 368\\nvalue = [324, 44]'),\n",
       " Text(226.00502692998208, 153.04430769230768, 'X[752] <= 0.5\\nentropy = 0.207\\nsamples = 367\\nvalue = [324, 43]'),\n",
       " Text(223.6007181328546, 151.37169230769229, 'X[609] <= 0.5\\nentropy = 0.203\\nsamples = 366\\nvalue = [324, 42]'),\n",
       " Text(221.19640933572714, 149.69907692307692, 'X[1082] <= 0.5\\nentropy = 0.199\\nsamples = 365\\nvalue = [324, 41]'),\n",
       " Text(218.79210053859967, 148.02646153846155, 'X[415] <= 0.5\\nentropy = 0.196\\nsamples = 364\\nvalue = [324, 40]'),\n",
       " Text(216.3877917414722, 146.35384615384615, 'X[792] <= 0.5\\nentropy = 0.192\\nsamples = 363\\nvalue = [324, 39]'),\n",
       " Text(213.98348294434473, 144.68123076923075, 'X[4] <= 0.5\\nentropy = 0.188\\nsamples = 362\\nvalue = [324, 38]'),\n",
       " Text(211.57917414721726, 143.00861538461538, 'X[559] <= 0.5\\nentropy = 0.184\\nsamples = 361\\nvalue = [324, 37]'),\n",
       " Text(209.1748653500898, 141.336, 'X[881] <= 0.5\\nentropy = 0.18\\nsamples = 360\\nvalue = [324, 36]'),\n",
       " Text(206.77055655296232, 139.66338461538462, 'X[997] <= 0.5\\nentropy = 0.176\\nsamples = 359\\nvalue = [324, 35]'),\n",
       " Text(204.36624775583485, 137.99076923076922, 'X[885] <= 0.5\\nentropy = 0.172\\nsamples = 358\\nvalue = [324, 34]'),\n",
       " Text(201.96193895870738, 136.31815384615385, 'X[220] <= 0.5\\nentropy = 0.168\\nsamples = 357\\nvalue = [324, 33]'),\n",
       " Text(199.5576301615799, 134.64553846153848, 'X[905] <= 0.5\\nentropy = 0.164\\nsamples = 356\\nvalue = [324, 32]'),\n",
       " Text(197.15332136445244, 132.97292307692308, 'X[23] <= 0.5\\nentropy = 0.159\\nsamples = 355\\nvalue = [324, 31]'),\n",
       " Text(194.74901256732497, 131.30030769230768, 'X[799] <= 0.5\\nentropy = 0.155\\nsamples = 354\\nvalue = [324, 30]'),\n",
       " Text(192.3447037701975, 129.6276923076923, 'X[325] <= 0.5\\nentropy = 0.151\\nsamples = 353\\nvalue = [324, 29]'),\n",
       " Text(189.94039497307003, 127.95507692307692, 'X[953] <= 0.5\\nentropy = 0.146\\nsamples = 352\\nvalue = [324, 28]'),\n",
       " Text(185.1317773788151, 126.28246153846153, 'X[1020] <= 0.5\\nentropy = 0.143\\nsamples = 349\\nvalue = [322, 27]'),\n",
       " Text(182.72746858168762, 124.60984615384615, 'X[1007] <= 0.5\\nentropy = 0.151\\nsamples = 329\\nvalue = [302, 27]'),\n",
       " Text(180.32315978456015, 122.93723076923077, 'X[564] <= 0.5\\nentropy = 0.157\\nsamples = 315\\nvalue = [288, 27]'),\n",
       " Text(177.9188509874327, 121.26461538461538, 'X[871] <= 0.5\\nentropy = 0.163\\nsamples = 301\\nvalue = [274, 27]'),\n",
       " Text(175.51454219030524, 119.592, 'X[477] <= 0.5\\nentropy = 0.17\\nsamples = 287\\nvalue = [260, 27]'),\n",
       " Text(173.11023339317777, 117.91938461538462, 'X[229] <= 0.5\\nentropy = 0.178\\nsamples = 274\\nvalue = [247, 27]'),\n",
       " Text(170.7059245960503, 116.24676923076923, 'X[767] <= 0.5\\nentropy = 0.185\\nsamples = 261\\nvalue = [234, 27]'),\n",
       " Text(168.30161579892282, 114.57415384615385, 'X[873] <= 0.5\\nentropy = 0.194\\nsamples = 248\\nvalue = [221, 27]'),\n",
       " Text(165.89730700179535, 112.90153846153846, 'X[1111] <= 0.5\\nentropy = 0.203\\nsamples = 235\\nvalue = [208, 27]'),\n",
       " Text(163.49299820466788, 111.22892307692308, 'X[796] <= 0.5\\nentropy = 0.214\\nsamples = 222\\nvalue = [195, 27]'),\n",
       " Text(161.08868940754041, 109.55630769230768, 'X[447] <= 0.5\\nentropy = 0.225\\nsamples = 209\\nvalue = [182, 27]'),\n",
       " Text(158.68438061041294, 107.8836923076923, 'X[454] <= 0.5\\nentropy = 0.237\\nsamples = 197\\nvalue = [170, 27]'),\n",
       " Text(156.28007181328547, 106.21107692307692, 'X[1034] <= 0.5\\nentropy = 0.248\\nsamples = 186\\nvalue = [159, 27]'),\n",
       " Text(153.875763016158, 104.53846153846153, 'X[146] <= 0.5\\nentropy = 0.26\\nsamples = 176\\nvalue = [149, 27]'),\n",
       " Text(151.47145421903053, 102.86584615384615, 'X[529] <= 0.5\\nentropy = 0.271\\nsamples = 167\\nvalue = [140, 27]'),\n",
       " Text(149.06714542190306, 101.19323076923077, 'X[967] <= 0.5\\nentropy = 0.279\\nsamples = 161\\nvalue = [134, 27]'),\n",
       " Text(146.6628366247756, 99.52061538461538, 'X[161] <= 0.5\\nentropy = 0.288\\nsamples = 155\\nvalue = [128, 27]'),\n",
       " Text(144.25852782764812, 97.848, 'X[655] <= 0.5\\nentropy = 0.295\\nsamples = 150\\nvalue = [123, 27]'),\n",
       " Text(141.85421903052065, 96.17538461538462, 'X[1056] <= 0.5\\nentropy = 0.303\\nsamples = 145\\nvalue = [118, 27]'),\n",
       " Text(139.44991023339318, 94.50276923076923, 'X[1063] <= 0.5\\nentropy = 0.311\\nsamples = 140\\nvalue = [113, 27]'),\n",
       " Text(137.0456014362657, 92.83015384615385, 'X[431] <= 0.5\\nentropy = 0.318\\nsamples = 136\\nvalue = [109, 27]'),\n",
       " Text(134.64129263913824, 91.15753846153846, 'X[367] <= 0.5\\nentropy = 0.325\\nsamples = 132\\nvalue = [105, 27]'),\n",
       " Text(132.23698384201077, 89.48492307692308, 'X[212] <= 0.5\\nentropy = 0.331\\nsamples = 129\\nvalue = [102, 27]'),\n",
       " Text(129.8326750448833, 87.81230769230768, 'X[1073] <= 0.5\\nentropy = 0.337\\nsamples = 126\\nvalue = [99, 27]'),\n",
       " Text(127.42836624775585, 86.13969230769231, 'X[1002] <= 0.5\\nentropy = 0.343\\nsamples = 123\\nvalue = [96, 27]'),\n",
       " Text(125.02405745062838, 84.46707692307692, 'X[208] <= 0.5\\nentropy = 0.349\\nsamples = 120\\nvalue = [93, 27]'),\n",
       " Text(122.6197486535009, 82.79446153846155, 'X[250] <= 0.5\\nentropy = 0.355\\nsamples = 117\\nvalue = [90, 27]'),\n",
       " Text(120.21543985637344, 81.12184615384615, 'X[847] <= 0.5\\nentropy = 0.361\\nsamples = 114\\nvalue = [87, 27]'),\n",
       " Text(117.81113105924597, 79.44923076923078, 'X[1115] <= 0.5\\nentropy = 0.368\\nsamples = 111\\nvalue = [84, 27]'),\n",
       " Text(115.40682226211851, 77.77661538461538, 'X[1074] <= 0.5\\nentropy = 0.375\\nsamples = 108\\nvalue = [81, 27]'),\n",
       " Text(113.00251346499104, 76.10399999999998, 'X[1040] <= 0.5\\nentropy = 0.382\\nsamples = 105\\nvalue = [78, 27]'),\n",
       " Text(110.59820466786357, 74.43138461538462, 'X[504] <= 0.5\\nentropy = 0.389\\nsamples = 102\\nvalue = [75, 27]'),\n",
       " Text(108.1938958707361, 72.75876923076922, 'X[661] <= 0.5\\nentropy = 0.394\\nsamples = 100\\nvalue = [73, 27]'),\n",
       " Text(105.78958707360863, 71.08615384615385, 'X[392] <= 0.5\\nentropy = 0.399\\nsamples = 98\\nvalue = [71, 27]'),\n",
       " Text(100.98096947935369, 69.41353846153845, 'X[996] <= 0.5\\nentropy = 0.412\\nsamples = 86\\nvalue = [61, 25]'),\n",
       " Text(98.57666068222622, 67.74092307692308, 'X[1031] <= 0.5\\nentropy = 0.418\\nsamples = 84\\nvalue = [59, 25]'),\n",
       " Text(96.17235188509875, 66.06830769230768, 'X[1065] <= 0.5\\nentropy = 0.424\\nsamples = 82\\nvalue = [57, 25]'),\n",
       " Text(93.76804308797128, 64.39569230769231, 'X[536] <= 0.5\\nentropy = 0.43\\nsamples = 80\\nvalue = [55, 25]'),\n",
       " Text(91.36373429084381, 62.72307692307692, 'X[806] <= 0.5\\nentropy = 0.436\\nsamples = 78\\nvalue = [53, 25]'),\n",
       " Text(88.95942549371635, 61.05046153846155, 'X[387] <= 0.5\\nentropy = 0.441\\nsamples = 76\\nvalue = [51, 25]'),\n",
       " Text(86.55511669658888, 59.37784615384615, 'X[552] <= 0.5\\nentropy = 0.447\\nsamples = 74\\nvalue = [49, 25]'),\n",
       " Text(84.15080789946141, 57.70523076923078, 'X[839] <= 0.5\\nentropy = 0.453\\nsamples = 72\\nvalue = [47, 25]'),\n",
       " Text(81.74649910233394, 56.03261538461538, 'X[75] <= 0.5\\nentropy = 0.459\\nsamples = 70\\nvalue = [45, 25]'),\n",
       " Text(79.34219030520647, 54.359999999999985, 'X[1114] <= 0.5\\nentropy = 0.465\\nsamples = 68\\nvalue = [43, 25]'),\n",
       " Text(76.937881508079, 52.687384615384616, 'X[843] <= 0.5\\nentropy = 0.471\\nsamples = 66\\nvalue = [41, 25]'),\n",
       " Text(74.53357271095153, 51.01476923076922, 'X[802] <= 0.5\\nentropy = 0.476\\nsamples = 64\\nvalue = [39, 25]'),\n",
       " Text(72.12926391382406, 49.34215384615385, 'X[693] <= 0.5\\nentropy = 0.481\\nsamples = 62\\nvalue = [37, 25]'),\n",
       " Text(69.72495511669659, 47.66953846153845, 'X[469] <= 0.5\\nentropy = 0.486\\nsamples = 60\\nvalue = [35, 25]'),\n",
       " Text(67.32064631956912, 45.99692307692308, 'X[1059] <= 0.5\\nentropy = 0.49\\nsamples = 58\\nvalue = [33, 25]'),\n",
       " Text(64.91633752244165, 44.324307692307684, 'X[823] <= 0.5\\nentropy = 0.494\\nsamples = 56\\nvalue = [31, 25]'),\n",
       " Text(62.51202872531419, 42.651692307692315, 'X[949] <= 0.5\\nentropy = 0.497\\nsamples = 54\\nvalue = [29, 25]'),\n",
       " Text(60.10771992818672, 40.97907692307692, 'X[335] <= 0.5\\nentropy = 0.499\\nsamples = 52\\nvalue = [27, 25]'),\n",
       " Text(57.703411131059255, 39.30646153846155, 'X[524] <= 0.5\\nentropy = 0.5\\nsamples = 50\\nvalue = [25, 25]'),\n",
       " Text(55.299102333931785, 37.63384615384615, 'X[677] <= 0.5\\nentropy = 0.499\\nsamples = 48\\nvalue = [23, 25]'),\n",
       " Text(52.894793536804315, 35.96123076923078, 'X[403] <= 0.5\\nentropy = 0.496\\nsamples = 46\\nvalue = [21, 25]'),\n",
       " Text(50.490484739676845, 34.28861538461538, 'X[488] <= 0.5\\nentropy = 0.494\\nsamples = 45\\nvalue = [20, 25]'),\n",
       " Text(48.086175942549374, 32.615999999999985, 'X[1071] <= 0.5\\nentropy = 0.491\\nsamples = 44\\nvalue = [19, 25]'),\n",
       " Text(45.681867145421904, 30.943384615384616, 'X[213] <= 0.5\\nentropy = 0.487\\nsamples = 43\\nvalue = [18, 25]'),\n",
       " Text(43.27755834829444, 29.27076923076922, 'X[461] <= 0.5\\nentropy = 0.482\\nsamples = 42\\nvalue = [17, 25]'),\n",
       " Text(40.87324955116697, 27.59815384615385, 'X[430] <= 0.5\\nentropy = 0.476\\nsamples = 41\\nvalue = [16, 25]'),\n",
       " Text(38.4689407540395, 25.92553846153845, 'X[593] <= 0.5\\nentropy = 0.469\\nsamples = 40\\nvalue = [15, 25]'),\n",
       " Text(36.06463195691203, 24.252923076923082, 'X[442] <= 1.0\\nentropy = 0.46\\nsamples = 39\\nvalue = [14, 25]'),\n",
       " Text(33.66032315978456, 22.580307692307684, 'X[573] <= 0.5\\nentropy = 0.45\\nsamples = 38\\nvalue = [13, 25]'),\n",
       " Text(31.256014362657094, 20.907692307692315, 'X[943] <= 0.5\\nentropy = 0.438\\nsamples = 37\\nvalue = [12, 25]'),\n",
       " Text(28.851705565529628, 19.235076923076917, 'X[1136] <= 0.5\\nentropy = 0.424\\nsamples = 36\\nvalue = [11, 25]'),\n",
       " Text(26.447396768402157, 17.562461538461548, 'X[1005] <= 0.5\\nentropy = 0.408\\nsamples = 35\\nvalue = [10, 25]'),\n",
       " Text(24.043087971274687, 15.88984615384615, 'X[1113] <= 0.5\\nentropy = 0.389\\nsamples = 34\\nvalue = [9, 25]'),\n",
       " Text(21.63877917414722, 14.217230769230781, 'X[511] <= 0.5\\nentropy = 0.367\\nsamples = 33\\nvalue = [8, 25]'),\n",
       " Text(19.23447037701975, 12.544615384615383, 'X[507] <= 0.5\\nentropy = 0.342\\nsamples = 32\\nvalue = [7, 25]'),\n",
       " Text(16.83016157989228, 10.871999999999986, 'X[34] <= 0.5\\nentropy = 0.312\\nsamples = 31\\nvalue = [6, 25]'),\n",
       " Text(14.425852782764814, 9.199384615384616, 'X[262] <= 0.5\\nentropy = 0.278\\nsamples = 30\\nvalue = [5, 25]'),\n",
       " Text(12.021543985637344, 7.526769230769219, 'X[1143] <= 0.5\\nentropy = 0.238\\nsamples = 29\\nvalue = [4, 25]'),\n",
       " Text(9.617235188509875, 5.854153846153849, 'X[434] <= 0.5\\nentropy = 0.191\\nsamples = 28\\nvalue = [3, 25]'),\n",
       " Text(7.212926391382407, 4.181538461538452, 'X[755] <= 0.5\\nentropy = 0.137\\nsamples = 27\\nvalue = [2, 25]'),\n",
       " Text(4.808617594254938, 2.5089230769230824, 'X[821] <= 0.5\\nentropy = 0.074\\nsamples = 26\\nvalue = [1, 25]'),\n",
       " Text(2.404308797127469, 0.8363076923076846, 'entropy = 0.0\\nsamples = 25\\nvalue = [0, 25]'),\n",
       " Text(7.212926391382407, 0.8363076923076846, 'entropy = 0.0\\nsamples = 1\\nvalue = [1, 0]'),\n",
       " Text(9.617235188509875, 2.5089230769230824, 'entropy = 0.0\\nsamples = 1\\nvalue = [1, 0]'),\n",
       " Text(12.021543985637344, 4.181538461538452, 'entropy = 0.0\\nsamples = 1\\nvalue = [1, 0]'),\n",
       " Text(14.425852782764814, 5.854153846153849, 'entropy = 0.0\\nsamples = 1\\nvalue = [1, 0]'),\n",
       " Text(16.83016157989228, 7.526769230769219, 'entropy = 0.0\\nsamples = 1\\nvalue = [1, 0]'),\n",
       " Text(19.23447037701975, 9.199384615384616, 'entropy = 0.0\\nsamples = 1\\nvalue = [1, 0]'),\n",
       " Text(21.63877917414722, 10.871999999999986, 'entropy = 0.0\\nsamples = 1\\nvalue = [1, 0]'),\n",
       " Text(24.043087971274687, 12.544615384615383, 'entropy = 0.0\\nsamples = 1\\nvalue = [1, 0]'),\n",
       " Text(26.447396768402157, 14.217230769230781, 'entropy = 0.0\\nsamples = 1\\nvalue = [1, 0]'),\n",
       " Text(28.851705565529628, 15.88984615384615, 'entropy = 0.0\\nsamples = 1\\nvalue = [1, 0]'),\n",
       " Text(31.256014362657094, 17.562461538461548, 'entropy = 0.0\\nsamples = 1\\nvalue = [1, 0]'),\n",
       " Text(33.66032315978456, 19.235076923076917, 'entropy = 0.0\\nsamples = 1\\nvalue = [1, 0]'),\n",
       " Text(36.06463195691203, 20.907692307692315, 'entropy = 0.0\\nsamples = 1\\nvalue = [1, 0]'),\n",
       " Text(38.4689407540395, 22.580307692307684, 'entropy = 0.0\\nsamples = 1\\nvalue = [1, 0]'),\n",
       " Text(40.87324955116697, 24.252923076923082, 'entropy = 0.0\\nsamples = 1\\nvalue = [1, 0]'),\n",
       " Text(43.27755834829444, 25.92553846153845, 'entropy = 0.0\\nsamples = 1\\nvalue = [1, 0]'),\n",
       " Text(45.681867145421904, 27.59815384615385, 'entropy = 0.0\\nsamples = 1\\nvalue = [1, 0]'),\n",
       " Text(48.086175942549374, 29.27076923076922, 'entropy = 0.0\\nsamples = 1\\nvalue = [1, 0]'),\n",
       " Text(50.490484739676845, 30.943384615384616, 'entropy = 0.0\\nsamples = 1\\nvalue = [1, 0]'),\n",
       " Text(52.894793536804315, 32.615999999999985, 'entropy = 0.0\\nsamples = 1\\nvalue = [1, 0]'),\n",
       " Text(55.299102333931785, 34.28861538461538, 'entropy = 0.0\\nsamples = 1\\nvalue = [1, 0]'),\n",
       " Text(57.703411131059255, 35.96123076923078, 'entropy = 0.0\\nsamples = 2\\nvalue = [2, 0]'),\n",
       " Text(60.10771992818672, 37.63384615384615, 'entropy = 0.0\\nsamples = 2\\nvalue = [2, 0]'),\n",
       " Text(62.51202872531419, 39.30646153846155, 'entropy = 0.0\\nsamples = 2\\nvalue = [2, 0]'),\n",
       " Text(64.91633752244165, 40.97907692307692, 'entropy = 0.0\\nsamples = 2\\nvalue = [2, 0]'),\n",
       " Text(67.32064631956912, 42.651692307692315, 'entropy = 0.0\\nsamples = 2\\nvalue = [2, 0]'),\n",
       " Text(69.72495511669659, 44.324307692307684, 'entropy = 0.0\\nsamples = 2\\nvalue = [2, 0]'),\n",
       " Text(72.12926391382406, 45.99692307692308, 'entropy = 0.0\\nsamples = 2\\nvalue = [2, 0]'),\n",
       " Text(74.53357271095153, 47.66953846153845, 'entropy = 0.0\\nsamples = 2\\nvalue = [2, 0]'),\n",
       " Text(76.937881508079, 49.34215384615385, 'entropy = 0.0\\nsamples = 2\\nvalue = [2, 0]'),\n",
       " Text(79.34219030520647, 51.01476923076922, 'entropy = 0.0\\nsamples = 2\\nvalue = [2, 0]'),\n",
       " Text(81.74649910233394, 52.687384615384616, 'entropy = 0.0\\nsamples = 2\\nvalue = [2, 0]'),\n",
       " Text(84.15080789946141, 54.359999999999985, 'entropy = 0.0\\nsamples = 2\\nvalue = [2, 0]'),\n",
       " Text(86.55511669658888, 56.03261538461538, 'entropy = 0.0\\nsamples = 2\\nvalue = [2, 0]'),\n",
       " Text(88.95942549371635, 57.70523076923078, 'entropy = 0.0\\nsamples = 2\\nvalue = [2, 0]'),\n",
       " Text(91.36373429084381, 59.37784615384615, 'entropy = 0.0\\nsamples = 2\\nvalue = [2, 0]'),\n",
       " Text(93.76804308797128, 61.05046153846155, 'entropy = 0.0\\nsamples = 2\\nvalue = [2, 0]'),\n",
       " Text(96.17235188509875, 62.72307692307692, 'entropy = 0.0\\nsamples = 2\\nvalue = [2, 0]'),\n",
       " Text(98.57666068222622, 64.39569230769231, 'entropy = 0.0\\nsamples = 2\\nvalue = [2, 0]'),\n",
       " Text(100.98096947935369, 66.06830769230768, 'entropy = 0.0\\nsamples = 2\\nvalue = [2, 0]'),\n",
       " Text(103.38527827648116, 67.74092307692308, 'entropy = 0.0\\nsamples = 2\\nvalue = [2, 0]'),\n",
       " Text(110.59820466786357, 69.41353846153845, 'X[599] <= 0.5\\nentropy = 0.278\\nsamples = 12\\nvalue = [10, 2]'),\n",
       " Text(108.1938958707361, 67.74092307692308, 'X[5] <= 0.5\\nentropy = 0.32\\nsamples = 10\\nvalue = [8, 2]'),\n",
       " Text(105.78958707360863, 66.06830769230768, 'entropy = 0.346\\nsamples = 9\\nvalue = [7, 2]'),\n",
       " Text(110.59820466786357, 66.06830769230768, 'entropy = 0.0\\nsamples = 1\\nvalue = [1, 0]'),\n",
       " Text(113.00251346499104, 67.74092307692308, 'entropy = 0.0\\nsamples = 2\\nvalue = [2, 0]'),\n",
       " Text(110.59820466786357, 71.08615384615385, 'entropy = 0.0\\nsamples = 2\\nvalue = [2, 0]'),\n",
       " Text(113.00251346499104, 72.75876923076922, 'entropy = 0.0\\nsamples = 2\\nvalue = [2, 0]'),\n",
       " Text(115.40682226211851, 74.43138461538462, 'entropy = 0.0\\nsamples = 3\\nvalue = [3, 0]'),\n",
       " Text(117.81113105924597, 76.10399999999998, 'entropy = 0.0\\nsamples = 3\\nvalue = [3, 0]'),\n",
       " Text(120.21543985637344, 77.77661538461538, 'entropy = 0.0\\nsamples = 3\\nvalue = [3, 0]'),\n",
       " Text(122.6197486535009, 79.44923076923078, 'entropy = 0.0\\nsamples = 3\\nvalue = [3, 0]'),\n",
       " Text(125.02405745062838, 81.12184615384615, 'entropy = 0.0\\nsamples = 3\\nvalue = [3, 0]'),\n",
       " Text(127.42836624775585, 82.79446153846155, 'entropy = 0.0\\nsamples = 3\\nvalue = [3, 0]'),\n",
       " Text(129.8326750448833, 84.46707692307692, 'entropy = 0.0\\nsamples = 3\\nvalue = [3, 0]'),\n",
       " Text(132.23698384201077, 86.13969230769231, 'entropy = 0.0\\nsamples = 3\\nvalue = [3, 0]'),\n",
       " Text(134.64129263913824, 87.81230769230768, 'entropy = 0.0\\nsamples = 3\\nvalue = [3, 0]'),\n",
       " Text(137.0456014362657, 89.48492307692308, 'entropy = 0.0\\nsamples = 3\\nvalue = [3, 0]'),\n",
       " Text(139.44991023339318, 91.15753846153846, 'entropy = 0.0\\nsamples = 4\\nvalue = [4, 0]'),\n",
       " Text(141.85421903052065, 92.83015384615385, 'entropy = 0.0\\nsamples = 4\\nvalue = [4, 0]'),\n",
       " Text(144.25852782764812, 94.50276923076923, 'entropy = 0.0\\nsamples = 5\\nvalue = [5, 0]'),\n",
       " Text(146.6628366247756, 96.17538461538462, 'entropy = 0.0\\nsamples = 5\\nvalue = [5, 0]'),\n",
       " Text(149.06714542190306, 97.848, 'entropy = 0.0\\nsamples = 5\\nvalue = [5, 0]'),\n",
       " Text(151.47145421903053, 99.52061538461538, 'entropy = 0.0\\nsamples = 6\\nvalue = [6, 0]'),\n",
       " Text(153.875763016158, 101.19323076923077, 'entropy = 0.0\\nsamples = 6\\nvalue = [6, 0]'),\n",
       " Text(156.28007181328547, 102.86584615384615, 'entropy = 0.0\\nsamples = 9\\nvalue = [9, 0]'),\n",
       " Text(158.68438061041294, 104.53846153846153, 'entropy = 0.0\\nsamples = 10\\nvalue = [10, 0]'),\n",
       " Text(161.08868940754041, 106.21107692307692, 'entropy = 0.0\\nsamples = 11\\nvalue = [11, 0]'),\n",
       " Text(163.49299820466788, 107.8836923076923, 'entropy = 0.0\\nsamples = 12\\nvalue = [12, 0]'),\n",
       " Text(165.89730700179535, 109.55630769230768, 'entropy = 0.0\\nsamples = 13\\nvalue = [13, 0]'),\n",
       " Text(168.30161579892282, 111.22892307692308, 'entropy = 0.0\\nsamples = 13\\nvalue = [13, 0]'),\n",
       " Text(170.7059245960503, 112.90153846153846, 'entropy = 0.0\\nsamples = 13\\nvalue = [13, 0]'),\n",
       " Text(173.11023339317777, 114.57415384615385, 'entropy = 0.0\\nsamples = 13\\nvalue = [13, 0]'),\n",
       " Text(175.51454219030524, 116.24676923076923, 'entropy = 0.0\\nsamples = 13\\nvalue = [13, 0]'),\n",
       " Text(177.9188509874327, 117.91938461538462, 'entropy = 0.0\\nsamples = 13\\nvalue = [13, 0]'),\n",
       " Text(180.32315978456015, 119.592, 'entropy = 0.0\\nsamples = 14\\nvalue = [14, 0]'),\n",
       " Text(182.72746858168762, 121.26461538461538, 'entropy = 0.0\\nsamples = 14\\nvalue = [14, 0]'),\n",
       " Text(185.1317773788151, 122.93723076923077, 'entropy = 0.0\\nsamples = 14\\nvalue = [14, 0]'),\n",
       " Text(187.53608617594256, 124.60984615384615, 'entropy = 0.0\\nsamples = 20\\nvalue = [20, 0]'),\n",
       " Text(194.74901256732497, 126.28246153846153, 'X[192] <= 0.5\\nentropy = 0.444\\nsamples = 3\\nvalue = [2, 1]'),\n",
       " Text(192.3447037701975, 124.60984615384615, 'entropy = 0.5\\nsamples = 2\\nvalue = [1, 1]'),\n",
       " Text(197.15332136445244, 124.60984615384615, 'entropy = 0.0\\nsamples = 1\\nvalue = [1, 0]'),\n",
       " Text(194.74901256732497, 127.95507692307692, 'entropy = 0.0\\nsamples = 1\\nvalue = [0, 1]'),\n",
       " Text(197.15332136445244, 129.6276923076923, 'entropy = 0.0\\nsamples = 1\\nvalue = [0, 1]'),\n",
       " Text(199.5576301615799, 131.30030769230768, 'entropy = 0.0\\nsamples = 1\\nvalue = [0, 1]'),\n",
       " Text(201.96193895870738, 132.97292307692308, 'entropy = 0.0\\nsamples = 1\\nvalue = [0, 1]'),\n",
       " Text(204.36624775583485, 134.64553846153848, 'entropy = 0.0\\nsamples = 1\\nvalue = [0, 1]'),\n",
       " Text(206.77055655296232, 136.31815384615385, 'entropy = 0.0\\nsamples = 1\\nvalue = [0, 1]'),\n",
       " Text(209.1748653500898, 137.99076923076922, 'entropy = 0.0\\nsamples = 1\\nvalue = [0, 1]'),\n",
       " Text(211.57917414721726, 139.66338461538462, 'entropy = 0.0\\nsamples = 1\\nvalue = [0, 1]'),\n",
       " Text(213.98348294434473, 141.336, 'entropy = 0.0\\nsamples = 1\\nvalue = [0, 1]'),\n",
       " Text(216.3877917414722, 143.00861538461538, 'entropy = 0.0\\nsamples = 1\\nvalue = [0, 1]'),\n",
       " Text(218.79210053859967, 144.68123076923075, 'entropy = 0.0\\nsamples = 1\\nvalue = [0, 1]'),\n",
       " Text(221.19640933572714, 146.35384615384615, 'entropy = 0.0\\nsamples = 1\\nvalue = [0, 1]'),\n",
       " Text(223.6007181328546, 148.02646153846155, 'entropy = 0.0\\nsamples = 1\\nvalue = [0, 1]'),\n",
       " Text(226.00502692998208, 149.69907692307692, 'entropy = 0.0\\nsamples = 1\\nvalue = [0, 1]'),\n",
       " Text(228.40933572710955, 151.37169230769229, 'entropy = 0.0\\nsamples = 1\\nvalue = [0, 1]'),\n",
       " Text(230.81364452423702, 153.04430769230768, 'entropy = 0.0\\nsamples = 1\\nvalue = [0, 1]'),\n",
       " Text(233.21795332136446, 154.71692307692308, 'entropy = 0.0\\nsamples = 1\\nvalue = [0, 1]'),\n",
       " Text(235.62226211849193, 156.38953846153845, 'entropy = 0.0\\nsamples = 1\\nvalue = [0, 1]'),\n",
       " Text(238.0265709156194, 158.06215384615385, 'entropy = 0.0\\nsamples = 1\\nvalue = [0, 1]'),\n",
       " Text(240.43087971274687, 159.73476923076925, 'entropy = 0.0\\nsamples = 1\\nvalue = [0, 1]'),\n",
       " Text(242.83518850987434, 161.40738461538461, 'entropy = 0.0\\nsamples = 1\\nvalue = [0, 1]'),\n",
       " Text(245.2394973070018, 163.07999999999998, 'entropy = 0.0\\nsamples = 1\\nvalue = [0, 1]'),\n",
       " Text(247.64380610412928, 164.75261538461538, 'entropy = 0.0\\nsamples = 1\\nvalue = [0, 1]'),\n",
       " Text(250.04811490125675, 166.42523076923078, 'entropy = 0.0\\nsamples = 1\\nvalue = [0, 1]'),\n",
       " Text(252.45242369838422, 168.09784615384615, 'entropy = 0.0\\nsamples = 1\\nvalue = [0, 1]'),\n",
       " Text(254.8567324955117, 169.77046153846155, 'entropy = 0.0\\nsamples = 1\\nvalue = [0, 1]'),\n",
       " Text(257.26104129263916, 171.44307692307692, 'entropy = 0.0\\nsamples = 1\\nvalue = [0, 1]'),\n",
       " Text(259.6653500897666, 173.1156923076923, 'entropy = 0.0\\nsamples = 1\\nvalue = [0, 1]'),\n",
       " Text(262.0696588868941, 174.78830769230768, 'entropy = 0.0\\nsamples = 52\\nvalue = [52, 0]'),\n",
       " Text(264.47396768402155, 176.46092307692308, 'entropy = 0.0\\nsamples = 2\\nvalue = [0, 2]'),\n",
       " Text(266.87827648114904, 178.13353846153845, 'entropy = 0.0\\nsamples = 2\\nvalue = [0, 2]'),\n",
       " Text(269.2825852782765, 179.80615384615385, 'entropy = 0.0\\nsamples = 2\\nvalue = [0, 2]'),\n",
       " Text(271.686894075404, 181.47876923076922, 'entropy = 0.0\\nsamples = 2\\nvalue = [0, 2]'),\n",
       " Text(274.0912028725314, 183.15138461538461, 'entropy = 0.0\\nsamples = 2\\nvalue = [0, 2]'),\n",
       " Text(276.4955116696589, 184.824, 'entropy = 0.0\\nsamples = 2\\nvalue = [0, 2]'),\n",
       " Text(278.89982046678637, 186.49661538461538, 'entropy = 0.0\\nsamples = 3\\nvalue = [0, 3]'),\n",
       " Text(281.30412926391386, 188.16923076923078, 'entropy = 0.0\\nsamples = 3\\nvalue = [0, 3]'),\n",
       " Text(283.7084380610413, 189.84184615384615, 'entropy = 0.0\\nsamples = 3\\nvalue = [0, 3]'),\n",
       " Text(286.1127468581688, 191.51446153846155, 'entropy = 0.278\\nsamples = 6\\nvalue = [1, 5]'),\n",
       " Text(293.3256732495512, 193.18707692307692, 'X[497] <= 0.5\\nentropy = 0.278\\nsamples = 6\\nvalue = [1, 5]'),\n",
       " Text(290.92136445242375, 191.51446153846155, 'entropy = 0.375\\nsamples = 4\\nvalue = [1, 3]'),\n",
       " Text(295.7299820466787, 191.51446153846155, 'entropy = 0.0\\nsamples = 2\\nvalue = [0, 2]'),\n",
       " Text(293.3256732495512, 194.8596923076923, 'entropy = 0.0\\nsamples = 4\\nvalue = [0, 4]'),\n",
       " Text(302.94290843806107, 196.53230769230768, 'X[698] <= 0.5\\nentropy = 0.346\\nsamples = 9\\nvalue = [2, 7]'),\n",
       " Text(300.5385996409336, 194.8596923076923, 'X[433] <= 0.5\\nentropy = 0.219\\nsamples = 8\\nvalue = [1, 7]'),\n",
       " Text(298.1342908438061, 193.18707692307692, 'entropy = 0.0\\nsamples = 7\\nvalue = [0, 7]'),\n",
       " Text(302.94290843806107, 193.18707692307692, 'entropy = 0.0\\nsamples = 1\\nvalue = [1, 0]'),\n",
       " Text(305.34721723518857, 194.8596923076923, 'entropy = 0.0\\nsamples = 1\\nvalue = [1, 0]'),\n",
       " Text(314.9644524236984, 198.20492307692308, 'X[250] <= 0.5\\nentropy = 0.408\\nsamples = 14\\nvalue = [4, 10]'),\n",
       " Text(312.56014362657095, 196.53230769230768, 'X[738] <= 0.5\\nentropy = 0.355\\nsamples = 13\\nvalue = [3, 10]'),\n",
       " Text(310.15583482944345, 194.8596923076923, 'X[1020] <= 0.5\\nentropy = 0.278\\nsamples = 12\\nvalue = [2, 10]'),\n",
       " Text(307.751526032316, 193.18707692307692, 'entropy = 0.165\\nsamples = 11\\nvalue = [1, 10]'),\n",
       " Text(312.56014362657095, 193.18707692307692, 'entropy = 0.0\\nsamples = 1\\nvalue = [1, 0]'),\n",
       " Text(314.9644524236984, 194.8596923076923, 'entropy = 0.0\\nsamples = 1\\nvalue = [1, 0]'),\n",
       " Text(317.3687612208259, 196.53230769230768, 'entropy = 0.0\\nsamples = 1\\nvalue = [1, 0]'),\n",
       " Text(310.75691202872537, 199.87753846153845, 'entropy = 0.0\\nsamples = 6\\nvalue = [0, 6]'),\n",
       " Text(313.1612208258528, 201.55015384615385, 'entropy = 0.0\\nsamples = 8\\nvalue = [0, 8]'),\n",
       " Text(315.5655296229803, 203.22276923076922, 'entropy = 0.0\\nsamples = 8\\nvalue = [0, 8]'),\n",
       " Text(317.96983842010775, 204.89538461538461, 'entropy = 0.0\\nsamples = 11\\nvalue = [0, 11]'),\n",
       " Text(320.37414721723525, 206.56799999999998, 'entropy = 0.0\\nsamples = 13\\nvalue = [0, 13]'),\n",
       " Text(322.7784560143627, 208.24061538461538, 'entropy = 0.0\\nsamples = 13\\nvalue = [0, 13]'),\n",
       " Text(325.18276481149013, 209.91323076923078, 'entropy = 0.0\\nsamples = 20\\nvalue = [0, 20]'),\n",
       " Text(327.58707360861763, 211.58584615384615, 'entropy = 0.0\\nsamples = 49\\nvalue = [0, 49]'),\n",
       " Text(329.99138240574507, 213.25846153846155, 'entropy = 0.0\\nsamples = 82\\nvalue = [0, 82]'),\n",
       " Text(332.39569120287257, 214.93107692307692, 'entropy = 0.0\\nsamples = 122\\nvalue = [0, 122]')]"
      ]
     },
     "execution_count": 36,
     "metadata": {},
     "output_type": "execute_result"
    },
    {
     "data": {
      "image/png": "[encoded data removed]",
      "text/plain": [
       "<Figure size 432x288 with 1 Axes>"
      ]
     },
     "metadata": {
      "needs_background": "light"
     },
     "output_type": "display_data"
    }
   ],
   "source": [
    "tree.plot_tree(dtree)\n",
    "# dtree_pred"
   ]
  },
  {
   "cell_type": "code",
   "execution_count": 37,
   "metadata": {},
   "outputs": [
    {
     "data": {
      "text/plain": [
       "'digraph Tree {\\nnode [shape=box] ;\\n0 [label=\"X[30] <= 0.5\\\\ngini = 0.498\\\\nsamples = 824\\\\nvalue = [384, 440]\"] ;\\n1 [label=\"X[125] <= 0.5\\\\ngini = 0.496\\\\nsamples = 702\\\\nvalue = [384, 318]\"] ;\\n0 -> 1 [labeldistance=2.5, labelangle=45, headlabel=\"True\"] ;\\n2 [label=\"X[375] <= 0.5\\\\ngini = 0.472\\\\nsamples = 620\\\\nvalue = [384, 236]\"] ;\\n1 -> 2 ;\\n3 [label=\"X[970] <= 0.5\\\\ngini = 0.44\\\\nsamples = 571\\\\nvalue = [384, 187]\"] ;\\n2 -> 3 ;\\n4 [label=\"X[538] <= 0.5\\\\ngini = 0.422\\\\nsamples = 551\\\\nvalue = [384, 167]\"] ;\\n3 -> 4 ;\\n5 [label=\"X[637] <= 0.5\\\\ngini = 0.409\\\\nsamples = 538\\\\nvalue = [384, 154]\"] ;\\n4 -> 5 ;\\n6 [label=\"X[628] <= 0.5\\\\ngini = 0.393\\\\nsamples = 525\\\\nvalue = [384, 141]\"] ;\\n5 -> 6 ;\\n7 [label=\"X[207] <= 0.5\\\\ngini = 0.378\\\\nsamples = 514\\\\nvalue = [384, 130]\"] ;\\n6 -> 7 ;\\n8 [label=\"X[549] <= 0.5\\\\ngini = 0.366\\\\nsamples = 506\\\\nvalue = [384, 122]\"] ;\\n7 -> 8 ;\\n9 [label=\"X[288] <= 0.5\\\\ngini = 0.353\\\\nsamples = 498\\\\nvalue = [384, 114]\"] ;\\n8 -> 9 ;\\n10 [label=\"X[862] <= 0.5\\\\ngini = 0.343\\\\nsamples = 492\\\\nvalue = [384, 108]\"] ;\\n9 -> 10 ;\\n11 [label=\"X[777] <= 0.5\\\\ngini = 0.326\\\\nsamples = 478\\\\nvalue = [380, 98]\"] ;\\n10 -> 11 ;\\n12 [label=\"X[980] <= 0.5\\\\ngini = 0.313\\\\nsamples = 469\\\\nvalue = [378, 91]\"] ;\\n11 -> 12 ;\\n13 [label=\"X[1098] <= 0.5\\\\ngini = 0.304\\\\nsamples = 465\\\\nvalue = [378, 87]\"] ;\\n12 -> 13 ;\\n14 [label=\"X[944] <= 0.5\\\\ngini = 0.293\\\\nsamples = 459\\\\nvalue = [377, 82]\"] ;\\n13 -> 14 ;\\n15 [label=\"X[324] <= 0.5\\\\ngini = 0.282\\\\nsamples = 453\\\\nvalue = [376, 77]\"] ;\\n14 -> 15 ;\\n16 [label=\"X[627] <= 0.5\\\\ngini = 0.275\\\\nsamples = 450\\\\nvalue = [376, 74]\"] ;\\n15 -> 16 ;\\n17 [label=\"X[218] <= 0.5\\\\ngini = 0.267\\\\nsamples = 447\\\\nvalue = [376, 71]\"] ;\\n16 -> 17 ;\\n18 [label=\"X[692] <= 0.5\\\\ngini = 0.259\\\\nsamples = 444\\\\nvalue = [376, 68]\"] ;\\n17 -> 18 ;\\n19 [label=\"X[975] <= 0.5\\\\ngini = 0.254\\\\nsamples = 442\\\\nvalue = [376, 66]\"] ;\\n18 -> 19 ;\\n20 [label=\"X[541] <= 0.5\\\\ngini = 0.249\\\\nsamples = 440\\\\nvalue = [376, 64]\"] ;\\n19 -> 20 ;\\n21 [label=\"X[171] <= 1.0\\\\ngini = 0.243\\\\nsamples = 438\\\\nvalue = [376, 62]\"] ;\\n20 -> 21 ;\\n22 [label=\"X[189] <= 0.5\\\\ngini = 0.237\\\\nsamples = 436\\\\nvalue = [376, 60]\"] ;\\n21 -> 22 ;\\n23 [label=\"X[772] <= 0.5\\\\ngini = 0.232\\\\nsamples = 434\\\\nvalue = [376, 58]\"] ;\\n22 -> 23 ;\\n24 [label=\"X[576] <= 0.5\\\\ngini = 0.226\\\\nsamples = 432\\\\nvalue = [376, 56]\"] ;\\n23 -> 24 ;\\n25 [label=\"X[901] <= 0.5\\\\ngini = 0.251\\\\nsamples = 380\\\\nvalue = [324, 56]\"] ;\\n24 -> 25 ;\\n26 [label=\"X[610] <= 0.5\\\\ngini = 0.248\\\\nsamples = 379\\\\nvalue = [324, 55]\"] ;\\n25 -> 26 ;\\n27 [label=\"X[162] <= 0.5\\\\ngini = 0.245\\\\nsamples = 378\\\\nvalue = [324, 54]\"] ;\\n26 -> 27 ;\\n28 [label=\"X[97] <= 0.5\\\\ngini = 0.242\\\\nsamples = 377\\\\nvalue = [324, 53]\"] ;\\n27 -> 28 ;\\n29 [label=\"X[312] <= 0.5\\\\ngini = 0.238\\\\nsamples = 376\\\\nvalue = [324, 52]\"] ;\\n28 -> 29 ;\\n30 [label=\"X[372] <= 0.5\\\\ngini = 0.235\\\\nsamples = 375\\\\nvalue = [324, 51]\"] ;\\n29 -> 30 ;\\n31 [label=\"X[105] <= 0.5\\\\ngini = 0.232\\\\nsamples = 374\\\\nvalue = [324, 50]\"] ;\\n30 -> 31 ;\\n32 [label=\"X[432] <= 0.5\\\\ngini = 0.228\\\\nsamples = 373\\\\nvalue = [324, 49]\"] ;\\n31 -> 32 ;\\n33 [label=\"X[822] <= 0.5\\\\ngini = 0.225\\\\nsamples = 372\\\\nvalue = [324, 48]\"] ;\\n32 -> 33 ;\\n34 [label=\"X[818] <= 0.5\\\\ngini = 0.221\\\\nsamples = 371\\\\nvalue = [324, 47]\"] ;\\n33 -> 34 ;\\n35 [label=\"X[391] <= 0.5\\\\ngini = 0.218\\\\nsamples = 370\\\\nvalue = [324, 46]\"] ;\\n34 -> 35 ;\\n36 [label=\"X[168] <= 0.5\\\\ngini = 0.214\\\\nsamples = 369\\\\nvalue = [324, 45]\"] ;\\n35 -> 36 ;\\n37 [label=\"X[548] <= 0.5\\\\ngini = 0.211\\\\nsamples = 368\\\\nvalue = [324, 44]\"] ;\\n36 -> 37 ;\\n38 [label=\"X[752] <= 0.5\\\\ngini = 0.207\\\\nsamples = 367\\\\nvalue = [324, 43]\"] ;\\n37 -> 38 ;\\n39 [label=\"X[609] <= 0.5\\\\ngini = 0.203\\\\nsamples = 366\\\\nvalue = [324, 42]\"] ;\\n38 -> 39 ;\\n40 [label=\"X[1082] <= 0.5\\\\ngini = 0.199\\\\nsamples = 365\\\\nvalue = [324, 41]\"] ;\\n39 -> 40 ;\\n41 [label=\"X[415] <= 0.5\\\\ngini = 0.196\\\\nsamples = 364\\\\nvalue = [324, 40]\"] ;\\n40 -> 41 ;\\n42 [label=\"X[792] <= 0.5\\\\ngini = 0.192\\\\nsamples = 363\\\\nvalue = [324, 39]\"] ;\\n41 -> 42 ;\\n43 [label=\"X[4] <= 0.5\\\\ngini = 0.188\\\\nsamples = 362\\\\nvalue = [324, 38]\"] ;\\n42 -> 43 ;\\n44 [label=\"X[559] <= 0.5\\\\ngini = 0.184\\\\nsamples = 361\\\\nvalue = [324, 37]\"] ;\\n43 -> 44 ;\\n45 [label=\"X[881] <= 0.5\\\\ngini = 0.18\\\\nsamples = 360\\\\nvalue = [324, 36]\"] ;\\n44 -> 45 ;\\n46 [label=\"X[997] <= 0.5\\\\ngini = 0.176\\\\nsamples = 359\\\\nvalue = [324, 35]\"] ;\\n45 -> 46 ;\\n47 [label=\"X[885] <= 0.5\\\\ngini = 0.172\\\\nsamples = 358\\\\nvalue = [324, 34]\"] ;\\n46 -> 47 ;\\n48 [label=\"X[220] <= 0.5\\\\ngini = 0.168\\\\nsamples = 357\\\\nvalue = [324, 33]\"] ;\\n47 -> 48 ;\\n49 [label=\"X[905] <= 0.5\\\\ngini = 0.164\\\\nsamples = 356\\\\nvalue = [324, 32]\"] ;\\n48 -> 49 ;\\n50 [label=\"X[23] <= 0.5\\\\ngini = 0.159\\\\nsamples = 355\\\\nvalue = [324, 31]\"] ;\\n49 -> 50 ;\\n51 [label=\"X[799] <= 0.5\\\\ngini = 0.155\\\\nsamples = 354\\\\nvalue = [324, 30]\"] ;\\n50 -> 51 ;\\n52 [label=\"X[325] <= 0.5\\\\ngini = 0.151\\\\nsamples = 353\\\\nvalue = [324, 29]\"] ;\\n51 -> 52 ;\\n53 [label=\"X[953] <= 0.5\\\\ngini = 0.146\\\\nsamples = 352\\\\nvalue = [324, 28]\"] ;\\n52 -> 53 ;\\n54 [label=\"X[1020] <= 0.5\\\\ngini = 0.143\\\\nsamples = 349\\\\nvalue = [322, 27]\"] ;\\n53 -> 54 ;\\n55 [label=\"X[1007] <= 0.5\\\\ngini = 0.151\\\\nsamples = 329\\\\nvalue = [302, 27]\"] ;\\n54 -> 55 ;\\n56 [label=\"X[564] <= 0.5\\\\ngini = 0.157\\\\nsamples = 315\\\\nvalue = [288, 27]\"] ;\\n55 -> 56 ;\\n57 [label=\"X[871] <= 0.5\\\\ngini = 0.163\\\\nsamples = 301\\\\nvalue = [274, 27]\"] ;\\n56 -> 57 ;\\n58 [label=\"X[477] <= 0.5\\\\ngini = 0.17\\\\nsamples = 287\\\\nvalue = [260, 27]\"] ;\\n57 -> 58 ;\\n59 [label=\"X[229] <= 0.5\\\\ngini = 0.178\\\\nsamples = 274\\\\nvalue = [247, 27]\"] ;\\n58 -> 59 ;\\n60 [label=\"X[767] <= 0.5\\\\ngini = 0.185\\\\nsamples = 261\\\\nvalue = [234, 27]\"] ;\\n59 -> 60 ;\\n61 [label=\"X[873] <= 0.5\\\\ngini = 0.194\\\\nsamples = 248\\\\nvalue = [221, 27]\"] ;\\n60 -> 61 ;\\n62 [label=\"X[1111] <= 0.5\\\\ngini = 0.203\\\\nsamples = 235\\\\nvalue = [208, 27]\"] ;\\n61 -> 62 ;\\n63 [label=\"X[796] <= 0.5\\\\ngini = 0.214\\\\nsamples = 222\\\\nvalue = [195, 27]\"] ;\\n62 -> 63 ;\\n64 [label=\"X[447] <= 0.5\\\\ngini = 0.225\\\\nsamples = 209\\\\nvalue = [182, 27]\"] ;\\n63 -> 64 ;\\n65 [label=\"X[454] <= 0.5\\\\ngini = 0.237\\\\nsamples = 197\\\\nvalue = [170, 27]\"] ;\\n64 -> 65 ;\\n66 [label=\"X[1034] <= 0.5\\\\ngini = 0.248\\\\nsamples = 186\\\\nvalue = [159, 27]\"] ;\\n65 -> 66 ;\\n67 [label=\"X[146] <= 0.5\\\\ngini = 0.26\\\\nsamples = 176\\\\nvalue = [149, 27]\"] ;\\n66 -> 67 ;\\n68 [label=\"X[529] <= 0.5\\\\ngini = 0.271\\\\nsamples = 167\\\\nvalue = [140, 27]\"] ;\\n67 -> 68 ;\\n69 [label=\"X[967] <= 0.5\\\\ngini = 0.279\\\\nsamples = 161\\\\nvalue = [134, 27]\"] ;\\n68 -> 69 ;\\n70 [label=\"X[161] <= 0.5\\\\ngini = 0.288\\\\nsamples = 155\\\\nvalue = [128, 27]\"] ;\\n69 -> 70 ;\\n71 [label=\"X[655] <= 0.5\\\\ngini = 0.295\\\\nsamples = 150\\\\nvalue = [123, 27]\"] ;\\n70 -> 71 ;\\n72 [label=\"X[1056] <= 0.5\\\\ngini = 0.303\\\\nsamples = 145\\\\nvalue = [118, 27]\"] ;\\n71 -> 72 ;\\n73 [label=\"X[1063] <= 0.5\\\\ngini = 0.311\\\\nsamples = 140\\\\nvalue = [113, 27]\"] ;\\n72 -> 73 ;\\n74 [label=\"X[431] <= 0.5\\\\ngini = 0.318\\\\nsamples = 136\\\\nvalue = [109, 27]\"] ;\\n73 -> 74 ;\\n75 [label=\"X[367] <= 0.5\\\\ngini = 0.325\\\\nsamples = 132\\\\nvalue = [105, 27]\"] ;\\n74 -> 75 ;\\n76 [label=\"X[212] <= 0.5\\\\ngini = 0.331\\\\nsamples = 129\\\\nvalue = [102, 27]\"] ;\\n75 -> 76 ;\\n77 [label=\"X[1073] <= 0.5\\\\ngini = 0.337\\\\nsamples = 126\\\\nvalue = [99, 27]\"] ;\\n76 -> 77 ;\\n78 [label=\"X[1002] <= 0.5\\\\ngini = 0.343\\\\nsamples = 123\\\\nvalue = [96, 27]\"] ;\\n77 -> 78 ;\\n79 [label=\"X[208] <= 0.5\\\\ngini = 0.349\\\\nsamples = 120\\\\nvalue = [93, 27]\"] ;\\n78 -> 79 ;\\n80 [label=\"X[250] <= 0.5\\\\ngini = 0.355\\\\nsamples = 117\\\\nvalue = [90, 27]\"] ;\\n79 -> 80 ;\\n81 [label=\"X[847] <= 0.5\\\\ngini = 0.361\\\\nsamples = 114\\\\nvalue = [87, 27]\"] ;\\n80 -> 81 ;\\n82 [label=\"X[1115] <= 0.5\\\\ngini = 0.368\\\\nsamples = 111\\\\nvalue = [84, 27]\"] ;\\n81 -> 82 ;\\n83 [label=\"X[1074] <= 0.5\\\\ngini = 0.375\\\\nsamples = 108\\\\nvalue = [81, 27]\"] ;\\n82 -> 83 ;\\n84 [label=\"X[1040] <= 0.5\\\\ngini = 0.382\\\\nsamples = 105\\\\nvalue = [78, 27]\"] ;\\n83 -> 84 ;\\n85 [label=\"X[504] <= 0.5\\\\ngini = 0.389\\\\nsamples = 102\\\\nvalue = [75, 27]\"] ;\\n84 -> 85 ;\\n86 [label=\"X[661] <= 0.5\\\\ngini = 0.394\\\\nsamples = 100\\\\nvalue = [73, 27]\"] ;\\n85 -> 86 ;\\n87 [label=\"X[392] <= 0.5\\\\ngini = 0.399\\\\nsamples = 98\\\\nvalue = [71, 27]\"] ;\\n86 -> 87 ;\\n88 [label=\"X[996] <= 0.5\\\\ngini = 0.412\\\\nsamples = 86\\\\nvalue = [61, 25]\"] ;\\n87 -> 88 ;\\n89 [label=\"X[1031] <= 0.5\\\\ngini = 0.418\\\\nsamples = 84\\\\nvalue = [59, 25]\"] ;\\n88 -> 89 ;\\n90 [label=\"X[1065] <= 0.5\\\\ngini = 0.424\\\\nsamples = 82\\\\nvalue = [57, 25]\"] ;\\n89 -> 90 ;\\n91 [label=\"X[536] <= 0.5\\\\ngini = 0.43\\\\nsamples = 80\\\\nvalue = [55, 25]\"] ;\\n90 -> 91 ;\\n92 [label=\"X[806] <= 0.5\\\\ngini = 0.436\\\\nsamples = 78\\\\nvalue = [53, 25]\"] ;\\n91 -> 92 ;\\n93 [label=\"X[387] <= 0.5\\\\ngini = 0.441\\\\nsamples = 76\\\\nvalue = [51, 25]\"] ;\\n92 -> 93 ;\\n94 [label=\"X[552] <= 0.5\\\\ngini = 0.447\\\\nsamples = 74\\\\nvalue = [49, 25]\"] ;\\n93 -> 94 ;\\n95 [label=\"X[839] <= 0.5\\\\ngini = 0.453\\\\nsamples = 72\\\\nvalue = [47, 25]\"] ;\\n94 -> 95 ;\\n96 [label=\"X[75] <= 0.5\\\\ngini = 0.459\\\\nsamples = 70\\\\nvalue = [45, 25]\"] ;\\n95 -> 96 ;\\n97 [label=\"X[1114] <= 0.5\\\\ngini = 0.465\\\\nsamples = 68\\\\nvalue = [43, 25]\"] ;\\n96 -> 97 ;\\n98 [label=\"X[843] <= 0.5\\\\ngini = 0.471\\\\nsamples = 66\\\\nvalue = [41, 25]\"] ;\\n97 -> 98 ;\\n99 [label=\"X[802] <= 0.5\\\\ngini = 0.476\\\\nsamples = 64\\\\nvalue = [39, 25]\"] ;\\n98 -> 99 ;\\n100 [label=\"X[693] <= 0.5\\\\ngini = 0.481\\\\nsamples = 62\\\\nvalue = [37, 25]\"] ;\\n99 -> 100 ;\\n101 [label=\"X[469] <= 0.5\\\\ngini = 0.486\\\\nsamples = 60\\\\nvalue = [35, 25]\"] ;\\n100 -> 101 ;\\n102 [label=\"X[1059] <= 0.5\\\\ngini = 0.49\\\\nsamples = 58\\\\nvalue = [33, 25]\"] ;\\n101 -> 102 ;\\n103 [label=\"X[823] <= 0.5\\\\ngini = 0.494\\\\nsamples = 56\\\\nvalue = [31, 25]\"] ;\\n102 -> 103 ;\\n104 [label=\"X[949] <= 0.5\\\\ngini = 0.497\\\\nsamples = 54\\\\nvalue = [29, 25]\"] ;\\n103 -> 104 ;\\n105 [label=\"X[335] <= 0.5\\\\ngini = 0.499\\\\nsamples = 52\\\\nvalue = [27, 25]\"] ;\\n104 -> 105 ;\\n106 [label=\"X[524] <= 0.5\\\\ngini = 0.5\\\\nsamples = 50\\\\nvalue = [25, 25]\"] ;\\n105 -> 106 ;\\n107 [label=\"X[677] <= 0.5\\\\ngini = 0.499\\\\nsamples = 48\\\\nvalue = [23, 25]\"] ;\\n106 -> 107 ;\\n108 [label=\"X[403] <= 0.5\\\\ngini = 0.496\\\\nsamples = 46\\\\nvalue = [21, 25]\"] ;\\n107 -> 108 ;\\n109 [label=\"X[488] <= 0.5\\\\ngini = 0.494\\\\nsamples = 45\\\\nvalue = [20, 25]\"] ;\\n108 -> 109 ;\\n110 [label=\"X[1071] <= 0.5\\\\ngini = 0.491\\\\nsamples = 44\\\\nvalue = [19, 25]\"] ;\\n109 -> 110 ;\\n111 [label=\"X[213] <= 0.5\\\\ngini = 0.487\\\\nsamples = 43\\\\nvalue = [18, 25]\"] ;\\n110 -> 111 ;\\n112 [label=\"X[461] <= 0.5\\\\ngini = 0.482\\\\nsamples = 42\\\\nvalue = [17, 25]\"] ;\\n111 -> 112 ;\\n113 [label=\"X[430] <= 0.5\\\\ngini = 0.476\\\\nsamples = 41\\\\nvalue = [16, 25]\"] ;\\n112 -> 113 ;\\n114 [label=\"X[593] <= 0.5\\\\ngini = 0.469\\\\nsamples = 40\\\\nvalue = [15, 25]\"] ;\\n113 -> 114 ;\\n115 [label=\"X[442] <= 1.0\\\\ngini = 0.46\\\\nsamples = 39\\\\nvalue = [14, 25]\"] ;\\n114 -> 115 ;\\n116 [label=\"X[573] <= 0.5\\\\ngini = 0.45\\\\nsamples = 38\\\\nvalue = [13, 25]\"] ;\\n115 -> 116 ;\\n117 [label=\"X[943] <= 0.5\\\\ngini = 0.438\\\\nsamples = 37\\\\nvalue = [12, 25]\"] ;\\n116 -> 117 ;\\n118 [label=\"X[1136] <= 0.5\\\\ngini = 0.424\\\\nsamples = 36\\\\nvalue = [11, 25]\"] ;\\n117 -> 118 ;\\n119 [label=\"X[1005] <= 0.5\\\\ngini = 0.408\\\\nsamples = 35\\\\nvalue = [10, 25]\"] ;\\n118 -> 119 ;\\n120 [label=\"X[1113] <= 0.5\\\\ngini = 0.389\\\\nsamples = 34\\\\nvalue = [9, 25]\"] ;\\n119 -> 120 ;\\n121 [label=\"X[511] <= 0.5\\\\ngini = 0.367\\\\nsamples = 33\\\\nvalue = [8, 25]\"] ;\\n120 -> 121 ;\\n122 [label=\"X[507] <= 0.5\\\\ngini = 0.342\\\\nsamples = 32\\\\nvalue = [7, 25]\"] ;\\n121 -> 122 ;\\n123 [label=\"X[34] <= 0.5\\\\ngini = 0.312\\\\nsamples = 31\\\\nvalue = [6, 25]\"] ;\\n122 -> 123 ;\\n124 [label=\"X[262] <= 0.5\\\\ngini = 0.278\\\\nsamples = 30\\\\nvalue = [5, 25]\"] ;\\n123 -> 124 ;\\n125 [label=\"X[1143] <= 0.5\\\\ngini = 0.238\\\\nsamples = 29\\\\nvalue = [4, 25]\"] ;\\n124 -> 125 ;\\n126 [label=\"X[434] <= 0.5\\\\ngini = 0.191\\\\nsamples = 28\\\\nvalue = [3, 25]\"] ;\\n125 -> 126 ;\\n127 [label=\"X[755] <= 0.5\\\\ngini = 0.137\\\\nsamples = 27\\\\nvalue = [2, 25]\"] ;\\n126 -> 127 ;\\n128 [label=\"X[821] <= 0.5\\\\ngini = 0.074\\\\nsamples = 26\\\\nvalue = [1, 25]\"] ;\\n127 -> 128 ;\\n129 [label=\"gini = 0.0\\\\nsamples = 25\\\\nvalue = [0, 25]\"] ;\\n128 -> 129 ;\\n130 [label=\"gini = 0.0\\\\nsamples = 1\\\\nvalue = [1, 0]\"] ;\\n128 -> 130 ;\\n131 [label=\"gini = 0.0\\\\nsamples = 1\\\\nvalue = [1, 0]\"] ;\\n127 -> 131 ;\\n132 [label=\"gini = 0.0\\\\nsamples = 1\\\\nvalue = [1, 0]\"] ;\\n126 -> 132 ;\\n133 [label=\"gini = 0.0\\\\nsamples = 1\\\\nvalue = [1, 0]\"] ;\\n125 -> 133 ;\\n134 [label=\"gini = 0.0\\\\nsamples = 1\\\\nvalue = [1, 0]\"] ;\\n124 -> 134 ;\\n135 [label=\"gini = 0.0\\\\nsamples = 1\\\\nvalue = [1, 0]\"] ;\\n123 -> 135 ;\\n136 [label=\"gini = 0.0\\\\nsamples = 1\\\\nvalue = [1, 0]\"] ;\\n122 -> 136 ;\\n137 [label=\"gini = 0.0\\\\nsamples = 1\\\\nvalue = [1, 0]\"] ;\\n121 -> 137 ;\\n138 [label=\"gini = 0.0\\\\nsamples = 1\\\\nvalue = [1, 0]\"] ;\\n120 -> 138 ;\\n139 [label=\"gini = 0.0\\\\nsamples = 1\\\\nvalue = [1, 0]\"] ;\\n119 -> 139 ;\\n140 [label=\"gini = 0.0\\\\nsamples = 1\\\\nvalue = [1, 0]\"] ;\\n118 -> 140 ;\\n141 [label=\"gini = 0.0\\\\nsamples = 1\\\\nvalue = [1, 0]\"] ;\\n117 -> 141 ;\\n142 [label=\"gini = 0.0\\\\nsamples = 1\\\\nvalue = [1, 0]\"] ;\\n116 -> 142 ;\\n143 [label=\"gini = 0.0\\\\nsamples = 1\\\\nvalue = [1, 0]\"] ;\\n115 -> 143 ;\\n144 [label=\"gini = 0.0\\\\nsamples = 1\\\\nvalue = [1, 0]\"] ;\\n114 -> 144 ;\\n145 [label=\"gini = 0.0\\\\nsamples = 1\\\\nvalue = [1, 0]\"] ;\\n113 -> 145 ;\\n146 [label=\"gini = 0.0\\\\nsamples = 1\\\\nvalue = [1, 0]\"] ;\\n112 -> 146 ;\\n147 [label=\"gini = 0.0\\\\nsamples = 1\\\\nvalue = [1, 0]\"] ;\\n111 -> 147 ;\\n148 [label=\"gini = 0.0\\\\nsamples = 1\\\\nvalue = [1, 0]\"] ;\\n110 -> 148 ;\\n149 [label=\"gini = 0.0\\\\nsamples = 1\\\\nvalue = [1, 0]\"] ;\\n109 -> 149 ;\\n150 [label=\"gini = 0.0\\\\nsamples = 1\\\\nvalue = [1, 0]\"] ;\\n108 -> 150 ;\\n151 [label=\"gini = 0.0\\\\nsamples = 2\\\\nvalue = [2, 0]\"] ;\\n107 -> 151 ;\\n152 [label=\"gini = 0.0\\\\nsamples = 2\\\\nvalue = [2, 0]\"] ;\\n106 -> 152 ;\\n153 [label=\"gini = 0.0\\\\nsamples = 2\\\\nvalue = [2, 0]\"] ;\\n105 -> 153 ;\\n154 [label=\"gini = 0.0\\\\nsamples = 2\\\\nvalue = [2, 0]\"] ;\\n104 -> 154 ;\\n155 [label=\"gini = 0.0\\\\nsamples = 2\\\\nvalue = [2, 0]\"] ;\\n103 -> 155 ;\\n156 [label=\"gini = 0.0\\\\nsamples = 2\\\\nvalue = [2, 0]\"] ;\\n102 -> 156 ;\\n157 [label=\"gini = 0.0\\\\nsamples = 2\\\\nvalue = [2, 0]\"] ;\\n101 -> 157 ;\\n158 [label=\"gini = 0.0\\\\nsamples = 2\\\\nvalue = [2, 0]\"] ;\\n100 -> 158 ;\\n159 [label=\"gini = 0.0\\\\nsamples = 2\\\\nvalue = [2, 0]\"] ;\\n99 -> 159 ;\\n160 [label=\"gini = 0.0\\\\nsamples = 2\\\\nvalue = [2, 0]\"] ;\\n98 -> 160 ;\\n161 [label=\"gini = 0.0\\\\nsamples = 2\\\\nvalue = [2, 0]\"] ;\\n97 -> 161 ;\\n162 [label=\"gini = 0.0\\\\nsamples = 2\\\\nvalue = [2, 0]\"] ;\\n96 -> 162 ;\\n163 [label=\"gini = 0.0\\\\nsamples = 2\\\\nvalue = [2, 0]\"] ;\\n95 -> 163 ;\\n164 [label=\"gini = 0.0\\\\nsamples = 2\\\\nvalue = [2, 0]\"] ;\\n94 -> 164 ;\\n165 [label=\"gini = 0.0\\\\nsamples = 2\\\\nvalue = [2, 0]\"] ;\\n93 -> 165 ;\\n166 [label=\"gini = 0.0\\\\nsamples = 2\\\\nvalue = [2, 0]\"] ;\\n92 -> 166 ;\\n167 [label=\"gini = 0.0\\\\nsamples = 2\\\\nvalue = [2, 0]\"] ;\\n91 -> 167 ;\\n168 [label=\"gini = 0.0\\\\nsamples = 2\\\\nvalue = [2, 0]\"] ;\\n90 -> 168 ;\\n169 [label=\"gini = 0.0\\\\nsamples = 2\\\\nvalue = [2, 0]\"] ;\\n89 -> 169 ;\\n170 [label=\"gini = 0.0\\\\nsamples = 2\\\\nvalue = [2, 0]\"] ;\\n88 -> 170 ;\\n171 [label=\"X[599] <= 0.5\\\\ngini = 0.278\\\\nsamples = 12\\\\nvalue = [10, 2]\"] ;\\n87 -> 171 ;\\n172 [label=\"X[5] <= 0.5\\\\ngini = 0.32\\\\nsamples = 10\\\\nvalue = [8, 2]\"] ;\\n171 -> 172 ;\\n173 [label=\"gini = 0.346\\\\nsamples = 9\\\\nvalue = [7, 2]\"] ;\\n172 -> 173 ;\\n174 [label=\"gini = 0.0\\\\nsamples = 1\\\\nvalue = [1, 0]\"] ;\\n172 -> 174 ;\\n175 [label=\"gini = 0.0\\\\nsamples = 2\\\\nvalue = [2, 0]\"] ;\\n171 -> 175 ;\\n176 [label=\"gini = 0.0\\\\nsamples = 2\\\\nvalue = [2, 0]\"] ;\\n86 -> 176 ;\\n177 [label=\"gini = 0.0\\\\nsamples = 2\\\\nvalue = [2, 0]\"] ;\\n85 -> 177 ;\\n178 [label=\"gini = 0.0\\\\nsamples = 3\\\\nvalue = [3, 0]\"] ;\\n84 -> 178 ;\\n179 [label=\"gini = 0.0\\\\nsamples = 3\\\\nvalue = [3, 0]\"] ;\\n83 -> 179 ;\\n180 [label=\"gini = 0.0\\\\nsamples = 3\\\\nvalue = [3, 0]\"] ;\\n82 -> 180 ;\\n181 [label=\"gini = 0.0\\\\nsamples = 3\\\\nvalue = [3, 0]\"] ;\\n81 -> 181 ;\\n182 [label=\"gini = 0.0\\\\nsamples = 3\\\\nvalue = [3, 0]\"] ;\\n80 -> 182 ;\\n183 [label=\"gini = 0.0\\\\nsamples = 3\\\\nvalue = [3, 0]\"] ;\\n79 -> 183 ;\\n184 [label=\"gini = 0.0\\\\nsamples = 3\\\\nvalue = [3, 0]\"] ;\\n78 -> 184 ;\\n185 [label=\"gini = 0.0\\\\nsamples = 3\\\\nvalue = [3, 0]\"] ;\\n77 -> 185 ;\\n186 [label=\"gini = 0.0\\\\nsamples = 3\\\\nvalue = [3, 0]\"] ;\\n76 -> 186 ;\\n187 [label=\"gini = 0.0\\\\nsamples = 3\\\\nvalue = [3, 0]\"] ;\\n75 -> 187 ;\\n188 [label=\"gini = 0.0\\\\nsamples = 4\\\\nvalue = [4, 0]\"] ;\\n74 -> 188 ;\\n189 [label=\"gini = 0.0\\\\nsamples = 4\\\\nvalue = [4, 0]\"] ;\\n73 -> 189 ;\\n190 [label=\"gini = 0.0\\\\nsamples = 5\\\\nvalue = [5, 0]\"] ;\\n72 -> 190 ;\\n191 [label=\"gini = 0.0\\\\nsamples = 5\\\\nvalue = [5, 0]\"] ;\\n71 -> 191 ;\\n192 [label=\"gini = 0.0\\\\nsamples = 5\\\\nvalue = [5, 0]\"] ;\\n70 -> 192 ;\\n193 [label=\"gini = 0.0\\\\nsamples = 6\\\\nvalue = [6, 0]\"] ;\\n69 -> 193 ;\\n194 [label=\"gini = 0.0\\\\nsamples = 6\\\\nvalue = [6, 0]\"] ;\\n68 -> 194 ;\\n195 [label=\"gini = 0.0\\\\nsamples = 9\\\\nvalue = [9, 0]\"] ;\\n67 -> 195 ;\\n196 [label=\"gini = 0.0\\\\nsamples = 10\\\\nvalue = [10, 0]\"] ;\\n66 -> 196 ;\\n197 [label=\"gini = 0.0\\\\nsamples = 11\\\\nvalue = [11, 0]\"] ;\\n65 -> 197 ;\\n198 [label=\"gini = 0.0\\\\nsamples = 12\\\\nvalue = [12, 0]\"] ;\\n64 -> 198 ;\\n199 [label=\"gini = 0.0\\\\nsamples = 13\\\\nvalue = [13, 0]\"] ;\\n63 -> 199 ;\\n200 [label=\"gini = 0.0\\\\nsamples = 13\\\\nvalue = [13, 0]\"] ;\\n62 -> 200 ;\\n201 [label=\"gini = 0.0\\\\nsamples = 13\\\\nvalue = [13, 0]\"] ;\\n61 -> 201 ;\\n202 [label=\"gini = 0.0\\\\nsamples = 13\\\\nvalue = [13, 0]\"] ;\\n60 -> 202 ;\\n203 [label=\"gini = 0.0\\\\nsamples = 13\\\\nvalue = [13, 0]\"] ;\\n59 -> 203 ;\\n204 [label=\"gini = 0.0\\\\nsamples = 13\\\\nvalue = [13, 0]\"] ;\\n58 -> 204 ;\\n205 [label=\"gini = 0.0\\\\nsamples = 14\\\\nvalue = [14, 0]\"] ;\\n57 -> 205 ;\\n206 [label=\"gini = 0.0\\\\nsamples = 14\\\\nvalue = [14, 0]\"] ;\\n56 -> 206 ;\\n207 [label=\"gini = 0.0\\\\nsamples = 14\\\\nvalue = [14, 0]\"] ;\\n55 -> 207 ;\\n208 [label=\"gini = 0.0\\\\nsamples = 20\\\\nvalue = [20, 0]\"] ;\\n54 -> 208 ;\\n209 [label=\"X[192] <= 0.5\\\\ngini = 0.444\\\\nsamples = 3\\\\nvalue = [2, 1]\"] ;\\n53 -> 209 ;\\n210 [label=\"gini = 0.5\\\\nsamples = 2\\\\nvalue = [1, 1]\"] ;\\n209 -> 210 ;\\n211 [label=\"gini = 0.0\\\\nsamples = 1\\\\nvalue = [1, 0]\"] ;\\n209 -> 211 ;\\n212 [label=\"gini = 0.0\\\\nsamples = 1\\\\nvalue = [0, 1]\"] ;\\n52 -> 212 ;\\n213 [label=\"gini = 0.0\\\\nsamples = 1\\\\nvalue = [0, 1]\"] ;\\n51 -> 213 ;\\n214 [label=\"gini = 0.0\\\\nsamples = 1\\\\nvalue = [0, 1]\"] ;\\n50 -> 214 ;\\n215 [label=\"gini = 0.0\\\\nsamples = 1\\\\nvalue = [0, 1]\"] ;\\n49 -> 215 ;\\n216 [label=\"gini = 0.0\\\\nsamples = 1\\\\nvalue = [0, 1]\"] ;\\n48 -> 216 ;\\n217 [label=\"gini = 0.0\\\\nsamples = 1\\\\nvalue = [0, 1]\"] ;\\n47 -> 217 ;\\n218 [label=\"gini = 0.0\\\\nsamples = 1\\\\nvalue = [0, 1]\"] ;\\n46 -> 218 ;\\n219 [label=\"gini = 0.0\\\\nsamples = 1\\\\nvalue = [0, 1]\"] ;\\n45 -> 219 ;\\n220 [label=\"gini = 0.0\\\\nsamples = 1\\\\nvalue = [0, 1]\"] ;\\n44 -> 220 ;\\n221 [label=\"gini = 0.0\\\\nsamples = 1\\\\nvalue = [0, 1]\"] ;\\n43 -> 221 ;\\n222 [label=\"gini = 0.0\\\\nsamples = 1\\\\nvalue = [0, 1]\"] ;\\n42 -> 222 ;\\n223 [label=\"gini = 0.0\\\\nsamples = 1\\\\nvalue = [0, 1]\"] ;\\n41 -> 223 ;\\n224 [label=\"gini = 0.0\\\\nsamples = 1\\\\nvalue = [0, 1]\"] ;\\n40 -> 224 ;\\n225 [label=\"gini = 0.0\\\\nsamples = 1\\\\nvalue = [0, 1]\"] ;\\n39 -> 225 ;\\n226 [label=\"gini = 0.0\\\\nsamples = 1\\\\nvalue = [0, 1]\"] ;\\n38 -> 226 ;\\n227 [label=\"gini = 0.0\\\\nsamples = 1\\\\nvalue = [0, 1]\"] ;\\n37 -> 227 ;\\n228 [label=\"gini = 0.0\\\\nsamples = 1\\\\nvalue = [0, 1]\"] ;\\n36 -> 228 ;\\n229 [label=\"gini = 0.0\\\\nsamples = 1\\\\nvalue = [0, 1]\"] ;\\n35 -> 229 ;\\n230 [label=\"gini = 0.0\\\\nsamples = 1\\\\nvalue = [0, 1]\"] ;\\n34 -> 230 ;\\n231 [label=\"gini = 0.0\\\\nsamples = 1\\\\nvalue = [0, 1]\"] ;\\n33 -> 231 ;\\n232 [label=\"gini = 0.0\\\\nsamples = 1\\\\nvalue = [0, 1]\"] ;\\n32 -> 232 ;\\n233 [label=\"gini = 0.0\\\\nsamples = 1\\\\nvalue = [0, 1]\"] ;\\n31 -> 233 ;\\n234 [label=\"gini = 0.0\\\\nsamples = 1\\\\nvalue = [0, 1]\"] ;\\n30 -> 234 ;\\n235 [label=\"gini = 0.0\\\\nsamples = 1\\\\nvalue = [0, 1]\"] ;\\n29 -> 235 ;\\n236 [label=\"gini = 0.0\\\\nsamples = 1\\\\nvalue = [0, 1]\"] ;\\n28 -> 236 ;\\n237 [label=\"gini = 0.0\\\\nsamples = 1\\\\nvalue = [0, 1]\"] ;\\n27 -> 237 ;\\n238 [label=\"gini = 0.0\\\\nsamples = 1\\\\nvalue = [0, 1]\"] ;\\n26 -> 238 ;\\n239 [label=\"gini = 0.0\\\\nsamples = 1\\\\nvalue = [0, 1]\"] ;\\n25 -> 239 ;\\n240 [label=\"gini = 0.0\\\\nsamples = 52\\\\nvalue = [52, 0]\"] ;\\n24 -> 240 ;\\n241 [label=\"gini = 0.0\\\\nsamples = 2\\\\nvalue = [0, 2]\"] ;\\n23 -> 241 ;\\n242 [label=\"gini = 0.0\\\\nsamples = 2\\\\nvalue = [0, 2]\"] ;\\n22 -> 242 ;\\n243 [label=\"gini = 0.0\\\\nsamples = 2\\\\nvalue = [0, 2]\"] ;\\n21 -> 243 ;\\n244 [label=\"gini = 0.0\\\\nsamples = 2\\\\nvalue = [0, 2]\"] ;\\n20 -> 244 ;\\n245 [label=\"gini = 0.0\\\\nsamples = 2\\\\nvalue = [0, 2]\"] ;\\n19 -> 245 ;\\n246 [label=\"gini = 0.0\\\\nsamples = 2\\\\nvalue = [0, 2]\"] ;\\n18 -> 246 ;\\n247 [label=\"gini = 0.0\\\\nsamples = 3\\\\nvalue = [0, 3]\"] ;\\n17 -> 247 ;\\n248 [label=\"gini = 0.0\\\\nsamples = 3\\\\nvalue = [0, 3]\"] ;\\n16 -> 248 ;\\n249 [label=\"gini = 0.0\\\\nsamples = 3\\\\nvalue = [0, 3]\"] ;\\n15 -> 249 ;\\n250 [label=\"gini = 0.278\\\\nsamples = 6\\\\nvalue = [1, 5]\"] ;\\n14 -> 250 ;\\n251 [label=\"X[497] <= 0.5\\\\ngini = 0.278\\\\nsamples = 6\\\\nvalue = [1, 5]\"] ;\\n13 -> 251 ;\\n252 [label=\"gini = 0.375\\\\nsamples = 4\\\\nvalue = [1, 3]\"] ;\\n251 -> 252 ;\\n253 [label=\"gini = 0.0\\\\nsamples = 2\\\\nvalue = [0, 2]\"] ;\\n251 -> 253 ;\\n254 [label=\"gini = 0.0\\\\nsamples = 4\\\\nvalue = [0, 4]\"] ;\\n12 -> 254 ;\\n255 [label=\"X[698] <= 0.5\\\\ngini = 0.346\\\\nsamples = 9\\\\nvalue = [2, 7]\"] ;\\n11 -> 255 ;\\n256 [label=\"X[433] <= 0.5\\\\ngini = 0.219\\\\nsamples = 8\\\\nvalue = [1, 7]\"] ;\\n255 -> 256 ;\\n257 [label=\"gini = 0.0\\\\nsamples = 7\\\\nvalue = [0, 7]\"] ;\\n256 -> 257 ;\\n258 [label=\"gini = 0.0\\\\nsamples = 1\\\\nvalue = [1, 0]\"] ;\\n256 -> 258 ;\\n259 [label=\"gini = 0.0\\\\nsamples = 1\\\\nvalue = [1, 0]\"] ;\\n255 -> 259 ;\\n260 [label=\"X[250] <= 0.5\\\\ngini = 0.408\\\\nsamples = 14\\\\nvalue = [4, 10]\"] ;\\n10 -> 260 ;\\n261 [label=\"X[738] <= 0.5\\\\ngini = 0.355\\\\nsamples = 13\\\\nvalue = [3, 10]\"] ;\\n260 -> 261 ;\\n262 [label=\"X[1020] <= 0.5\\\\ngini = 0.278\\\\nsamples = 12\\\\nvalue = [2, 10]\"] ;\\n261 -> 262 ;\\n263 [label=\"gini = 0.165\\\\nsamples = 11\\\\nvalue = [1, 10]\"] ;\\n262 -> 263 ;\\n264 [label=\"gini = 0.0\\\\nsamples = 1\\\\nvalue = [1, 0]\"] ;\\n262 -> 264 ;\\n265 [label=\"gini = 0.0\\\\nsamples = 1\\\\nvalue = [1, 0]\"] ;\\n261 -> 265 ;\\n266 [label=\"gini = 0.0\\\\nsamples = 1\\\\nvalue = [1, 0]\"] ;\\n260 -> 266 ;\\n267 [label=\"gini = 0.0\\\\nsamples = 6\\\\nvalue = [0, 6]\"] ;\\n9 -> 267 ;\\n268 [label=\"gini = 0.0\\\\nsamples = 8\\\\nvalue = [0, 8]\"] ;\\n8 -> 268 ;\\n269 [label=\"gini = 0.0\\\\nsamples = 8\\\\nvalue = [0, 8]\"] ;\\n7 -> 269 ;\\n270 [label=\"gini = 0.0\\\\nsamples = 11\\\\nvalue = [0, 11]\"] ;\\n6 -> 270 ;\\n271 [label=\"gini = 0.0\\\\nsamples = 13\\\\nvalue = [0, 13]\"] ;\\n5 -> 271 ;\\n272 [label=\"gini = 0.0\\\\nsamples = 13\\\\nvalue = [0, 13]\"] ;\\n4 -> 272 ;\\n273 [label=\"gini = 0.0\\\\nsamples = 20\\\\nvalue = [0, 20]\"] ;\\n3 -> 273 ;\\n274 [label=\"gini = 0.0\\\\nsamples = 49\\\\nvalue = [0, 49]\"] ;\\n2 -> 274 ;\\n275 [label=\"gini = 0.0\\\\nsamples = 82\\\\nvalue = [0, 82]\"] ;\\n1 -> 275 ;\\n276 [label=\"gini = 0.0\\\\nsamples = 122\\\\nvalue = [0, 122]\"] ;\\n0 -> 276 [labeldistance=2.5, labelangle=-45, headlabel=\"False\"] ;\\n}'"
      ]
     },
     "execution_count": 37,
     "metadata": {},
     "output_type": "execute_result"
    }
   ],
   "source": [
    "tree.export_graphviz(dtree)"
   ]
  },
  {
   "cell_type": "code",
   "execution_count": 38,
   "metadata": {},
   "outputs": [],
   "source": [
    "from sklearn.metrics import precision_score, recall_score\n",
    "from sklearn.metrics import confusion_matrix, classification_report, accuracy_score\n"
   ]
  },
  {
   "cell_type": "code",
   "execution_count": 39,
   "metadata": {
    "scrolled": true
   },
   "outputs": [
    {
     "name": "stdout",
     "output_type": "stream",
     "text": [
      "Accuracy:  0.923728813559322\n",
      "Precision: 0.9259736683521369\n",
      "Recall: 0.923728813559322\n",
      "\n",
      " Confusion Matrix:\n",
      " [[131  21]\n",
      " [  6 196]]\n",
      "\n",
      " Classification Report:\n",
      "               precision    recall  f1-score   support\n",
      "\n",
      "     class 0       0.96      0.86      0.91       152\n",
      "     class 1       0.90      0.97      0.94       202\n",
      "\n",
      "    accuracy                           0.92       354\n",
      "   macro avg       0.93      0.92      0.92       354\n",
      "weighted avg       0.93      0.92      0.92       354\n",
      "\n"
     ]
    }
   ],
   "source": [
    "dtree_accuracy=accuracy_score(y_pred=dtree_pred, y_true=test25_target)\n",
    "print('Accuracy: ',dtree_accuracy)\n",
    "      \n",
    "dtree_precision = precision_score(y_pred=dtree_pred, y_true=test25_target, average='weighted')\n",
    "print('Precision:',dtree_precision)\n",
    "\n",
    "dtree_recall = recall_score(y_pred=dtree_pred, y_true=test25_target, average='weighted')\n",
    "print('Recall:',dtree_recall)\n",
    "\n",
    "dtree_conf_matrix=confusion_matrix(y_pred=dtree_pred, y_true=test25_target)\n",
    "print('\\n Confusion Matrix:\\n',dtree_conf_matrix)\n",
    "\n",
    "target_names = ['class 0', 'class 1',]\n",
    "print('\\n Classification Report:\\n',classification_report(y_pred=dtree_pred, y_true=test25_target, target_names=target_names))"
   ]
  },
  {
   "cell_type": "code",
   "execution_count": 40,
   "metadata": {},
   "outputs": [
    {
     "name": "stdout",
     "output_type": "stream",
     "text": [
      "Accuracy:  0.9463276836158192\n",
      "Precision: 0.9467394110908214\n",
      "Recall: 0.9463276836158192\n",
      "\n",
      " Confusion Matrix:\n",
      " [[139  13]\n",
      " [  6 196]]\n"
     ]
    }
   ],
   "source": [
    "#Applying SVM Classification on Bag of Words data\n",
    "from sklearn import svm\n",
    "\n",
    "SVM = svm.SVC(C=1.0, kernel='linear', degree=3, gamma='auto')\n",
    "bow_svm = SVM.fit(train25_trans,train25_target)\n",
    "bow_svm_pred = SVM.predict(test25_trans)\n",
    "# bow_svm_pred\n",
    "\n",
    "bow_svm_accuracy=accuracy_score(y_pred=bow_svm_pred, y_true=test25_target)\n",
    "print('Accuracy: ',bow_svm_accuracy)\n",
    "\n",
    "bow_svm_precision = precision_score(y_pred=bow_svm_pred, y_true=test25_target, average='weighted')\n",
    "print('Precision:',bow_svm_precision)\n",
    "\n",
    "bow_svm_recall = recall_score(y_pred=bow_svm_pred, y_true=test25_target, average='weighted')\n",
    "print('Recall:',bow_svm_recall)\n",
    "\n",
    "bow_svm_conf_matrix=confusion_matrix(y_pred=bow_svm_pred, y_true=test25_target)\n",
    "print('\\n Confusion Matrix:\\n',bow_svm_conf_matrix)"
   ]
  },
  {
   "cell_type": "code",
   "execution_count": 41,
   "metadata": {},
   "outputs": [
    {
     "name": "stdout",
     "output_type": "stream",
     "text": [
      "Accuracy:  0.9152542372881356\n",
      "Precision: 0.9194764872730974\n",
      "Recall: 0.9152542372881356\n",
      "\n",
      " Confusion Matrix:\n",
      " [[127  25]\n",
      " [  5 197]]\n"
     ]
    }
   ],
   "source": [
    "#Applying RF Classification on Bag of Words data\n",
    "from sklearn.ensemble import RandomForestClassifier\n",
    "\n",
    "RF = RandomForestClassifier(n_estimators=100)\n",
    "bow_rf = RF.fit(train25_trans,train25_target)\n",
    "bow_rf_pred = RF.predict(test25_trans)\n",
    "# bow_rf_pred\n",
    "\n",
    "bow_rf_accuracy=accuracy_score(y_pred=bow_rf_pred, y_true=test25_target)\n",
    "print('Accuracy: ',bow_rf_accuracy)\n",
    "\n",
    "bow_rf_precision = precision_score(y_pred=bow_rf_pred, y_true=test25_target, average='weighted')\n",
    "print('Precision:',bow_rf_precision)\n",
    "\n",
    "bow_rf_recall = recall_score(y_pred=bow_rf_pred, y_true=test25_target, average='weighted')\n",
    "print('Recall:',bow_rf_recall)\n",
    "\n",
    "bow_rf_conf_matrix=confusion_matrix(y_pred=bow_rf_pred, y_true=test25_target)\n",
    "print('\\n Confusion Matrix:\\n',bow_rf_conf_matrix)"
   ]
  },
  {
   "cell_type": "code",
   "execution_count": 42,
   "metadata": {},
   "outputs": [],
   "source": [
    "# #Applying AdaBoost Classification on Bag of Words data\n",
    "# from sklearn.ensemble import AdaBoostClassifier\n",
    "\n",
    "# ADA = AdaBoostClassifier(n_estimators=1000, random_state=0)\n",
    "# bow_ada = ADA.fit(train25_trans,train25_target)\n",
    "# bow_ada_pred = ADA.predict(test25_trans)\n",
    "# # bow_ada_pred\n",
    "# bow_ada_accuracy=accuracy_score(y_pred=bow_ada_pred, y_true=test25_target)\n",
    "# print('Accuracy: ',bow_ada_accuracy)\n",
    "\n",
    "# dtree_precision = precision_score(y_pred=bow_ada_pred, y_true=test25_target, average='weighted')\n",
    "# print('Precision:',dtree_precision)\n",
    "\n",
    "# dtree_recall = recall_score(y_pred=bow_ada_pred, y_true=test25_target, average='weighted')\n",
    "# print('Recall:',dtree_recall)\n",
    "\n",
    "# dtree_conf_matrix=confusion_matrix(y_pred=bow_ada_pred, y_true=test25_target)\n",
    "# print('\\n Confusion Matrix:\\n',dtree_conf_matrix)"
   ]
  },
  {
   "cell_type": "code",
   "execution_count": null,
   "metadata": {},
   "outputs": [],
   "source": []
  },
  {
   "cell_type": "code",
   "execution_count": 43,
   "metadata": {},
   "outputs": [
    {
     "name": "stdout",
     "output_type": "stream",
     "text": [
      "Accuracy:  0.940677966101695\n",
      "Precision: 0.9259736683521369\n",
      "Recall: 0.923728813559322\n",
      "\n",
      " Confusion Matrix:\n",
      " [[137  15]\n",
      " [  6 196]]\n"
     ]
    }
   ],
   "source": [
    "#Applying MLP on Bag of Words data\n",
    "from sklearn.neural_network import MLPClassifier\n",
    "\n",
    "MLP = MLPClassifier(solver='lbfgs', alpha=1e-5, hidden_layer_sizes=(10,), random_state=1)\n",
    "bow_mlp = MLP.fit(train25_trans,train25_target)\n",
    "bow_mlp_pred = MLP.predict(test25_trans)\n",
    "\n",
    "# bow_mlp_pred\n",
    "\n",
    "bow_mlp_accuracy=accuracy_score(y_pred=bow_mlp_pred, y_true=test25_target)\n",
    "print('Accuracy: ',bow_mlp_accuracy)\n",
    "\n",
    "bow_mlp_precision = precision_score(y_pred=bow_mlp_pred, y_true=test25_target, average='weighted')\n",
    "print('Precision:',dtree_precision)\n",
    "\n",
    "bow_mlp_recall = recall_score(y_pred=bow_mlp_pred, y_true=test25_target, average='weighted')\n",
    "print('Recall:',dtree_recall)\n",
    "\n",
    "bow_mlp_conf_matrix=confusion_matrix(y_pred=bow_mlp_pred, y_true=test25_target)\n",
    "print('\\n Confusion Matrix:\\n',bow_mlp_conf_matrix)"
   ]
  },
  {
   "cell_type": "code",
   "execution_count": 44,
   "metadata": {},
   "outputs": [
    {
     "name": "stdout",
     "output_type": "stream",
     "text": [
      "Accuracy:  0.9463276836158192\n"
     ]
    }
   ],
   "source": [
    "#Applying NB on Bag of Words data\n",
    "from sklearn.naive_bayes import MultinomialNB\n",
    "\n",
    "NB = MultinomialNB()\n",
    "bow_nb = NB.fit(train25_trans, train25_target)\n",
    "bow_nb_pred = NB.predict(test25_trans)\n",
    "#bow_nb_pred\n",
    "bow_nb_accuracy=accuracy_score(y_pred=bow_nb_pred, y_true=test25_target)\n",
    "print('Accuracy: ',bow_nb_accuracy)"
   ]
  },
  {
   "cell_type": "code",
   "execution_count": null,
   "metadata": {},
   "outputs": [],
   "source": []
  },
  {
   "cell_type": "code",
   "execution_count": 45,
   "metadata": {},
   "outputs": [],
   "source": [
    "from sklearn.feature_extraction.text import TfidfVectorizer"
   ]
  },
  {
   "cell_type": "code",
   "execution_count": 46,
   "metadata": {},
   "outputs": [
    {
     "name": "stdout",
     "output_type": "stream",
     "text": [
      "(824, 1151)\n",
      "1151\n"
     ]
    }
   ],
   "source": [
    "#Creating vectors of tfidf data\n",
    "vector2 = TfidfVectorizer()\n",
    "train25_trans_tfidf = vector2.fit_transform(train25)\n",
    "print(train25_trans_tfidf.shape)\n",
    "print (len(vector2.get_feature_names()))\n",
    "# print(vector2.get_feature_names())"
   ]
  },
  {
   "cell_type": "code",
   "execution_count": 47,
   "metadata": {},
   "outputs": [
    {
     "data": {
      "text/plain": [
       "<824x1151 sparse matrix of type '<class 'numpy.float64'>'\n",
       "\twith 5084 stored elements in Compressed Sparse Row format>"
      ]
     },
     "execution_count": 47,
     "metadata": {},
     "output_type": "execute_result"
    }
   ],
   "source": [
    "train25_trans_tfidf"
   ]
  },
  {
   "cell_type": "code",
   "execution_count": 48,
   "metadata": {},
   "outputs": [],
   "source": [
    "test25_trans_tfidf = vector2.transform(test25)"
   ]
  },
  {
   "cell_type": "code",
   "execution_count": 49,
   "metadata": {},
   "outputs": [],
   "source": [
    "#Creating dtree of tfidf data\n",
    "dtree = tree.DecisionTreeClassifier()\n",
    "dtree_tfidf = dtree.fit(train25_trans_tfidf,train25_target)\n",
    "dtree_pred_tfidf=dtree_tfidf.predict(test25_trans_tfidf)\n",
    "# dtree_pred_tfidf"
   ]
  },
  {
   "cell_type": "code",
   "execution_count": 50,
   "metadata": {},
   "outputs": [
    {
     "name": "stdout",
     "output_type": "stream",
     "text": [
      "Accuracy_tfidf:  0.9350282485875706\n"
     ]
    }
   ],
   "source": [
    "dtree_accuracy_tfidf=accuracy_score(y_pred=dtree_pred_tfidf, y_true=test25_target)\n",
    "print('Accuracy_tfidf: ',dtree_accuracy_tfidf)"
   ]
  },
  {
   "cell_type": "code",
   "execution_count": 51,
   "metadata": {},
   "outputs": [
    {
     "name": "stdout",
     "output_type": "stream",
     "text": [
      "Accuracy:  0.9265536723163842\n"
     ]
    }
   ],
   "source": [
    "#Applying SVM Classification on Tfidf data\n",
    "from sklearn import svm\n",
    "SVM = svm.SVC(C=0.8, kernel='linear', degree=3, gamma='auto')\n",
    "tfidf_svm = SVM.fit(train25_trans_tfidf,train25_target)\n",
    "tfidf_svm_pred = SVM.predict(test25_trans_tfidf)\n",
    "# tfidf_svm_pred\n",
    "tfidf_svm_accuracy=accuracy_score(y_pred=tfidf_svm_pred, y_true=test25_target)\n",
    "print('Accuracy: ',tfidf_svm_accuracy)"
   ]
  },
  {
   "cell_type": "code",
   "execution_count": 52,
   "metadata": {},
   "outputs": [
    {
     "name": "stdout",
     "output_type": "stream",
     "text": [
      "Accuracy:  0.9180790960451978\n"
     ]
    }
   ],
   "source": [
    "#Applying RF Classification on tfidf data\n",
    "# from sklearn.ensemble import RandomForestClassifier\n",
    "\n",
    "RF = RandomForestClassifier(n_estimators=100)\n",
    "tfidf_rf = RF.fit(train25_trans_tfidf,train25_target)\n",
    "tfidf_rf_pred = RF.predict(test25_trans_tfidf)\n",
    "# rf_svm_pred\n",
    "tfidf_rf_accuracy=accuracy_score(y_pred=tfidf_rf_pred, y_true=test25_target)\n",
    "print('Accuracy: ',tfidf_rf_accuracy)"
   ]
  },
  {
   "cell_type": "code",
   "execution_count": 53,
   "metadata": {},
   "outputs": [
    {
     "name": "stdout",
     "output_type": "stream",
     "text": [
      "Accuracy:  0.9519774011299436\n"
     ]
    }
   ],
   "source": [
    "#Applying NB on tfidf data\n",
    "from sklearn.naive_bayes import MultinomialNB\n",
    "\n",
    "NB = MultinomialNB()\n",
    "tfidf_nb = NB.fit(train25_trans_tfidf, train25_target)\n",
    "tfidf_nb_pred = NB.predict(test25_trans_tfidf)\n",
    "#tfidf_nb_pred\n",
    "tfidf_nb_accuracy=accuracy_score(y_pred=tfidf_nb_pred, y_true=test25_target)\n",
    "print('Accuracy: ',tfidf_nb_accuracy)"
   ]
  },
  {
   "cell_type": "code",
   "execution_count": null,
   "metadata": {},
   "outputs": [],
   "source": []
  },
  {
   "cell_type": "code",
   "execution_count": 54,
   "metadata": {},
   "outputs": [
    {
     "name": "stdout",
     "output_type": "stream",
     "text": [
      "(824, 4752)\n"
     ]
    }
   ],
   "source": [
    "#Creating vectors of trigram data\n",
    "vector_trigram = CountVectorizer(ngram_range=(1,3))\n",
    "train25_trans_trigram = vector_trigram.fit_transform(train25)\n",
    "print(train25_trans_trigram.shape)\n",
    "# print(vector_trigram.get_feature_names())"
   ]
  },
  {
   "cell_type": "code",
   "execution_count": 55,
   "metadata": {},
   "outputs": [],
   "source": [
    "test25_trans_trigram = vector_trigram.transform(test25)"
   ]
  },
  {
   "cell_type": "code",
   "execution_count": 56,
   "metadata": {},
   "outputs": [],
   "source": [
    "#Applying dtree on trigram data\n",
    "dtree = tree.DecisionTreeClassifier()\n",
    "dtree_trigram = dtree.fit(train25_trans_trigram,train25_target)\n",
    "dtree_pred_trigram=dtree_trigram.predict(test25_trans_trigram)\n",
    "# dtree_pred_trigram"
   ]
  },
  {
   "cell_type": "code",
   "execution_count": 57,
   "metadata": {},
   "outputs": [
    {
     "name": "stdout",
     "output_type": "stream",
     "text": [
      "Accuracy_trigram:  0.9180790960451978\n"
     ]
    }
   ],
   "source": [
    "dtree_accuracy_trigram = accuracy_score(y_pred=dtree_pred_trigram, y_true=test25_target)\n",
    "print('Accuracy_trigram: ',dtree_accuracy_trigram)"
   ]
  },
  {
   "cell_type": "code",
   "execution_count": 58,
   "metadata": {},
   "outputs": [
    {
     "name": "stdout",
     "output_type": "stream",
     "text": [
      "Accuracy:  0.9491525423728814\n"
     ]
    }
   ],
   "source": [
    "#Applying SVM Classification on trigram data\n",
    "from sklearn import svm\n",
    "SVM = svm.SVC(C=0.3, kernel='linear', degree=3, gamma='auto')\n",
    "trigram_svm = SVM.fit(train25_trans_trigram,train25_target)\n",
    "trigram_svm_pred = SVM.predict(test25_trans_trigram)\n",
    "# bow_svm_pred\n",
    "trigram_svm_accuracy=accuracy_score(y_pred=trigram_svm_pred, y_true=test25_target)\n",
    "print('Accuracy: ',trigram_svm_accuracy)"
   ]
  },
  {
   "cell_type": "code",
   "execution_count": null,
   "metadata": {},
   "outputs": [],
   "source": []
  },
  {
   "cell_type": "code",
   "execution_count": 59,
   "metadata": {},
   "outputs": [],
   "source": [
    "#Creating the dataframe for applying Clustering \n",
    "data4 = pd.read_excel(r'C:\\Users\\banerjee\\Desktop\\Dissertation\\sensedataset.xlsx')\n",
    "# data4.head()"
   ]
  },
  {
   "cell_type": "code",
   "execution_count": 60,
   "metadata": {},
   "outputs": [],
   "source": [
    "# Categorizing the labels with numbers \n",
    "data4.loc[data4.label =='shopping', 'label'] = 1\n",
    "data4.loc[data4.label =='hobbies', 'label'] = 2\n",
    "data4.loc[data4.label =='medical', 'label'] = 3\n",
    "data4.loc[data4.label =='netbanking', 'label'] = 4\n",
    "data4.loc[data4.label =='search for places', 'label'] = 5\n",
    "data4.loc[data4.label =='social network', 'label'] = 6\n",
    "data4.loc[data4.label =='study', 'label'] = 7\n",
    "data4.loc[data4.label =='travel', 'label'] = 8\n",
    "data4.loc[data4.label =='weather', 'label'] = 9"
   ]
  },
  {
   "cell_type": "code",
   "execution_count": 61,
   "metadata": {},
   "outputs": [
    {
     "data": {
      "text/html": [
       "<div>\n",
       "<style scoped>\n",
       "    .dataframe tbody tr th:only-of-type {\n",
       "        vertical-align: middle;\n",
       "    }\n",
       "\n",
       "    .dataframe tbody tr th {\n",
       "        vertical-align: top;\n",
       "    }\n",
       "\n",
       "    .dataframe thead th {\n",
       "        text-align: right;\n",
       "    }\n",
       "</style>\n",
       "<table border=\"1\" class=\"dataframe\">\n",
       "  <thead>\n",
       "    <tr style=\"text-align: right;\">\n",
       "      <th></th>\n",
       "      <th>label</th>\n",
       "      <th>id</th>\n",
       "      <th>text</th>\n",
       "      <th>url</th>\n",
       "      <th>type</th>\n",
       "      <th>time</th>\n",
       "      <th>seen</th>\n",
       "      <th>label1</th>\n",
       "      <th>label2</th>\n",
       "      <th>label3</th>\n",
       "    </tr>\n",
       "  </thead>\n",
       "  <tbody>\n",
       "    <tr>\n",
       "      <th>0</th>\n",
       "      <td>1</td>\n",
       "      <td>642</td>\n",
       "      <td>642</td>\n",
       "      <td>642</td>\n",
       "      <td>642</td>\n",
       "      <td>642</td>\n",
       "      <td>642</td>\n",
       "      <td>275</td>\n",
       "      <td>164</td>\n",
       "      <td>273</td>\n",
       "    </tr>\n",
       "    <tr>\n",
       "      <th>1</th>\n",
       "      <td>2</td>\n",
       "      <td>25</td>\n",
       "      <td>25</td>\n",
       "      <td>25</td>\n",
       "      <td>25</td>\n",
       "      <td>25</td>\n",
       "      <td>25</td>\n",
       "      <td>0</td>\n",
       "      <td>0</td>\n",
       "      <td>0</td>\n",
       "    </tr>\n",
       "    <tr>\n",
       "      <th>2</th>\n",
       "      <td>3</td>\n",
       "      <td>45</td>\n",
       "      <td>45</td>\n",
       "      <td>45</td>\n",
       "      <td>45</td>\n",
       "      <td>45</td>\n",
       "      <td>45</td>\n",
       "      <td>0</td>\n",
       "      <td>0</td>\n",
       "      <td>0</td>\n",
       "    </tr>\n",
       "    <tr>\n",
       "      <th>3</th>\n",
       "      <td>4</td>\n",
       "      <td>17</td>\n",
       "      <td>17</td>\n",
       "      <td>17</td>\n",
       "      <td>17</td>\n",
       "      <td>17</td>\n",
       "      <td>17</td>\n",
       "      <td>0</td>\n",
       "      <td>0</td>\n",
       "      <td>0</td>\n",
       "    </tr>\n",
       "    <tr>\n",
       "      <th>4</th>\n",
       "      <td>5</td>\n",
       "      <td>20</td>\n",
       "      <td>20</td>\n",
       "      <td>20</td>\n",
       "      <td>20</td>\n",
       "      <td>20</td>\n",
       "      <td>20</td>\n",
       "      <td>0</td>\n",
       "      <td>0</td>\n",
       "      <td>0</td>\n",
       "    </tr>\n",
       "    <tr>\n",
       "      <th>5</th>\n",
       "      <td>6</td>\n",
       "      <td>67</td>\n",
       "      <td>67</td>\n",
       "      <td>67</td>\n",
       "      <td>67</td>\n",
       "      <td>67</td>\n",
       "      <td>67</td>\n",
       "      <td>0</td>\n",
       "      <td>0</td>\n",
       "      <td>0</td>\n",
       "    </tr>\n",
       "    <tr>\n",
       "      <th>6</th>\n",
       "      <td>7</td>\n",
       "      <td>109</td>\n",
       "      <td>109</td>\n",
       "      <td>109</td>\n",
       "      <td>109</td>\n",
       "      <td>109</td>\n",
       "      <td>109</td>\n",
       "      <td>0</td>\n",
       "      <td>0</td>\n",
       "      <td>0</td>\n",
       "    </tr>\n",
       "    <tr>\n",
       "      <th>7</th>\n",
       "      <td>8</td>\n",
       "      <td>211</td>\n",
       "      <td>211</td>\n",
       "      <td>211</td>\n",
       "      <td>211</td>\n",
       "      <td>211</td>\n",
       "      <td>211</td>\n",
       "      <td>39</td>\n",
       "      <td>21</td>\n",
       "      <td>22</td>\n",
       "    </tr>\n",
       "    <tr>\n",
       "      <th>8</th>\n",
       "      <td>9</td>\n",
       "      <td>42</td>\n",
       "      <td>42</td>\n",
       "      <td>37</td>\n",
       "      <td>42</td>\n",
       "      <td>42</td>\n",
       "      <td>42</td>\n",
       "      <td>0</td>\n",
       "      <td>0</td>\n",
       "      <td>0</td>\n",
       "    </tr>\n",
       "  </tbody>\n",
       "</table>\n",
       "</div>"
      ],
      "text/plain": [
       "   label   id  text  url  type  time  seen  label1  label2  label3\n",
       "0      1  642   642  642   642   642   642     275     164     273\n",
       "1      2   25    25   25    25    25    25       0       0       0\n",
       "2      3   45    45   45    45    45    45       0       0       0\n",
       "3      4   17    17   17    17    17    17       0       0       0\n",
       "4      5   20    20   20    20    20    20       0       0       0\n",
       "5      6   67    67   67    67    67    67       0       0       0\n",
       "6      7  109   109  109   109   109   109       0       0       0\n",
       "7      8  211   211  211   211   211   211      39      21      22\n",
       "8      9   42    42   37    42    42    42       0       0       0"
      ]
     },
     "execution_count": 61,
     "metadata": {},
     "output_type": "execute_result"
    }
   ],
   "source": [
    "#Visualising the labels with other columns\n",
    "data4.groupby('label',as_index=False).count()\n"
   ]
  },
  {
   "cell_type": "code",
   "execution_count": 62,
   "metadata": {},
   "outputs": [
    {
     "data": {
      "text/html": [
       "<div>\n",
       "<style scoped>\n",
       "    .dataframe tbody tr th:only-of-type {\n",
       "        vertical-align: middle;\n",
       "    }\n",
       "\n",
       "    .dataframe tbody tr th {\n",
       "        vertical-align: top;\n",
       "    }\n",
       "\n",
       "    .dataframe thead th {\n",
       "        text-align: right;\n",
       "    }\n",
       "</style>\n",
       "<table border=\"1\" class=\"dataframe\">\n",
       "  <thead>\n",
       "    <tr style=\"text-align: right;\">\n",
       "      <th></th>\n",
       "      <th>label</th>\n",
       "      <th>id</th>\n",
       "      <th>text</th>\n",
       "      <th>url</th>\n",
       "      <th>type</th>\n",
       "      <th>time</th>\n",
       "      <th>seen</th>\n",
       "      <th>label1</th>\n",
       "      <th>label2</th>\n",
       "      <th>label3</th>\n",
       "      <th>text_clean</th>\n",
       "      <th>text_remove_stopwords</th>\n",
       "    </tr>\n",
       "  </thead>\n",
       "  <tbody>\n",
       "    <tr>\n",
       "      <th>0</th>\n",
       "      <td>1</td>\n",
       "      <td>1529005370661</td>\n",
       "      <td>iphone x plus</td>\n",
       "      <td>https://www.google.co.in/search?q=iphone+x+plu...</td>\n",
       "      <td>search</td>\n",
       "      <td>2018-06-14T19:42:50.661Z</td>\n",
       "      <td>True</td>\n",
       "      <td>NaN</td>\n",
       "      <td>NaN</td>\n",
       "      <td>NaN</td>\n",
       "      <td>iphone x plus</td>\n",
       "      <td>iphone x plus</td>\n",
       "    </tr>\n",
       "    <tr>\n",
       "      <th>1</th>\n",
       "      <td>1</td>\n",
       "      <td>1529005417834</td>\n",
       "      <td>iphone x plus amazon</td>\n",
       "      <td>https://www.google.co.in/search?ei=O8UiW92GHZP...</td>\n",
       "      <td>search</td>\n",
       "      <td>2018-06-14T19:43:37.834Z</td>\n",
       "      <td>True</td>\n",
       "      <td>NaN</td>\n",
       "      <td>NaN</td>\n",
       "      <td>NaN</td>\n",
       "      <td>iphone x plus amazon</td>\n",
       "      <td>iphone x plus amazon</td>\n",
       "    </tr>\n",
       "    <tr>\n",
       "      <th>2</th>\n",
       "      <td>1</td>\n",
       "      <td>1529005428970</td>\n",
       "      <td>Apple iPhone X (Space Grey, 256GB): Amazon.in:...</td>\n",
       "      <td>https://www.amazon.in/Apple-iPhone-Space-Grey-...</td>\n",
       "      <td>link</td>\n",
       "      <td>2018-06-14T19:43:48.970Z</td>\n",
       "      <td>True</td>\n",
       "      <td>NaN</td>\n",
       "      <td>NaN</td>\n",
       "      <td>NaN</td>\n",
       "      <td>apple iphone x space grey gb amazon in electro...</td>\n",
       "      <td>apple iphone x space grey gb amazon electronics</td>\n",
       "    </tr>\n",
       "    <tr>\n",
       "      <th>3</th>\n",
       "      <td>1</td>\n",
       "      <td>1529005457957</td>\n",
       "      <td>Apple iPhone 8 Plus (Gold, 256GB): Amazon.in: ...</td>\n",
       "      <td>https://www.amazon.in/Apple-iPhone-Plus-Gold-2...</td>\n",
       "      <td>link</td>\n",
       "      <td>2018-06-14T19:44:17.957Z</td>\n",
       "      <td>True</td>\n",
       "      <td>NaN</td>\n",
       "      <td>NaN</td>\n",
       "      <td>NaN</td>\n",
       "      <td>apple iphone plus gold gb amazon in electronics</td>\n",
       "      <td>apple iphone plus gold gb amazon electronics</td>\n",
       "    </tr>\n",
       "    <tr>\n",
       "      <th>4</th>\n",
       "      <td>1</td>\n",
       "      <td>1529005482407</td>\n",
       "      <td>Apple iPhone X (Silver, 256GB): Amazon.in: Ele...</td>\n",
       "      <td>https://www.amazon.in/Apple-iPhone-X-Silver-25...</td>\n",
       "      <td>link</td>\n",
       "      <td>2018-06-14T19:44:42.407Z</td>\n",
       "      <td>True</td>\n",
       "      <td>NaN</td>\n",
       "      <td>NaN</td>\n",
       "      <td>NaN</td>\n",
       "      <td>apple iphone x silver gb amazon in electronics</td>\n",
       "      <td>apple iphone x silver gb amazon electronics</td>\n",
       "    </tr>\n",
       "  </tbody>\n",
       "</table>\n",
       "</div>"
      ],
      "text/plain": [
       "   label             id                                               text  \\\n",
       "0      1  1529005370661                                      iphone x plus   \n",
       "1      1  1529005417834                               iphone x plus amazon   \n",
       "2      1  1529005428970  Apple iPhone X (Space Grey, 256GB): Amazon.in:...   \n",
       "3      1  1529005457957  Apple iPhone 8 Plus (Gold, 256GB): Amazon.in: ...   \n",
       "4      1  1529005482407  Apple iPhone X (Silver, 256GB): Amazon.in: Ele...   \n",
       "\n",
       "                                                 url    type  \\\n",
       "0  https://www.google.co.in/search?q=iphone+x+plu...  search   \n",
       "1  https://www.google.co.in/search?ei=O8UiW92GHZP...  search   \n",
       "2  https://www.amazon.in/Apple-iPhone-Space-Grey-...    link   \n",
       "3  https://www.amazon.in/Apple-iPhone-Plus-Gold-2...    link   \n",
       "4  https://www.amazon.in/Apple-iPhone-X-Silver-25...    link   \n",
       "\n",
       "                       time  seen label1 label2 label3  \\\n",
       "0  2018-06-14T19:42:50.661Z  True    NaN    NaN    NaN   \n",
       "1  2018-06-14T19:43:37.834Z  True    NaN    NaN    NaN   \n",
       "2  2018-06-14T19:43:48.970Z  True    NaN    NaN    NaN   \n",
       "3  2018-06-14T19:44:17.957Z  True    NaN    NaN    NaN   \n",
       "4  2018-06-14T19:44:42.407Z  True    NaN    NaN    NaN   \n",
       "\n",
       "                                          text_clean  \\\n",
       "0                                      iphone x plus   \n",
       "1                               iphone x plus amazon   \n",
       "2  apple iphone x space grey gb amazon in electro...   \n",
       "3    apple iphone plus gold gb amazon in electronics   \n",
       "4     apple iphone x silver gb amazon in electronics   \n",
       "\n",
       "                             text_remove_stopwords  \n",
       "0                                    iphone x plus  \n",
       "1                             iphone x plus amazon  \n",
       "2  apple iphone x space grey gb amazon electronics  \n",
       "3     apple iphone plus gold gb amazon electronics  \n",
       "4      apple iphone x silver gb amazon electronics  "
      ]
     },
     "execution_count": 62,
     "metadata": {},
     "output_type": "execute_result"
    }
   ],
   "source": [
    "#Applying above made functions on the 'text' column of the new copy of the dataset 'data3'.\n",
    "data4[\"text\"] = data4[\"text\"].astype(str)\n",
    "data4[\"text_clean\"] = data4[\"text\"].apply(lambda x:remove_punctuations_from_string(x))\n",
    "data4[\"text_remove_stopwords\"] = data4[\"text_clean\"].apply(lambda x:remove_stopwords_from_string(x))\n",
    "data4[\"text_clean\"] = data4[\"text_clean\"].apply(lambda x:remove_space_from_string(x))\n",
    "data4[\"text_remove_stopwords\"] = data4[\"text_remove_stopwords\"].apply(lambda x:remove_space_from_string(x))\n",
    "data4.head()"
   ]
  },
  {
   "cell_type": "code",
   "execution_count": null,
   "metadata": {},
   "outputs": [],
   "source": []
  },
  {
   "cell_type": "code",
   "execution_count": 63,
   "metadata": {},
   "outputs": [
    {
     "name": "stdout",
     "output_type": "stream",
     "text": [
      "(824, 1151)\n",
      "1151\n"
     ]
    },
    {
     "data": {
      "text/plain": [
       "<824x1151 sparse matrix of type '<class 'numpy.float64'>'\n",
       "\twith 5084 stored elements in Compressed Sparse Row format>"
      ]
     },
     "execution_count": 63,
     "metadata": {},
     "output_type": "execute_result"
    }
   ],
   "source": [
    "#Clustering with KMeans\n",
    "\n",
    "#Splitting the data to test and tarin\n",
    "train52, test52, train52_target, test52_target = train_test_split(data4['text_remove_stopwords'],data4['label'], test_size=0.2)\n",
    "\n",
    "#Creating vectors of tfidf data\n",
    "vector5 = TfidfVectorizer()\n",
    "train52_trans_tfidf = vector5.fit_transform(train25)\n",
    "print(train52_trans_tfidf.shape)\n",
    "print (len(vector5.get_feature_names()))\n",
    "# print(vector2.get_feature_names())\n",
    "\n",
    "train52_trans_tfidf\n"
   ]
  },
  {
   "cell_type": "code",
   "execution_count": 64,
   "metadata": {},
   "outputs": [],
   "source": [
    "#Transforming the test data\n",
    "test52_trans = vector.transform(test52)"
   ]
  },
  {
   "cell_type": "code",
   "execution_count": 65,
   "metadata": {},
   "outputs": [
    {
     "data": {
      "text/plain": [
       "KMeans(algorithm='auto', copy_x=True, init='k-means++', max_iter=100,\n",
       "       n_clusters=9, n_init=1, n_jobs=None, precompute_distances='auto',\n",
       "       random_state=None, tol=0.0001, verbose=0)"
      ]
     },
     "execution_count": 65,
     "metadata": {},
     "output_type": "execute_result"
    }
   ],
   "source": [
    "#Fit KMeans model on the data\n",
    "from sklearn.cluster import KMeans\n",
    "true_k = 9\n",
    "model = KMeans(n_clusters=true_k, init='k-means++', max_iter=100, n_init=1)\n",
    "model.fit(train52_trans_tfidf)"
   ]
  },
  {
   "cell_type": "code",
   "execution_count": 66,
   "metadata": {},
   "outputs": [],
   "source": [
    "order_centroids = model.cluster_centers_.argsort()[:, ::-1]\n",
    "terms = vector5.get_feature_names()"
   ]
  },
  {
   "cell_type": "code",
   "execution_count": 67,
   "metadata": {},
   "outputs": [
    {
     "data": {
      "text/plain": [
       "array([[1133,  901,  662, ...,  750,  749,    0],\n",
       "       [ 477,  955, 1150, ...,  758,  757,    0],\n",
       "       [1111,   81,  866, ...,  757,  756,    0],\n",
       "       ...,\n",
       "       [ 653,  482, 1072, ...,  752,  751,    0],\n",
       "       [1121,  889,  791, ...,  755,  754,    0],\n",
       "       [ 530,  660,  994, ...,  757,  756,    0]], dtype=int32)"
      ]
     },
     "execution_count": 67,
     "metadata": {},
     "output_type": "execute_result"
    }
   ],
   "source": [
    "order_centroids\n",
    "# terms"
   ]
  },
  {
   "cell_type": "code",
   "execution_count": 68,
   "metadata": {},
   "outputs": [
    {
     "name": "stdout",
     "output_type": "stream",
     "text": [
      "Cluster  0\n",
      "women\n",
      "shirts\n",
      "myntra\n",
      "shirt\n",
      "buy\n",
      "tops\n",
      "roadster\n",
      "tshirts\n",
      "solid\n",
      "sunglasses\n",
      "Cluster  1\n",
      "instagram\n",
      "stories\n",
      "zero\n",
      "helpline\n",
      "general\n",
      "genius\n",
      "georgia\n",
      "getaway\n",
      "git\n",
      "github\n",
      "Cluster  2\n",
      "weather\n",
      "bbc\n",
      "saturday\n",
      "london\n",
      "hendon\n",
      "chealsea\n",
      "central\n",
      "rickmansworth\n",
      "glue\n",
      "genius\n",
      "Cluster  3\n",
      "ladies\n",
      "dress\n",
      "gb\n",
      "wrap\n",
      "black\n",
      "floral\n",
      "jersey\n",
      "spotted\n",
      "patterned\n",
      "pink\n",
      "Cluster  4\n",
      "cafes\n",
      "london\n",
      "zero\n",
      "glue\n",
      "genius\n",
      "georgia\n",
      "getaway\n",
      "git\n",
      "github\n",
      "gloss\n",
      "Cluster  5\n",
      "online\n",
      "amazon\n",
      "buy\n",
      "india\n",
      "best\n",
      "rs\n",
      "google\n",
      "sneakers\n",
      "linkedin\n",
      "dresses\n",
      "Cluster  6\n",
      "musical\n",
      "instruments\n",
      "usb\n",
      "microphone\n",
      "co\n",
      "uk\n",
      "blue\n",
      "amazon\n",
      "microphones\n",
      "audio\n",
      "Cluster  7\n",
      "wiki\n",
      "sensemaking\n",
      "provenancelearning\n",
      "vissense\n",
      "set\n",
      "data\n",
      "zero\n",
      "getaway\n",
      "gen\n",
      "general\n",
      "Cluster  8\n",
      "kr\n",
      "mxl\n",
      "tempo\n",
      "condenser\n",
      "musical\n",
      "instruments\n",
      "usb\n",
      "microphone\n",
      "co\n",
      "uk\n"
     ]
    }
   ],
   "source": [
    "#Check clusters created by the model\n",
    "\n",
    "for i in range(true_k):\n",
    "    print('Cluster ', i)\n",
    "    for ind in order_centroids[i, :10]:\n",
    "        print(terms[ind])"
   ]
  },
  {
   "cell_type": "code",
   "execution_count": 69,
   "metadata": {},
   "outputs": [
    {
     "name": "stdout",
     "output_type": "stream",
     "text": [
      "[6 5 5 0 5 6 5 5 5 4 3 5 6 5 7 5 0 3 5 5 5 5 0 6 5 5 7 5 5 5 6 5 4 5 2 5 3\n",
      " 0 3 4 5 5 5 5 5 5 5 0 6 5 0 6 5 5 5 5 7 4 1 5 5 7 5 5 5 5 5 5 5 5 6 5 5 5\n",
      " 5 4 5 3 5 5 6 5 5 5 4 6 5 5 5 3 2 0 5 5 5 5 5 5 5 5 6 4 3 5 4 3 5 3 5 5 6\n",
      " 5 5 5 5 0 5 5 5 6 5 6 7 5 5 3 5 5 5 5 0 6 6 5 3 5 6 3 5 0 5 5 5 5 5 5 2 5\n",
      " 5 0 6 5 5 5 4 5 5 5 1 5 6 5 5 5 5 5 5 5 3 0 5 5 5 5 5 5 6 5 4 4 6 5 5 5 6\n",
      " 0 5 2 5 4 5 5 5 0 5 3 5 5 0 5 6 4 5 2 5 5 6 5 3 5 5 5 6 2 5 5 4 5 5 5 6 5\n",
      " 5 5 5 6 1 5 6 3 5 5 5 4 0 5]\n"
     ]
    }
   ],
   "source": [
    "# Predicted output\n",
    "predicted = model.predict(test52_trans)\n",
    "print(predicted)"
   ]
  },
  {
   "cell_type": "code",
   "execution_count": 70,
   "metadata": {},
   "outputs": [
    {
     "data": {
      "text/plain": [
       "-0.029350276461928244"
      ]
     },
     "execution_count": 70,
     "metadata": {},
     "output_type": "execute_result"
    }
   ],
   "source": [
    "# Evaluate Clustering with actual test target data\n",
    "metrics.adjusted_rand_score(test52_target, predicted)  \n"
   ]
  },
  {
   "cell_type": "code",
   "execution_count": null,
   "metadata": {},
   "outputs": [],
   "source": []
  },
  {
   "cell_type": "code",
   "execution_count": null,
   "metadata": {},
   "outputs": [],
   "source": []
  },
  {
   "cell_type": "code",
   "execution_count": 71,
   "metadata": {},
   "outputs": [
    {
     "name": "stdout",
     "output_type": "stream",
     "text": [
      "<class 'bs4.BeautifulSoup'>\n"
     ]
    },
    {
     "data": {
      "text/plain": [
       "<!DOCTYPE html>\n",
       "<html lang=\"en\">\n",
       "<head>\n",
       "<link href=\"https://rukminim1.flixcart.com\" rel=\"dns-prefetch\"/>\n",
       "<link href=\"https://img1a.flixcart.com\" rel=\"dns-prefetch\"/>\n",
       "<link href=\"//img1a.flixcart.com/www/linchpin/fk-cp-zion/css/app.chunk.b75b00.css\" rel=\"stylesheet\"/>\n",
       "<link as=\"image\" href=\"//img1a.flixcart.com/www/linchpin/fk-cp-zion/img/fk-logo_9fddff.png\" rel=\"preload\"/>\n",
       "<meta content=\"text/html; charset=utf-8\" http-equiv=\"Content-type\"/>\n",
       "<meta content=\"IE=Edge\" http-equiv=\"X-UA-Compatible\"/>\n",
       "<meta content=\"102988293558\" property=\"fb:page_id\"/>\n",
       "<meta content=\"658873552,624500995,100000233612389\" property=\"fb:admins\"/>\n",
       "<meta content=\"noodp\" name=\"robots\"/>\n",
       "<link href=\"https://img1a.flixcart.com/www/promos/new/20150528-140547-favicon-retina.ico\" rel=\"shortcut icon\"/>\n",
       "<link href=\"/osdd.xml?v=2\" rel=\"search\" type=\"application/opensearchdescription+xml\"/>\n",
       "<meta content=\"website\" property=\"og:type\"/>\n",
       "<meta content=\"Flipkart.com\" name=\"og_site_name\" property=\"og:site_name\"/>\n",
       "<!-- Appple Touch Icons -->\n",
       "<link href=\"/apple-touch-icon-57x57.png\" rel=\"apple-touch-icon\" sizes=\"57x57\"/>\n",
       "<link href=\"/apple-touch-icon-72x72.png\" rel=\"apple-touch-icon\" sizes=\"72x72\"/>\n",
       "<link href=\"/apple-touch-icon-114x114.png\" rel=\"apple-touch-icon\" sizes=\"114x114\"/>\n",
       "<link href=\"/apple-touch-icon-144x144.png\" rel=\"apple-touch-icon\" sizes=\"144x144\"/>\n",
       "<link href=\"/apple-touch-icon-57x57.png\" rel=\"apple-touch-icon\"/>\n",
       "<!-- Twitter Meta Data -->\n",
       "<meta content=\"app\" name=\"twitter:card\"/>\n",
       "<meta content=\"@flipkart\" name=\"twitter:site\"/>\n",
       "<meta content=\"@flipkart\" name=\"twitter:creator\"/>\n",
       "<meta content=\"Puma Slyde NU IDP Sneakers For Men - Buy Peacoat-Infinity Color Puma Slyde NU IDP Sneakers For Men Online at Best Price - Shop Online for Footwears in India | Flipkart.com\" name=\"twitter:title\"/>\n",
       "<meta content=\"Shop for electronics, apparels &amp; more using our Flipkart app Free shipping &amp; COD.\" name=\"twitter:description\"/>\n",
       "<meta content=\"in\" name=\"twitter:app:country\"/>\n",
       "<meta content=\"Flipkart\" name=\"al:ios:app_name\"/>\n",
       "<meta content=\"742044692\" name=\"al:ios:app_store_id\"/>\n",
       "<meta content=\"Flipkart\" name=\"twitter:app:name:iphone\"/>\n",
       "<meta content=\"742044692\" name=\"twitter:app:id:iphone\"/>\n",
       "<meta content=\"http://dl.flipkart.com/dl/home?\" name=\"twitter:app:url:iphone\"/>\n",
       "<meta content=\"Flipkart\" name=\"twitter:app:name:ipad\"/>\n",
       "<meta content=\"742044692\" name=\"twitter:app:id:ipad\"/>\n",
       "<meta content=\"http://dl.flipkart.com/dl/home?\" name=\"twitter:app:url:ipad\"/>\n",
       "<meta content=\"Flipkart\" name=\"twitter:app:name:googleplay\"/>\n",
       "<meta content=\"com.flipkart.android\" name=\"twitter:app:id:googleplay\"/>\n",
       "<meta content=\"http://dl.flipkart.com/dl/home?\" name=\"twitter:app:url:googleplay\"/>\n",
       "<style>\n",
       "\t\t#container {\n",
       "\t\t\theight: 100%;\n",
       "\t\t}\n",
       "\t</style>\n",
       "<script crossorigin=\"anonymous\" defer=\"\" src=\"//img1a.flixcart.com/www/linchpin/fk-cp-zion/js/runtime.3b71b88e.js\"></script>\n",
       "<script crossorigin=\"anonymous\" defer=\"\" src=\"//img1a.flixcart.com/www/linchpin/fk-cp-zion/js/vendor.chunk.53e625af.js\"></script>\n",
       "<script crossorigin=\"anonymous\" defer=\"\" src=\"//img1a.flixcart.com/www/linchpin/fk-cp-zion/js/app.chunk.e3bc0de8.js\"></script>\n",
       "<link href=\"//img1a.flixcart.com/www/linchpin/fk-cp-zion/css/MultiWidgetPage.chunk.1e8872.css\" rel=\"stylesheet\"/>\n",
       "<title>Puma Slyde NU IDP Sneakers For Men - Buy Peacoat-Infinity Color Puma Slyde NU IDP Sneakers For Men Online at Best Price - Shop Online for Footwears in India | Flipkart.com</title>\n",
       "<meta content=\"Puma Slyde NU IDP Sneakers For Men - Buy Peacoat-Infinity Color Puma Slyde NU IDP Sneakers For Men Online at Best Price - Shop Online for Footwears in India | Flipkart.com\" name=\"og_title\" property=\"og:title\"/>\n",
       "<meta content=\"Puma Slyde NU IDP Sneakers For Men\" name=\"Keywords\"/>\n",
       "<meta content=\"Puma Slyde NU IDP Sneakers For Men - Buy Puma Slyde NU IDP Sneakers For Men - Slyde NU IDP SS18 only for Rs.2999 from Flipkart.com. Only Genuine Products. 30 Day Replacement Guarantee. Free Shipping. Cash On Delivery!\" name=\"Description\" property=\"og:description\"/>\n",
       "<link href=\"https://www.flipkart.com/puma-slyde-nu-idp-sneakers-men/p/itmf3xxcvu8fwgcp\" rel=\"canonical\"/>\n",
       "<link href=\"android-app://com.flipkart.android/flipkart/de_pp_seg_--_ITMF3XXCVU8FWGCP\" rel=\"alternate\"/>\n",
       "<meta content=\"https://www.flipkart.com/puma-slyde-nu-idp-sneakers-men/p/itmf3xxcvu8fwgcp\" name=\"og_url\" property=\"og:url\"/>\n",
       "<meta content=\"F4EEB3A0AFFDD385992A06E6920C0AC3\" name=\"msvalidate.01\"/>\n",
       "<!--[if IE 9 ]>\n",
       "\t<script nonce=\"16740922582594893339\">\n",
       "\t\twindow.browserVersion = 'IE9';\n",
       "\t\tdocument.documentElement.className += ' ie9';\n",
       "\t</script>\n",
       "\t<![endif]-->\n",
       "<!--[if !IE]><!-->\n",
       "<script nonce=\"16740922582594893339\">\n",
       "\t\tif (/*@cc_on!@*/false) {\n",
       "\t\t\twindow.browserVersion = 'IE10';\n",
       "\t\t\tdocument.documentElement.className += ' ie10';\n",
       "\t\t}\n",
       "\t</script>\n",
       "<!--<![endif]-->\n",
       "<script id=\"jsonLD\" nonce=\"16740922582594893339\" type=\"application/ld+json\">\n",
       "        [{\"@context\":\"http://schema.org\",\"@type\":\"Product\",\"aggregateRating\":{\"@type\":\"AggregateRating\",\"ratingValue\":4.2,\"reviewCount\":1906},\"brand\":{\"@type\":\"Thing\",\"name\":\"Puma\"},\"image\":\"http://rukmini1.flixcart.com/image/128/128/jg2kqkw0/shoe/2/d/m/slyde-nu-idp-ss18-11-puma-peacoat-infinity-original-imaf4eyvnme7nh5t.jpeg?q=70\",\"name\":\"Puma Slyde NU IDP Sneakers For Men\"},{\"@context\":\"http://schema.org\",\"@type\":\"BreadcrumbList\",\"itemListElement\":[{\"@type\":\"ListItem\",\"item\":{\"@id\":\"https://www.flipkart.com/?otracker=product_breadCrumbs_Home\",\"name\":\"Home\"},\"position\":1},{\"@type\":\"ListItem\",\"item\":{\"@id\":\"https://www.flipkart.com/footwear/pr?sid=osp&marketplace=FLIPKART&otracker=product_breadCrumbs_Footwear\",\"name\":\"Footwear\"},\"position\":2},{\"@type\":\"ListItem\",\"item\":{\"@id\":\"https://www.flipkart.com/mens-footwear/pr?sid=osp,cil&marketplace=FLIPKART&otracker=product_breadCrumbs_Men%27s+Footwear\",\"name\":\"Men's Footwear\"},\"position\":3},{\"@type\":\"ListItem\",\"item\":{\"@id\":\"https://www.flipkart.com/mens-footwear/casual-shoes/pr?sid=osp,cil,e1f&marketplace=FLIPKART&otracker=product_breadCrumbs_Casual+Shoes\",\"name\":\"Casual Shoes\"},\"position\":4},{\"@type\":\"ListItem\",\"item\":{\"@id\":\"https://www.flipkart.com/mens-footwear/casual-shoes/puma~brand/pr?sid=osp,cil,e1f&marketplace=FLIPKART&otracker=product_breadCrumbs_Puma+Casual+Shoes\",\"name\":\"Puma Casual Shoes\"},\"position\":5},{\"@type\":\"ListItem\",\"item\":{\"@id\":\"https://www.flipkart.com/puma-slyde-nu-idp-sneakers-men/p/itmf3xxcvu8fwgcp?otracker=product_breadCrumbs_Puma+Slyde+NU+IDP+Sneakers+For+Men+%28Blue%29\",\"name\":\"Puma Slyde NU IDP Sneakers For Men (Blue)\"},\"position\":6}]}]\n",
       "    </script>\n",
       "<script nonce=\"16740922582594893339\">\n",
       "        !function(){if(\"PerformancePaintTiming\" in window){var e=window.__perf={e:[]};e.o=new PerformanceObserver(function(n){e.e=e.e.concat(n.getEntries())});try{e.o.observe({entryTypes:[\"paint\"]})}catch(e){}}}();\n",
       "    </script>\n",
       "<script nonce=\"16740922582594893339\">\n",
       "\t\tif (requestAnimationFrame && performance && performance.mark) {\n",
       "\t\t\trequestAnimationFrame(function () {\n",
       "\t\t\t\twindow.first_paint = performance.now();\n",
       "\t\t\t\tperformance.mark(\"first_paint\");\n",
       "\t\t\t});\n",
       "\t\t}\n",
       "\t</script>\n",
       "</head>\n",
       "<body>\n",
       "<div id=\"container\"><div data-reactroot=\"\"><div class=\"_3ybBIU\"><div class=\"_1tz-RS\"><div class=\"_1S7OK2\"></div><div class=\"_3pNZKl\"><div class=\"_1T-JyI\"><div class=\"_3dGepu\"><a href=\"/\"><img alt=\"Flipkart\" class=\"_1e_EAo\" src=\"//img1a.flixcart.com/www/linchpin/fk-cp-zion/img/flipkart-plus_4ee2f9.png\" title=\"Flipkart\" width=\"75\"/></a><a class=\"_33x-Wq\" href=\"/plus\">Explore<!-- --> <span class=\"_2Ky4Ru\">Plus</span><img src=\"//img1a.flixcart.com/www/linchpin/fk-cp-zion/img/plus_b13a8b.png\" width=\"10\"/></a></div></div><div class=\"Y5-ZPI\"><form action=\"/search\" class=\"_1WMLwI header-form-search\" method=\"GET\"><div class=\"col-12-12 _2tVp4j\"><div class=\"O8ZS_U\"><input autocomplete=\"off\" class=\"LM6RPg\" name=\"q\" placeholder=\"Search for products, brands and more\" title=\"Search for products, brands and more\" type=\"text\" value=\"\"/></div><button class=\"vh79eN\" type=\"submit\"><svg class=\"\" height=\"20\" viewbox=\"0 0 17 18\" width=\"20\" xmlns=\"http://www.w3.org/2000/svg\"><g fill=\"#2874F1\" fill-rule=\"evenodd\"><path class=\"_2BhAHa\" d=\"m11.618 9.897l4.225 4.212c.092.092.101.232.02.313l-1.465 1.46c-.081.081-.221.072-.314-.02l-4.216-4.203\"></path><path class=\"_2BhAHa\" d=\"m6.486 10.901c-2.42 0-4.381-1.956-4.381-4.368 0-2.413 1.961-4.369 4.381-4.369 2.42 0 4.381 1.956 4.381 4.369 0 2.413-1.961 4.368-4.381 4.368m0-10.835c-3.582 0-6.486 2.895-6.486 6.467 0 3.572 2.904 6.467 6.486 6.467 3.582 0 6.486-2.895 6.486-6.467 0-3.572-2.904-6.467-6.486-6.467\"></path></g></svg></button><input name=\"otracker\" type=\"hidden\" value=\"search\"/><input name=\"otracker1\" type=\"hidden\" value=\"search\"/><input name=\"marketplace\" type=\"hidden\" value=\"FLIPKART\"/><input name=\"as-show\" type=\"hidden\" value=\"off\"/><input name=\"as\" type=\"hidden\" value=\"off\"/></div><ul class=\"col-12-12 _1PBbw8\"></ul></form></div><div class=\"_1jA3uo _34niwY\"><div class=\"dHGf8H\"><a href=\"/account/login?ret=/puma-slyde-nu-idp-sneakers-men/p/itmf3xxcvu8fwgcp%3Fpid%3DSHOF32HGW4SNK2DM%26lid%3DLSTSHOF32HGW4SNK2DM6XG3EX%26marketplace%3DFLIPKART%26srno%3Db_1_12%26otracker%3Dbrowse%26fm%3Dorganic%26iid%3D5285686d-f13b-435f-9276-231e9d39f021.SHOF32HGW4SNK2DM.SEARCH%26ppt%3DStore%2520Browse%26ppn%3DStore\">Login &amp; Signup</a></div></div><div class=\"_1jA3uo\"><div class=\"dHGf8H\"><div class=\"_1jcwFN _3dmQRh\"><div><div class=\"_2aUbKa\"> <!-- -->More<!-- --> </div></div></div><svg class=\"_34Yjv1\" height=\"8\" viewbox=\"0 0 16 27\" width=\"4.7\" xmlns=\"http://www.w3.org/2000/svg\"><path class=\"_14jSvk\" d=\"M16 23.207L6.11 13.161 16 3.093 12.955 0 0 13.161l12.955 13.161z\" fill=\"#fff\"></path></svg></div></div><div class=\"_1jA3uo\"><div class=\"_1jcwFN\"><div class=\"_3K4_9Q\"><a class=\"_3ko_Ud\" href=\"/viewcart?otracker=Cart_Icon_Click\"><svg class=\"_2fcmoV\" height=\"14\" viewbox=\"0 0 16 16\" width=\"14\" xmlns=\"http://www.w3.org/2000/svg\"><path class=\"_2JpNOH\" d=\"M15.32 2.405H4.887C3 2.405 2.46.805 2.46.805L2.257.21C2.208.085 2.083 0 1.946 0H.336C.1 0-.064.24.024.46l.644 1.945L3.11 9.767c.047.137.175.23.32.23h8.418l-.493 1.958H3.768l.002.003c-.017 0-.033-.003-.05-.003-1.06 0-1.92.86-1.92 1.92s.86 1.92 1.92 1.92c.99 0 1.805-.75 1.91-1.712l5.55.076c.12.922.91 1.636 1.867 1.636 1.04 0 1.885-.844 1.885-1.885 0-.866-.584-1.593-1.38-1.814l2.423-8.832c.12-.433-.206-.86-.655-.86\" fill=\"#fff\"></path></svg><span>Cart</span></a></div></div></div></div><div class=\"_1S7OK2\"></div></div><div class=\"_2hlh_L\"></div></div><div class=\"zi6sUf\"></div><div class=\"t-0M7P _3GgMx1 _2doH3V\"><div class=\"_1VV5Cf _1QHAXj\"><div class=\"_1SFos- _14bj8B\" style=\"transform:scaleX(0)\"></div></div><div class=\"_3e7xtJ\"><div class=\"_1HmYoV hCUpcT\" style=\"background-color:#FFFFFF;padding:16px 16px 16px 16px\"><div class=\"_1HmYoV _35HD7C col-5-12 _3KsTU0\"><div class=\"bhgxx2 col-12-12\"><div class=\"_1CUCUJ\"><div class=\"_2uAjEK\"><div class=\"keS6DZ _3_yGjX\"><div class=\"_3aYEat\"><div class=\"_21PE8N\" style=\"height:444px\"><ul class=\"LzhdeS\" style=\"-webkit-transform:translateY(-0px);-moz-transform:translateY(-0px);-o-transform:translateY(-0px);-ms-transform:translateY(-0px);transform:translateY(-0px)\"><li class=\"_4f8Q22 _2y_FdK _3_yGjX\" style=\"height:74px\"><div class=\"_3MF26o SGxMsH _3_yGjX\"><div class=\"_2_AcLJ _3_yGjX\" style=\"background-image:url(https://rukminim1.flixcart.com/image/128/128/jg2kqkw0/shoe/2/d/m/slyde-nu-idp-ss18-11-puma-peacoat-infinity-original-imaf4eyvnme7nh5t.jpeg?q=70)\"></div></div></li><li class=\"_4f8Q22 _2y_FdK _3_yGjX\" style=\"height:74px\"><div class=\"_3MF26o _3_yGjX\"><div class=\"_2_AcLJ _3_yGjX\" style=\"background-image:url(https://rukminim1.flixcart.com/image/128/128/jg2kqkw0/shoe/2/d/m/slyde-nu-idp-ss18-11-puma-peacoat-infinity-original-imaf4eyvvba4b6dz.jpeg?q=70)\"></div></div></li><li class=\"_4f8Q22 _2y_FdK _3_yGjX\" style=\"height:74px\"><div class=\"_3MF26o _3_yGjX\"><div class=\"_2_AcLJ _3_yGjX\" style=\"background-image:url(https://rukminim1.flixcart.com/image/128/128/jg2kqkw0/shoe/2/d/m/slyde-nu-idp-ss18-11-puma-peacoat-infinity-original-imaf4ef5ebvayufn.jpeg?q=70)\"></div></div></li><li class=\"_4f8Q22 _2y_FdK _3_yGjX\" style=\"height:74px\"><div class=\"_3MF26o _3_yGjX\"><div class=\"_2_AcLJ _3_yGjX\" style=\"background-image:url(https://rukminim1.flixcart.com/image/128/128/jg2kqkw0/shoe/2/d/m/slyde-nu-idp-ss18-11-puma-peacoat-infinity-original-imaf4eyvdvzhzbxf.jpeg?q=70)\"></div></div></li><li class=\"_4f8Q22 _2y_FdK _3_yGjX\" style=\"height:74px\"><div class=\"_3MF26o _3_yGjX\"><div class=\"_2_AcLJ _3_yGjX\" style=\"background-image:url(https://rukminim1.flixcart.com/image/128/128/jg2kqkw0/shoe/2/d/m/slyde-nu-idp-ss18-11-puma-peacoat-infinity-original-imaf4eywx4e677gv.jpeg?q=70)\"></div></div></li><li class=\"_4f8Q22 _2y_FdK _3_yGjX\" style=\"height:74px\"><div class=\"_3MF26o _3_yGjX\"><div class=\"_2_AcLJ _3_yGjX\" style=\"background-image:url(https://rukminim1.flixcart.com/image/128/128/jg2kqkw0/shoe/2/d/m/slyde-nu-idp-ss18-11-puma-peacoat-infinity-original-imaf4eyvawfy8agw.jpeg?q=70)\"></div></div></li></ul></div><div class=\"_1sPU_V _2-5Z5m LwZTRD\"><svg class=\"_1gnlcU\" height=\"15\" viewbox=\"0 0 16 27\" width=\"8\" xmlns=\"http://www.w3.org/2000/svg\"><path class=\"\" d=\"M16 23.207L6.11 13.161 16 3.093 12.955 0 0 13.161l12.955 13.161z\" fill=\"#000\"></path></svg></div><div class=\"_1sPU_V _3-urXm LwZTRD\"><svg class=\"_1gnlcU\" height=\"15\" viewbox=\"0 0 16 27\" width=\"8\" xmlns=\"http://www.w3.org/2000/svg\"><path class=\"\" d=\"M16 23.207L6.11 13.161 16 3.093 12.955 0 0 13.161l12.955 13.161z\" fill=\"#000\"></path></svg></div></div></div><div class=\"_2rDnao _1-bOR0\"><div class=\"_1ov7-N\"><div class=\"_4m8kDI\" style=\"height:0;width:0\"></div><div class=\"_3JlYXy\" style=\"padding-top:120.00%\"><div class=\"_3ZJShS _31bMyl\" style=\"padding-top:120.00%\"><img alt=\"\" class=\"_3togXc _3wp706\" src=\"\"/></div></div></div><div class=\"_2nGfcO\" style=\"left:0;width:0;height:0\"><img class=\"QpT5Md\"/></div></div></div><div class=\"_3gDSOa _13EqDR _3_yGjX _2RN9ef\"><div class=\"DsQ2eg\"><svg class=\"_2oLiqr\" height=\"24\" viewbox=\"0 0 20 16\" width=\"24\" xmlns=\"http://www.w3.org/2000/svg\"><path class=\"_35Y7Yo\" d=\"M8.695 16.682C4.06 12.382 1 9.536 1 6.065 1 3.219 3.178 1 5.95 1c1.566 0 3.069.746 4.05 1.915C10.981 1.745 12.484 1 14.05 1 16.822 1 19 3.22 19 6.065c0 3.471-3.06 6.316-7.695 10.617L10 17.897l-1.305-1.215z\" fill=\"#2874F0\" fill-rule=\"evenodd\" opacity=\".9\" stroke=\"#FFF\"></path></svg></div></div></div></div><div class=\"bhgxx2 col-12-12\"><div class=\"_2qW8Ls _66-k4f\"><button class=\"_2AkmmA _3-iCOr wvj5kH\">NOTIFY ME</button><div class=\"_3zs-NH wvj5kH\">Get notified when this item comes back in stock.</div></div></div></div><div class=\"_1HmYoV _35HD7C col-8-12\" style=\"padding:0px 0px 0px 24px\"><div class=\"_1HmYoV hCUpcT\"><div class=\"bhgxx2\" style=\"flex-grow:1;overflow:auto\"><div class=\"_1joEet\"><div class=\"_1HEvv0\"><a class=\"_1KHd47\" href=\"/?otracker=product_breadCrumbs_Home\">Home</a><svg class=\"_2XP0B_\" height=\"27\" viewbox=\"0 0 16 27\" width=\"16\" xmlns=\"http://www.w3.org/2000/svg\"><path class=\"_24NaUy\" d=\"M16 23.207L6.11 13.161 16 3.093 12.955 0 0 13.161l12.955 13.161z\" fill=\"#fff\"></path></svg></div><div class=\"_1HEvv0\"><a class=\"_1KHd47\" href=\"/footwear/pr?sid=osp&amp;marketplace=FLIPKART&amp;otracker=product_breadCrumbs_Footwear\">Footwear</a><svg class=\"_2XP0B_\" height=\"27\" viewbox=\"0 0 16 27\" width=\"16\" xmlns=\"http://www.w3.org/2000/svg\"><path class=\"_24NaUy\" d=\"M16 23.207L6.11 13.161 16 3.093 12.955 0 0 13.161l12.955 13.161z\" fill=\"#fff\"></path></svg></div><div class=\"_1HEvv0\"><a class=\"_1KHd47\" href=\"/mens-footwear/pr?sid=osp,cil&amp;marketplace=FLIPKART&amp;otracker=product_breadCrumbs_Men%27s+Footwear\">Men's Footwear</a><svg class=\"_2XP0B_\" height=\"27\" viewbox=\"0 0 16 27\" width=\"16\" xmlns=\"http://www.w3.org/2000/svg\"><path class=\"_24NaUy\" d=\"M16 23.207L6.11 13.161 16 3.093 12.955 0 0 13.161l12.955 13.161z\" fill=\"#fff\"></path></svg></div><div class=\"_1HEvv0\"><a class=\"_1KHd47\" href=\"/mens-footwear/casual-shoes/pr?sid=osp,cil,e1f&amp;marketplace=FLIPKART&amp;otracker=product_breadCrumbs_Casual+Shoes\">Casual Shoes</a><svg class=\"_2XP0B_\" height=\"27\" viewbox=\"0 0 16 27\" width=\"16\" xmlns=\"http://www.w3.org/2000/svg\"><path class=\"_24NaUy\" d=\"M16 23.207L6.11 13.161 16 3.093 12.955 0 0 13.161l12.955 13.161z\" fill=\"#fff\"></path></svg></div><div class=\"_1HEvv0\"><a class=\"_1KHd47\" href=\"/mens-footwear/casual-shoes/puma~brand/pr?sid=osp,cil,e1f&amp;marketplace=FLIPKART&amp;otracker=product_breadCrumbs_Puma+Casual+Shoes\">Puma Casual Shoes</a><svg class=\"_2XP0B_\" height=\"27\" viewbox=\"0 0 16 27\" width=\"16\" xmlns=\"http://www.w3.org/2000/svg\"><path class=\"_24NaUy\" d=\"M16 23.207L6.11 13.161 16 3.093 12.955 0 0 13.161l12.955 13.161z\" fill=\"#fff\"></path></svg></div><div class=\"_1HEvv0\"><div class=\"_3Lv0nZ _1KHd47 Bomkwu\"><div class=\"_3aS5mM\"><p>Puma Slyde NU IDP Sneakers For Men (Blue)</p>\n",
       "</div></div><svg class=\"_2XP0B_\" height=\"27\" viewbox=\"0 0 16 27\" width=\"16\" xmlns=\"http://www.w3.org/2000/svg\"><path class=\"_24NaUy\" d=\"M16 23.207L6.11 13.161 16 3.093 12.955 0 0 13.161l12.955 13.161z\" fill=\"#fff\"></path></svg></div></div></div><div class=\"bhgxx2\" style=\"flex:0 0 70px;max-width:70px\"><div class=\"WaINe3\"><div class=\"_20yN1P\"><span class=\"\"><span class=\"_2ExopE\"><svg class=\"_1hqsXY\" height=\"18\" width=\"18\" xmlns=\"http://www.w3.org/2000/svg\"><path class=\"p5dWr2\" d=\"M14.78 5.883L9.032 0v3.362C3.284 4.202.822 8.404 0 12.606 2.053 9.666 4.927 8.32 9.032 8.32v3.446l5.748-5.883z\" fill=\"#c2c2c2\" fill-rule=\"evenodd\"></path></svg><span style=\"margin-left:5px\">Share</span></span></span></div></div></div></div><div class=\"bhgxx2 col-12-12\"><div class=\"_29OxBi\"><div><h1 class=\"_9E25nV\"><span class=\"_2J4LW6\">Puma </span><span class=\"_35KyD6\">Slyde NU IDP Sneakers For Men<!-- -->  (Blue)</span></h1></div><div class=\"_3iZgFn _9Z7kX3\"><div class=\"_2i1QSc\"><div class=\"_1uv9Cb\"><div class=\"_1vC4OE _3qQ9m1\">₹1,949</div><div class=\"_3auQ3N _1POkHg\">₹<!-- -->2,999</div><div class=\"VGWI6T _1iCvwn _9Z7kX3\"><span>35% off</span></div></div></div><div class=\"_1-ZND6\"><img class=\"_3VW0yj\" id=\"price-info-icon\" src=\"//img1a.flixcart.com/www/linchpin/fk-cp-zion/img/info-basic_ea3ba2.svg\"/></div></div><div class=\"a7AaCC\"><div class=\"_3ors59\"><div class=\"niH0FQ _2nc08B M0NQ9N\"><span class=\"_2_KrJI\" id=\"productRating_LSTSHOF32HGW4SNK2DM6XG3EX_SHOF32HGW4SNK2DM_\"><div class=\"hGSR34 bqXGTW\">4.2<img class=\"_2lQ_WZ _3OMTVO\" src=\"data:image/svg+xml;base64,PHN2ZyB4bWxucz0iaHR0cDovL3d3dy53My5vcmcvMjAwMC9zdmciIHdpZHRoPSIxMyIgaGVpZ2h0PSIxMiI+PHBhdGggZmlsbD0iI0ZGRiIgZD0iTTYuNSA5LjQzOWwtMy42NzQgMi4yMy45NC00LjI2LTMuMjEtMi44ODMgNC4yNTQtLjQwNEw2LjUuMTEybDEuNjkgNC4wMSA0LjI1NC40MDQtMy4yMSAyLjg4Mi45NCA0LjI2eiIvPjwvc3ZnPg==\"/></div></span><span class=\"_38sUEc\"><span>12,083 ratings and 1,906 reviews</span></span></div></div><span class=\"_3V7-QV _55FW5e\"><img class=\"gYMg9u _9Z7kX3\" height=\"21\" src=\"//img1a.flixcart.com/www/linchpin/fk-cp-zion/img/fa_8b4b59.png\"/></span></div></div></div><div class=\"bhgxx2 col-12-12\" style=\"padding:24px 0px 0px 0px\"><div class=\"_9-sL7L\">Sold Out</div><div class=\"_1mzTZn\">This item is currently out of stock</div></div><div class=\"bhgxx2 col-12-12\"><div class=\"_2sVT0Y\"><div class=\"_2dlDRh\"><div class=\"_3lDJ1K\"><img src=\"https://rukminim1.flixcart.com/image/160/160/prod-fk-cms-brand-images/73835bee4fe76789e16fbba7aec0d1f1552d2059d373a616b90b235726f06a61.jpg?q=90\"/></div></div><div class=\"_2b7gqe\"><div class=\"_3h7IGd\">This is a genuine product of Puma Sports India Pvt Ltd. The product comes with a standard brand warranty of 90 days.<span class=\"_3Fwewo\">Know More</span></div></div></div></div><div class=\"_1HmYoV hCUpcT\"><div class=\"_1HmYoV _35HD7C col-6-12\"><div class=\"bhgxx2 col-12-12\"></div></div></div><div class=\"bhgxx2 col-12-12\"><div class=\"rPoo01\"><div class=\"_37KLG6 _3K7Qff col col-12-12\"><div class=\"_2a2WU_\"><span class=\"_1lwQLq _3K7Qff\" id=\"Color\">Color</span><ul class=\"fUBI-_\"><li class=\"_3hSwtk _2UBURg\" id=\"swatch-0-color\"><a class=\"_2VtE5i _2UBURg\" data-img=\"http://rukmini1.flixcart.com/image/{@width}/{@height}/jynat8w0/shoe/s/a/q/366216-4-puma-black-original-imafgzq3axpcmyqa.jpeg?q={@quality}\" href=\"/puma-slyde-men/p/itme1b72552cba83?pid=SHOFGZZGWFFDVSAQ&amp;lid=LSTSHOFGZZGWFFDVSAQBW32FY&amp;marketplace=FLIPKART&amp;sattr[]=color&amp;st=color\"><div class=\"_2fXpRR _2RncVR _2UBURg\" data-img=\"http://rukmini1.flixcart.com/image/{@width}/{@height}/jynat8w0/shoe/s/a/q/366216-4-puma-black-original-imafgzq3axpcmyqa.jpeg?q={@quality}\"><img class=\"_1k8TbK\" src=\"https://rukminim1.flixcart.com/image/180/180/jynat8w0/shoe/s/a/q/366216-4-puma-black-original-imafgzq3axpcmyqa.jpeg?q=50\"/></div></a><div class=\"_11cw91 _1-fCbU E753YP DgCx9f\"><div class=\"_2h52bo _15sV4W _3xOS0O _2UBURg\">Black</div></div></li><li class=\"_3hSwtk _2UBURg\" id=\"swatch-1-color\"><a class=\"_2VtE5i _1wX7_H _2UBURg\" data-img=\"http://rukmini1.flixcart.com/image/{@width}/{@height}/jasj6a80/shoe/s/h/p/slyde-dp-nw1-9-puma-black-cherry-tomato-original-imafyazbzkrza56z.jpeg?q={@quality}\" href=\"/puma-slyde-dp-sneakers-men/p/itmf3yyjxjzy2wkm?pid=SHOEVXU7FY5H8FYB&amp;lid=LSTSHOEVXU7FY5H8FYBKO4HB9&amp;marketplace=FLIPKART&amp;sattr[]=color&amp;st=color\"><div class=\"_2fXpRR _2RncVR _2UBURg\" data-img=\"http://rukmini1.flixcart.com/image/{@width}/{@height}/jasj6a80/shoe/s/h/p/slyde-dp-nw1-9-puma-black-cherry-tomato-original-imafyazbzkrza56z.jpeg?q={@quality}\"><img class=\"_1k8TbK\" src=\"https://rukminim1.flixcart.com/image/180/180/jasj6a80/shoe/s/h/p/slyde-dp-nw1-9-puma-black-cherry-tomato-original-imafyazbzkrza56z.jpeg?q=50\"/></div></a><div class=\"_11cw91 _1-fCbU E753YP DgCx9f\"><div class=\"_2h52bo _15sV4W _3xOS0O _2UBURg\">Black-Cherry Tomato</div></div></li><li class=\"_3hSwtk _2UBURg\" id=\"swatch-2-color\"><a class=\"_2VtE5i _2UBURg\" data-img=\"http://rukmini1.flixcart.com/image/{@width}/{@height}/jyg5lzk0/shoe/y/h/4/366216-4-puma-blue-original-imafgzrk3mfrzrhy.jpeg?q={@quality}\" href=\"/puma-slyde-dp-sneakers-men/p/itm69d941c93d412?pid=SHOFGZKC2AVYGYH4&amp;lid=LSTSHOFGZKC2AVYGYH4ZHGHTE&amp;marketplace=FLIPKART&amp;sattr[]=color&amp;st=color\"><div class=\"_2fXpRR _2RncVR _2UBURg\" data-img=\"http://rukmini1.flixcart.com/image/{@width}/{@height}/jyg5lzk0/shoe/y/h/4/366216-4-puma-blue-original-imafgzrk3mfrzrhy.jpeg?q={@quality}\"><img class=\"_1k8TbK\" src=\"https://rukminim1.flixcart.com/image/180/180/jyg5lzk0/shoe/y/h/4/366216-4-puma-blue-original-imafgzrk3mfrzrhy.jpeg?q=50\"/></div></a><div class=\"_11cw91 _1-fCbU E753YP DgCx9f\"><div class=\"_2h52bo _15sV4W _3xOS0O _2UBURg\">Blue</div></div></li><li class=\"_3hSwtk _2UBURg\" id=\"swatch-3-color\"><a class=\"_2VtE5i _1wX7_H _2UBURg\" data-img=\"http://rukmini1.flixcart.com/image/{@width}/{@height}/jasj6a80/shoe/c/d/t/slyde-dp-nw1-9-puma-blue-depths-lapis-blue-original-imafyap2gdyptm8c.jpeg?q={@quality}\" href=\"/puma-slyde-dp-sneakers-men/p/itmf8gp3jge7ambz?pid=SHOEVXU73WTBJZEY&amp;lid=LSTSHOEVXU73WTBJZEYGHN7PR&amp;marketplace=FLIPKART&amp;sattr[]=color&amp;st=color\"><div class=\"_2fXpRR _2RncVR _2UBURg\" data-img=\"http://rukmini1.flixcart.com/image/{@width}/{@height}/jasj6a80/shoe/c/d/t/slyde-dp-nw1-9-puma-blue-depths-lapis-blue-original-imafyap2gdyptm8c.jpeg?q={@quality}\"><img class=\"_1k8TbK\" src=\"https://rukminim1.flixcart.com/image/180/180/jasj6a80/shoe/c/d/t/slyde-dp-nw1-9-puma-blue-depths-lapis-blue-original-imafyap2gdyptm8c.jpeg?q=50\"/></div></a><div class=\"_11cw91 _1-fCbU E753YP DgCx9f\"><div class=\"_2h52bo _15sV4W _3xOS0O _2UBURg\">Blue Depths-Lapis Blue</div></div></li><li class=\"_3hSwtk _2UBURg\" id=\"swatch-4-color\"><a class=\"_2VtE5i _1wX7_H _2UBURg\" data-img=\"http://rukmini1.flixcart.com/image/{@width}/{@height}/jfikknk0/shoe/z/6/b/slyde-nu-idp-12-puma-blue-depths-lapis-blue-original-imaf3ygyh5zkzg7u.jpeg?q={@quality}\" href=\"/puma-slyde-nu-idp-sneakers-men/p/itmf3xchnku59ncr?pid=SHOEYRU7FVEVHZ6B&amp;lid=LSTSHOEYRU7FVEVHZ6BNEIEL2&amp;marketplace=FLIPKART&amp;sattr[]=color&amp;st=color\"><div class=\"_2fXpRR _2RncVR _2UBURg\" data-img=\"http://rukmini1.flixcart.com/image/{@width}/{@height}/jfikknk0/shoe/z/6/b/slyde-nu-idp-12-puma-blue-depths-lapis-blue-original-imaf3ygyh5zkzg7u.jpeg?q={@quality}\"><img class=\"_1k8TbK\" src=\"https://rukminim1.flixcart.com/image/180/180/jfikknk0/shoe/z/6/b/slyde-nu-idp-12-puma-blue-depths-lapis-blue-original-imaf3ygyh5zkzg7u.jpeg?q=50\"/></div></a><div class=\"_11cw91 _1-fCbU E753YP DgCx9f\"><div class=\"_2h52bo _15sV4W _3xOS0O _2UBURg\">Blue Depths-Lapis blue</div></div></li><li class=\"_3hSwtk _2UBURg\" id=\"swatch-5-color\"><a class=\"_2VtE5i _1wX7_H _2UBURg\" data-img=\"http://rukmini1.flixcart.com/image/{@width}/{@height}/jg15aq80/shoe/a/5/g/slyde-nu-idp-ss18-10-puma-golden-brown-chocolate-brown-original-imaf4dfpbvb2efpf.jpeg?q={@quality}\" href=\"/puma-slyde-nu-idp-sneakers-men/p/itmf3xxbeedynhxe?pid=SHOF32HGBFQZCGUJ&amp;lid=LSTSHOF32HGBFQZCGUJDUMPIU&amp;marketplace=FLIPKART&amp;sattr[]=color&amp;st=color\"><div class=\"_2fXpRR _2RncVR _2UBURg\" data-img=\"http://rukmini1.flixcart.com/image/{@width}/{@height}/jg15aq80/shoe/a/5/g/slyde-nu-idp-ss18-10-puma-golden-brown-chocolate-brown-original-imaf4dfpbvb2efpf.jpeg?q={@quality}\"><img class=\"_1k8TbK\" src=\"https://rukminim1.flixcart.com/image/180/180/jg15aq80/shoe/a/5/g/slyde-nu-idp-ss18-10-puma-golden-brown-chocolate-brown-original-imaf4dfpbvb2efpf.jpeg?q=50\"/></div></a><div class=\"_11cw91 _1-fCbU E753YP DgCx9f\"><div class=\"_2h52bo _15sV4W _3xOS0O _2UBURg\">Golden Brown-Chocolate Brown</div></div></li><li class=\"_3hSwtk _2UBURg\" id=\"swatch-6-color\"><a class=\"_2VtE5i _1wX7_H _2UBURg\" data-img=\"http://rukmini1.flixcart.com/image/{@width}/{@height}/jatym4w0/shoe/h/s/p/slyde-dp-nw1-8-puma-mykonos-blue-nrgy-yellow-white-original-imafyaz8hmnnjjxr.jpeg?q={@quality}\" href=\"/puma-slyde-dp-sneakers-men/p/itmf8gp2krgwsqzu?pid=SHOEVXU722QNDTGH&amp;lid=LSTSHOEVXU722QNDTGHE1OLTO&amp;marketplace=FLIPKART&amp;sattr[]=color&amp;st=color\"><div class=\"_2fXpRR _2RncVR _2UBURg\" data-img=\"http://rukmini1.flixcart.com/image/{@width}/{@height}/jatym4w0/shoe/h/s/p/slyde-dp-nw1-8-puma-mykonos-blue-nrgy-yellow-white-original-imafyaz8hmnnjjxr.jpeg?q={@quality}\"><img class=\"_1k8TbK\" src=\"https://rukminim1.flixcart.com/image/180/180/jatym4w0/shoe/h/s/p/slyde-dp-nw1-8-puma-mykonos-blue-nrgy-yellow-white-original-imafyaz8hmnnjjxr.jpeg?q=50\"/></div></a><div class=\"_11cw91 _1-fCbU E753YP DgCx9f\"><div class=\"_2h52bo _15sV4W _3xOS0O _2UBURg\">MYKONOS BLUE-NRGY YELLOW-WHITE</div></div></li><li class=\"_3hSwtk _2UBURg\" id=\"swatch-7-color\"><a class=\"_2VtE5i _1wX7_H _2UBURg\" data-img=\"http://rukmini1.flixcart.com/image/{@width}/{@height}/jasj6a80/shoe/q/w/h/slyde-dp-nw1-9-puma-olive-night-original-imafyazfurzpwfkh.jpeg?q={@quality}\" href=\"/puma-slyde-dp-sneakers-men/p/itmf8gp2h5ztyzzx?pid=SHOEVXU7HRNK4ZPF&amp;lid=LSTSHOEVXU7HRNK4ZPFQM2S0K&amp;marketplace=FLIPKART&amp;sattr[]=color&amp;st=color\"><div class=\"_2fXpRR _2RncVR _2UBURg\" data-img=\"http://rukmini1.flixcart.com/image/{@width}/{@height}/jasj6a80/shoe/q/w/h/slyde-dp-nw1-9-puma-olive-night-original-imafyazfurzpwfkh.jpeg?q={@quality}\"><img class=\"_1k8TbK\" src=\"https://rukminim1.flixcart.com/image/180/180/jasj6a80/shoe/q/w/h/slyde-dp-nw1-9-puma-olive-night-original-imafyazfurzpwfkh.jpeg?q=50\"/></div></a><div class=\"_11cw91 _1-fCbU E753YP DgCx9f\"><div class=\"_2h52bo _15sV4W _3xOS0O _2UBURg\">Olive Night</div></div></li><li class=\"_3hSwtk _2UBURg\" id=\"swatch-8-color\"><a class=\"_2VtE5i _3c2Xi9\" data-img=\"http://rukmini1.flixcart.com/image/{@width}/{@height}/jg2kqkw0/shoe/2/d/m/slyde-nu-idp-ss18-11-puma-peacoat-infinity-original-imaf4eyvnme7nh5t.jpeg?q={@quality}\" href=\"/puma-slyde-nu-idp-sneakers-men/p/itmf3xxcvu8fwgcp?pid=SHOF32HGY9NGKRQQ&amp;lid=LSTSHOF32HGY9NGKRQQV497HB&amp;marketplace=FLIPKART&amp;sattr[]=color&amp;st=color\"><div class=\"_2fXpRR _2RncVR _2UBURg\" data-img=\"http://rukmini1.flixcart.com/image/{@width}/{@height}/jg2kqkw0/shoe/2/d/m/slyde-nu-idp-ss18-11-puma-peacoat-infinity-original-imaf4eyvnme7nh5t.jpeg?q={@quality}\"><img class=\"_1k8TbK\" src=\"https://rukminim1.flixcart.com/image/180/180/jg2kqkw0/shoe/2/d/m/slyde-nu-idp-ss18-11-puma-peacoat-infinity-original-imaf4eyvnme7nh5t.jpeg?q=50\"/></div></a><div class=\"_11cw91 _1-fCbU E753YP DgCx9f\"><div class=\"_2h52bo _15sV4W _3xOS0O _2UBURg\">Peacoat-Infinity</div></div></li><li class=\"_3hSwtk _2UBURg\" id=\"swatch-9-color\"><a class=\"_2VtE5i _1wX7_H _2UBURg\" data-img=\"http://rukmini1.flixcart.com/image/{@width}/{@height}/jeek8sw0/shoe/a/w/g/slyde-nu-idp-12-puma-puma-black-cherry-tomato-original-imaf33ff5tvswkqk.jpeg?q={@quality}\" href=\"/puma-slyde-nu-idp-sneakers-men/p/itmf3xxeytuyj7xs?pid=SHOEYRU7ZTPZJAWG&amp;lid=LSTSHOEYRU7ZTPZJAWGCUXFHH&amp;marketplace=FLIPKART&amp;sattr[]=color&amp;st=color\"><div class=\"_2fXpRR _2RncVR _2UBURg\" data-img=\"http://rukmini1.flixcart.com/image/{@width}/{@height}/jeek8sw0/shoe/a/w/g/slyde-nu-idp-12-puma-puma-black-cherry-tomato-original-imaf33ff5tvswkqk.jpeg?q={@quality}\"><img class=\"_1k8TbK\" src=\"https://rukminim1.flixcart.com/image/180/180/jeek8sw0/shoe/a/w/g/slyde-nu-idp-12-puma-puma-black-cherry-tomato-original-imaf33ff5tvswkqk.jpeg?q=50\"/></div></a><div class=\"_11cw91 _1-fCbU E753YP DgCx9f\"><div class=\"_2h52bo _15sV4W _3xOS0O _2UBURg\">Puma Black-Cherry Tomato</div></div></li><li class=\"_3hSwtk _2UBURg\" id=\"swatch-10-color\"><a class=\"_2VtE5i _1wX7_H _2UBURg\" data-img=\"http://rukmini1.flixcart.com/image/{@width}/{@height}/jg2kqkw0/shoe/q/m/c/slyde-nu-idp-ss18-6-puma-puma-black-electric-blue-lemonade-original-imaf4ef2pquhygks.jpeg?q={@quality}\" href=\"/puma-slyde-nu-idp-sneakers-men/p/itmf3xxcpwtz2sxc?pid=SHOF32HGZYXJBKVP&amp;lid=LSTSHOF32HGZYXJBKVPNL91SB&amp;marketplace=FLIPKART&amp;sattr[]=color&amp;st=color\"><div class=\"_2fXpRR _2RncVR _2UBURg\" data-img=\"http://rukmini1.flixcart.com/image/{@width}/{@height}/jg2kqkw0/shoe/q/m/c/slyde-nu-idp-ss18-6-puma-puma-black-electric-blue-lemonade-original-imaf4ef2pquhygks.jpeg?q={@quality}\"><img class=\"_1k8TbK\" src=\"https://rukminim1.flixcart.com/image/180/180/jg2kqkw0/shoe/q/m/c/slyde-nu-idp-ss18-6-puma-puma-black-electric-blue-lemonade-original-imaf4ef2pquhygks.jpeg?q=50\"/></div></a><div class=\"_11cw91 _1-fCbU E753YP DgCx9f\"><div class=\"_2h52bo _15sV4W _3xOS0O _2UBURg\">Puma Black-Electric Blue Lemonade</div></div></li><li class=\"_3hSwtk _2UBURg\" id=\"swatch-11-color\"><a class=\"_2VtE5i _1wX7_H _2UBURg\" data-img=\"http://rukmini1.flixcart.com/image/{@width}/{@height}/jialea80/shoe/z/b/7/slyde-nu-idp-ss18-7-puma-quiet-shade-peacoat-original-imaf64ghzwzvtmw7.jpeg?q={@quality}\" href=\"/puma-slyde-nu-idp-sneakers-men/p/itmf8gp3zzqqpkhg?pid=SHOF32HGFBTBBJRN&amp;lid=LSTSHOF32HGFBTBBJRNEANQUY&amp;marketplace=FLIPKART&amp;sattr[]=color&amp;st=color\"><div class=\"_2fXpRR _2RncVR _2UBURg\" data-img=\"http://rukmini1.flixcart.com/image/{@width}/{@height}/jialea80/shoe/z/b/7/slyde-nu-idp-ss18-7-puma-quiet-shade-peacoat-original-imaf64ghzwzvtmw7.jpeg?q={@quality}\"><img class=\"_1k8TbK\" src=\"https://rukminim1.flixcart.com/image/180/180/jialea80/shoe/z/b/7/slyde-nu-idp-ss18-7-puma-quiet-shade-peacoat-original-imaf64ghzwzvtmw7.jpeg?q=50\"/></div></a><div class=\"_11cw91 _1-fCbU E753YP DgCx9f\"><div class=\"_2h52bo _15sV4W _3xOS0O _2UBURg\">QUIET SHADE-Peacoat</div></div></li><li class=\"_3hSwtk _2UBURg\" id=\"swatch-12-color\"><a class=\"_2VtE5i _1wX7_H _2UBURg\" data-img=\"http://rukmini1.flixcart.com/image/{@width}/{@height}/jar3qfk0/shoe/x/f/q/slyde-dp-nw1-8-puma-tibetan-red-cherry-tomato-original-imafy98tynqwuhjr.jpeg?q={@quality}\" href=\"/puma-slyde-dp-sneakers-men/p/itmf3yyjrwstqpsp?pid=SHOEVXU7TKSHG8YF&amp;lid=LSTSHOEVXU7TKSHG8YF07UFRR&amp;marketplace=FLIPKART&amp;sattr[]=color&amp;st=color\"><div class=\"_2fXpRR _2RncVR _2UBURg\" data-img=\"http://rukmini1.flixcart.com/image/{@width}/{@height}/jar3qfk0/shoe/x/f/q/slyde-dp-nw1-8-puma-tibetan-red-cherry-tomato-original-imafy98tynqwuhjr.jpeg?q={@quality}\"><img class=\"_1k8TbK\" src=\"https://rukminim1.flixcart.com/image/180/180/jar3qfk0/shoe/x/f/q/slyde-dp-nw1-8-puma-tibetan-red-cherry-tomato-original-imafy98tynqwuhjr.jpeg?q=50\"/></div></a><div class=\"_11cw91 _1-fCbU E753YP DgCx9f\"><div class=\"_2h52bo _15sV4W _3xOS0O _2UBURg\">Tibetan Red-Cherry Tomato</div></div></li></ul></div><div class=\"_11cw91 _2uva0I _3HQXAr E753YP _3X27rX _11uvZG _3K7Qff\"><div class=\"_2h52bo _15sV4W\"><span>Please select a Color to proceed</span><button class=\"_2AkmmA DoInvC\">✕</button></div></div></div><div class=\"_37KLG6 _3K7Qff col col-12-12\"><div class=\"_2a2WU_\"><span class=\"_1lwQLq _3K7Qff\" id=\"Size- UK/India\">Size- UK/India</span><ul class=\"fUBI-_\"><li class=\"_3hSwtk _2UBURg\" id=\"swatch-0-size\"><a class=\"_1TJldG _2I_hq9 _1wX7_H\" href=\"/puma-slyde-men/p/itme1b72552cba83?pid=SHOFGZZGWFFDVSAQ&amp;lid=LSTSHOFGZZGWFFDVSAQBW32FY&amp;marketplace=FLIPKART&amp;sattr[]=color&amp;sattr[]=size&amp;st=size\">4</a><div class=\"_11cw91 _1-fCbU E753YP DgCx9f\"><div class=\"_2h52bo _15sV4W _3xOS0O _2UBURg\">4</div></div></li><li class=\"_3hSwtk _2UBURg\" id=\"swatch-1-size\"><a class=\"_1TJldG _2I_hq9 _1wX7_H\" href=\"/puma-slyde-dp-sneakers-men/p/itmf3yyjxjzy2wkm?pid=SHOEVXU7FY5H8FYB&amp;lid=LSTSHOEVXU7FY5H8FYBKO4HB9&amp;marketplace=FLIPKART&amp;sattr[]=color&amp;sattr[]=size&amp;st=size\">6</a><div class=\"_11cw91 _1-fCbU E753YP DgCx9f\"><div class=\"_2h52bo _15sV4W _3xOS0O _2UBURg\">Euro 39 </div></div></li><li class=\"_3hSwtk _2UBURg\" id=\"swatch-2-size\"><a class=\"_1TJldG _2I_hq9 _1wX7_H\" href=\"/puma-slyde-dp-sneakers-men/p/itmf3yyjxjzy2wkm?pid=SHOEVXU7Z27GZP2M&amp;lid=LSTSHOEVXU7Z27GZP2MTIRBXI&amp;marketplace=FLIPKART&amp;sattr[]=color&amp;sattr[]=size&amp;st=size\">7</a><div class=\"_11cw91 _1-fCbU E753YP DgCx9f\"><div class=\"_2h52bo _15sV4W _3xOS0O _2UBURg\">Euro 40.5 </div></div></li><li class=\"_3hSwtk _2UBURg\" id=\"swatch-3-size\"><a class=\"_1TJldG _2I_hq9 _1wX7_H\" href=\"/puma-slyde-dp-sneakers-men/p/itmf3yyjxjzy2wkm?pid=SHOEVXU7BJAEMAMG&amp;lid=LSTSHOEVXU7BJAEMAMGUNEXBS&amp;marketplace=FLIPKART&amp;sattr[]=color&amp;sattr[]=size&amp;st=size\">8</a><div class=\"_11cw91 _1-fCbU E753YP DgCx9f\"><div class=\"_2h52bo _15sV4W _3xOS0O _2UBURg\">Euro 42 </div></div></li><li class=\"_3hSwtk _2UBURg\" id=\"swatch-4-size\"><a class=\"_1TJldG _2I_hq9 _1wX7_H\" href=\"/puma-slyde-dp-sneakers-men/p/itmf3yyjxjzy2wkm?pid=SHOEVXU7DUR4EZ4J&amp;lid=LSTSHOEVXU7DUR4EZ4JHIRKXN&amp;marketplace=FLIPKART&amp;sattr[]=color&amp;sattr[]=size&amp;st=size\">9</a><div class=\"_11cw91 _1-fCbU E753YP DgCx9f\"><div class=\"_2h52bo _15sV4W _3xOS0O _2UBURg\">Euro 43 </div></div></li><li class=\"_3hSwtk _2UBURg\" id=\"swatch-5-size\"><a class=\"_1TJldG _2I_hq9 _1wX7_H\" href=\"/puma-slyde-dp-sneakers-men/p/itmf3yyjxjzy2wkm?pid=SHOEVXU7ZCGAY3YM&amp;lid=LSTSHOEVXU7ZCGAY3YMIWLNVP&amp;marketplace=FLIPKART&amp;sattr[]=color&amp;sattr[]=size&amp;st=size\">10</a><div class=\"_11cw91 _1-fCbU E753YP DgCx9f\"><div class=\"_2h52bo _15sV4W _3xOS0O _2UBURg\">Euro 44.5 </div></div></li><li class=\"_3hSwtk _2UBURg\" id=\"swatch-6-size\"><a class=\"_1TJldG _2I_hq9 _2UBURg\" href=\"/puma-slyde-nu-idp-sneakers-men/p/itmf3xxcvu8fwgcp?pid=SHOF32HGY9NGKRQQ&amp;lid=LSTSHOF32HGY9NGKRQQV497HB&amp;marketplace=FLIPKART&amp;sattr[]=color&amp;sattr[]=size&amp;st=size\">11</a><div class=\"_11cw91 _1-fCbU E753YP DgCx9f\"><div class=\"_2h52bo _15sV4W _3xOS0O _2UBURg\">Euro 46 </div></div></li><li class=\"_3hSwtk _2UBURg\" id=\"swatch-7-size\"><a class=\"_1TJldG _2I_hq9 _1wX7_H\" href=\"/puma-slyde-nu-idp-sneakers-men/p/itmf3xchnku59ncr?pid=SHOEYRU7FVEVHZ6B&amp;lid=LSTSHOEYRU7FVEVHZ6BNEIEL2&amp;marketplace=FLIPKART&amp;sattr[]=color&amp;sattr[]=size&amp;st=size\">12</a><div class=\"_11cw91 _1-fCbU E753YP DgCx9f\"><div class=\"_2h52bo _15sV4W _3xOS0O _2UBURg\">12</div></div></li><li class=\"_3IpUi6 _2UBURg\"><div class=\"_39pMkP\"><span>Size Chart</span><img class=\"_1SLPXg\" src=\"data:image/svg+xml;base64,PHN2ZyB4bWxucz0iaHR0cDovL3d3dy53My5vcmcvMjAwMC9zdmciIHdpZHRoPSIzOCIgaGVpZ2h0PSIxMiI+PGcgZmlsbD0ibm9uZSIgZmlsbC1ydWxlPSJldmVub2RkIiBzdHJva2U9IiMyODc0RjAiIHN0cm9rZS13aWR0aD0iMS4zIj48cGF0aCBmaWxsPSIjRkZGIiBmaWxsLXJ1bGU9Im5vbnplcm8iIGQ9Ik0zNy4zNS42NUguNjV2MTAuN2gzNi43Vi42NXoiLz48cGF0aCBmaWxsPSIjODc4Nzg3IiBkPSJNNi42NSA4LjY1aDF2Mi43aC0xem00LTNIMTFsLS4zNS0uMzVWNWwtLjE1LjE1LS4xNS0uMTV2LjNsLS4zNS4zNWguMzV2NS43SDEwbC4zNS4zNXYuM2wuMTUtLjE1LjE1LjE1di0uM2wuMzUtLjM1aC0uMzV2LTUuN3ptNSAzSDE2bC0uMzUtLjM1VjhsLS4xNS4xNS0uMTUtLjE1di4zbC0uMzUuMzVoLjM1djIuN0gxNWwuMzUuMzV2LjNsLjE1LS4xNS4xNS4xNXYtLjNsLjM1LS4zNWgtLjM1di0yLjd6bTQtM2gxdjUuN2gtMXptNCAzaDF2Mi43aC0xem05IDBoMXYyLjdoLTF6bS00LTNoMXY1LjdoLTF6Ii8+PC9nPjwvc3ZnPg==\"/></div></li></ul></div><div class=\"_11cw91 _2uva0I _3HQXAr E753YP _3X27rX _11uvZG _3K7Qff\"><div class=\"_2h52bo _15sV4W\"><span>Please select a Size- UK/India to proceed</span><button class=\"_2AkmmA DoInvC\">✕</button></div></div></div><div class=\"_2GFp_j\"><span>💡</span><span class=\"_1p9ydI\">Tip<!-- -->:</span><span class=\"_1h9hLb\">This product runs a size larger. If you usually buy UK 10, buy UK 9 for this.</span></div></div></div><div class=\"_1HmYoV _35HD7C\"><div class=\"_29BZlt\"><button class=\"_2AkmmA _17GYlK _1UjZpa\"><div class=\"_15p4tQ\"></div><span class=\"_3sSh0x\">Read all details</span></button><div class=\"\"><div class=\"_1HmYoV hCUpcT\" style=\"padding:24px 0px 0px 0px\"><div class=\"bhgxx2 col-6-12\" style=\"padding:0px 12px 0px 0px\"><div><div class=\"_2lQ8be\"><div class=\"_3JlYXy\" style=\"padding-top:23.89%\"><div class=\"_2tnqd0 _3ZJShS\" style=\"padding-top:23.89%\"><img alt=\"\" class=\"_232NW7\"/><img alt=\"\" class=\"_2VeolH _3I5S6S\" src=\"https://rukminim1.flixcart.com/lockin/100/24/images/CCO__PP_2019-07-14.png?q=50\"/></div></div></div></div></div></div><div class=\"bhgxx2 col-12-12\" style=\"padding:24px 0px 0px 0px\"><div class=\"_29BZlt\"><div class=\"yFm2WR\"><div class=\"row\"><div class=\"col col-11-12 ft8ug2\">Product Details</div><div class=\"col col-1-12 _3rsYI2\"><img src=\"data:image/svg+xml;base64,PHN2ZyB4bWxucz0iaHR0cDovL3d3dy53My5vcmcvMjAwMC9zdmciIHdpZHRoPSIxNCIgaGVpZ2h0PSIxNCI+PHBhdGggZmlsbD0iIzg3ODc4NyIgZmlsbC1ydWxlPSJldmVub2RkIiBkPSJNMTQgOEg4djZINlY4SDBWNmg2VjBoMnY2aDZ6Ii8+PC9zdmc+\"/></div></div><div class=\"row _1UjZpa\"><div class=\"row -eH4uP\"><div class=\"_2GNeiG _2t27J6\"><div class=\"row\"><div class=\"col col-3-12 _1kyh2f\">Color</div><div class=\"col col-9-12 _1BMpvA\">Blue</div></div><div class=\"row\"><div class=\"col col-3-12 _1kyh2f\">Outer Material</div><div class=\"col col-9-12 _1BMpvA\">Fabric</div></div><div class=\"row\"><div class=\"col col-3-12 _1kyh2f\">Model Name</div><div class=\"col col-9-12 _1BMpvA\">Slyde NU IDP</div></div><div class=\"row\"><div class=\"col col-3-12 _1kyh2f\">Ideal For</div><div class=\"col col-9-12 _1BMpvA\">Men</div></div><div class=\"row\"><div class=\"col col-3-12 _1kyh2f\">Occasion</div><div class=\"col col-9-12 _1BMpvA\">Casual</div></div><div class=\"row\"><div class=\"col col-3-12 _1kyh2f\">Sole Material</div><div class=\"col col-9-12 _1BMpvA\">Rubber</div></div><div class=\"row\"><div class=\"col col-3-12 _1kyh2f\">Closure</div><div class=\"col col-9-12 _1BMpvA\">Lace-Ups</div></div><div class=\"row\"><div class=\"col col-3-12 _1kyh2f\">Style</div><div class=\"col col-9-12 _1BMpvA\">Panel and Stitch Detail, Loop at Ankle</div></div><div class=\"row\"><div class=\"col col-3-12 _1kyh2f\">Tip Shape</div><div class=\"col col-9-12 _1BMpvA\">Round</div></div><div class=\"row\"><div class=\"col col-3-12 _1kyh2f\">Season</div><div class=\"col col-9-12 _1BMpvA\">SS 18</div></div><div class=\"row\"><div class=\"col col-3-12 _1kyh2f\">Warranty Summary</div><div class=\"col col-9-12 _1BMpvA\">This is a genuine product of Puma Sports India Pvt Ltd. The product comes with a standard brand warranty of 90 days.</div></div><div class=\"row\"><div class=\"col col-3-12 _1kyh2f\">Covered in Warranty</div><div class=\"col col-9-12 _1BMpvA\">Manufacturing defects: stitching/ pasting issues, mesh quality, sole integrity. Exchange available within 90 days of purchase, provided the product is not inappropriately used as determined by the Brand.</div></div><div class=\"row\"><div class=\"col col-3-12 _1kyh2f\">Not Covered in Warranty</div><div class=\"col col-9-12 _1BMpvA\">Wear &amp; tear</div></div><div class=\"_22-mFc\">Manufacturing, Packaging and Import Info</div></div><button class=\"_2AkmmA _1jdA3N\">Read More</button></div></div></div></div></div><div class=\"bhgxx2 col-12-12\"><div class=\"col _39LH-M _3cycCZ\"><div class=\"_1B7BXc\"><div class=\"_3unCI7 _3cycCZ\">Ratings &amp; Reviews</div><div class=\"niH0FQ _3yjoDI M0NQ9N\"><span class=\"_2_KrJI\" id=\"productRating_LSTSHOF32HGW4SNK2DM6XG3EX_SHOF32HGW4SNK2DM_\"><div class=\"hGSR34 _2ZPBS2\">4.2<img class=\"_2lQ_WZ gLmWvp\" src=\"data:image/svg+xml;base64,PHN2ZyB4bWxucz0iaHR0cDovL3d3dy53My5vcmcvMjAwMC9zdmciIHdpZHRoPSIxMyIgaGVpZ2h0PSIxMiI+PHBhdGggZmlsbD0iI0ZGRiIgZD0iTTYuNSA5LjQzOWwtMy42NzQgMi4yMy45NC00LjI2LTMuMjEtMi44ODMgNC4yNTQtLjQwNEw2LjUuMTEybDEuNjkgNC4wMSA0LjI1NC40MDQtMy4yMSAyLjg4Mi45NCA0LjI2eiIvPjwvc3ZnPg==\"/></div></span><span class=\"_38sUEc _1je6zX\"><span>12,083 ratings and 1,906 reviews</span></span></div><div class=\"_36nEq1 _3cycCZ\"><button class=\"_2AkmmA _2XOAEz _3cycCZ\" type=\"submit\"><span>Rate Product</span></button></div></div><div class=\"row\"><div class=\"_3Sjmcc col col-6-12\"><div class=\"_2Crak7\"><div class=\"n8nqQZ\">What our customers felt:</div><div class=\"row nu00Bw\"><div class=\"col col-1-12\"><img class=\"_3_sxlM\" src=\"data:image/png;base64,iVBORw0KGgoAAAANSUhEUgAAACgAAAAoCAMAAAC7IEhfAAAAk1BMVEUAAAAmpkEnpkEmpkInpkImp0L///8mpUEop0MxrVImpkEop0QmpkImpkEnpkImpUInpkInpkEop0M+vVompkInpkImpUEmpkEnpkEnpkMnp0QnpkEmpkEnp0ImpkIopkEpqEQqqUIqpUQnq0QsqkYnp0MmpUEnpkEnpUInpkEmpkEnpkIrqUUnqkgmpkInpkMmpUH8hZZRAAAAMHRSTlMA/PN+d3AB5TkKqD7w6NrCs6xLBtXRnZpjUUPfv4NqMy0qJCAXR/fJopJWVR0TiVyaW8uyAAACEElEQVQ4y4VV7ZaiMAxNoSCfgigKioIiOjrjLO//dNs0PS0i7N4fnJBcuOlNOMA7LjxIlpa1TAJ+gVlcj5t+gM3xOknzbasfwbL9T14Z9xOIyxHNtVXl8Ciyus6Kx0ElbPdNdiWT7NGYXPNgMrkayLsBpS4jC+jxwLxT6rICPlAwqa7PgXdRCBMII6yVqsEFvm8Pk9jjOxe+ET7BDE5a/Io+pzCLFJ3HGR1R+Eynd5JVTeV6lTh02jOKH0WA891S9VeEt0aaeBPhL2W3OHdhFvbg0VIw6SaG0kFGS+FhfAGOpyKRjoaIIQ2wo4bQFQ44lB2YR/scw7w3QrDD8UCC3mhDqW88obEPHBEnsBTXbyB0lsjIqp8ITzogfAvKEiySIPwU2ZqidVb8AJiWLEkM4Z8IkWik50HSlbg6pPZHielGnmt9mIrsUROIz0PeOaYC2SPpsTT8LgxpDa8VZt2l4bEUbbWz3k2MpQaF+iDm7uk5tAC5XoqSYTO8DMOSV1h9UktqXLZZswKZGuxk1gw39xWZxd3nhrfpzOJGL4z48FMI7fS+2dxTO3QHnwIn//7/cam5ZngT7Sd52BfLMNTizPnkOYyENb56RNq805pUpr/AYE1MtvVcUHC9LSPeGobgysJ45zzD8OnsYmUmhxGyRT+BRQYf8Hk0pkXchym87HxIy+0XzKJ1ggp/H1XgtO+Vv42WZ2YiIfWjAAAAAElFTkSuQmCC\"/></div><ul class=\"col col-11-12 _3a-O3m\"><li class=\"_3BRHd1\"><a href=\"/puma-slyde-nu-idp-sneakers-men/product-reviews/itmf3xxcvu8fwgcp?pid=SHOF32HGW4SNK2DM&amp;aid=97651873-0240-4dfd-939f-d669e300cb00&amp;mid=FLIPKART&amp;fid=b9c9b834-213e-4b8b-91a3-c69ccc089bed.SHOF32HGW4SNK2DM&amp;an=Look&amp;cat=MenFW&amp;vert=MenCasualShoe\">Look</a></li><li class=\"_3BRHd1\"><a href=\"/puma-slyde-nu-idp-sneakers-men/product-reviews/itmf3xxcvu8fwgcp?pid=SHOF32HGW4SNK2DM&amp;aid=8e753289-46af-43a4-9329-09117556fe1a&amp;mid=FLIPKART&amp;fid=b9c9b834-213e-4b8b-91a3-c69ccc089bed.SHOF32HGW4SNK2DM&amp;an=Comfort&amp;cat=MenFW&amp;vert=MenCasualShoe\">Comfort</a></li></ul></div><div class=\"row nu00Bw\"><div class=\"col col-1-12\"><img class=\"_3_sxlM\" src=\"data:image/png;base64,iVBORw0KGgoAAAANSUhEUgAAACgAAAAoCAMAAAC7IEhfAAAAjVBMVEUAAAD/oAD/oQD/ogD/oAD/nwD/oAD/oAD/rgD//wD/oAD/oAD/oQD/oAD/oAD/owD/pQD/nwD/oAD/oAD/oAD/oAD/oAD/oAD/oAD/oQD/oAD/oQD/oQD/oQD/ogD/qAD/oQD/oAD/oAD/oAD/oQD/pAD/oAD/owD/oAD/nwD/oAD/nwD/oQD/pwD/nwD1JvR7AAAALnRSTlMA/FY688rCqwcB59ybf28qI/Cod3Tj1tG0oYRKRUEXC1KSfGplEzUv962LYEwdXUg82QAAAdBJREFUOMuFVemagjAMbCgLuAqIFyp4g7e8/+MtOdZWjs/54RfTsZNMAqpPjGcTb+i6Q28yG6tebNeLysJive2k7UK3asANd23e/rfqwO++QRuEcjI8FM/z+VkchpIIBzYv8CkJh4vJXQ5AST+w7vM51Wh0LGlzJ+lCoVoogNTffeC3ZKM6sEnwTDraYb/AvDYTsHd26Yg/OqkenPD0SPNAn5eqF0t0Hme0RuGYu488Xww6+17E3cYovq4DnO+IT+91eI3p9FqHd86OcO61WViD5qUAsg1DchB4KTTGYzXDrlgk5yFiyAPMuSB0ZaYmRlnTaYphSqE22hPl1Z+RTHxeUd3SYTWXKUd17JHI/y7lbp3Z0RC82pNc0g4V5JKE4PXIArk9e7wokJJcIfbBEMlGp49ipBfSTB9MM2JPL4w9YjhDOxakcjHcjJAXzsZR2SNUqdH2P4m+KMu4QrNm8e3Hwk2SII9NmXxf3KTEaPr9UZiaXeh/uKztyABvz7t4OdYFGYZvcYg6ZgJGmLCqEMv4kxYvKb2yUgEzYaUHSjDQK2AeF/hWB3khjiJHaycayesSRNcgm1cdmGeqhWCaNGnJFGXbKMPUpqVh2eZ8//v4A7BoXgxw2KWRAAAAAElFTkSuQmCC\"/></div><ul class=\"col col-11-12 _3a-O3m\"><li class=\"_3BRHd1\"><a href=\"/puma-slyde-nu-idp-sneakers-men/product-reviews/itmf3xxcvu8fwgcp?pid=SHOF32HGW4SNK2DM&amp;aid=78e9c887-e28e-42c4-bcca-180da5e2fb98&amp;mid=FLIPKART&amp;fid=b9c9b834-213e-4b8b-91a3-c69ccc089bed.SHOF32HGW4SNK2DM&amp;an=Colour&amp;cat=MenFW&amp;vert=MenCasualShoe\">Colour</a></li></ul></div></div></div><div class=\"col col-6-12\"><div class=\"_2fWZVQ\">Images uploaded by customers:</div><div class=\"KjrNZd _2-BQtO _3SvPi-\"><div class=\"_3Z21tn _3rw8Cw\" style=\"background-image:url(https://rukminim1.flixcart.com/blobio/140/140/20180601/blobio-20180601_676h831j.jpg?q=90), url(data:image/svg+xml;base64,PHN2ZyB3aWR0aD0iMjIiIGhlaWdodD0iMTgiIHhtbG5zPSJodHRwOi8vd3d3LnczLm9yZy8yMDAwL3N2ZyI+PGcgZmlsbD0iIzlEOUQ5RCIgZmlsbC1ydWxlPSJub256ZXJvIj48cGF0aCBkPSJNMjAgMEgyQzEgMCAwIDEgMCAydjE0YzAgMS4xLjkgMiAyIDJoMThjMSAwIDItMSAyLTJWMmMwLTEtMS0yLTItMnptMCAxNS45MmMtLjAyLjAzLS4wNi4wNi0uMDguMDhIMlYyLjA4TDIuMDggMmgxNy44M2MuMDMuMDIuMDYuMDYuMDguMDh2MTMuODRIMjB6Ii8+PHBhdGggZD0iTTEwIDEyLjUxTDcuNSA5LjUgNCAxNGgxNGwtNC41LTZ6Ii8+PC9nPjwvc3ZnPg==);width:70px;height:70px\"></div><div class=\"_3Z21tn _3rw8Cw\" style=\"background-image:url(https://rukminim1.flixcart.com/blobio/140/140/20180601/blobio-20180601_484d2lkq.jpg?q=90), url(data:image/svg+xml;base64,PHN2ZyB3aWR0aD0iMjIiIGhlaWdodD0iMTgiIHhtbG5zPSJodHRwOi8vd3d3LnczLm9yZy8yMDAwL3N2ZyI+PGcgZmlsbD0iIzlEOUQ5RCIgZmlsbC1ydWxlPSJub256ZXJvIj48cGF0aCBkPSJNMjAgMEgyQzEgMCAwIDEgMCAydjE0YzAgMS4xLjkgMiAyIDJoMThjMSAwIDItMSAyLTJWMmMwLTEtMS0yLTItMnptMCAxNS45MmMtLjAyLjAzLS4wNi4wNi0uMDguMDhIMlYyLjA4TDIuMDggMmgxNy44M2MuMDMuMDIuMDYuMDYuMDguMDh2MTMuODRIMjB6Ii8+PHBhdGggZD0iTTEwIDEyLjUxTDcuNSA5LjUgNCAxNGgxNGwtNC41LTZ6Ii8+PC9nPjwvc3ZnPg==);width:70px;height:70px\"></div><div class=\"_3Z21tn _3rw8Cw\" style=\"background-image:url(https://rukminim1.flixcart.com/blobio/140/140/20180601/blobio-20180601_m2p4pvl.jpg?q=90), url(data:image/svg+xml;base64,PHN2ZyB3aWR0aD0iMjIiIGhlaWdodD0iMTgiIHhtbG5zPSJodHRwOi8vd3d3LnczLm9yZy8yMDAwL3N2ZyI+PGcgZmlsbD0iIzlEOUQ5RCIgZmlsbC1ydWxlPSJub256ZXJvIj48cGF0aCBkPSJNMjAgMEgyQzEgMCAwIDEgMCAydjE0YzAgMS4xLjkgMiAyIDJoMThjMSAwIDItMSAyLTJWMmMwLTEtMS0yLTItMnptMCAxNS45MmMtLjAyLjAzLS4wNi4wNi0uMDguMDhIMlYyLjA4TDIuMDggMmgxNy44M2MuMDMuMDIuMDYuMDYuMDguMDh2MTMuODRIMjB6Ii8+PHBhdGggZD0iTTEwIDEyLjUxTDcuNSA5LjUgNCAxNGgxNGwtNC41LTZ6Ii8+PC9nPjwvc3ZnPg==);width:70px;height:70px\"></div><div class=\"_3Z21tn _3rw8Cw\" style=\"background-image:url(https://rukminim1.flixcart.com/blobio/140/140/20180601/blobio-20180601_j17969jt.jpg?q=90), url(data:image/svg+xml;base64,PHN2ZyB3aWR0aD0iMjIiIGhlaWdodD0iMTgiIHhtbG5zPSJodHRwOi8vd3d3LnczLm9yZy8yMDAwL3N2ZyI+PGcgZmlsbD0iIzlEOUQ5RCIgZmlsbC1ydWxlPSJub256ZXJvIj48cGF0aCBkPSJNMjAgMEgyQzEgMCAwIDEgMCAydjE0YzAgMS4xLjkgMiAyIDJoMThjMSAwIDItMSAyLTJWMmMwLTEtMS0yLTItMnptMCAxNS45MmMtLjAyLjAzLS4wNi4wNi0uMDguMDhIMlYyLjA4TDIuMDggMmgxNy44M2MuMDMuMDIuMDYuMDYuMDguMDh2MTMuODRIMjB6Ii8+PHBhdGggZD0iTTEwIDEyLjUxTDcuNSA5LjUgNCAxNGgxNGwtNC41LTZ6Ii8+PC9nPjwvc3ZnPg==);width:70px;height:70px\"></div><div class=\"_3Z21tn _3rw8Cw _1pnbvM\" style=\"background-image:url(https://rukminim1.flixcart.com/blobio/140/140/20180614/blobio-20180614_fhu3ac8l.jpg?q=90), url(data:image/svg+xml;base64,PHN2ZyB3aWR0aD0iMjIiIGhlaWdodD0iMTgiIHhtbG5zPSJodHRwOi8vd3d3LnczLm9yZy8yMDAwL3N2ZyI+PGcgZmlsbD0iIzlEOUQ5RCIgZmlsbC1ydWxlPSJub256ZXJvIj48cGF0aCBkPSJNMjAgMEgyQzEgMCAwIDEgMCAydjE0YzAgMS4xLjkgMiAyIDJoMThjMSAwIDItMSAyLTJWMmMwLTEtMS0yLTItMnptMCAxNS45MmMtLjAyLjAzLS4wNi4wNi0uMDguMDhIMlYyLjA4TDIuMDggMmgxNy44M2MuMDMuMDIuMDYuMDYuMDguMDh2MTMuODRIMjB6Ii8+PHBhdGggZD0iTTEwIDEyLjUxTDcuNSA5LjUgNCAxNGgxNGwtNC41LTZ6Ii8+PC9nPjwvc3ZnPg==);width:70px;height:70px\"><span class=\"_2d-K43\">+ <!-- -->179</span></div></div></div></div><div class=\"_2aFisS _3cycCZ\"><div class=\"_3nrCtb QPvkn6\"><div class=\"col\"><div class=\"col _390CkK _2675cp\"><div class=\"row\"><div class=\"qwjRop _2675cp\"><div><div class=\"hGSR34 E_uFuv _3-6Xp-\">5<img class=\"_2lQ_WZ\" src=\"data:image/svg+xml;base64,PHN2ZyB4bWxucz0iaHR0cDovL3d3dy53My5vcmcvMjAwMC9zdmciIHdpZHRoPSIxMyIgaGVpZ2h0PSIxMiI+PHBhdGggZmlsbD0iI0ZGRiIgZD0iTTYuNSA5LjQzOWwtMy42NzQgMi4yMy45NC00LjI2LTMuMjEtMi44ODMgNC4yNTQtLjQwNEw2LjUuMTEybDEuNjkgNC4wMSA0LjI1NC40MDQtMy4yMSAyLjg4Mi45NCA0LjI2eiIvPjwvc3ZnPg==\"/></div><div class=\"_2t8wE0\">it's really amazing product I love it..and fast delivery..<br/>     but packing is not good.....</div><span class=\"_2jRR3v\"><span>READ MORE</span></span></div></div></div><div class=\"KjrNZd TrzMnd\"><div class=\"_3Z21tn _2wWSCV\" style=\"background-image:url(https://rukminim1.flixcart.com/blobio/124/124/20180601/blobio-20180601_676h831j.jpg?q=90), url(data:image/svg+xml;base64,PHN2ZyB3aWR0aD0iMjIiIGhlaWdodD0iMTgiIHhtbG5zPSJodHRwOi8vd3d3LnczLm9yZy8yMDAwL3N2ZyI+PGcgZmlsbD0iIzlEOUQ5RCIgZmlsbC1ydWxlPSJub256ZXJvIj48cGF0aCBkPSJNMjAgMEgyQzEgMCAwIDEgMCAydjE0YzAgMS4xLjkgMiAyIDJoMThjMSAwIDItMSAyLTJWMmMwLTEtMS0yLTItMnptMCAxNS45MmMtLjAyLjAzLS4wNi4wNi0uMDguMDhIMlYyLjA4TDIuMDggMmgxNy44M2MuMDMuMDIuMDYuMDYuMDguMDh2MTMuODRIMjB6Ii8+PHBhdGggZD0iTTEwIDEyLjUxTDcuNSA5LjUgNCAxNGgxNGwtNC41LTZ6Ii8+PC9nPjwvc3ZnPg==);width:62px;height:62px\"></div><div class=\"_3Z21tn _2wWSCV\" style=\"background-image:url(https://rukminim1.flixcart.com/blobio/124/124/20180601/blobio-20180601_484d2lkq.jpg?q=90), url(data:image/svg+xml;base64,PHN2ZyB3aWR0aD0iMjIiIGhlaWdodD0iMTgiIHhtbG5zPSJodHRwOi8vd3d3LnczLm9yZy8yMDAwL3N2ZyI+PGcgZmlsbD0iIzlEOUQ5RCIgZmlsbC1ydWxlPSJub256ZXJvIj48cGF0aCBkPSJNMjAgMEgyQzEgMCAwIDEgMCAydjE0YzAgMS4xLjkgMiAyIDJoMThjMSAwIDItMSAyLTJWMmMwLTEtMS0yLTItMnptMCAxNS45MmMtLjAyLjAzLS4wNi4wNi0uMDguMDhIMlYyLjA4TDIuMDggMmgxNy44M2MuMDMuMDIuMDYuMDYuMDguMDh2MTMuODRIMjB6Ii8+PHBhdGggZD0iTTEwIDEyLjUxTDcuNSA5LjUgNCAxNGgxNGwtNC41LTZ6Ii8+PC9nPjwvc3ZnPg==);width:62px;height:62px\"></div><div class=\"_3Z21tn _2wWSCV\" style=\"background-image:url(https://rukminim1.flixcart.com/blobio/124/124/20180601/blobio-20180601_m2p4pvl.jpg?q=90), url(data:image/svg+xml;base64,PHN2ZyB3aWR0aD0iMjIiIGhlaWdodD0iMTgiIHhtbG5zPSJodHRwOi8vd3d3LnczLm9yZy8yMDAwL3N2ZyI+PGcgZmlsbD0iIzlEOUQ5RCIgZmlsbC1ydWxlPSJub256ZXJvIj48cGF0aCBkPSJNMjAgMEgyQzEgMCAwIDEgMCAydjE0YzAgMS4xLjkgMiAyIDJoMThjMSAwIDItMSAyLTJWMmMwLTEtMS0yLTItMnptMCAxNS45MmMtLjAyLjAzLS4wNi4wNi0uMDguMDhIMlYyLjA4TDIuMDggMmgxNy44M2MuMDMuMDIuMDYuMDYuMDguMDh2MTMuODRIMjB6Ii8+PHBhdGggZD0iTTEwIDEyLjUxTDcuNSA5LjUgNCAxNGgxNGwtNC41LTZ6Ii8+PC9nPjwvc3ZnPg==);width:62px;height:62px\"></div><div class=\"_3Z21tn _2wWSCV\" style=\"background-image:url(https://rukminim1.flixcart.com/blobio/124/124/20180601/blobio-20180601_j17969jt.jpg?q=90), url(data:image/svg+xml;base64,PHN2ZyB3aWR0aD0iMjIiIGhlaWdodD0iMTgiIHhtbG5zPSJodHRwOi8vd3d3LnczLm9yZy8yMDAwL3N2ZyI+PGcgZmlsbD0iIzlEOUQ5RCIgZmlsbC1ydWxlPSJub256ZXJvIj48cGF0aCBkPSJNMjAgMEgyQzEgMCAwIDEgMCAydjE0YzAgMS4xLjkgMiAyIDJoMThjMSAwIDItMSAyLTJWMmMwLTEtMS0yLTItMnptMCAxNS45MmMtLjAyLjAzLS4wNi4wNi0uMDguMDhIMlYyLjA4TDIuMDggMmgxNy44M2MuMDMuMDIuMDYuMDYuMDguMDh2MTMuODRIMjB6Ii8+PHBhdGggZD0iTTEwIDEyLjUxTDcuNSA5LjUgNCAxNGgxNGwtNC41LTZ6Ii8+PC9nPjwvc3ZnPg==);width:62px;height:62px\"></div></div><div class=\"row _2pclJg\"><div class=\"row _3mmiIt\"><p class=\"_3LYOAd _3sxSiS _2675cp\">Vãrùñ Gøwdâ</p><p class=\"_3LYOAd\">Jun, 2018</p><div class=\"_3KBEVV\"><div class=\"row\"><div class=\"NIDnsQ\"><div class=\"_2ZibVB\"><svg class=\"yW9s2v\" height=\"15\" width=\"20\" xmlns=\"http://www.w3.org/2000/svg\"><path class=\"_3Xc5dR\" d=\"M9.58.006c-.41.043-.794.32-1.01.728-.277.557-2.334 4.693-2.74 5.1-.41.407-.944.6-1.544.6v8.572h7.5c.45 0 .835-.28 1.007-.665 0 0 2.207-6.234 2.207-6.834 0-.6-.47-1.072-1.07-1.072h-3.216c-.6 0-1.07-.535-1.07-1.07 0-.537.835-3.387 1.006-3.944.17-.557-.107-1.157-.664-1.35-.15-.043-.257-.086-.407-.064zM0 6.434v8.572h2.143V6.434H0z\" fill=\"#fff\" fill-rule=\"evenodd\"></path></svg><span class=\"_1_BQL8\">151</span></div><div class=\"_2ZibVB _1FP7V7\"><svg class=\"yW9s2v _1FP7V7\" height=\"15\" width=\"20\" xmlns=\"http://www.w3.org/2000/svg\"><path class=\"_3Xc5dR\" d=\"M9.58.006c-.41.043-.794.32-1.01.728-.277.557-2.334 4.693-2.74 5.1-.41.407-.944.6-1.544.6v8.572h7.5c.45 0 .835-.28 1.007-.665 0 0 2.207-6.234 2.207-6.834 0-.6-.47-1.072-1.07-1.072h-3.216c-.6 0-1.07-.535-1.07-1.07 0-.537.835-3.387 1.006-3.944.17-.557-.107-1.157-.664-1.35-.15-.043-.257-.086-.407-.064zM0 6.434v8.572h2.143V6.434H0z\" fill=\"#fff\" fill-rule=\"evenodd\"></path></svg><span class=\"_1_BQL8\">24</span></div></div><div class=\"BaiOP6\"><img src=\"data:image/svg+xml;base64,PHN2ZyB4bWxucz0iaHR0cDovL3d3dy53My5vcmcvMjAwMC9zdmciIHdpZHRoPSI0IiBoZWlnaHQ9IjE1Ij48ZyBmaWxsPSIjQzJDMkMyIiBmaWxsLXJ1bGU9ImV2ZW5vZGQiPjxjaXJjbGUgY3g9IjIiIGN5PSIyIiByPSIyIi8+PGNpcmNsZSBjeD0iMiIgY3k9IjciIHI9IjIiLz48Y2lyY2xlIGN4PSIyIiBjeT0iMTMiIHI9IjIiLz48L2c+PC9zdmc+\"/><div class=\"_1GRhLX _3tUVTT\"><div class=\"SbFGpY\"><a href=\"/reviews/5758b00f-2eb0-411a-a508-e410da5232f5\"><span>Permalink</span></a></div><div class=\"SbFGpY doA17J\"><span>Report Abuse</span></div></div></div></div></div></div><svg class=\"_3Zp_NJ\" height=\"14\" viewbox=\"0 0 12 12\" width=\"14\" xmlns=\"http://www.w3.org/2000/svg\"><g><circle cx=\"6\" cy=\"6\" fill=\"#878787\" r=\"6\"></circle><path d=\"M3 6l2 2 4-4\" fill=\"#878787\" stroke=\"#FFF\" stroke-width=\"1.5\"></path></g></svg><p class=\"_19inI8\" id=\"review-5758b00f-2eb0-411a-a508-e410da5232f5\"><span>Certified Buyer</span><span>, Chikkamagaluru</span></p></div></div></div></div><div class=\"_3nrCtb QPvkn6\"><div class=\"col\"><div class=\"col _390CkK _2675cp\"><div class=\"row\"><div class=\"qwjRop _2675cp\"><div><div class=\"hGSR34 E_uFuv _3-6Xp-\">5<img class=\"_2lQ_WZ\" src=\"data:image/svg+xml;base64,PHN2ZyB4bWxucz0iaHR0cDovL3d3dy53My5vcmcvMjAwMC9zdmciIHdpZHRoPSIxMyIgaGVpZ2h0PSIxMiI+PHBhdGggZmlsbD0iI0ZGRiIgZD0iTTYuNSA5LjQzOWwtMy42NzQgMi4yMy45NC00LjI2LTMuMjEtMi44ODMgNC4yNTQtLjQwNEw2LjUuMTEybDEuNjkgNC4wMSA0LjI1NC40MDQtMy4yMSAyLjg4Mi45NCA0LjI2eiIvPjwvc3ZnPg==\"/></div><div class=\"_2t8wE0\">Nice product...<br/>It is very good looking, stylish and comfortable in affordable price...Can go for it</div><span class=\"_2jRR3v\"><span>READ MORE</span></span></div></div></div><div class=\"KjrNZd TrzMnd\"><div class=\"_3Z21tn _2wWSCV\" style=\"background-image:url(https://rukminim1.flixcart.com/blobio/124/124/20180614/blobio-20180614_fhu3ac8l.jpg?q=90), url(data:image/svg+xml;base64,PHN2ZyB3aWR0aD0iMjIiIGhlaWdodD0iMTgiIHhtbG5zPSJodHRwOi8vd3d3LnczLm9yZy8yMDAwL3N2ZyI+PGcgZmlsbD0iIzlEOUQ5RCIgZmlsbC1ydWxlPSJub256ZXJvIj48cGF0aCBkPSJNMjAgMEgyQzEgMCAwIDEgMCAydjE0YzAgMS4xLjkgMiAyIDJoMThjMSAwIDItMSAyLTJWMmMwLTEtMS0yLTItMnptMCAxNS45MmMtLjAyLjAzLS4wNi4wNi0uMDguMDhIMlYyLjA4TDIuMDggMmgxNy44M2MuMDMuMDIuMDYuMDYuMDguMDh2MTMuODRIMjB6Ii8+PHBhdGggZD0iTTEwIDEyLjUxTDcuNSA5LjUgNCAxNGgxNGwtNC41LTZ6Ii8+PC9nPjwvc3ZnPg==);width:62px;height:62px\"></div></div><div class=\"row _2pclJg\"><div class=\"row _3mmiIt\"><p class=\"_3LYOAd _3sxSiS _2675cp\">Flipkart Customer</p><p class=\"_3LYOAd\">Jun, 2018</p><div class=\"_3KBEVV\"><div class=\"row\"><div class=\"NIDnsQ\"><div class=\"_2ZibVB\"><svg class=\"yW9s2v\" height=\"15\" width=\"20\" xmlns=\"http://www.w3.org/2000/svg\"><path class=\"_3Xc5dR\" d=\"M9.58.006c-.41.043-.794.32-1.01.728-.277.557-2.334 4.693-2.74 5.1-.41.407-.944.6-1.544.6v8.572h7.5c.45 0 .835-.28 1.007-.665 0 0 2.207-6.234 2.207-6.834 0-.6-.47-1.072-1.07-1.072h-3.216c-.6 0-1.07-.535-1.07-1.07 0-.537.835-3.387 1.006-3.944.17-.557-.107-1.157-.664-1.35-.15-.043-.257-.086-.407-.064zM0 6.434v8.572h2.143V6.434H0z\" fill=\"#fff\" fill-rule=\"evenodd\"></path></svg><span class=\"_1_BQL8\">15</span></div><div class=\"_2ZibVB _1FP7V7\"><svg class=\"yW9s2v _1FP7V7\" height=\"15\" width=\"20\" xmlns=\"http://www.w3.org/2000/svg\"><path class=\"_3Xc5dR\" d=\"M9.58.006c-.41.043-.794.32-1.01.728-.277.557-2.334 4.693-2.74 5.1-.41.407-.944.6-1.544.6v8.572h7.5c.45 0 .835-.28 1.007-.665 0 0 2.207-6.234 2.207-6.834 0-.6-.47-1.072-1.07-1.072h-3.216c-.6 0-1.07-.535-1.07-1.07 0-.537.835-3.387 1.006-3.944.17-.557-.107-1.157-.664-1.35-.15-.043-.257-.086-.407-.064zM0 6.434v8.572h2.143V6.434H0z\" fill=\"#fff\" fill-rule=\"evenodd\"></path></svg><span class=\"_1_BQL8\">0</span></div></div><div class=\"BaiOP6\"><img src=\"data:image/svg+xml;base64,PHN2ZyB4bWxucz0iaHR0cDovL3d3dy53My5vcmcvMjAwMC9zdmciIHdpZHRoPSI0IiBoZWlnaHQ9IjE1Ij48ZyBmaWxsPSIjQzJDMkMyIiBmaWxsLXJ1bGU9ImV2ZW5vZGQiPjxjaXJjbGUgY3g9IjIiIGN5PSIyIiByPSIyIi8+PGNpcmNsZSBjeD0iMiIgY3k9IjciIHI9IjIiLz48Y2lyY2xlIGN4PSIyIiBjeT0iMTMiIHI9IjIiLz48L2c+PC9zdmc+\"/><div class=\"_1GRhLX _3tUVTT\"><div class=\"SbFGpY\"><a href=\"/reviews/e752b648-0fdf-4b6c-885c-989eef562c7c\"><span>Permalink</span></a></div><div class=\"SbFGpY doA17J\"><span>Report Abuse</span></div></div></div></div></div></div><svg class=\"_3Zp_NJ\" height=\"14\" viewbox=\"0 0 12 12\" width=\"14\" xmlns=\"http://www.w3.org/2000/svg\"><g><circle cx=\"6\" cy=\"6\" fill=\"#878787\" r=\"6\"></circle><path d=\"M3 6l2 2 4-4\" fill=\"#878787\" stroke=\"#FFF\" stroke-width=\"1.5\"></path></g></svg><p class=\"_19inI8\" id=\"review-e752b648-0fdf-4b6c-885c-989eef562c7c\"><span>Certified Buyer</span><span>, Pune</span></p></div></div></div></div><div class=\"_3nrCtb QPvkn6\"><div class=\"col\"><div class=\"col _390CkK _2675cp\"><div class=\"row\"><div class=\"qwjRop _2675cp\"><div><div class=\"hGSR34 E_uFuv _3-6Xp-\">5<img class=\"_2lQ_WZ\" src=\"data:image/svg+xml;base64,PHN2ZyB4bWxucz0iaHR0cDovL3d3dy53My5vcmcvMjAwMC9zdmciIHdpZHRoPSIxMyIgaGVpZ2h0PSIxMiI+PHBhdGggZmlsbD0iI0ZGRiIgZD0iTTYuNSA5LjQzOWwtMy42NzQgMi4yMy45NC00LjI2LTMuMjEtMi44ODMgNC4yNTQtLjQwNEw2LjUuMTEybDEuNjkgNC4wMSA0LjI1NC40MDQtMy4yMSAyLjg4Mi45NCA0LjI2eiIvPjwvc3ZnPg==\"/></div><div class=\"_2t8wE0\">Mind blowing shoes</div><span class=\"_2jRR3v\"><span>READ MORE</span></span></div></div></div><div class=\"KjrNZd TrzMnd\"><div class=\"_3Z21tn _2wWSCV\" style=\"background-image:url(https://rukminim1.flixcart.com/blobio/124/124/20181018/blobio-20181018_2n0e6s6g.jpg?q=90), url(data:image/svg+xml;base64,PHN2ZyB3aWR0aD0iMjIiIGhlaWdodD0iMTgiIHhtbG5zPSJodHRwOi8vd3d3LnczLm9yZy8yMDAwL3N2ZyI+PGcgZmlsbD0iIzlEOUQ5RCIgZmlsbC1ydWxlPSJub256ZXJvIj48cGF0aCBkPSJNMjAgMEgyQzEgMCAwIDEgMCAydjE0YzAgMS4xLjkgMiAyIDJoMThjMSAwIDItMSAyLTJWMmMwLTEtMS0yLTItMnptMCAxNS45MmMtLjAyLjAzLS4wNi4wNi0uMDguMDhIMlYyLjA4TDIuMDggMmgxNy44M2MuMDMuMDIuMDYuMDYuMDguMDh2MTMuODRIMjB6Ii8+PHBhdGggZD0iTTEwIDEyLjUxTDcuNSA5LjUgNCAxNGgxNGwtNC41LTZ6Ii8+PC9nPjwvc3ZnPg==);width:62px;height:62px\"></div><div class=\"_3Z21tn _2wWSCV\" style=\"background-image:url(https://rukminim1.flixcart.com/blobio/124/124/20181018/blobio-20181018_fa5jaabs.jpg?q=90), url(data:image/svg+xml;base64,PHN2ZyB3aWR0aD0iMjIiIGhlaWdodD0iMTgiIHhtbG5zPSJodHRwOi8vd3d3LnczLm9yZy8yMDAwL3N2ZyI+PGcgZmlsbD0iIzlEOUQ5RCIgZmlsbC1ydWxlPSJub256ZXJvIj48cGF0aCBkPSJNMjAgMEgyQzEgMCAwIDEgMCAydjE0YzAgMS4xLjkgMiAyIDJoMThjMSAwIDItMSAyLTJWMmMwLTEtMS0yLTItMnptMCAxNS45MmMtLjAyLjAzLS4wNi4wNi0uMDguMDhIMlYyLjA4TDIuMDggMmgxNy44M2MuMDMuMDIuMDYuMDYuMDguMDh2MTMuODRIMjB6Ii8+PHBhdGggZD0iTTEwIDEyLjUxTDcuNSA5LjUgNCAxNGgxNGwtNC41LTZ6Ii8+PC9nPjwvc3ZnPg==);width:62px;height:62px\"></div><div class=\"_3Z21tn _2wWSCV\" style=\"background-image:url(https://rukminim1.flixcart.com/blobio/124/124/20181018/blobio-20181018_mtfh6fk6.jpg?q=90), url(data:image/svg+xml;base64,PHN2ZyB3aWR0aD0iMjIiIGhlaWdodD0iMTgiIHhtbG5zPSJodHRwOi8vd3d3LnczLm9yZy8yMDAwL3N2ZyI+PGcgZmlsbD0iIzlEOUQ5RCIgZmlsbC1ydWxlPSJub256ZXJvIj48cGF0aCBkPSJNMjAgMEgyQzEgMCAwIDEgMCAydjE0YzAgMS4xLjkgMiAyIDJoMThjMSAwIDItMSAyLTJWMmMwLTEtMS0yLTItMnptMCAxNS45MmMtLjAyLjAzLS4wNi4wNi0uMDguMDhIMlYyLjA4TDIuMDggMmgxNy44M2MuMDMuMDIuMDYuMDYuMDguMDh2MTMuODRIMjB6Ii8+PHBhdGggZD0iTTEwIDEyLjUxTDcuNSA5LjUgNCAxNGgxNGwtNC41LTZ6Ii8+PC9nPjwvc3ZnPg==);width:62px;height:62px\"></div><div class=\"_3Z21tn _2wWSCV\" style=\"background-image:url(https://rukminim1.flixcart.com/blobio/124/124/20181018/blobio-20181018_itfvqn1e.jpg?q=90), url(data:image/svg+xml;base64,PHN2ZyB3aWR0aD0iMjIiIGhlaWdodD0iMTgiIHhtbG5zPSJodHRwOi8vd3d3LnczLm9yZy8yMDAwL3N2ZyI+PGcgZmlsbD0iIzlEOUQ5RCIgZmlsbC1ydWxlPSJub256ZXJvIj48cGF0aCBkPSJNMjAgMEgyQzEgMCAwIDEgMCAydjE0YzAgMS4xLjkgMiAyIDJoMThjMSAwIDItMSAyLTJWMmMwLTEtMS0yLTItMnptMCAxNS45MmMtLjAyLjAzLS4wNi4wNi0uMDguMDhIMlYyLjA4TDIuMDggMmgxNy44M2MuMDMuMDIuMDYuMDYuMDguMDh2MTMuODRIMjB6Ii8+PHBhdGggZD0iTTEwIDEyLjUxTDcuNSA5LjUgNCAxNGgxNGwtNC41LTZ6Ii8+PC9nPjwvc3ZnPg==);width:62px;height:62px\"></div><div class=\"_3Z21tn _2wWSCV\" style=\"background-image:url(https://rukminim1.flixcart.com/blobio/124/124/20181018/blobio-20181018_ij1mc8ga.jpg?q=90), url(data:image/svg+xml;base64,PHN2ZyB3aWR0aD0iMjIiIGhlaWdodD0iMTgiIHhtbG5zPSJodHRwOi8vd3d3LnczLm9yZy8yMDAwL3N2ZyI+PGcgZmlsbD0iIzlEOUQ5RCIgZmlsbC1ydWxlPSJub256ZXJvIj48cGF0aCBkPSJNMjAgMEgyQzEgMCAwIDEgMCAydjE0YzAgMS4xLjkgMiAyIDJoMThjMSAwIDItMSAyLTJWMmMwLTEtMS0yLTItMnptMCAxNS45MmMtLjAyLjAzLS4wNi4wNi0uMDguMDhIMlYyLjA4TDIuMDggMmgxNy44M2MuMDMuMDIuMDYuMDYuMDguMDh2MTMuODRIMjB6Ii8+PHBhdGggZD0iTTEwIDEyLjUxTDcuNSA5LjUgNCAxNGgxNGwtNC41LTZ6Ii8+PC9nPjwvc3ZnPg==);width:62px;height:62px\"></div></div><div class=\"row _2pclJg\"><div class=\"row _3mmiIt\"><p class=\"_3LYOAd _3sxSiS _2675cp\">Anwar Ansari</p><p class=\"_3LYOAd\">11 months ago</p><div class=\"_3KBEVV\"><div class=\"row\"><div class=\"NIDnsQ\"><div class=\"_2ZibVB\"><svg class=\"yW9s2v\" height=\"15\" width=\"20\" xmlns=\"http://www.w3.org/2000/svg\"><path class=\"_3Xc5dR\" d=\"M9.58.006c-.41.043-.794.32-1.01.728-.277.557-2.334 4.693-2.74 5.1-.41.407-.944.6-1.544.6v8.572h7.5c.45 0 .835-.28 1.007-.665 0 0 2.207-6.234 2.207-6.834 0-.6-.47-1.072-1.07-1.072h-3.216c-.6 0-1.07-.535-1.07-1.07 0-.537.835-3.387 1.006-3.944.17-.557-.107-1.157-.664-1.35-.15-.043-.257-.086-.407-.064zM0 6.434v8.572h2.143V6.434H0z\" fill=\"#fff\" fill-rule=\"evenodd\"></path></svg><span class=\"_1_BQL8\">71</span></div><div class=\"_2ZibVB _1FP7V7\"><svg class=\"yW9s2v _1FP7V7\" height=\"15\" width=\"20\" xmlns=\"http://www.w3.org/2000/svg\"><path class=\"_3Xc5dR\" d=\"M9.58.006c-.41.043-.794.32-1.01.728-.277.557-2.334 4.693-2.74 5.1-.41.407-.944.6-1.544.6v8.572h7.5c.45 0 .835-.28 1.007-.665 0 0 2.207-6.234 2.207-6.834 0-.6-.47-1.072-1.07-1.072h-3.216c-.6 0-1.07-.535-1.07-1.07 0-.537.835-3.387 1.006-3.944.17-.557-.107-1.157-.664-1.35-.15-.043-.257-.086-.407-.064zM0 6.434v8.572h2.143V6.434H0z\" fill=\"#fff\" fill-rule=\"evenodd\"></path></svg><span class=\"_1_BQL8\">10</span></div></div><div class=\"BaiOP6\"><img src=\"data:image/svg+xml;base64,PHN2ZyB4bWxucz0iaHR0cDovL3d3dy53My5vcmcvMjAwMC9zdmciIHdpZHRoPSI0IiBoZWlnaHQ9IjE1Ij48ZyBmaWxsPSIjQzJDMkMyIiBmaWxsLXJ1bGU9ImV2ZW5vZGQiPjxjaXJjbGUgY3g9IjIiIGN5PSIyIiByPSIyIi8+PGNpcmNsZSBjeD0iMiIgY3k9IjciIHI9IjIiLz48Y2lyY2xlIGN4PSIyIiBjeT0iMTMiIHI9IjIiLz48L2c+PC9zdmc+\"/><div class=\"_1GRhLX _3tUVTT\"><div class=\"SbFGpY\"><a href=\"/reviews/e1603b9f-ff10-45bb-bc67-1f55581bc0d9\"><span>Permalink</span></a></div><div class=\"SbFGpY doA17J\"><span>Report Abuse</span></div></div></div></div></div></div><svg class=\"_3Zp_NJ\" height=\"14\" viewbox=\"0 0 12 12\" width=\"14\" xmlns=\"http://www.w3.org/2000/svg\"><g><circle cx=\"6\" cy=\"6\" fill=\"#878787\" r=\"6\"></circle><path d=\"M3 6l2 2 4-4\" fill=\"#878787\" stroke=\"#FFF\" stroke-width=\"1.5\"></path></g></svg><p class=\"_19inI8\" id=\"review-e1603b9f-ff10-45bb-bc67-1f55581bc0d9\"><span>Certified Buyer</span><span>, Kodad</span></p></div></div></div></div></div><a href=\"/puma-slyde-nu-idp-sneakers-men/product-reviews/itmf3xxcvu8fwgcp?pid=SHOF32HGW4SNK2DM\"><div class=\"swINJg _3cycCZ\"><span class=\"_3HNOC2\">All 1906 reviews</span><img class=\"tpt7ZH\" height=\"9\" src=\"data:image/svg+xml;base64,PHN2ZyB3aWR0aD0iNiIgaGVpZ2h0PSIxMCIgdmlld0JveD0iMCAwIDYgMTAiIHhtbG5zPSJodHRwOi8vd3d3LnczLm9yZy8yMDAwL3N2ZyI+PHRpdGxlPjEwMzc0NDBFLTZGNDYtNDc5MS1CRkUxLTczQzczMEI2RTU0NTwvdGl0bGU+PHBhdGggZD0iTTEuMiAxTDQgNSAxIDkiIHN0cm9rZS13aWR0aD0iMiIgc3Ryb2tlPSIjMDI3Q0Q1IiBmaWxsPSJub25lIiBmaWxsLXJ1bGU9ImV2ZW5vZGQiIHN0cm9rZS1saW5lY2FwPSJyb3VuZCIvPjwvc3ZnPg==\" width=\"6\"/></div></a></div></div><div class=\"bhgxx2 col-12-12\"><div class=\"_AZCKP _2rOo7w\"><div><div class=\"row F_0Hsk\"><div class=\"col col-6-12 _2qjerN\">Questions and Answers</div><div class=\"col col-6-12 _3wiVzj\"><img height=\"18\" src=\"data:image/svg+xml;base64,PHN2ZyB3aWR0aD0iMTYiIGhlaWdodD0iMTYiIHZpZXdCb3g9IjAgMCAxNiAxNiIgeG1sbnM9Imh0dHA6Ly93d3cudzMub3JnLzIwMDAvc3ZnIj48dGl0bGU+R3JvdXAgNTwvdGl0bGU+PGcgZmlsbD0iIzIxMjEyMSIgZmlsbC1ydWxlPSJldmVub2RkIj48cGF0aCBkPSJNMTEuNjE4IDkuODk3bDQuMjI0IDQuMjEyYy4wOTIuMDkuMS4yMy4wMi4zMTJsLTEuNDY0IDEuNDZjLS4wOC4wOC0uMjIyLjA3Mi0uMzE0LS4wMkw5Ljg2OCAxMS42Nk02LjQ4NiAxMC45Yy0yLjQyIDAtNC4zOC0xLjk1NS00LjM4LTQuMzY3IDAtMi40MTMgMS45Ni00LjM3IDQuMzgtNC4zN3M0LjM4IDEuOTU3IDQuMzggNC4zN2MwIDIuNDEyLTEuOTYgNC4zNjgtNC4zOCA0LjM2OG0wLTEwLjgzNEMyLjkwNC4wNjYgMCAyLjk2IDAgNi41MzMgMCAxMC4xMDUgMi45MDQgMTMgNi40ODYgMTNzNi40ODctMi44OTUgNi40ODctNi40NjdjMC0zLjU3Mi0yLjkwNS02LjQ2Ny02LjQ4Ny02LjQ2NyIvPjwvZz48L3N2Zz4=\" width=\"18\"/></div></div><div class=\"_3Iwc5S\"><div class=\"_3Yg6Tf XTdaa-\"><div><div class=\"_3DrPTt _3tdivH _3_qCl1\"><span class=\"_32lix0\">Q:</span><span>Suitable to ware with?</span></div><div><div class=\"_2zxmAs\"><span class=\"_32lix0\">A:</span><span>casual</span></div><div class=\"_3mc1Yw XTdaa-\"><div class=\"xuZEbP\"><div class=\"_22QhPv\"><span class=\"_37Xnxk\">Anonymous</span></div><span class=\"_35HzRV\"><svg class=\"-uuwxH\" height=\"14\" viewbox=\"0 0 12 12\" width=\"14\" xmlns=\"http://www.w3.org/2000/svg\"><g><circle cx=\"6\" cy=\"6\" fill=\"#878787\" r=\"6\"></circle><path d=\"M3 6l2 2 4-4\" fill=\"#878787\" stroke=\"#FFF\" stroke-width=\"1.5\"></path></g></svg>Certified Buyer</span></div><div class=\"_2x4OaY XTdaa-\"><div class=\"_2ZibVB _1tfnep\"><svg class=\"yW9s2v\" height=\"15\" width=\"20\" xmlns=\"http://www.w3.org/2000/svg\"><path class=\"_3Xc5dR\" d=\"M9.58.006c-.41.043-.794.32-1.01.728-.277.557-2.334 4.693-2.74 5.1-.41.407-.944.6-1.544.6v8.572h7.5c.45 0 .835-.28 1.007-.665 0 0 2.207-6.234 2.207-6.834 0-.6-.47-1.072-1.07-1.072h-3.216c-.6 0-1.07-.535-1.07-1.07 0-.537.835-3.387 1.006-3.944.17-.557-.107-1.157-.664-1.35-.15-.043-.257-.086-.407-.064zM0 6.434v8.572h2.143V6.434H0z\" fill=\"#fff\" fill-rule=\"evenodd\"></path></svg><span class=\"_1_BQL8\">70</span></div><div class=\"_2ZibVB _1FP7V7 _1tfnep\"><svg class=\"yW9s2v _1FP7V7\" height=\"15\" width=\"20\" xmlns=\"http://www.w3.org/2000/svg\"><path class=\"_3Xc5dR\" d=\"M9.58.006c-.41.043-.794.32-1.01.728-.277.557-2.334 4.693-2.74 5.1-.41.407-.944.6-1.544.6v8.572h7.5c.45 0 .835-.28 1.007-.665 0 0 2.207-6.234 2.207-6.834 0-.6-.47-1.072-1.07-1.072h-3.216c-.6 0-1.07-.535-1.07-1.07 0-.537.835-3.387 1.006-3.944.17-.557-.107-1.157-.664-1.35-.15-.043-.257-.086-.407-.064zM0 6.434v8.572h2.143V6.434H0z\" fill=\"#fff\" fill-rule=\"evenodd\"></path></svg><span class=\"_1_BQL8\">12</span></div></div><div class=\"BaiOP6 J1ugaS\"><img src=\"data:image/svg+xml;base64,PHN2ZyB4bWxucz0iaHR0cDovL3d3dy53My5vcmcvMjAwMC9zdmciIHdpZHRoPSI0IiBoZWlnaHQ9IjE1Ij48ZyBmaWxsPSIjQzJDMkMyIiBmaWxsLXJ1bGU9ImV2ZW5vZGQiPjxjaXJjbGUgY3g9IjIiIGN5PSIyIiByPSIyIi8+PGNpcmNsZSBjeD0iMiIgY3k9IjciIHI9IjIiLz48Y2lyY2xlIGN4PSIyIiBjeT0iMTMiIHI9IjIiLz48L2c+PC9zdmc+\"/><div class=\"_1GRhLX _3tUVTT\"><div class=\"SbFGpY doA17J\"><span>Report Abuse</span></div></div></div></div></div></div></div><div class=\"_3Yg6Tf XTdaa-\"><div><div class=\"_3DrPTt _3tdivH _3_qCl1\"><span class=\"_32lix0\">Q:</span><span>without socks can i use ????</span></div><div><div class=\"_2zxmAs\"><span class=\"_32lix0\">A:</span><span>yes.</span></div><div class=\"_3mc1Yw XTdaa-\"><div class=\"xuZEbP\"><div class=\"_22QhPv\"><span class=\"_37Xnxk\">Anonymous</span></div><span class=\"_35HzRV\"><svg class=\"-uuwxH\" height=\"14\" viewbox=\"0 0 12 12\" width=\"14\" xmlns=\"http://www.w3.org/2000/svg\"><g><circle cx=\"6\" cy=\"6\" fill=\"#878787\" r=\"6\"></circle><path d=\"M3 6l2 2 4-4\" fill=\"#878787\" stroke=\"#FFF\" stroke-width=\"1.5\"></path></g></svg>Certified Buyer</span></div><div class=\"_2x4OaY XTdaa-\"><div class=\"_2ZibVB _1tfnep\"><svg class=\"yW9s2v\" height=\"15\" width=\"20\" xmlns=\"http://www.w3.org/2000/svg\"><path class=\"_3Xc5dR\" d=\"M9.58.006c-.41.043-.794.32-1.01.728-.277.557-2.334 4.693-2.74 5.1-.41.407-.944.6-1.544.6v8.572h7.5c.45 0 .835-.28 1.007-.665 0 0 2.207-6.234 2.207-6.834 0-.6-.47-1.072-1.07-1.072h-3.216c-.6 0-1.07-.535-1.07-1.07 0-.537.835-3.387 1.006-3.944.17-.557-.107-1.157-.664-1.35-.15-.043-.257-.086-.407-.064zM0 6.434v8.572h2.143V6.434H0z\" fill=\"#fff\" fill-rule=\"evenodd\"></path></svg><span class=\"_1_BQL8\">64</span></div><div class=\"_2ZibVB _1FP7V7 _1tfnep\"><svg class=\"yW9s2v _1FP7V7\" height=\"15\" width=\"20\" xmlns=\"http://www.w3.org/2000/svg\"><path class=\"_3Xc5dR\" d=\"M9.58.006c-.41.043-.794.32-1.01.728-.277.557-2.334 4.693-2.74 5.1-.41.407-.944.6-1.544.6v8.572h7.5c.45 0 .835-.28 1.007-.665 0 0 2.207-6.234 2.207-6.834 0-.6-.47-1.072-1.07-1.072h-3.216c-.6 0-1.07-.535-1.07-1.07 0-.537.835-3.387 1.006-3.944.17-.557-.107-1.157-.664-1.35-.15-.043-.257-.086-.407-.064zM0 6.434v8.572h2.143V6.434H0z\" fill=\"#fff\" fill-rule=\"evenodd\"></path></svg><span class=\"_1_BQL8\">14</span></div></div><div class=\"BaiOP6 J1ugaS\"><img src=\"data:image/svg+xml;base64,PHN2ZyB4bWxucz0iaHR0cDovL3d3dy53My5vcmcvMjAwMC9zdmciIHdpZHRoPSI0IiBoZWlnaHQ9IjE1Ij48ZyBmaWxsPSIjQzJDMkMyIiBmaWxsLXJ1bGU9ImV2ZW5vZGQiPjxjaXJjbGUgY3g9IjIiIGN5PSIyIiByPSIyIi8+PGNpcmNsZSBjeD0iMiIgY3k9IjciIHI9IjIiLz48Y2lyY2xlIGN4PSIyIiBjeT0iMTMiIHI9IjIiLz48L2c+PC9zdmc+\"/><div class=\"_1GRhLX _3tUVTT\"><div class=\"SbFGpY doA17J\"><span>Report Abuse</span></div></div></div></div></div></div></div><div class=\"_3Yg6Tf XTdaa-\"><div><div class=\"_3DrPTt _3tdivH _3_qCl1\"><span class=\"_32lix0\">Q:</span><span>It is in light weight</span></div><div><div class=\"_2zxmAs\"><span class=\"_32lix0\">A:</span><span>yes</span></div><div class=\"_3mc1Yw XTdaa-\"><div class=\"xuZEbP\"><div class=\"_22QhPv\"><span class=\"_37Xnxk\">Anonymous</span></div><span class=\"_35HzRV\"><svg class=\"-uuwxH\" height=\"14\" viewbox=\"0 0 12 12\" width=\"14\" xmlns=\"http://www.w3.org/2000/svg\"><g><circle cx=\"6\" cy=\"6\" fill=\"#878787\" r=\"6\"></circle><path d=\"M3 6l2 2 4-4\" fill=\"#878787\" stroke=\"#FFF\" stroke-width=\"1.5\"></path></g></svg>Certified Buyer</span></div><div class=\"_2x4OaY XTdaa-\"><div class=\"_2ZibVB _1tfnep\"><svg class=\"yW9s2v\" height=\"15\" width=\"20\" xmlns=\"http://www.w3.org/2000/svg\"><path class=\"_3Xc5dR\" d=\"M9.58.006c-.41.043-.794.32-1.01.728-.277.557-2.334 4.693-2.74 5.1-.41.407-.944.6-1.544.6v8.572h7.5c.45 0 .835-.28 1.007-.665 0 0 2.207-6.234 2.207-6.834 0-.6-.47-1.072-1.07-1.072h-3.216c-.6 0-1.07-.535-1.07-1.07 0-.537.835-3.387 1.006-3.944.17-.557-.107-1.157-.664-1.35-.15-.043-.257-.086-.407-.064zM0 6.434v8.572h2.143V6.434H0z\" fill=\"#fff\" fill-rule=\"evenodd\"></path></svg><span class=\"_1_BQL8\">40</span></div><div class=\"_2ZibVB _1FP7V7 _1tfnep\"><svg class=\"yW9s2v _1FP7V7\" height=\"15\" width=\"20\" xmlns=\"http://www.w3.org/2000/svg\"><path class=\"_3Xc5dR\" d=\"M9.58.006c-.41.043-.794.32-1.01.728-.277.557-2.334 4.693-2.74 5.1-.41.407-.944.6-1.544.6v8.572h7.5c.45 0 .835-.28 1.007-.665 0 0 2.207-6.234 2.207-6.834 0-.6-.47-1.072-1.07-1.072h-3.216c-.6 0-1.07-.535-1.07-1.07 0-.537.835-3.387 1.006-3.944.17-.557-.107-1.157-.664-1.35-.15-.043-.257-.086-.407-.064zM0 6.434v8.572h2.143V6.434H0z\" fill=\"#fff\" fill-rule=\"evenodd\"></path></svg><span class=\"_1_BQL8\">8</span></div></div><div class=\"BaiOP6 J1ugaS\"><img src=\"data:image/svg+xml;base64,PHN2ZyB4bWxucz0iaHR0cDovL3d3dy53My5vcmcvMjAwMC9zdmciIHdpZHRoPSI0IiBoZWlnaHQ9IjE1Ij48ZyBmaWxsPSIjQzJDMkMyIiBmaWxsLXJ1bGU9ImV2ZW5vZGQiPjxjaXJjbGUgY3g9IjIiIGN5PSIyIiByPSIyIi8+PGNpcmNsZSBjeD0iMiIgY3k9IjciIHI9IjIiLz48Y2lyY2xlIGN4PSIyIiBjeT0iMTMiIHI9IjIiLz48L2c+PC9zdmc+\"/><div class=\"_1GRhLX _3tUVTT\"><div class=\"SbFGpY doA17J\"><span>Report Abuse</span></div></div></div></div></div><a class=\"JB1_NL\" href=\"#\">Read other answers</a></div></div></div><div class=\"_13y5dp _2rOo7w\"><a class=\"_2AkmmA _3azi7m _2rOo7w\" href=\"/puma-slyde-nu-idp-sneakers-men/product-questions/itmf3xxcvu8fwgcp?pid=SHOF32HGW4SNK2DM\">All questions<img class=\"_10O7TO\" height=\"9\" src=\"data:image/svg+xml;base64,PHN2ZyB3aWR0aD0iNiIgaGVpZ2h0PSIxMCIgdmlld0JveD0iMCAwIDYgMTAiIHhtbG5zPSJodHRwOi8vd3d3LnczLm9yZy8yMDAwL3N2ZyI+PHRpdGxlPjEwMzc0NDBFLTZGNDYtNDc5MS1CRkUxLTczQzczMEI2RTU0NTwvdGl0bGU+PHBhdGggZD0iTTEuMiAxTDQgNSAxIDkiIHN0cm9rZS13aWR0aD0iMiIgc3Ryb2tlPSIjMDI3Q0Q1IiBmaWxsPSJub25lIiBmaWxsLXJ1bGU9ImV2ZW5vZGQiIHN0cm9rZS1saW5lY2FwPSJyb3VuZCIvPjwvc3ZnPg==\" width=\"6\"/></a></div></div></div></div></div></div></div></div></div><div class=\"bhgxx2 col-12-12\"><div><a class=\"_1u1WpW _30I6CL\" href=\"https://www.flipkart.com/pages/30_day_return_lifestyle\" to=\"https://www.flipkart.com/pages/30_day_return_lifestyle\"><div class=\"_3JlYXy\" style=\"padding-top:7.06%\"><div class=\"_2tnqd0 _3ZJShS\" style=\"padding-top:7.06%\"><img alt=\"\" class=\"_232NW7 F55Tbb\"/><img alt=\"\" class=\"_2VeolH _3I5S6S\" src=\"https://rukminim1.flixcart.com/www/100/10/promos/01/12/2018/8aa01ab4-de88-4a46-9d93-5c7f3ebac2df.png?q=50\"/></div></div></a></div></div><div class=\"_2qNetV\"></div></div></div><footer class=\"HJlsB9\"><div class=\"TW4owM\"><div class=\"row\"><div class=\"col gu12 _2-C188\"></div></div><div class=\"row\"><div class=\"col gu12 gY-jFd\"><div class=\"_2irX8c\"><span>Top Stories</span>:<a class=\"_1DOPe6\" href=\"/brands\">Brand Directory</a></div><div class=\"_3MjOZz\"><span class=\"_3FbdwE\">MOST SEARCHED IN Footwear<!-- -->:</span><a class=\"_2vZ4m7\" href=\"/footwear/dc~brand/pr?sid=osp&amp;otracker=undefined_footer_footer\">DC SHOES INDIA</a><a class=\"_2vZ4m7\" href=\"/footwear/mochi~brand/pr?sid=osp&amp;otracker=undefined_footer_footer\">MOCHI</a><a class=\"_2vZ4m7\" href=\"/footwear/paragon~brand/pr?sid=osp&amp;otracker=undefined_footer_footer\">PARAGON FOOTWEAR ONLINE SHOPPING</a><a class=\"_2vZ4m7\" href=\"/mens-footwear/casual-shoes/loafers~type/pr?sid=osp,cil,e1f&amp;otracker=undefined_footer_footer\">LOAFER SHOES</a><a class=\"_2vZ4m7\" href=\"/mens-footwear/casual-shoes/pr?sid=osp,cil,e1f&amp;otracker=undefined_footer_footer\">CANVAS SHOES FOR MEN</a><a class=\"_2vZ4m7\" href=\"/mens-footwear/diesel~brand/pr?sid=osp,cil&amp;otracker=undefined_footer_footer\">DIESEL SHOES</a><a class=\"_2vZ4m7\" href=\"/mens-footwear/formal-shoes/bata~brand/pr?sid=osp,cil,ssb&amp;otracker=undefined_footer_footer\">BATA LEATHER SHOES</a><a class=\"_2vZ4m7\" href=\"/mens-footwear/formal-shoes/pr?sid=osp,cil,ssb&amp;otracker=undefined_footer_footer\">BROWN SHOES</a><a class=\"_2vZ4m7\" href=\"/mens-footwear/li-ning~brand/pr?sid=osp,cil&amp;otracker=undefined_footer_footer\">LINING BADMINTON SHOES</a><a class=\"_2vZ4m7\" href=\"/mens-footwear/pr?sid=osp,cil&amp;otracker=undefined_footer_footer\">MENS SHOES ONLINE INDIA</a><a class=\"_2vZ4m7\" href=\"/mens-footwear/puma~brand/pr?sid=osp,cil&amp;otracker=undefined_footer_footer\">PUMA SHOSE</a><a class=\"_2vZ4m7\" href=\"/mens-footwear/red-chief~brand/pr?sid=osp,cil&amp;otracker=undefined_footer_footer\">RED CHIEF SHOES PRICE IN INDIA</a><a class=\"_2vZ4m7\" href=\"/mens-footwear/sandals-floaters/lee-cooper~brand/pr?sid=osp,cil,e83&amp;otracker=undefined_footer_footer\">LEE COOPER SANDALS</a><a class=\"_2vZ4m7\" href=\"/mens-footwear/sandals-floaters/pr?sid=osp,cil,e83&amp;otracker=undefined_footer_footer\">LEATHER SANDALS FOR MEN</a><a class=\"_2vZ4m7\" href=\"/mens-footwear/sandals-floaters/woodland~brand/pr?sid=osp,cil,e83&amp;otracker=undefined_footer_footer\">WOODLAND SANDALS DISCOUNT SALE</a><a class=\"_2vZ4m7\" href=\"/mens-footwear/sports-shoes/adidas~brand/pr?sid=osp,cil,1cu&amp;otracker=undefined_footer_footer\">ADIDAS SHOES PRICE LIST</a><a class=\"_2vZ4m7\" href=\"/mens-footwear/sports-shoes/nike~brand/pr?sid=osp,cil,1cu&amp;otracker=undefined_footer_footer\">NIKE SHOES PRICE</a><a class=\"_2vZ4m7\" href=\"/mens-footwear/sports-shoes/running-shoes~type/pr?sid=osp,cil,1cu&amp;otracker=undefined_footer_footer\">SPORTS SHOES ONLINE</a><a class=\"_2vZ4m7\" href=\"/q/alberto-torresi-shoes?otracker=undefined_footer_footer\">ALBERTO TORRESI SHOES</a><a class=\"_2vZ4m7\" href=\"/q/black-sports-shoes?otracker=undefined_footer_footer\">BLACK SPORTS SHOES</a><a class=\"_2vZ4m7\" href=\"/q/high-ankle-shoes?otracker=undefined_footer_footer\">HIGH ANKLE SHOES</a><a class=\"_2vZ4m7\" href=\"/q/white-canvas-shoes?otracker=undefined_footer_footer\">WHITE CANVAS SHOES</a><a class=\"_2vZ4m7\" href=\"/womens-footwear/pr?sid=osp,iko&amp;otracker=undefined_footer_footer\">LADIES CHAPPAL</a><a class=\"_2vZ4m7\" href=\"/~lotto-shoes/pr?sid=osp&amp;otracker=undefined_footer_footer\">LOTTO SHOES</a><a class=\"_2vZ4m7\" href=\"https://www.flipkart.com/q/vans-sneakers?otracker=undefined_footer_footer\">VANS SNEAKERS</a><a class=\"_2vZ4m7\" href=\"https://www.flipkart.com/womens-footwear/heels/white~color/pr?sid=osp&amp;otracker=undefined_footer_footer\">WHITE HEELS</a></div></div></div><div><div class=\"_2NHqR1 row\"><div class=\"_3qd5C5\"><div class=\"_18wTSA\">ABOUT</div><a class=\"_287FRX\" href=\"/helpcentre?otracker=undefined_footer_navlinks\">Contact Us</a><a class=\"_287FRX\" href=\"/about-us?otracker=undefined_footer_navlinks\">About Us</a><a class=\"_287FRX\" href=\"https://www.flipkartcareers.com/?otracker=undefined_footer_navlinks\">Careers</a><a class=\"_287FRX\" href=\"http://stories.flipkart.com/?otracker=undefined_footer_navlinks\">Flipkart Stories</a><a class=\"_287FRX\" href=\"/s/press?otracker=undefined_footer_navlinks\">Press</a></div><div class=\"_3qd5C5\"><div class=\"_18wTSA\">HELP</div><a class=\"_287FRX\" href=\"/pages/payments\">Payments</a><a class=\"_287FRX\" href=\"/pages/shipping\">Shipping</a><a class=\"_287FRX\" href=\"/helpcentre?catalog=55c9c6edb000002e002c1701&amp;view=CATALOG\">Cancellation &amp; Returns</a><a class=\"_287FRX\" href=\"/helpcentre?catalog=55c9c8e2b0000023002c1702&amp;view=CATALOG\">FAQ</a><a class=\"_287FRX\" href=\"https://seller.flipkart.com/fiv?otracker=undefined_footer_navlinks\">Report Infringement</a></div><div class=\"_3qd5C5\"><div class=\"_18wTSA\">POLICY</div><a class=\"_287FRX\" href=\"/pages/returnpolicy?otracker=undefined_footer_navlinks\">Return Policy</a><a class=\"_287FRX\" href=\"/pages/terms?otracker=undefined_footer_navlinks\">Terms Of Use</a><a class=\"_287FRX\" href=\"/pages/paymentsecurity?otracker=undefined_footer_navlinks\">Security</a><a class=\"_287FRX\" href=\"/pages/privacypolicy?otracker=undefined_footer_navlinks\">Privacy</a><a class=\"_287FRX\" href=\"/sitemap?otracker=undefined_footer_navlinks\">Sitemap</a><a class=\"_287FRX\" href=\"/pages/ewaste-compliance-tnc?otracker=undefined_footer_navlinks\">EPR Compliance</a></div><div class=\"_3qd5C5\"><div class=\"_18wTSA\">SOCIAL</div><a class=\"_287FRX\" href=\"https://www.facebook.com/flipkart\">Facebook</a><a class=\"_287FRX\" href=\"https://www.twitter.com/flipkart\">Twitter</a><a class=\"_287FRX\" href=\"https://www.youtube.com/flipkart\">YouTube</a></div><div class=\"_3qd5C5 address\"><div class=\"_38DIp6\"><div class=\"_18wTSA\"><span>Mail Us:</span></div><div class=\"_2V3TtE\"><div class=\"_3Lv0nZ\"><div class=\"_3aS5mM _2V3TtE\"><p>Flipkart Internet Private Limited, </p>\n",
       "<p> Buildings Alyssa, Begonia &amp; </p>\n",
       "<p> Clove Embassy Tech Village, </p>\n",
       "<p> Outer Ring Road, Devarabeesanahalli Village, </p>\n",
       "<p> Bengaluru, 560103, </p>\n",
       "<p> Karnataka, India.</p>\n",
       "</div></div></div></div></div><div class=\"_3qd5C5 address\"><div class=\"m6ABEi\"><div class=\"_18wTSA\"><span>Registered Office Address:</span></div><div class=\"_2V3TtE\"><div class=\"_3Lv0nZ\"><div class=\"_3aS5mM _2V3TtE\"><p>Flipkart Internet Private Limited, </p>\n",
       "<p> Buildings Alyssa, Begonia &amp; </p>\n",
       "<p> Clove Embassy Tech Village, </p>\n",
       "<p> Outer Ring Road, Devarabeesanahalli Village, </p>\n",
       "<p> Bengaluru, 560103, </p>\n",
       "<p> Karnataka, India </p>\n",
       "<p> CIN : U51109KA2012PTC066107 </p>\n",
       "<p> Telephone: <a href=\"tel:18002089898\">1800 208 9898</a></p>\n",
       "</div></div></div></div></div></div><div><div class=\"_1DXv5h\"><div><img src=\"data:image/svg+xml;base64,PHN2ZyB4bWxucz0iaHR0cDovL3d3dy53My5vcmcvMjAwMC9zdmciIHdpZHRoPSIxNiIgaGVpZ2h0PSIxNSIgdmlld0JveD0iMCAwIDE2IDE1Ij4KICAgIDxkZWZzPgogICAgICAgIDxsaW5lYXJHcmFkaWVudCBpZD0iYSIgeDE9IjAlIiB4Mj0iODYuODc2JSIgeTE9IjAlIiB5Mj0iODAuMjAyJSI+CiAgICAgICAgICAgIDxzdG9wIG9mZnNldD0iMCUiIHN0b3AtY29sb3I9IiNGRkQ4MDAiLz4KICAgICAgICAgICAgPHN0b3Agb2Zmc2V0PSIxMDAlIiBzdG9wLWNvbG9yPSIjRkZBRjAwIi8+CiAgICAgICAgPC9saW5lYXJHcmFkaWVudD4KICAgIDwvZGVmcz4KICAgIDxnIGZpbGw9Im5vbmUiIGZpbGwtcnVsZT0iZXZlbm9kZCI+CiAgICAgICAgPHBhdGggZD0iTS0yLTJoMjB2MjBILTJ6Ii8+CiAgICAgICAgPHBhdGggZmlsbD0idXJsKCNhKSIgZmlsbC1ydWxlPSJub256ZXJvIiBkPSJNMTUuOTMgNS42MTRoLTIuOTQ4VjQuMTRjMC0uODE4LS42NTUtMS40NzMtMS40NzMtMS40NzNIOC41NmMtLjgxNyAwLTEuNDczLjY1NS0xLjQ3MyAxLjQ3M3YxLjQ3NEg0LjE0Yy0uODE4IDAtMS40NjYuNjU2LTEuNDY2IDEuNDc0bC0uMDA3IDguMTA1YzAgLjgxOC42NTUgMS40NzQgMS40NzMgMS40NzRoMTEuNzljLjgxOCAwIDEuNDc0LS42NTYgMS40NzQtMS40NzRWNy4wODhjMC0uODE4LS42NTYtMS40NzQtMS40NzQtMS40NzR6bS00LjQyMSAwSDguNTZWNC4xNGgyLjk0OHYxLjQ3NHoiIHRyYW5zZm9ybT0idHJhbnNsYXRlKC0yIC0yKSIvPgogICAgPC9nPgo8L3N2Zz4K\"/><a href=\"https://seller.flipkart.com/?utm_source=fkwebsite&amp;utm_medium=websitedirect\"><span class=\"_1Dwg_s\">Sell On Flipkart</span></a></div><div><img src=\"data:image/svg+xml;base64,PHN2ZyB4bWxucz0iaHR0cDovL3d3dy53My5vcmcvMjAwMC9zdmciIHdpZHRoPSIxNSIgaGVpZ2h0PSIxNSIgdmlld0JveD0iMCAwIDE1IDE1Ij4KICAgIDxkZWZzPgogICAgICAgIDxsaW5lYXJHcmFkaWVudCBpZD0iYSIgeDE9IjAlIiB4Mj0iODYuODc2JSIgeTE9IjAlIiB5Mj0iODAuMjAyJSI+CiAgICAgICAgICAgIDxzdG9wIG9mZnNldD0iMCUiIHN0b3AtY29sb3I9IiNGRkQ4MDAiLz4KICAgICAgICAgICAgPHN0b3Agb2Zmc2V0PSIxMDAlIiBzdG9wLWNvbG9yPSIjRkZBRjAwIi8+CiAgICAgICAgPC9saW5lYXJHcmFkaWVudD4KICAgIDwvZGVmcz4KICAgIDxnIGZpbGw9Im5vbmUiIGZpbGwtcnVsZT0iZXZlbm9kZCI+CiAgICAgICAgPHBhdGggZD0iTS0zLTNoMjB2MjBILTN6Ii8+CiAgICAgICAgPHBhdGggZmlsbD0idXJsKCNhKSIgZmlsbC1ydWxlPSJub256ZXJvIiBkPSJNMTAuNDkyIDNDNi4zNTMgMyAzIDYuMzYgMyAxMC41YzAgNC4xNCAzLjM1MyA3LjUgNy40OTIgNy41QzE0LjY0IDE4IDE4IDE0LjY0IDE4IDEwLjUgMTggNi4zNiAxNC42NCAzIDEwLjQ5MiAzem0zLjE4IDEyTDEwLjUgMTMuMDg4IDcuMzI3IDE1bC44NC0zLjYwN0w1LjM3IDguOTdsMy42OS0uMzE1TDEwLjUgNS4yNWwxLjQ0IDMuMzk4IDMuNjkuMzE1LTIuNzk4IDIuNDIyLjg0IDMuNjE1eiIgdHJhbnNmb3JtPSJ0cmFuc2xhdGUoLTMgLTMpIi8+CiAgICA8L2c+Cjwvc3ZnPgo=\"/><a href=\"https://brands.flipkart.com\"><span class=\"_1Dwg_s\">Advertise</span></a></div><div><img src=\"data:image/svg+xml;base64,PHN2ZyB4bWxucz0iaHR0cDovL3d3dy53My5vcmcvMjAwMC9zdmciIHdpZHRoPSIxOCIgaGVpZ2h0PSIxNyIgdmlld0JveD0iMCAwIDE4IDE3Ij4KICAgIDxkZWZzPgogICAgICAgIDxsaW5lYXJHcmFkaWVudCBpZD0iYSIgeDE9IjAlIiB4Mj0iODYuODc2JSIgeTE9IjAlIiB5Mj0iODAuMjAyJSI+CiAgICAgICAgICAgIDxzdG9wIG9mZnNldD0iMCUiIHN0b3AtY29sb3I9IiNGRkQ4MDAiLz4KICAgICAgICAgICAgPHN0b3Agb2Zmc2V0PSIxMDAlIiBzdG9wLWNvbG9yPSIjRkZBRjAwIi8+CiAgICAgICAgPC9saW5lYXJHcmFkaWVudD4KICAgIDwvZGVmcz4KICAgIDxnIGZpbGw9Im5vbmUiIGZpbGwtcnVsZT0iZXZlbm9kZCI+CiAgICAgICAgPHBhdGggZD0iTS0xLTFoMjB2MjBILTF6Ii8+CiAgICAgICAgPHBhdGggZmlsbD0idXJsKCNhKSIgZmlsbC1ydWxlPSJub256ZXJvIiBkPSJNMTYuNjY3IDVIMTQuODVjLjA5Mi0uMjU4LjE1LS41NDIuMTUtLjgzM2EyLjQ5NyAyLjQ5NyAwIDAgMC00LjU4My0xLjM3NUwxMCAzLjM1bC0uNDE3LS41NjdBMi41MSAyLjUxIDAgMCAwIDcuNSAxLjY2N2EyLjQ5NyAyLjQ5NyAwIDAgMC0yLjUgMi41YzAgLjI5MS4wNTguNTc1LjE1LjgzM0gzLjMzM2MtLjkyNSAwLTEuNjU4Ljc0Mi0xLjY1OCAxLjY2N2wtLjAwOCA5LjE2NkExLjY2IDEuNjYgMCAwIDAgMy4zMzMgMTcuNWgxMy4zMzRhMS42NiAxLjY2IDAgMCAwIDEuNjY2LTEuNjY3VjYuNjY3QTEuNjYgMS42NiAwIDAgMCAxNi42NjcgNXptMCA2LjY2N0gzLjMzM3YtNWg0LjIzNEw1LjgzMyA5LjAyNWwxLjM1Ljk3NSAxLjk4NC0yLjdMMTAgNi4xNjdsLjgzMyAxLjEzMyAxLjk4NCAyLjcgMS4zNS0uOTc1LTEuNzM0LTIuMzU4aDQuMjM0djV6IiB0cmFuc2Zvcm09InRyYW5zbGF0ZSgtMSAtMSkiLz4KICAgIDwvZz4KPC9zdmc+Cg==\"/><a href=\"/account/giftcard?otracker=undefined_footer_footer_navlinks\"><span class=\"_1Dwg_s\">Gift Cards</span></a></div><div><img src=\"data:image/svg+xml;base64,PHN2ZyB4bWxucz0iaHR0cDovL3d3dy53My5vcmcvMjAwMC9zdmciIHdpZHRoPSIxNSIgaGVpZ2h0PSIxNSIgdmlld0JveD0iMCAwIDE1IDE1Ij4KICAgIDxkZWZzPgogICAgICAgIDxsaW5lYXJHcmFkaWVudCBpZD0iYSIgeDE9IjAlIiB4Mj0iODYuODc2JSIgeTE9IjAlIiB5Mj0iODAuMjAyJSI+CiAgICAgICAgICAgIDxzdG9wIG9mZnNldD0iMCUiIHN0b3AtY29sb3I9IiNGRkQ4MDAiLz4KICAgICAgICAgICAgPHN0b3Agb2Zmc2V0PSIxMDAlIiBzdG9wLWNvbG9yPSIjRkZBRjAwIi8+CiAgICAgICAgPC9saW5lYXJHcmFkaWVudD4KICAgIDwvZGVmcz4KICAgIDxnIGZpbGw9Im5vbmUiIGZpbGwtcnVsZT0iZXZlbm9kZCI+CiAgICAgICAgPHBhdGggZD0iTS0yLTNoMjB2MjBILTJ6Ii8+CiAgICAgICAgPHBhdGggZmlsbD0idXJsKCNhKSIgZmlsbC1ydWxlPSJub256ZXJvIiBkPSJNOS41IDNDNS4zNiAzIDIgNi4zNiAyIDEwLjUgMiAxNC42NCA1LjM2IDE4IDkuNSAxOGM0LjE0IDAgNy41LTMuMzYgNy41LTcuNUMxNyA2LjM2IDEzLjY0IDMgOS41IDN6bS43NSAxMi43NWgtMS41di0xLjVoMS41djEuNXptMS41NTMtNS44MTNsLS42NzYuNjljLS41NC41NDgtLjg3Ny45OTgtLjg3NyAyLjEyM2gtMS41di0uMzc1YzAtLjgyNS4zMzgtMS41NzUuODc3LTIuMTIzbC45My0uOTQ1Yy4yNzgtLjI3LjQ0My0uNjQ1LjQ0My0xLjA1NyAwLS44MjUtLjY3NS0xLjUtMS41LTEuNVM4IDcuNDI1IDggOC4yNUg2LjVhMyAzIDAgMSAxIDYgMGMwIC42Ni0uMjcgMS4yNi0uNjk3IDEuNjg4eiIgdHJhbnNmb3JtPSJ0cmFuc2xhdGUoLTIgLTMpIi8+CiAgICA8L2c+Cjwvc3ZnPgo=\"/><a href=\"/helpcentre?otracker=undefined_footer_footer_navlinks\"><span class=\"_1Dwg_s\">Help Center</span></a></div><span class=\"_2tFDQF\">© 2007-<!-- -->2019<!-- --> <span>Flipkart.com.</span></span><img src=\"//img1a.flixcart.com/www/linchpin/fk-cp-zion/img/payment-method_2dd397.svg\"/></div></div></div></div></footer><div class=\"_16c-eX _16DdHx\"><div class=\"kxUxS5\"><svg class=\"j43Uvy\" height=\"27\" viewbox=\"0 0 16 27\" width=\"16\" xmlns=\"http://www.w3.org/2000/svg\"><path class=\"_14b0BE\" d=\"M16 23.207L6.11 13.161 16 3.093 12.955 0 0 13.161l12.955 13.161z\" fill=\"#fff\"></path></svg><span>Back to top</span></div></div></div></div>\n",
       "<script nonce=\"16740922582594893339\" type=\"application/ld+json\">\n",
       "{\n",
       "    \"@context\": \"http://schema.org\",\n",
       "    \"@type\": \"WebSite\",\n",
       "    \"url\": \"http://www.flipkart.com/\",\n",
       "    \"potentialAction\": [{\n",
       "        \"@type\": \"SearchAction\",\n",
       "        \"target\": \"http://www.flipkart.com/search?q={search_term_string}\",\n",
       "        \"query-input\": \"required name=search_term_string\"\n",
       "        },{\n",
       "        \"@type\": \"SearchAction\",\n",
       "        \"target\": \"android-app://com.flipkart.android/flipkart/de_sq_seg_-search.flipkart.com-_{search_term_string}\",\n",
       "        \"query-input\": \"required name=search_term_string\"\n",
       "    }]\n",
       "}\n",
       "</script>\n",
       "<script id=\"is_script\" nonce=\"16740922582594893339\">\n",
       "\twindow.__INITIAL_STATE__ = {\"abExperiments\":{},\"activateVip\":{\"asyncStatus\":\"INIT\",\"widget\":[]},\"anniversaryPage\":{\"asyncStatus\":\"INIT\"},\"autosuggest\":{\"query\":null,\"payloadId\":null,\"searchHistory\":[],\"asyncStatus\":\"INIT\",\"words\":{},\"searchBrowseHistoryRequest\":{}},\"basket\":{\"asyncStatus\":\"INIT\",\"pageLevelError\":false},\"buyingGuides\":{},\"cartData\":{\"asyncStatus\":\"INIT\",\"pageLevelError\":false},\"saveForLaterData\":{\"asyncStatus\":\"INIT\",\"data\":{\"requestedStores\":[]}},\"checkoutPage\":{\"summary\":{\"asyncStatus\":\"INIT\"},\"checkoutAsyncStatus\":\"INIT\",\"addressCache\":{\"newAddressForm\":{\"id\":\"newAddressForm\",\"name\":\"\",\"addressLine1\":\"\",\"addressLine2\":\"\",\"landmark\":\"\",\"city\":\"\",\"state\":\"\",\"pincode\":\"\",\"phone\":\"\",\"alternatePhone\":\"\",\"locationTypeTag\":\"\"}},\"visualState\":{\"login\":\"EXPANDED\",\"address\":\"COLLAPSED\",\"orderSummary\":\"COLLAPSED\",\"payment\":\"COLLAPSED\"},\"loginState\":{\"asyncStatus\":\"INIT\"},\"buyNow\":{\"eids\":\"\",\"domain\":\"physical\",\"analytics\":{}},\"addressLocation\":{\"asyncStatus\":\"INIT\"}},\"claimedReward\":{\"asyncStatus\":\"INIT\",\"widget\":[]},\"compareAddProductData\":{\"asyncStatus\":\"INIT\",\"brandvsproduct\":{},\"brand\":null},\"compareBrandData\":{\"asyncStatus\":\"INIT\"},\"comparePageData\":{\"asyncStatus\":\"INIT\",\"showDifference\":false},\"compareWidgetData\":[],\"config\":{\"asyncStatus\":\"SUCCESS\",\"data\":{\"globalConfig\":{\"deferReco\":true,\"disableRecentlyViewed\":false,\"disableReco\":false,\"disableSearch\":false,\"disableSeo\":false,\"enableCLPv4\":true,\"enableProductPageServerRendering\":true,\"enableBrowsePageServerRendering\":true,\"enableHomePageServerRendering\":true,\"enableCLPServerRendering\":true,\"enableStreaming\":true,\"enableAllReviewsPageServerRendering\":true,\"enablePaymentDegrade\":false,\"enableYahooPixel\":false,\"enableCriteo\":false,\"enableFingerPrint\":true,\"skipCTARender\":false,\"enableGroceryV2Experience\":true,\"enable11x11\":false,\"enableGroceryV2Experience_test\":true,\"enableNewProductTitle\":true,\"enableStickyBasketV2\":true},\"cobrandedExperience\":{\"yahoo\":{\"logo\":\"https://img1a.flixcart.com/www/promos/new/20161121-160909-yahoo-store.png\",\"class\":\"yahoo-store\",\"store-link\":\"https://in.yahoo.com/\",\"store-name\":\"Go Back to Yahoo.in\",\"tracking-name\":\"yahoocobr\",\"pixel-tracking-url\":\"https://sp.analytics.yahoo.com/spp.pl?a=10000&.yp=10021645\",\"search-pixel-url\":\"https://bat.bing.com/action/0?ti=4003414&Ver=2\"},\"airtel\":{\"logo\":\"http://img5a.flixcart.com/www/promos/new/20150618-144245-header-airtel-white.png\",\"class\":\"airtel-store\",\"store-link\":\"www.airtel.in\",\"store-name\":\"Go Back to Airtel.in\",\"tracking-name\":\"airtel-cobrand-store\"},\"axis\":{\"logo\":\"https://rukminim1.flixcart.com/www/245/50/promos/02/06/2017/4a815cb2-29f5-4c5b-a5af-a9278feb1a1b.png?q=90\",\"class\":\"axis-store\",\"store-link\":\"https://www.axisbank.com\",\"store-name\":\"Go back to Axis Bank\",\"tracking-name\":\"axiscobr\",\"footer\":\"Exclusive Store, for Axis Bank Customers!\"},\"offers\":{\"logo\":\"https://img1a.flixcart.com/www/promos/new/20150618-145909-header-smartbuy-white.png\",\"class\":\"hdfc-store \",\"store-link\":\"www.smartbuy.hdfcbank.com\",\"store-name\":\"Go Back to Smart buy\",\"tracking-name\":\"hdfc-cobrand-store\",\"footer\":\"10x Reward points or 5% cashback on your HDFC Bank cards\"},\"bhaskar\":{\"logo\":\"http://img6a.flixcart.com/www/promos/new/20150618-142842-header-logo-bhaskar.png\",\"class\":\"bhasker-store \",\"store-link\":\"www.dainikbhaskar.com\",\"store-name\":\"Go Back to Dainik Bhaskar\",\"tracking-name\":\"dainik-cobrand-store\"},\"itzcash\":{\"logo\":\"https://rukminim1.flixcart.com/www/245/50/promos/09/01/2017/c1c2c887-ba6f-4346-9bac-fd98e208bb03.png?q=90\",\"class\":\"itzcash-store\",\"store-link\":\"http://itzcash.com\",\"store-name\":\"Go Back to Itzcash-store\",\"tracking-name\":\"itzcash-cobrand-store\",\"footer\":\"Exclusive store, for Itz cash store customers!\"},\"indusind\":{\"logo\":\"https://img1a.flixcart.com/www/promos/new/20160620-133321-powered-header-indusindbank-new.png\",\"class\":\"indusind-store\",\"store-link\":\"http://indusind.store.flipkart.com/\",\"store-name\":\"Go back go indsland store\",\"tracking-name\":\"indusind-cobrand-store\",\"footer\":\"Exclusive store for Induslnd Bank customers!\"}},\"MultiWidgetPageUriMatcherConfig\":{}},\"responseMeta\":{\"params\":null,\"versions\":{\"globalConfig\":\"globalConfig.device.desktop.271\",\"cobrandedExperience\":\"cobrandedExperience.device.desktop.24\",\"MultiWidgetPageUriMatcherConfig\":\"{ \\\"device\\\": \\\"android\\\", \\\"appVersion\\\": \\\"6.3\\\" }.MultiWidgetPageUriMatcherConfig.1\"}}},\"deferredContent\":{\"data\":{}},\"filters\":{\"asyncStatus\":\"INIT\"},\"gamification\":{\"bidAndWin\":{\"asyncStatus\":\"INIT\",\"timeStamp\":0,\"data\":null,\"bidModal\":null},\"bidAndWinWinners\":{\"asyncStatus\":\"INIT\",\"data\":[]}},\"giveAwayData\":{\"asyncStatus\":\"INIT\"},\"grocery\":{\"offers\":{\"listingIds\":[],\"offerData\":{}},\"marketplaceServiceability\":true,\"marketPlacePincodeReducer\":{\"widgetTitle\":\"Where do you want the delivery ?\",\"serviceable\":false,\"asyncStatus\":\"INIT\",\"widgetText\":\"Select city\"}},\"helpCentre\":{\"breadCrumbs\":[{\"title\":\"Help Centre\",\"url\":\"/helpcentre\"}],\"catalogs\":{\"asyncStatus\":\"INIT\",\"list\":[],\"selectedCatalogId\":null},\"contact\":{\"callback\":{\"asyncStatus\":\"INIT\"},\"channels\":{\"asyncStatus\":\"INIT\"},\"emailUs\":{\"asyncStatus\":\"INIT\"},\"postal\":{\"asyncStatus\":\"INIT\"}},\"faqs\":{\"asyncStatus\":\"INIT\",\"faqs\":{},\"selectedFaqId\":null,\"selectedFaqTitle\":null},\"getContext\":{\"asyncStatus\":\"INIT\",\"contextFetched\":false},\"incidents\":{\"data\":{},\"asyncStatus\":\"INIT\"},\"issueFaq\":{\"data\":{},\"asyncStatus\":\"INIT\",\"selectedIssueFaq\":null,\"parentIssue\":null},\"nonOrderIssue\":{\"asyncStatus\":\"INIT\"},\"orderIssue\":{\"currentOrderItem\":null,\"orderIssueItem\":null,\"showViewMore\":false,\"asyncStatus\":\"INIT\"},\"orderList\":{\"asyncStatus\":\"INIT\",\"orders\":{},\"pages\":0},\"search\":{\"asyncStatus\":\"INIT\"},\"selectedCatalog\":{\"asyncStatus\":\"INIT\",\"data\":{}},\"serviceTickets\":{\"incidents\":{},\"asyncStatus\":\"INIT\"},\"subCatalog\":{\"asyncStatus\":\"INIT\",\"data\":{},\"selectedSubCatalogId\":null},\"suggestion\":{\"asyncStatus\":\"INIT\"},\"viewType\":\"INIT\"},\"inAppNotifications\":{\"isFetching\":false,\"notifications\":[],\"asyncStatus\":\"INIT\"},\"infiniteMU\":{},\"layouts\":{\"asyncStatus\":\"INIT\"},\"lockInData\":{\"asyncStatus\":\"INIT\"},\"lockinTnc\":{\"asyncStatus\":\"INIT\",\"widget\":{}},\"misc\":{\"hostname\":\"www.flipkart.com\",\"port\":8081,\"nonce\":\"16740922582594893339\",\"anchorTagMap\":{\"atlc2\":true,\"atlssmo\":true}},\"modal\":null,\"modalV4PageUrl\":{\"url\":null},\"myAccount\":{\"myReviews\":{\"myCompleteReview\":{\"asyncStatus\":\"INIT\"},\"myRecentReview\":{\"asyncStatus\":\"INIT\"},\"myReviewDelete\":{\"asyncStatus\":\"INIT\"}},\"myProfileInfo\":{\"myPersonalInfo\":{\"asyncStatus\":\"INIT\"},\"updateEmailAndMobile\":{\"asyncStatus\":\"INIT\"},\"changePassword\":{\"asyncStatus\":\"INIT\"},\"deactivateAccount\":{\"asyncStatus\":\"INIT\"}},\"myRewards\":{\"asyncStatus\":\"INIT\"},\"wallet\":{\"walletBalance\":{\"asyncStatus\":\"INIT\"},\"drawBalance\":{\"asyncStatus\":\"INIT\"},\"activatePhonePe\":{\"asyncStatus\":\"INIT\"}},\"giftcard\":{\"giftCardList\":{\"asyncStatus\":\"INIT\"},\"addGiftCard\":{\"asyncStatus\":\"INIT\"},\"checkBalance\":{\"asyncStatus\":\"INIT\"},\"buyGiftCard\":{\"asyncStatus\":\"INIT\"},\"denomination\":{\"asyncStatus\":\"INIT\"},\"updateGiftList\":{},\"sendNotification\":{\"asyncStatus\":\"INIT\"},\"getStateList\":{\"asyncStatus\":\"INIT\"},\"mailer\":{\"asyncStatus\":\"INIT\"}},\"myAddresses\":{\"asyncStatus\":\"INIT\"},\"wishlistPageData\":{\"asyncStatus\":\"INIT\",\"data\":{},\"products\":[]},\"savedCards\":{\"savedCards\":{\"asyncStatus\":\"INIT\"},\"savedCardToken\":{\"asyncStatus\":\"INIT\"}},\"bnpl\":{\"buyNowPayLater\":{\"asyncStatus\":\"INIT\",\"data\":[]},\"bnplSummary\":{\"asyncStatus\":\"INIT\",\"data\":[]},\"bnplToken\":{\"asyncStatus\":\"INIT\",\"data\":[]},\"bnplAccountSummary\":{\"asyncStatus\":\"INIT\",\"data\":[]},\"bnplLinkedAccounts\":{\"asyncStatus\":\"INIT\"}},\"panCard\":{\"pancard\":{\"asyncStatus\":\"INIT\"},\"pancardUploaded\":{\"asyncStatus\":\"INIT\"}}},\"navigation\":{\"asyncStatus\":\"INIT\",\"navData\":{}},\"networkStatus\":\"ONLINE\",\"offerInfo\":{\"items\":[]},\"pageDataV4\":{\"page\":{\"asyncStatus\":\"SUCCESS\",\"data\":{\"10000\":[{\"slotType\":\"LOGICAL\",\"id\":10001,\"parentId\":10000,\"layoutParams\":{\"orientation\":\"\",\"stickyScroll\":true,\"widgetWidth\":5},\"childArrangement\":\"STACK\"},{\"slotType\":\"LOGICAL\",\"id\":10002,\"parentId\":10000,\"layoutParams\":{\"margin\":\"24,0,0,0\",\"orientation\":\"\",\"widgetWidth\":8},\"childArrangement\":\"STACK\"}],\"10001\":[{\"slotType\":\"WIDGET\",\"id\":1,\"parentId\":10001,\"layoutParams\":{\"layoutKey\":\"LIFESTYLE\",\"orientation\":\"\",\"widgetHeight\":150,\"widgetWidth\":12},\"dataId\":\"-54354439\",\"elementId\":\"1-MULTIMEDIA\",\"hasWidgetDataChanged\":true,\"ttl\":3000,\"widget\":{\"type\":\"MULTIMEDIA\",\"viewType\":\"LIFESTYLE\",\"data\":{\"multimediaComponents\":[{\"action\":null,\"metaData\":null,\"tracking\":null,\"trackingData\":null,\"value\":{\"type\":\"MediaValue\",\"aspectRatio\":\"5:6\",\"contentType\":\"IMAGE\",\"source\":\"ORGANIC\",\"url\":\"http://rukmini1.flixcart.com/image/{@width}/{@height}/jg2kqkw0/shoe/2/d/m/slyde-nu-idp-ss18-11-puma-peacoat-infinity-original-imaf4eyvnme7nh5t.jpeg?q={@quality}\"}},{\"action\":null,\"metaData\":null,\"tracking\":null,\"trackingData\":null,\"value\":{\"type\":\"MediaValue\",\"aspectRatio\":\"5:6\",\"contentType\":\"IMAGE\",\"source\":\"ORGANIC\",\"url\":\"http://rukmini1.flixcart.com/image/{@width}/{@height}/jg2kqkw0/shoe/2/d/m/slyde-nu-idp-ss18-11-puma-peacoat-infinity-original-imaf4eyvvba4b6dz.jpeg?q={@quality}\"}},{\"action\":null,\"metaData\":null,\"tracking\":null,\"trackingData\":null,\"value\":{\"type\":\"MediaValue\",\"aspectRatio\":\"5:6\",\"contentType\":\"IMAGE\",\"source\":\"ORGANIC\",\"url\":\"http://rukmini1.flixcart.com/image/{@width}/{@height}/jg2kqkw0/shoe/2/d/m/slyde-nu-idp-ss18-11-puma-peacoat-infinity-original-imaf4ef5ebvayufn.jpeg?q={@quality}\"}},{\"action\":null,\"metaData\":null,\"tracking\":null,\"trackingData\":null,\"value\":{\"type\":\"MediaValue\",\"aspectRatio\":\"5:6\",\"contentType\":\"IMAGE\",\"source\":\"ORGANIC\",\"url\":\"http://rukmini1.flixcart.com/image/{@width}/{@height}/jg2kqkw0/shoe/2/d/m/slyde-nu-idp-ss18-11-puma-peacoat-infinity-original-imaf4eyvdvzhzbxf.jpeg?q={@quality}\"}},{\"action\":null,\"metaData\":null,\"tracking\":null,\"trackingData\":null,\"value\":{\"type\":\"MediaValue\",\"aspectRatio\":\"5:6\",\"contentType\":\"IMAGE\",\"source\":\"ORGANIC\",\"url\":\"http://rukmini1.flixcart.com/image/{@width}/{@height}/jg2kqkw0/shoe/2/d/m/slyde-nu-idp-ss18-11-puma-peacoat-infinity-original-imaf4eywx4e677gv.jpeg?q={@quality}\"}},{\"action\":null,\"metaData\":null,\"tracking\":null,\"trackingData\":null,\"value\":{\"type\":\"MediaValue\",\"aspectRatio\":\"5:6\",\"contentType\":\"IMAGE\",\"source\":\"ORGANIC\",\"url\":\"http://rukmini1.flixcart.com/image/{@width}/{@height}/jg2kqkw0/shoe/2/d/m/slyde-nu-idp-ss18-11-puma-peacoat-infinity-original-imaf4eyvawfy8agw.jpeg?q={@quality}\"}}],\"offerButton\":null,\"productDetailsAnnouncement\":{\"action\":{\"constraints\":null,\"fallback\":null,\"loginType\":\"LOGIN_NOT_REQUIRED\",\"omnitureData\":null,\"originalUrl\":null,\"params\":{\"screenName\":\"PRODUCT_STATIC_DETAIL_PAGE\",\"productId\":\"SHOF32HGW4SNK2DM\",\"url\":\"/puma-slyde-nu-idp-sneakers-men/p/itmf3xxcvu8fwgcp/specifications?pid=SHOF32HGW4SNK2DM&marketplace=FLIPKART\",\"analyticsData\":{\"category\":\"MenFW\",\"subCategory\":\"MenFootwear\",\"superCategory\":\"FootWearFitness\",\"vertical\":\"MenCasualShoe\"}},\"screenType\":null,\"tracking\":{\"contextType\":\"page\",\"announcement\":\"DETAILS_PAGE\"},\"type\":\"NAVIGATION\",\"url\":\"/puma-slyde-nu-idp-sneakers-men/p/itmf3xxcvu8fwgcp/specifications?pid=SHOF32HGW4SNK2DM&marketplace=FLIPKART\"},\"metaData\":null,\"tracking\":{\"contextType\":\"page\",\"announcement\":\"DETAILS_PAGE\"},\"trackingData\":null,\"value\":{\"type\":\"AnnouncementValue\",\"title\":\"All Details\"}},\"shareAction\":null,\"singleAttributeSwatch\":{\"action\":{\"constraints\":null,\"fallback\":null,\"loginType\":\"LOGIN_NOT_REQUIRED\",\"omnitureData\":null,\"originalUrl\":null,\"params\":{\"openInBottomSheet\":true,\"screenName\":\"swatchVariantsPage\"},\"screenType\":\"multiWidgetPage\",\"tracking\":{\"sProduct\":\";SHOF32HGW4SNK2DM;;;;eVar19=MenCasualShoe|eVar22=MenFW|eVar93=FLIPKART|eVar61=SWATCH_VARIANTS|eVar88=LSTSHOF32HGW4SNK2DM6XG3EX|eVar84=2990_1940_1940_0_35|evar67=4.2_2000_10000_200|eVar92=Look_3:Colour_2:Comfort_3|evar44=d591418b408940a0_FA_4.6|eVar89=Puma\",\"pageType\":\"swatchVariantsPage\",\"otracker\":\"swatchVariantsPage\",\"otracker1\":\"swatchVariantsPage_NA_NA_NA_NA_NA_NA_cc_NA_NA_view-all\"},\"type\":\"NAVIGATION\",\"url\":\"/swatch/products?attributeId=color&selectedAttributeId=size&marketplace=FLIPKART&lid=LSTSHOF32HGW4SNK2DM6XG3EX&pid=SHOF32HGW4SNK2DM&experience=LIFESTYLE&sourcePageUri=/puma-slyde-nu-idp-sneakers-men/p/itmf3xxcvu8fwgcp?pid=SHOF32HGW4SNK2DM&lid=LSTSHOF32HGW4SNK2DM6XG3EX&marketplace=FLIPKART&srno=b_1_12&otracker=browse&fm=organic&iid=5285686d-f13b-435f-9276-231e9d39f021.SHOF32HGW4SNK2DM.SEARCH&ppt=Store%20Browse&ppn=Store\"},\"metaData\":null,\"tracking\":null,\"trackingData\":null,\"value\":{\"type\":\"ProductSwatchValue\",\"attributeOptions\":[[{\"imageUrl\":\"http://rukmini1.flixcart.com/image/{@width}/{@height}/jynat8w0/shoe/s/a/q/366216-4-puma-black-original-imafgzq3axpcmyqa.jpeg?q={@quality}\",\"value\":\"Black\"},{\"imageUrl\":\"http://rukmini1.flixcart.com/image/{@width}/{@height}/jasj6a80/shoe/s/h/p/slyde-dp-nw1-9-puma-black-cherry-tomato-original-imafyazbzkrza56z.jpeg?q={@quality}\",\"paletteColorCodes\":[{\"code\":\"#44120E\",\"weightage\":2.44},{\"code\":\"#1F2023\",\"weightage\":9.75},{\"code\":\"#221E24\",\"weightage\":33.56}],\"value\":\"Black-Cherry Tomato\"},{\"imageUrl\":\"http://rukmini1.flixcart.com/image/{@width}/{@height}/jyg5lzk0/shoe/y/h/4/366216-4-puma-blue-original-imafgzrk3mfrzrhy.jpeg?q={@quality}\",\"value\":\"Blue\"},{\"imageUrl\":\"http://rukmini1.flixcart.com/image/{@width}/{@height}/jasj6a80/shoe/c/d/t/slyde-dp-nw1-9-puma-blue-depths-lapis-blue-original-imafyap2gdyptm8c.jpeg?q={@quality}\",\"paletteColorCodes\":[{\"code\":\"#D2DCE6\",\"weightage\":2.06},{\"code\":\"#212F5C\",\"weightage\":41.12},{\"code\":\"#1F305E\",\"weightage\":3.56}],\"value\":\"Blue Depths-Lapis Blue\"},{\"imageUrl\":\"http://rukmini1.flixcart.com/image/{@width}/{@height}/jfikknk0/shoe/z/6/b/slyde-nu-idp-12-puma-blue-depths-lapis-blue-original-imaf3ygyh5zkzg7u.jpeg?q={@quality}\",\"paletteColorCodes\":[{\"code\":\"#322F76\",\"weightage\":100}],\"value\":\"Blue Depths-Lapis blue\"},{\"imageUrl\":\"http://rukmini1.flixcart.com/image/{@width}/{@height}/jg15aq80/shoe/a/5/g/slyde-nu-idp-ss18-10-puma-golden-brown-chocolate-brown-original-imaf4dfpbvb2efpf.jpeg?q={@quality}\",\"value\":\"Golden Brown-Chocolate Brown\"},{\"imageUrl\":\"http://rukmini1.flixcart.com/image/{@width}/{@height}/jatym4w0/shoe/h/s/p/slyde-dp-nw1-8-puma-mykonos-blue-nrgy-yellow-white-original-imafyaz8hmnnjjxr.jpeg?q={@quality}\",\"paletteColorCodes\":[{\"code\":\"#5A9778\",\"weightage\":2.38},{\"code\":\"#3D97C5\",\"weightage\":6.94},{\"code\":\"#4296B8\",\"weightage\":11.31}],\"value\":\"MYKONOS BLUE-NRGY YELLOW-WHITE\"},{\"imageUrl\":\"http://rukmini1.flixcart.com/image/{@width}/{@height}/jasj6a80/shoe/q/w/h/slyde-dp-nw1-9-puma-olive-night-original-imafyazfurzpwfkh.jpeg?q={@quality}\",\"paletteColorCodes\":[{\"code\":\"#786964\",\"weightage\":10.12},{\"code\":\"#756B5F\",\"weightage\":0.94},{\"code\":\"#766C63\",\"weightage\":1.56}],\"value\":\"Olive Night\"},{\"imageUrl\":\"http://rukmini1.flixcart.com/image/{@width}/{@height}/jg2kqkw0/shoe/2/d/m/slyde-nu-idp-ss18-11-puma-peacoat-infinity-original-imaf4eyvnme7nh5t.jpeg?q={@quality}\",\"value\":\"Peacoat-Infinity\"},{\"imageUrl\":\"http://rukmini1.flixcart.com/image/{@width}/{@height}/jeek8sw0/shoe/a/w/g/slyde-nu-idp-12-puma-puma-black-cherry-tomato-original-imaf33ff5tvswkqk.jpeg?q={@quality}\",\"paletteColorCodes\":[{\"code\":\"#FF683D\",\"weightage\":48.61},{\"code\":\"#502119\",\"weightage\":0.12},{\"code\":\"#CF7863\",\"weightage\":0.09}],\"value\":\"Puma Black-Cherry Tomato\"},{\"imageUrl\":\"http://rukmini1.flixcart.com/image/{@width}/{@height}/jg2kqkw0/shoe/q/m/c/slyde-nu-idp-ss18-6-puma-puma-black-electric-blue-lemonade-original-imaf4ef2pquhygks.jpeg?q={@quality}\",\"paletteColorCodes\":[{\"code\":\"#151522\",\"weightage\":2.5},{\"code\":\"#0C104D\",\"weightage\":2.44},{\"code\":\"#101FB6\",\"weightage\":2.62}],\"value\":\"Puma Black-Electric Blue Lemonade\"},{\"imageUrl\":\"http://rukmini1.flixcart.com/image/{@width}/{@height}/jialea80/shoe/z/b/7/slyde-nu-idp-ss18-7-puma-quiet-shade-peacoat-original-imaf64ghzwzvtmw7.jpeg?q={@quality}\",\"value\":\"QUIET SHADE-Peacoat\"},{\"imageUrl\":\"http://rukmini1.flixcart.com/image/{@width}/{@height}/jar3qfk0/shoe/x/f/q/slyde-dp-nw1-8-puma-tibetan-red-cherry-tomato-original-imafy98tynqwuhjr.jpeg?q={@quality}\",\"paletteColorCodes\":[{\"code\":\"#441920\",\"weightage\":2.75},{\"code\":\"#E3C9CD\",\"weightage\":3.19},{\"code\":\"#4D161C\",\"weightage\":39.75}],\"value\":\"Tibetan Red-Cherry Tomato\"}]],\"attributes\":[{\"compulsory\":false,\"dropNonWhitelistedOptions\":false,\"id\":\"color\",\"queryInfo\":{\"key\":\"sattr[]\",\"operation\":\"APPEND\",\"value\":\"color\"},\"selected\":true,\"showOnBrowsePage\":true,\"singleAttributeSwatchEnabled\":true,\"text\":\"Color\",\"title\":\"Available color (13)\",\"type\":\"IMAGE\",\"viewOnly\":true,\"viewType\":\"BOX\"}],\"products\":{\"SHOEVXU7AZTGMHZH\":{\"attributeIndexes\":[12],\"available\":false,\"images\":[],\"productUrl\":\"/puma-slyde-dp-sneakers-men/p/itmf3yyjrwstqpsp?pid=SHOEVXU7AZTGMHZH&lid=LSTSHOEVXU7AZTGMHZHDCMOXM&marketplace=FLIPKART\",\"titles\":{\"coSubtitle\":\"Size: 8\",\"newTitle\":\"Slyde DP Sneakers For Men\",\"subtitle\":\"Red, Maroon\",\"superTitle\":\"Puma\",\"title\":\"Puma Slyde DP Sneakers For Men\"}},\"SHOEVXU7DWFHKXFQ\":{\"attributeIndexes\":[12],\"available\":false,\"images\":[],\"productUrl\":\"/puma-slyde-dp-sneakers-men/p/itmf3yyjrwstqpsp?pid=SHOEVXU7DWFHKXFQ&lid=LSTSHOEVXU7DWFHKXFQSS0MYV&marketplace=FLIPKART\",\"titles\":{\"coSubtitle\":\"Size: 11\",\"newTitle\":\"Slyde DP Sneakers For Men\",\"subtitle\":\"Maroon\",\"superTitle\":\"Puma\",\"title\":\"Puma Slyde DP Sneakers For Men\"}},\"SHOEVXU7QCHWHBQH\":{\"attributeIndexes\":[6],\"available\":false,\"images\":[],\"productUrl\":\"/puma-slyde-dp-sneakers-men/p/itmf8gp2krgwsqzu?pid=SHOEVXU7QCHWHBQH&lid=LSTSHOEVXU7QCHWHBQHN6KXGY&marketplace=FLIPKART\",\"titles\":{\"coSubtitle\":\"Size: 11\",\"newTitle\":\"Slyde DP Sneakers For Men\",\"subtitle\":\"Blue\",\"superTitle\":\"Puma\",\"title\":\"Puma Slyde DP Sneakers For Men\"}},\"SHOEVXU76FSZSHSP\":{\"attributeIndexes\":[6],\"available\":false,\"images\":[],\"productUrl\":\"/puma-slyde-dp-sneakers-men/p/itmf8gp2krgwsqzu?pid=SHOEVXU76FSZSHSP&lid=LSTSHOEVXU76FSZSHSPD68WYN&marketplace=FLIPKART\",\"titles\":{\"coSubtitle\":\"Size: 10\",\"newTitle\":\"Slyde DP Sneakers For Men\",\"subtitle\":\"Green, Blue\",\"superTitle\":\"Puma\",\"title\":\"Puma Slyde DP Sneakers For Men\"}},\"SHOEVXU7EEG8ZQ5E\":{\"attributeIndexes\":[12],\"available\":false,\"images\":[],\"productUrl\":\"/puma-slyde-dp-sneakers-men/p/itmf3yyjrwstqpsp?pid=SHOEVXU7EEG8ZQ5E&lid=LSTSHOEVXU7EEG8ZQ5EDWYGGB&marketplace=FLIPKART\",\"titles\":{\"coSubtitle\":\"Size: 10\",\"newTitle\":\"Slyde DP Sneakers For Men\",\"subtitle\":\"Maroon\",\"superTitle\":\"Puma\",\"title\":\"Puma Slyde DP Sneakers For Men\"}},\"SHOF32HGCGHXGH82\":{\"attributeIndexes\":[8],\"available\":false,\"images\":[],\"productUrl\":\"/puma-slyde-nu-idp-sneakers-men/p/itmf3xxcvu8fwgcp?pid=SHOF32HGCGHXGH82&lid=LSTSHOF32HGCGHXGH82CABUON&marketplace=FLIPKART\",\"titles\":{\"coSubtitle\":\"Size: 8\",\"newTitle\":\"Slyde NU IDP Sneakers For Men\",\"subtitle\":\"Blue\",\"superTitle\":\"Puma\",\"title\":\"Puma Slyde NU IDP Sneakers For Men\"}},\"SHOF32HGADZY3A5G\":{\"attributeIndexes\":[5],\"available\":false,\"images\":[],\"productUrl\":\"/puma-slyde-nu-idp-sneakers-men/p/itmf3xxbeedynhxe?pid=SHOF32HGADZY3A5G&lid=LSTSHOF32HGADZY3A5GWPYPDF&marketplace=FLIPKART\",\"titles\":{\"coSubtitle\":\"Size: 10\",\"newTitle\":\"Slyde NU IDP Sneakers For Men\",\"subtitle\":\"Tan, Brown\",\"superTitle\":\"Puma\",\"title\":\"Puma Slyde NU IDP Sneakers For Men\"}},\"SHOEVXU7RUHJQSHP\":{\"attributeIndexes\":[1],\"available\":false,\"images\":[],\"productUrl\":\"/puma-slyde-dp-sneakers-men/p/itmf3yyjxjzy2wkm?pid=SHOEVXU7RUHJQSHP&lid=LSTSHOEVXU7RUHJQSHP8JMNXD&marketplace=FLIPKART\",\"titles\":{\"coSubtitle\":\"Size: 11\",\"newTitle\":\"Slyde DP Sneakers For Men\",\"subtitle\":\"Black\",\"superTitle\":\"Puma\",\"title\":\"Puma Slyde DP Sneakers For Men\"}},\"SHOEVXU7HRNK4ZPF\":{\"attributeIndexes\":[7],\"available\":false,\"images\":[],\"productUrl\":\"/puma-slyde-dp-sneakers-men/p/itmf8gp2h5ztyzzx?pid=SHOEVXU7HRNK4ZPF&lid=LSTSHOEVXU7HRNK4ZPFQM2S0K&marketplace=FLIPKART\",\"titles\":{\"coSubtitle\":\"Size: 6\",\"newTitle\":\"Slyde DP Sneakers For Men\",\"subtitle\":\"Olive\",\"superTitle\":\"Puma\",\"title\":\"Puma Slyde DP Sneakers For Men\"}},\"SHOFGZKZ5WZHMCTU\":{\"attributeIndexes\":[0],\"available\":false,\"images\":[],\"productUrl\":\"/puma-slyde-men/p/itme1b72552cba83?pid=SHOFGZKZ5WZHMCTU&lid=LSTSHOFGZKZ5WZHMCTUJ3TBZE&marketplace=FLIPKART\",\"titles\":{\"coSubtitle\":\"Size: 4\",\"newTitle\":\"Slyde For Men\",\"subtitle\":\"Black\",\"superTitle\":\"Puma\",\"title\":\"Puma Slyde For Men\"}},\"SHOF32HGY8GPYZB7\":{\"attributeIndexes\":[11],\"available\":false,\"images\":[],\"productUrl\":\"/puma-slyde-nu-idp-sneakers-men/p/itmf8gp3zzqqpkhg?pid=SHOF32HGY8GPYZB7&lid=LSTSHOF32HGY8GPYZB7ZP3MYJ&marketplace=FLIPKART\",\"titles\":{\"coSubtitle\":\"Size: 7\",\"newTitle\":\"Slyde NU IDP Sneakers For Men\",\"subtitle\":\"Grey\",\"superTitle\":\"Puma\",\"title\":\"Puma Slyde NU IDP Sneakers For Men\"}},\"SHOEVXU79KHSEQWH\":{\"attributeIndexes\":[7],\"available\":false,\"images\":[],\"productUrl\":\"/puma-slyde-dp-sneakers-men/p/itmf8gp2h5ztyzzx?pid=SHOEVXU79KHSEQWH&lid=LSTSHOEVXU79KHSEQWHRTJJNX&marketplace=FLIPKART\",\"titles\":{\"coSubtitle\":\"Size: 7\",\"newTitle\":\"Slyde DP Sneakers For Men\",\"subtitle\":\"Olive\",\"superTitle\":\"Puma\",\"title\":\"Puma Slyde DP Sneakers For Men\"}},\"SHOF32HGHZTFFQMC\":{\"attributeIndexes\":[10],\"available\":false,\"images\":[],\"productUrl\":\"/puma-slyde-nu-idp-sneakers-men/p/itmf3xxcpwtz2sxc?pid=SHOF32HGHZTFFQMC&lid=LSTSHOF32HGHZTFFQMCIWSJAY&marketplace=FLIPKART\",\"titles\":{\"coSubtitle\":\"Size: 10\",\"newTitle\":\"Slyde NU IDP Sneakers For Men\",\"subtitle\":\"Black\",\"superTitle\":\"Puma\",\"title\":\"Puma Slyde NU IDP Sneakers For Men\"}},\"SHOEVXU7K5ZZBAMC\":{\"attributeIndexes\":[7],\"available\":false,\"images\":[],\"productUrl\":\"/puma-slyde-dp-sneakers-men/p/itmf8gp2h5ztyzzx?pid=SHOEVXU7K5ZZBAMC&lid=LSTSHOEVXU7K5ZZBAMCBSJJPO&marketplace=FLIPKART\",\"titles\":{\"coSubtitle\":\"Size: 9\",\"newTitle\":\"Slyde DP Sneakers For Men\",\"subtitle\":\"Olive\",\"superTitle\":\"Puma\",\"title\":\"Puma Slyde DP Sneakers For Men\"}},\"SHOF32HGY9NGKRQQ\":{\"attributeIndexes\":[8],\"available\":true,\"images\":[],\"productUrl\":\"/puma-slyde-nu-idp-sneakers-men/p/itmf3xxcvu8fwgcp?pid=SHOF32HGY9NGKRQQ&lid=LSTSHOF32HGY9NGKRQQV497HB&marketplace=FLIPKART\",\"titles\":{\"coSubtitle\":\"Size: 11\",\"newTitle\":\"Slyde NU IDP Sneakers For Men\",\"subtitle\":\"Blue\",\"superTitle\":\"Puma\",\"title\":\"Puma Slyde NU IDP Sneakers For Men\"}},\"SHOF32HGKMVEN9W4\":{\"attributeIndexes\":[11],\"available\":false,\"images\":[],\"productUrl\":\"/puma-slyde-nu-idp-sneakers-men/p/itmf8gp3zzqqpkhg?pid=SHOF32HGKMVEN9W4&lid=LSTSHOF32HGKMVEN9W4AH2OQN&marketplace=FLIPKART\",\"titles\":{\"coSubtitle\":\"Size: 11\",\"newTitle\":\"Slyde NU IDP Sneakers For Men\",\"subtitle\":\"Grey\",\"superTitle\":\"Puma\",\"title\":\"Puma Slyde NU IDP Sneakers For Men\"}},\"SHOF32HGW4SNK2DM\":{\"attributeIndexes\":[8],\"available\":false,\"images\":[],\"productUrl\":\"/puma-slyde-nu-idp-sneakers-men/p/itmf3xxcvu8fwgcp?pid=SHOF32HGW4SNK2DM&lid=LSTSHOF32HGW4SNK2DM6XG3EX&marketplace=FLIPKART\",\"titles\":{\"coSubtitle\":\"Size: 6\",\"newTitle\":\"Slyde NU IDP Sneakers For Men\",\"subtitle\":\"Blue\",\"superTitle\":\"Puma\",\"title\":\"Puma Slyde NU IDP Sneakers For Men\"}},\"SHOEVXU7UHSYQFVK\":{\"attributeIndexes\":[6],\"available\":false,\"images\":[],\"productUrl\":\"/puma-slyde-dp-sneakers-men/p/itmf8gp2krgwsqzu?pid=SHOEVXU7UHSYQFVK&lid=LSTSHOEVXU7UHSYQFVKGYHHCD&marketplace=FLIPKART\",\"titles\":{\"coSubtitle\":\"Size: 7\",\"newTitle\":\"Slyde DP Sneakers For Men\",\"subtitle\":\"Blue\",\"superTitle\":\"Puma\",\"title\":\"Puma Slyde DP Sneakers For Men\"}},\"SHOF32HGZZYA9RFA\":{\"attributeIndexes\":[8],\"available\":false,\"images\":[],\"productUrl\":\"/puma-slyde-nu-idp-sneakers-men/p/itmf3xxcvu8fwgcp?pid=SHOF32HGZZYA9RFA&lid=LSTSHOF32HGZZYA9RFAN0NRXH&marketplace=FLIPKART\",\"titles\":{\"coSubtitle\":\"Size: 9\",\"newTitle\":\"Slyde NU IDP Sneakers For Men\",\"subtitle\":\"Blue\",\"superTitle\":\"Puma\",\"title\":\"Puma Slyde NU IDP Sneakers For Men\"}},\"SHOF32HGWJAUGJCQ\":{\"attributeIndexes\":[8],\"available\":false,\"images\":[],\"productUrl\":\"/puma-slyde-nu-idp-sneakers-men/p/itmf3xxcvu8fwgcp?pid=SHOF32HGWJAUGJCQ&lid=LSTSHOF32HGWJAUGJCQV9FZY9&marketplace=FLIPKART\",\"titles\":{\"coSubtitle\":\"Size: 10\",\"newTitle\":\"Slyde NU IDP Sneakers For Men\",\"subtitle\":\"Blue\",\"superTitle\":\"Puma\",\"title\":\"Puma Slyde NU IDP Sneakers For Men\"}},\"SHOF32HGTGBWBXVE\":{\"attributeIndexes\":[5],\"available\":false,\"images\":[],\"productUrl\":\"/puma-slyde-nu-idp-sneakers-men/p/itmf3xxbeedynhxe?pid=SHOF32HGTGBWBXVE&lid=LSTSHOF32HGTGBWBXVEQQAWWT&marketplace=FLIPKART\",\"titles\":{\"coSubtitle\":\"Size: 11\",\"newTitle\":\"Slyde NU IDP Sneakers For Men\",\"subtitle\":\"Tan, Brown\",\"superTitle\":\"Puma\",\"title\":\"Puma Slyde NU IDP Sneakers For Men\"}},\"SHOF32HGB5F8FCNV\":{\"attributeIndexes\":[10],\"available\":false,\"images\":[],\"productUrl\":\"/puma-slyde-nu-idp-sneakers-men/p/itmf3xxcpwtz2sxc?pid=SHOF32HGB5F8FCNV&lid=LSTSHOF32HGB5F8FCNVTALLAB&marketplace=FLIPKART\",\"titles\":{\"coSubtitle\":\"Size: 11\",\"newTitle\":\"Slyde NU IDP Sneakers For Men\",\"subtitle\":\"Black\",\"superTitle\":\"Puma\",\"title\":\"Puma Slyde NU IDP Sneakers For Men\"}},\"SHOEVXU74SQ7YHGF\":{\"attributeIndexes\":[12],\"available\":false,\"images\":[],\"productUrl\":\"/puma-slyde-dp-sneakers-men/p/itmf3yyjrwstqpsp?pid=SHOEVXU74SQ7YHGF&lid=LSTSHOEVXU74SQ7YHGFE11RG5&marketplace=FLIPKART\",\"titles\":{\"coSubtitle\":\"Size: 9\",\"newTitle\":\"Slyde DP Sneakers For Men\",\"subtitle\":\"Maroon\",\"superTitle\":\"Puma\",\"title\":\"Puma Slyde DP Sneakers For Men\"}},\"SHOF32HGEKCCHDWW\":{\"attributeIndexes\":[5],\"available\":false,\"images\":[],\"productUrl\":\"/puma-slyde-nu-idp-sneakers-men/p/itmf3xxbeedynhxe?pid=SHOF32HGEKCCHDWW&lid=LSTSHOF32HGEKCCHDWWB1DSLZ&marketplace=FLIPKART\",\"titles\":{\"coSubtitle\":\"Size: 7\",\"newTitle\":\"Slyde NU IDP Sneakers For Men\",\"subtitle\":\"Tan, Brown\",\"superTitle\":\"Puma\",\"title\":\"Puma Slyde NU IDP Sneakers For Men\"}},\"SHOFGZKC2AVYGYH4\":{\"attributeIndexes\":[2],\"available\":true,\"images\":[],\"productUrl\":\"/puma-slyde-dp-sneakers-men/p/itm69d941c93d412?pid=SHOFGZKC2AVYGYH4&lid=LSTSHOFGZKC2AVYGYH4ZHGHTE&marketplace=FLIPKART\",\"titles\":{\"coSubtitle\":\"Size: 4\",\"newTitle\":\"Slyde Dp Sneakers For Men\",\"subtitle\":\"Blue\",\"superTitle\":\"Puma\",\"title\":\"Puma Slyde Dp Sneakers For Men\"}},\"SHOEVXU7B2HGZZYD\":{\"attributeIndexes\":[7],\"available\":false,\"images\":[],\"productUrl\":\"/puma-slyde-dp-sneakers-men/p/itmf8gp2h5ztyzzx?pid=SHOEVXU7B2HGZZYD&lid=LSTSHOEVXU7B2HGZZYDYK6Y7E&marketplace=FLIPKART\",\"titles\":{\"coSubtitle\":\"Size: 11\",\"newTitle\":\"Slyde DP Sneakers For Men\",\"subtitle\":\"Olive\",\"superTitle\":\"Puma\",\"title\":\"Puma Slyde DP Sneakers For Men\"}},\"SHOEVXU7EDGV8DVU\":{\"attributeIndexes\":[3],\"available\":false,\"images\":[],\"productUrl\":\"/puma-slyde-dp-sneakers-men/p/itmf8gp3jge7ambz?pid=SHOEVXU7EDGV8DVU&lid=LSTSHOEVXU7EDGV8DVU1IKKMZ&marketplace=FLIPKART\",\"titles\":{\"coSubtitle\":\"Size: 10\",\"newTitle\":\"Slyde DP Sneakers For Men\",\"subtitle\":\"Navy, Blue\",\"superTitle\":\"Puma\",\"title\":\"Puma Slyde DP Sneakers For Men\"}},\"SHOF32HGBFQZCGUJ\":{\"attributeIndexes\":[5],\"available\":false,\"images\":[],\"productUrl\":\"/puma-slyde-nu-idp-sneakers-men/p/itmf3xxbeedynhxe?pid=SHOF32HGBFQZCGUJ&lid=LSTSHOF32HGBFQZCGUJDUMPIU&marketplace=FLIPKART\",\"titles\":{\"coSubtitle\":\"Size: 6\",\"newTitle\":\"Slyde NU IDP Sneakers For Men\",\"subtitle\":\"Tan, Brown\",\"superTitle\":\"Puma\",\"title\":\"Puma Slyde NU IDP Sneakers For Men\"}},\"SHOEVXU7WEXWUAWP\":{\"attributeIndexes\":[3],\"available\":false,\"images\":[],\"productUrl\":\"/puma-slyde-dp-sneakers-men/p/itmf8gp3jge7ambz?pid=SHOEVXU7WEXWUAWP&lid=LSTSHOEVXU7WEXWUAWP6HJYQ8&marketplace=FLIPKART\",\"titles\":{\"coSubtitle\":\"Size: 8\",\"newTitle\":\"Slyde DP Sneakers For Men\",\"subtitle\":\"Blue\",\"superTitle\":\"Puma\",\"title\":\"Puma Slyde DP Sneakers For Men\"}},\"SHOF32HGZYXJBKVP\":{\"attributeIndexes\":[10],\"available\":false,\"images\":[],\"productUrl\":\"/puma-slyde-nu-idp-sneakers-men/p/itmf3xxcpwtz2sxc?pid=SHOF32HGZYXJBKVP&lid=LSTSHOF32HGZYXJBKVPNL91SB&marketplace=FLIPKART\",\"titles\":{\"coSubtitle\":\"Size: 6\",\"newTitle\":\"Slyde NU IDP Sneakers For Men\",\"subtitle\":\"Black\",\"superTitle\":\"Puma\",\"title\":\"Puma Slyde NU IDP Sneakers For Men\"}},\"SHOF32HGHNYHXZZF\":{\"attributeIndexes\":[10],\"available\":false,\"images\":[],\"productUrl\":\"/puma-slyde-nu-idp-sneakers-men/p/itmf3xxcpwtz2sxc?pid=SHOF32HGHNYHXZZF&lid=LSTSHOF32HGHNYHXZZFEPNNVK&marketplace=FLIPKART\",\"titles\":{\"coSubtitle\":\"Size: 9\",\"newTitle\":\"Slyde NU IDP Sneakers For Men\",\"subtitle\":\"Black\",\"superTitle\":\"Puma\",\"title\":\"Puma Slyde NU IDP Sneakers For Men\"}},\"SHOEVXU7MUUH4JWN\":{\"attributeIndexes\":[7],\"available\":false,\"images\":[],\"productUrl\":\"/puma-slyde-dp-sneakers-men/p/itmf8gp2h5ztyzzx?pid=SHOEVXU7MUUH4JWN&lid=LSTSHOEVXU7MUUH4JWNLFCZ3G&marketplace=FLIPKART\",\"titles\":{\"coSubtitle\":\"Size: 8\",\"newTitle\":\"Slyde DP Sneakers For Men\",\"subtitle\":\"Grey, Olive\",\"superTitle\":\"Puma\",\"title\":\"Puma Slyde DP Sneakers For Men\"}},\"SHOF32HGKZR7JUFT\":{\"attributeIndexes\":[10],\"available\":false,\"images\":[],\"productUrl\":\"/puma-slyde-nu-idp-sneakers-men/p/itmf3xxcpwtz2sxc?pid=SHOF32HGKZR7JUFT&lid=LSTSHOF32HGKZR7JUFTDEGJAQ&marketplace=FLIPKART\",\"titles\":{\"coSubtitle\":\"Size: 8\",\"newTitle\":\"Slyde NU IDP Sneakers For Men\",\"subtitle\":\"Black\",\"superTitle\":\"Puma\",\"title\":\"Puma Slyde NU IDP Sneakers For Men\"}},\"SHOF32HGFBTBBJRN\":{\"attributeIndexes\":[11],\"available\":false,\"images\":[],\"productUrl\":\"/puma-slyde-nu-idp-sneakers-men/p/itmf8gp3zzqqpkhg?pid=SHOF32HGFBTBBJRN&lid=LSTSHOF32HGFBTBBJRNEANQUY&marketplace=FLIPKART\",\"titles\":{\"coSubtitle\":\"Size: 6\",\"newTitle\":\"Slyde NU IDP Sneakers For Men\",\"subtitle\":\"Grey\",\"superTitle\":\"Puma\",\"title\":\"Puma Slyde NU IDP Sneakers For Men\"}},\"SHOEYRU7FVEVHZ6B\":{\"attributeIndexes\":[4],\"available\":false,\"images\":[],\"productUrl\":\"/puma-slyde-nu-idp-sneakers-men/p/itmf3xchnku59ncr?pid=SHOEYRU7FVEVHZ6B&lid=LSTSHOEYRU7FVEVHZ6BNEIEL2&marketplace=FLIPKART\",\"titles\":{\"coSubtitle\":\"Size: 12\",\"newTitle\":\"Slyde NU IDP Sneakers For Men\",\"subtitle\":\"Blue\",\"superTitle\":\"Puma\",\"title\":\"Puma Slyde NU IDP Sneakers For Men\"}},\"SHOEVXU7GX3T8RFF\":{\"attributeIndexes\":[3],\"available\":false,\"images\":[],\"productUrl\":\"/puma-slyde-dp-sneakers-men/p/itmf8gp3jge7ambz?pid=SHOEVXU7GX3T8RFF&lid=LSTSHOEVXU7GX3T8RFFLLMR6L&marketplace=FLIPKART\",\"titles\":{\"coSubtitle\":\"Size: 7\",\"newTitle\":\"Slyde DP Sneakers For Men\",\"subtitle\":\"Blue\",\"superTitle\":\"Puma\",\"title\":\"Puma Slyde DP Sneakers For Men\"}},\"SHOEVXU722QNDTGH\":{\"attributeIndexes\":[6],\"available\":false,\"images\":[],\"productUrl\":\"/puma-slyde-dp-sneakers-men/p/itmf8gp2krgwsqzu?pid=SHOEVXU722QNDTGH&lid=LSTSHOEVXU722QNDTGHE1OLTO&marketplace=FLIPKART\",\"titles\":{\"coSubtitle\":\"Size: 6\",\"newTitle\":\"Slyde DP Sneakers For Men\",\"subtitle\":\"Blue\",\"superTitle\":\"Puma\",\"title\":\"Puma Slyde DP Sneakers For Men\"}},\"SHOEVXU7ZCZKSHFJ\":{\"attributeIndexes\":[12],\"available\":false,\"images\":[],\"productUrl\":\"/puma-slyde-dp-sneakers-men/p/itmf3yyjrwstqpsp?pid=SHOEVXU7ZCZKSHFJ&lid=LSTSHOEVXU7ZCZKSHFJ05BAZM&marketplace=FLIPKART\",\"titles\":{\"coSubtitle\":\"Size: 7\",\"newTitle\":\"Slyde DP Sneakers For Men\",\"subtitle\":\"Maroon\",\"superTitle\":\"Puma\",\"title\":\"Puma Slyde DP Sneakers For Men\"}},\"SHOF32HGKUFKFYHX\":{\"attributeIndexes\":[10],\"available\":false,\"images\":[],\"productUrl\":\"/puma-slyde-nu-idp-sneakers-men/p/itmf3xxcpwtz2sxc?pid=SHOF32HGKUFKFYHX&lid=LSTSHOF32HGKUFKFYHXPDTA60&marketplace=FLIPKART\",\"titles\":{\"coSubtitle\":\"Size: 7\",\"newTitle\":\"Slyde NU IDP Sneakers For Men\",\"subtitle\":\"Blue, Black\",\"superTitle\":\"Puma\",\"title\":\"Puma Slyde NU IDP Sneakers For Men\"}},\"SHOEVXU7ZGZEWGCG\":{\"attributeIndexes\":[6],\"available\":false,\"images\":[],\"productUrl\":\"/puma-slyde-dp-sneakers-men/p/itmf8gp2krgwsqzu?pid=SHOEVXU7ZGZEWGCG&lid=LSTSHOEVXU7ZGZEWGCGVCLQQT&marketplace=FLIPKART\",\"titles\":{\"coSubtitle\":\"Size: 8\",\"newTitle\":\"Slyde DP Sneakers For Men\",\"subtitle\":\"Blue\",\"superTitle\":\"Puma\",\"title\":\"Puma Slyde DP Sneakers For Men\"}},\"SHOEVXU7FY5H8FYB\":{\"attributeIndexes\":[1],\"available\":false,\"images\":[],\"productUrl\":\"/puma-slyde-dp-sneakers-men/p/itmf3yyjxjzy2wkm?pid=SHOEVXU7FY5H8FYB&lid=LSTSHOEVXU7FY5H8FYBKO4HB9&marketplace=FLIPKART\",\"titles\":{\"coSubtitle\":\"Size: 6\",\"newTitle\":\"Slyde DP Sneakers For Men\",\"subtitle\":\"Black\",\"superTitle\":\"Puma\",\"title\":\"Puma Slyde DP Sneakers For Men\"}},\"SHOEVXU7BJAEMAMG\":{\"attributeIndexes\":[1],\"available\":false,\"images\":[],\"productUrl\":\"/puma-slyde-dp-sneakers-men/p/itmf3yyjxjzy2wkm?pid=SHOEVXU7BJAEMAMG&lid=LSTSHOEVXU7BJAEMAMGUNEXBS&marketplace=FLIPKART\",\"titles\":{\"coSubtitle\":\"Size: 8\",\"newTitle\":\"Slyde DP Sneakers For Men\",\"subtitle\":\"Black, Orange\",\"superTitle\":\"Puma\",\"title\":\"Puma Slyde DP Sneakers For Men\"}},\"SHOFGZZGWFFDVSAQ\":{\"attributeIndexes\":[0],\"available\":true,\"images\":[],\"productUrl\":\"/puma-slyde-men/p/itme1b72552cba83?pid=SHOFGZZGWFFDVSAQ&lid=LSTSHOFGZZGWFFDVSAQBW32FY&marketplace=FLIPKART\",\"titles\":{\"coSubtitle\":\"Size: 4\",\"newTitle\":\"Slyde For Men\",\"subtitle\":\"Black\",\"superTitle\":\"Puma\",\"title\":\"Puma Slyde For Men\"}},\"SHOF32HGPH7AASBZ\":{\"attributeIndexes\":[11],\"available\":false,\"images\":[],\"productUrl\":\"/puma-slyde-nu-idp-sneakers-men/p/itmf8gp3zzqqpkhg?pid=SHOF32HGPH7AASBZ&lid=LSTSHOF32HGPH7AASBZ4ZYZJZ&marketplace=FLIPKART\",\"titles\":{\"coSubtitle\":\"Size: 9\",\"newTitle\":\"Slyde NU IDP Sneakers For Men\",\"subtitle\":\"Grey\",\"superTitle\":\"Puma\",\"title\":\"Puma Slyde NU IDP Sneakers For Men\"}},\"SHOF32HGAXZEJUCC\":{\"attributeIndexes\":[11],\"available\":false,\"images\":[],\"productUrl\":\"/puma-slyde-nu-idp-sneakers-men/p/itmf8gp3zzqqpkhg?pid=SHOF32HGAXZEJUCC&lid=LSTSHOF32HGAXZEJUCCBEVECN&marketplace=FLIPKART\",\"titles\":{\"coSubtitle\":\"Size: 10\",\"newTitle\":\"Slyde NU IDP Sneakers For Men\",\"subtitle\":\"Olive\",\"superTitle\":\"Puma\",\"title\":\"Puma Slyde NU IDP Sneakers For Men\"}},\"SHOEVXU7U6EGYCDT\":{\"attributeIndexes\":[3],\"available\":false,\"images\":[],\"productUrl\":\"/puma-slyde-dp-sneakers-men/p/itmf8gp3jge7ambz?pid=SHOEVXU7U6EGYCDT&lid=LSTSHOEVXU7U6EGYCDTCPTJ8A&marketplace=FLIPKART\",\"titles\":{\"coSubtitle\":\"Size: 9\",\"newTitle\":\"Slyde DP Sneakers For Men\",\"subtitle\":\"Blue\",\"superTitle\":\"Puma\",\"title\":\"Puma Slyde DP Sneakers For Men\"}},\"SHOEVXU7AB48EGBA\":{\"attributeIndexes\":[6],\"available\":false,\"images\":[],\"productUrl\":\"/puma-slyde-dp-sneakers-men/p/itmf8gp2krgwsqzu?pid=SHOEVXU7AB48EGBA&lid=LSTSHOEVXU7AB48EGBAKLI5T3&marketplace=FLIPKART\",\"titles\":{\"coSubtitle\":\"Size: 9\",\"newTitle\":\"Slyde DP Sneakers For Men\",\"subtitle\":\"Blue\",\"superTitle\":\"Puma\",\"title\":\"Puma Slyde DP Sneakers For Men\"}},\"SHOEVXU7TKSHG8YF\":{\"attributeIndexes\":[12],\"available\":false,\"images\":[],\"productUrl\":\"/puma-slyde-dp-sneakers-men/p/itmf3yyjrwstqpsp?pid=SHOEVXU7TKSHG8YF&lid=LSTSHOEVXU7TKSHG8YF07UFRR&marketplace=FLIPKART\",\"titles\":{\"coSubtitle\":\"Size: 6\",\"newTitle\":\"Slyde DP Sneakers For Men\",\"subtitle\":\"Maroon\",\"superTitle\":\"Puma\",\"title\":\"Puma Slyde DP Sneakers For Men\"}},\"SHOEVXU7E2GZHW9A\":{\"attributeIndexes\":[7],\"available\":false,\"images\":[],\"productUrl\":\"/puma-slyde-dp-sneakers-men/p/itmf8gp2h5ztyzzx?pid=SHOEVXU7E2GZHW9A&lid=LSTSHOEVXU7E2GZHW9ASSNJON&marketplace=FLIPKART\",\"titles\":{\"coSubtitle\":\"Size: 10\",\"newTitle\":\"Slyde DP Sneakers For Men\",\"subtitle\":\"Olive\",\"superTitle\":\"Puma\",\"title\":\"Puma Slyde DP Sneakers For Men\"}},\"SHOEVXU7ZCGAY3YM\":{\"attributeIndexes\":[1],\"available\":false,\"images\":[],\"productUrl\":\"/puma-slyde-dp-sneakers-men/p/itmf3yyjxjzy2wkm?pid=SHOEVXU7ZCGAY3YM&lid=LSTSHOEVXU7ZCGAY3YMIWLNVP&marketplace=FLIPKART\",\"titles\":{\"coSubtitle\":\"Size: 10\",\"newTitle\":\"Slyde DP Sneakers For Men\",\"subtitle\":\"Black\",\"superTitle\":\"Puma\",\"title\":\"Puma Slyde DP Sneakers For Men\"}},\"SHOEVXU7BXB2GMUG\":{\"attributeIndexes\":[3],\"available\":false,\"images\":[],\"productUrl\":\"/puma-slyde-dp-sneakers-men/p/itmf8gp3jge7ambz?pid=SHOEVXU7BXB2GMUG&lid=LSTSHOEVXU7BXB2GMUGIZ0ONC&marketplace=FLIPKART\",\"titles\":{\"coSubtitle\":\"Size: 11\",\"newTitle\":\"Slyde DP Sneakers For Men\",\"subtitle\":\"Blue\",\"superTitle\":\"Puma\",\"title\":\"Puma Slyde DP Sneakers For Men\"}},\"SHOF32HGGZMJJNSV\":{\"attributeIndexes\":[5],\"available\":false,\"images\":[],\"productUrl\":\"/puma-slyde-nu-idp-sneakers-men/p/itmf3xxbeedynhxe?pid=SHOF32HGGZMJJNSV&lid=LSTSHOF32HGGZMJJNSVP6QBM4&marketplace=FLIPKART\",\"titles\":{\"coSubtitle\":\"Size: 8\",\"newTitle\":\"Slyde NU IDP Sneakers For Men\",\"subtitle\":\"Multicolor\",\"superTitle\":\"Puma\",\"title\":\"Puma Slyde NU IDP Sneakers For Men\"}},\"SHOF32HGS2MJ2VKZ\":{\"attributeIndexes\":[11],\"available\":false,\"images\":[],\"productUrl\":\"/puma-slyde-nu-idp-sneakers-men/p/itmf8gp3zzqqpkhg?pid=SHOF32HGS2MJ2VKZ&lid=LSTSHOF32HGS2MJ2VKZ9RH4IA&marketplace=FLIPKART\",\"titles\":{\"coSubtitle\":\"Size: 8\",\"newTitle\":\"Slyde NU IDP Sneakers For Men\",\"subtitle\":\"Olive\",\"superTitle\":\"Puma\",\"title\":\"Puma Slyde NU IDP Sneakers For Men\"}},\"SHOEVXU7Z27GZP2M\":{\"attributeIndexes\":[1],\"available\":false,\"images\":[],\"productUrl\":\"/puma-slyde-dp-sneakers-men/p/itmf3yyjxjzy2wkm?pid=SHOEVXU7Z27GZP2M&lid=LSTSHOEVXU7Z27GZP2MTIRBXI&marketplace=FLIPKART\",\"titles\":{\"coSubtitle\":\"Size: 7\",\"newTitle\":\"Slyde DP Sneakers For Men\",\"subtitle\":\"Black\",\"superTitle\":\"Puma\",\"title\":\"Puma Slyde DP Sneakers For Men\"}},\"SHOF32HGHGHYVWHZ\":{\"attributeIndexes\":[8],\"available\":false,\"images\":[],\"productUrl\":\"/puma-slyde-nu-idp-sneakers-men/p/itmf3xxcvu8fwgcp?pid=SHOF32HGHGHYVWHZ&lid=LSTSHOF32HGHGHYVWHZII2RUP&marketplace=FLIPKART\",\"titles\":{\"coSubtitle\":\"Size: 7\",\"newTitle\":\"Slyde NU IDP Sneakers For Men\",\"subtitle\":\"Blue\",\"superTitle\":\"Puma\",\"title\":\"Puma Slyde NU IDP Sneakers For Men\"}},\"SHOF32HGGJP9AQPK\":{\"attributeIndexes\":[5],\"available\":false,\"images\":[],\"productUrl\":\"/puma-slyde-nu-idp-sneakers-men/p/itmf3xxbeedynhxe?pid=SHOF32HGGJP9AQPK&lid=LSTSHOF32HGGJP9AQPKYMFFLP&marketplace=FLIPKART\",\"titles\":{\"coSubtitle\":\"Size: 9\",\"newTitle\":\"Slyde NU IDP Sneakers For Men\",\"subtitle\":\"Tan, Brown\",\"superTitle\":\"Puma\",\"title\":\"Puma Slyde NU IDP Sneakers For Men\"}},\"SHOEYRU7ZFUXJUX4\":{\"attributeIndexes\":[7],\"available\":false,\"images\":[],\"productUrl\":\"/puma-slyde-nu-idp-sneakers-men/p/itmf3xchwhgxgbhw?pid=SHOEYRU7ZFUXJUX4&lid=LSTSHOEYRU7ZFUXJUX4UQUX4N&marketplace=FLIPKART\",\"titles\":{\"coSubtitle\":\"Size: 12\",\"newTitle\":\"Slyde NU IDP Sneakers For Men\",\"subtitle\":\"Olive\",\"superTitle\":\"Puma\",\"title\":\"Puma Slyde NU IDP Sneakers For Men\"}},\"SHOEYRU7ZTPZJAWG\":{\"attributeIndexes\":[9],\"available\":false,\"images\":[],\"productUrl\":\"/puma-slyde-nu-idp-sneakers-men/p/itmf3xxeytuyj7xs?pid=SHOEYRU7ZTPZJAWG&lid=LSTSHOEYRU7ZTPZJAWGCUXFHH&marketplace=FLIPKART\",\"titles\":{\"coSubtitle\":\"Size: 12\",\"newTitle\":\"Slyde NU IDP Sneakers For Men\",\"subtitle\":\"Black\",\"superTitle\":\"Puma\",\"title\":\"Puma Slyde NU IDP Sneakers For Men\"}},\"SHOEVXU7DUR4EZ4J\":{\"attributeIndexes\":[1],\"available\":false,\"images\":[],\"productUrl\":\"/puma-slyde-dp-sneakers-men/p/itmf3yyjxjzy2wkm?pid=SHOEVXU7DUR4EZ4J&lid=LSTSHOEVXU7DUR4EZ4JHIRKXN&marketplace=FLIPKART\",\"titles\":{\"coSubtitle\":\"Size: 9\",\"newTitle\":\"Slyde DP Sneakers For Men\",\"subtitle\":\"Black\",\"superTitle\":\"Puma\",\"title\":\"Puma Slyde DP Sneakers For Men\"}},\"SHOEVXU73WTBJZEY\":{\"attributeIndexes\":[3],\"available\":false,\"images\":[],\"productUrl\":\"/puma-slyde-dp-sneakers-men/p/itmf8gp3jge7ambz?pid=SHOEVXU73WTBJZEY&lid=LSTSHOEVXU73WTBJZEYGHN7PR&marketplace=FLIPKART\",\"titles\":{\"coSubtitle\":\"Size: 6\",\"newTitle\":\"Slyde DP Sneakers For Men\",\"subtitle\":\"Blue\",\"superTitle\":\"Puma\",\"title\":\"Puma Slyde DP Sneakers For Men\"}}},\"tooltips\":[]}},\"spotlight\":null,\"tryTheShadeAction\":null,\"wishlistAction\":{\"action\":{\"constraints\":null,\"fallback\":null,\"loginType\":\"LOGIN_NOT_REQUIRED\",\"omnitureData\":null,\"originalUrl\":null,\"params\":{\"valid\":true,\"productId\":\"SHOF32HGW4SNK2DM\"},\"screenType\":\"multiWidgetPage\",\"tracking\":{},\"type\":\"WISHLIST_ADD\",\"url\":null},\"metaData\":null,\"tracking\":null,\"trackingData\":null,\"value\":{\"type\":\"ProductActionValue\",\"actionType\":\"ADD_TO_WISHLIST\",\"enabled\":true}}}}},{\"slotType\":\"WIDGET\",\"id\":4,\"parentId\":10001,\"layoutParams\":{\"orientation\":\"\",\"widgetHeight\":150,\"widgetWidth\":12},\"dataId\":\"377147951\",\"elementId\":\"4-NOTIFY_V2\",\"hasWidgetDataChanged\":true,\"ttl\":3000,\"widget\":{\"type\":\"NOTIFY_V2\",\"data\":{\"action\":{\"action\":{\"constraints\":null,\"fallback\":null,\"loginType\":\"LOGIN_NOT_REQUIRED\",\"omnitureData\":null,\"originalUrl\":null,\"params\":{\"valid\":true,\"productId\":\"SHOF32HGW4SNK2DM\"},\"screenType\":\"multiWidgetPage\",\"tracking\":{},\"type\":\"NOTIFY_ME\",\"url\":null},\"metaData\":null,\"tracking\":null,\"trackingData\":null,\"value\":{\"type\":\"ProductActionValue\",\"actionType\":\"NOTIFY_ME\",\"enabled\":true,\"text\":\"NOTIFY ME\"}},\"notifyText\":{\"action\":null,\"metaData\":null,\"tracking\":null,\"trackingData\":null,\"value\":{\"type\":\"TextValue\",\"text\":\"Get notified when this item comes back in stock.\"}}}}}],\"10002\":[{\"slotType\":\"LOGICAL\",\"id\":10003,\"parentId\":10002,\"childArrangement\":\"ADJACENT\"},{\"slotType\":\"WIDGET\",\"id\":9,\"parentId\":10002,\"layoutParams\":{\"layoutKey\":\"LIFESTYLE\",\"orientation\":\"\",\"widgetHeight\":150,\"widgetWidth\":12},\"dataId\":\"1860388429\",\"elementId\":\"9-PRODUCT_PAGE_SUMMARY\",\"hasWidgetDataChanged\":true,\"ttl\":3000,\"widget\":{\"type\":\"PRODUCT_PAGE_SUMMARY\",\"viewType\":\"LIFESTYLE\",\"data\":{\"gradeInfo\":{\"color\":null,\"id\":null,\"name\":null,\"shortDesc\":null},\"listingPreservationAnnouncement\":null,\"newVersionComponent\":null,\"offerInfo\":{\"action\":null,\"metaData\":null,\"tracking\":null,\"trackingData\":null,\"value\":{\"type\":\"OfferInfo\",\"offerGroups\":[{\"groupAnnouncement\":{\"type\":\"AnnouncementValue\",\"imageValue\":{\"type\":\"ImageValue\",\"dynamicImageUrl\":\"https://rukminim1.flixcart.com/www/{@width}/{@height}/promos/17/08/2017/a4e7dfbb-c260-46a6-b952-2ca5ed50dcf2.png?q={@quality}\",\"height\":0,\"width\":0},\"title\":\"AVAILABLE OFFERS\"},\"offers\":[{\"action\":{\"constraints\":null,\"fallback\":null,\"loginType\":\"LOGIN_NOT_REQUIRED\",\"omnitureData\":null,\"originalUrl\":null,\"params\":{\"offerId\":\"nb:mp:08e28fa225\",\"screenName\":\"OFFER_TNC\",\"url\":\"/3/product/offers/nb:mp:08e28fa225/tnc\"},\"screenType\":\"offerTnc\",\"tracking\":{\"offerType\":\"No Cost EMI\"},\"type\":\"NAVIGATION\",\"url\":null},\"metaData\":null,\"tracking\":null,\"trackingData\":null,\"value\":{\"type\":\"ProductOfferValue\",\"availed\":false,\"ctaInfo\":{\"type\":\"CtaInfo\",\"ctaAvailable\":false},\"description\":\"No Cost EMI on Bajaj Finserv EMI Card on cart value above ₹4499\",\"id\":\"nb:mp:08e28fa225\",\"identifier\":\"SINGLE_LISTING_NBFC_DISCOUNT\",\"showAsTargeted\":false,\"tags\":[\"No Cost EMI\"],\"title\":\"No Cost EMI on Bajaj Finserv EMI Card on cart value above ₹4499\",\"tncAvailable\":true,\"tncDisplayName\":\"T&C\"}},{\"action\":{\"constraints\":null,\"fallback\":null,\"loginType\":\"LOGIN_NOT_REQUIRED\",\"omnitureData\":null,\"originalUrl\":null,\"params\":{\"offerId\":\"nb:mp:0863d2ff24\",\"screenName\":\"OFFER_TNC\",\"url\":\"/3/product/offers/nb:mp:0863d2ff24/tnc\"},\"screenType\":\"offerTnc\",\"tracking\":{\"offerType\":\"No Cost EMI\"},\"type\":\"NAVIGATION\",\"url\":null},\"metaData\":null,\"tracking\":null,\"trackingData\":null,\"value\":{\"type\":\"ProductOfferValue\",\"availed\":false,\"ctaInfo\":{\"type\":\"CtaInfo\",\"ctaAvailable\":false},\"description\":\"No Cost EMI on Flipkart Axis Bank Credit Card\",\"id\":\"nb:mp:0863d2ff24\",\"identifier\":\"NO_COST_EMI_DISCOUNT\",\"showAsTargeted\":false,\"tags\":[\"No Cost EMI\"],\"title\":\"No Cost EMI on Flipkart Axis Bank Credit Card\",\"tncAvailable\":true,\"tncDisplayName\":\"T&C\"}},{\"action\":{\"constraints\":null,\"fallback\":null,\"loginType\":\"LOGIN_NOT_REQUIRED\",\"omnitureData\":null,\"originalUrl\":null,\"params\":{\"offerId\":\"nb:mp:086c3bd926\",\"screenName\":\"OFFER_TNC\",\"url\":\"/3/product/offers/nb:mp:086c3bd926/tnc\"},\"screenType\":\"offerTnc\",\"tracking\":{\"offerType\":\"Bank Offer\"},\"type\":\"NAVIGATION\",\"url\":null},\"metaData\":null,\"tracking\":null,\"trackingData\":null,\"value\":{\"type\":\"ProductOfferValue\",\"availed\":false,\"ctaInfo\":{\"type\":\"CtaInfo\",\"ctaAvailable\":false},\"description\":\"10% Instant Discount* with Axis Bank Credit and Debit Cards\",\"id\":\"nb:mp:086c3bd926\",\"identifier\":\"BASKETPRICE_PAYMENT_DISCOUNT\",\"showAsTargeted\":false,\"tags\":[\"Bank Offer\"],\"title\":\"10% Instant Discount* with Axis Bank Credit and Debit Cards\",\"tncAvailable\":true,\"tncDisplayName\":\"T&C\"}},{\"action\":{\"constraints\":null,\"fallback\":null,\"loginType\":\"LOGIN_NOT_REQUIRED\",\"omnitureData\":null,\"originalUrl\":null,\"params\":{\"offerId\":\"nb:mp:082796e808\",\"screenName\":\"OFFER_TNC\",\"url\":\"/3/product/offers/nb:mp:082796e808/tnc\"},\"screenType\":\"offerTnc\",\"tracking\":{\"offerType\":\"Bank Offer\"},\"type\":\"NAVIGATION\",\"url\":null},\"metaData\":null,\"tracking\":null,\"trackingData\":null,\"value\":{\"type\":\"ProductOfferValue\",\"availed\":false,\"ctaInfo\":{\"type\":\"CtaInfo\",\"ctaAvailable\":false},\"description\":\"10% Instant Discount on Mastercard on Fashion for First 3 Prepaid Payments\",\"id\":\"nb:mp:082796e808\",\"identifier\":\"BASKETPRICE_PAYMENT_DISCOUNT\",\"showAsTargeted\":false,\"tags\":[\"Bank Offer\"],\"title\":\"10% Instant Discount on Mastercard on Fashion for First 3 Prepaid Payments\",\"tncAvailable\":true,\"tncDisplayName\":\"T&C\"}},{\"action\":{\"constraints\":null,\"fallback\":null,\"loginType\":\"LOGIN_NOT_REQUIRED\",\"omnitureData\":null,\"originalUrl\":null,\"params\":{\"offerId\":\"nb:mp:08cfac7126\",\"screenName\":\"OFFER_TNC\",\"url\":\"/3/product/offers/nb:mp:08cfac7126/tnc\"},\"screenType\":\"offerTnc\",\"tracking\":{\"offerType\":\"Bank Offer\"},\"type\":\"NAVIGATION\",\"url\":null},\"metaData\":null,\"tracking\":null,\"trackingData\":null,\"value\":{\"type\":\"ProductOfferValue\",\"availed\":false,\"ctaInfo\":{\"type\":\"CtaInfo\",\"ctaAvailable\":false},\"description\":\"10% Instant Discount on ICICI Bank Credit Cards\",\"id\":\"nb:mp:08cfac7126\",\"identifier\":\"BASKETPRICE_PAYMENT_DISCOUNT\",\"showAsTargeted\":false,\"tags\":[\"Bank Offer\"],\"title\":\"10% Instant Discount on ICICI Bank Credit Cards\",\"tncAvailable\":true,\"tncDisplayName\":\"T&C\"}},{\"action\":{\"constraints\":null,\"fallback\":null,\"loginType\":\"LOGIN_NOT_REQUIRED\",\"omnitureData\":null,\"originalUrl\":null,\"params\":{\"offerId\":\"nb:mp:06ce8b8c12\",\"screenName\":\"OFFER_TNC\",\"url\":\"/3/product/offers/nb:mp:06ce8b8c12/tnc\"},\"screenType\":\"offerTnc\",\"tracking\":{\"offerType\":\"Bank Offer\"},\"type\":\"NAVIGATION\",\"url\":null},\"metaData\":null,\"tracking\":null,\"trackingData\":null,\"value\":{\"type\":\"ProductOfferValue\",\"availed\":false,\"ctaInfo\":{\"type\":\"CtaInfo\",\"ctaAvailable\":false},\"description\":\"5% Unlimited Cashback on Flipkart Axis Bank Credit Card\",\"id\":\"nb:mp:06ce8b8c12\",\"identifier\":\"BASKETPRICE_PAYMENT_DISCOUNT\",\"showAsTargeted\":false,\"tags\":[\"Bank Offer\"],\"title\":\"5% Unlimited Cashback on Flipkart Axis Bank Credit Card\",\"tncAvailable\":true,\"tncDisplayName\":\"T&C\"}},{\"action\":{\"constraints\":null,\"fallback\":null,\"loginType\":\"LOGIN_NOT_REQUIRED\",\"omnitureData\":null,\"originalUrl\":null,\"params\":{\"offerId\":\"nb:mp:08addbba25\",\"screenName\":\"OFFER_TNC\",\"url\":\"/3/product/offers/nb:mp:08addbba25/tnc\"},\"screenType\":\"offerTnc\",\"tracking\":{\"offerType\":\"Bank Offer\"},\"type\":\"NAVIGATION\",\"url\":null},\"metaData\":null,\"tracking\":null,\"trackingData\":null,\"value\":{\"type\":\"ProductOfferValue\",\"availed\":false,\"ctaInfo\":{\"type\":\"CtaInfo\",\"ctaAvailable\":false},\"description\":\"Extra ₹2000 off* on Axis Bank Credit and Debit Cards\",\"id\":\"nb:mp:08addbba25\",\"identifier\":\"BASKETPRICE_PAYMENT_DISCOUNT\",\"showAsTargeted\":false,\"tags\":[\"Bank Offer\"],\"title\":\"Extra ₹2000 off* on Axis Bank Credit and Debit Cards\",\"tncAvailable\":true,\"tncDisplayName\":\"T&C\"}},{\"action\":{\"constraints\":null,\"fallback\":null,\"loginType\":\"LOGIN_NOT_REQUIRED\",\"omnitureData\":null,\"originalUrl\":null,\"params\":{\"offerId\":\"nb:mp:08b90ba325\",\"screenName\":\"OFFER_TNC\",\"url\":\"/3/product/offers/nb:mp:08b90ba325/tnc\"},\"screenType\":\"offerTnc\",\"tracking\":{\"offerType\":\"Bank Offer\"},\"type\":\"NAVIGATION\",\"url\":null},\"metaData\":null,\"tracking\":null,\"trackingData\":null,\"value\":{\"type\":\"ProductOfferValue\",\"availed\":false,\"ctaInfo\":{\"type\":\"CtaInfo\",\"ctaAvailable\":false},\"description\":\"Extra ₹2000 off* on ICICI Bank Credit Cards\",\"id\":\"nb:mp:08b90ba325\",\"identifier\":\"BASKETPRICE_PAYMENT_DISCOUNT\",\"showAsTargeted\":false,\"tags\":[\"Bank Offer\"],\"title\":\"Extra ₹2000 off* on ICICI Bank Credit Cards\",\"tncAvailable\":true,\"tncDisplayName\":\"T&C\"}},{\"action\":{\"constraints\":null,\"fallback\":null,\"loginType\":\"LOGIN_NOT_REQUIRED\",\"omnitureData\":null,\"originalUrl\":null,\"params\":{\"offerId\":\"nb:mp:09f75ee501\",\"screenName\":\"OFFER_TNC\",\"url\":\"/3/product/offers/nb:mp:09f75ee501/tnc\"},\"screenType\":\"offerTnc\",\"tracking\":{\"offerType\":\"Bank Offer\"},\"type\":\"NAVIGATION\",\"url\":null},\"metaData\":null,\"tracking\":null,\"trackingData\":null,\"value\":{\"type\":\"ProductOfferValue\",\"availed\":false,\"ctaInfo\":{\"type\":\"CtaInfo\",\"ctaAvailable\":false},\"description\":\"10% Instant Discount on ICICI Bank Debit Cards\",\"id\":\"nb:mp:09f75ee501\",\"identifier\":\"BASKETPRICE_PAYMENT_DISCOUNT\",\"showAsTargeted\":false,\"tags\":[\"Bank Offer\"],\"title\":\"10% Instant Discount on ICICI Bank Debit Cards\",\"tncAvailable\":true,\"tncDisplayName\":\"T&C\"}},{\"action\":{\"constraints\":null,\"fallback\":null,\"loginType\":\"LOGIN_NOT_REQUIRED\",\"omnitureData\":null,\"originalUrl\":null,\"params\":{\"offerId\":\"nb:mp:08314f9524\",\"screenName\":\"OFFER_TNC\",\"url\":\"/3/product/offers/nb:mp:08314f9524/tnc\"},\"screenType\":\"offerTnc\",\"tracking\":{\"offerType\":\"Bank Offer\"},\"type\":\"NAVIGATION\",\"url\":null},\"metaData\":null,\"tracking\":null,\"trackingData\":null,\"value\":{\"type\":\"ProductOfferValue\",\"availed\":false,\"ctaInfo\":{\"type\":\"CtaInfo\",\"ctaAvailable\":false},\"description\":\"10% off* with Axis Bank Buzz Credit Card\",\"id\":\"nb:mp:08314f9524\",\"identifier\":\"BASKETPRICE_PAYMENT_DISCOUNT\",\"showAsTargeted\":false,\"tags\":[\"Bank Offer\"],\"title\":\"10% off* with Axis Bank Buzz Credit Card\",\"tncAvailable\":true,\"tncDisplayName\":\"T&C\"}},{\"action\":{\"constraints\":null,\"fallback\":null,\"loginType\":\"LOGIN_NOT_REQUIRED\",\"omnitureData\":null,\"originalUrl\":null,\"params\":{\"offerId\":\"nb:mp:0875ab4725\",\"screenName\":\"OFFER_TNC\",\"url\":\"/3/product/offers/nb:mp:0875ab4725/tnc\"},\"screenType\":\"offerTnc\",\"tracking\":{\"offerType\":\"Partner Offer\"},\"type\":\"NAVIGATION\",\"url\":null},\"metaData\":null,\"tracking\":null,\"trackingData\":null,\"value\":{\"type\":\"ProductOfferValue\",\"availed\":false,\"ctaInfo\":{\"type\":\"CtaInfo\",\"ctaAvailable\":false},\"description\":\"Buy now and get 500 off on your next Flight booking on Flipkart\",\"id\":\"nb:mp:0875ab4725\",\"identifier\":\"LISTING_NON_FK_FULFILLED_OFFER\",\"showAsTargeted\":false,\"tags\":[\"Partner Offer\"],\"title\":\"Buy now and get 500 off on your next Flight booking on Flipkart\",\"tncAvailable\":true,\"tncDisplayName\":\"Know More\"}},{\"action\":{\"constraints\":null,\"fallback\":null,\"loginType\":\"LOGIN_NOT_REQUIRED\",\"omnitureData\":null,\"originalUrl\":null,\"params\":{\"offerId\":\"nb:mp:088182fb22\",\"screenName\":\"OFFER_TNC\",\"url\":\"/3/product/offers/nb:mp:088182fb22/tnc\"},\"screenType\":\"offerTnc\",\"tracking\":{\"offerType\":\"Partner Offer\"},\"type\":\"NAVIGATION\",\"url\":null},\"metaData\":null,\"tracking\":null,\"trackingData\":null,\"value\":{\"type\":\"ProductOfferValue\",\"availed\":false,\"ctaInfo\":{\"type\":\"CtaInfo\",\"ctaAvailable\":false},\"description\":\"Buy worth 1000 from Fashion during Big Billion Days - Save 1000 on select Fashion over next 5 months\",\"id\":\"nb:mp:088182fb22\",\"identifier\":\"LISTING_NON_FK_FULFILLED_OFFER\",\"showAsTargeted\":false,\"tags\":[\"Partner Offer\"],\"title\":\"Buy worth 1000 from Fashion during Big Billion Days - Save 1000 on select Fashion over next 5 months\",\"tncAvailable\":true,\"tncDisplayName\":\"Know More\"}},{\"action\":{\"constraints\":null,\"fallback\":null,\"loginType\":\"LOGIN_NOT_REQUIRED\",\"omnitureData\":null,\"originalUrl\":null,\"params\":{\"offerId\":\"nb:mp:085af53c26\",\"screenName\":\"OFFER_TNC\",\"url\":\"/3/product/offers/nb:mp:085af53c26/tnc\"},\"screenType\":\"offerTnc\",\"tracking\":{\"offerType\":\"Partner Offer\"},\"type\":\"NAVIGATION\",\"url\":null},\"metaData\":null,\"tracking\":null,\"trackingData\":null,\"value\":{\"type\":\"ProductOfferValue\",\"availed\":false,\"ctaInfo\":{\"type\":\"CtaInfo\",\"ctaAvailable\":false},\"description\":\"Buy Puma products for ₹5000 or more & win Footwear signed by Virat Kohli\",\"id\":\"nb:mp:085af53c26\",\"identifier\":\"LISTING_NON_FK_FULFILLED_OFFER\",\"showAsTargeted\":false,\"tags\":[\"Partner Offer\"],\"title\":\"Buy Puma products for ₹5000 or more & win Footwear signed by Virat Kohli\",\"tncAvailable\":true,\"tncDisplayName\":\"Know More\"}},{\"action\":{\"constraints\":null,\"fallback\":null,\"loginType\":\"LOGIN_NOT_REQUIRED\",\"omnitureData\":null,\"originalUrl\":null,\"params\":{\"offerId\":\"nb:mp:0848694225\",\"screenName\":\"OFFER_TNC\",\"url\":\"/3/product/offers/nb:mp:0848694225/tnc\"},\"screenType\":\"offerTnc\",\"tracking\":{\"offerType\":\"Partner Offer\"},\"type\":\"NAVIGATION\",\"url\":null},\"metaData\":null,\"tracking\":null,\"trackingData\":null,\"value\":{\"type\":\"ProductOfferValue\",\"availed\":false,\"ctaInfo\":{\"type\":\"CtaInfo\",\"ctaAvailable\":false},\"description\":\"Shop & Win Jewelkari.com Gold Pendant\",\"id\":\"nb:mp:0848694225\",\"identifier\":\"LISTING_NON_FK_FULFILLED_OFFER\",\"showAsTargeted\":false,\"tags\":[\"Partner Offer\"],\"title\":\"Shop & Win Jewelkari.com Gold Pendant\",\"tncAvailable\":true,\"tncDisplayName\":\"Know More\"}}]}],\"primarySaleTag\":null,\"primaryTag\":null,\"primaryTitle\":null}},\"offerSummary\":{\"action\":null,\"metaData\":null,\"tracking\":null,\"trackingData\":null,\"value\":{\"type\":\"OfferSummary\",\"offerSummaries\":[{\"chevronAction\":{\"constraints\":null,\"fallback\":null,\"loginType\":\"LOGIN_NOT_REQUIRED\",\"omnitureData\":null,\"originalUrl\":null,\"params\":{\"offerId\":\"nb:mp:086c3bd926\",\"screenName\":\"OFFER_TNC\",\"url\":\"/3/product/offers/nb:mp:086c3bd926/tnc\"},\"screenType\":\"offerTnc\",\"tracking\":{\"offerType\":\"Bank Offer\"},\"type\":\"NAVIGATION\",\"url\":null},\"iconUrl\":\"http://rukmini1.flixcart.com/www/{@width}/{@height}/promos/06/09/2016/c22c9fc4-0555-4460-8401-bf5c28d7ba29.png?q={@quality}\",\"title\":\"10% Instant Discount* with Axis Bank Credit and Debit Cards\"},{\"chevronAction\":{\"constraints\":null,\"fallback\":null,\"loginType\":\"LOGIN_NOT_REQUIRED\",\"omnitureData\":null,\"originalUrl\":null,\"params\":{\"offerId\":\"nb:mp:082796e808\",\"screenName\":\"OFFER_TNC\",\"url\":\"/3/product/offers/nb:mp:082796e808/tnc\"},\"screenType\":\"offerTnc\",\"tracking\":{\"offerType\":\"Bank Offer\"},\"type\":\"NAVIGATION\",\"url\":null},\"iconUrl\":\"http://rukmini1.flixcart.com/www/{@width}/{@height}/promos/06/09/2016/c22c9fc4-0555-4460-8401-bf5c28d7ba29.png?q={@quality}\",\"title\":\"10% Instant Discount on Mastercard on Fashion for First 3 Prepaid Payments\"},{\"chevronAction\":{\"constraints\":null,\"fallback\":null,\"loginType\":\"LOGIN_NOT_REQUIRED\",\"omnitureData\":null,\"originalUrl\":null,\"params\":{\"offerId\":\"nb:mp:08cfac7126\",\"screenName\":\"OFFER_TNC\",\"url\":\"/3/product/offers/nb:mp:08cfac7126/tnc\"},\"screenType\":\"offerTnc\",\"tracking\":{\"offerType\":\"Bank Offer\"},\"type\":\"NAVIGATION\",\"url\":null},\"iconUrl\":\"http://rukmini1.flixcart.com/www/{@width}/{@height}/promos/06/09/2016/c22c9fc4-0555-4460-8401-bf5c28d7ba29.png?q={@quality}\",\"title\":\"10% Instant Discount on ICICI Bank Credit Cards\"},{\"chevronAction\":{\"constraints\":null,\"fallback\":null,\"loginType\":\"LOGIN_NOT_REQUIRED\",\"omnitureData\":null,\"originalUrl\":null,\"params\":{\"offerId\":\"nb:mp:06ce8b8c12\",\"screenName\":\"OFFER_TNC\",\"url\":\"/3/product/offers/nb:mp:06ce8b8c12/tnc\"},\"screenType\":\"offerTnc\",\"tracking\":{\"offerType\":\"Bank Offer\"},\"type\":\"NAVIGATION\",\"url\":null},\"iconUrl\":\"http://rukmini1.flixcart.com/www/{@width}/{@height}/promos/06/09/2016/c22c9fc4-0555-4460-8401-bf5c28d7ba29.png?q={@quality}\",\"title\":\"5% Unlimited Cashback on Flipkart Axis Bank Credit Card\"},{\"chevronAction\":{\"constraints\":null,\"fallback\":null,\"loginType\":\"LOGIN_NOT_REQUIRED\",\"omnitureData\":null,\"originalUrl\":null,\"params\":{\"offerId\":\"nb:mp:08addbba25\",\"screenName\":\"OFFER_TNC\",\"url\":\"/3/product/offers/nb:mp:08addbba25/tnc\"},\"screenType\":\"offerTnc\",\"tracking\":{\"offerType\":\"Bank Offer\"},\"type\":\"NAVIGATION\",\"url\":null},\"iconUrl\":\"http://rukmini1.flixcart.com/www/{@width}/{@height}/promos/06/09/2016/c22c9fc4-0555-4460-8401-bf5c28d7ba29.png?q={@quality}\",\"title\":\"Extra ₹2000 off* on Axis Bank Credit and Debit Cards\"},{\"chevronAction\":{\"constraints\":null,\"fallback\":null,\"loginType\":\"LOGIN_NOT_REQUIRED\",\"omnitureData\":null,\"originalUrl\":null,\"params\":{\"offerId\":\"nb:mp:08b90ba325\",\"screenName\":\"OFFER_TNC\",\"url\":\"/3/product/offers/nb:mp:08b90ba325/tnc\"},\"screenType\":\"offerTnc\",\"tracking\":{\"offerType\":\"Bank Offer\"},\"type\":\"NAVIGATION\",\"url\":null},\"iconUrl\":\"http://rukmini1.flixcart.com/www/{@width}/{@height}/promos/06/09/2016/c22c9fc4-0555-4460-8401-bf5c28d7ba29.png?q={@quality}\",\"title\":\"Extra ₹2000 off* on ICICI Bank Credit Cards\"},{\"chevronAction\":{\"constraints\":null,\"fallback\":null,\"loginType\":\"LOGIN_NOT_REQUIRED\",\"omnitureData\":null,\"originalUrl\":null,\"params\":{\"offerId\":\"nb:mp:09f75ee501\",\"screenName\":\"OFFER_TNC\",\"url\":\"/3/product/offers/nb:mp:09f75ee501/tnc\"},\"screenType\":\"offerTnc\",\"tracking\":{\"offerType\":\"Bank Offer\"},\"type\":\"NAVIGATION\",\"url\":null},\"iconUrl\":\"http://rukmini1.flixcart.com/www/{@width}/{@height}/promos/06/09/2016/c22c9fc4-0555-4460-8401-bf5c28d7ba29.png?q={@quality}\",\"title\":\"10% Instant Discount on ICICI Bank Debit Cards\"},{\"chevronAction\":{\"constraints\":null,\"fallback\":null,\"loginType\":\"LOGIN_NOT_REQUIRED\",\"omnitureData\":null,\"originalUrl\":null,\"params\":{\"offerId\":\"nb:mp:08314f9524\",\"screenName\":\"OFFER_TNC\",\"url\":\"/3/product/offers/nb:mp:08314f9524/tnc\"},\"screenType\":\"offerTnc\",\"tracking\":{\"offerType\":\"Bank Offer\"},\"type\":\"NAVIGATION\",\"url\":null},\"iconUrl\":\"http://rukmini1.flixcart.com/www/{@width}/{@height}/promos/06/09/2016/c22c9fc4-0555-4460-8401-bf5c28d7ba29.png?q={@quality}\",\"title\":\"10% off* with Axis Bank Buzz Credit Card\"},{\"chevronAction\":{\"constraints\":null,\"fallback\":null,\"loginType\":\"LOGIN_NOT_REQUIRED\",\"omnitureData\":null,\"originalUrl\":null,\"params\":{\"offerId\":\"nb:mp:0875ab4725\",\"screenName\":\"OFFER_TNC\",\"url\":\"/3/product/offers/nb:mp:0875ab4725/tnc\"},\"screenType\":\"offerTnc\",\"tracking\":{\"offerType\":\"Partner Offer\"},\"type\":\"NAVIGATION\",\"url\":null},\"iconUrl\":\"http://rukmini1.flixcart.com/www/{@width}/{@height}/promos/06/09/2016/c22c9fc4-0555-4460-8401-bf5c28d7ba29.png?q={@quality}\",\"title\":\"Buy now and get 500 off on your next Flight booking on Flipkart\"},{\"chevronAction\":{\"constraints\":null,\"fallback\":null,\"loginType\":\"LOGIN_NOT_REQUIRED\",\"omnitureData\":null,\"originalUrl\":null,\"params\":{\"offerId\":\"nb:mp:088182fb22\",\"screenName\":\"OFFER_TNC\",\"url\":\"/3/product/offers/nb:mp:088182fb22/tnc\"},\"screenType\":\"offerTnc\",\"tracking\":{\"offerType\":\"Partner Offer\"},\"type\":\"NAVIGATION\",\"url\":null},\"iconUrl\":\"http://rukmini1.flixcart.com/www/{@width}/{@height}/promos/06/09/2016/c22c9fc4-0555-4460-8401-bf5c28d7ba29.png?q={@quality}\",\"title\":\"Buy worth 1000 from Fashion during Big Billion Days - Save 1000 on select Fashion over next 5 months\"},{\"chevronAction\":{\"constraints\":null,\"fallback\":null,\"loginType\":\"LOGIN_NOT_REQUIRED\",\"omnitureData\":null,\"originalUrl\":null,\"params\":{\"offerId\":\"nb:mp:085af53c26\",\"screenName\":\"OFFER_TNC\",\"url\":\"/3/product/offers/nb:mp:085af53c26/tnc\"},\"screenType\":\"offerTnc\",\"tracking\":{\"offerType\":\"Partner Offer\"},\"type\":\"NAVIGATION\",\"url\":null},\"iconUrl\":\"http://rukmini1.flixcart.com/www/{@width}/{@height}/promos/06/09/2016/c22c9fc4-0555-4460-8401-bf5c28d7ba29.png?q={@quality}\",\"title\":\"Buy Puma products for ₹5000 or more & win Footwear signed by Virat Kohli\"},{\"chevronAction\":{\"constraints\":null,\"fallback\":null,\"loginType\":\"LOGIN_NOT_REQUIRED\",\"omnitureData\":null,\"originalUrl\":null,\"params\":{\"offerId\":\"nb:mp:0848694225\",\"screenName\":\"OFFER_TNC\",\"url\":\"/3/product/offers/nb:mp:0848694225/tnc\"},\"screenType\":\"offerTnc\",\"tracking\":{\"offerType\":\"Partner Offer\"},\"type\":\"NAVIGATION\",\"url\":null},\"iconUrl\":\"http://rukmini1.flixcart.com/www/{@width}/{@height}/promos/06/09/2016/c22c9fc4-0555-4460-8401-bf5c28d7ba29.png?q={@quality}\",\"title\":\"Shop & Win Jewelkari.com Gold Pendant\"}]}},\"offerSummaryGroups\":[{\"type\":\"OfferSummaryGroup\",\"offerGroupType\":\"NORMAL\",\"offerSummaries\":[{\"chevronAction\":{\"constraints\":null,\"fallback\":null,\"loginType\":\"LOGIN_NOT_REQUIRED\",\"omnitureData\":null,\"originalUrl\":null,\"params\":{\"offerId\":\"nb:mp:08e28fa225\",\"screenName\":\"OFFER_TNC\",\"url\":\"/3/product/offers/nb:mp:08e28fa225/tnc\"},\"screenType\":\"offerTnc\",\"tracking\":{\"offerType\":\"No Cost EMI\"},\"type\":\"NAVIGATION\",\"url\":null},\"iconUrl\":\"http://rukmini1.flixcart.com/www/{@width}/{@height}/promos/06/09/2016/c22c9fc4-0555-4460-8401-bf5c28d7ba29.png?q={@quality}\",\"title\":\"No Cost EMI on Bajaj Finserv EMI Card on cart value above ₹4499\"},{\"chevronAction\":{\"constraints\":null,\"fallback\":null,\"loginType\":\"LOGIN_NOT_REQUIRED\",\"omnitureData\":null,\"originalUrl\":null,\"params\":{\"offerId\":\"nb:mp:0863d2ff24\",\"screenName\":\"OFFER_TNC\",\"url\":\"/3/product/offers/nb:mp:0863d2ff24/tnc\"},\"screenType\":\"offerTnc\",\"tracking\":{\"offerType\":\"No Cost EMI\"},\"type\":\"NAVIGATION\",\"url\":null},\"iconUrl\":\"http://rukmini1.flixcart.com/www/{@width}/{@height}/promos/06/09/2016/c22c9fc4-0555-4460-8401-bf5c28d7ba29.png?q={@quality}\",\"title\":\"No Cost EMI on Flipkart Axis Bank Credit Card\"},{\"chevronAction\":{\"constraints\":null,\"fallback\":null,\"loginType\":\"LOGIN_NOT_REQUIRED\",\"omnitureData\":null,\"originalUrl\":null,\"params\":{\"offerId\":\"nb:mp:086c3bd926\",\"screenName\":\"OFFER_TNC\",\"url\":\"/3/product/offers/nb:mp:086c3bd926/tnc\"},\"screenType\":\"offerTnc\",\"tracking\":{\"offerType\":\"Bank Offer\"},\"type\":\"NAVIGATION\",\"url\":null},\"iconUrl\":\"http://rukmini1.flixcart.com/www/{@width}/{@height}/promos/06/09/2016/c22c9fc4-0555-4460-8401-bf5c28d7ba29.png?q={@quality}\",\"title\":\"10% Instant Discount* with Axis Bank Credit and Debit Cards\"},{\"chevronAction\":{\"constraints\":null,\"fallback\":null,\"loginType\":\"LOGIN_NOT_REQUIRED\",\"omnitureData\":null,\"originalUrl\":null,\"params\":{\"offerId\":\"nb:mp:082796e808\",\"screenName\":\"OFFER_TNC\",\"url\":\"/3/product/offers/nb:mp:082796e808/tnc\"},\"screenType\":\"offerTnc\",\"tracking\":{\"offerType\":\"Bank Offer\"},\"type\":\"NAVIGATION\",\"url\":null},\"iconUrl\":\"http://rukmini1.flixcart.com/www/{@width}/{@height}/promos/06/09/2016/c22c9fc4-0555-4460-8401-bf5c28d7ba29.png?q={@quality}\",\"title\":\"10% Instant Discount on Mastercard on Fashion for First 3 Prepaid Payments\"},{\"chevronAction\":{\"constraints\":null,\"fallback\":null,\"loginType\":\"LOGIN_NOT_REQUIRED\",\"omnitureData\":null,\"originalUrl\":null,\"params\":{\"offerId\":\"nb:mp:08cfac7126\",\"screenName\":\"OFFER_TNC\",\"url\":\"/3/product/offers/nb:mp:08cfac7126/tnc\"},\"screenType\":\"offerTnc\",\"tracking\":{\"offerType\":\"Bank Offer\"},\"type\":\"NAVIGATION\",\"url\":null},\"iconUrl\":\"http://rukmini1.flixcart.com/www/{@width}/{@height}/promos/06/09/2016/c22c9fc4-0555-4460-8401-bf5c28d7ba29.png?q={@quality}\",\"title\":\"10% Instant Discount on ICICI Bank Credit Cards\"},{\"chevronAction\":{\"constraints\":null,\"fallback\":null,\"loginType\":\"LOGIN_NOT_REQUIRED\",\"omnitureData\":null,\"originalUrl\":null,\"params\":{\"offerId\":\"nb:mp:06ce8b8c12\",\"screenName\":\"OFFER_TNC\",\"url\":\"/3/product/offers/nb:mp:06ce8b8c12/tnc\"},\"screenType\":\"offerTnc\",\"tracking\":{\"offerType\":\"Bank Offer\"},\"type\":\"NAVIGATION\",\"url\":null},\"iconUrl\":\"http://rukmini1.flixcart.com/www/{@width}/{@height}/promos/06/09/2016/c22c9fc4-0555-4460-8401-bf5c28d7ba29.png?q={@quality}\",\"title\":\"5% Unlimited Cashback on Flipkart Axis Bank Credit Card\"},{\"chevronAction\":{\"constraints\":null,\"fallback\":null,\"loginType\":\"LOGIN_NOT_REQUIRED\",\"omnitureData\":null,\"originalUrl\":null,\"params\":{\"offerId\":\"nb:mp:08addbba25\",\"screenName\":\"OFFER_TNC\",\"url\":\"/3/product/offers/nb:mp:08addbba25/tnc\"},\"screenType\":\"offerTnc\",\"tracking\":{\"offerType\":\"Bank Offer\"},\"type\":\"NAVIGATION\",\"url\":null},\"iconUrl\":\"http://rukmini1.flixcart.com/www/{@width}/{@height}/promos/06/09/2016/c22c9fc4-0555-4460-8401-bf5c28d7ba29.png?q={@quality}\",\"title\":\"Extra ₹2000 off* on Axis Bank Credit and Debit Cards\"},{\"chevronAction\":{\"constraints\":null,\"fallback\":null,\"loginType\":\"LOGIN_NOT_REQUIRED\",\"omnitureData\":null,\"originalUrl\":null,\"params\":{\"offerId\":\"nb:mp:08b90ba325\",\"screenName\":\"OFFER_TNC\",\"url\":\"/3/product/offers/nb:mp:08b90ba325/tnc\"},\"screenType\":\"offerTnc\",\"tracking\":{\"offerType\":\"Bank Offer\"},\"type\":\"NAVIGATION\",\"url\":null},\"iconUrl\":\"http://rukmini1.flixcart.com/www/{@width}/{@height}/promos/06/09/2016/c22c9fc4-0555-4460-8401-bf5c28d7ba29.png?q={@quality}\",\"title\":\"Extra ₹2000 off* on ICICI Bank Credit Cards\"},{\"chevronAction\":{\"constraints\":null,\"fallback\":null,\"loginType\":\"LOGIN_NOT_REQUIRED\",\"omnitureData\":null,\"originalUrl\":null,\"params\":{\"offerId\":\"nb:mp:09f75ee501\",\"screenName\":\"OFFER_TNC\",\"url\":\"/3/product/offers/nb:mp:09f75ee501/tnc\"},\"screenType\":\"offerTnc\",\"tracking\":{\"offerType\":\"Bank Offer\"},\"type\":\"NAVIGATION\",\"url\":null},\"iconUrl\":\"http://rukmini1.flixcart.com/www/{@width}/{@height}/promos/06/09/2016/c22c9fc4-0555-4460-8401-bf5c28d7ba29.png?q={@quality}\",\"title\":\"10% Instant Discount on ICICI Bank Debit Cards\"},{\"chevronAction\":{\"constraints\":null,\"fallback\":null,\"loginType\":\"LOGIN_NOT_REQUIRED\",\"omnitureData\":null,\"originalUrl\":null,\"params\":{\"offerId\":\"nb:mp:08314f9524\",\"screenName\":\"OFFER_TNC\",\"url\":\"/3/product/offers/nb:mp:08314f9524/tnc\"},\"screenType\":\"offerTnc\",\"tracking\":{\"offerType\":\"Bank Offer\"},\"type\":\"NAVIGATION\",\"url\":null},\"iconUrl\":\"http://rukmini1.flixcart.com/www/{@width}/{@height}/promos/06/09/2016/c22c9fc4-0555-4460-8401-bf5c28d7ba29.png?q={@quality}\",\"title\":\"10% off* with Axis Bank Buzz Credit Card\"},{\"chevronAction\":{\"constraints\":null,\"fallback\":null,\"loginType\":\"LOGIN_NOT_REQUIRED\",\"omnitureData\":null,\"originalUrl\":null,\"params\":{\"offerId\":\"nb:mp:0875ab4725\",\"screenName\":\"OFFER_TNC\",\"url\":\"/3/product/offers/nb:mp:0875ab4725/tnc\"},\"screenType\":\"offerTnc\",\"tracking\":{\"offerType\":\"Partner Offer\"},\"type\":\"NAVIGATION\",\"url\":null},\"iconUrl\":\"http://rukmini1.flixcart.com/www/{@width}/{@height}/promos/06/09/2016/c22c9fc4-0555-4460-8401-bf5c28d7ba29.png?q={@quality}\",\"title\":\"Buy now and get 500 off on your next Flight booking on Flipkart\"},{\"chevronAction\":{\"constraints\":null,\"fallback\":null,\"loginType\":\"LOGIN_NOT_REQUIRED\",\"omnitureData\":null,\"originalUrl\":null,\"params\":{\"offerId\":\"nb:mp:088182fb22\",\"screenName\":\"OFFER_TNC\",\"url\":\"/3/product/offers/nb:mp:088182fb22/tnc\"},\"screenType\":\"offerTnc\",\"tracking\":{\"offerType\":\"Partner Offer\"},\"type\":\"NAVIGATION\",\"url\":null},\"iconUrl\":\"http://rukmini1.flixcart.com/www/{@width}/{@height}/promos/06/09/2016/c22c9fc4-0555-4460-8401-bf5c28d7ba29.png?q={@quality}\",\"title\":\"Buy worth 1000 from Fashion during Big Billion Days - Save 1000 on select Fashion over next 5 months\"},{\"chevronAction\":{\"constraints\":null,\"fallback\":null,\"loginType\":\"LOGIN_NOT_REQUIRED\",\"omnitureData\":null,\"originalUrl\":null,\"params\":{\"offerId\":\"nb:mp:085af53c26\",\"screenName\":\"OFFER_TNC\",\"url\":\"/3/product/offers/nb:mp:085af53c26/tnc\"},\"screenType\":\"offerTnc\",\"tracking\":{\"offerType\":\"Partner Offer\"},\"type\":\"NAVIGATION\",\"url\":null},\"iconUrl\":\"http://rukmini1.flixcart.com/www/{@width}/{@height}/promos/06/09/2016/c22c9fc4-0555-4460-8401-bf5c28d7ba29.png?q={@quality}\",\"title\":\"Buy Puma products for ₹5000 or more & win Footwear signed by Virat Kohli\"},{\"chevronAction\":{\"constraints\":null,\"fallback\":null,\"loginType\":\"LOGIN_NOT_REQUIRED\",\"omnitureData\":null,\"originalUrl\":null,\"params\":{\"offerId\":\"nb:mp:0848694225\",\"screenName\":\"OFFER_TNC\",\"url\":\"/3/product/offers/nb:mp:0848694225/tnc\"},\"screenType\":\"offerTnc\",\"tracking\":{\"offerType\":\"Partner Offer\"},\"type\":\"NAVIGATION\",\"url\":null},\"iconUrl\":\"http://rukmini1.flixcart.com/www/{@width}/{@height}/promos/06/09/2016/c22c9fc4-0555-4460-8401-bf5c28d7ba29.png?q={@quality}\",\"title\":\"Shop & Win Jewelkari.com Gold Pendant\"}],\"subTitle\":null,\"title\":\"Available offers\"}],\"preorderAnnouncement\":null,\"pricing\":{\"action\":{\"constraints\":null,\"fallback\":null,\"loginType\":\"LOGIN_NOT_REQUIRED\",\"omnitureData\":null,\"originalUrl\":null,\"params\":{\"valid\":true,\"screenName\":\"PRODUCT_PRICING_PAGE\",\"listingId\":\"LSTSHOF32HGW4SNK2DM6XG3EX\"},\"screenType\":\"multiWidgetPage\",\"tracking\":{},\"type\":\"NAVIGATION\",\"url\":null},\"metaData\":null,\"tracking\":null,\"trackingData\":null,\"value\":{\"type\":\"ListingPriceValue\",\"deliveryCharge\":null,\"discountAmount\":1050,\"extraDiscount\":null,\"finalPrice\":{\"additionalText\":null,\"currency\":\"INR\",\"decimalValue\":\"1949.00\",\"discount\":null,\"downpaymentRate\":0,\"downpaymentRequired\":false,\"name\":\"Total\",\"priceType\":null,\"strikeOff\":false,\"value\":1949},\"finalSavingsText\":\"Overall you save ₹1050 (35%) on this product\",\"knowMore\":null,\"mrp\":null,\"partPriceInfo\":null,\"plusPriceInfo\":null,\"priceDescriptions\":null,\"pricePerUnit\":null,\"priceTags\":null,\"prices\":[{\"additionalText\":\"(incl. of all taxes)\",\"currency\":\"INR\",\"decimalValue\":\"2999.00\",\"discount\":35,\"downpaymentRate\":0,\"downpaymentRequired\":false,\"name\":\"Maximum Retail Price\",\"priceType\":\"MRP\",\"strikeOff\":true,\"value\":2999},{\"additionalText\":null,\"currency\":\"INR\",\"decimalValue\":\"1949.00\",\"discount\":null,\"downpaymentRate\":0,\"downpaymentRequired\":false,\"name\":\"Selling Price\",\"priceType\":\"FSP\",\"strikeOff\":false,\"value\":1949}],\"showDiscountAsAmount\":false,\"totalDiscount\":35}},\"pricingAid\":null,\"pricingAidOld\":null,\"productCardTagDetails\":[],\"productDetailsAnnouncement\":{\"action\":{\"constraints\":null,\"fallback\":null,\"loginType\":\"LOGIN_NOT_REQUIRED\",\"omnitureData\":null,\"originalUrl\":null,\"params\":{\"screenName\":\"PRODUCT_STATIC_DETAIL_PAGE\",\"productId\":\"SHOF32HGW4SNK2DM\",\"url\":\"/puma-slyde-nu-idp-sneakers-men/p/itmf3xxcvu8fwgcp/specifications?pid=SHOF32HGW4SNK2DM&marketplace=FLIPKART\",\"analyticsData\":{\"category\":\"MenFW\",\"subCategory\":\"MenFootwear\",\"superCategory\":\"FootWearFitness\",\"vertical\":\"MenCasualShoe\"}},\"screenType\":null,\"tracking\":{\"contextType\":\"page\",\"announcement\":\"DETAILS_PAGE\"},\"type\":\"NAVIGATION\",\"url\":\"/puma-slyde-nu-idp-sneakers-men/p/itmf3xxcvu8fwgcp/specifications?pid=SHOF32HGW4SNK2DM&marketplace=FLIPKART\"},\"metaData\":null,\"tracking\":{\"contextType\":\"page\",\"announcement\":\"DETAILS_PAGE\"},\"trackingData\":null,\"value\":{\"type\":\"AnnouncementValue\",\"title\":\"All Details\"}},\"ratingsAndReviews\":{\"action\":{\"constraints\":null,\"fallback\":null,\"loginType\":\"LOGIN_NOT_REQUIRED\",\"omnitureData\":null,\"originalUrl\":null,\"params\":{\"valid\":true,\"vertical\":\"MenCasualShoe\",\"screenName\":\"PRODUCT_REVIEW_PAGE\",\"productId\":\"SHOF32HGW4SNK2DM\",\"category\":\"MenFW\"},\"screenType\":\"multiWidgetPage\",\"tracking\":{},\"type\":\"NAVIGATION\",\"url\":\"/puma-slyde-nu-idp-sneakers-men/product-reviews/itmf3xxcvu8fwgcp?pid=SHOF32HGW4SNK2DM&cat=MenFW&vert=MenCasualShoe\"},\"metaData\":null,\"tracking\":null,\"trackingData\":null,\"value\":{\"type\":\"ReviewSummary\",\"rating\":{\"type\":\"RatingValue\",\"average\":4.2,\"base\":5,\"breakup\":[856,443,1217,2988,6579],\"count\":12083,\"histogramBaseCount\":6579,\"reviewCount\":1906},\"reviewCount\":1906}},\"summaryMeta\":{\"asmMessage\":null,\"binding\":null,\"deliveryMessage\":null,\"exclusiveTag\":null,\"flags\":{\"enableCompare\":false,\"flipkartAdvantage\":true},\"newVersionInfo\":null,\"offerTitle\":null,\"productExpiry\":null,\"productManufacture\":null,\"urgency\":{\"expiry\":false}},\"titleComponent\":{\"action\":null,\"metaData\":null,\"tracking\":null,\"trackingData\":null,\"value\":{\"type\":\"ProductTitleValue\",\"newTitle\":\"Slyde NU IDP Sneakers For Men\",\"subtitle\":\"Blue\",\"superTitle\":\"Puma\",\"title\":\"Puma Slyde NU IDP Sneakers For Men\"}},\"writeReviewAnnouncement\":null}}},{\"slotType\":\"WIDGET\",\"id\":10,\"parentId\":10002,\"layoutParams\":{\"margin\":\"0,24,0,0\",\"orientation\":\"\",\"widgetHeight\":150,\"widgetWidth\":12},\"dataId\":\"-2519399\",\"elementId\":\"10-AVAILABILITY\",\"hasWidgetDataChanged\":true,\"ttl\":3000,\"widget\":{\"type\":\"AVAILABILITY\",\"viewType\":\"LIFESTYLE\",\"data\":{\"announcementComponent\":{\"action\":null,\"metaData\":null,\"tracking\":null,\"trackingData\":null,\"value\":{\"type\":\"AnnouncementValue\",\"subTitle\":\"This item is currently out of stock\",\"title\":\"Sold Out\"}}}}},{\"slotType\":\"WIDGET\",\"id\":12,\"parentId\":10002,\"layoutParams\":{\"orientation\":\"\",\"widgetHeight\":150,\"widgetWidth\":12},\"dataId\":\"1718646728\",\"elementId\":\"12-BRAND_DATA\",\"hasWidgetDataChanged\":true,\"ttl\":3000,\"widget\":{\"type\":\"BRAND_DATA\",\"data\":{\"announcement\":{\"action\":null,\"metaData\":null,\"tracking\":null,\"trackingData\":null,\"value\":{\"type\":\"AnnouncementValue\",\"imageValue\":{\"type\":\"ImageValue\",\"dynamicImageUrl\":\"http://rukmini1.flixcart.com/image/{@width}/{@height}/prod-fk-cms-brand-images/73835bee4fe76789e16fbba7aec0d1f1552d2059d373a616b90b235726f06a61.jpg?q={@quality}\",\"height\":0,\"width\":0},\"title\":\"This is a genuine product of Puma Sports India Pvt Ltd. The product comes with a standard brand warranty of 90 days.\"}},\"knowMore\":{\"action\":{\"constraints\":null,\"fallback\":null,\"loginType\":\"LOGIN_NOT_REQUIRED\",\"omnitureData\":null,\"originalUrl\":\"https://www.flipkart.com/item/product-warranty/itemId?pageKey=product-warranty&marketplace=FLIPKART&lid=LSTSHOF32HGW4SNK2DM6XG3EX&pid=SHOF32HGW4SNK2DM\",\"params\":{\"valid\":true,\"marketplace\":\"FLIPKART\",\"screenName\":\"INTERNAL_DELIVERY_PAGE\",\"pids\":[\"itemId\"],\"lids\":[\"LSTSHOF32HGW4SNK2DM6XG3EX\"]},\"screenType\":\"productPage\",\"tracking\":{},\"type\":\"NAVIGATION\",\"url\":\"https://www.flipkart.com/item/product-warranty/itemId?pageKey=product-warranty&marketplace=FLIPKART&lid=LSTSHOF32HGW4SNK2DM6XG3EX&pid=SHOF32HGW4SNK2DM\"},\"metaData\":null,\"tracking\":null,\"trackingData\":null,\"value\":{\"type\":\"TextValue\",\"text\":\"Know More\"}},\"manufacturerInfoComponent\":{\"action\":null,\"metaData\":null,\"tracking\":null,\"trackingData\":null,\"value\":{\"type\":\"ProductManufacturerInfoValue\",\"brandInfo\":{\"action\":null,\"metaData\":null,\"tracking\":null,\"trackingData\":null,\"value\":{\"type\":\"AnnouncementValue\",\"title\":\"PUMA\"}},\"contacts\":[{\"title\":\"For any warranty related issues, please call the PUMA Customer Support -\",\"values\":[{\"text\":\"1800-102-7862\",\"type\":\"PHONE\"}]},{\"values\":[{\"text\":\"customercareindia@puma.com\",\"type\":\"EMAIL\"}]}],\"description\":\"\\\"PUMA is one of the world’s leading Sports Brands, designing, developing, selling and marketing footwear, apparel and accessories. For 70 years, PUMA has relentlessly pushed sport and culture forward by creating fast products for the world’s fastest athletes. PUMA offers performance and sport-inspired lifestyle products in categories such as Football, Running and Training, Basketball, Golf, and Motorsports. It collaborates with renowned designers and brands to bring sport influences into street culture and fashion. The PUMA Group owns the brands PUMA, Cobra Golf and stichd. The company distributes its products in more than 120 countries, employs more than 13,000 people worldwide, and is headquartered in Herzogenaurach/Germany.\\r\\n\\\"\"}},\"warrantyComponent\":{\"action\":null,\"metaData\":null,\"tracking\":null,\"trackingData\":null,\"value\":{\"type\":\"ProductWarrantyV2Value\",\"brandInfo\":{\"action\":null,\"metaData\":null,\"tracking\":null,\"trackingData\":null,\"value\":{\"type\":\"AnnouncementValue\",\"imageValue\":{\"type\":\"ImageValue\",\"dynamicImageUrl\":\"http://rukmini1.flixcart.com/image/{@width}/{@height}/prod-fk-cms-brand-images/73835bee4fe76789e16fbba7aec0d1f1552d2059d373a616b90b235726f06a61.jpg?q={@quality}\",\"height\":0,\"width\":0},\"title\":\"This is a genuine product of Puma Sports India Pvt Ltd. The product comes with a standard brand warranty of 90 days.\"}},\"coveredInWarranty\":[\"Manufacturing defects: stitching/ pasting issues, mesh quality, sole integrity. Exchange available within 90 days of purchase, provided the product is not inappropriately used as determined by the Brand.\"],\"notCoveredInWarranty\":[\"Wear & tear\"]}}}}},{\"slotType\":\"LOGICAL\",\"id\":10004,\"parentId\":10002,\"childArrangement\":\"ADJACENT\"},{\"slotType\":\"WIDGET\",\"id\":16,\"parentId\":10002,\"layoutParams\":{\"layoutKey\":\"LIFESTYLE\",\"orientation\":\"\",\"widgetHeight\":150,\"widgetWidth\":12},\"dataId\":\"-557768474\",\"elementId\":\"16-COMPOSED_SWATCH\",\"hasWidgetDataChanged\":true,\"ttl\":3000,\"widget\":{\"type\":\"COMPOSED_SWATCH\",\"viewType\":\"LIFESTYLE\",\"data\":{\"ratingsAndReviews\":{\"action\":{\"constraints\":null,\"fallback\":null,\"loginType\":\"LOGIN_NOT_REQUIRED\",\"omnitureData\":null,\"originalUrl\":null,\"params\":{\"valid\":true,\"vertical\":\"MenCasualShoe\",\"screenName\":\"PRODUCT_REVIEW_PAGE\",\"productId\":\"SHOF32HGW4SNK2DM\",\"category\":\"MenFW\"},\"screenType\":\"multiWidgetPage\",\"tracking\":{},\"type\":\"NAVIGATION\",\"url\":\"/puma-slyde-nu-idp-sneakers-men/product-reviews/itmf3xxcvu8fwgcp?pid=SHOF32HGW4SNK2DM&cat=MenFW&vert=MenCasualShoe\"},\"metaData\":null,\"tracking\":null,\"trackingData\":null,\"value\":{\"type\":\"ReviewSummary\",\"rating\":{\"type\":\"RatingValue\",\"average\":4.2,\"base\":5,\"breakup\":[856,443,1217,2988,6579],\"count\":12083,\"histogramBaseCount\":6579,\"reviewCount\":1906},\"reviewCount\":1906}},\"singleAttributeSwatch\":null,\"sizeChartData\":{\"action\":null,\"metaData\":null,\"tracking\":null,\"trackingData\":null,\"value\":{\"type\":\"SizeChartV2Value\",\"measurementGuidelines\":{\"measurementGuidelineInfoList\":[{\"description\":\"Not sure about your shoe size? Follow these simple steps to figure it out:  \\n***1.*** Place your foot on a blank sheet of paper  \\n***2.*** Make one marking at your longest toe and one marking at the backside of your heel  \\n***3.*** Measure (in centimetres) the length of your foot between these two markings  \\n***4.*** Compare the value to our measurement chart to know your shoe size\",\"richContentList\":[{\"contentType\":\"Image\",\"url\":\"http://rukmini1.flixcart.com/www/{@width}/{@height}/prod/images/sizechart/shoe-8ec9e675.jpg?q={@quality}\"}]}]},\"sizeChartInfo\":{\"headers\":[{\"headerId\":0,\"headerName\":\"UK/India\"},{\"headerId\":2,\"headerName\":\"Length (in cm)\"},{\"headerId\":1,\"headerName\":\"Brand Size\"},{\"headerId\":3,\"headerName\":\"Euro\"}],\"rows\":[{\"cells\":[{\"headerId\":0,\"value\":\"6\"},{\"headerId\":2,\"value\":\"24.5\"},{\"headerId\":1,\"value\":\"6\"},{\"headerId\":3,\"value\":\"39\"}]},{\"cells\":[{\"headerId\":0,\"value\":\"7\"},{\"headerId\":2,\"value\":\"25.4\"},{\"headerId\":1,\"value\":\"7\"},{\"headerId\":3,\"value\":\"40.5\"}]},{\"cells\":[{\"headerId\":0,\"value\":\"8\"},{\"headerId\":2,\"value\":\"26.2\"},{\"headerId\":1,\"value\":\"8\"},{\"headerId\":3,\"value\":\"42\"}]},{\"cells\":[{\"headerId\":0,\"value\":\"9\"},{\"headerId\":2,\"value\":\"27.1\"},{\"headerId\":1,\"value\":\"9\"},{\"headerId\":3,\"value\":\"43\"}]},{\"cells\":[{\"headerId\":0,\"value\":\"10\"},{\"headerId\":2,\"value\":\"27.9\"},{\"headerId\":1,\"value\":\"10\"},{\"headerId\":3,\"value\":\"44.5\"}]},{\"cells\":[{\"headerId\":0,\"value\":\"11\"},{\"headerId\":2,\"value\":\"28.8\"},{\"headerId\":1,\"value\":\"11\"},{\"headerId\":3,\"value\":\"46\"}]}]}}},\"swatchComponent\":{\"action\":null,\"metaData\":null,\"tracking\":null,\"trackingData\":null,\"value\":{\"type\":\"ProductSwatchValue\",\"attributeOptions\":[[{\"imageUrl\":\"http://rukmini1.flixcart.com/image/{@width}/{@height}/jynat8w0/shoe/s/a/q/366216-4-puma-black-original-imafgzq3axpcmyqa.jpeg?q={@quality}\",\"value\":\"Black\"},{\"imageUrl\":\"http://rukmini1.flixcart.com/image/{@width}/{@height}/jasj6a80/shoe/s/h/p/slyde-dp-nw1-9-puma-black-cherry-tomato-original-imafyazbzkrza56z.jpeg?q={@quality}\",\"paletteColorCodes\":[{\"code\":\"#44120E\",\"weightage\":2.44},{\"code\":\"#1F2023\",\"weightage\":9.75},{\"code\":\"#221E24\",\"weightage\":33.56}],\"value\":\"Black-Cherry Tomato\"},{\"imageUrl\":\"http://rukmini1.flixcart.com/image/{@width}/{@height}/jyg5lzk0/shoe/y/h/4/366216-4-puma-blue-original-imafgzrk3mfrzrhy.jpeg?q={@quality}\",\"value\":\"Blue\"},{\"imageUrl\":\"http://rukmini1.flixcart.com/image/{@width}/{@height}/jasj6a80/shoe/c/d/t/slyde-dp-nw1-9-puma-blue-depths-lapis-blue-original-imafyap2gdyptm8c.jpeg?q={@quality}\",\"paletteColorCodes\":[{\"code\":\"#D2DCE6\",\"weightage\":2.06},{\"code\":\"#212F5C\",\"weightage\":41.12},{\"code\":\"#1F305E\",\"weightage\":3.56}],\"value\":\"Blue Depths-Lapis Blue\"},{\"imageUrl\":\"http://rukmini1.flixcart.com/image/{@width}/{@height}/jfikknk0/shoe/z/6/b/slyde-nu-idp-12-puma-blue-depths-lapis-blue-original-imaf3ygyh5zkzg7u.jpeg?q={@quality}\",\"paletteColorCodes\":[{\"code\":\"#322F76\",\"weightage\":100}],\"value\":\"Blue Depths-Lapis blue\"},{\"imageUrl\":\"http://rukmini1.flixcart.com/image/{@width}/{@height}/jg15aq80/shoe/a/5/g/slyde-nu-idp-ss18-10-puma-golden-brown-chocolate-brown-original-imaf4dfpbvb2efpf.jpeg?q={@quality}\",\"value\":\"Golden Brown-Chocolate Brown\"},{\"imageUrl\":\"http://rukmini1.flixcart.com/image/{@width}/{@height}/jatym4w0/shoe/h/s/p/slyde-dp-nw1-8-puma-mykonos-blue-nrgy-yellow-white-original-imafyaz8hmnnjjxr.jpeg?q={@quality}\",\"paletteColorCodes\":[{\"code\":\"#5A9778\",\"weightage\":2.38},{\"code\":\"#3D97C5\",\"weightage\":6.94},{\"code\":\"#4296B8\",\"weightage\":11.31}],\"value\":\"MYKONOS BLUE-NRGY YELLOW-WHITE\"},{\"imageUrl\":\"http://rukmini1.flixcart.com/image/{@width}/{@height}/jasj6a80/shoe/q/w/h/slyde-dp-nw1-9-puma-olive-night-original-imafyazfurzpwfkh.jpeg?q={@quality}\",\"paletteColorCodes\":[{\"code\":\"#786964\",\"weightage\":10.12},{\"code\":\"#756B5F\",\"weightage\":0.94},{\"code\":\"#766C63\",\"weightage\":1.56}],\"value\":\"Olive Night\"},{\"imageUrl\":\"http://rukmini1.flixcart.com/image/{@width}/{@height}/jg2kqkw0/shoe/2/d/m/slyde-nu-idp-ss18-11-puma-peacoat-infinity-original-imaf4eyvnme7nh5t.jpeg?q={@quality}\",\"value\":\"Peacoat-Infinity\"},{\"imageUrl\":\"http://rukmini1.flixcart.com/image/{@width}/{@height}/jeek8sw0/shoe/a/w/g/slyde-nu-idp-12-puma-puma-black-cherry-tomato-original-imaf33ff5tvswkqk.jpeg?q={@quality}\",\"paletteColorCodes\":[{\"code\":\"#FF683D\",\"weightage\":48.61},{\"code\":\"#502119\",\"weightage\":0.12},{\"code\":\"#CF7863\",\"weightage\":0.09}],\"value\":\"Puma Black-Cherry Tomato\"},{\"imageUrl\":\"http://rukmini1.flixcart.com/image/{@width}/{@height}/jg2kqkw0/shoe/q/m/c/slyde-nu-idp-ss18-6-puma-puma-black-electric-blue-lemonade-original-imaf4ef2pquhygks.jpeg?q={@quality}\",\"paletteColorCodes\":[{\"code\":\"#151522\",\"weightage\":2.5},{\"code\":\"#0C104D\",\"weightage\":2.44},{\"code\":\"#101FB6\",\"weightage\":2.62}],\"value\":\"Puma Black-Electric Blue Lemonade\"},{\"imageUrl\":\"http://rukmini1.flixcart.com/image/{@width}/{@height}/jialea80/shoe/z/b/7/slyde-nu-idp-ss18-7-puma-quiet-shade-peacoat-original-imaf64ghzwzvtmw7.jpeg?q={@quality}\",\"value\":\"QUIET SHADE-Peacoat\"},{\"imageUrl\":\"http://rukmini1.flixcart.com/image/{@width}/{@height}/jar3qfk0/shoe/x/f/q/slyde-dp-nw1-8-puma-tibetan-red-cherry-tomato-original-imafy98tynqwuhjr.jpeg?q={@quality}\",\"paletteColorCodes\":[{\"code\":\"#441920\",\"weightage\":2.75},{\"code\":\"#E3C9CD\",\"weightage\":3.19},{\"code\":\"#4D161C\",\"weightage\":39.75}],\"value\":\"Tibetan Red-Cherry Tomato\"}],[{\"value\":\"4\"},{\"description\":{\"Euro\":\"39 \"},\"value\":\"6\"},{\"description\":{\"Euro\":\"40.5 \"},\"value\":\"7\"},{\"description\":{\"Euro\":\"42 \"},\"value\":\"8\"},{\"description\":{\"Euro\":\"43 \"},\"value\":\"9\"},{\"description\":{\"Euro\":\"44.5 \"},\"value\":\"10\"},{\"description\":{\"Euro\":\"46 \"},\"value\":\"11\"},{\"value\":\"12\"}]],\"attributes\":[{\"compulsory\":false,\"dropNonWhitelistedOptions\":false,\"id\":\"color\",\"queryInfo\":{\"key\":\"sattr[]\",\"operation\":\"APPEND\",\"value\":\"color\"},\"selected\":true,\"showOnBrowsePage\":true,\"singleAttributeSwatchEnabled\":true,\"text\":\"Color\",\"type\":\"IMAGE\",\"viewOnly\":true,\"viewType\":\"BOX\"},{\"compulsory\":true,\"dropNonWhitelistedOptions\":false,\"id\":\"size\",\"queryInfo\":{\"key\":\"sattr[]\",\"operation\":\"APPEND\",\"value\":\"size\"},\"selected\":false,\"showOnBrowsePage\":true,\"singleAttributeSwatchEnabled\":false,\"sizeChartInfo\":{\"displayText\":\"Size Chart\",\"url\":\"https://www.flipkart.com/rv/sizechart?pid=SHOF32HGW4SNK2DM\"},\"text\":\"Size- UK/India\",\"type\":\"TEXT\",\"viewOnly\":false,\"viewType\":\"BOX\"}],\"products\":{\"SHOEVXU7AZTGMHZH\":{\"attributeIndexes\":[12,3],\"available\":false,\"grade\":{\"color\":null,\"id\":null,\"name\":null,\"shortDesc\":null},\"images\":[{\"aspectRatio\":\"5:6\",\"contentInfo\":null,\"height\":null,\"url\":\"http://rukmini1.flixcart.com/image/{@width}/{@height}/jar3qfk0/shoe/x/f/q/slyde-dp-nw1-8-puma-tibetan-red-cherry-tomato-original-imafy98tynqwuhjr.jpeg?q={@quality}\",\"width\":null},{\"aspectRatio\":\"5:6\",\"contentInfo\":null,\"height\":null,\"url\":\"http://rukmini1.flixcart.com/image/{@width}/{@height}/jar3qfk0/shoe/x/f/q/slyde-dp-nw1-8-puma-tibetan-red-cherry-tomato-original-imafy98tx9ap2czp.jpeg?q={@quality}\",\"width\":null},{\"aspectRatio\":\"5:6\",\"contentInfo\":null,\"height\":null,\"url\":\"http://rukmini1.flixcart.com/image/{@width}/{@height}/jar3qfk0/shoe/x/f/q/slyde-dp-nw1-8-puma-tibetan-red-cherry-tomato-original-imafy9gzrnnuymhg.jpeg?q={@quality}\",\"width\":null},{\"aspectRatio\":\"5:6\",\"contentInfo\":null,\"height\":null,\"url\":\"http://rukmini1.flixcart.com/image/{@width}/{@height}/jar3qfk0/shoe/x/f/q/slyde-dp-nw1-8-puma-tibetan-red-cherry-tomato-original-imafy98twmpquhwb.jpeg?q={@quality}\",\"width\":null}],\"listingId\":\"LSTSHOEVXU7AZTGMHZHDCMOXM\",\"productUrl\":\"/puma-slyde-dp-sneakers-men/p/itmf3yyjrwstqpsp?pid=SHOEVXU7AZTGMHZH&lid=LSTSHOEVXU7AZTGMHZHDCMOXM&marketplace=FLIPKART\",\"quickViewUrl\":\"/quick-view?pid=SHOEVXU7AZTGMHZH&lid=LSTSHOEVXU7AZTGMHZHDCMOXM\",\"smartUrl\":\"http://dl.flipkart.com/dl/puma-slyde-dp-sneakers-men/p/itmf3yyjrwstqpsp?pid=SHOEVXU7AZTGMHZH\",\"titles\":{\"coSubtitle\":\"Size: 8\",\"newTitle\":\"Slyde DP Sneakers For Men\",\"subtitle\":\"Red, Maroon\",\"superTitle\":\"Puma\",\"title\":\"Puma Slyde DP Sneakers For Men\"}},\"SHOEVXU7DWFHKXFQ\":{\"attributeIndexes\":[12,6],\"available\":false,\"grade\":{\"color\":null,\"id\":null,\"name\":null,\"shortDesc\":null},\"images\":[{\"aspectRatio\":\"5:6\",\"contentInfo\":null,\"height\":null,\"url\":\"http://rukmini1.flixcart.com/image/{@width}/{@height}/jar3qfk0/shoe/x/f/q/slyde-dp-nw1-8-puma-tibetan-red-cherry-tomato-original-imafy98tynqwuhjr.jpeg?q={@quality}\",\"width\":null},{\"aspectRatio\":\"5:6\",\"contentInfo\":null,\"height\":null,\"url\":\"http://rukmini1.flixcart.com/image/{@width}/{@height}/jar3qfk0/shoe/x/f/q/slyde-dp-nw1-8-puma-tibetan-red-cherry-tomato-original-imafy98tx9ap2czp.jpeg?q={@quality}\",\"width\":null},{\"aspectRatio\":\"5:6\",\"contentInfo\":null,\"height\":null,\"url\":\"http://rukmini1.flixcart.com/image/{@width}/{@height}/jar3qfk0/shoe/x/f/q/slyde-dp-nw1-8-puma-tibetan-red-cherry-tomato-original-imafy9gzrnnuymhg.jpeg?q={@quality}\",\"width\":null},{\"aspectRatio\":\"5:6\",\"contentInfo\":null,\"height\":null,\"url\":\"http://rukmini1.flixcart.com/image/{@width}/{@height}/jar3qfk0/shoe/x/f/q/slyde-dp-nw1-8-puma-tibetan-red-cherry-tomato-original-imafy98twmpquhwb.jpeg?q={@quality}\",\"width\":null}],\"listingId\":\"LSTSHOEVXU7DWFHKXFQSS0MYV\",\"productUrl\":\"/puma-slyde-dp-sneakers-men/p/itmf3yyjrwstqpsp?pid=SHOEVXU7DWFHKXFQ&lid=LSTSHOEVXU7DWFHKXFQSS0MYV&marketplace=FLIPKART\",\"quickViewUrl\":\"/quick-view?pid=SHOEVXU7DWFHKXFQ&lid=LSTSHOEVXU7DWFHKXFQSS0MYV\",\"smartUrl\":\"http://dl.flipkart.com/dl/puma-slyde-dp-sneakers-men/p/itmf3yyjrwstqpsp?pid=SHOEVXU7DWFHKXFQ\",\"titles\":{\"coSubtitle\":\"Size: 11\",\"newTitle\":\"Slyde DP Sneakers For Men\",\"subtitle\":\"Maroon\",\"superTitle\":\"Puma\",\"title\":\"Puma Slyde DP Sneakers For Men\"}},\"SHOEVXU7QCHWHBQH\":{\"attributeIndexes\":[6,6],\"available\":false,\"grade\":{\"color\":null,\"id\":null,\"name\":null,\"shortDesc\":null},\"images\":[{\"aspectRatio\":\"5:6\",\"contentInfo\":null,\"height\":null,\"url\":\"http://rukmini1.flixcart.com/image/{@width}/{@height}/jatym4w0/shoe/h/s/p/slyde-dp-nw1-8-puma-mykonos-blue-nrgy-yellow-white-original-imafyaz8hmnnjjxr.jpeg?q={@quality}\",\"width\":null},{\"aspectRatio\":\"5:6\",\"contentInfo\":null,\"height\":null,\"url\":\"http://rukmini1.flixcart.com/image/{@width}/{@height}/jasj6a80/shoe/h/s/p/slyde-dp-nw1-8-puma-mykonos-blue-nrgy-yellow-white-original-imafyazgkypmpnx6.jpeg?q={@quality}\",\"width\":null},{\"aspectRatio\":\"5:6\",\"contentInfo\":null,\"height\":null,\"url\":\"http://rukmini1.flixcart.com/image/{@width}/{@height}/jasj6a80/shoe/h/s/p/slyde-dp-nw1-8-puma-mykonos-blue-nrgy-yellow-white-original-imafyazdazphaurx.jpeg?q={@quality}\",\"width\":null},{\"aspectRatio\":\"5:6\",\"contentInfo\":null,\"height\":null,\"url\":\"http://rukmini1.flixcart.com/image/{@width}/{@height}/jasj6a80/shoe/h/s/p/slyde-dp-nw1-8-puma-mykonos-blue-nrgy-yellow-white-original-imafyazdmutzq7xz.jpeg?q={@quality}\",\"width\":null}],\"listingId\":\"LSTSHOEVXU7QCHWHBQHN6KXGY\",\"productUrl\":\"/puma-slyde-dp-sneakers-men/p/itmf8gp2krgwsqzu?pid=SHOEVXU7QCHWHBQH&lid=LSTSHOEVXU7QCHWHBQHN6KXGY&marketplace=FLIPKART\",\"quickViewUrl\":\"/quick-view?pid=SHOEVXU7QCHWHBQH&lid=LSTSHOEVXU7QCHWHBQHN6KXGY\",\"smartUrl\":\"http://dl.flipkart.com/dl/puma-slyde-dp-sneakers-men/p/itmf8gp2krgwsqzu?pid=SHOEVXU7QCHWHBQH\",\"titles\":{\"coSubtitle\":\"Size: 11\",\"newTitle\":\"Slyde DP Sneakers For Men\",\"subtitle\":\"Blue\",\"superTitle\":\"Puma\",\"title\":\"Puma Slyde DP Sneakers For Men\"}},\"SHOEVXU76FSZSHSP\":{\"attributeIndexes\":[6,5],\"available\":false,\"grade\":{\"color\":null,\"id\":null,\"name\":null,\"shortDesc\":null},\"images\":[{\"aspectRatio\":\"5:6\",\"contentInfo\":null,\"height\":null,\"url\":\"http://rukmini1.flixcart.com/image/{@width}/{@height}/jatym4w0/shoe/h/s/p/slyde-dp-nw1-8-puma-mykonos-blue-nrgy-yellow-white-original-imafyaz8hmnnjjxr.jpeg?q={@quality}\",\"width\":null},{\"aspectRatio\":\"5:6\",\"contentInfo\":null,\"height\":null,\"url\":\"http://rukmini1.flixcart.com/image/{@width}/{@height}/jasj6a80/shoe/h/s/p/slyde-dp-nw1-8-puma-mykonos-blue-nrgy-yellow-white-original-imafyazgkypmpnx6.jpeg?q={@quality}\",\"width\":null},{\"aspectRatio\":\"5:6\",\"contentInfo\":null,\"height\":null,\"url\":\"http://rukmini1.flixcart.com/image/{@width}/{@height}/jasj6a80/shoe/h/s/p/slyde-dp-nw1-8-puma-mykonos-blue-nrgy-yellow-white-original-imafyazdazphaurx.jpeg?q={@quality}\",\"width\":null},{\"aspectRatio\":\"5:6\",\"contentInfo\":null,\"height\":null,\"url\":\"http://rukmini1.flixcart.com/image/{@width}/{@height}/jasj6a80/shoe/h/s/p/slyde-dp-nw1-8-puma-mykonos-blue-nrgy-yellow-white-original-imafyazdmutzq7xz.jpeg?q={@quality}\",\"width\":null}],\"listingId\":\"LSTSHOEVXU76FSZSHSPD68WYN\",\"productUrl\":\"/puma-slyde-dp-sneakers-men/p/itmf8gp2krgwsqzu?pid=SHOEVXU76FSZSHSP&lid=LSTSHOEVXU76FSZSHSPD68WYN&marketplace=FLIPKART\",\"quickViewUrl\":\"/quick-view?pid=SHOEVXU76FSZSHSP&lid=LSTSHOEVXU76FSZSHSPD68WYN\",\"smartUrl\":\"http://dl.flipkart.com/dl/puma-slyde-dp-sneakers-men/p/itmf8gp2krgwsqzu?pid=SHOEVXU76FSZSHSP\",\"titles\":{\"coSubtitle\":\"Size: 10\",\"newTitle\":\"Slyde DP Sneakers For Men\",\"subtitle\":\"Green, Blue\",\"superTitle\":\"Puma\",\"title\":\"Puma Slyde DP Sneakers For Men\"}},\"SHOEVXU7EEG8ZQ5E\":{\"attributeIndexes\":[12,5],\"available\":false,\"grade\":{\"color\":null,\"id\":null,\"name\":null,\"shortDesc\":null},\"images\":[{\"aspectRatio\":\"5:6\",\"contentInfo\":null,\"height\":null,\"url\":\"http://rukmini1.flixcart.com/image/{@width}/{@height}/jar3qfk0/shoe/x/f/q/slyde-dp-nw1-8-puma-tibetan-red-cherry-tomato-original-imafy98tynqwuhjr.jpeg?q={@quality}\",\"width\":null},{\"aspectRatio\":\"5:6\",\"contentInfo\":null,\"height\":null,\"url\":\"http://rukmini1.flixcart.com/image/{@width}/{@height}/jar3qfk0/shoe/x/f/q/slyde-dp-nw1-8-puma-tibetan-red-cherry-tomato-original-imafy98tx9ap2czp.jpeg?q={@quality}\",\"width\":null},{\"aspectRatio\":\"5:6\",\"contentInfo\":null,\"height\":null,\"url\":\"http://rukmini1.flixcart.com/image/{@width}/{@height}/jar3qfk0/shoe/x/f/q/slyde-dp-nw1-8-puma-tibetan-red-cherry-tomato-original-imafy9gzrnnuymhg.jpeg?q={@quality}\",\"width\":null},{\"aspectRatio\":\"5:6\",\"contentInfo\":null,\"height\":null,\"url\":\"http://rukmini1.flixcart.com/image/{@width}/{@height}/jar3qfk0/shoe/x/f/q/slyde-dp-nw1-8-puma-tibetan-red-cherry-tomato-original-imafy98twmpquhwb.jpeg?q={@quality}\",\"width\":null}],\"listingId\":\"LSTSHOEVXU7EEG8ZQ5EDWYGGB\",\"productUrl\":\"/puma-slyde-dp-sneakers-men/p/itmf3yyjrwstqpsp?pid=SHOEVXU7EEG8ZQ5E&lid=LSTSHOEVXU7EEG8ZQ5EDWYGGB&marketplace=FLIPKART\",\"quickViewUrl\":\"/quick-view?pid=SHOEVXU7EEG8ZQ5E&lid=LSTSHOEVXU7EEG8ZQ5EDWYGGB\",\"smartUrl\":\"http://dl.flipkart.com/dl/puma-slyde-dp-sneakers-men/p/itmf3yyjrwstqpsp?pid=SHOEVXU7EEG8ZQ5E\",\"titles\":{\"coSubtitle\":\"Size: 10\",\"newTitle\":\"Slyde DP Sneakers For Men\",\"subtitle\":\"Maroon\",\"superTitle\":\"Puma\",\"title\":\"Puma Slyde DP Sneakers For Men\"}},\"SHOF32HGCGHXGH82\":{\"attributeIndexes\":[8,3],\"available\":false,\"grade\":{\"color\":null,\"id\":null,\"name\":null,\"shortDesc\":null},\"images\":[{\"aspectRatio\":\"5:6\",\"contentInfo\":null,\"height\":null,\"url\":\"http://rukmini1.flixcart.com/image/{@width}/{@height}/jg2kqkw0/shoe/2/d/m/slyde-nu-idp-ss18-11-puma-peacoat-infinity-original-imaf4eyvnme7nh5t.jpeg?q={@quality}\",\"width\":null},{\"aspectRatio\":\"5:6\",\"contentInfo\":null,\"height\":null,\"url\":\"http://rukmini1.flixcart.com/image/{@width}/{@height}/jg2kqkw0/shoe/2/d/m/slyde-nu-idp-ss18-11-puma-peacoat-infinity-original-imaf4eyvvba4b6dz.jpeg?q={@quality}\",\"width\":null},{\"aspectRatio\":\"5:6\",\"contentInfo\":null,\"height\":null,\"url\":\"http://rukmini1.flixcart.com/image/{@width}/{@height}/jg2kqkw0/shoe/2/d/m/slyde-nu-idp-ss18-11-puma-peacoat-infinity-original-imaf4ef5ebvayufn.jpeg?q={@quality}\",\"width\":null},{\"aspectRatio\":\"5:6\",\"contentInfo\":null,\"height\":null,\"url\":\"http://rukmini1.flixcart.com/image/{@width}/{@height}/jg2kqkw0/shoe/2/d/m/slyde-nu-idp-ss18-11-puma-peacoat-infinity-original-imaf4eyvdvzhzbxf.jpeg?q={@quality}\",\"width\":null},{\"aspectRatio\":\"5:6\",\"contentInfo\":null,\"height\":null,\"url\":\"http://rukmini1.flixcart.com/image/{@width}/{@height}/jg2kqkw0/shoe/2/d/m/slyde-nu-idp-ss18-11-puma-peacoat-infinity-original-imaf4eywx4e677gv.jpeg?q={@quality}\",\"width\":null},{\"aspectRatio\":\"5:6\",\"contentInfo\":null,\"height\":null,\"url\":\"http://rukmini1.flixcart.com/image/{@width}/{@height}/jg2kqkw0/shoe/2/d/m/slyde-nu-idp-ss18-11-puma-peacoat-infinity-original-imaf4eyvawfy8agw.jpeg?q={@quality}\",\"width\":null}],\"listingId\":\"LSTSHOF32HGCGHXGH82CABUON\",\"productUrl\":\"/puma-slyde-nu-idp-sneakers-men/p/itmf3xxcvu8fwgcp?pid=SHOF32HGCGHXGH82&lid=LSTSHOF32HGCGHXGH82CABUON&marketplace=FLIPKART\",\"quickViewUrl\":\"/quick-view?pid=SHOF32HGCGHXGH82&lid=LSTSHOF32HGCGHXGH82CABUON\",\"smartUrl\":\"http://dl.flipkart.com/dl/puma-slyde-nu-idp-sneakers-men/p/itmf3xxcvu8fwgcp?pid=SHOF32HGCGHXGH82\",\"titles\":{\"coSubtitle\":\"Size: 8\",\"newTitle\":\"Slyde NU IDP Sneakers For Men\",\"subtitle\":\"Blue\",\"superTitle\":\"Puma\",\"title\":\"Puma Slyde NU IDP Sneakers For Men\"}},\"SHOF32HGADZY3A5G\":{\"attributeIndexes\":[5,5],\"available\":false,\"grade\":{\"color\":null,\"id\":null,\"name\":null,\"shortDesc\":null},\"images\":[{\"aspectRatio\":\"5:6\",\"contentInfo\":null,\"height\":null,\"url\":\"http://rukmini1.flixcart.com/image/{@width}/{@height}/jg15aq80/shoe/a/5/g/slyde-nu-idp-ss18-10-puma-golden-brown-chocolate-brown-original-imaf4dfpbvb2efpf.jpeg?q={@quality}\",\"width\":null},{\"aspectRatio\":\"5:6\",\"contentInfo\":null,\"height\":null,\"url\":\"http://rukmini1.flixcart.com/image/{@width}/{@height}/jg15aq80/shoe/a/5/g/slyde-nu-idp-ss18-10-puma-golden-brown-chocolate-brown-original-imaf4dfpsd6hvgbg.jpeg?q={@quality}\",\"width\":null},{\"aspectRatio\":\"5:6\",\"contentInfo\":null,\"height\":null,\"url\":\"http://rukmini1.flixcart.com/image/{@width}/{@height}/jg15aq80/shoe/a/5/g/slyde-nu-idp-ss18-10-puma-golden-brown-chocolate-brown-original-imaf4dfpx4rmfsb3.jpeg?q={@quality}\",\"width\":null},{\"aspectRatio\":\"5:6\",\"contentInfo\":null,\"height\":null,\"url\":\"http://rukmini1.flixcart.com/image/{@width}/{@height}/jg15aq80/shoe/a/5/g/slyde-nu-idp-ss18-10-puma-golden-brown-chocolate-brown-original-imaf4dfpk3jzt8un.jpeg?q={@quality}\",\"width\":null},{\"aspectRatio\":\"5:6\",\"contentInfo\":null,\"height\":null,\"url\":\"http://rukmini1.flixcart.com/image/{@width}/{@height}/jg15aq80/shoe/a/5/g/slyde-nu-idp-ss18-10-puma-golden-brown-chocolate-brown-original-imaf4dfpyxbkaerp.jpeg?q={@quality}\",\"width\":null},{\"aspectRatio\":\"5:6\",\"contentInfo\":null,\"height\":null,\"url\":\"http://rukmini1.flixcart.com/image/{@width}/{@height}/jg15aq80/shoe/a/5/g/slyde-nu-idp-ss18-10-puma-golden-brown-chocolate-brown-original-imaf4dfpznhhzzvc.jpeg?q={@quality}\",\"width\":null}],\"listingId\":\"LSTSHOF32HGADZY3A5GWPYPDF\",\"productUrl\":\"/puma-slyde-nu-idp-sneakers-men/p/itmf3xxbeedynhxe?pid=SHOF32HGADZY3A5G&lid=LSTSHOF32HGADZY3A5GWPYPDF&marketplace=FLIPKART\",\"quickViewUrl\":\"/quick-view?pid=SHOF32HGADZY3A5G&lid=LSTSHOF32HGADZY3A5GWPYPDF\",\"smartUrl\":\"http://dl.flipkart.com/dl/puma-slyde-nu-idp-sneakers-men/p/itmf3xxbeedynhxe?pid=SHOF32HGADZY3A5G\",\"titles\":{\"coSubtitle\":\"Size: 10\",\"newTitle\":\"Slyde NU IDP Sneakers For Men\",\"subtitle\":\"Tan, Brown\",\"superTitle\":\"Puma\",\"title\":\"Puma Slyde NU IDP Sneakers For Men\"}},\"SHOEVXU7RUHJQSHP\":{\"attributeIndexes\":[1,6],\"available\":false,\"grade\":{\"color\":null,\"id\":null,\"name\":null,\"shortDesc\":null},\"images\":[{\"aspectRatio\":\"5:6\",\"contentInfo\":null,\"height\":null,\"url\":\"http://rukmini1.flixcart.com/image/{@width}/{@height}/jasj6a80/shoe/s/h/p/slyde-dp-nw1-9-puma-black-cherry-tomato-original-imafyazbzkrza56z.jpeg?q={@quality}\",\"width\":null},{\"aspectRatio\":\"5:6\",\"contentInfo\":null,\"height\":null,\"url\":\"http://rukmini1.flixcart.com/image/{@width}/{@height}/jcrz6vk0/shoe/s/h/p/slyde-dp-nw1-11-puma-black-cherry-tomato-original-imaffu2qdhufnqjj.jpeg?q={@quality}\",\"width\":null},{\"aspectRatio\":\"5:6\",\"contentInfo\":null,\"height\":null,\"url\":\"http://rukmini1.flixcart.com/image/{@width}/{@height}/jatym4w0/shoe/s/h/p/slyde-dp-nw1-9-puma-black-cherry-tomato-original-imafyazvsepwggfs.jpeg?q={@quality}\",\"width\":null},{\"aspectRatio\":\"5:6\",\"contentInfo\":null,\"height\":null,\"url\":\"http://rukmini1.flixcart.com/image/{@width}/{@height}/jasj6a80/shoe/s/h/p/slyde-dp-nw1-9-puma-black-cherry-tomato-original-imafyazbry6vymzw.jpeg?q={@quality}\",\"width\":null},{\"aspectRatio\":\"5:6\",\"contentInfo\":null,\"height\":null,\"url\":\"http://rukmini1.flixcart.com/image/{@width}/{@height}/jasj6a80/shoe/s/h/p/slyde-dp-nw1-9-puma-black-cherry-tomato-original-imafyazbgmft2zcb.jpeg?q={@quality}\",\"width\":null}],\"listingId\":\"LSTSHOEVXU7RUHJQSHP8JMNXD\",\"productUrl\":\"/puma-slyde-dp-sneakers-men/p/itmf3yyjxjzy2wkm?pid=SHOEVXU7RUHJQSHP&lid=LSTSHOEVXU7RUHJQSHP8JMNXD&marketplace=FLIPKART\",\"quickViewUrl\":\"/quick-view?pid=SHOEVXU7RUHJQSHP&lid=LSTSHOEVXU7RUHJQSHP8JMNXD\",\"smartUrl\":\"http://dl.flipkart.com/dl/puma-slyde-dp-sneakers-men/p/itmf3yyjxjzy2wkm?pid=SHOEVXU7RUHJQSHP\",\"titles\":{\"coSubtitle\":\"Size: 11\",\"newTitle\":\"Slyde DP Sneakers For Men\",\"subtitle\":\"Black\",\"superTitle\":\"Puma\",\"title\":\"Puma Slyde DP Sneakers For Men\"}},\"SHOEVXU7HRNK4ZPF\":{\"attributeIndexes\":[7,1],\"available\":false,\"grade\":{\"color\":null,\"id\":null,\"name\":null,\"shortDesc\":null},\"images\":[{\"aspectRatio\":\"5:6\",\"contentInfo\":null,\"height\":null,\"url\":\"http://rukmini1.flixcart.com/image/{@width}/{@height}/jasj6a80/shoe/q/w/h/slyde-dp-nw1-9-puma-olive-night-original-imafyazfurzpwfkh.jpeg?q={@quality}\",\"width\":null},{\"aspectRatio\":\"5:6\",\"contentInfo\":null,\"height\":null,\"url\":\"http://rukmini1.flixcart.com/image/{@width}/{@height}/jasj6a80/shoe/q/w/h/slyde-dp-nw1-9-puma-olive-night-original-imafyazfzdxjtgyj.jpeg?q={@quality}\",\"width\":null},{\"aspectRatio\":\"5:6\",\"contentInfo\":null,\"height\":null,\"url\":\"http://rukmini1.flixcart.com/image/{@width}/{@height}/jasj6a80/shoe/q/w/h/slyde-dp-nw1-9-puma-olive-night-original-imafyarff87pen27.jpeg?q={@quality}\",\"width\":null},{\"aspectRatio\":\"5:6\",\"contentInfo\":null,\"height\":null,\"url\":\"http://rukmini1.flixcart.com/image/{@width}/{@height}/jasj6a80/shoe/q/w/h/slyde-dp-nw1-9-puma-olive-night-original-imafyazmtzhakgu8.jpeg?q={@quality}\",\"width\":null}],\"listingId\":\"LSTSHOEVXU7HRNK4ZPFQM2S0K\",\"productUrl\":\"/puma-slyde-dp-sneakers-men/p/itmf8gp2h5ztyzzx?pid=SHOEVXU7HRNK4ZPF&lid=LSTSHOEVXU7HRNK4ZPFQM2S0K&marketplace=FLIPKART\",\"quickViewUrl\":\"/quick-view?pid=SHOEVXU7HRNK4ZPF&lid=LSTSHOEVXU7HRNK4ZPFQM2S0K\",\"smartUrl\":\"http://dl.flipkart.com/dl/puma-slyde-dp-sneakers-men/p/itmf8gp2h5ztyzzx?pid=SHOEVXU7HRNK4ZPF\",\"titles\":{\"coSubtitle\":\"Size: 6\",\"newTitle\":\"Slyde DP Sneakers For Men\",\"subtitle\":\"Olive\",\"superTitle\":\"Puma\",\"title\":\"Puma Slyde DP Sneakers For Men\"}},\"SHOFGZKZ5WZHMCTU\":{\"attributeIndexes\":[0,0],\"available\":false,\"grade\":{\"color\":null,\"id\":null,\"name\":null,\"shortDesc\":null},\"images\":[{\"aspectRatio\":\"5:6\",\"contentInfo\":null,\"height\":null,\"url\":\"http://rukmini1.flixcart.com/image/{@width}/{@height}/jynat8w0/shoe/s/a/q/366216-4-puma-black-original-imafgzq3axpcmyqa.jpeg?q={@quality}\",\"width\":null},{\"aspectRatio\":\"5:6\",\"contentInfo\":null,\"height\":null,\"url\":\"http://rukmini1.flixcart.com/image/{@width}/{@height}/jynat8w0/shoe/s/a/q/366216-4-puma-black-original-imafgzq3eyr9vufm.jpeg?q={@quality}\",\"width\":null},{\"aspectRatio\":\"5:6\",\"contentInfo\":null,\"height\":null,\"url\":\"http://rukmini1.flixcart.com/image/{@width}/{@height}/jynat8w0/shoe/s/a/q/366216-4-puma-black-original-imafgzq3wzx22rhq.jpeg?q={@quality}\",\"width\":null},{\"aspectRatio\":\"5:6\",\"contentInfo\":null,\"height\":null,\"url\":\"http://rukmini1.flixcart.com/image/{@width}/{@height}/jynat8w0/shoe/s/a/q/366216-4-puma-black-original-imafgzq3zyjgzfxr.jpeg?q={@quality}\",\"width\":null},{\"aspectRatio\":\"5:6\",\"contentInfo\":null,\"height\":null,\"url\":\"http://rukmini1.flixcart.com/image/{@width}/{@height}/jynat8w0/shoe/s/a/q/366216-4-puma-black-original-imafgzq3dhsvf2mv.jpeg?q={@quality}\",\"width\":null}],\"listingId\":\"LSTSHOFGZKZ5WZHMCTUJ3TBZE\",\"productUrl\":\"/puma-slyde-men/p/itme1b72552cba83?pid=SHOFGZKZ5WZHMCTU&lid=LSTSHOFGZKZ5WZHMCTUJ3TBZE&marketplace=FLIPKART\",\"quickViewUrl\":\"/quick-view?pid=SHOFGZKZ5WZHMCTU&lid=LSTSHOFGZKZ5WZHMCTUJ3TBZE\",\"smartUrl\":\"http://dl.flipkart.com/dl/puma-slyde-men/p/itme1b72552cba83?pid=SHOFGZKZ5WZHMCTU\",\"titles\":{\"coSubtitle\":\"Size: 4\",\"newTitle\":\"Slyde For Men\",\"subtitle\":\"Black\",\"superTitle\":\"Puma\",\"title\":\"Puma Slyde For Men\"}},\"SHOF32HGY8GPYZB7\":{\"attributeIndexes\":[11,2],\"available\":false,\"grade\":{\"color\":null,\"id\":null,\"name\":null,\"shortDesc\":null},\"images\":[{\"aspectRatio\":\"5:6\",\"contentInfo\":null,\"height\":null,\"url\":\"http://rukmini1.flixcart.com/image/{@width}/{@height}/jialea80/shoe/z/b/7/slyde-nu-idp-ss18-7-puma-quiet-shade-peacoat-original-imaf64ghzwzvtmw7.jpeg?q={@quality}\",\"width\":null},{\"aspectRatio\":\"5:6\",\"contentInfo\":null,\"height\":null,\"url\":\"http://rukmini1.flixcart.com/image/{@width}/{@height}/jialea80/shoe/z/b/7/slyde-nu-idp-ss18-7-puma-quiet-shade-peacoat-original-imaf64ghzwhayfza.jpeg?q={@quality}\",\"width\":null},{\"aspectRatio\":\"5:6\",\"contentInfo\":null,\"height\":null,\"url\":\"http://rukmini1.flixcart.com/image/{@width}/{@height}/jialea80/shoe/z/b/7/slyde-nu-idp-ss18-7-puma-quiet-shade-peacoat-original-imaf64ghu2zq8yt2.jpeg?q={@quality}\",\"width\":null},{\"aspectRatio\":\"5:6\",\"contentInfo\":null,\"height\":null,\"url\":\"http://rukmini1.flixcart.com/image/{@width}/{@height}/jialea80/shoe/z/b/7/slyde-nu-idp-ss18-7-puma-quiet-shade-peacoat-original-imaf64ghv997pnmv.jpeg?q={@quality}\",\"width\":null},{\"aspectRatio\":\"5:6\",\"contentInfo\":null,\"height\":null,\"url\":\"http://rukmini1.flixcart.com/image/{@width}/{@height}/jialea80/shoe/z/b/7/slyde-nu-idp-ss18-7-puma-quiet-shade-peacoat-original-imaf64gh572anzhe.jpeg?q={@quality}\",\"width\":null},{\"aspectRatio\":\"5:6\",\"contentInfo\":null,\"height\":null,\"url\":\"http://rukmini1.flixcart.com/image/{@width}/{@height}/jialea80/shoe/z/b/7/slyde-nu-idp-ss18-7-puma-quiet-shade-peacoat-original-imaf64ghc5q77zsc.jpeg?q={@quality}\",\"width\":null}],\"listingId\":\"LSTSHOF32HGY8GPYZB7ZP3MYJ\",\"productUrl\":\"/puma-slyde-nu-idp-sneakers-men/p/itmf8gp3zzqqpkhg?pid=SHOF32HGY8GPYZB7&lid=LSTSHOF32HGY8GPYZB7ZP3MYJ&marketplace=FLIPKART\",\"quickViewUrl\":\"/quick-view?pid=SHOF32HGY8GPYZB7&lid=LSTSHOF32HGY8GPYZB7ZP3MYJ\",\"smartUrl\":\"http://dl.flipkart.com/dl/puma-slyde-nu-idp-sneakers-men/p/itmf8gp3zzqqpkhg?pid=SHOF32HGY8GPYZB7\",\"titles\":{\"coSubtitle\":\"Size: 7\",\"newTitle\":\"Slyde NU IDP Sneakers For Men\",\"subtitle\":\"Grey\",\"superTitle\":\"Puma\",\"title\":\"Puma Slyde NU IDP Sneakers For Men\"}},\"SHOEVXU79KHSEQWH\":{\"attributeIndexes\":[7,2],\"available\":false,\"grade\":{\"color\":null,\"id\":null,\"name\":null,\"shortDesc\":null},\"images\":[{\"aspectRatio\":\"5:6\",\"contentInfo\":null,\"height\":null,\"url\":\"http://rukmini1.flixcart.com/image/{@width}/{@height}/jasj6a80/shoe/q/w/h/slyde-dp-nw1-9-puma-olive-night-original-imafyazfurzpwfkh.jpeg?q={@quality}\",\"width\":null},{\"aspectRatio\":\"5:6\",\"contentInfo\":null,\"height\":null,\"url\":\"http://rukmini1.flixcart.com/image/{@width}/{@height}/jasj6a80/shoe/q/w/h/slyde-dp-nw1-9-puma-olive-night-original-imafyazfzdxjtgyj.jpeg?q={@quality}\",\"width\":null},{\"aspectRatio\":\"5:6\",\"contentInfo\":null,\"height\":null,\"url\":\"http://rukmini1.flixcart.com/image/{@width}/{@height}/jasj6a80/shoe/q/w/h/slyde-dp-nw1-9-puma-olive-night-original-imafyarff87pen27.jpeg?q={@quality}\",\"width\":null},{\"aspectRatio\":\"5:6\",\"contentInfo\":null,\"height\":null,\"url\":\"http://rukmini1.flixcart.com/image/{@width}/{@height}/jasj6a80/shoe/q/w/h/slyde-dp-nw1-9-puma-olive-night-original-imafyazmtzhakgu8.jpeg?q={@quality}\",\"width\":null}],\"listingId\":\"LSTSHOEVXU79KHSEQWHRTJJNX\",\"productUrl\":\"/puma-slyde-dp-sneakers-men/p/itmf8gp2h5ztyzzx?pid=SHOEVXU79KHSEQWH&lid=LSTSHOEVXU79KHSEQWHRTJJNX&marketplace=FLIPKART\",\"quickViewUrl\":\"/quick-view?pid=SHOEVXU79KHSEQWH&lid=LSTSHOEVXU79KHSEQWHRTJJNX\",\"smartUrl\":\"http://dl.flipkart.com/dl/puma-slyde-dp-sneakers-men/p/itmf8gp2h5ztyzzx?pid=SHOEVXU79KHSEQWH\",\"titles\":{\"coSubtitle\":\"Size: 7\",\"newTitle\":\"Slyde DP Sneakers For Men\",\"subtitle\":\"Olive\",\"superTitle\":\"Puma\",\"title\":\"Puma Slyde DP Sneakers For Men\"}},\"SHOF32HGHZTFFQMC\":{\"attributeIndexes\":[10,5],\"available\":false,\"grade\":{\"color\":null,\"id\":null,\"name\":null,\"shortDesc\":null},\"images\":[{\"aspectRatio\":\"5:6\",\"contentInfo\":null,\"height\":null,\"url\":\"http://rukmini1.flixcart.com/image/{@width}/{@height}/jg2kqkw0/shoe/q/m/c/slyde-nu-idp-ss18-6-puma-puma-black-electric-blue-lemonade-original-imaf4ef2pquhygks.jpeg?q={@quality}\",\"width\":null},{\"aspectRatio\":\"5:6\",\"contentInfo\":null,\"height\":null,\"url\":\"http://rukmini1.flixcart.com/image/{@width}/{@height}/jg2kqkw0/shoe/q/m/c/slyde-nu-idp-ss18-6-puma-puma-black-electric-blue-lemonade-original-imaf4ef222dbjhje.jpeg?q={@quality}\",\"width\":null},{\"aspectRatio\":\"5:6\",\"contentInfo\":null,\"height\":null,\"url\":\"http://rukmini1.flixcart.com/image/{@width}/{@height}/jg2kqkw0/shoe/q/m/c/slyde-nu-idp-ss18-6-puma-puma-black-electric-blue-lemonade-original-imaf4ef2zh8xzacd.jpeg?q={@quality}\",\"width\":null},{\"aspectRatio\":\"5:6\",\"contentInfo\":null,\"height\":null,\"url\":\"http://rukmini1.flixcart.com/image/{@width}/{@height}/jg2kqkw0/shoe/q/m/c/slyde-nu-idp-ss18-6-puma-puma-black-electric-blue-lemonade-original-imaf4ef2hbjeza5p.jpeg?q={@quality}\",\"width\":null},{\"aspectRatio\":\"5:6\",\"contentInfo\":null,\"height\":null,\"url\":\"http://rukmini1.flixcart.com/image/{@width}/{@height}/jg2kqkw0/shoe/q/m/c/slyde-nu-idp-ss18-6-puma-puma-black-electric-blue-lemonade-original-imaf4ef2pkgfhfys.jpeg?q={@quality}\",\"width\":null},{\"aspectRatio\":\"5:6\",\"contentInfo\":null,\"height\":null,\"url\":\"http://rukmini1.flixcart.com/image/{@width}/{@height}/jg2kqkw0/shoe/q/m/c/slyde-nu-idp-ss18-6-puma-puma-black-electric-blue-lemonade-original-imaf4ef2uwjaxzrh.jpeg?q={@quality}\",\"width\":null}],\"listingId\":\"LSTSHOF32HGHZTFFQMCIWSJAY\",\"productUrl\":\"/puma-slyde-nu-idp-sneakers-men/p/itmf3xxcpwtz2sxc?pid=SHOF32HGHZTFFQMC&lid=LSTSHOF32HGHZTFFQMCIWSJAY&marketplace=FLIPKART\",\"quickViewUrl\":\"/quick-view?pid=SHOF32HGHZTFFQMC&lid=LSTSHOF32HGHZTFFQMCIWSJAY\",\"smartUrl\":\"http://dl.flipkart.com/dl/puma-slyde-nu-idp-sneakers-men/p/itmf3xxcpwtz2sxc?pid=SHOF32HGHZTFFQMC\",\"titles\":{\"coSubtitle\":\"Size: 10\",\"newTitle\":\"Slyde NU IDP Sneakers For Men\",\"subtitle\":\"Black\",\"superTitle\":\"Puma\",\"title\":\"Puma Slyde NU IDP Sneakers For Men\"}},\"SHOEVXU7K5ZZBAMC\":{\"attributeIndexes\":[7,4],\"available\":false,\"grade\":{\"color\":null,\"id\":null,\"name\":null,\"shortDesc\":null},\"images\":[{\"aspectRatio\":\"5:6\",\"contentInfo\":null,\"height\":null,\"url\":\"http://rukmini1.flixcart.com/image/{@width}/{@height}/jasj6a80/shoe/q/w/h/slyde-dp-nw1-9-puma-olive-night-original-imafyazfurzpwfkh.jpeg?q={@quality}\",\"width\":null},{\"aspectRatio\":\"5:6\",\"contentInfo\":null,\"height\":null,\"url\":\"http://rukmini1.flixcart.com/image/{@width}/{@height}/jasj6a80/shoe/q/w/h/slyde-dp-nw1-9-puma-olive-night-original-imafyazfzdxjtgyj.jpeg?q={@quality}\",\"width\":null},{\"aspectRatio\":\"5:6\",\"contentInfo\":null,\"height\":null,\"url\":\"http://rukmini1.flixcart.com/image/{@width}/{@height}/jasj6a80/shoe/q/w/h/slyde-dp-nw1-9-puma-olive-night-original-imafyarff87pen27.jpeg?q={@quality}\",\"width\":null},{\"aspectRatio\":\"5:6\",\"contentInfo\":null,\"height\":null,\"url\":\"http://rukmini1.flixcart.com/image/{@width}/{@height}/jasj6a80/shoe/q/w/h/slyde-dp-nw1-9-puma-olive-night-original-imafyazmtzhakgu8.jpeg?q={@quality}\",\"width\":null}],\"listingId\":\"LSTSHOEVXU7K5ZZBAMCBSJJPO\",\"productUrl\":\"/puma-slyde-dp-sneakers-men/p/itmf8gp2h5ztyzzx?pid=SHOEVXU7K5ZZBAMC&lid=LSTSHOEVXU7K5ZZBAMCBSJJPO&marketplace=FLIPKART\",\"quickViewUrl\":\"/quick-view?pid=SHOEVXU7K5ZZBAMC&lid=LSTSHOEVXU7K5ZZBAMCBSJJPO\",\"smartUrl\":\"http://dl.flipkart.com/dl/puma-slyde-dp-sneakers-men/p/itmf8gp2h5ztyzzx?pid=SHOEVXU7K5ZZBAMC\",\"titles\":{\"coSubtitle\":\"Size: 9\",\"newTitle\":\"Slyde DP Sneakers For Men\",\"subtitle\":\"Olive\",\"superTitle\":\"Puma\",\"title\":\"Puma Slyde DP Sneakers For Men\"}},\"SHOF32HGY9NGKRQQ\":{\"attributeIndexes\":[8,6],\"available\":true,\"grade\":{\"color\":null,\"id\":null,\"name\":null,\"shortDesc\":null},\"images\":[{\"aspectRatio\":\"5:6\",\"contentInfo\":null,\"height\":null,\"url\":\"http://rukmini1.flixcart.com/image/{@width}/{@height}/jg2kqkw0/shoe/2/d/m/slyde-nu-idp-ss18-11-puma-peacoat-infinity-original-imaf4eyvnme7nh5t.jpeg?q={@quality}\",\"width\":null},{\"aspectRatio\":\"5:6\",\"contentInfo\":null,\"height\":null,\"url\":\"http://rukmini1.flixcart.com/image/{@width}/{@height}/jg2kqkw0/shoe/2/d/m/slyde-nu-idp-ss18-11-puma-peacoat-infinity-original-imaf4eyvvba4b6dz.jpeg?q={@quality}\",\"width\":null},{\"aspectRatio\":\"5:6\",\"contentInfo\":null,\"height\":null,\"url\":\"http://rukmini1.flixcart.com/image/{@width}/{@height}/jg2kqkw0/shoe/2/d/m/slyde-nu-idp-ss18-11-puma-peacoat-infinity-original-imaf4ef5ebvayufn.jpeg?q={@quality}\",\"width\":null},{\"aspectRatio\":\"5:6\",\"contentInfo\":null,\"height\":null,\"url\":\"http://rukmini1.flixcart.com/image/{@width}/{@height}/jg2kqkw0/shoe/2/d/m/slyde-nu-idp-ss18-11-puma-peacoat-infinity-original-imaf4eyvdvzhzbxf.jpeg?q={@quality}\",\"width\":null},{\"aspectRatio\":\"5:6\",\"contentInfo\":null,\"height\":null,\"url\":\"http://rukmini1.flixcart.com/image/{@width}/{@height}/jg2kqkw0/shoe/2/d/m/slyde-nu-idp-ss18-11-puma-peacoat-infinity-original-imaf4eywx4e677gv.jpeg?q={@quality}\",\"width\":null},{\"aspectRatio\":\"5:6\",\"contentInfo\":null,\"height\":null,\"url\":\"http://rukmini1.flixcart.com/image/{@width}/{@height}/jg2kqkw0/shoe/2/d/m/slyde-nu-idp-ss18-11-puma-peacoat-infinity-original-imaf4eyvawfy8agw.jpeg?q={@quality}\",\"width\":null}],\"listingId\":\"LSTSHOF32HGY9NGKRQQV497HB\",\"productUrl\":\"/puma-slyde-nu-idp-sneakers-men/p/itmf3xxcvu8fwgcp?pid=SHOF32HGY9NGKRQQ&lid=LSTSHOF32HGY9NGKRQQV497HB&marketplace=FLIPKART\",\"quickViewUrl\":\"/quick-view?pid=SHOF32HGY9NGKRQQ&lid=LSTSHOF32HGY9NGKRQQV497HB\",\"smartUrl\":\"http://dl.flipkart.com/dl/puma-slyde-nu-idp-sneakers-men/p/itmf3xxcvu8fwgcp?pid=SHOF32HGY9NGKRQQ\",\"titles\":{\"coSubtitle\":\"Size: 11\",\"newTitle\":\"Slyde NU IDP Sneakers For Men\",\"subtitle\":\"Blue\",\"superTitle\":\"Puma\",\"title\":\"Puma Slyde NU IDP Sneakers For Men\"}},\"SHOF32HGKMVEN9W4\":{\"attributeIndexes\":[11,6],\"available\":false,\"grade\":{\"color\":null,\"id\":null,\"name\":null,\"shortDesc\":null},\"images\":[{\"aspectRatio\":\"5:6\",\"contentInfo\":null,\"height\":null,\"url\":\"http://rukmini1.flixcart.com/image/{@width}/{@height}/jialea80/shoe/z/b/7/slyde-nu-idp-ss18-7-puma-quiet-shade-peacoat-original-imaf64ghzwzvtmw7.jpeg?q={@quality}\",\"width\":null},{\"aspectRatio\":\"5:6\",\"contentInfo\":null,\"height\":null,\"url\":\"http://rukmini1.flixcart.com/image/{@width}/{@height}/jialea80/shoe/z/b/7/slyde-nu-idp-ss18-7-puma-quiet-shade-peacoat-original-imaf64ghzwhayfza.jpeg?q={@quality}\",\"width\":null},{\"aspectRatio\":\"5:6\",\"contentInfo\":null,\"height\":null,\"url\":\"http://rukmini1.flixcart.com/image/{@width}/{@height}/jialea80/shoe/z/b/7/slyde-nu-idp-ss18-7-puma-quiet-shade-peacoat-original-imaf64ghu2zq8yt2.jpeg?q={@quality}\",\"width\":null},{\"aspectRatio\":\"5:6\",\"contentInfo\":null,\"height\":null,\"url\":\"http://rukmini1.flixcart.com/image/{@width}/{@height}/jialea80/shoe/z/b/7/slyde-nu-idp-ss18-7-puma-quiet-shade-peacoat-original-imaf64ghv997pnmv.jpeg?q={@quality}\",\"width\":null},{\"aspectRatio\":\"5:6\",\"contentInfo\":null,\"height\":null,\"url\":\"http://rukmini1.flixcart.com/image/{@width}/{@height}/jialea80/shoe/z/b/7/slyde-nu-idp-ss18-7-puma-quiet-shade-peacoat-original-imaf64gh572anzhe.jpeg?q={@quality}\",\"width\":null},{\"aspectRatio\":\"5:6\",\"contentInfo\":null,\"height\":null,\"url\":\"http://rukmini1.flixcart.com/image/{@width}/{@height}/jialea80/shoe/z/b/7/slyde-nu-idp-ss18-7-puma-quiet-shade-peacoat-original-imaf64ghc5q77zsc.jpeg?q={@quality}\",\"width\":null}],\"listingId\":\"LSTSHOF32HGKMVEN9W4AH2OQN\",\"productUrl\":\"/puma-slyde-nu-idp-sneakers-men/p/itmf8gp3zzqqpkhg?pid=SHOF32HGKMVEN9W4&lid=LSTSHOF32HGKMVEN9W4AH2OQN&marketplace=FLIPKART\",\"quickViewUrl\":\"/quick-view?pid=SHOF32HGKMVEN9W4&lid=LSTSHOF32HGKMVEN9W4AH2OQN\",\"smartUrl\":\"http://dl.flipkart.com/dl/puma-slyde-nu-idp-sneakers-men/p/itmf8gp3zzqqpkhg?pid=SHOF32HGKMVEN9W4\",\"titles\":{\"coSubtitle\":\"Size: 11\",\"newTitle\":\"Slyde NU IDP Sneakers For Men\",\"subtitle\":\"Grey\",\"superTitle\":\"Puma\",\"title\":\"Puma Slyde NU IDP Sneakers For Men\"}},\"SHOF32HGW4SNK2DM\":{\"attributeIndexes\":[8,1],\"available\":false,\"grade\":{\"color\":null,\"id\":null,\"name\":null,\"shortDesc\":null},\"images\":[{\"aspectRatio\":\"5:6\",\"contentInfo\":null,\"height\":null,\"url\":\"http://rukmini1.flixcart.com/image/{@width}/{@height}/jg2kqkw0/shoe/2/d/m/slyde-nu-idp-ss18-11-puma-peacoat-infinity-original-imaf4eyvnme7nh5t.jpeg?q={@quality}\",\"width\":null},{\"aspectRatio\":\"5:6\",\"contentInfo\":null,\"height\":null,\"url\":\"http://rukmini1.flixcart.com/image/{@width}/{@height}/jg2kqkw0/shoe/2/d/m/slyde-nu-idp-ss18-11-puma-peacoat-infinity-original-imaf4eyvvba4b6dz.jpeg?q={@quality}\",\"width\":null},{\"aspectRatio\":\"5:6\",\"contentInfo\":null,\"height\":null,\"url\":\"http://rukmini1.flixcart.com/image/{@width}/{@height}/jg2kqkw0/shoe/2/d/m/slyde-nu-idp-ss18-11-puma-peacoat-infinity-original-imaf4ef5ebvayufn.jpeg?q={@quality}\",\"width\":null},{\"aspectRatio\":\"5:6\",\"contentInfo\":null,\"height\":null,\"url\":\"http://rukmini1.flixcart.com/image/{@width}/{@height}/jg2kqkw0/shoe/2/d/m/slyde-nu-idp-ss18-11-puma-peacoat-infinity-original-imaf4eyvdvzhzbxf.jpeg?q={@quality}\",\"width\":null},{\"aspectRatio\":\"5:6\",\"contentInfo\":null,\"height\":null,\"url\":\"http://rukmini1.flixcart.com/image/{@width}/{@height}/jg2kqkw0/shoe/2/d/m/slyde-nu-idp-ss18-11-puma-peacoat-infinity-original-imaf4eywx4e677gv.jpeg?q={@quality}\",\"width\":null},{\"aspectRatio\":\"5:6\",\"contentInfo\":null,\"height\":null,\"url\":\"http://rukmini1.flixcart.com/image/{@width}/{@height}/jg2kqkw0/shoe/2/d/m/slyde-nu-idp-ss18-11-puma-peacoat-infinity-original-imaf4eyvawfy8agw.jpeg?q={@quality}\",\"width\":null}],\"listingId\":\"LSTSHOF32HGW4SNK2DM6XG3EX\",\"productUrl\":\"/puma-slyde-nu-idp-sneakers-men/p/itmf3xxcvu8fwgcp?pid=SHOF32HGW4SNK2DM&lid=LSTSHOF32HGW4SNK2DM6XG3EX&marketplace=FLIPKART\",\"quickViewUrl\":\"/quick-view?pid=SHOF32HGW4SNK2DM&lid=LSTSHOF32HGW4SNK2DM6XG3EX\",\"smartUrl\":\"http://dl.flipkart.com/dl/puma-slyde-nu-idp-sneakers-men/p/itmf3xxcvu8fwgcp?pid=SHOF32HGW4SNK2DM\",\"titles\":{\"coSubtitle\":\"Size: 6\",\"newTitle\":\"Slyde NU IDP Sneakers For Men\",\"subtitle\":\"Blue\",\"superTitle\":\"Puma\",\"title\":\"Puma Slyde NU IDP Sneakers For Men\"}},\"SHOEVXU7UHSYQFVK\":{\"attributeIndexes\":[6,2],\"available\":false,\"grade\":{\"color\":null,\"id\":null,\"name\":null,\"shortDesc\":null},\"images\":[{\"aspectRatio\":\"5:6\",\"contentInfo\":null,\"height\":null,\"url\":\"http://rukmini1.flixcart.com/image/{@width}/{@height}/jatym4w0/shoe/h/s/p/slyde-dp-nw1-8-puma-mykonos-blue-nrgy-yellow-white-original-imafyaz8hmnnjjxr.jpeg?q={@quality}\",\"width\":null},{\"aspectRatio\":\"5:6\",\"contentInfo\":null,\"height\":null,\"url\":\"http://rukmini1.flixcart.com/image/{@width}/{@height}/jasj6a80/shoe/h/s/p/slyde-dp-nw1-8-puma-mykonos-blue-nrgy-yellow-white-original-imafyazgkypmpnx6.jpeg?q={@quality}\",\"width\":null},{\"aspectRatio\":\"5:6\",\"contentInfo\":null,\"height\":null,\"url\":\"http://rukmini1.flixcart.com/image/{@width}/{@height}/jasj6a80/shoe/h/s/p/slyde-dp-nw1-8-puma-mykonos-blue-nrgy-yellow-white-original-imafyazdazphaurx.jpeg?q={@quality}\",\"width\":null},{\"aspectRatio\":\"5:6\",\"contentInfo\":null,\"height\":null,\"url\":\"http://rukmini1.flixcart.com/image/{@width}/{@height}/jasj6a80/shoe/h/s/p/slyde-dp-nw1-8-puma-mykonos-blue-nrgy-yellow-white-original-imafyazdmutzq7xz.jpeg?q={@quality}\",\"width\":null}],\"listingId\":\"LSTSHOEVXU7UHSYQFVKGYHHCD\",\"productUrl\":\"/puma-slyde-dp-sneakers-men/p/itmf8gp2krgwsqzu?pid=SHOEVXU7UHSYQFVK&lid=LSTSHOEVXU7UHSYQFVKGYHHCD&marketplace=FLIPKART\",\"quickViewUrl\":\"/quick-view?pid=SHOEVXU7UHSYQFVK&lid=LSTSHOEVXU7UHSYQFVKGYHHCD\",\"smartUrl\":\"http://dl.flipkart.com/dl/puma-slyde-dp-sneakers-men/p/itmf8gp2krgwsqzu?pid=SHOEVXU7UHSYQFVK\",\"titles\":{\"coSubtitle\":\"Size: 7\",\"newTitle\":\"Slyde DP Sneakers For Men\",\"subtitle\":\"Blue\",\"superTitle\":\"Puma\",\"title\":\"Puma Slyde DP Sneakers For Men\"}},\"SHOF32HGZZYA9RFA\":{\"attributeIndexes\":[8,4],\"available\":false,\"grade\":{\"color\":null,\"id\":null,\"name\":null,\"shortDesc\":null},\"images\":[{\"aspectRatio\":\"5:6\",\"contentInfo\":null,\"height\":null,\"url\":\"http://rukmini1.flixcart.com/image/{@width}/{@height}/jg2kqkw0/shoe/2/d/m/slyde-nu-idp-ss18-11-puma-peacoat-infinity-original-imaf4eyvnme7nh5t.jpeg?q={@quality}\",\"width\":null},{\"aspectRatio\":\"5:6\",\"contentInfo\":null,\"height\":null,\"url\":\"http://rukmini1.flixcart.com/image/{@width}/{@height}/jg2kqkw0/shoe/2/d/m/slyde-nu-idp-ss18-11-puma-peacoat-infinity-original-imaf4eyvvba4b6dz.jpeg?q={@quality}\",\"width\":null},{\"aspectRatio\":\"5:6\",\"contentInfo\":null,\"height\":null,\"url\":\"http://rukmini1.flixcart.com/image/{@width}/{@height}/jg2kqkw0/shoe/2/d/m/slyde-nu-idp-ss18-11-puma-peacoat-infinity-original-imaf4ef5ebvayufn.jpeg?q={@quality}\",\"width\":null},{\"aspectRatio\":\"5:6\",\"contentInfo\":null,\"height\":null,\"url\":\"http://rukmini1.flixcart.com/image/{@width}/{@height}/jg2kqkw0/shoe/2/d/m/slyde-nu-idp-ss18-11-puma-peacoat-infinity-original-imaf4eyvdvzhzbxf.jpeg?q={@quality}\",\"width\":null},{\"aspectRatio\":\"5:6\",\"contentInfo\":null,\"height\":null,\"url\":\"http://rukmini1.flixcart.com/image/{@width}/{@height}/jg2kqkw0/shoe/2/d/m/slyde-nu-idp-ss18-11-puma-peacoat-infinity-original-imaf4eywx4e677gv.jpeg?q={@quality}\",\"width\":null},{\"aspectRatio\":\"5:6\",\"contentInfo\":null,\"height\":null,\"url\":\"http://rukmini1.flixcart.com/image/{@width}/{@height}/jg2kqkw0/shoe/2/d/m/slyde-nu-idp-ss18-11-puma-peacoat-infinity-original-imaf4eyvawfy8agw.jpeg?q={@quality}\",\"width\":null}],\"listingId\":\"LSTSHOF32HGZZYA9RFAN0NRXH\",\"productUrl\":\"/puma-slyde-nu-idp-sneakers-men/p/itmf3xxcvu8fwgcp?pid=SHOF32HGZZYA9RFA&lid=LSTSHOF32HGZZYA9RFAN0NRXH&marketplace=FLIPKART\",\"quickViewUrl\":\"/quick-view?pid=SHOF32HGZZYA9RFA&lid=LSTSHOF32HGZZYA9RFAN0NRXH\",\"smartUrl\":\"http://dl.flipkart.com/dl/puma-slyde-nu-idp-sneakers-men/p/itmf3xxcvu8fwgcp?pid=SHOF32HGZZYA9RFA\",\"titles\":{\"coSubtitle\":\"Size: 9\",\"newTitle\":\"Slyde NU IDP Sneakers For Men\",\"subtitle\":\"Blue\",\"superTitle\":\"Puma\",\"title\":\"Puma Slyde NU IDP Sneakers For Men\"}},\"SHOF32HGWJAUGJCQ\":{\"attributeIndexes\":[8,5],\"available\":false,\"grade\":{\"color\":null,\"id\":null,\"name\":null,\"shortDesc\":null},\"images\":[{\"aspectRatio\":\"5:6\",\"contentInfo\":null,\"height\":null,\"url\":\"http://rukmini1.flixcart.com/image/{@width}/{@height}/jg2kqkw0/shoe/2/d/m/slyde-nu-idp-ss18-11-puma-peacoat-infinity-original-imaf4eyvnme7nh5t.jpeg?q={@quality}\",\"width\":null},{\"aspectRatio\":\"5:6\",\"contentInfo\":null,\"height\":null,\"url\":\"http://rukmini1.flixcart.com/image/{@width}/{@height}/jg2kqkw0/shoe/2/d/m/slyde-nu-idp-ss18-11-puma-peacoat-infinity-original-imaf4eyvvba4b6dz.jpeg?q={@quality}\",\"width\":null},{\"aspectRatio\":\"5:6\",\"contentInfo\":null,\"height\":null,\"url\":\"http://rukmini1.flixcart.com/image/{@width}/{@height}/jg2kqkw0/shoe/2/d/m/slyde-nu-idp-ss18-11-puma-peacoat-infinity-original-imaf4ef5ebvayufn.jpeg?q={@quality}\",\"width\":null},{\"aspectRatio\":\"5:6\",\"contentInfo\":null,\"height\":null,\"url\":\"http://rukmini1.flixcart.com/image/{@width}/{@height}/jg2kqkw0/shoe/2/d/m/slyde-nu-idp-ss18-11-puma-peacoat-infinity-original-imaf4eyvdvzhzbxf.jpeg?q={@quality}\",\"width\":null},{\"aspectRatio\":\"5:6\",\"contentInfo\":null,\"height\":null,\"url\":\"http://rukmini1.flixcart.com/image/{@width}/{@height}/jg2kqkw0/shoe/2/d/m/slyde-nu-idp-ss18-11-puma-peacoat-infinity-original-imaf4eywx4e677gv.jpeg?q={@quality}\",\"width\":null},{\"aspectRatio\":\"5:6\",\"contentInfo\":null,\"height\":null,\"url\":\"http://rukmini1.flixcart.com/image/{@width}/{@height}/jg2kqkw0/shoe/2/d/m/slyde-nu-idp-ss18-11-puma-peacoat-infinity-original-imaf4eyvawfy8agw.jpeg?q={@quality}\",\"width\":null}],\"listingId\":\"LSTSHOF32HGWJAUGJCQV9FZY9\",\"productUrl\":\"/puma-slyde-nu-idp-sneakers-men/p/itmf3xxcvu8fwgcp?pid=SHOF32HGWJAUGJCQ&lid=LSTSHOF32HGWJAUGJCQV9FZY9&marketplace=FLIPKART\",\"quickViewUrl\":\"/quick-view?pid=SHOF32HGWJAUGJCQ&lid=LSTSHOF32HGWJAUGJCQV9FZY9\",\"smartUrl\":\"http://dl.flipkart.com/dl/puma-slyde-nu-idp-sneakers-men/p/itmf3xxcvu8fwgcp?pid=SHOF32HGWJAUGJCQ\",\"titles\":{\"coSubtitle\":\"Size: 10\",\"newTitle\":\"Slyde NU IDP Sneakers For Men\",\"subtitle\":\"Blue\",\"superTitle\":\"Puma\",\"title\":\"Puma Slyde NU IDP Sneakers For Men\"}},\"SHOF32HGTGBWBXVE\":{\"attributeIndexes\":[5,6],\"available\":false,\"grade\":{\"color\":null,\"id\":null,\"name\":null,\"shortDesc\":null},\"images\":[{\"aspectRatio\":\"5:6\",\"contentInfo\":null,\"height\":null,\"url\":\"http://rukmini1.flixcart.com/image/{@width}/{@height}/jg15aq80/shoe/a/5/g/slyde-nu-idp-ss18-10-puma-golden-brown-chocolate-brown-original-imaf4dfpbvb2efpf.jpeg?q={@quality}\",\"width\":null},{\"aspectRatio\":\"5:6\",\"contentInfo\":null,\"height\":null,\"url\":\"http://rukmini1.flixcart.com/image/{@width}/{@height}/jg15aq80/shoe/a/5/g/slyde-nu-idp-ss18-10-puma-golden-brown-chocolate-brown-original-imaf4dfpsd6hvgbg.jpeg?q={@quality}\",\"width\":null},{\"aspectRatio\":\"5:6\",\"contentInfo\":null,\"height\":null,\"url\":\"http://rukmini1.flixcart.com/image/{@width}/{@height}/jg15aq80/shoe/a/5/g/slyde-nu-idp-ss18-10-puma-golden-brown-chocolate-brown-original-imaf4dfpx4rmfsb3.jpeg?q={@quality}\",\"width\":null},{\"aspectRatio\":\"5:6\",\"contentInfo\":null,\"height\":null,\"url\":\"http://rukmini1.flixcart.com/image/{@width}/{@height}/jg15aq80/shoe/a/5/g/slyde-nu-idp-ss18-10-puma-golden-brown-chocolate-brown-original-imaf4dfpk3jzt8un.jpeg?q={@quality}\",\"width\":null},{\"aspectRatio\":\"5:6\",\"contentInfo\":null,\"height\":null,\"url\":\"http://rukmini1.flixcart.com/image/{@width}/{@height}/jg15aq80/shoe/a/5/g/slyde-nu-idp-ss18-10-puma-golden-brown-chocolate-brown-original-imaf4dfpyxbkaerp.jpeg?q={@quality}\",\"width\":null},{\"aspectRatio\":\"5:6\",\"contentInfo\":null,\"height\":null,\"url\":\"http://rukmini1.flixcart.com/image/{@width}/{@height}/jg15aq80/shoe/a/5/g/slyde-nu-idp-ss18-10-puma-golden-brown-chocolate-brown-original-imaf4dfpznhhzzvc.jpeg?q={@quality}\",\"width\":null}],\"listingId\":\"LSTSHOF32HGTGBWBXVEQQAWWT\",\"productUrl\":\"/puma-slyde-nu-idp-sneakers-men/p/itmf3xxbeedynhxe?pid=SHOF32HGTGBWBXVE&lid=LSTSHOF32HGTGBWBXVEQQAWWT&marketplace=FLIPKART\",\"quickViewUrl\":\"/quick-view?pid=SHOF32HGTGBWBXVE&lid=LSTSHOF32HGTGBWBXVEQQAWWT\",\"smartUrl\":\"http://dl.flipkart.com/dl/puma-slyde-nu-idp-sneakers-men/p/itmf3xxbeedynhxe?pid=SHOF32HGTGBWBXVE\",\"titles\":{\"coSubtitle\":\"Size: 11\",\"newTitle\":\"Slyde NU IDP Sneakers For Men\",\"subtitle\":\"Tan, Brown\",\"superTitle\":\"Puma\",\"title\":\"Puma Slyde NU IDP Sneakers For Men\"}},\"SHOF32HGB5F8FCNV\":{\"attributeIndexes\":[10,6],\"available\":false,\"grade\":{\"color\":null,\"id\":null,\"name\":null,\"shortDesc\":null},\"images\":[{\"aspectRatio\":\"5:6\",\"contentInfo\":null,\"height\":null,\"url\":\"http://rukmini1.flixcart.com/image/{@width}/{@height}/jg2kqkw0/shoe/q/m/c/slyde-nu-idp-ss18-6-puma-puma-black-electric-blue-lemonade-original-imaf4ef2pquhygks.jpeg?q={@quality}\",\"width\":null},{\"aspectRatio\":\"5:6\",\"contentInfo\":null,\"height\":null,\"url\":\"http://rukmini1.flixcart.com/image/{@width}/{@height}/jg2kqkw0/shoe/q/m/c/slyde-nu-idp-ss18-6-puma-puma-black-electric-blue-lemonade-original-imaf4ef222dbjhje.jpeg?q={@quality}\",\"width\":null},{\"aspectRatio\":\"5:6\",\"contentInfo\":null,\"height\":null,\"url\":\"http://rukmini1.flixcart.com/image/{@width}/{@height}/jg2kqkw0/shoe/q/m/c/slyde-nu-idp-ss18-6-puma-puma-black-electric-blue-lemonade-original-imaf4ef2zh8xzacd.jpeg?q={@quality}\",\"width\":null},{\"aspectRatio\":\"5:6\",\"contentInfo\":null,\"height\":null,\"url\":\"http://rukmini1.flixcart.com/image/{@width}/{@height}/jg2kqkw0/shoe/q/m/c/slyde-nu-idp-ss18-6-puma-puma-black-electric-blue-lemonade-original-imaf4ef2hbjeza5p.jpeg?q={@quality}\",\"width\":null},{\"aspectRatio\":\"5:6\",\"contentInfo\":null,\"height\":null,\"url\":\"http://rukmini1.flixcart.com/image/{@width}/{@height}/jg2kqkw0/shoe/q/m/c/slyde-nu-idp-ss18-6-puma-puma-black-electric-blue-lemonade-original-imaf4ef2pkgfhfys.jpeg?q={@quality}\",\"width\":null},{\"aspectRatio\":\"5:6\",\"contentInfo\":null,\"height\":null,\"url\":\"http://rukmini1.flixcart.com/image/{@width}/{@height}/jg2kqkw0/shoe/q/m/c/slyde-nu-idp-ss18-6-puma-puma-black-electric-blue-lemonade-original-imaf4ef2uwjaxzrh.jpeg?q={@quality}\",\"width\":null}],\"listingId\":\"LSTSHOF32HGB5F8FCNVTALLAB\",\"productUrl\":\"/puma-slyde-nu-idp-sneakers-men/p/itmf3xxcpwtz2sxc?pid=SHOF32HGB5F8FCNV&lid=LSTSHOF32HGB5F8FCNVTALLAB&marketplace=FLIPKART\",\"quickViewUrl\":\"/quick-view?pid=SHOF32HGB5F8FCNV&lid=LSTSHOF32HGB5F8FCNVTALLAB\",\"smartUrl\":\"http://dl.flipkart.com/dl/puma-slyde-nu-idp-sneakers-men/p/itmf3xxcpwtz2sxc?pid=SHOF32HGB5F8FCNV\",\"titles\":{\"coSubtitle\":\"Size: 11\",\"newTitle\":\"Slyde NU IDP Sneakers For Men\",\"subtitle\":\"Black\",\"superTitle\":\"Puma\",\"title\":\"Puma Slyde NU IDP Sneakers For Men\"}},\"SHOEVXU74SQ7YHGF\":{\"attributeIndexes\":[12,4],\"available\":false,\"grade\":{\"color\":null,\"id\":null,\"name\":null,\"shortDesc\":null},\"images\":[{\"aspectRatio\":\"5:6\",\"contentInfo\":null,\"height\":null,\"url\":\"http://rukmini1.flixcart.com/image/{@width}/{@height}/jar3qfk0/shoe/x/f/q/slyde-dp-nw1-8-puma-tibetan-red-cherry-tomato-original-imafy98tynqwuhjr.jpeg?q={@quality}\",\"width\":null},{\"aspectRatio\":\"5:6\",\"contentInfo\":null,\"height\":null,\"url\":\"http://rukmini1.flixcart.com/image/{@width}/{@height}/jar3qfk0/shoe/x/f/q/slyde-dp-nw1-8-puma-tibetan-red-cherry-tomato-original-imafy98tx9ap2czp.jpeg?q={@quality}\",\"width\":null},{\"aspectRatio\":\"5:6\",\"contentInfo\":null,\"height\":null,\"url\":\"http://rukmini1.flixcart.com/image/{@width}/{@height}/jar3qfk0/shoe/x/f/q/slyde-dp-nw1-8-puma-tibetan-red-cherry-tomato-original-imafy9gzrnnuymhg.jpeg?q={@quality}\",\"width\":null},{\"aspectRatio\":\"5:6\",\"contentInfo\":null,\"height\":null,\"url\":\"http://rukmini1.flixcart.com/image/{@width}/{@height}/jar3qfk0/shoe/x/f/q/slyde-dp-nw1-8-puma-tibetan-red-cherry-tomato-original-imafy98twmpquhwb.jpeg?q={@quality}\",\"width\":null}],\"listingId\":\"LSTSHOEVXU74SQ7YHGFE11RG5\",\"productUrl\":\"/puma-slyde-dp-sneakers-men/p/itmf3yyjrwstqpsp?pid=SHOEVXU74SQ7YHGF&lid=LSTSHOEVXU74SQ7YHGFE11RG5&marketplace=FLIPKART\",\"quickViewUrl\":\"/quick-view?pid=SHOEVXU74SQ7YHGF&lid=LSTSHOEVXU74SQ7YHGFE11RG5\",\"smartUrl\":\"http://dl.flipkart.com/dl/puma-slyde-dp-sneakers-men/p/itmf3yyjrwstqpsp?pid=SHOEVXU74SQ7YHGF\",\"titles\":{\"coSubtitle\":\"Size: 9\",\"newTitle\":\"Slyde DP Sneakers For Men\",\"subtitle\":\"Maroon\",\"superTitle\":\"Puma\",\"title\":\"Puma Slyde DP Sneakers For Men\"}},\"SHOF32HGEKCCHDWW\":{\"attributeIndexes\":[5,2],\"available\":false,\"grade\":{\"color\":null,\"id\":null,\"name\":null,\"shortDesc\":null},\"images\":[{\"aspectRatio\":\"5:6\",\"contentInfo\":null,\"height\":null,\"url\":\"http://rukmini1.flixcart.com/image/{@width}/{@height}/jg15aq80/shoe/a/5/g/slyde-nu-idp-ss18-10-puma-golden-brown-chocolate-brown-original-imaf4dfpbvb2efpf.jpeg?q={@quality}\",\"width\":null},{\"aspectRatio\":\"5:6\",\"contentInfo\":null,\"height\":null,\"url\":\"http://rukmini1.flixcart.com/image/{@width}/{@height}/jg15aq80/shoe/a/5/g/slyde-nu-idp-ss18-10-puma-golden-brown-chocolate-brown-original-imaf4dfpsd6hvgbg.jpeg?q={@quality}\",\"width\":null},{\"aspectRatio\":\"5:6\",\"contentInfo\":null,\"height\":null,\"url\":\"http://rukmini1.flixcart.com/image/{@width}/{@height}/jg15aq80/shoe/a/5/g/slyde-nu-idp-ss18-10-puma-golden-brown-chocolate-brown-original-imaf4dfpx4rmfsb3.jpeg?q={@quality}\",\"width\":null},{\"aspectRatio\":\"5:6\",\"contentInfo\":null,\"height\":null,\"url\":\"http://rukmini1.flixcart.com/image/{@width}/{@height}/jg15aq80/shoe/a/5/g/slyde-nu-idp-ss18-10-puma-golden-brown-chocolate-brown-original-imaf4dfpk3jzt8un.jpeg?q={@quality}\",\"width\":null},{\"aspectRatio\":\"5:6\",\"contentInfo\":null,\"height\":null,\"url\":\"http://rukmini1.flixcart.com/image/{@width}/{@height}/jg15aq80/shoe/a/5/g/slyde-nu-idp-ss18-10-puma-golden-brown-chocolate-brown-original-imaf4dfpyxbkaerp.jpeg?q={@quality}\",\"width\":null},{\"aspectRatio\":\"5:6\",\"contentInfo\":null,\"height\":null,\"url\":\"http://rukmini1.flixcart.com/image/{@width}/{@height}/jg15aq80/shoe/a/5/g/slyde-nu-idp-ss18-10-puma-golden-brown-chocolate-brown-original-imaf4dfpznhhzzvc.jpeg?q={@quality}\",\"width\":null}],\"listingId\":\"LSTSHOF32HGEKCCHDWWB1DSLZ\",\"productUrl\":\"/puma-slyde-nu-idp-sneakers-men/p/itmf3xxbeedynhxe?pid=SHOF32HGEKCCHDWW&lid=LSTSHOF32HGEKCCHDWWB1DSLZ&marketplace=FLIPKART\",\"quickViewUrl\":\"/quick-view?pid=SHOF32HGEKCCHDWW&lid=LSTSHOF32HGEKCCHDWWB1DSLZ\",\"smartUrl\":\"http://dl.flipkart.com/dl/puma-slyde-nu-idp-sneakers-men/p/itmf3xxbeedynhxe?pid=SHOF32HGEKCCHDWW\",\"titles\":{\"coSubtitle\":\"Size: 7\",\"newTitle\":\"Slyde NU IDP Sneakers For Men\",\"subtitle\":\"Tan, Brown\",\"superTitle\":\"Puma\",\"title\":\"Puma Slyde NU IDP Sneakers For Men\"}},\"SHOFGZKC2AVYGYH4\":{\"attributeIndexes\":[2,0],\"available\":true,\"grade\":{\"color\":null,\"id\":null,\"name\":null,\"shortDesc\":null},\"images\":[{\"aspectRatio\":\"5:6\",\"contentInfo\":null,\"height\":null,\"url\":\"http://rukmini1.flixcart.com/image/{@width}/{@height}/jyg5lzk0/shoe/y/h/4/366216-4-puma-blue-original-imafgzrk3mfrzrhy.jpeg?q={@quality}\",\"width\":null},{\"aspectRatio\":\"5:6\",\"contentInfo\":null,\"height\":null,\"url\":\"http://rukmini1.flixcart.com/image/{@width}/{@height}/jyg5lzk0/shoe/y/h/4/366216-4-puma-blue-original-imafgzrhkwgmz6u3.jpeg?q={@quality}\",\"width\":null},{\"aspectRatio\":\"5:6\",\"contentInfo\":null,\"height\":null,\"url\":\"http://rukmini1.flixcart.com/image/{@width}/{@height}/jyg5lzk0/shoe/y/h/4/366216-4-puma-blue-original-imafgugyvch4ds2s.jpeg?q={@quality}\",\"width\":null},{\"aspectRatio\":\"5:6\",\"contentInfo\":null,\"height\":null,\"url\":\"http://rukmini1.flixcart.com/image/{@width}/{@height}/jyg5lzk0/shoe/y/h/4/366216-4-puma-blue-original-imafgzrhna3qwade.jpeg?q={@quality}\",\"width\":null},{\"aspectRatio\":\"5:6\",\"contentInfo\":null,\"height\":null,\"url\":\"http://rukmini1.flixcart.com/image/{@width}/{@height}/jyg5lzk0/shoe/y/h/4/366216-4-puma-blue-original-imafgzrkbvwntx2w.jpeg?q={@quality}\",\"width\":null},{\"aspectRatio\":\"5:6\",\"contentInfo\":null,\"height\":null,\"url\":\"http://rukmini1.flixcart.com/image/{@width}/{@height}/jyg5lzk0/shoe/y/h/4/366216-4-puma-blue-original-imafgzrhhzzwcmmm.jpeg?q={@quality}\",\"width\":null}],\"listingId\":\"LSTSHOFGZKC2AVYGYH4ZHGHTE\",\"productUrl\":\"/puma-slyde-dp-sneakers-men/p/itm69d941c93d412?pid=SHOFGZKC2AVYGYH4&lid=LSTSHOFGZKC2AVYGYH4ZHGHTE&marketplace=FLIPKART\",\"quickViewUrl\":\"/quick-view?pid=SHOFGZKC2AVYGYH4&lid=LSTSHOFGZKC2AVYGYH4ZHGHTE\",\"smartUrl\":\"http://dl.flipkart.com/dl/puma-slyde-dp-sneakers-men/p/itm69d941c93d412?pid=SHOFGZKC2AVYGYH4\",\"titles\":{\"coSubtitle\":\"Size: 4\",\"newTitle\":\"Slyde Dp Sneakers For Men\",\"subtitle\":\"Blue\",\"superTitle\":\"Puma\",\"title\":\"Puma Slyde Dp Sneakers For Men\"}},\"SHOEVXU7B2HGZZYD\":{\"attributeIndexes\":[7,6],\"available\":false,\"grade\":{\"color\":null,\"id\":null,\"name\":null,\"shortDesc\":null},\"images\":[{\"aspectRatio\":\"5:6\",\"contentInfo\":null,\"height\":null,\"url\":\"http://rukmini1.flixcart.com/image/{@width}/{@height}/jasj6a80/shoe/q/w/h/slyde-dp-nw1-9-puma-olive-night-original-imafyazfurzpwfkh.jpeg?q={@quality}\",\"width\":null},{\"aspectRatio\":\"5:6\",\"contentInfo\":null,\"height\":null,\"url\":\"http://rukmini1.flixcart.com/image/{@width}/{@height}/jasj6a80/shoe/q/w/h/slyde-dp-nw1-9-puma-olive-night-original-imafyazfzdxjtgyj.jpeg?q={@quality}\",\"width\":null},{\"aspectRatio\":\"5:6\",\"contentInfo\":null,\"height\":null,\"url\":\"http://rukmini1.flixcart.com/image/{@width}/{@height}/jasj6a80/shoe/q/w/h/slyde-dp-nw1-9-puma-olive-night-original-imafyarff87pen27.jpeg?q={@quality}\",\"width\":null},{\"aspectRatio\":\"5:6\",\"contentInfo\":null,\"height\":null,\"url\":\"http://rukmini1.flixcart.com/image/{@width}/{@height}/jasj6a80/shoe/q/w/h/slyde-dp-nw1-9-puma-olive-night-original-imafyazmtzhakgu8.jpeg?q={@quality}\",\"width\":null}],\"listingId\":\"LSTSHOEVXU7B2HGZZYDYK6Y7E\",\"productUrl\":\"/puma-slyde-dp-sneakers-men/p/itmf8gp2h5ztyzzx?pid=SHOEVXU7B2HGZZYD&lid=LSTSHOEVXU7B2HGZZYDYK6Y7E&marketplace=FLIPKART\",\"quickViewUrl\":\"/quick-view?pid=SHOEVXU7B2HGZZYD&lid=LSTSHOEVXU7B2HGZZYDYK6Y7E\",\"smartUrl\":\"http://dl.flipkart.com/dl/puma-slyde-dp-sneakers-men/p/itmf8gp2h5ztyzzx?pid=SHOEVXU7B2HGZZYD\",\"titles\":{\"coSubtitle\":\"Size: 11\",\"newTitle\":\"Slyde DP Sneakers For Men\",\"subtitle\":\"Olive\",\"superTitle\":\"Puma\",\"title\":\"Puma Slyde DP Sneakers For Men\"}},\"SHOEVXU7EDGV8DVU\":{\"attributeIndexes\":[3,5],\"available\":false,\"grade\":{\"color\":null,\"id\":null,\"name\":null,\"shortDesc\":null},\"images\":[{\"aspectRatio\":\"5:6\",\"contentInfo\":null,\"height\":null,\"url\":\"http://rukmini1.flixcart.com/image/{@width}/{@height}/jasj6a80/shoe/c/d/t/slyde-dp-nw1-9-puma-blue-depths-lapis-blue-original-imafyap2gdyptm8c.jpeg?q={@quality}\",\"width\":null},{\"aspectRatio\":\"5:6\",\"contentInfo\":null,\"height\":null,\"url\":\"http://rukmini1.flixcart.com/image/{@width}/{@height}/jasj6a80/shoe/c/d/t/slyde-dp-nw1-9-puma-blue-depths-lapis-blue-original-imafyazauhkdefth.jpeg?q={@quality}\",\"width\":null},{\"aspectRatio\":\"5:6\",\"contentInfo\":null,\"height\":null,\"url\":\"http://rukmini1.flixcart.com/image/{@width}/{@height}/jatym4w0/shoe/c/d/t/slyde-dp-nw1-9-puma-blue-depths-lapis-blue-original-imafyazfu4emwx6y.jpeg?q={@quality}\",\"width\":null},{\"aspectRatio\":\"5:6\",\"contentInfo\":null,\"height\":null,\"url\":\"http://rukmini1.flixcart.com/image/{@width}/{@height}/jasj6a80/shoe/c/d/t/slyde-dp-nw1-9-puma-blue-depths-lapis-blue-original-imafyazaeueffsjg.jpeg?q={@quality}\",\"width\":null}],\"listingId\":\"LSTSHOEVXU7EDGV8DVU1IKKMZ\",\"productUrl\":\"/puma-slyde-dp-sneakers-men/p/itmf8gp3jge7ambz?pid=SHOEVXU7EDGV8DVU&lid=LSTSHOEVXU7EDGV8DVU1IKKMZ&marketplace=FLIPKART\",\"quickViewUrl\":\"/quick-view?pid=SHOEVXU7EDGV8DVU&lid=LSTSHOEVXU7EDGV8DVU1IKKMZ\",\"smartUrl\":\"http://dl.flipkart.com/dl/puma-slyde-dp-sneakers-men/p/itmf8gp3jge7ambz?pid=SHOEVXU7EDGV8DVU\",\"titles\":{\"coSubtitle\":\"Size: 10\",\"newTitle\":\"Slyde DP Sneakers For Men\",\"subtitle\":\"Navy, Blue\",\"superTitle\":\"Puma\",\"title\":\"Puma Slyde DP Sneakers For Men\"}},\"SHOF32HGBFQZCGUJ\":{\"attributeIndexes\":[5,1],\"available\":false,\"grade\":{\"color\":null,\"id\":null,\"name\":null,\"shortDesc\":null},\"images\":[{\"aspectRatio\":\"5:6\",\"contentInfo\":null,\"height\":null,\"url\":\"http://rukmini1.flixcart.com/image/{@width}/{@height}/jg15aq80/shoe/a/5/g/slyde-nu-idp-ss18-10-puma-golden-brown-chocolate-brown-original-imaf4dfpbvb2efpf.jpeg?q={@quality}\",\"width\":null},{\"aspectRatio\":\"5:6\",\"contentInfo\":null,\"height\":null,\"url\":\"http://rukmini1.flixcart.com/image/{@width}/{@height}/jg15aq80/shoe/a/5/g/slyde-nu-idp-ss18-10-puma-golden-brown-chocolate-brown-original-imaf4dfpsd6hvgbg.jpeg?q={@quality}\",\"width\":null},{\"aspectRatio\":\"5:6\",\"contentInfo\":null,\"height\":null,\"url\":\"http://rukmini1.flixcart.com/image/{@width}/{@height}/jg15aq80/shoe/a/5/g/slyde-nu-idp-ss18-10-puma-golden-brown-chocolate-brown-original-imaf4dfpx4rmfsb3.jpeg?q={@quality}\",\"width\":null},{\"aspectRatio\":\"5:6\",\"contentInfo\":null,\"height\":null,\"url\":\"http://rukmini1.flixcart.com/image/{@width}/{@height}/jg15aq80/shoe/a/5/g/slyde-nu-idp-ss18-10-puma-golden-brown-chocolate-brown-original-imaf4dfpk3jzt8un.jpeg?q={@quality}\",\"width\":null},{\"aspectRatio\":\"5:6\",\"contentInfo\":null,\"height\":null,\"url\":\"http://rukmini1.flixcart.com/image/{@width}/{@height}/jg15aq80/shoe/a/5/g/slyde-nu-idp-ss18-10-puma-golden-brown-chocolate-brown-original-imaf4dfpyxbkaerp.jpeg?q={@quality}\",\"width\":null},{\"aspectRatio\":\"5:6\",\"contentInfo\":null,\"height\":null,\"url\":\"http://rukmini1.flixcart.com/image/{@width}/{@height}/jg15aq80/shoe/a/5/g/slyde-nu-idp-ss18-10-puma-golden-brown-chocolate-brown-original-imaf4dfpznhhzzvc.jpeg?q={@quality}\",\"width\":null}],\"listingId\":\"LSTSHOF32HGBFQZCGUJDUMPIU\",\"productUrl\":\"/puma-slyde-nu-idp-sneakers-men/p/itmf3xxbeedynhxe?pid=SHOF32HGBFQZCGUJ&lid=LSTSHOF32HGBFQZCGUJDUMPIU&marketplace=FLIPKART\",\"quickViewUrl\":\"/quick-view?pid=SHOF32HGBFQZCGUJ&lid=LSTSHOF32HGBFQZCGUJDUMPIU\",\"smartUrl\":\"http://dl.flipkart.com/dl/puma-slyde-nu-idp-sneakers-men/p/itmf3xxbeedynhxe?pid=SHOF32HGBFQZCGUJ\",\"titles\":{\"coSubtitle\":\"Size: 6\",\"newTitle\":\"Slyde NU IDP Sneakers For Men\",\"subtitle\":\"Tan, Brown\",\"superTitle\":\"Puma\",\"title\":\"Puma Slyde NU IDP Sneakers For Men\"}},\"SHOEVXU7WEXWUAWP\":{\"attributeIndexes\":[3,3],\"available\":false,\"grade\":{\"color\":null,\"id\":null,\"name\":null,\"shortDesc\":null},\"images\":[{\"aspectRatio\":\"5:6\",\"contentInfo\":null,\"height\":null,\"url\":\"http://rukmini1.flixcart.com/image/{@width}/{@height}/jasj6a80/shoe/c/d/t/slyde-dp-nw1-9-puma-blue-depths-lapis-blue-original-imafyap2gdyptm8c.jpeg?q={@quality}\",\"width\":null},{\"aspectRatio\":\"5:6\",\"contentInfo\":null,\"height\":null,\"url\":\"http://rukmini1.flixcart.com/image/{@width}/{@height}/jasj6a80/shoe/c/d/t/slyde-dp-nw1-9-puma-blue-depths-lapis-blue-original-imafyazauhkdefth.jpeg?q={@quality}\",\"width\":null},{\"aspectRatio\":\"5:6\",\"contentInfo\":null,\"height\":null,\"url\":\"http://rukmini1.flixcart.com/image/{@width}/{@height}/jatym4w0/shoe/c/d/t/slyde-dp-nw1-9-puma-blue-depths-lapis-blue-original-imafyazfu4emwx6y.jpeg?q={@quality}\",\"width\":null},{\"aspectRatio\":\"5:6\",\"contentInfo\":null,\"height\":null,\"url\":\"http://rukmini1.flixcart.com/image/{@width}/{@height}/jasj6a80/shoe/c/d/t/slyde-dp-nw1-9-puma-blue-depths-lapis-blue-original-imafyazaeueffsjg.jpeg?q={@quality}\",\"width\":null}],\"listingId\":\"LSTSHOEVXU7WEXWUAWP6HJYQ8\",\"productUrl\":\"/puma-slyde-dp-sneakers-men/p/itmf8gp3jge7ambz?pid=SHOEVXU7WEXWUAWP&lid=LSTSHOEVXU7WEXWUAWP6HJYQ8&marketplace=FLIPKART\",\"quickViewUrl\":\"/quick-view?pid=SHOEVXU7WEXWUAWP&lid=LSTSHOEVXU7WEXWUAWP6HJYQ8\",\"smartUrl\":\"http://dl.flipkart.com/dl/puma-slyde-dp-sneakers-men/p/itmf8gp3jge7ambz?pid=SHOEVXU7WEXWUAWP\",\"titles\":{\"coSubtitle\":\"Size: 8\",\"newTitle\":\"Slyde DP Sneakers For Men\",\"subtitle\":\"Blue\",\"superTitle\":\"Puma\",\"title\":\"Puma Slyde DP Sneakers For Men\"}},\"SHOF32HGZYXJBKVP\":{\"attributeIndexes\":[10,1],\"available\":false,\"grade\":{\"color\":null,\"id\":null,\"name\":null,\"shortDesc\":null},\"images\":[{\"aspectRatio\":\"5:6\",\"contentInfo\":null,\"height\":null,\"url\":\"http://rukmini1.flixcart.com/image/{@width}/{@height}/jg2kqkw0/shoe/q/m/c/slyde-nu-idp-ss18-6-puma-puma-black-electric-blue-lemonade-original-imaf4ef2pquhygks.jpeg?q={@quality}\",\"width\":null},{\"aspectRatio\":\"5:6\",\"contentInfo\":null,\"height\":null,\"url\":\"http://rukmini1.flixcart.com/image/{@width}/{@height}/jg2kqkw0/shoe/q/m/c/slyde-nu-idp-ss18-6-puma-puma-black-electric-blue-lemonade-original-imaf4ef222dbjhje.jpeg?q={@quality}\",\"width\":null},{\"aspectRatio\":\"5:6\",\"contentInfo\":null,\"height\":null,\"url\":\"http://rukmini1.flixcart.com/image/{@width}/{@height}/jg2kqkw0/shoe/q/m/c/slyde-nu-idp-ss18-6-puma-puma-black-electric-blue-lemonade-original-imaf4ef2zh8xzacd.jpeg?q={@quality}\",\"width\":null},{\"aspectRatio\":\"5:6\",\"contentInfo\":null,\"height\":null,\"url\":\"http://rukmini1.flixcart.com/image/{@width}/{@height}/jg2kqkw0/shoe/q/m/c/slyde-nu-idp-ss18-6-puma-puma-black-electric-blue-lemonade-original-imaf4ef2hbjeza5p.jpeg?q={@quality}\",\"width\":null},{\"aspectRatio\":\"5:6\",\"contentInfo\":null,\"height\":null,\"url\":\"http://rukmini1.flixcart.com/image/{@width}/{@height}/jg2kqkw0/shoe/q/m/c/slyde-nu-idp-ss18-6-puma-puma-black-electric-blue-lemonade-original-imaf4ef2pkgfhfys.jpeg?q={@quality}\",\"width\":null},{\"aspectRatio\":\"5:6\",\"contentInfo\":null,\"height\":null,\"url\":\"http://rukmini1.flixcart.com/image/{@width}/{@height}/jg2kqkw0/shoe/q/m/c/slyde-nu-idp-ss18-6-puma-puma-black-electric-blue-lemonade-original-imaf4ef2uwjaxzrh.jpeg?q={@quality}\",\"width\":null}],\"listingId\":\"LSTSHOF32HGZYXJBKVPNL91SB\",\"productUrl\":\"/puma-slyde-nu-idp-sneakers-men/p/itmf3xxcpwtz2sxc?pid=SHOF32HGZYXJBKVP&lid=LSTSHOF32HGZYXJBKVPNL91SB&marketplace=FLIPKART\",\"quickViewUrl\":\"/quick-view?pid=SHOF32HGZYXJBKVP&lid=LSTSHOF32HGZYXJBKVPNL91SB\",\"smartUrl\":\"http://dl.flipkart.com/dl/puma-slyde-nu-idp-sneakers-men/p/itmf3xxcpwtz2sxc?pid=SHOF32HGZYXJBKVP\",\"titles\":{\"coSubtitle\":\"Size: 6\",\"newTitle\":\"Slyde NU IDP Sneakers For Men\",\"subtitle\":\"Black\",\"superTitle\":\"Puma\",\"title\":\"Puma Slyde NU IDP Sneakers For Men\"}},\"SHOF32HGHNYHXZZF\":{\"attributeIndexes\":[10,4],\"available\":false,\"grade\":{\"color\":null,\"id\":null,\"name\":null,\"shortDesc\":null},\"images\":[{\"aspectRatio\":\"5:6\",\"contentInfo\":null,\"height\":null,\"url\":\"http://rukmini1.flixcart.com/image/{@width}/{@height}/jg2kqkw0/shoe/q/m/c/slyde-nu-idp-ss18-6-puma-puma-black-electric-blue-lemonade-original-imaf4ef2pquhygks.jpeg?q={@quality}\",\"width\":null},{\"aspectRatio\":\"5:6\",\"contentInfo\":null,\"height\":null,\"url\":\"http://rukmini1.flixcart.com/image/{@width}/{@height}/jg2kqkw0/shoe/q/m/c/slyde-nu-idp-ss18-6-puma-puma-black-electric-blue-lemonade-original-imaf4ef222dbjhje.jpeg?q={@quality}\",\"width\":null},{\"aspectRatio\":\"5:6\",\"contentInfo\":null,\"height\":null,\"url\":\"http://rukmini1.flixcart.com/image/{@width}/{@height}/jg2kqkw0/shoe/q/m/c/slyde-nu-idp-ss18-6-puma-puma-black-electric-blue-lemonade-original-imaf4ef2zh8xzacd.jpeg?q={@quality}\",\"width\":null},{\"aspectRatio\":\"5:6\",\"contentInfo\":null,\"height\":null,\"url\":\"http://rukmini1.flixcart.com/image/{@width}/{@height}/jg2kqkw0/shoe/q/m/c/slyde-nu-idp-ss18-6-puma-puma-black-electric-blue-lemonade-original-imaf4ef2hbjeza5p.jpeg?q={@quality}\",\"width\":null},{\"aspectRatio\":\"5:6\",\"contentInfo\":null,\"height\":null,\"url\":\"http://rukmini1.flixcart.com/image/{@width}/{@height}/jg2kqkw0/shoe/q/m/c/slyde-nu-idp-ss18-6-puma-puma-black-electric-blue-lemonade-original-imaf4ef2pkgfhfys.jpeg?q={@quality}\",\"width\":null},{\"aspectRatio\":\"5:6\",\"contentInfo\":null,\"height\":null,\"url\":\"http://rukmini1.flixcart.com/image/{@width}/{@height}/jg2kqkw0/shoe/q/m/c/slyde-nu-idp-ss18-6-puma-puma-black-electric-blue-lemonade-original-imaf4ef2uwjaxzrh.jpeg?q={@quality}\",\"width\":null}],\"listingId\":\"LSTSHOF32HGHNYHXZZFEPNNVK\",\"productUrl\":\"/puma-slyde-nu-idp-sneakers-men/p/itmf3xxcpwtz2sxc?pid=SHOF32HGHNYHXZZF&lid=LSTSHOF32HGHNYHXZZFEPNNVK&marketplace=FLIPKART\",\"quickViewUrl\":\"/quick-view?pid=SHOF32HGHNYHXZZF&lid=LSTSHOF32HGHNYHXZZFEPNNVK\",\"smartUrl\":\"http://dl.flipkart.com/dl/puma-slyde-nu-idp-sneakers-men/p/itmf3xxcpwtz2sxc?pid=SHOF32HGHNYHXZZF\",\"titles\":{\"coSubtitle\":\"Size: 9\",\"newTitle\":\"Slyde NU IDP Sneakers For Men\",\"subtitle\":\"Black\",\"superTitle\":\"Puma\",\"title\":\"Puma Slyde NU IDP Sneakers For Men\"}},\"SHOEVXU7MUUH4JWN\":{\"attributeIndexes\":[7,3],\"available\":false,\"grade\":{\"color\":null,\"id\":null,\"name\":null,\"shortDesc\":null},\"images\":[{\"aspectRatio\":\"5:6\",\"contentInfo\":null,\"height\":null,\"url\":\"http://rukmini1.flixcart.com/image/{@width}/{@height}/jasj6a80/shoe/q/w/h/slyde-dp-nw1-9-puma-olive-night-original-imafyazfurzpwfkh.jpeg?q={@quality}\",\"width\":null},{\"aspectRatio\":\"5:6\",\"contentInfo\":null,\"height\":null,\"url\":\"http://rukmini1.flixcart.com/image/{@width}/{@height}/jasj6a80/shoe/q/w/h/slyde-dp-nw1-9-puma-olive-night-original-imafyazfzdxjtgyj.jpeg?q={@quality}\",\"width\":null},{\"aspectRatio\":\"5:6\",\"contentInfo\":null,\"height\":null,\"url\":\"http://rukmini1.flixcart.com/image/{@width}/{@height}/jasj6a80/shoe/q/w/h/slyde-dp-nw1-9-puma-olive-night-original-imafyarff87pen27.jpeg?q={@quality}\",\"width\":null},{\"aspectRatio\":\"5:6\",\"contentInfo\":null,\"height\":null,\"url\":\"http://rukmini1.flixcart.com/image/{@width}/{@height}/jasj6a80/shoe/q/w/h/slyde-dp-nw1-9-puma-olive-night-original-imafyazmtzhakgu8.jpeg?q={@quality}\",\"width\":null}],\"listingId\":\"LSTSHOEVXU7MUUH4JWNLFCZ3G\",\"productUrl\":\"/puma-slyde-dp-sneakers-men/p/itmf8gp2h5ztyzzx?pid=SHOEVXU7MUUH4JWN&lid=LSTSHOEVXU7MUUH4JWNLFCZ3G&marketplace=FLIPKART\",\"quickViewUrl\":\"/quick-view?pid=SHOEVXU7MUUH4JWN&lid=LSTSHOEVXU7MUUH4JWNLFCZ3G\",\"smartUrl\":\"http://dl.flipkart.com/dl/puma-slyde-dp-sneakers-men/p/itmf8gp2h5ztyzzx?pid=SHOEVXU7MUUH4JWN\",\"titles\":{\"coSubtitle\":\"Size: 8\",\"newTitle\":\"Slyde DP Sneakers For Men\",\"subtitle\":\"Grey, Olive\",\"superTitle\":\"Puma\",\"title\":\"Puma Slyde DP Sneakers For Men\"}},\"SHOF32HGKZR7JUFT\":{\"attributeIndexes\":[10,3],\"available\":false,\"grade\":{\"color\":null,\"id\":null,\"name\":null,\"shortDesc\":null},\"images\":[{\"aspectRatio\":\"5:6\",\"contentInfo\":null,\"height\":null,\"url\":\"http://rukmini1.flixcart.com/image/{@width}/{@height}/jg2kqkw0/shoe/q/m/c/slyde-nu-idp-ss18-6-puma-puma-black-electric-blue-lemonade-original-imaf4ef2pquhygks.jpeg?q={@quality}\",\"width\":null},{\"aspectRatio\":\"5:6\",\"contentInfo\":null,\"height\":null,\"url\":\"http://rukmini1.flixcart.com/image/{@width}/{@height}/jg2kqkw0/shoe/q/m/c/slyde-nu-idp-ss18-6-puma-puma-black-electric-blue-lemonade-original-imaf4ef222dbjhje.jpeg?q={@quality}\",\"width\":null},{\"aspectRatio\":\"5:6\",\"contentInfo\":null,\"height\":null,\"url\":\"http://rukmini1.flixcart.com/image/{@width}/{@height}/jg2kqkw0/shoe/q/m/c/slyde-nu-idp-ss18-6-puma-puma-black-electric-blue-lemonade-original-imaf4ef2zh8xzacd.jpeg?q={@quality}\",\"width\":null},{\"aspectRatio\":\"5:6\",\"contentInfo\":null,\"height\":null,\"url\":\"http://rukmini1.flixcart.com/image/{@width}/{@height}/jg2kqkw0/shoe/q/m/c/slyde-nu-idp-ss18-6-puma-puma-black-electric-blue-lemonade-original-imaf4ef2hbjeza5p.jpeg?q={@quality}\",\"width\":null},{\"aspectRatio\":\"5:6\",\"contentInfo\":null,\"height\":null,\"url\":\"http://rukmini1.flixcart.com/image/{@width}/{@height}/jg2kqkw0/shoe/q/m/c/slyde-nu-idp-ss18-6-puma-puma-black-electric-blue-lemonade-original-imaf4ef2pkgfhfys.jpeg?q={@quality}\",\"width\":null},{\"aspectRatio\":\"5:6\",\"contentInfo\":null,\"height\":null,\"url\":\"http://rukmini1.flixcart.com/image/{@width}/{@height}/jg2kqkw0/shoe/q/m/c/slyde-nu-idp-ss18-6-puma-puma-black-electric-blue-lemonade-original-imaf4ef2uwjaxzrh.jpeg?q={@quality}\",\"width\":null}],\"listingId\":\"LSTSHOF32HGKZR7JUFTDEGJAQ\",\"productUrl\":\"/puma-slyde-nu-idp-sneakers-men/p/itmf3xxcpwtz2sxc?pid=SHOF32HGKZR7JUFT&lid=LSTSHOF32HGKZR7JUFTDEGJAQ&marketplace=FLIPKART\",\"quickViewUrl\":\"/quick-view?pid=SHOF32HGKZR7JUFT&lid=LSTSHOF32HGKZR7JUFTDEGJAQ\",\"smartUrl\":\"http://dl.flipkart.com/dl/puma-slyde-nu-idp-sneakers-men/p/itmf3xxcpwtz2sxc?pid=SHOF32HGKZR7JUFT\",\"titles\":{\"coSubtitle\":\"Size: 8\",\"newTitle\":\"Slyde NU IDP Sneakers For Men\",\"subtitle\":\"Black\",\"superTitle\":\"Puma\",\"title\":\"Puma Slyde NU IDP Sneakers For Men\"}},\"SHOF32HGFBTBBJRN\":{\"attributeIndexes\":[11,1],\"available\":false,\"grade\":{\"color\":null,\"id\":null,\"name\":null,\"shortDesc\":null},\"images\":[{\"aspectRatio\":\"5:6\",\"contentInfo\":null,\"height\":null,\"url\":\"http://rukmini1.flixcart.com/image/{@width}/{@height}/jialea80/shoe/z/b/7/slyde-nu-idp-ss18-7-puma-quiet-shade-peacoat-original-imaf64ghzwzvtmw7.jpeg?q={@quality}\",\"width\":null},{\"aspectRatio\":\"5:6\",\"contentInfo\":null,\"height\":null,\"url\":\"http://rukmini1.flixcart.com/image/{@width}/{@height}/jialea80/shoe/z/b/7/slyde-nu-idp-ss18-7-puma-quiet-shade-peacoat-original-imaf64ghzwhayfza.jpeg?q={@quality}\",\"width\":null},{\"aspectRatio\":\"5:6\",\"contentInfo\":null,\"height\":null,\"url\":\"http://rukmini1.flixcart.com/image/{@width}/{@height}/jialea80/shoe/z/b/7/slyde-nu-idp-ss18-7-puma-quiet-shade-peacoat-original-imaf64ghu2zq8yt2.jpeg?q={@quality}\",\"width\":null},{\"aspectRatio\":\"5:6\",\"contentInfo\":null,\"height\":null,\"url\":\"http://rukmini1.flixcart.com/image/{@width}/{@height}/jialea80/shoe/z/b/7/slyde-nu-idp-ss18-7-puma-quiet-shade-peacoat-original-imaf64ghv997pnmv.jpeg?q={@quality}\",\"width\":null},{\"aspectRatio\":\"5:6\",\"contentInfo\":null,\"height\":null,\"url\":\"http://rukmini1.flixcart.com/image/{@width}/{@height}/jialea80/shoe/z/b/7/slyde-nu-idp-ss18-7-puma-quiet-shade-peacoat-original-imaf64gh572anzhe.jpeg?q={@quality}\",\"width\":null},{\"aspectRatio\":\"5:6\",\"contentInfo\":null,\"height\":null,\"url\":\"http://rukmini1.flixcart.com/image/{@width}/{@height}/jialea80/shoe/z/b/7/slyde-nu-idp-ss18-7-puma-quiet-shade-peacoat-original-imaf64ghc5q77zsc.jpeg?q={@quality}\",\"width\":null}],\"listingId\":\"LSTSHOF32HGFBTBBJRNEANQUY\",\"productUrl\":\"/puma-slyde-nu-idp-sneakers-men/p/itmf8gp3zzqqpkhg?pid=SHOF32HGFBTBBJRN&lid=LSTSHOF32HGFBTBBJRNEANQUY&marketplace=FLIPKART\",\"quickViewUrl\":\"/quick-view?pid=SHOF32HGFBTBBJRN&lid=LSTSHOF32HGFBTBBJRNEANQUY\",\"smartUrl\":\"http://dl.flipkart.com/dl/puma-slyde-nu-idp-sneakers-men/p/itmf8gp3zzqqpkhg?pid=SHOF32HGFBTBBJRN\",\"titles\":{\"coSubtitle\":\"Size: 6\",\"newTitle\":\"Slyde NU IDP Sneakers For Men\",\"subtitle\":\"Grey\",\"superTitle\":\"Puma\",\"title\":\"Puma Slyde NU IDP Sneakers For Men\"}},\"SHOEYRU7FVEVHZ6B\":{\"attributeIndexes\":[4,7],\"available\":false,\"grade\":{\"color\":null,\"id\":null,\"name\":null,\"shortDesc\":null},\"images\":[{\"aspectRatio\":\"5:6\",\"contentInfo\":null,\"height\":null,\"url\":\"http://rukmini1.flixcart.com/image/{@width}/{@height}/jfikknk0/shoe/z/6/b/slyde-nu-idp-12-puma-blue-depths-lapis-blue-original-imaf3ygyh5zkzg7u.jpeg?q={@quality}\",\"width\":null},{\"aspectRatio\":\"5:6\",\"contentInfo\":null,\"height\":null,\"url\":\"http://rukmini1.flixcart.com/image/{@width}/{@height}/jfikknk0/shoe/z/6/b/slyde-nu-idp-12-puma-blue-depths-lapis-blue-original-imaf3ygzcvucbtfs.jpeg?q={@quality}\",\"width\":null},{\"aspectRatio\":\"5:6\",\"contentInfo\":null,\"height\":null,\"url\":\"http://rukmini1.flixcart.com/image/{@width}/{@height}/jfikknk0/shoe/z/6/b/slyde-nu-idp-12-puma-blue-depths-lapis-blue-original-imaf3ygz8sqxzyt5.jpeg?q={@quality}\",\"width\":null},{\"aspectRatio\":\"5:6\",\"contentInfo\":null,\"height\":null,\"url\":\"http://rukmini1.flixcart.com/image/{@width}/{@height}/jfikknk0/shoe/z/6/b/slyde-nu-idp-12-puma-blue-depths-lapis-blue-original-imaf3ygyvfgntmmk.jpeg?q={@quality}\",\"width\":null},{\"aspectRatio\":\"5:6\",\"contentInfo\":null,\"height\":null,\"url\":\"http://rukmini1.flixcart.com/image/{@width}/{@height}/jfikknk0/shoe/z/6/b/slyde-nu-idp-12-puma-blue-depths-lapis-blue-original-imaf3ygz2k4tvtf6.jpeg?q={@quality}\",\"width\":null},{\"aspectRatio\":\"5:6\",\"contentInfo\":null,\"height\":null,\"url\":\"http://rukmini1.flixcart.com/image/{@width}/{@height}/jfikknk0/shoe/z/6/b/slyde-nu-idp-12-puma-blue-depths-lapis-blue-original-imaf3ygzmtpzxpgx.jpeg?q={@quality}\",\"width\":null}],\"listingId\":\"LSTSHOEYRU7FVEVHZ6BNEIEL2\",\"productUrl\":\"/puma-slyde-nu-idp-sneakers-men/p/itmf3xchnku59ncr?pid=SHOEYRU7FVEVHZ6B&lid=LSTSHOEYRU7FVEVHZ6BNEIEL2&marketplace=FLIPKART\",\"quickViewUrl\":\"/quick-view?pid=SHOEYRU7FVEVHZ6B&lid=LSTSHOEYRU7FVEVHZ6BNEIEL2\",\"smartUrl\":\"http://dl.flipkart.com/dl/puma-slyde-nu-idp-sneakers-men/p/itmf3xchnku59ncr?pid=SHOEYRU7FVEVHZ6B\",\"titles\":{\"coSubtitle\":\"Size: 12\",\"newTitle\":\"Slyde NU IDP Sneakers For Men\",\"subtitle\":\"Blue\",\"superTitle\":\"Puma\",\"title\":\"Puma Slyde NU IDP Sneakers For Men\"}},\"SHOEVXU7GX3T8RFF\":{\"attributeIndexes\":[3,2],\"available\":false,\"grade\":{\"color\":null,\"id\":null,\"name\":null,\"shortDesc\":null},\"images\":[{\"aspectRatio\":\"5:6\",\"contentInfo\":null,\"height\":null,\"url\":\"http://rukmini1.flixcart.com/image/{@width}/{@height}/jasj6a80/shoe/c/d/t/slyde-dp-nw1-9-puma-blue-depths-lapis-blue-original-imafyap2gdyptm8c.jpeg?q={@quality}\",\"width\":null},{\"aspectRatio\":\"5:6\",\"contentInfo\":null,\"height\":null,\"url\":\"http://rukmini1.flixcart.com/image/{@width}/{@height}/jasj6a80/shoe/c/d/t/slyde-dp-nw1-9-puma-blue-depths-lapis-blue-original-imafyazauhkdefth.jpeg?q={@quality}\",\"width\":null},{\"aspectRatio\":\"5:6\",\"contentInfo\":null,\"height\":null,\"url\":\"http://rukmini1.flixcart.com/image/{@width}/{@height}/jatym4w0/shoe/c/d/t/slyde-dp-nw1-9-puma-blue-depths-lapis-blue-original-imafyazfu4emwx6y.jpeg?q={@quality}\",\"width\":null},{\"aspectRatio\":\"5:6\",\"contentInfo\":null,\"height\":null,\"url\":\"http://rukmini1.flixcart.com/image/{@width}/{@height}/jasj6a80/shoe/c/d/t/slyde-dp-nw1-9-puma-blue-depths-lapis-blue-original-imafyazaeueffsjg.jpeg?q={@quality}\",\"width\":null}],\"listingId\":\"LSTSHOEVXU7GX3T8RFFLLMR6L\",\"productUrl\":\"/puma-slyde-dp-sneakers-men/p/itmf8gp3jge7ambz?pid=SHOEVXU7GX3T8RFF&lid=LSTSHOEVXU7GX3T8RFFLLMR6L&marketplace=FLIPKART\",\"quickViewUrl\":\"/quick-view?pid=SHOEVXU7GX3T8RFF&lid=LSTSHOEVXU7GX3T8RFFLLMR6L\",\"smartUrl\":\"http://dl.flipkart.com/dl/puma-slyde-dp-sneakers-men/p/itmf8gp3jge7ambz?pid=SHOEVXU7GX3T8RFF\",\"titles\":{\"coSubtitle\":\"Size: 7\",\"newTitle\":\"Slyde DP Sneakers For Men\",\"subtitle\":\"Blue\",\"superTitle\":\"Puma\",\"title\":\"Puma Slyde DP Sneakers For Men\"}},\"SHOEVXU722QNDTGH\":{\"attributeIndexes\":[6,1],\"available\":false,\"grade\":{\"color\":null,\"id\":null,\"name\":null,\"shortDesc\":null},\"images\":[{\"aspectRatio\":\"5:6\",\"contentInfo\":null,\"height\":null,\"url\":\"http://rukmini1.flixcart.com/image/{@width}/{@height}/jatym4w0/shoe/h/s/p/slyde-dp-nw1-8-puma-mykonos-blue-nrgy-yellow-white-original-imafyaz8hmnnjjxr.jpeg?q={@quality}\",\"width\":null},{\"aspectRatio\":\"5:6\",\"contentInfo\":null,\"height\":null,\"url\":\"http://rukmini1.flixcart.com/image/{@width}/{@height}/jasj6a80/shoe/h/s/p/slyde-dp-nw1-8-puma-mykonos-blue-nrgy-yellow-white-original-imafyazgkypmpnx6.jpeg?q={@quality}\",\"width\":null},{\"aspectRatio\":\"5:6\",\"contentInfo\":null,\"height\":null,\"url\":\"http://rukmini1.flixcart.com/image/{@width}/{@height}/jasj6a80/shoe/h/s/p/slyde-dp-nw1-8-puma-mykonos-blue-nrgy-yellow-white-original-imafyazdazphaurx.jpeg?q={@quality}\",\"width\":null},{\"aspectRatio\":\"5:6\",\"contentInfo\":null,\"height\":null,\"url\":\"http://rukmini1.flixcart.com/image/{@width}/{@height}/jasj6a80/shoe/h/s/p/slyde-dp-nw1-8-puma-mykonos-blue-nrgy-yellow-white-original-imafyazdmutzq7xz.jpeg?q={@quality}\",\"width\":null}],\"listingId\":\"LSTSHOEVXU722QNDTGHE1OLTO\",\"productUrl\":\"/puma-slyde-dp-sneakers-men/p/itmf8gp2krgwsqzu?pid=SHOEVXU722QNDTGH&lid=LSTSHOEVXU722QNDTGHE1OLTO&marketplace=FLIPKART\",\"quickViewUrl\":\"/quick-view?pid=SHOEVXU722QNDTGH&lid=LSTSHOEVXU722QNDTGHE1OLTO\",\"smartUrl\":\"http://dl.flipkart.com/dl/puma-slyde-dp-sneakers-men/p/itmf8gp2krgwsqzu?pid=SHOEVXU722QNDTGH\",\"titles\":{\"coSubtitle\":\"Size: 6\",\"newTitle\":\"Slyde DP Sneakers For Men\",\"subtitle\":\"Blue\",\"superTitle\":\"Puma\",\"title\":\"Puma Slyde DP Sneakers For Men\"}},\"SHOEVXU7ZCZKSHFJ\":{\"attributeIndexes\":[12,2],\"available\":false,\"grade\":{\"color\":null,\"id\":null,\"name\":null,\"shortDesc\":null},\"images\":[{\"aspectRatio\":\"5:6\",\"contentInfo\":null,\"height\":null,\"url\":\"http://rukmini1.flixcart.com/image/{@width}/{@height}/jar3qfk0/shoe/x/f/q/slyde-dp-nw1-8-puma-tibetan-red-cherry-tomato-original-imafy98tynqwuhjr.jpeg?q={@quality}\",\"width\":null},{\"aspectRatio\":\"5:6\",\"contentInfo\":null,\"height\":null,\"url\":\"http://rukmini1.flixcart.com/image/{@width}/{@height}/jar3qfk0/shoe/x/f/q/slyde-dp-nw1-8-puma-tibetan-red-cherry-tomato-original-imafy98tx9ap2czp.jpeg?q={@quality}\",\"width\":null},{\"aspectRatio\":\"5:6\",\"contentInfo\":null,\"height\":null,\"url\":\"http://rukmini1.flixcart.com/image/{@width}/{@height}/jar3qfk0/shoe/x/f/q/slyde-dp-nw1-8-puma-tibetan-red-cherry-tomato-original-imafy9gzrnnuymhg.jpeg?q={@quality}\",\"width\":null},{\"aspectRatio\":\"5:6\",\"contentInfo\":null,\"height\":null,\"url\":\"http://rukmini1.flixcart.com/image/{@width}/{@height}/jar3qfk0/shoe/x/f/q/slyde-dp-nw1-8-puma-tibetan-red-cherry-tomato-original-imafy98twmpquhwb.jpeg?q={@quality}\",\"width\":null}],\"listingId\":\"LSTSHOEVXU7ZCZKSHFJ05BAZM\",\"productUrl\":\"/puma-slyde-dp-sneakers-men/p/itmf3yyjrwstqpsp?pid=SHOEVXU7ZCZKSHFJ&lid=LSTSHOEVXU7ZCZKSHFJ05BAZM&marketplace=FLIPKART\",\"quickViewUrl\":\"/quick-view?pid=SHOEVXU7ZCZKSHFJ&lid=LSTSHOEVXU7ZCZKSHFJ05BAZM\",\"smartUrl\":\"http://dl.flipkart.com/dl/puma-slyde-dp-sneakers-men/p/itmf3yyjrwstqpsp?pid=SHOEVXU7ZCZKSHFJ\",\"titles\":{\"coSubtitle\":\"Size: 7\",\"newTitle\":\"Slyde DP Sneakers For Men\",\"subtitle\":\"Maroon\",\"superTitle\":\"Puma\",\"title\":\"Puma Slyde DP Sneakers For Men\"}},\"SHOF32HGKUFKFYHX\":{\"attributeIndexes\":[10,2],\"available\":false,\"grade\":{\"color\":null,\"id\":null,\"name\":null,\"shortDesc\":null},\"images\":[{\"aspectRatio\":\"5:6\",\"contentInfo\":null,\"height\":null,\"url\":\"http://rukmini1.flixcart.com/image/{@width}/{@height}/jg2kqkw0/shoe/q/m/c/slyde-nu-idp-ss18-6-puma-puma-black-electric-blue-lemonade-original-imaf4ef2pquhygks.jpeg?q={@quality}\",\"width\":null},{\"aspectRatio\":\"5:6\",\"contentInfo\":null,\"height\":null,\"url\":\"http://rukmini1.flixcart.com/image/{@width}/{@height}/jg2kqkw0/shoe/q/m/c/slyde-nu-idp-ss18-6-puma-puma-black-electric-blue-lemonade-original-imaf4ef222dbjhje.jpeg?q={@quality}\",\"width\":null},{\"aspectRatio\":\"5:6\",\"contentInfo\":null,\"height\":null,\"url\":\"http://rukmini1.flixcart.com/image/{@width}/{@height}/jg2kqkw0/shoe/q/m/c/slyde-nu-idp-ss18-6-puma-puma-black-electric-blue-lemonade-original-imaf4ef2zh8xzacd.jpeg?q={@quality}\",\"width\":null},{\"aspectRatio\":\"5:6\",\"contentInfo\":null,\"height\":null,\"url\":\"http://rukmini1.flixcart.com/image/{@width}/{@height}/jg2kqkw0/shoe/q/m/c/slyde-nu-idp-ss18-6-puma-puma-black-electric-blue-lemonade-original-imaf4ef2hbjeza5p.jpeg?q={@quality}\",\"width\":null},{\"aspectRatio\":\"5:6\",\"contentInfo\":null,\"height\":null,\"url\":\"http://rukmini1.flixcart.com/image/{@width}/{@height}/jg2kqkw0/shoe/q/m/c/slyde-nu-idp-ss18-6-puma-puma-black-electric-blue-lemonade-original-imaf4ef2pkgfhfys.jpeg?q={@quality}\",\"width\":null},{\"aspectRatio\":\"5:6\",\"contentInfo\":null,\"height\":null,\"url\":\"http://rukmini1.flixcart.com/image/{@width}/{@height}/jg2kqkw0/shoe/q/m/c/slyde-nu-idp-ss18-6-puma-puma-black-electric-blue-lemonade-original-imaf4ef2uwjaxzrh.jpeg?q={@quality}\",\"width\":null}],\"listingId\":\"LSTSHOF32HGKUFKFYHXPDTA60\",\"productUrl\":\"/puma-slyde-nu-idp-sneakers-men/p/itmf3xxcpwtz2sxc?pid=SHOF32HGKUFKFYHX&lid=LSTSHOF32HGKUFKFYHXPDTA60&marketplace=FLIPKART\",\"quickViewUrl\":\"/quick-view?pid=SHOF32HGKUFKFYHX&lid=LSTSHOF32HGKUFKFYHXPDTA60\",\"smartUrl\":\"http://dl.flipkart.com/dl/puma-slyde-nu-idp-sneakers-men/p/itmf3xxcpwtz2sxc?pid=SHOF32HGKUFKFYHX\",\"titles\":{\"coSubtitle\":\"Size: 7\",\"newTitle\":\"Slyde NU IDP Sneakers For Men\",\"subtitle\":\"Blue, Black\",\"superTitle\":\"Puma\",\"title\":\"Puma Slyde NU IDP Sneakers For Men\"}},\"SHOEVXU7ZGZEWGCG\":{\"attributeIndexes\":[6,3],\"available\":false,\"grade\":{\"color\":null,\"id\":null,\"name\":null,\"shortDesc\":null},\"images\":[{\"aspectRatio\":\"5:6\",\"contentInfo\":null,\"height\":null,\"url\":\"http://rukmini1.flixcart.com/image/{@width}/{@height}/jatym4w0/shoe/h/s/p/slyde-dp-nw1-8-puma-mykonos-blue-nrgy-yellow-white-original-imafyaz8hmnnjjxr.jpeg?q={@quality}\",\"width\":null},{\"aspectRatio\":\"5:6\",\"contentInfo\":null,\"height\":null,\"url\":\"http://rukmini1.flixcart.com/image/{@width}/{@height}/jasj6a80/shoe/h/s/p/slyde-dp-nw1-8-puma-mykonos-blue-nrgy-yellow-white-original-imafyazgkypmpnx6.jpeg?q={@quality}\",\"width\":null},{\"aspectRatio\":\"5:6\",\"contentInfo\":null,\"height\":null,\"url\":\"http://rukmini1.flixcart.com/image/{@width}/{@height}/jasj6a80/shoe/h/s/p/slyde-dp-nw1-8-puma-mykonos-blue-nrgy-yellow-white-original-imafyazdazphaurx.jpeg?q={@quality}\",\"width\":null},{\"aspectRatio\":\"5:6\",\"contentInfo\":null,\"height\":null,\"url\":\"http://rukmini1.flixcart.com/image/{@width}/{@height}/jasj6a80/shoe/h/s/p/slyde-dp-nw1-8-puma-mykonos-blue-nrgy-yellow-white-original-imafyazdmutzq7xz.jpeg?q={@quality}\",\"width\":null}],\"listingId\":\"LSTSHOEVXU7ZGZEWGCGVCLQQT\",\"productUrl\":\"/puma-slyde-dp-sneakers-men/p/itmf8gp2krgwsqzu?pid=SHOEVXU7ZGZEWGCG&lid=LSTSHOEVXU7ZGZEWGCGVCLQQT&marketplace=FLIPKART\",\"quickViewUrl\":\"/quick-view?pid=SHOEVXU7ZGZEWGCG&lid=LSTSHOEVXU7ZGZEWGCGVCLQQT\",\"smartUrl\":\"http://dl.flipkart.com/dl/puma-slyde-dp-sneakers-men/p/itmf8gp2krgwsqzu?pid=SHOEVXU7ZGZEWGCG\",\"titles\":{\"coSubtitle\":\"Size: 8\",\"newTitle\":\"Slyde DP Sneakers For Men\",\"subtitle\":\"Blue\",\"superTitle\":\"Puma\",\"title\":\"Puma Slyde DP Sneakers For Men\"}},\"SHOEVXU7FY5H8FYB\":{\"attributeIndexes\":[1,1],\"available\":false,\"grade\":{\"color\":null,\"id\":null,\"name\":null,\"shortDesc\":null},\"images\":[{\"aspectRatio\":\"5:6\",\"contentInfo\":null,\"height\":null,\"url\":\"http://rukmini1.flixcart.com/image/{@width}/{@height}/jasj6a80/shoe/s/h/p/slyde-dp-nw1-9-puma-black-cherry-tomato-original-imafyazbzkrza56z.jpeg?q={@quality}\",\"width\":null},{\"aspectRatio\":\"5:6\",\"contentInfo\":null,\"height\":null,\"url\":\"http://rukmini1.flixcart.com/image/{@width}/{@height}/jcrz6vk0/shoe/s/h/p/slyde-dp-nw1-11-puma-black-cherry-tomato-original-imaffu2qdhufnqjj.jpeg?q={@quality}\",\"width\":null},{\"aspectRatio\":\"5:6\",\"contentInfo\":null,\"height\":null,\"url\":\"http://rukmini1.flixcart.com/image/{@width}/{@height}/jatym4w0/shoe/s/h/p/slyde-dp-nw1-9-puma-black-cherry-tomato-original-imafyazvsepwggfs.jpeg?q={@quality}\",\"width\":null},{\"aspectRatio\":\"5:6\",\"contentInfo\":null,\"height\":null,\"url\":\"http://rukmini1.flixcart.com/image/{@width}/{@height}/jasj6a80/shoe/s/h/p/slyde-dp-nw1-9-puma-black-cherry-tomato-original-imafyazbry6vymzw.jpeg?q={@quality}\",\"width\":null},{\"aspectRatio\":\"5:6\",\"contentInfo\":null,\"height\":null,\"url\":\"http://rukmini1.flixcart.com/image/{@width}/{@height}/jasj6a80/shoe/s/h/p/slyde-dp-nw1-9-puma-black-cherry-tomato-original-imafyazbgmft2zcb.jpeg?q={@quality}\",\"width\":null}],\"listingId\":\"LSTSHOEVXU7FY5H8FYBKO4HB9\",\"productUrl\":\"/puma-slyde-dp-sneakers-men/p/itmf3yyjxjzy2wkm?pid=SHOEVXU7FY5H8FYB&lid=LSTSHOEVXU7FY5H8FYBKO4HB9&marketplace=FLIPKART\",\"quickViewUrl\":\"/quick-view?pid=SHOEVXU7FY5H8FYB&lid=LSTSHOEVXU7FY5H8FYBKO4HB9\",\"smartUrl\":\"http://dl.flipkart.com/dl/puma-slyde-dp-sneakers-men/p/itmf3yyjxjzy2wkm?pid=SHOEVXU7FY5H8FYB\",\"titles\":{\"coSubtitle\":\"Size: 6\",\"newTitle\":\"Slyde DP Sneakers For Men\",\"subtitle\":\"Black\",\"superTitle\":\"Puma\",\"title\":\"Puma Slyde DP Sneakers For Men\"}},\"SHOEVXU7BJAEMAMG\":{\"attributeIndexes\":[1,3],\"available\":false,\"grade\":{\"color\":null,\"id\":null,\"name\":null,\"shortDesc\":null},\"images\":[{\"aspectRatio\":\"5:6\",\"contentInfo\":null,\"height\":null,\"url\":\"http://rukmini1.flixcart.com/image/{@width}/{@height}/jasj6a80/shoe/s/h/p/slyde-dp-nw1-9-puma-black-cherry-tomato-original-imafyazbzkrza56z.jpeg?q={@quality}\",\"width\":null},{\"aspectRatio\":\"5:6\",\"contentInfo\":null,\"height\":null,\"url\":\"http://rukmini1.flixcart.com/image/{@width}/{@height}/jcrz6vk0/shoe/s/h/p/slyde-dp-nw1-11-puma-black-cherry-tomato-original-imaffu2qdhufnqjj.jpeg?q={@quality}\",\"width\":null},{\"aspectRatio\":\"5:6\",\"contentInfo\":null,\"height\":null,\"url\":\"http://rukmini1.flixcart.com/image/{@width}/{@height}/jatym4w0/shoe/s/h/p/slyde-dp-nw1-9-puma-black-cherry-tomato-original-imafyazvsepwggfs.jpeg?q={@quality}\",\"width\":null},{\"aspectRatio\":\"5:6\",\"contentInfo\":null,\"height\":null,\"url\":\"http://rukmini1.flixcart.com/image/{@width}/{@height}/jasj6a80/shoe/s/h/p/slyde-dp-nw1-9-puma-black-cherry-tomato-original-imafyazbry6vymzw.jpeg?q={@quality}\",\"width\":null},{\"aspectRatio\":\"5:6\",\"contentInfo\":null,\"height\":null,\"url\":\"http://rukmini1.flixcart.com/image/{@width}/{@height}/jasj6a80/shoe/s/h/p/slyde-dp-nw1-9-puma-black-cherry-tomato-original-imafyazbgmft2zcb.jpeg?q={@quality}\",\"width\":null}],\"listingId\":\"LSTSHOEVXU7BJAEMAMGUNEXBS\",\"productUrl\":\"/puma-slyde-dp-sneakers-men/p/itmf3yyjxjzy2wkm?pid=SHOEVXU7BJAEMAMG&lid=LSTSHOEVXU7BJAEMAMGUNEXBS&marketplace=FLIPKART\",\"quickViewUrl\":\"/quick-view?pid=SHOEVXU7BJAEMAMG&lid=LSTSHOEVXU7BJAEMAMGUNEXBS\",\"smartUrl\":\"http://dl.flipkart.com/dl/puma-slyde-dp-sneakers-men/p/itmf3yyjxjzy2wkm?pid=SHOEVXU7BJAEMAMG\",\"titles\":{\"coSubtitle\":\"Size: 8\",\"newTitle\":\"Slyde DP Sneakers For Men\",\"subtitle\":\"Black, Orange\",\"superTitle\":\"Puma\",\"title\":\"Puma Slyde DP Sneakers For Men\"}},\"SHOFGZZGWFFDVSAQ\":{\"attributeIndexes\":[0,0],\"available\":true,\"grade\":{\"color\":null,\"id\":null,\"name\":null,\"shortDesc\":null},\"images\":[{\"aspectRatio\":\"5:6\",\"contentInfo\":null,\"height\":null,\"url\":\"http://rukmini1.flixcart.com/image/{@width}/{@height}/jynat8w0/shoe/s/a/q/366216-4-puma-black-original-imafgzq3axpcmyqa.jpeg?q={@quality}\",\"width\":null},{\"aspectRatio\":\"5:6\",\"contentInfo\":null,\"height\":null,\"url\":\"http://rukmini1.flixcart.com/image/{@width}/{@height}/jynat8w0/shoe/s/a/q/366216-4-puma-black-original-imafgzq3eyr9vufm.jpeg?q={@quality}\",\"width\":null},{\"aspectRatio\":\"5:6\",\"contentInfo\":null,\"height\":null,\"url\":\"http://rukmini1.flixcart.com/image/{@width}/{@height}/jynat8w0/shoe/s/a/q/366216-4-puma-black-original-imafgzq3wzx22rhq.jpeg?q={@quality}\",\"width\":null},{\"aspectRatio\":\"5:6\",\"contentInfo\":null,\"height\":null,\"url\":\"http://rukmini1.flixcart.com/image/{@width}/{@height}/jynat8w0/shoe/s/a/q/366216-4-puma-black-original-imafgzq3zyjgzfxr.jpeg?q={@quality}\",\"width\":null},{\"aspectRatio\":\"5:6\",\"contentInfo\":null,\"height\":null,\"url\":\"http://rukmini1.flixcart.com/image/{@width}/{@height}/jynat8w0/shoe/s/a/q/366216-4-puma-black-original-imafgzq3dhsvf2mv.jpeg?q={@quality}\",\"width\":null}],\"listingId\":\"LSTSHOFGZZGWFFDVSAQBW32FY\",\"productUrl\":\"/puma-slyde-men/p/itme1b72552cba83?pid=SHOFGZZGWFFDVSAQ&lid=LSTSHOFGZZGWFFDVSAQBW32FY&marketplace=FLIPKART\",\"quickViewUrl\":\"/quick-view?pid=SHOFGZZGWFFDVSAQ&lid=LSTSHOFGZZGWFFDVSAQBW32FY\",\"smartUrl\":\"http://dl.flipkart.com/dl/puma-slyde-men/p/itme1b72552cba83?pid=SHOFGZZGWFFDVSAQ\",\"titles\":{\"coSubtitle\":\"Size: 4\",\"newTitle\":\"Slyde For Men\",\"subtitle\":\"Black\",\"superTitle\":\"Puma\",\"title\":\"Puma Slyde For Men\"}},\"SHOF32HGPH7AASBZ\":{\"attributeIndexes\":[11,4],\"available\":false,\"grade\":{\"color\":null,\"id\":null,\"name\":null,\"shortDesc\":null},\"images\":[{\"aspectRatio\":\"5:6\",\"contentInfo\":null,\"height\":null,\"url\":\"http://rukmini1.flixcart.com/image/{@width}/{@height}/jialea80/shoe/z/b/7/slyde-nu-idp-ss18-7-puma-quiet-shade-peacoat-original-imaf64ghzwzvtmw7.jpeg?q={@quality}\",\"width\":null},{\"aspectRatio\":\"5:6\",\"contentInfo\":null,\"height\":null,\"url\":\"http://rukmini1.flixcart.com/image/{@width}/{@height}/jialea80/shoe/z/b/7/slyde-nu-idp-ss18-7-puma-quiet-shade-peacoat-original-imaf64ghzwhayfza.jpeg?q={@quality}\",\"width\":null},{\"aspectRatio\":\"5:6\",\"contentInfo\":null,\"height\":null,\"url\":\"http://rukmini1.flixcart.com/image/{@width}/{@height}/jialea80/shoe/z/b/7/slyde-nu-idp-ss18-7-puma-quiet-shade-peacoat-original-imaf64ghu2zq8yt2.jpeg?q={@quality}\",\"width\":null},{\"aspectRatio\":\"5:6\",\"contentInfo\":null,\"height\":null,\"url\":\"http://rukmini1.flixcart.com/image/{@width}/{@height}/jialea80/shoe/z/b/7/slyde-nu-idp-ss18-7-puma-quiet-shade-peacoat-original-imaf64ghv997pnmv.jpeg?q={@quality}\",\"width\":null},{\"aspectRatio\":\"5:6\",\"contentInfo\":null,\"height\":null,\"url\":\"http://rukmini1.flixcart.com/image/{@width}/{@height}/jialea80/shoe/z/b/7/slyde-nu-idp-ss18-7-puma-quiet-shade-peacoat-original-imaf64gh572anzhe.jpeg?q={@quality}\",\"width\":null},{\"aspectRatio\":\"5:6\",\"contentInfo\":null,\"height\":null,\"url\":\"http://rukmini1.flixcart.com/image/{@width}/{@height}/jialea80/shoe/z/b/7/slyde-nu-idp-ss18-7-puma-quiet-shade-peacoat-original-imaf64ghc5q77zsc.jpeg?q={@quality}\",\"width\":null}],\"listingId\":\"LSTSHOF32HGPH7AASBZ4ZYZJZ\",\"productUrl\":\"/puma-slyde-nu-idp-sneakers-men/p/itmf8gp3zzqqpkhg?pid=SHOF32HGPH7AASBZ&lid=LSTSHOF32HGPH7AASBZ4ZYZJZ&marketplace=FLIPKART\",\"quickViewUrl\":\"/quick-view?pid=SHOF32HGPH7AASBZ&lid=LSTSHOF32HGPH7AASBZ4ZYZJZ\",\"smartUrl\":\"http://dl.flipkart.com/dl/puma-slyde-nu-idp-sneakers-men/p/itmf8gp3zzqqpkhg?pid=SHOF32HGPH7AASBZ\",\"titles\":{\"coSubtitle\":\"Size: 9\",\"newTitle\":\"Slyde NU IDP Sneakers For Men\",\"subtitle\":\"Grey\",\"superTitle\":\"Puma\",\"title\":\"Puma Slyde NU IDP Sneakers For Men\"}},\"SHOF32HGAXZEJUCC\":{\"attributeIndexes\":[11,5],\"available\":false,\"grade\":{\"color\":null,\"id\":null,\"name\":null,\"shortDesc\":null},\"images\":[{\"aspectRatio\":\"5:6\",\"contentInfo\":null,\"height\":null,\"url\":\"http://rukmini1.flixcart.com/image/{@width}/{@height}/jialea80/shoe/z/b/7/slyde-nu-idp-ss18-7-puma-quiet-shade-peacoat-original-imaf64ghzwzvtmw7.jpeg?q={@quality}\",\"width\":null},{\"aspectRatio\":\"5:6\",\"contentInfo\":null,\"height\":null,\"url\":\"http://rukmini1.flixcart.com/image/{@width}/{@height}/jialea80/shoe/z/b/7/slyde-nu-idp-ss18-7-puma-quiet-shade-peacoat-original-imaf64ghzwhayfza.jpeg?q={@quality}\",\"width\":null},{\"aspectRatio\":\"5:6\",\"contentInfo\":null,\"height\":null,\"url\":\"http://rukmini1.flixcart.com/image/{@width}/{@height}/jialea80/shoe/z/b/7/slyde-nu-idp-ss18-7-puma-quiet-shade-peacoat-original-imaf64ghu2zq8yt2.jpeg?q={@quality}\",\"width\":null},{\"aspectRatio\":\"5:6\",\"contentInfo\":null,\"height\":null,\"url\":\"http://rukmini1.flixcart.com/image/{@width}/{@height}/jialea80/shoe/z/b/7/slyde-nu-idp-ss18-7-puma-quiet-shade-peacoat-original-imaf64ghv997pnmv.jpeg?q={@quality}\",\"width\":null},{\"aspectRatio\":\"5:6\",\"contentInfo\":null,\"height\":null,\"url\":\"http://rukmini1.flixcart.com/image/{@width}/{@height}/jialea80/shoe/z/b/7/slyde-nu-idp-ss18-7-puma-quiet-shade-peacoat-original-imaf64gh572anzhe.jpeg?q={@quality}\",\"width\":null},{\"aspectRatio\":\"5:6\",\"contentInfo\":null,\"height\":null,\"url\":\"http://rukmini1.flixcart.com/image/{@width}/{@height}/jialea80/shoe/z/b/7/slyde-nu-idp-ss18-7-puma-quiet-shade-peacoat-original-imaf64ghc5q77zsc.jpeg?q={@quality}\",\"width\":null}],\"listingId\":\"LSTSHOF32HGAXZEJUCCBEVECN\",\"productUrl\":\"/puma-slyde-nu-idp-sneakers-men/p/itmf8gp3zzqqpkhg?pid=SHOF32HGAXZEJUCC&lid=LSTSHOF32HGAXZEJUCCBEVECN&marketplace=FLIPKART\",\"quickViewUrl\":\"/quick-view?pid=SHOF32HGAXZEJUCC&lid=LSTSHOF32HGAXZEJUCCBEVECN\",\"smartUrl\":\"http://dl.flipkart.com/dl/puma-slyde-nu-idp-sneakers-men/p/itmf8gp3zzqqpkhg?pid=SHOF32HGAXZEJUCC\",\"titles\":{\"coSubtitle\":\"Size: 10\",\"newTitle\":\"Slyde NU IDP Sneakers For Men\",\"subtitle\":\"Olive\",\"superTitle\":\"Puma\",\"title\":\"Puma Slyde NU IDP Sneakers For Men\"}},\"SHOEVXU7U6EGYCDT\":{\"attributeIndexes\":[3,4],\"available\":false,\"grade\":{\"color\":null,\"id\":null,\"name\":null,\"shortDesc\":null},\"images\":[{\"aspectRatio\":\"5:6\",\"contentInfo\":null,\"height\":null,\"url\":\"http://rukmini1.flixcart.com/image/{@width}/{@height}/jasj6a80/shoe/c/d/t/slyde-dp-nw1-9-puma-blue-depths-lapis-blue-original-imafyap2gdyptm8c.jpeg?q={@quality}\",\"width\":null},{\"aspectRatio\":\"5:6\",\"contentInfo\":null,\"height\":null,\"url\":\"http://rukmini1.flixcart.com/image/{@width}/{@height}/jasj6a80/shoe/c/d/t/slyde-dp-nw1-9-puma-blue-depths-lapis-blue-original-imafyazauhkdefth.jpeg?q={@quality}\",\"width\":null},{\"aspectRatio\":\"5:6\",\"contentInfo\":null,\"height\":null,\"url\":\"http://rukmini1.flixcart.com/image/{@width}/{@height}/jatym4w0/shoe/c/d/t/slyde-dp-nw1-9-puma-blue-depths-lapis-blue-original-imafyazfu4emwx6y.jpeg?q={@quality}\",\"width\":null},{\"aspectRatio\":\"5:6\",\"contentInfo\":null,\"height\":null,\"url\":\"http://rukmini1.flixcart.com/image/{@width}/{@height}/jasj6a80/shoe/c/d/t/slyde-dp-nw1-9-puma-blue-depths-lapis-blue-original-imafyazaeueffsjg.jpeg?q={@quality}\",\"width\":null}],\"listingId\":\"LSTSHOEVXU7U6EGYCDTCPTJ8A\",\"productUrl\":\"/puma-slyde-dp-sneakers-men/p/itmf8gp3jge7ambz?pid=SHOEVXU7U6EGYCDT&lid=LSTSHOEVXU7U6EGYCDTCPTJ8A&marketplace=FLIPKART\",\"quickViewUrl\":\"/quick-view?pid=SHOEVXU7U6EGYCDT&lid=LSTSHOEVXU7U6EGYCDTCPTJ8A\",\"smartUrl\":\"http://dl.flipkart.com/dl/puma-slyde-dp-sneakers-men/p/itmf8gp3jge7ambz?pid=SHOEVXU7U6EGYCDT\",\"titles\":{\"coSubtitle\":\"Size: 9\",\"newTitle\":\"Slyde DP Sneakers For Men\",\"subtitle\":\"Blue\",\"superTitle\":\"Puma\",\"title\":\"Puma Slyde DP Sneakers For Men\"}},\"SHOEVXU7AB48EGBA\":{\"attributeIndexes\":[6,4],\"available\":false,\"grade\":{\"color\":null,\"id\":null,\"name\":null,\"shortDesc\":null},\"images\":[{\"aspectRatio\":\"5:6\",\"contentInfo\":null,\"height\":null,\"url\":\"http://rukmini1.flixcart.com/image/{@width}/{@height}/jatym4w0/shoe/h/s/p/slyde-dp-nw1-8-puma-mykonos-blue-nrgy-yellow-white-original-imafyaz8hmnnjjxr.jpeg?q={@quality}\",\"width\":null},{\"aspectRatio\":\"5:6\",\"contentInfo\":null,\"height\":null,\"url\":\"http://rukmini1.flixcart.com/image/{@width}/{@height}/jasj6a80/shoe/h/s/p/slyde-dp-nw1-8-puma-mykonos-blue-nrgy-yellow-white-original-imafyazgkypmpnx6.jpeg?q={@quality}\",\"width\":null},{\"aspectRatio\":\"5:6\",\"contentInfo\":null,\"height\":null,\"url\":\"http://rukmini1.flixcart.com/image/{@width}/{@height}/jasj6a80/shoe/h/s/p/slyde-dp-nw1-8-puma-mykonos-blue-nrgy-yellow-white-original-imafyazdazphaurx.jpeg?q={@quality}\",\"width\":null},{\"aspectRatio\":\"5:6\",\"contentInfo\":null,\"height\":null,\"url\":\"http://rukmini1.flixcart.com/image/{@width}/{@height}/jasj6a80/shoe/h/s/p/slyde-dp-nw1-8-puma-mykonos-blue-nrgy-yellow-white-original-imafyazdmutzq7xz.jpeg?q={@quality}\",\"width\":null}],\"listingId\":\"LSTSHOEVXU7AB48EGBAKLI5T3\",\"productUrl\":\"/puma-slyde-dp-sneakers-men/p/itmf8gp2krgwsqzu?pid=SHOEVXU7AB48EGBA&lid=LSTSHOEVXU7AB48EGBAKLI5T3&marketplace=FLIPKART\",\"quickViewUrl\":\"/quick-view?pid=SHOEVXU7AB48EGBA&lid=LSTSHOEVXU7AB48EGBAKLI5T3\",\"smartUrl\":\"http://dl.flipkart.com/dl/puma-slyde-dp-sneakers-men/p/itmf8gp2krgwsqzu?pid=SHOEVXU7AB48EGBA\",\"titles\":{\"coSubtitle\":\"Size: 9\",\"newTitle\":\"Slyde DP Sneakers For Men\",\"subtitle\":\"Blue\",\"superTitle\":\"Puma\",\"title\":\"Puma Slyde DP Sneakers For Men\"}},\"SHOEVXU7TKSHG8YF\":{\"attributeIndexes\":[12,1],\"available\":false,\"grade\":{\"color\":null,\"id\":null,\"name\":null,\"shortDesc\":null},\"images\":[{\"aspectRatio\":\"5:6\",\"contentInfo\":null,\"height\":null,\"url\":\"http://rukmini1.flixcart.com/image/{@width}/{@height}/jar3qfk0/shoe/x/f/q/slyde-dp-nw1-8-puma-tibetan-red-cherry-tomato-original-imafy98tynqwuhjr.jpeg?q={@quality}\",\"width\":null},{\"aspectRatio\":\"5:6\",\"contentInfo\":null,\"height\":null,\"url\":\"http://rukmini1.flixcart.com/image/{@width}/{@height}/jar3qfk0/shoe/x/f/q/slyde-dp-nw1-8-puma-tibetan-red-cherry-tomato-original-imafy98tx9ap2czp.jpeg?q={@quality}\",\"width\":null},{\"aspectRatio\":\"5:6\",\"contentInfo\":null,\"height\":null,\"url\":\"http://rukmini1.flixcart.com/image/{@width}/{@height}/jar3qfk0/shoe/x/f/q/slyde-dp-nw1-8-puma-tibetan-red-cherry-tomato-original-imafy9gzrnnuymhg.jpeg?q={@quality}\",\"width\":null},{\"aspectRatio\":\"5:6\",\"contentInfo\":null,\"height\":null,\"url\":\"http://rukmini1.flixcart.com/image/{@width}/{@height}/jar3qfk0/shoe/x/f/q/slyde-dp-nw1-8-puma-tibetan-red-cherry-tomato-original-imafy98twmpquhwb.jpeg?q={@quality}\",\"width\":null}],\"listingId\":\"LSTSHOEVXU7TKSHG8YF07UFRR\",\"productUrl\":\"/puma-slyde-dp-sneakers-men/p/itmf3yyjrwstqpsp?pid=SHOEVXU7TKSHG8YF&lid=LSTSHOEVXU7TKSHG8YF07UFRR&marketplace=FLIPKART\",\"quickViewUrl\":\"/quick-view?pid=SHOEVXU7TKSHG8YF&lid=LSTSHOEVXU7TKSHG8YF07UFRR\",\"smartUrl\":\"http://dl.flipkart.com/dl/puma-slyde-dp-sneakers-men/p/itmf3yyjrwstqpsp?pid=SHOEVXU7TKSHG8YF\",\"titles\":{\"coSubtitle\":\"Size: 6\",\"newTitle\":\"Slyde DP Sneakers For Men\",\"subtitle\":\"Maroon\",\"superTitle\":\"Puma\",\"title\":\"Puma Slyde DP Sneakers For Men\"}},\"SHOEVXU7E2GZHW9A\":{\"attributeIndexes\":[7,5],\"available\":false,\"grade\":{\"color\":null,\"id\":null,\"name\":null,\"shortDesc\":null},\"images\":[{\"aspectRatio\":\"5:6\",\"contentInfo\":null,\"height\":null,\"url\":\"http://rukmini1.flixcart.com/image/{@width}/{@height}/jasj6a80/shoe/q/w/h/slyde-dp-nw1-9-puma-olive-night-original-imafyazfurzpwfkh.jpeg?q={@quality}\",\"width\":null},{\"aspectRatio\":\"5:6\",\"contentInfo\":null,\"height\":null,\"url\":\"http://rukmini1.flixcart.com/image/{@width}/{@height}/jasj6a80/shoe/q/w/h/slyde-dp-nw1-9-puma-olive-night-original-imafyazfzdxjtgyj.jpeg?q={@quality}\",\"width\":null},{\"aspectRatio\":\"5:6\",\"contentInfo\":null,\"height\":null,\"url\":\"http://rukmini1.flixcart.com/image/{@width}/{@height}/jasj6a80/shoe/q/w/h/slyde-dp-nw1-9-puma-olive-night-original-imafyarff87pen27.jpeg?q={@quality}\",\"width\":null},{\"aspectRatio\":\"5:6\",\"contentInfo\":null,\"height\":null,\"url\":\"http://rukmini1.flixcart.com/image/{@width}/{@height}/jasj6a80/shoe/q/w/h/slyde-dp-nw1-9-puma-olive-night-original-imafyazmtzhakgu8.jpeg?q={@quality}\",\"width\":null}],\"listingId\":\"LSTSHOEVXU7E2GZHW9ASSNJON\",\"productUrl\":\"/puma-slyde-dp-sneakers-men/p/itmf8gp2h5ztyzzx?pid=SHOEVXU7E2GZHW9A&lid=LSTSHOEVXU7E2GZHW9ASSNJON&marketplace=FLIPKART\",\"quickViewUrl\":\"/quick-view?pid=SHOEVXU7E2GZHW9A&lid=LSTSHOEVXU7E2GZHW9ASSNJON\",\"smartUrl\":\"http://dl.flipkart.com/dl/puma-slyde-dp-sneakers-men/p/itmf8gp2h5ztyzzx?pid=SHOEVXU7E2GZHW9A\",\"titles\":{\"coSubtitle\":\"Size: 10\",\"newTitle\":\"Slyde DP Sneakers For Men\",\"subtitle\":\"Olive\",\"superTitle\":\"Puma\",\"title\":\"Puma Slyde DP Sneakers For Men\"}},\"SHOEVXU7ZCGAY3YM\":{\"attributeIndexes\":[1,5],\"available\":false,\"grade\":{\"color\":null,\"id\":null,\"name\":null,\"shortDesc\":null},\"images\":[{\"aspectRatio\":\"5:6\",\"contentInfo\":null,\"height\":null,\"url\":\"http://rukmini1.flixcart.com/image/{@width}/{@height}/jasj6a80/shoe/s/h/p/slyde-dp-nw1-9-puma-black-cherry-tomato-original-imafyazbzkrza56z.jpeg?q={@quality}\",\"width\":null},{\"aspectRatio\":\"5:6\",\"contentInfo\":null,\"height\":null,\"url\":\"http://rukmini1.flixcart.com/image/{@width}/{@height}/jcrz6vk0/shoe/s/h/p/slyde-dp-nw1-11-puma-black-cherry-tomato-original-imaffu2qdhufnqjj.jpeg?q={@quality}\",\"width\":null},{\"aspectRatio\":\"5:6\",\"contentInfo\":null,\"height\":null,\"url\":\"http://rukmini1.flixcart.com/image/{@width}/{@height}/jatym4w0/shoe/s/h/p/slyde-dp-nw1-9-puma-black-cherry-tomato-original-imafyazvsepwggfs.jpeg?q={@quality}\",\"width\":null},{\"aspectRatio\":\"5:6\",\"contentInfo\":null,\"height\":null,\"url\":\"http://rukmini1.flixcart.com/image/{@width}/{@height}/jasj6a80/shoe/s/h/p/slyde-dp-nw1-9-puma-black-cherry-tomato-original-imafyazbry6vymzw.jpeg?q={@quality}\",\"width\":null},{\"aspectRatio\":\"5:6\",\"contentInfo\":null,\"height\":null,\"url\":\"http://rukmini1.flixcart.com/image/{@width}/{@height}/jasj6a80/shoe/s/h/p/slyde-dp-nw1-9-puma-black-cherry-tomato-original-imafyazbgmft2zcb.jpeg?q={@quality}\",\"width\":null}],\"listingId\":\"LSTSHOEVXU7ZCGAY3YMIWLNVP\",\"productUrl\":\"/puma-slyde-dp-sneakers-men/p/itmf3yyjxjzy2wkm?pid=SHOEVXU7ZCGAY3YM&lid=LSTSHOEVXU7ZCGAY3YMIWLNVP&marketplace=FLIPKART\",\"quickViewUrl\":\"/quick-view?pid=SHOEVXU7ZCGAY3YM&lid=LSTSHOEVXU7ZCGAY3YMIWLNVP\",\"smartUrl\":\"http://dl.flipkart.com/dl/puma-slyde-dp-sneakers-men/p/itmf3yyjxjzy2wkm?pid=SHOEVXU7ZCGAY3YM\",\"titles\":{\"coSubtitle\":\"Size: 10\",\"newTitle\":\"Slyde DP Sneakers For Men\",\"subtitle\":\"Black\",\"superTitle\":\"Puma\",\"title\":\"Puma Slyde DP Sneakers For Men\"}},\"SHOEVXU7BXB2GMUG\":{\"attributeIndexes\":[3,6],\"available\":false,\"grade\":{\"color\":null,\"id\":null,\"name\":null,\"shortDesc\":null},\"images\":[{\"aspectRatio\":\"5:6\",\"contentInfo\":null,\"height\":null,\"url\":\"http://rukmini1.flixcart.com/image/{@width}/{@height}/jasj6a80/shoe/c/d/t/slyde-dp-nw1-9-puma-blue-depths-lapis-blue-original-imafyap2gdyptm8c.jpeg?q={@quality}\",\"width\":null},{\"aspectRatio\":\"5:6\",\"contentInfo\":null,\"height\":null,\"url\":\"http://rukmini1.flixcart.com/image/{@width}/{@height}/jasj6a80/shoe/c/d/t/slyde-dp-nw1-9-puma-blue-depths-lapis-blue-original-imafyazauhkdefth.jpeg?q={@quality}\",\"width\":null},{\"aspectRatio\":\"5:6\",\"contentInfo\":null,\"height\":null,\"url\":\"http://rukmini1.flixcart.com/image/{@width}/{@height}/jatym4w0/shoe/c/d/t/slyde-dp-nw1-9-puma-blue-depths-lapis-blue-original-imafyazfu4emwx6y.jpeg?q={@quality}\",\"width\":null},{\"aspectRatio\":\"5:6\",\"contentInfo\":null,\"height\":null,\"url\":\"http://rukmini1.flixcart.com/image/{@width}/{@height}/jasj6a80/shoe/c/d/t/slyde-dp-nw1-9-puma-blue-depths-lapis-blue-original-imafyazaeueffsjg.jpeg?q={@quality}\",\"width\":null}],\"listingId\":\"LSTSHOEVXU7BXB2GMUGIZ0ONC\",\"productUrl\":\"/puma-slyde-dp-sneakers-men/p/itmf8gp3jge7ambz?pid=SHOEVXU7BXB2GMUG&lid=LSTSHOEVXU7BXB2GMUGIZ0ONC&marketplace=FLIPKART\",\"quickViewUrl\":\"/quick-view?pid=SHOEVXU7BXB2GMUG&lid=LSTSHOEVXU7BXB2GMUGIZ0ONC\",\"smartUrl\":\"http://dl.flipkart.com/dl/puma-slyde-dp-sneakers-men/p/itmf8gp3jge7ambz?pid=SHOEVXU7BXB2GMUG\",\"titles\":{\"coSubtitle\":\"Size: 11\",\"newTitle\":\"Slyde DP Sneakers For Men\",\"subtitle\":\"Blue\",\"superTitle\":\"Puma\",\"title\":\"Puma Slyde DP Sneakers For Men\"}},\"SHOF32HGGZMJJNSV\":{\"attributeIndexes\":[5,3],\"available\":false,\"grade\":{\"color\":null,\"id\":null,\"name\":null,\"shortDesc\":null},\"images\":[{\"aspectRatio\":\"5:6\",\"contentInfo\":null,\"height\":null,\"url\":\"http://rukmini1.flixcart.com/image/{@width}/{@height}/jg15aq80/shoe/a/5/g/slyde-nu-idp-ss18-10-puma-golden-brown-chocolate-brown-original-imaf4dfpbvb2efpf.jpeg?q={@quality}\",\"width\":null},{\"aspectRatio\":\"5:6\",\"contentInfo\":null,\"height\":null,\"url\":\"http://rukmini1.flixcart.com/image/{@width}/{@height}/jg15aq80/shoe/a/5/g/slyde-nu-idp-ss18-10-puma-golden-brown-chocolate-brown-original-imaf4dfpsd6hvgbg.jpeg?q={@quality}\",\"width\":null},{\"aspectRatio\":\"5:6\",\"contentInfo\":null,\"height\":null,\"url\":\"http://rukmini1.flixcart.com/image/{@width}/{@height}/jg15aq80/shoe/a/5/g/slyde-nu-idp-ss18-10-puma-golden-brown-chocolate-brown-original-imaf4dfpx4rmfsb3.jpeg?q={@quality}\",\"width\":null},{\"aspectRatio\":\"5:6\",\"contentInfo\":null,\"height\":null,\"url\":\"http://rukmini1.flixcart.com/image/{@width}/{@height}/jg15aq80/shoe/a/5/g/slyde-nu-idp-ss18-10-puma-golden-brown-chocolate-brown-original-imaf4dfpk3jzt8un.jpeg?q={@quality}\",\"width\":null},{\"aspectRatio\":\"5:6\",\"contentInfo\":null,\"height\":null,\"url\":\"http://rukmini1.flixcart.com/image/{@width}/{@height}/jg15aq80/shoe/a/5/g/slyde-nu-idp-ss18-10-puma-golden-brown-chocolate-brown-original-imaf4dfpyxbkaerp.jpeg?q={@quality}\",\"width\":null},{\"aspectRatio\":\"5:6\",\"contentInfo\":null,\"height\":null,\"url\":\"http://rukmini1.flixcart.com/image/{@width}/{@height}/jg15aq80/shoe/a/5/g/slyde-nu-idp-ss18-10-puma-golden-brown-chocolate-brown-original-imaf4dfpznhhzzvc.jpeg?q={@quality}\",\"width\":null}],\"listingId\":\"LSTSHOF32HGGZMJJNSVP6QBM4\",\"productUrl\":\"/puma-slyde-nu-idp-sneakers-men/p/itmf3xxbeedynhxe?pid=SHOF32HGGZMJJNSV&lid=LSTSHOF32HGGZMJJNSVP6QBM4&marketplace=FLIPKART\",\"quickViewUrl\":\"/quick-view?pid=SHOF32HGGZMJJNSV&lid=LSTSHOF32HGGZMJJNSVP6QBM4\",\"smartUrl\":\"http://dl.flipkart.com/dl/puma-slyde-nu-idp-sneakers-men/p/itmf3xxbeedynhxe?pid=SHOF32HGGZMJJNSV\",\"titles\":{\"coSubtitle\":\"Size: 8\",\"newTitle\":\"Slyde NU IDP Sneakers For Men\",\"subtitle\":\"Multicolor\",\"superTitle\":\"Puma\",\"title\":\"Puma Slyde NU IDP Sneakers For Men\"}},\"SHOF32HGS2MJ2VKZ\":{\"attributeIndexes\":[11,3],\"available\":false,\"grade\":{\"color\":null,\"id\":null,\"name\":null,\"shortDesc\":null},\"images\":[{\"aspectRatio\":\"5:6\",\"contentInfo\":null,\"height\":null,\"url\":\"http://rukmini1.flixcart.com/image/{@width}/{@height}/jialea80/shoe/z/b/7/slyde-nu-idp-ss18-7-puma-quiet-shade-peacoat-original-imaf64ghzwzvtmw7.jpeg?q={@quality}\",\"width\":null},{\"aspectRatio\":\"5:6\",\"contentInfo\":null,\"height\":null,\"url\":\"http://rukmini1.flixcart.com/image/{@width}/{@height}/jialea80/shoe/z/b/7/slyde-nu-idp-ss18-7-puma-quiet-shade-peacoat-original-imaf64ghzwhayfza.jpeg?q={@quality}\",\"width\":null},{\"aspectRatio\":\"5:6\",\"contentInfo\":null,\"height\":null,\"url\":\"http://rukmini1.flixcart.com/image/{@width}/{@height}/jialea80/shoe/z/b/7/slyde-nu-idp-ss18-7-puma-quiet-shade-peacoat-original-imaf64ghu2zq8yt2.jpeg?q={@quality}\",\"width\":null},{\"aspectRatio\":\"5:6\",\"contentInfo\":null,\"height\":null,\"url\":\"http://rukmini1.flixcart.com/image/{@width}/{@height}/jialea80/shoe/z/b/7/slyde-nu-idp-ss18-7-puma-quiet-shade-peacoat-original-imaf64ghv997pnmv.jpeg?q={@quality}\",\"width\":null},{\"aspectRatio\":\"5:6\",\"contentInfo\":null,\"height\":null,\"url\":\"http://rukmini1.flixcart.com/image/{@width}/{@height}/jialea80/shoe/z/b/7/slyde-nu-idp-ss18-7-puma-quiet-shade-peacoat-original-imaf64gh572anzhe.jpeg?q={@quality}\",\"width\":null},{\"aspectRatio\":\"5:6\",\"contentInfo\":null,\"height\":null,\"url\":\"http://rukmini1.flixcart.com/image/{@width}/{@height}/jialea80/shoe/z/b/7/slyde-nu-idp-ss18-7-puma-quiet-shade-peacoat-original-imaf64ghc5q77zsc.jpeg?q={@quality}\",\"width\":null}],\"listingId\":\"LSTSHOF32HGS2MJ2VKZ9RH4IA\",\"productUrl\":\"/puma-slyde-nu-idp-sneakers-men/p/itmf8gp3zzqqpkhg?pid=SHOF32HGS2MJ2VKZ&lid=LSTSHOF32HGS2MJ2VKZ9RH4IA&marketplace=FLIPKART\",\"quickViewUrl\":\"/quick-view?pid=SHOF32HGS2MJ2VKZ&lid=LSTSHOF32HGS2MJ2VKZ9RH4IA\",\"smartUrl\":\"http://dl.flipkart.com/dl/puma-slyde-nu-idp-sneakers-men/p/itmf8gp3zzqqpkhg?pid=SHOF32HGS2MJ2VKZ\",\"titles\":{\"coSubtitle\":\"Size: 8\",\"newTitle\":\"Slyde NU IDP Sneakers For Men\",\"subtitle\":\"Olive\",\"superTitle\":\"Puma\",\"title\":\"Puma Slyde NU IDP Sneakers For Men\"}},\"SHOEVXU7Z27GZP2M\":{\"attributeIndexes\":[1,2],\"available\":false,\"grade\":{\"color\":null,\"id\":null,\"name\":null,\"shortDesc\":null},\"images\":[{\"aspectRatio\":\"5:6\",\"contentInfo\":null,\"height\":null,\"url\":\"http://rukmini1.flixcart.com/image/{@width}/{@height}/jasj6a80/shoe/s/h/p/slyde-dp-nw1-9-puma-black-cherry-tomato-original-imafyazbzkrza56z.jpeg?q={@quality}\",\"width\":null},{\"aspectRatio\":\"5:6\",\"contentInfo\":null,\"height\":null,\"url\":\"http://rukmini1.flixcart.com/image/{@width}/{@height}/jcrz6vk0/shoe/s/h/p/slyde-dp-nw1-11-puma-black-cherry-tomato-original-imaffu2qdhufnqjj.jpeg?q={@quality}\",\"width\":null},{\"aspectRatio\":\"5:6\",\"contentInfo\":null,\"height\":null,\"url\":\"http://rukmini1.flixcart.com/image/{@width}/{@height}/jatym4w0/shoe/s/h/p/slyde-dp-nw1-9-puma-black-cherry-tomato-original-imafyazvsepwggfs.jpeg?q={@quality}\",\"width\":null},{\"aspectRatio\":\"5:6\",\"contentInfo\":null,\"height\":null,\"url\":\"http://rukmini1.flixcart.com/image/{@width}/{@height}/jasj6a80/shoe/s/h/p/slyde-dp-nw1-9-puma-black-cherry-tomato-original-imafyazbry6vymzw.jpeg?q={@quality}\",\"width\":null},{\"aspectRatio\":\"5:6\",\"contentInfo\":null,\"height\":null,\"url\":\"http://rukmini1.flixcart.com/image/{@width}/{@height}/jasj6a80/shoe/s/h/p/slyde-dp-nw1-9-puma-black-cherry-tomato-original-imafyazbgmft2zcb.jpeg?q={@quality}\",\"width\":null}],\"listingId\":\"LSTSHOEVXU7Z27GZP2MTIRBXI\",\"productUrl\":\"/puma-slyde-dp-sneakers-men/p/itmf3yyjxjzy2wkm?pid=SHOEVXU7Z27GZP2M&lid=LSTSHOEVXU7Z27GZP2MTIRBXI&marketplace=FLIPKART\",\"quickViewUrl\":\"/quick-view?pid=SHOEVXU7Z27GZP2M&lid=LSTSHOEVXU7Z27GZP2MTIRBXI\",\"smartUrl\":\"http://dl.flipkart.com/dl/puma-slyde-dp-sneakers-men/p/itmf3yyjxjzy2wkm?pid=SHOEVXU7Z27GZP2M\",\"titles\":{\"coSubtitle\":\"Size: 7\",\"newTitle\":\"Slyde DP Sneakers For Men\",\"subtitle\":\"Black\",\"superTitle\":\"Puma\",\"title\":\"Puma Slyde DP Sneakers For Men\"}},\"SHOF32HGHGHYVWHZ\":{\"attributeIndexes\":[8,2],\"available\":false,\"grade\":{\"color\":null,\"id\":null,\"name\":null,\"shortDesc\":null},\"images\":[{\"aspectRatio\":\"5:6\",\"contentInfo\":null,\"height\":null,\"url\":\"http://rukmini1.flixcart.com/image/{@width}/{@height}/jg2kqkw0/shoe/2/d/m/slyde-nu-idp-ss18-11-puma-peacoat-infinity-original-imaf4eyvnme7nh5t.jpeg?q={@quality}\",\"width\":null},{\"aspectRatio\":\"5:6\",\"contentInfo\":null,\"height\":null,\"url\":\"http://rukmini1.flixcart.com/image/{@width}/{@height}/jg2kqkw0/shoe/2/d/m/slyde-nu-idp-ss18-11-puma-peacoat-infinity-original-imaf4eyvvba4b6dz.jpeg?q={@quality}\",\"width\":null},{\"aspectRatio\":\"5:6\",\"contentInfo\":null,\"height\":null,\"url\":\"http://rukmini1.flixcart.com/image/{@width}/{@height}/jg2kqkw0/shoe/2/d/m/slyde-nu-idp-ss18-11-puma-peacoat-infinity-original-imaf4ef5ebvayufn.jpeg?q={@quality}\",\"width\":null},{\"aspectRatio\":\"5:6\",\"contentInfo\":null,\"height\":null,\"url\":\"http://rukmini1.flixcart.com/image/{@width}/{@height}/jg2kqkw0/shoe/2/d/m/slyde-nu-idp-ss18-11-puma-peacoat-infinity-original-imaf4eyvdvzhzbxf.jpeg?q={@quality}\",\"width\":null},{\"aspectRatio\":\"5:6\",\"contentInfo\":null,\"height\":null,\"url\":\"http://rukmini1.flixcart.com/image/{@width}/{@height}/jg2kqkw0/shoe/2/d/m/slyde-nu-idp-ss18-11-puma-peacoat-infinity-original-imaf4eywx4e677gv.jpeg?q={@quality}\",\"width\":null},{\"aspectRatio\":\"5:6\",\"contentInfo\":null,\"height\":null,\"url\":\"http://rukmini1.flixcart.com/image/{@width}/{@height}/jg2kqkw0/shoe/2/d/m/slyde-nu-idp-ss18-11-puma-peacoat-infinity-original-imaf4eyvawfy8agw.jpeg?q={@quality}\",\"width\":null}],\"listingId\":\"LSTSHOF32HGHGHYVWHZII2RUP\",\"productUrl\":\"/puma-slyde-nu-idp-sneakers-men/p/itmf3xxcvu8fwgcp?pid=SHOF32HGHGHYVWHZ&lid=LSTSHOF32HGHGHYVWHZII2RUP&marketplace=FLIPKART\",\"quickViewUrl\":\"/quick-view?pid=SHOF32HGHGHYVWHZ&lid=LSTSHOF32HGHGHYVWHZII2RUP\",\"smartUrl\":\"http://dl.flipkart.com/dl/puma-slyde-nu-idp-sneakers-men/p/itmf3xxcvu8fwgcp?pid=SHOF32HGHGHYVWHZ\",\"titles\":{\"coSubtitle\":\"Size: 7\",\"newTitle\":\"Slyde NU IDP Sneakers For Men\",\"subtitle\":\"Blue\",\"superTitle\":\"Puma\",\"title\":\"Puma Slyde NU IDP Sneakers For Men\"}},\"SHOF32HGGJP9AQPK\":{\"attributeIndexes\":[5,4],\"available\":false,\"grade\":{\"color\":null,\"id\":null,\"name\":null,\"shortDesc\":null},\"images\":[{\"aspectRatio\":\"5:6\",\"contentInfo\":null,\"height\":null,\"url\":\"http://rukmini1.flixcart.com/image/{@width}/{@height}/jg15aq80/shoe/a/5/g/slyde-nu-idp-ss18-10-puma-golden-brown-chocolate-brown-original-imaf4dfpbvb2efpf.jpeg?q={@quality}\",\"width\":null},{\"aspectRatio\":\"5:6\",\"contentInfo\":null,\"height\":null,\"url\":\"http://rukmini1.flixcart.com/image/{@width}/{@height}/jg15aq80/shoe/a/5/g/slyde-nu-idp-ss18-10-puma-golden-brown-chocolate-brown-original-imaf4dfpsd6hvgbg.jpeg?q={@quality}\",\"width\":null},{\"aspectRatio\":\"5:6\",\"contentInfo\":null,\"height\":null,\"url\":\"http://rukmini1.flixcart.com/image/{@width}/{@height}/jg15aq80/shoe/a/5/g/slyde-nu-idp-ss18-10-puma-golden-brown-chocolate-brown-original-imaf4dfpx4rmfsb3.jpeg?q={@quality}\",\"width\":null},{\"aspectRatio\":\"5:6\",\"contentInfo\":null,\"height\":null,\"url\":\"http://rukmini1.flixcart.com/image/{@width}/{@height}/jg15aq80/shoe/a/5/g/slyde-nu-idp-ss18-10-puma-golden-brown-chocolate-brown-original-imaf4dfpk3jzt8un.jpeg?q={@quality}\",\"width\":null},{\"aspectRatio\":\"5:6\",\"contentInfo\":null,\"height\":null,\"url\":\"http://rukmini1.flixcart.com/image/{@width}/{@height}/jg15aq80/shoe/a/5/g/slyde-nu-idp-ss18-10-puma-golden-brown-chocolate-brown-original-imaf4dfpyxbkaerp.jpeg?q={@quality}\",\"width\":null},{\"aspectRatio\":\"5:6\",\"contentInfo\":null,\"height\":null,\"url\":\"http://rukmini1.flixcart.com/image/{@width}/{@height}/jg15aq80/shoe/a/5/g/slyde-nu-idp-ss18-10-puma-golden-brown-chocolate-brown-original-imaf4dfpznhhzzvc.jpeg?q={@quality}\",\"width\":null}],\"listingId\":\"LSTSHOF32HGGJP9AQPKYMFFLP\",\"productUrl\":\"/puma-slyde-nu-idp-sneakers-men/p/itmf3xxbeedynhxe?pid=SHOF32HGGJP9AQPK&lid=LSTSHOF32HGGJP9AQPKYMFFLP&marketplace=FLIPKART\",\"quickViewUrl\":\"/quick-view?pid=SHOF32HGGJP9AQPK&lid=LSTSHOF32HGGJP9AQPKYMFFLP\",\"smartUrl\":\"http://dl.flipkart.com/dl/puma-slyde-nu-idp-sneakers-men/p/itmf3xxbeedynhxe?pid=SHOF32HGGJP9AQPK\",\"titles\":{\"coSubtitle\":\"Size: 9\",\"newTitle\":\"Slyde NU IDP Sneakers For Men\",\"subtitle\":\"Tan, Brown\",\"superTitle\":\"Puma\",\"title\":\"Puma Slyde NU IDP Sneakers For Men\"}},\"SHOEYRU7ZFUXJUX4\":{\"attributeIndexes\":[7,7],\"available\":false,\"grade\":{\"color\":null,\"id\":null,\"name\":null,\"shortDesc\":null},\"images\":[{\"aspectRatio\":\"5:6\",\"contentInfo\":null,\"height\":null,\"url\":\"http://rukmini1.flixcart.com/image/{@width}/{@height}/jfikknk0/shoe/u/x/4/slyde-nu-idp-12-puma-olive-night-original-imaf3ygvzbgyzzdb.jpeg?q={@quality}\",\"width\":null},{\"aspectRatio\":\"5:6\",\"contentInfo\":null,\"height\":null,\"url\":\"http://rukmini1.flixcart.com/image/{@width}/{@height}/jfikknk0/shoe/u/x/4/slyde-nu-idp-12-puma-olive-night-original-imaf3ygvcrbfhx9f.jpeg?q={@quality}\",\"width\":null},{\"aspectRatio\":\"5:6\",\"contentInfo\":null,\"height\":null,\"url\":\"http://rukmini1.flixcart.com/image/{@width}/{@height}/jfikknk0/shoe/u/x/4/slyde-nu-idp-12-puma-olive-night-original-imaf3ygvfb3nbqtz.jpeg?q={@quality}\",\"width\":null},{\"aspectRatio\":\"5:6\",\"contentInfo\":null,\"height\":null,\"url\":\"http://rukmini1.flixcart.com/image/{@width}/{@height}/jfikknk0/shoe/u/x/4/slyde-nu-idp-12-puma-olive-night-original-imaf3ygvbajggkyc.jpeg?q={@quality}\",\"width\":null},{\"aspectRatio\":\"5:6\",\"contentInfo\":null,\"height\":null,\"url\":\"http://rukmini1.flixcart.com/image/{@width}/{@height}/jfikknk0/shoe/u/x/4/slyde-nu-idp-12-puma-olive-night-original-imaf3ygvghrzfgee.jpeg?q={@quality}\",\"width\":null},{\"aspectRatio\":\"5:6\",\"contentInfo\":null,\"height\":null,\"url\":\"http://rukmini1.flixcart.com/image/{@width}/{@height}/jfikknk0/shoe/u/x/4/slyde-nu-idp-12-puma-olive-night-original-imaf3ygvzrgetxqp.jpeg?q={@quality}\",\"width\":null}],\"listingId\":\"LSTSHOEYRU7ZFUXJUX4UQUX4N\",\"productUrl\":\"/puma-slyde-nu-idp-sneakers-men/p/itmf3xchwhgxgbhw?pid=SHOEYRU7ZFUXJUX4&lid=LSTSHOEYRU7ZFUXJUX4UQUX4N&marketplace=FLIPKART\",\"quickViewUrl\":\"/quick-view?pid=SHOEYRU7ZFUXJUX4&lid=LSTSHOEYRU7ZFUXJUX4UQUX4N\",\"smartUrl\":\"http://dl.flipkart.com/dl/puma-slyde-nu-idp-sneakers-men/p/itmf3xchwhgxgbhw?pid=SHOEYRU7ZFUXJUX4\",\"titles\":{\"coSubtitle\":\"Size: 12\",\"newTitle\":\"Slyde NU IDP Sneakers For Men\",\"subtitle\":\"Olive\",\"superTitle\":\"Puma\",\"title\":\"Puma Slyde NU IDP Sneakers For Men\"}},\"SHOEYRU7ZTPZJAWG\":{\"attributeIndexes\":[9,7],\"available\":false,\"grade\":{\"color\":null,\"id\":null,\"name\":null,\"shortDesc\":null},\"images\":[{\"aspectRatio\":\"5:6\",\"contentInfo\":null,\"height\":null,\"url\":\"http://rukmini1.flixcart.com/image/{@width}/{@height}/jeek8sw0/shoe/a/w/g/slyde-nu-idp-12-puma-puma-black-cherry-tomato-original-imaf33ff5tvswkqk.jpeg?q={@quality}\",\"width\":null},{\"aspectRatio\":\"5:6\",\"contentInfo\":null,\"height\":null,\"url\":\"http://rukmini1.flixcart.com/image/{@width}/{@height}/jeek8sw0/shoe/a/w/g/slyde-nu-idp-12-puma-puma-black-cherry-tomato-original-imaf33frsfgkzcvn.jpeg?q={@quality}\",\"width\":null},{\"aspectRatio\":\"5:6\",\"contentInfo\":null,\"height\":null,\"url\":\"http://rukmini1.flixcart.com/image/{@width}/{@height}/jeek8sw0/shoe/a/w/g/slyde-nu-idp-12-puma-puma-black-cherry-tomato-original-imaf33fwqvywuj2f.jpeg?q={@quality}\",\"width\":null},{\"aspectRatio\":\"5:6\",\"contentInfo\":null,\"height\":null,\"url\":\"http://rukmini1.flixcart.com/image/{@width}/{@height}/jeek8sw0/shoe/a/w/g/slyde-nu-idp-12-puma-puma-black-cherry-tomato-original-imaf33fvvzkwyqkq.jpeg?q={@quality}\",\"width\":null}],\"listingId\":\"LSTSHOEYRU7ZTPZJAWGCUXFHH\",\"productUrl\":\"/puma-slyde-nu-idp-sneakers-men/p/itmf3xxeytuyj7xs?pid=SHOEYRU7ZTPZJAWG&lid=LSTSHOEYRU7ZTPZJAWGCUXFHH&marketplace=FLIPKART\",\"quickViewUrl\":\"/quick-view?pid=SHOEYRU7ZTPZJAWG&lid=LSTSHOEYRU7ZTPZJAWGCUXFHH\",\"smartUrl\":\"http://dl.flipkart.com/dl/puma-slyde-nu-idp-sneakers-men/p/itmf3xxeytuyj7xs?pid=SHOEYRU7ZTPZJAWG\",\"titles\":{\"coSubtitle\":\"Size: 12\",\"newTitle\":\"Slyde NU IDP Sneakers For Men\",\"subtitle\":\"Black\",\"superTitle\":\"Puma\",\"title\":\"Puma Slyde NU IDP Sneakers For Men\"}},\"SHOEVXU7DUR4EZ4J\":{\"attributeIndexes\":[1,4],\"available\":false,\"grade\":{\"color\":null,\"id\":null,\"name\":null,\"shortDesc\":null},\"images\":[{\"aspectRatio\":\"5:6\",\"contentInfo\":null,\"height\":null,\"url\":\"http://rukmini1.flixcart.com/image/{@width}/{@height}/jasj6a80/shoe/s/h/p/slyde-dp-nw1-9-puma-black-cherry-tomato-original-imafyazbzkrza56z.jpeg?q={@quality}\",\"width\":null},{\"aspectRatio\":\"5:6\",\"contentInfo\":null,\"height\":null,\"url\":\"http://rukmini1.flixcart.com/image/{@width}/{@height}/jcrz6vk0/shoe/s/h/p/slyde-dp-nw1-11-puma-black-cherry-tomato-original-imaffu2qdhufnqjj.jpeg?q={@quality}\",\"width\":null},{\"aspectRatio\":\"5:6\",\"contentInfo\":null,\"height\":null,\"url\":\"http://rukmini1.flixcart.com/image/{@width}/{@height}/jatym4w0/shoe/s/h/p/slyde-dp-nw1-9-puma-black-cherry-tomato-original-imafyazvsepwggfs.jpeg?q={@quality}\",\"width\":null},{\"aspectRatio\":\"5:6\",\"contentInfo\":null,\"height\":null,\"url\":\"http://rukmini1.flixcart.com/image/{@width}/{@height}/jasj6a80/shoe/s/h/p/slyde-dp-nw1-9-puma-black-cherry-tomato-original-imafyazbry6vymzw.jpeg?q={@quality}\",\"width\":null},{\"aspectRatio\":\"5:6\",\"contentInfo\":null,\"height\":null,\"url\":\"http://rukmini1.flixcart.com/image/{@width}/{@height}/jasj6a80/shoe/s/h/p/slyde-dp-nw1-9-puma-black-cherry-tomato-original-imafyazbgmft2zcb.jpeg?q={@quality}\",\"width\":null}],\"listingId\":\"LSTSHOEVXU7DUR4EZ4JHIRKXN\",\"productUrl\":\"/puma-slyde-dp-sneakers-men/p/itmf3yyjxjzy2wkm?pid=SHOEVXU7DUR4EZ4J&lid=LSTSHOEVXU7DUR4EZ4JHIRKXN&marketplace=FLIPKART\",\"quickViewUrl\":\"/quick-view?pid=SHOEVXU7DUR4EZ4J&lid=LSTSHOEVXU7DUR4EZ4JHIRKXN\",\"smartUrl\":\"http://dl.flipkart.com/dl/puma-slyde-dp-sneakers-men/p/itmf3yyjxjzy2wkm?pid=SHOEVXU7DUR4EZ4J\",\"titles\":{\"coSubtitle\":\"Size: 9\",\"newTitle\":\"Slyde DP Sneakers For Men\",\"subtitle\":\"Black\",\"superTitle\":\"Puma\",\"title\":\"Puma Slyde DP Sneakers For Men\"}},\"SHOEVXU73WTBJZEY\":{\"attributeIndexes\":[3,1],\"available\":false,\"grade\":{\"color\":null,\"id\":null,\"name\":null,\"shortDesc\":null},\"images\":[{\"aspectRatio\":\"5:6\",\"contentInfo\":null,\"height\":null,\"url\":\"http://rukmini1.flixcart.com/image/{@width}/{@height}/jasj6a80/shoe/c/d/t/slyde-dp-nw1-9-puma-blue-depths-lapis-blue-original-imafyap2gdyptm8c.jpeg?q={@quality}\",\"width\":null},{\"aspectRatio\":\"5:6\",\"contentInfo\":null,\"height\":null,\"url\":\"http://rukmini1.flixcart.com/image/{@width}/{@height}/jasj6a80/shoe/c/d/t/slyde-dp-nw1-9-puma-blue-depths-lapis-blue-original-imafyazauhkdefth.jpeg?q={@quality}\",\"width\":null},{\"aspectRatio\":\"5:6\",\"contentInfo\":null,\"height\":null,\"url\":\"http://rukmini1.flixcart.com/image/{@width}/{@height}/jatym4w0/shoe/c/d/t/slyde-dp-nw1-9-puma-blue-depths-lapis-blue-original-imafyazfu4emwx6y.jpeg?q={@quality}\",\"width\":null},{\"aspectRatio\":\"5:6\",\"contentInfo\":null,\"height\":null,\"url\":\"http://rukmini1.flixcart.com/image/{@width}/{@height}/jasj6a80/shoe/c/d/t/slyde-dp-nw1-9-puma-blue-depths-lapis-blue-original-imafyazaeueffsjg.jpeg?q={@quality}\",\"width\":null}],\"listingId\":\"LSTSHOEVXU73WTBJZEYGHN7PR\",\"productUrl\":\"/puma-slyde-dp-sneakers-men/p/itmf8gp3jge7ambz?pid=SHOEVXU73WTBJZEY&lid=LSTSHOEVXU73WTBJZEYGHN7PR&marketplace=FLIPKART\",\"quickViewUrl\":\"/quick-view?pid=SHOEVXU73WTBJZEY&lid=LSTSHOEVXU73WTBJZEYGHN7PR\",\"smartUrl\":\"http://dl.flipkart.com/dl/puma-slyde-dp-sneakers-men/p/itmf8gp3jge7ambz?pid=SHOEVXU73WTBJZEY\",\"titles\":{\"coSubtitle\":\"Size: 6\",\"newTitle\":\"Slyde DP Sneakers For Men\",\"subtitle\":\"Blue\",\"superTitle\":\"Puma\",\"title\":\"Puma Slyde DP Sneakers For Men\"}}},\"tooltips\":[{\"emoji\":\"💡\",\"key\":\"Tip\"},{\"emoji\":\"💡\",\"key\":\"Tip\",\"text\":\"This product runs a size larger. If you usually buy UK 10, buy UK 9 for this.\"}]}}},\"tracking\":{\"impressionId\":\"b9c9b834-213e-4b8b-91a3-c69ccc089bed\",\"fetchId\":\"b9c9b834-213e-4b8b-91a3-c69ccc089bed.SHOF32HGW4SNK2DM\",\"productId\":\"SHOF32HGW4SNK2DM\",\"contextType\":\"page\",\"position\":9}}},{\"slotType\":\"LOGICAL\",\"id\":10006,\"parentId\":10002,\"layoutParams\":{\"collapsible\":true,\"orientation\":\"\"},\"childArrangement\":\"STACK\"}],\"10003\":[{\"slotType\":\"WIDGET\",\"id\":6,\"parentId\":10003,\"layoutParams\":{\"flexibleWidth\":true,\"orientation\":\"\",\"widgetHeight\":150,\"widgetWidth\":12},\"dataId\":\"-820974481\",\"elementId\":\"6-PRODUCT_BREADCRUMBS\",\"hasWidgetDataChanged\":true,\"ttl\":3000,\"widget\":{\"type\":\"PRODUCT_BREADCRUMBS\",\"data\":{\"productBreadcrumbs\":[{\"title\":\"Home\",\"url\":\"/?otracker=product_breadCrumbs_Home\"},{\"title\":\"Footwear\",\"url\":\"/footwear/pr?sid=osp&marketplace=FLIPKART&otracker=product_breadCrumbs_Footwear\"},{\"title\":\"Men's Footwear\",\"url\":\"/mens-footwear/pr?sid=osp,cil&marketplace=FLIPKART&otracker=product_breadCrumbs_Men%27s+Footwear\"},{\"title\":\"Casual Shoes\",\"url\":\"/mens-footwear/casual-shoes/pr?sid=osp,cil,e1f&marketplace=FLIPKART&otracker=product_breadCrumbs_Casual+Shoes\"},{\"title\":\"Puma Casual Shoes\",\"url\":\"/mens-footwear/casual-shoes/puma~brand/pr?sid=osp,cil,e1f&marketplace=FLIPKART&otracker=product_breadCrumbs_Puma+Casual+Shoes\"},{\"title\":\"Puma Slyde NU IDP Sneakers For Men (Blue)\"}]}}},{\"slotType\":\"WIDGET\",\"id\":8,\"parentId\":10003,\"layoutParams\":{\"fixedWidth\":70,\"orientation\":\"\",\"widgetWidth\":12},\"dataId\":\"-648109444\",\"elementId\":\"8-SOLO_ACTION\",\"hasWidgetDataChanged\":true,\"ttl\":3000,\"widget\":{\"type\":\"SOLO_ACTION\",\"viewType\":\"SHARE_PRODUCT\",\"data\":{\"action\":{\"action\":{\"constraints\":null,\"fallback\":null,\"loginType\":\"LOGIN_NOT_REQUIRED\",\"omnitureData\":null,\"originalUrl\":null,\"params\":{\"valid\":true,\"productId\":\"SHOF32HGW4SNK2DM\",\"title\":\"Puma Slyde NU IDP Sneakers For Men\",\"url\":\"http://dl.flipkart.com/dl/puma-slyde-nu-idp-sneakers-men/p/itmf3xxcvu8fwgcp?pid=SHOF32HGW4SNK2DM&cmpid=product.share.pp\"},\"screenType\":\"share\",\"tracking\":{},\"type\":\"SHARE\",\"url\":null},\"metaData\":null,\"tracking\":null,\"trackingData\":null,\"value\":{\"type\":\"ProductActionValue\",\"actionType\":\"SHARE_PAGE\",\"enabled\":true}},\"compareAction\":null},\"tracking\":{\"impressionId\":\"b9c9b834-213e-4b8b-91a3-c69ccc089bed\",\"productId\":\"SHOF32HGW4SNK2DM\",\"contextType\":\"page\",\"position\":4}}}],\"10004\":[{\"slotType\":\"LOGICAL\",\"id\":10005,\"parentId\":10004,\"layoutParams\":{\"orientation\":\"\",\"widgetWidth\":6},\"childArrangement\":\"STACK\"}],\"10005\":[{\"slotType\":\"WIDGET\",\"id\":14,\"parentId\":10005,\"layoutParams\":{\"orientation\":\"\",\"widgetHeight\":150,\"widgetWidth\":12},\"dataId\":\"-307222074\",\"elementId\":\"14-COMPOSED_PINCODE_DELIVERY\",\"hasWidgetDataChanged\":true,\"ttl\":3000,\"widget\":{\"type\":\"COMPOSED_PINCODE_DELIVERY\",\"viewType\":\"LIFESTYLE\",\"data\":{\"deliveryData\":null,\"fassuredCard\":{\"type\":\"FAssuredCard\",\"fassuredComponent\":{\"action\":null,\"metaData\":null,\"tracking\":null,\"trackingData\":null,\"value\":{\"type\":\"FAssuredValue\",\"callouts\":[\"For Plus customers, shipping charges are free.  \",\"For non-Plus customers, if the total value of FAssured items is more than Rs.500, shipping charges are free.  If the total value of FAssured items is less than Rs.500, shipping charges = Rs.40 per unit\",\"* For faster delivery, shipping charges will be applicable.\"],\"description\":\"Shipping charges are calculated based on the number of units, distance and delivery date. \"}},\"image\":null,\"text\":\"Shipping Charges For Flipkart Assured Items\"},\"installationCard\":{\"type\":\"InstallationCard\",\"image\":null,\"installationComponent\":{\"action\":null,\"metaData\":null,\"tracking\":null,\"trackingData\":null,\"value\":{\"type\":\"InstallationV2Value\",\"details\":[\"This product doesn't require installation\"]}},\"text\":\"Installation Details\"},\"pincodeData\":{\"pincodeComponent\":null}},\"header\":{\"action\":null,\"metaData\":null,\"tracking\":null,\"trackingData\":null,\"value\":{\"type\":\"HeaderValue\",\"actionButton\":null,\"collapsed\":false,\"collapsible\":false,\"imageValue\":null,\"referenceImageValue\":null,\"showActionButton\":false,\"showHeader\":true,\"subTitleValue\":null,\"tags\":null,\"timerValue\":null,\"titleValue\":{\"type\":\"TitleValue\",\"image\":null,\"text\":\"Delivery\"}}}}}],\"10006\":[{\"slotType\":\"LOGICAL\",\"id\":10007,\"parentId\":10006,\"layoutParams\":{\"margin\":\"0,24,0,0\",\"orientation\":\"\"},\"childArrangement\":\"ADJACENT\"},{\"slotType\":\"WIDGET\",\"id\":22,\"parentId\":10006,\"layoutParams\":{\"layoutKey\":\"LIFESTYLE\",\"margin\":\"0,24,0,0\",\"orientation\":\"\",\"widgetHeight\":150,\"widgetWidth\":12},\"dataId\":\"768183787\",\"elementId\":\"22-PRODUCT_DETAILS\",\"hasWidgetDataChanged\":true,\"ttl\":3000,\"widget\":{\"type\":\"PRODUCT_DETAILS\",\"viewType\":\"SPEC_COLLAPSED\",\"data\":{\"listingManufacturerInfo\":{\"action\":null,\"metaData\":null,\"tracking\":null,\"trackingData\":null,\"value\":{\"type\":\"ListingManufacturerValue\",\"detailedComponents\":[{\"action\":null,\"metaData\":null,\"tracking\":null,\"trackingData\":null,\"value\":{\"type\":\"DetailedComponent\",\"callouts\":[\"DSM GRUP DANISMANLIKVE SATIS TIC. A BUYUK DERE CADDESI NO 237 NORAMIN ISMERKEZI KAT-B134398 MASLAK ISTANBUL TURKEY\"],\"subTitle\":\"Manufactured by:\",\"title\":\"Manufacturer's Details\"}},{\"action\":null,\"metaData\":null,\"tracking\":null,\"trackingData\":null,\"value\":{\"type\":\"DetailedComponent\",\"callouts\":[\"SANMAG INTERNATIONAL PVT LTD -Plot No 57 ANAZ MANDI BALLABGARH FARIDABAD HARYANA-121004\"],\"subTitle\":\"Packed by:\",\"title\":\"Packer's Details\"}}],\"mappedCards\":[{\"key\":\"Generic Name\",\"values\":[\"Shoe\"]},{\"key\":\"Country of Origin\",\"values\":[\"Turkey\"]}]}},\"renderableComponent\":{\"action\":null,\"metaData\":null,\"tracking\":null,\"trackingData\":null,\"value\":{\"type\":\"ProductDetailValue\",\"collapsed\":true,\"details\":null,\"specification\":[{\"name\":\"Color\",\"values\":[\"Blue\"]},{\"name\":\"Outer Material\",\"values\":[\"Fabric\"]},{\"name\":\"Model Name\",\"values\":[\"Slyde NU IDP\"]},{\"name\":\"Ideal For\",\"values\":[\"Men\"]},{\"name\":\"Occasion\",\"values\":[\"Casual\"]},{\"name\":\"Sole Material\",\"values\":[\"Rubber\"]},{\"name\":\"Closure\",\"values\":[\"Lace-Ups\"]},{\"name\":\"Style\",\"values\":[\"Panel and Stitch Detail, Loop at Ankle\"]},{\"name\":\"Tip Shape\",\"values\":[\"Round\"]},{\"name\":\"Season\",\"values\":[\"SS 18\"]},{\"name\":\"Warranty Summary\",\"values\":[\"This is a genuine product of Puma Sports India Pvt Ltd. The product comes with a standard brand warranty of 90 days.\"]},{\"name\":\"Covered in Warranty\",\"values\":[\"Manufacturing defects: stitching/ pasting issues, mesh quality, sole integrity. Exchange available within 90 days of purchase, provided the product is not inappropriately used as determined by the Brand.\"]},{\"name\":\"Not Covered in Warranty\",\"values\":[\"Wear & tear\"]}]}}},\"header\":{\"action\":null,\"metaData\":null,\"tracking\":null,\"trackingData\":null,\"value\":{\"type\":\"HeaderValue\",\"actionButton\":null,\"collapsed\":false,\"collapsible\":false,\"imageValue\":null,\"referenceImageValue\":null,\"showActionButton\":false,\"showHeader\":true,\"subTitleValue\":null,\"tags\":null,\"timerValue\":null,\"titleValue\":{\"type\":\"TitleValue\",\"image\":null,\"text\":\"Product Details\"}}},\"footer\":{\"action\":{\"constraints\":null,\"fallback\":null,\"loginType\":\"LOGIN_NOT_REQUIRED\",\"omnitureData\":null,\"originalUrl\":null,\"params\":{\"productId\":\"SHOF32HGW4SNK2DM\",\"screenName\":\"PRODUCT_STATIC_DETAIL_PAGE\",\"url\":\"/puma-slyde-nu-idp-sneakers-men/p/itmf3xxcvu8fwgcp/specifications?pid=SHOF32HGW4SNK2DM&marketplace=FLIPKART\"},\"screenType\":null,\"tracking\":{},\"type\":\"NAVIGATION\",\"url\":\"/puma-slyde-nu-idp-sneakers-men/p/itmf3xxcvu8fwgcp/specifications?pid=SHOF32HGW4SNK2DM&marketplace=FLIPKART\"},\"metaData\":null,\"tracking\":null,\"trackingData\":null,\"value\":{\"type\":\"FooterValue\",\"imageValue\":null,\"subTitleValue\":null,\"timerValue\":null,\"titleValue\":{\"type\":\"TitleValue\",\"image\":null,\"text\":\"All Details\"}}}}},{\"slotType\":\"LOGICAL\",\"id\":10008,\"parentId\":10006,\"layoutParams\":{\"margin\":\"0,24,0,0\",\"orientation\":\"\"},\"childArrangement\":\"ADJACENT\"},{\"slotType\":\"WIDGET\",\"id\":27,\"parentId\":10006,\"layoutParams\":{\"orientation\":\"\",\"widgetHeight\":150,\"widgetWidth\":12},\"dataId\":\"-856345153\",\"elementId\":\"27-COMPOSED_RATING_REVIEW\",\"hasWidgetDataChanged\":true,\"ttl\":3000,\"widget\":{\"type\":\"COMPOSED_RATING_REVIEW\",\"viewType\":\"LIFESTYLE\",\"data\":{\"ratingData\":{\"header\":{\"action\":null,\"metaData\":null,\"tracking\":null,\"trackingData\":null,\"value\":{\"type\":\"HeaderValue\",\"actionButton\":null,\"collapsed\":false,\"collapsible\":false,\"imageValue\":null,\"referenceImageValue\":null,\"showActionButton\":false,\"showHeader\":true,\"subTitleValue\":null,\"tags\":null,\"timerValue\":null,\"titleValue\":{\"type\":\"TitleValue\",\"image\":null,\"text\":\"What our customers felt:\"}}},\"rating\":{\"action\":{\"constraints\":null,\"fallback\":null,\"loginType\":\"LOGIN_NOT_REQUIRED\",\"omnitureData\":null,\"originalUrl\":null,\"params\":{\"valid\":true,\"vertical\":\"MenCasualShoe\",\"screenName\":\"PRODUCT_REVIEW_PAGE\",\"productId\":\"SHOF32HGW4SNK2DM\",\"category\":\"MenFW\"},\"screenType\":\"multiWidgetPage\",\"tracking\":{},\"type\":\"NAVIGATION\",\"url\":\"/puma-slyde-nu-idp-sneakers-men/product-reviews/itmf3xxcvu8fwgcp?pid=SHOF32HGW4SNK2DM&cat=MenFW&vert=MenCasualShoe\"},\"metaData\":null,\"tracking\":null,\"trackingData\":null,\"value\":{\"type\":\"UgcRatingValue\",\"average\":4.157907962799072,\"base\":5,\"histogram\":[856,443,1217,2988,6579],\"histogramBaseCount\":6579,\"histogramFeedbackList\":[{\"feedbackPolarity\":\"POSITIVE\",\"percent\":89,\"text\":\"Positive feedback\"},{\"feedbackPolarity\":\"NEGATIVE\",\"percent\":11,\"text\":\"Negative feedback\"}],\"ratingCount\":12083,\"reviewCount\":1906,\"viewType\":\"OVERALL_RATING_VIEW\"}},\"reviewButton\":{\"action\":{\"constraints\":[{\"metaInfo\":{\"openInBottomSheet\":\"true\",\"url\":\"/login?type=mobile&sourceContext=rate_the_product\"},\"type\":\"LOGIN\"}],\"fallback\":null,\"loginType\":\"LEGACY_LOGIN\",\"omnitureData\":null,\"originalUrl\":null,\"params\":{\"pid\":\"SHOF32HGW4SNK2DM\",\"screenName\":\"WRITE_REVIEW\",\"source\":\"pp\",\"openUploadImagesGalleryPage\":false,\"url\":null},\"screenType\":\"writeReviewProduct\",\"tracking\":{},\"type\":\"NAVIGATION\",\"url\":\"/puma-slyde-nu-idp-sneakers-men/write-review/itmf3xxcvu8fwgcp?pid=SHOF32HGW4SNK2DM&source=pp\"},\"metaData\":null,\"tracking\":null,\"trackingData\":null,\"value\":{\"type\":\"ButtonValue\",\"title\":\"Rate Product\"}},\"scaleAspectComponents\":[],\"sentimentAspectComponent\":{\"action\":null,\"metaData\":null,\"tracking\":{\"impressionId\":\"b9c9b834-213e-4b8b-91a3-c69ccc089bed\",\"contextType\":\"page\"},\"trackingData\":null,\"value\":{\"type\":\"SentimentAspectSummaryValue\",\"negative\":[],\"neutral\":[{\"action\":{\"constraints\":null,\"fallback\":null,\"loginType\":\"LOGIN_NOT_REQUIRED\",\"omnitureData\":null,\"originalUrl\":null,\"params\":{\"valid\":true,\"marketplaceId\":\"FLIPKART\",\"aspectName\":\"Colour\",\"fetchId\":\"b9c9b834-213e-4b8b-91a3-c69ccc089bed.SHOF32HGW4SNK2DM\",\"productId\":\"SHOF32HGW4SNK2DM\",\"aspectId\":\"78e9c887-e28e-42c4-bcca-180da5e2fb98\",\"vertical\":\"MenCasualShoe\",\"screenName\":\"PRODUCT_REVIEW_PAGE\",\"category\":\"MenFW\"},\"screenType\":\"multiWidgetPage\",\"tracking\":{},\"type\":\"NAVIGATION\",\"url\":\"/puma-slyde-nu-idp-sneakers-men/product-reviews/itmf3xxcvu8fwgcp?pid=SHOF32HGW4SNK2DM&aid=78e9c887-e28e-42c4-bcca-180da5e2fb98&mid=FLIPKART&fid=b9c9b834-213e-4b8b-91a3-c69ccc089bed.SHOF32HGW4SNK2DM&an=Colour&cat=MenFW&vert=MenCasualShoe\"},\"metaData\":null,\"tracking\":null,\"trackingData\":null,\"value\":{\"type\":\"BaseAspectDetail\",\"aspectId\":\"78e9c887-e28e-42c4-bcca-180da5e2fb98\",\"aspectName\":\"Colour\",\"aspectType\":\"SENTIMENT\"}}],\"positive\":[{\"action\":{\"constraints\":null,\"fallback\":null,\"loginType\":\"LOGIN_NOT_REQUIRED\",\"omnitureData\":null,\"originalUrl\":null,\"params\":{\"valid\":true,\"marketplaceId\":\"FLIPKART\",\"aspectName\":\"Look\",\"fetchId\":\"b9c9b834-213e-4b8b-91a3-c69ccc089bed.SHOF32HGW4SNK2DM\",\"productId\":\"SHOF32HGW4SNK2DM\",\"aspectId\":\"97651873-0240-4dfd-939f-d669e300cb00\",\"vertical\":\"MenCasualShoe\",\"screenName\":\"PRODUCT_REVIEW_PAGE\",\"category\":\"MenFW\"},\"screenType\":\"multiWidgetPage\",\"tracking\":{},\"type\":\"NAVIGATION\",\"url\":\"/puma-slyde-nu-idp-sneakers-men/product-reviews/itmf3xxcvu8fwgcp?pid=SHOF32HGW4SNK2DM&aid=97651873-0240-4dfd-939f-d669e300cb00&mid=FLIPKART&fid=b9c9b834-213e-4b8b-91a3-c69ccc089bed.SHOF32HGW4SNK2DM&an=Look&cat=MenFW&vert=MenCasualShoe\"},\"metaData\":null,\"tracking\":null,\"trackingData\":null,\"value\":{\"type\":\"BaseAspectDetail\",\"aspectId\":\"97651873-0240-4dfd-939f-d669e300cb00\",\"aspectName\":\"Look\",\"aspectType\":\"SENTIMENT\"}},{\"action\":{\"constraints\":null,\"fallback\":null,\"loginType\":\"LOGIN_NOT_REQUIRED\",\"omnitureData\":null,\"originalUrl\":null,\"params\":{\"valid\":true,\"marketplaceId\":\"FLIPKART\",\"aspectName\":\"Comfort\",\"fetchId\":\"b9c9b834-213e-4b8b-91a3-c69ccc089bed.SHOF32HGW4SNK2DM\",\"productId\":\"SHOF32HGW4SNK2DM\",\"aspectId\":\"8e753289-46af-43a4-9329-09117556fe1a\",\"vertical\":\"MenCasualShoe\",\"screenName\":\"PRODUCT_REVIEW_PAGE\",\"category\":\"MenFW\"},\"screenType\":\"multiWidgetPage\",\"tracking\":{},\"type\":\"NAVIGATION\",\"url\":\"/puma-slyde-nu-idp-sneakers-men/product-reviews/itmf3xxcvu8fwgcp?pid=SHOF32HGW4SNK2DM&aid=8e753289-46af-43a4-9329-09117556fe1a&mid=FLIPKART&fid=b9c9b834-213e-4b8b-91a3-c69ccc089bed.SHOF32HGW4SNK2DM&an=Comfort&cat=MenFW&vert=MenCasualShoe\"},\"metaData\":null,\"tracking\":null,\"trackingData\":null,\"value\":{\"type\":\"BaseAspectDetail\",\"aspectId\":\"8e753289-46af-43a4-9329-09117556fe1a\",\"aspectName\":\"Comfort\",\"aspectType\":\"SENTIMENT\"}}]}}},\"reviewData\":{\"renderableComponents\":[{\"action\":null,\"metaData\":null,\"tracking\":{\"impressionId\":\"b9c9b834-213e-4b8b-91a3-c69ccc089bed\",\"otracker\":\"1\",\"position\":\"1\",\"contextType\":\"page\"},\"trackingData\":null,\"value\":{\"type\":\"ProductReviewValue\",\"author\":\"Vãrùñ Gøwdâ\",\"certifiedBuyer\":true,\"created\":\"Jun, 2018\",\"downvote\":{\"action\":{\"constraints\":[{\"metaInfo\":{\"openInBottomSheet\":\"true\",\"url\":\"/login?type=mobile&sourceContext=review_vote\"},\"type\":\"LOGIN\"}],\"fallback\":null,\"loginType\":\"LEGACY_LOGIN\",\"omnitureData\":null,\"originalUrl\":null,\"params\":{\"reviewDomain\":\"PRODUCT\",\"source\":\"pp\",\"reviewId\":\"5758b00f-2eb0-411a-a508-e410da5232f5\",\"vote\":\"DOWN\"},\"screenType\":null,\"tracking\":{},\"type\":\"REVIEW_VOTE\",\"url\":null},\"metaData\":null,\"tracking\":null,\"trackingData\":null,\"value\":{\"type\":\"VoteValue\",\"count\":24,\"isSelected\":false}},\"helpfulCount\":151,\"id\":\"5758b00f-2eb0-411a-a508-e410da5232f5\",\"images\":[{\"action\":{\"constraints\":null,\"fallback\":null,\"loginType\":\"LOGIN_NOT_REQUIRED\",\"omnitureData\":null,\"originalUrl\":\"/review-image-fullscreen?pid=SHOF32HGS2MJ2VKZ&imageId=blobio-20180601_676h831j.jpg\",\"params\":{\"imageId\":\"blobio-20180601_676h831j.jpg\",\"imagesShown\":4,\"screenName\":\"productReviewFullScreenPage\",\"horizontallyPaginated\":true,\"paginationUrl\":\"/review-image-grid?pid=SHOF32HGS2MJ2VKZ&reviewId=5758b00f-2eb0-411a-a508-e410da5232f5\",\"totalImageCount\":4},\"screenType\":\"multiWidgetPage\",\"tracking\":{},\"type\":\"NAVIGATION\",\"url\":\"/review-image-fullscreen?pid=SHOF32HGS2MJ2VKZ&imageId=blobio-20180601_676h831j.jpg\"},\"metaData\":null,\"tracking\":null,\"trackingData\":null,\"value\":{\"type\":\"ReviewImage\",\"imageId\":\"blobio-20180601_676h831j.jpg\",\"imageURL\":\"http://rukmini1.flixcart.com/blobio/{@width}/{@height}/20180601/blobio-20180601_676h831j.jpg?q={@quality}\",\"viewType\":\"DEFAULT_VIEW\"}},{\"action\":{\"constraints\":null,\"fallback\":null,\"loginType\":\"LOGIN_NOT_REQUIRED\",\"omnitureData\":null,\"originalUrl\":\"/review-image-fullscreen?pid=SHOF32HGS2MJ2VKZ&imageId=blobio-20180601_484d2lkq.jpg\",\"params\":{\"imageId\":\"blobio-20180601_484d2lkq.jpg\",\"imagesShown\":4,\"screenName\":\"productReviewFullScreenPage\",\"horizontallyPaginated\":true,\"paginationUrl\":\"/review-image-grid?pid=SHOF32HGS2MJ2VKZ&reviewId=5758b00f-2eb0-411a-a508-e410da5232f5\",\"totalImageCount\":4},\"screenType\":\"multiWidgetPage\",\"tracking\":{},\"type\":\"NAVIGATION\",\"url\":\"/review-image-fullscreen?pid=SHOF32HGS2MJ2VKZ&imageId=blobio-20180601_484d2lkq.jpg\"},\"metaData\":null,\"tracking\":null,\"trackingData\":null,\"value\":{\"type\":\"ReviewImage\",\"imageId\":\"blobio-20180601_484d2lkq.jpg\",\"imageURL\":\"http://rukmini1.flixcart.com/blobio/{@width}/{@height}/20180601/blobio-20180601_484d2lkq.jpg?q={@quality}\",\"viewType\":\"DEFAULT_VIEW\"}},{\"action\":{\"constraints\":null,\"fallback\":null,\"loginType\":\"LOGIN_NOT_REQUIRED\",\"omnitureData\":null,\"originalUrl\":\"/review-image-fullscreen?pid=SHOF32HGS2MJ2VKZ&imageId=blobio-20180601_m2p4pvl.jpg\",\"params\":{\"imageId\":\"blobio-20180601_m2p4pvl.jpg\",\"imagesShown\":4,\"screenName\":\"productReviewFullScreenPage\",\"horizontallyPaginated\":true,\"paginationUrl\":\"/review-image-grid?pid=SHOF32HGS2MJ2VKZ&reviewId=5758b00f-2eb0-411a-a508-e410da5232f5\",\"totalImageCount\":4},\"screenType\":\"multiWidgetPage\",\"tracking\":{},\"type\":\"NAVIGATION\",\"url\":\"/review-image-fullscreen?pid=SHOF32HGS2MJ2VKZ&imageId=blobio-20180601_m2p4pvl.jpg\"},\"metaData\":null,\"tracking\":null,\"trackingData\":null,\"value\":{\"type\":\"ReviewImage\",\"imageId\":\"blobio-20180601_m2p4pvl.jpg\",\"imageURL\":\"http://rukmini1.flixcart.com/blobio/{@width}/{@height}/20180601/blobio-20180601_m2p4pvl.jpg?q={@quality}\",\"viewType\":\"DEFAULT_VIEW\"}},{\"action\":{\"constraints\":null,\"fallback\":null,\"loginType\":\"LOGIN_NOT_REQUIRED\",\"omnitureData\":null,\"originalUrl\":\"/review-image-fullscreen?pid=SHOF32HGS2MJ2VKZ&imageId=blobio-20180601_j17969jt.jpg\",\"params\":{\"imageId\":\"blobio-20180601_j17969jt.jpg\",\"imagesShown\":4,\"screenName\":\"productReviewFullScreenPage\",\"horizontallyPaginated\":true,\"paginationUrl\":\"/review-image-grid?pid=SHOF32HGS2MJ2VKZ&reviewId=5758b00f-2eb0-411a-a508-e410da5232f5\",\"totalImageCount\":4},\"screenType\":\"multiWidgetPage\",\"tracking\":{},\"type\":\"NAVIGATION\",\"url\":\"/review-image-fullscreen?pid=SHOF32HGS2MJ2VKZ&imageId=blobio-20180601_j17969jt.jpg\"},\"metaData\":null,\"tracking\":null,\"trackingData\":null,\"value\":{\"type\":\"ReviewImage\",\"imageId\":\"blobio-20180601_j17969jt.jpg\",\"imageURL\":\"http://rukmini1.flixcart.com/blobio/{@width}/{@height}/20180601/blobio-20180601_j17969jt.jpg?q={@quality}\",\"viewType\":\"DEFAULT_VIEW\"}}],\"location\":{\"type\":\"Location\",\"city\":\"Chikkamagaluru\",\"state\":\"Karnataka\"},\"rating\":5,\"reportAbuse\":{\"action\":{\"constraints\":[{\"metaInfo\":{\"openInBottomSheet\":\"true\",\"url\":\"/login?type=mobile&sourceContext=review_report_abuse\"},\"type\":\"LOGIN\"}],\"fallback\":null,\"loginType\":\"LEGACY_LOGIN\",\"omnitureData\":null,\"originalUrl\":null,\"params\":{\"reviewDomain\":\"PRODUCT\",\"source\":\"pp\",\"reviewId\":\"5758b00f-2eb0-411a-a508-e410da5232f5\",\"vote\":\"ABUSE\"},\"screenType\":null,\"tracking\":{},\"type\":\"REVIEW_VOTE\",\"url\":null},\"metaData\":null,\"tracking\":null,\"trackingData\":null,\"value\":{\"type\":\"VoteValue\",\"count\":0,\"isSelected\":false}},\"reviewPropertyMap\":{\"CERTIFIED_BUYER\":true},\"text\":\"it's really amazing product I love it..and fast delivery..\\n     but packing is not good.....\",\"title\":\"Terrific purchase\",\"totalCount\":175,\"upvote\":{\"action\":{\"constraints\":[{\"metaInfo\":{\"openInBottomSheet\":\"true\",\"url\":\"/login?type=mobile&sourceContext=review_vote\"},\"type\":\"LOGIN\"}],\"fallback\":null,\"loginType\":\"LEGACY_LOGIN\",\"omnitureData\":null,\"originalUrl\":null,\"params\":{\"reviewDomain\":\"PRODUCT\",\"source\":\"pp\",\"reviewId\":\"5758b00f-2eb0-411a-a508-e410da5232f5\",\"vote\":\"UP\"},\"screenType\":null,\"tracking\":{},\"type\":\"REVIEW_VOTE\",\"url\":null},\"metaData\":null,\"tracking\":null,\"trackingData\":null,\"value\":{\"type\":\"VoteValue\",\"count\":151,\"isSelected\":false}},\"url\":\"/reviews/5758b00f-2eb0-411a-a508-e410da5232f5\"}},{\"action\":null,\"metaData\":null,\"tracking\":{\"impressionId\":\"b9c9b834-213e-4b8b-91a3-c69ccc089bed\",\"otracker\":\"2\",\"position\":\"2\",\"contextType\":\"page\"},\"trackingData\":null,\"value\":{\"type\":\"ProductReviewValue\",\"author\":\"Flipkart Customer\",\"certifiedBuyer\":true,\"created\":\"Jun, 2018\",\"downvote\":{\"action\":{\"constraints\":[{\"metaInfo\":{\"openInBottomSheet\":\"true\",\"url\":\"/login?type=mobile&sourceContext=review_vote\"},\"type\":\"LOGIN\"}],\"fallback\":null,\"loginType\":\"LEGACY_LOGIN\",\"omnitureData\":null,\"originalUrl\":null,\"params\":{\"reviewDomain\":\"PRODUCT\",\"source\":\"pp\",\"reviewId\":\"e752b648-0fdf-4b6c-885c-989eef562c7c\",\"vote\":\"DOWN\"},\"screenType\":null,\"tracking\":{},\"type\":\"REVIEW_VOTE\",\"url\":null},\"metaData\":null,\"tracking\":null,\"trackingData\":null,\"value\":{\"type\":\"VoteValue\",\"count\":0,\"isSelected\":false}},\"helpfulCount\":15,\"id\":\"e752b648-0fdf-4b6c-885c-989eef562c7c\",\"images\":[{\"action\":{\"constraints\":null,\"fallback\":null,\"loginType\":\"LOGIN_NOT_REQUIRED\",\"omnitureData\":null,\"originalUrl\":\"/review-image-fullscreen?pid=SHOF32HGY8GPYZB7&imageId=blobio-20180614_fhu3ac8l.jpg\",\"params\":{\"imageId\":\"blobio-20180614_fhu3ac8l.jpg\",\"imagesShown\":1,\"screenName\":\"productReviewFullScreenPage\",\"horizontallyPaginated\":true,\"paginationUrl\":\"/review-image-grid?pid=SHOF32HGY8GPYZB7&reviewId=e752b648-0fdf-4b6c-885c-989eef562c7c\",\"totalImageCount\":1},\"screenType\":\"multiWidgetPage\",\"tracking\":{},\"type\":\"NAVIGATION\",\"url\":\"/review-image-fullscreen?pid=SHOF32HGY8GPYZB7&imageId=blobio-20180614_fhu3ac8l.jpg\"},\"metaData\":null,\"tracking\":null,\"trackingData\":null,\"value\":{\"type\":\"ReviewImage\",\"imageId\":\"blobio-20180614_fhu3ac8l.jpg\",\"imageURL\":\"http://rukmini1.flixcart.com/blobio/{@width}/{@height}/20180614/blobio-20180614_fhu3ac8l.jpg?q={@quality}\",\"viewType\":\"DEFAULT_VIEW\"}}],\"location\":{\"type\":\"Location\",\"city\":\"Pune\",\"state\":\"Maharashtra\"},\"rating\":5,\"reportAbuse\":{\"action\":{\"constraints\":[{\"metaInfo\":{\"openInBottomSheet\":\"true\",\"url\":\"/login?type=mobile&sourceContext=review_report_abuse\"},\"type\":\"LOGIN\"}],\"fallback\":null,\"loginType\":\"LEGACY_LOGIN\",\"omnitureData\":null,\"originalUrl\":null,\"params\":{\"reviewDomain\":\"PRODUCT\",\"source\":\"pp\",\"reviewId\":\"e752b648-0fdf-4b6c-885c-989eef562c7c\",\"vote\":\"ABUSE\"},\"screenType\":null,\"tracking\":{},\"type\":\"REVIEW_VOTE\",\"url\":null},\"metaData\":null,\"tracking\":null,\"trackingData\":null,\"value\":{\"type\":\"VoteValue\",\"count\":0,\"isSelected\":false}},\"reviewPropertyMap\":{\"CERTIFIED_BUYER\":true},\"text\":\"Nice product...\\nIt is very good looking, stylish and comfortable in affordable price...Can go for it\",\"title\":\"Awesome\",\"totalCount\":15,\"upvote\":{\"action\":{\"constraints\":[{\"metaInfo\":{\"openInBottomSheet\":\"true\",\"url\":\"/login?type=mobile&sourceContext=review_vote\"},\"type\":\"LOGIN\"}],\"fallback\":null,\"loginType\":\"LEGACY_LOGIN\",\"omnitureData\":null,\"originalUrl\":null,\"params\":{\"reviewDomain\":\"PRODUCT\",\"source\":\"pp\",\"reviewId\":\"e752b648-0fdf-4b6c-885c-989eef562c7c\",\"vote\":\"UP\"},\"screenType\":null,\"tracking\":{},\"type\":\"REVIEW_VOTE\",\"url\":null},\"metaData\":null,\"tracking\":null,\"trackingData\":null,\"value\":{\"type\":\"VoteValue\",\"count\":15,\"isSelected\":false}},\"url\":\"/reviews/e752b648-0fdf-4b6c-885c-989eef562c7c\"}},{\"action\":null,\"metaData\":null,\"tracking\":{\"impressionId\":\"b9c9b834-213e-4b8b-91a3-c69ccc089bed\",\"otracker\":\"3\",\"position\":\"3\",\"contextType\":\"page\"},\"trackingData\":null,\"value\":{\"type\":\"ProductReviewValue\",\"author\":\"Anwar Ansari\",\"certifiedBuyer\":true,\"created\":\"11 months ago\",\"downvote\":{\"action\":{\"constraints\":[{\"metaInfo\":{\"openInBottomSheet\":\"true\",\"url\":\"/login?type=mobile&sourceContext=review_vote\"},\"type\":\"LOGIN\"}],\"fallback\":null,\"loginType\":\"LEGACY_LOGIN\",\"omnitureData\":null,\"originalUrl\":null,\"params\":{\"reviewDomain\":\"PRODUCT\",\"source\":\"pp\",\"reviewId\":\"e1603b9f-ff10-45bb-bc67-1f55581bc0d9\",\"vote\":\"DOWN\"},\"screenType\":null,\"tracking\":{},\"type\":\"REVIEW_VOTE\",\"url\":null},\"metaData\":null,\"tracking\":null,\"trackingData\":null,\"value\":{\"type\":\"VoteValue\",\"count\":10,\"isSelected\":false}},\"helpfulCount\":71,\"id\":\"e1603b9f-ff10-45bb-bc67-1f55581bc0d9\",\"images\":[{\"action\":{\"constraints\":null,\"fallback\":null,\"loginType\":\"LOGIN_NOT_REQUIRED\",\"omnitureData\":null,\"originalUrl\":\"/review-image-fullscreen?pid=SHOEVXU7K5ZZBAMC&imageId=blobio-20181018_2n0e6s6g.jpg\",\"params\":{\"imageId\":\"blobio-20181018_2n0e6s6g.jpg\",\"imagesShown\":5,\"screenName\":\"productReviewFullScreenPage\",\"horizontallyPaginated\":true,\"paginationUrl\":\"/review-image-grid?pid=SHOEVXU7K5ZZBAMC&reviewId=e1603b9f-ff10-45bb-bc67-1f55581bc0d9\",\"totalImageCount\":5},\"screenType\":\"multiWidgetPage\",\"tracking\":{},\"type\":\"NAVIGATION\",\"url\":\"/review-image-fullscreen?pid=SHOEVXU7K5ZZBAMC&imageId=blobio-20181018_2n0e6s6g.jpg\"},\"metaData\":null,\"tracking\":null,\"trackingData\":null,\"value\":{\"type\":\"ReviewImage\",\"imageId\":\"blobio-20181018_2n0e6s6g.jpg\",\"imageURL\":\"http://rukmini1.flixcart.com/blobio/{@width}/{@height}/20181018/blobio-20181018_2n0e6s6g.jpg?q={@quality}\",\"viewType\":\"DEFAULT_VIEW\"}},{\"action\":{\"constraints\":null,\"fallback\":null,\"loginType\":\"LOGIN_NOT_REQUIRED\",\"omnitureData\":null,\"originalUrl\":\"/review-image-fullscreen?pid=SHOEVXU7K5ZZBAMC&imageId=blobio-20181018_fa5jaabs.jpg\",\"params\":{\"imageId\":\"blobio-20181018_fa5jaabs.jpg\",\"imagesShown\":5,\"screenName\":\"productReviewFullScreenPage\",\"horizontallyPaginated\":true,\"paginationUrl\":\"/review-image-grid?pid=SHOEVXU7K5ZZBAMC&reviewId=e1603b9f-ff10-45bb-bc67-1f55581bc0d9\",\"totalImageCount\":5},\"screenType\":\"multiWidgetPage\",\"tracking\":{},\"type\":\"NAVIGATION\",\"url\":\"/review-image-fullscreen?pid=SHOEVXU7K5ZZBAMC&imageId=blobio-20181018_fa5jaabs.jpg\"},\"metaData\":null,\"tracking\":null,\"trackingData\":null,\"value\":{\"type\":\"ReviewImage\",\"imageId\":\"blobio-20181018_fa5jaabs.jpg\",\"imageURL\":\"http://rukmini1.flixcart.com/blobio/{@width}/{@height}/20181018/blobio-20181018_fa5jaabs.jpg?q={@quality}\",\"viewType\":\"DEFAULT_VIEW\"}},{\"action\":{\"constraints\":null,\"fallback\":null,\"loginType\":\"LOGIN_NOT_REQUIRED\",\"omnitureData\":null,\"originalUrl\":\"/review-image-fullscreen?pid=SHOEVXU7K5ZZBAMC&imageId=blobio-20181018_mtfh6fk6.jpg\",\"params\":{\"imageId\":\"blobio-20181018_mtfh6fk6.jpg\",\"imagesShown\":5,\"screenName\":\"productReviewFullScreenPage\",\"horizontallyPaginated\":true,\"paginationUrl\":\"/review-image-grid?pid=SHOEVXU7K5ZZBAMC&reviewId=e1603b9f-ff10-45bb-bc67-1f55581bc0d9\",\"totalImageCount\":5},\"screenType\":\"multiWidgetPage\",\"tracking\":{},\"type\":\"NAVIGATION\",\"url\":\"/review-image-fullscreen?pid=SHOEVXU7K5ZZBAMC&imageId=blobio-20181018_mtfh6fk6.jpg\"},\"metaData\":null,\"tracking\":null,\"trackingData\":null,\"value\":{\"type\":\"ReviewImage\",\"imageId\":\"blobio-20181018_mtfh6fk6.jpg\",\"imageURL\":\"http://rukmini1.flixcart.com/blobio/{@width}/{@height}/20181018/blobio-20181018_mtfh6fk6.jpg?q={@quality}\",\"viewType\":\"DEFAULT_VIEW\"}},{\"action\":{\"constraints\":null,\"fallback\":null,\"loginType\":\"LOGIN_NOT_REQUIRED\",\"omnitureData\":null,\"originalUrl\":\"/review-image-fullscreen?pid=SHOEVXU7K5ZZBAMC&imageId=blobio-20181018_itfvqn1e.jpg\",\"params\":{\"imageId\":\"blobio-20181018_itfvqn1e.jpg\",\"imagesShown\":5,\"screenName\":\"productReviewFullScreenPage\",\"horizontallyPaginated\":true,\"paginationUrl\":\"/review-image-grid?pid=SHOEVXU7K5ZZBAMC&reviewId=e1603b9f-ff10-45bb-bc67-1f55581bc0d9\",\"totalImageCount\":5},\"screenType\":\"multiWidgetPage\",\"tracking\":{},\"type\":\"NAVIGATION\",\"url\":\"/review-image-fullscreen?pid=SHOEVXU7K5ZZBAMC&imageId=blobio-20181018_itfvqn1e.jpg\"},\"metaData\":null,\"tracking\":null,\"trackingData\":null,\"value\":{\"type\":\"ReviewImage\",\"imageId\":\"blobio-20181018_itfvqn1e.jpg\",\"imageURL\":\"http://rukmini1.flixcart.com/blobio/{@width}/{@height}/20181018/blobio-20181018_itfvqn1e.jpg?q={@quality}\",\"viewType\":\"DEFAULT_VIEW\"}},{\"action\":{\"constraints\":null,\"fallback\":null,\"loginType\":\"LOGIN_NOT_REQUIRED\",\"omnitureData\":null,\"originalUrl\":\"/review-image-fullscreen?pid=SHOEVXU7K5ZZBAMC&imageId=blobio-20181018_ij1mc8ga.jpg\",\"params\":{\"imageId\":\"blobio-20181018_ij1mc8ga.jpg\",\"imagesShown\":5,\"screenName\":\"productReviewFullScreenPage\",\"horizontallyPaginated\":true,\"paginationUrl\":\"/review-image-grid?pid=SHOEVXU7K5ZZBAMC&reviewId=e1603b9f-ff10-45bb-bc67-1f55581bc0d9\",\"totalImageCount\":5},\"screenType\":\"multiWidgetPage\",\"tracking\":{},\"type\":\"NAVIGATION\",\"url\":\"/review-image-fullscreen?pid=SHOEVXU7K5ZZBAMC&imageId=blobio-20181018_ij1mc8ga.jpg\"},\"metaData\":null,\"tracking\":null,\"trackingData\":null,\"value\":{\"type\":\"ReviewImage\",\"imageId\":\"blobio-20181018_ij1mc8ga.jpg\",\"imageURL\":\"http://rukmini1.flixcart.com/blobio/{@width}/{@height}/20181018/blobio-20181018_ij1mc8ga.jpg?q={@quality}\",\"viewType\":\"DEFAULT_VIEW\"}}],\"location\":{\"type\":\"Location\",\"city\":\"Kodad\",\"state\":\"Telangana\"},\"rating\":5,\"reportAbuse\":{\"action\":{\"constraints\":[{\"metaInfo\":{\"openInBottomSheet\":\"true\",\"url\":\"/login?type=mobile&sourceContext=review_report_abuse\"},\"type\":\"LOGIN\"}],\"fallback\":null,\"loginType\":\"LEGACY_LOGIN\",\"omnitureData\":null,\"originalUrl\":null,\"params\":{\"reviewDomain\":\"PRODUCT\",\"source\":\"pp\",\"reviewId\":\"e1603b9f-ff10-45bb-bc67-1f55581bc0d9\",\"vote\":\"ABUSE\"},\"screenType\":null,\"tracking\":{},\"type\":\"REVIEW_VOTE\",\"url\":null},\"metaData\":null,\"tracking\":null,\"trackingData\":null,\"value\":{\"type\":\"VoteValue\",\"count\":0,\"isSelected\":false}},\"reviewPropertyMap\":{\"CERTIFIED_BUYER\":true},\"text\":\"Mind blowing shoes\",\"title\":\"Wonderful\",\"totalCount\":81,\"upvote\":{\"action\":{\"constraints\":[{\"metaInfo\":{\"openInBottomSheet\":\"true\",\"url\":\"/login?type=mobile&sourceContext=review_vote\"},\"type\":\"LOGIN\"}],\"fallback\":null,\"loginType\":\"LEGACY_LOGIN\",\"omnitureData\":null,\"originalUrl\":null,\"params\":{\"reviewDomain\":\"PRODUCT\",\"source\":\"pp\",\"reviewId\":\"e1603b9f-ff10-45bb-bc67-1f55581bc0d9\",\"vote\":\"UP\"},\"screenType\":null,\"tracking\":{},\"type\":\"REVIEW_VOTE\",\"url\":null},\"metaData\":null,\"tracking\":null,\"trackingData\":null,\"value\":{\"type\":\"VoteValue\",\"count\":71,\"isSelected\":false}},\"url\":\"/reviews/e1603b9f-ff10-45bb-bc67-1f55581bc0d9\"}}]},\"reviewImageData\":{\"header\":{\"action\":null,\"metaData\":null,\"tracking\":null,\"trackingData\":null,\"value\":{\"type\":\"HeaderValue\",\"actionButton\":null,\"collapsed\":false,\"collapsible\":false,\"imageValue\":null,\"referenceImageValue\":null,\"showActionButton\":false,\"showHeader\":true,\"subTitleValue\":null,\"tags\":null,\"timerValue\":null,\"titleValue\":{\"type\":\"TitleValue\",\"image\":null,\"text\":\"Images uploaded by customers:\"}}},\"renderableComponents\":[{\"action\":{\"constraints\":null,\"fallback\":null,\"loginType\":\"LOGIN_NOT_REQUIRED\",\"omnitureData\":null,\"originalUrl\":\"/review-image-fullscreen?pid=SHOF32HGW4SNK2DM&imageId=blobio-20180601_676h831j.jpg\",\"params\":{\"imageId\":\"blobio-20180601_676h831j.jpg\",\"imagesShown\":4,\"screenName\":\"productReviewFullScreenPage\",\"horizontallyPaginated\":true,\"paginationUrl\":\"/review-image-grid?pid=SHOF32HGW4SNK2DM\",\"totalImageCount\":183},\"screenType\":\"multiWidgetPage\",\"tracking\":{},\"type\":\"NAVIGATION\",\"url\":\"/review-image-fullscreen?pid=SHOF32HGW4SNK2DM&imageId=blobio-20180601_676h831j.jpg\"},\"metaData\":null,\"tracking\":null,\"trackingData\":null,\"value\":{\"type\":\"ReviewImage\",\"imageId\":\"blobio-20180601_676h831j.jpg\",\"imageURL\":\"http://rukmini1.flixcart.com/blobio/{@width}/{@height}/20180601/blobio-20180601_676h831j.jpg?q={@quality}\",\"viewType\":\"DEFAULT_VIEW\"}},{\"action\":{\"constraints\":null,\"fallback\":null,\"loginType\":\"LOGIN_NOT_REQUIRED\",\"omnitureData\":null,\"originalUrl\":\"/review-image-fullscreen?pid=SHOF32HGW4SNK2DM&imageId=blobio-20180601_484d2lkq.jpg\",\"params\":{\"imageId\":\"blobio-20180601_484d2lkq.jpg\",\"imagesShown\":4,\"screenName\":\"productReviewFullScreenPage\",\"horizontallyPaginated\":true,\"paginationUrl\":\"/review-image-grid?pid=SHOF32HGW4SNK2DM\",\"totalImageCount\":183},\"screenType\":\"multiWidgetPage\",\"tracking\":{},\"type\":\"NAVIGATION\",\"url\":\"/review-image-fullscreen?pid=SHOF32HGW4SNK2DM&imageId=blobio-20180601_484d2lkq.jpg\"},\"metaData\":null,\"tracking\":null,\"trackingData\":null,\"value\":{\"type\":\"ReviewImage\",\"imageId\":\"blobio-20180601_484d2lkq.jpg\",\"imageURL\":\"http://rukmini1.flixcart.com/blobio/{@width}/{@height}/20180601/blobio-20180601_484d2lkq.jpg?q={@quality}\",\"viewType\":\"DEFAULT_VIEW\"}},{\"action\":{\"constraints\":null,\"fallback\":null,\"loginType\":\"LOGIN_NOT_REQUIRED\",\"omnitureData\":null,\"originalUrl\":\"/review-image-fullscreen?pid=SHOF32HGW4SNK2DM&imageId=blobio-20180601_m2p4pvl.jpg\",\"params\":{\"imageId\":\"blobio-20180601_m2p4pvl.jpg\",\"imagesShown\":4,\"screenName\":\"productReviewFullScreenPage\",\"horizontallyPaginated\":true,\"paginationUrl\":\"/review-image-grid?pid=SHOF32HGW4SNK2DM\",\"totalImageCount\":183},\"screenType\":\"multiWidgetPage\",\"tracking\":{},\"type\":\"NAVIGATION\",\"url\":\"/review-image-fullscreen?pid=SHOF32HGW4SNK2DM&imageId=blobio-20180601_m2p4pvl.jpg\"},\"metaData\":null,\"tracking\":null,\"trackingData\":null,\"value\":{\"type\":\"ReviewImage\",\"imageId\":\"blobio-20180601_m2p4pvl.jpg\",\"imageURL\":\"http://rukmini1.flixcart.com/blobio/{@width}/{@height}/20180601/blobio-20180601_m2p4pvl.jpg?q={@quality}\",\"viewType\":\"DEFAULT_VIEW\"}},{\"action\":{\"constraints\":null,\"fallback\":null,\"loginType\":\"LOGIN_NOT_REQUIRED\",\"omnitureData\":null,\"originalUrl\":\"/review-image-fullscreen?pid=SHOF32HGW4SNK2DM&imageId=blobio-20180601_j17969jt.jpg\",\"params\":{\"imageId\":\"blobio-20180601_j17969jt.jpg\",\"imagesShown\":4,\"screenName\":\"productReviewFullScreenPage\",\"horizontallyPaginated\":true,\"paginationUrl\":\"/review-image-grid?pid=SHOF32HGW4SNK2DM\",\"totalImageCount\":183},\"screenType\":\"multiWidgetPage\",\"tracking\":{},\"type\":\"NAVIGATION\",\"url\":\"/review-image-fullscreen?pid=SHOF32HGW4SNK2DM&imageId=blobio-20180601_j17969jt.jpg\"},\"metaData\":null,\"tracking\":null,\"trackingData\":null,\"value\":{\"type\":\"ReviewImage\",\"imageId\":\"blobio-20180601_j17969jt.jpg\",\"imageURL\":\"http://rukmini1.flixcart.com/blobio/{@width}/{@height}/20180601/blobio-20180601_j17969jt.jpg?q={@quality}\",\"viewType\":\"DEFAULT_VIEW\"}},{\"action\":{\"constraints\":null,\"fallback\":null,\"loginType\":\"LOGIN_NOT_REQUIRED\",\"omnitureData\":null,\"originalUrl\":\"/review-image-grid?pid=SHOF32HGW4SNK2DM&imageId=blobio-20180614_fhu3ac8l.jpg\",\"params\":{\"imageId\":\"blobio-20180614_fhu3ac8l.jpg\",\"imagesShown\":4,\"screenName\":\"productReviewImageGalleryPage\",\"totalImageCount\":183},\"screenType\":\"multiWidgetPage\",\"tracking\":{},\"type\":\"NAVIGATION\",\"url\":\"/review-image-grid?pid=SHOF32HGW4SNK2DM&imageId=blobio-20180614_fhu3ac8l.jpg\"},\"metaData\":null,\"tracking\":null,\"trackingData\":null,\"value\":{\"type\":\"ReviewImage\",\"additionalImageCount\":179,\"imageId\":\"blobio-20180614_fhu3ac8l.jpg\",\"imageURL\":\"http://rukmini1.flixcart.com/blobio/{@width}/{@height}/20180614/blobio-20180614_fhu3ac8l.jpg?q={@quality}\",\"viewType\":\"OVERLAY_COUNT_VIEW\"}}]}},\"header\":{\"action\":null,\"metaData\":null,\"tracking\":null,\"trackingData\":null,\"value\":{\"type\":\"HeaderValue\",\"actionButton\":{\"action\":{\"constraints\":[{\"metaInfo\":{\"openInBottomSheet\":\"true\",\"url\":\"/login?type=mobile&sourceContext=rate_the_product\"},\"type\":\"LOGIN\"}],\"fallback\":null,\"loginType\":\"LEGACY_LOGIN\",\"omnitureData\":null,\"originalUrl\":null,\"params\":{\"pid\":\"SHOF32HGW4SNK2DM\",\"screenName\":\"WRITE_REVIEW\",\"source\":\"pp\",\"openUploadImagesGalleryPage\":false,\"url\":null},\"screenType\":\"writeReviewProduct\",\"tracking\":{},\"type\":\"NAVIGATION\",\"url\":\"/puma-slyde-nu-idp-sneakers-men/write-review/itmf3xxcvu8fwgcp?pid=SHOF32HGW4SNK2DM&source=pp\"},\"metaData\":null,\"tracking\":null,\"trackingData\":null,\"value\":{\"type\":\"ButtonValue\",\"title\":\"Rate Product\"}},\"collapsed\":false,\"collapsible\":false,\"imageValue\":null,\"referenceImageValue\":null,\"showActionButton\":false,\"showHeader\":true,\"subTitleValue\":null,\"tags\":null,\"timerValue\":null,\"titleValue\":{\"type\":\"TitleValue\",\"image\":null,\"text\":\"Ratings & Reviews\"}}},\"footer\":{\"action\":{\"constraints\":null,\"fallback\":null,\"loginType\":\"LOGIN_NOT_REQUIRED\",\"omnitureData\":null,\"originalUrl\":null,\"params\":{\"marketplaceId\":\"FLIPKART\",\"fetchId\":\"b9c9b834-213e-4b8b-91a3-c69ccc089bed\",\"productId\":\"SHOF32HGW4SNK2DM\",\"vertical\":\"MenCasualShoe\",\"screenName\":\"PRODUCT_REVIEW_PAGE\",\"category\":\"MenFW\"},\"screenType\":\"multiWidgetPage\",\"tracking\":{\"impressionId\":\"b9c9b834-213e-4b8b-91a3-c69ccc089bed\",\"contextType\":\"page\"},\"type\":\"NAVIGATION\",\"url\":\"/puma-slyde-nu-idp-sneakers-men/product-reviews/itmf3xxcvu8fwgcp?pid=SHOF32HGW4SNK2DM\"},\"metaData\":null,\"tracking\":null,\"trackingData\":null,\"value\":{\"type\":\"FooterValue\",\"imageValue\":null,\"subTitleValue\":null,\"timerValue\":null,\"titleValue\":{\"type\":\"TitleValue\",\"image\":null,\"text\":\"All 1906 reviews\"}}}}},{\"slotType\":\"WIDGET\",\"id\":28,\"parentId\":10006,\"layoutParams\":{\"layoutKey\":\"LIFESTYLE\",\"orientation\":\"\",\"widgetHeight\":150,\"widgetWidth\":12},\"dataId\":\"1359387849\",\"elementId\":\"28-QNA\",\"hasWidgetDataChanged\":true,\"ttl\":30000,\"widget\":{\"type\":\"QNA\",\"viewType\":\"LIFESTYLE\",\"data\":{\"postQuestionButton\":null,\"questions\":[{\"action\":{\"constraints\":null,\"fallback\":null,\"loginType\":\"LOGIN_NOT_REQUIRED\",\"omnitureData\":null,\"originalUrl\":null,\"params\":{\"questionId\":\"53629756-0fc2-44c3-a50a-65586959a342\",\"screenName\":\"QNA_ANSWERS_PAGE\",\"source\":\"pp\",\"productId\":\"SHOF32HGW4SNK2DM\"},\"screenType\":\"multiWidgetPage\",\"tracking\":{\"impressionId\":\"b9c9b834-213e-4b8b-91a3-c69ccc089bed\",\"answerId\":\"b3d234c1-0562-415e-8fac-99dfe9586cb2\",\"questionId\":\"53629756-0fc2-44c3-a50a-65586959a342\",\"contextType\":\"page\"},\"type\":\"NAVIGATION\",\"url\":\"/puma-slyde-nu-idp-sneakers-men/answers/itmf3xxcvu8fwgcp?pid=SHOF32HGW4SNK2DM&questionId=53629756-0fc2-44c3-a50a-65586959a342\"},\"metaData\":null,\"tracking\":{\"impressionId\":\"b9c9b834-213e-4b8b-91a3-c69ccc089bed\",\"answerId\":\"b3d234c1-0562-415e-8fac-99dfe9586cb2\",\"questionId\":\"53629756-0fc2-44c3-a50a-65586959a342\",\"contextType\":\"page\"},\"trackingData\":null,\"value\":{\"type\":\"Question\",\"answers\":[{\"type\":\"Answer\",\"abuse\":{\"action\":{\"constraints\":[{\"metaInfo\":{\"openInBottomSheet\":\"true\",\"url\":\"/login?type=mobile&sourceContext=qna_report_abuse\"},\"type\":\"LOGIN\"}],\"fallback\":null,\"loginType\":\"LEGACY_LOGIN\",\"omnitureData\":null,\"originalUrl\":null,\"params\":{\"answerId\":\"b3d234c1-0562-415e-8fac-99dfe9586cb2\",\"sentiment\":\"ABUSE\",\"source\":\"pp\"},\"screenType\":null,\"tracking\":{},\"type\":\"QNA_ANSWER_SENTIMENT\",\"url\":null},\"metaData\":null,\"tracking\":null,\"trackingData\":null,\"value\":{\"type\":\"VoteValue\",\"count\":0,\"isSelected\":false}},\"anonymous\":true,\"authorName\":\"SKgouse mohiddin\",\"authorStatusMap\":{\"CERTIFIED_BUYER\":true},\"down\":{\"action\":{\"constraints\":[{\"metaInfo\":{\"openInBottomSheet\":\"true\",\"url\":\"/login?type=mobile&sourceContext=qna_vote\"},\"type\":\"LOGIN\"}],\"fallback\":null,\"loginType\":\"LEGACY_LOGIN\",\"omnitureData\":null,\"originalUrl\":null,\"params\":{\"answerId\":\"b3d234c1-0562-415e-8fac-99dfe9586cb2\",\"sentiment\":\"DOWN\",\"source\":\"pp\"},\"screenType\":null,\"tracking\":{},\"type\":\"QNA_ANSWER_SENTIMENT\",\"url\":null},\"metaData\":null,\"tracking\":null,\"trackingData\":null,\"value\":{\"type\":\"VoteValue\",\"count\":12,\"isSelected\":false}},\"id\":\"b3d234c1-0562-415e-8fac-99dfe9586cb2\",\"sentimentCount\":82,\"text\":\"casual\",\"up\":{\"action\":{\"constraints\":[{\"metaInfo\":{\"openInBottomSheet\":\"true\",\"url\":\"/login?type=mobile&sourceContext=qna_vote\"},\"type\":\"LOGIN\"}],\"fallback\":null,\"loginType\":\"LEGACY_LOGIN\",\"omnitureData\":null,\"originalUrl\":null,\"params\":{\"answerId\":\"b3d234c1-0562-415e-8fac-99dfe9586cb2\",\"sentiment\":\"UP\",\"source\":\"pp\"},\"screenType\":null,\"tracking\":{},\"type\":\"QNA_ANSWER_SENTIMENT\",\"url\":null},\"metaData\":null,\"tracking\":null,\"trackingData\":null,\"value\":{\"type\":\"VoteValue\",\"count\":70,\"isSelected\":false}}}],\"id\":\"53629756-0fc2-44c3-a50a-65586959a342\",\"text\":\"Suitable to ware with?\"}},{\"action\":{\"constraints\":null,\"fallback\":null,\"loginType\":\"LOGIN_NOT_REQUIRED\",\"omnitureData\":null,\"originalUrl\":null,\"params\":{\"questionId\":\"34f69f24-042e-4e98-8e97-4441af41443f\",\"screenName\":\"QNA_ANSWERS_PAGE\",\"source\":\"pp\",\"productId\":\"SHOF32HGW4SNK2DM\"},\"screenType\":\"multiWidgetPage\",\"tracking\":{\"impressionId\":\"b9c9b834-213e-4b8b-91a3-c69ccc089bed\",\"answerId\":\"07ccf9ab-2ff0-4985-8d3b-df679c734dba\",\"questionId\":\"34f69f24-042e-4e98-8e97-4441af41443f\",\"contextType\":\"page\"},\"type\":\"NAVIGATION\",\"url\":\"/puma-slyde-nu-idp-sneakers-men/answers/itmf3xxcvu8fwgcp?pid=SHOF32HGW4SNK2DM&questionId=34f69f24-042e-4e98-8e97-4441af41443f\"},\"metaData\":null,\"tracking\":{\"impressionId\":\"b9c9b834-213e-4b8b-91a3-c69ccc089bed\",\"answerId\":\"07ccf9ab-2ff0-4985-8d3b-df679c734dba\",\"questionId\":\"34f69f24-042e-4e98-8e97-4441af41443f\",\"contextType\":\"page\"},\"trackingData\":null,\"value\":{\"type\":\"Question\",\"answers\":[{\"type\":\"Answer\",\"abuse\":{\"action\":{\"constraints\":[{\"metaInfo\":{\"openInBottomSheet\":\"true\",\"url\":\"/login?type=mobile&sourceContext=qna_report_abuse\"},\"type\":\"LOGIN\"}],\"fallback\":null,\"loginType\":\"LEGACY_LOGIN\",\"omnitureData\":null,\"originalUrl\":null,\"params\":{\"answerId\":\"07ccf9ab-2ff0-4985-8d3b-df679c734dba\",\"sentiment\":\"ABUSE\",\"source\":\"pp\"},\"screenType\":null,\"tracking\":{},\"type\":\"QNA_ANSWER_SENTIMENT\",\"url\":null},\"metaData\":null,\"tracking\":null,\"trackingData\":null,\"value\":{\"type\":\"VoteValue\",\"count\":0,\"isSelected\":false}},\"anonymous\":true,\"authorName\":\"Flipkart User\",\"authorStatusMap\":{\"CERTIFIED_BUYER\":true},\"down\":{\"action\":{\"constraints\":[{\"metaInfo\":{\"openInBottomSheet\":\"true\",\"url\":\"/login?type=mobile&sourceContext=qna_vote\"},\"type\":\"LOGIN\"}],\"fallback\":null,\"loginType\":\"LEGACY_LOGIN\",\"omnitureData\":null,\"originalUrl\":null,\"params\":{\"answerId\":\"07ccf9ab-2ff0-4985-8d3b-df679c734dba\",\"sentiment\":\"DOWN\",\"source\":\"pp\"},\"screenType\":null,\"tracking\":{},\"type\":\"QNA_ANSWER_SENTIMENT\",\"url\":null},\"metaData\":null,\"tracking\":null,\"trackingData\":null,\"value\":{\"type\":\"VoteValue\",\"count\":14,\"isSelected\":false}},\"id\":\"07ccf9ab-2ff0-4985-8d3b-df679c734dba\",\"sentimentCount\":78,\"text\":\"yes.\",\"up\":{\"action\":{\"constraints\":[{\"metaInfo\":{\"openInBottomSheet\":\"true\",\"url\":\"/login?type=mobile&sourceContext=qna_vote\"},\"type\":\"LOGIN\"}],\"fallback\":null,\"loginType\":\"LEGACY_LOGIN\",\"omnitureData\":null,\"originalUrl\":null,\"params\":{\"answerId\":\"07ccf9ab-2ff0-4985-8d3b-df679c734dba\",\"sentiment\":\"UP\",\"source\":\"pp\"},\"screenType\":null,\"tracking\":{},\"type\":\"QNA_ANSWER_SENTIMENT\",\"url\":null},\"metaData\":null,\"tracking\":null,\"trackingData\":null,\"value\":{\"type\":\"VoteValue\",\"count\":64,\"isSelected\":false}}}],\"id\":\"34f69f24-042e-4e98-8e97-4441af41443f\",\"text\":\"without socks can i use ????\"}},{\"action\":{\"constraints\":null,\"fallback\":null,\"loginType\":\"LOGIN_NOT_REQUIRED\",\"omnitureData\":null,\"originalUrl\":null,\"params\":{\"questionId\":\"45d56303-0db8-4dc4-b07c-f35cdbb7c75b\",\"screenName\":\"QNA_ANSWERS_PAGE\",\"source\":\"pp\",\"productId\":\"SHOF32HGW4SNK2DM\"},\"screenType\":\"multiWidgetPage\",\"tracking\":{\"impressionId\":\"b9c9b834-213e-4b8b-91a3-c69ccc089bed\",\"answerId\":\"741b4282-8dd7-485a-8169-7f8ba641863d\",\"questionId\":\"45d56303-0db8-4dc4-b07c-f35cdbb7c75b\",\"contextType\":\"page\"},\"type\":\"NAVIGATION\",\"url\":\"/puma-slyde-nu-idp-sneakers-men/answers/itmf3xxcvu8fwgcp?pid=SHOF32HGW4SNK2DM&questionId=45d56303-0db8-4dc4-b07c-f35cdbb7c75b\"},\"metaData\":null,\"tracking\":{\"impressionId\":\"b9c9b834-213e-4b8b-91a3-c69ccc089bed\",\"answerId\":\"741b4282-8dd7-485a-8169-7f8ba641863d\",\"questionId\":\"45d56303-0db8-4dc4-b07c-f35cdbb7c75b\",\"contextType\":\"page\"},\"trackingData\":null,\"value\":{\"type\":\"Question\",\"answers\":[{\"type\":\"Answer\",\"abuse\":{\"action\":{\"constraints\":[{\"metaInfo\":{\"openInBottomSheet\":\"true\",\"url\":\"/login?type=mobile&sourceContext=qna_report_abuse\"},\"type\":\"LOGIN\"}],\"fallback\":null,\"loginType\":\"LEGACY_LOGIN\",\"omnitureData\":null,\"originalUrl\":null,\"params\":{\"answerId\":\"741b4282-8dd7-485a-8169-7f8ba641863d\",\"sentiment\":\"ABUSE\",\"source\":\"pp\"},\"screenType\":null,\"tracking\":{},\"type\":\"QNA_ANSWER_SENTIMENT\",\"url\":null},\"metaData\":null,\"tracking\":null,\"trackingData\":null,\"value\":{\"type\":\"VoteValue\",\"count\":0,\"isSelected\":false}},\"anonymous\":true,\"authorName\":\"Liyas Ali\",\"authorStatusMap\":{\"CERTIFIED_BUYER\":true},\"down\":{\"action\":{\"constraints\":[{\"metaInfo\":{\"openInBottomSheet\":\"true\",\"url\":\"/login?type=mobile&sourceContext=qna_vote\"},\"type\":\"LOGIN\"}],\"fallback\":null,\"loginType\":\"LEGACY_LOGIN\",\"omnitureData\":null,\"originalUrl\":null,\"params\":{\"answerId\":\"741b4282-8dd7-485a-8169-7f8ba641863d\",\"sentiment\":\"DOWN\",\"source\":\"pp\"},\"screenType\":null,\"tracking\":{},\"type\":\"QNA_ANSWER_SENTIMENT\",\"url\":null},\"metaData\":null,\"tracking\":null,\"trackingData\":null,\"value\":{\"type\":\"VoteValue\",\"count\":8,\"isSelected\":false}},\"id\":\"741b4282-8dd7-485a-8169-7f8ba641863d\",\"sentimentCount\":48,\"text\":\"yes\",\"up\":{\"action\":{\"constraints\":[{\"metaInfo\":{\"openInBottomSheet\":\"true\",\"url\":\"/login?type=mobile&sourceContext=qna_vote\"},\"type\":\"LOGIN\"}],\"fallback\":null,\"loginType\":\"LEGACY_LOGIN\",\"omnitureData\":null,\"originalUrl\":null,\"params\":{\"answerId\":\"741b4282-8dd7-485a-8169-7f8ba641863d\",\"sentiment\":\"UP\",\"source\":\"pp\"},\"screenType\":null,\"tracking\":{},\"type\":\"QNA_ANSWER_SENTIMENT\",\"url\":null},\"metaData\":null,\"tracking\":null,\"trackingData\":null,\"value\":{\"type\":\"VoteValue\",\"count\":40,\"isSelected\":false}}}],\"id\":\"45d56303-0db8-4dc4-b07c-f35cdbb7c75b\",\"text\":\"It is in light weight\",\"viewAllAnswers\":{\"action\":{\"constraints\":null,\"fallback\":null,\"loginType\":\"LOGIN_NOT_REQUIRED\",\"omnitureData\":null,\"originalUrl\":null,\"params\":{\"questionId\":\"45d56303-0db8-4dc4-b07c-f35cdbb7c75b\",\"screenName\":\"QNA_ANSWERS_PAGE\",\"source\":\"pp\",\"productId\":\"SHOF32HGGZMJJNSV\"},\"screenType\":\"multiWidgetPage\",\"tracking\":{},\"type\":\"NAVIGATION\",\"url\":\"/puma-slyde-nu-idp-sneakers-men/answers/itmf3xxcvu8fwgcp?pid=SHOF32HGW4SNK2DM&questionId=45d56303-0db8-4dc4-b07c-f35cdbb7c75b\"},\"metaData\":null,\"tracking\":null,\"trackingData\":null,\"value\":{\"type\":\"AnnouncementValue\",\"title\":\"Read other answers\"}}}},{\"action\":{\"constraints\":null,\"fallback\":null,\"loginType\":\"LOGIN_NOT_REQUIRED\",\"omnitureData\":null,\"originalUrl\":null,\"params\":{\"questionId\":\"2669825a-cea7-4d0b-b65f-3c15f9f7bf93\",\"screenName\":\"QNA_ANSWERS_PAGE\",\"source\":\"pp\",\"productId\":\"SHOF32HGW4SNK2DM\"},\"screenType\":\"multiWidgetPage\",\"tracking\":{\"impressionId\":\"b9c9b834-213e-4b8b-91a3-c69ccc089bed\",\"answerId\":\"f92484be-773c-49f8-94d6-4e7203fe1794\",\"questionId\":\"2669825a-cea7-4d0b-b65f-3c15f9f7bf93\",\"contextType\":\"page\"},\"type\":\"NAVIGATION\",\"url\":\"/puma-slyde-nu-idp-sneakers-men/answers/itmf3xxcvu8fwgcp?pid=SHOF32HGW4SNK2DM&questionId=2669825a-cea7-4d0b-b65f-3c15f9f7bf93\"},\"metaData\":null,\"tracking\":{\"impressionId\":\"b9c9b834-213e-4b8b-91a3-c69ccc089bed\",\"answerId\":\"f92484be-773c-49f8-94d6-4e7203fe1794\",\"questionId\":\"2669825a-cea7-4d0b-b65f-3c15f9f7bf93\",\"contextType\":\"page\"},\"trackingData\":null,\"value\":{\"type\":\"Question\",\"answers\":[{\"type\":\"Answer\",\"abuse\":{\"action\":{\"constraints\":[{\"metaInfo\":{\"openInBottomSheet\":\"true\",\"url\":\"/login?type=mobile&sourceContext=qna_report_abuse\"},\"type\":\"LOGIN\"}],\"fallback\":null,\"loginType\":\"LEGACY_LOGIN\",\"omnitureData\":null,\"originalUrl\":null,\"params\":{\"answerId\":\"f92484be-773c-49f8-94d6-4e7203fe1794\",\"sentiment\":\"ABUSE\",\"source\":\"pp\"},\"screenType\":null,\"tracking\":{},\"type\":\"QNA_ANSWER_SENTIMENT\",\"url\":null},\"metaData\":null,\"tracking\":null,\"trackingData\":null,\"value\":{\"type\":\"VoteValue\",\"count\":0,\"isSelected\":false}},\"anonymous\":false,\"authorName\":\"Mitesh Kamat\",\"authorStatusMap\":{\"CERTIFIED_BUYER\":true},\"down\":{\"action\":{\"constraints\":[{\"metaInfo\":{\"openInBottomSheet\":\"true\",\"url\":\"/login?type=mobile&sourceContext=qna_vote\"},\"type\":\"LOGIN\"}],\"fallback\":null,\"loginType\":\"LEGACY_LOGIN\",\"omnitureData\":null,\"originalUrl\":null,\"params\":{\"answerId\":\"f92484be-773c-49f8-94d6-4e7203fe1794\",\"sentiment\":\"DOWN\",\"source\":\"pp\"},\"screenType\":null,\"tracking\":{},\"type\":\"QNA_ANSWER_SENTIMENT\",\"url\":null},\"metaData\":null,\"tracking\":null,\"trackingData\":null,\"value\":{\"type\":\"VoteValue\",\"count\":17,\"isSelected\":false}},\"id\":\"f92484be-773c-49f8-94d6-4e7203fe1794\",\"sentimentCount\":69,\"text\":\"yup it is\",\"up\":{\"action\":{\"constraints\":[{\"metaInfo\":{\"openInBottomSheet\":\"true\",\"url\":\"/login?type=mobile&sourceContext=qna_vote\"},\"type\":\"LOGIN\"}],\"fallback\":null,\"loginType\":\"LEGACY_LOGIN\",\"omnitureData\":null,\"originalUrl\":null,\"params\":{\"answerId\":\"f92484be-773c-49f8-94d6-4e7203fe1794\",\"sentiment\":\"UP\",\"source\":\"pp\"},\"screenType\":null,\"tracking\":{},\"type\":\"QNA_ANSWER_SENTIMENT\",\"url\":null},\"metaData\":null,\"tracking\":null,\"trackingData\":null,\"value\":{\"type\":\"VoteValue\",\"count\":52,\"isSelected\":false}}}],\"id\":\"2669825a-cea7-4d0b-b65f-3c15f9f7bf93\",\"text\":\"This product is washable?\"}},{\"action\":{\"constraints\":null,\"fallback\":null,\"loginType\":\"LOGIN_NOT_REQUIRED\",\"omnitureData\":null,\"originalUrl\":null,\"params\":{\"questionId\":\"d02a8fef-8796-4a13-ae8c-323ce46b82f0\",\"screenName\":\"QNA_ANSWERS_PAGE\",\"source\":\"pp\",\"productId\":\"SHOF32HGW4SNK2DM\"},\"screenType\":\"multiWidgetPage\",\"tracking\":{\"impressionId\":\"b9c9b834-213e-4b8b-91a3-c69ccc089bed\",\"answerId\":\"f5d07f0d-0193-4014-9826-282eb96e3dbe\",\"questionId\":\"d02a8fef-8796-4a13-ae8c-323ce46b82f0\",\"contextType\":\"page\"},\"type\":\"NAVIGATION\",\"url\":\"/puma-slyde-nu-idp-sneakers-men/answers/itmf3xxcvu8fwgcp?pid=SHOF32HGW4SNK2DM&questionId=d02a8fef-8796-4a13-ae8c-323ce46b82f0\"},\"metaData\":null,\"tracking\":{\"impressionId\":\"b9c9b834-213e-4b8b-91a3-c69ccc089bed\",\"answerId\":\"f5d07f0d-0193-4014-9826-282eb96e3dbe\",\"questionId\":\"d02a8fef-8796-4a13-ae8c-323ce46b82f0\",\"contextType\":\"page\"},\"trackingData\":null,\"value\":{\"type\":\"Question\",\"answers\":[{\"type\":\"Answer\",\"abuse\":{\"action\":{\"constraints\":[{\"metaInfo\":{\"openInBottomSheet\":\"true\",\"url\":\"/login?type=mobile&sourceContext=qna_report_abuse\"},\"type\":\"LOGIN\"}],\"fallback\":null,\"loginType\":\"LEGACY_LOGIN\",\"omnitureData\":null,\"originalUrl\":null,\"params\":{\"answerId\":\"f5d07f0d-0193-4014-9826-282eb96e3dbe\",\"sentiment\":\"ABUSE\",\"source\":\"pp\"},\"screenType\":null,\"tracking\":{},\"type\":\"QNA_ANSWER_SENTIMENT\",\"url\":null},\"metaData\":null,\"tracking\":null,\"trackingData\":null,\"value\":{\"type\":\"VoteValue\",\"count\":0,\"isSelected\":false}},\"anonymous\":true,\"authorName\":\"Sampath Kumar\",\"authorStatusMap\":{\"CERTIFIED_BUYER\":true},\"down\":{\"action\":{\"constraints\":[{\"metaInfo\":{\"openInBottomSheet\":\"true\",\"url\":\"/login?type=mobile&sourceContext=qna_vote\"},\"type\":\"LOGIN\"}],\"fallback\":null,\"loginType\":\"LEGACY_LOGIN\",\"omnitureData\":null,\"originalUrl\":null,\"params\":{\"answerId\":\"f5d07f0d-0193-4014-9826-282eb96e3dbe\",\"sentiment\":\"DOWN\",\"source\":\"pp\"},\"screenType\":null,\"tracking\":{},\"type\":\"QNA_ANSWER_SENTIMENT\",\"url\":null},\"metaData\":null,\"tracking\":null,\"trackingData\":null,\"value\":{\"type\":\"VoteValue\",\"count\":12,\"isSelected\":false}},\"id\":\"f5d07f0d-0193-4014-9826-282eb96e3dbe\",\"sentimentCount\":46,\"text\":\"yeah..\",\"up\":{\"action\":{\"constraints\":[{\"metaInfo\":{\"openInBottomSheet\":\"true\",\"url\":\"/login?type=mobile&sourceContext=qna_vote\"},\"type\":\"LOGIN\"}],\"fallback\":null,\"loginType\":\"LEGACY_LOGIN\",\"omnitureData\":null,\"originalUrl\":null,\"params\":{\"answerId\":\"f5d07f0d-0193-4014-9826-282eb96e3dbe\",\"sentiment\":\"UP\",\"source\":\"pp\"},\"screenType\":null,\"tracking\":{},\"type\":\"QNA_ANSWER_SENTIMENT\",\"url\":null},\"metaData\":null,\"tracking\":null,\"trackingData\":null,\"value\":{\"type\":\"VoteValue\",\"count\":34,\"isSelected\":false}}}],\"id\":\"d02a8fef-8796-4a13-ae8c-323ce46b82f0\",\"text\":\"is thsi shose is washable ?\"}},{\"action\":{\"constraints\":null,\"fallback\":null,\"loginType\":\"LOGIN_NOT_REQUIRED\",\"omnitureData\":null,\"originalUrl\":null,\"params\":{\"questionId\":\"fd1764de-7592-4846-b289-9bf3206c55e4\",\"screenName\":\"QNA_ANSWERS_PAGE\",\"source\":\"pp\",\"productId\":\"SHOF32HGW4SNK2DM\"},\"screenType\":\"multiWidgetPage\",\"tracking\":{\"impressionId\":\"b9c9b834-213e-4b8b-91a3-c69ccc089bed\",\"answerId\":\"531f6506-5d82-44f9-8195-b66a77f03e6e\",\"questionId\":\"fd1764de-7592-4846-b289-9bf3206c55e4\",\"contextType\":\"page\"},\"type\":\"NAVIGATION\",\"url\":\"/puma-slyde-nu-idp-sneakers-men/answers/itmf3xxcvu8fwgcp?pid=SHOF32HGW4SNK2DM&questionId=fd1764de-7592-4846-b289-9bf3206c55e4\"},\"metaData\":null,\"tracking\":{\"impressionId\":\"b9c9b834-213e-4b8b-91a3-c69ccc089bed\",\"answerId\":\"531f6506-5d82-44f9-8195-b66a77f03e6e\",\"questionId\":\"fd1764de-7592-4846-b289-9bf3206c55e4\",\"contextType\":\"page\"},\"trackingData\":null,\"value\":{\"type\":\"Question\",\"answers\":[{\"type\":\"Answer\",\"abuse\":{\"action\":{\"constraints\":[{\"metaInfo\":{\"openInBottomSheet\":\"true\",\"url\":\"/login?type=mobile&sourceContext=qna_report_abuse\"},\"type\":\"LOGIN\"}],\"fallback\":null,\"loginType\":\"LEGACY_LOGIN\",\"omnitureData\":null,\"originalUrl\":null,\"params\":{\"answerId\":\"531f6506-5d82-44f9-8195-b66a77f03e6e\",\"sentiment\":\"ABUSE\",\"source\":\"pp\"},\"screenType\":null,\"tracking\":{},\"type\":\"QNA_ANSWER_SENTIMENT\",\"url\":null},\"metaData\":null,\"tracking\":null,\"trackingData\":null,\"value\":{\"type\":\"VoteValue\",\"count\":0,\"isSelected\":false}},\"anonymous\":false,\"authorName\":\"ARPIT\",\"authorStatusMap\":{\"CERTIFIED_BUYER\":true},\"down\":{\"action\":{\"constraints\":[{\"metaInfo\":{\"openInBottomSheet\":\"true\",\"url\":\"/login?type=mobile&sourceContext=qna_vote\"},\"type\":\"LOGIN\"}],\"fallback\":null,\"loginType\":\"LEGACY_LOGIN\",\"omnitureData\":null,\"originalUrl\":null,\"params\":{\"answerId\":\"531f6506-5d82-44f9-8195-b66a77f03e6e\",\"sentiment\":\"DOWN\",\"source\":\"pp\"},\"screenType\":null,\"tracking\":{},\"type\":\"QNA_ANSWER_SENTIMENT\",\"url\":null},\"metaData\":null,\"tracking\":null,\"trackingData\":null,\"value\":{\"type\":\"VoteValue\",\"count\":2,\"isSelected\":false}},\"id\":\"531f6506-5d82-44f9-8195-b66a77f03e6e\",\"sentimentCount\":13,\"text\":\"Yes, it's washable. You can clean it using normal detergent powder.\",\"up\":{\"action\":{\"constraints\":[{\"metaInfo\":{\"openInBottomSheet\":\"true\",\"url\":\"/login?type=mobile&sourceContext=qna_vote\"},\"type\":\"LOGIN\"}],\"fallback\":null,\"loginType\":\"LEGACY_LOGIN\",\"omnitureData\":null,\"originalUrl\":null,\"params\":{\"answerId\":\"531f6506-5d82-44f9-8195-b66a77f03e6e\",\"sentiment\":\"UP\",\"source\":\"pp\"},\"screenType\":null,\"tracking\":{},\"type\":\"QNA_ANSWER_SENTIMENT\",\"url\":null},\"metaData\":null,\"tracking\":null,\"trackingData\":null,\"value\":{\"type\":\"VoteValue\",\"count\":11,\"isSelected\":false}}}],\"id\":\"fd1764de-7592-4846-b289-9bf3206c55e4\",\"text\":\"it is wahable or not?and then is no washable to how to clean it?\"}},{\"action\":{\"constraints\":null,\"fallback\":null,\"loginType\":\"LOGIN_NOT_REQUIRED\",\"omnitureData\":null,\"originalUrl\":null,\"params\":{\"questionId\":\"5a8dff64-2b7b-4715-8dbb-0c303a027240\",\"screenName\":\"QNA_ANSWERS_PAGE\",\"source\":\"pp\",\"productId\":\"SHOF32HGW4SNK2DM\"},\"screenType\":\"multiWidgetPage\",\"tracking\":{\"impressionId\":\"b9c9b834-213e-4b8b-91a3-c69ccc089bed\",\"answerId\":\"7d902e4b-f20a-47c8-afd3-4648483efd27\",\"questionId\":\"5a8dff64-2b7b-4715-8dbb-0c303a027240\",\"contextType\":\"page\"},\"type\":\"NAVIGATION\",\"url\":\"/puma-slyde-nu-idp-sneakers-men/answers/itmf3xxcvu8fwgcp?pid=SHOF32HGW4SNK2DM&questionId=5a8dff64-2b7b-4715-8dbb-0c303a027240\"},\"metaData\":null,\"tracking\":{\"impressionId\":\"b9c9b834-213e-4b8b-91a3-c69ccc089bed\",\"answerId\":\"7d902e4b-f20a-47c8-afd3-4648483efd27\",\"questionId\":\"5a8dff64-2b7b-4715-8dbb-0c303a027240\",\"contextType\":\"page\"},\"trackingData\":null,\"value\":{\"type\":\"Question\",\"answers\":[{\"type\":\"Answer\",\"abuse\":{\"action\":{\"constraints\":[{\"metaInfo\":{\"openInBottomSheet\":\"true\",\"url\":\"/login?type=mobile&sourceContext=qna_report_abuse\"},\"type\":\"LOGIN\"}],\"fallback\":null,\"loginType\":\"LEGACY_LOGIN\",\"omnitureData\":null,\"originalUrl\":null,\"params\":{\"answerId\":\"7d902e4b-f20a-47c8-afd3-4648483efd27\",\"sentiment\":\"ABUSE\",\"source\":\"pp\"},\"screenType\":null,\"tracking\":{},\"type\":\"QNA_ANSWER_SENTIMENT\",\"url\":null},\"metaData\":null,\"tracking\":null,\"trackingData\":null,\"value\":{\"type\":\"VoteValue\",\"count\":0,\"isSelected\":false}},\"anonymous\":false,\"authorName\":\"Abhinav Taryal\",\"authorStatusMap\":{\"CERTIFIED_BUYER\":true},\"down\":{\"action\":{\"constraints\":[{\"metaInfo\":{\"openInBottomSheet\":\"true\",\"url\":\"/login?type=mobile&sourceContext=qna_vote\"},\"type\":\"LOGIN\"}],\"fallback\":null,\"loginType\":\"LEGACY_LOGIN\",\"omnitureData\":null,\"originalUrl\":null,\"params\":{\"answerId\":\"7d902e4b-f20a-47c8-afd3-4648483efd27\",\"sentiment\":\"DOWN\",\"source\":\"pp\"},\"screenType\":null,\"tracking\":{},\"type\":\"QNA_ANSWER_SENTIMENT\",\"url\":null},\"metaData\":null,\"tracking\":null,\"trackingData\":null,\"value\":{\"type\":\"VoteValue\",\"count\":0,\"isSelected\":false}},\"id\":\"7d902e4b-f20a-47c8-afd3-4648483efd27\",\"sentimentCount\":5,\"text\":\"Of course you can use them for college.They are really comfortably day long. \\nAnd washable too..\",\"up\":{\"action\":{\"constraints\":[{\"metaInfo\":{\"openInBottomSheet\":\"true\",\"url\":\"/login?type=mobile&sourceContext=qna_vote\"},\"type\":\"LOGIN\"}],\"fallback\":null,\"loginType\":\"LEGACY_LOGIN\",\"omnitureData\":null,\"originalUrl\":null,\"params\":{\"answerId\":\"7d902e4b-f20a-47c8-afd3-4648483efd27\",\"sentiment\":\"UP\",\"source\":\"pp\"},\"screenType\":null,\"tracking\":{},\"type\":\"QNA_ANSWER_SENTIMENT\",\"url\":null},\"metaData\":null,\"tracking\":null,\"trackingData\":null,\"value\":{\"type\":\"VoteValue\",\"count\":5,\"isSelected\":false}}}],\"id\":\"5a8dff64-2b7b-4715-8dbb-0c303a027240\",\"text\":\"Can I wear it in college and is it washable\"}},{\"action\":{\"constraints\":null,\"fallback\":null,\"loginType\":\"LOGIN_NOT_REQUIRED\",\"omnitureData\":null,\"originalUrl\":null,\"params\":{\"questionId\":\"debe302f-6e8d-491c-aa56-65be44a314fb\",\"screenName\":\"QNA_ANSWERS_PAGE\",\"source\":\"pp\",\"productId\":\"SHOF32HGW4SNK2DM\"},\"screenType\":\"multiWidgetPage\",\"tracking\":{\"impressionId\":\"b9c9b834-213e-4b8b-91a3-c69ccc089bed\",\"answerId\":\"d0240757-60fa-475b-b65c-bb19a95561ca\",\"questionId\":\"debe302f-6e8d-491c-aa56-65be44a314fb\",\"contextType\":\"page\"},\"type\":\"NAVIGATION\",\"url\":\"/puma-slyde-nu-idp-sneakers-men/answers/itmf3xxcvu8fwgcp?pid=SHOF32HGW4SNK2DM&questionId=debe302f-6e8d-491c-aa56-65be44a314fb\"},\"metaData\":null,\"tracking\":{\"impressionId\":\"b9c9b834-213e-4b8b-91a3-c69ccc089bed\",\"answerId\":\"d0240757-60fa-475b-b65c-bb19a95561ca\",\"questionId\":\"debe302f-6e8d-491c-aa56-65be44a314fb\",\"contextType\":\"page\"},\"trackingData\":null,\"value\":{\"type\":\"Question\",\"answers\":[{\"type\":\"Answer\",\"abuse\":{\"action\":{\"constraints\":[{\"metaInfo\":{\"openInBottomSheet\":\"true\",\"url\":\"/login?type=mobile&sourceContext=qna_report_abuse\"},\"type\":\"LOGIN\"}],\"fallback\":null,\"loginType\":\"LEGACY_LOGIN\",\"omnitureData\":null,\"originalUrl\":null,\"params\":{\"answerId\":\"d0240757-60fa-475b-b65c-bb19a95561ca\",\"sentiment\":\"ABUSE\",\"source\":\"pp\"},\"screenType\":null,\"tracking\":{},\"type\":\"QNA_ANSWER_SENTIMENT\",\"url\":null},\"metaData\":null,\"tracking\":null,\"trackingData\":null,\"value\":{\"type\":\"VoteValue\",\"count\":0,\"isSelected\":false}},\"anonymous\":true,\"authorName\":\"DURBAKSHYA  RANA\",\"authorStatusMap\":{\"CERTIFIED_BUYER\":true},\"down\":{\"action\":{\"constraints\":[{\"metaInfo\":{\"openInBottomSheet\":\"true\",\"url\":\"/login?type=mobile&sourceContext=qna_vote\"},\"type\":\"LOGIN\"}],\"fallback\":null,\"loginType\":\"LEGACY_LOGIN\",\"omnitureData\":null,\"originalUrl\":null,\"params\":{\"answerId\":\"d0240757-60fa-475b-b65c-bb19a95561ca\",\"sentiment\":\"DOWN\",\"source\":\"pp\"},\"screenType\":null,\"tracking\":{},\"type\":\"QNA_ANSWER_SENTIMENT\",\"url\":null},\"metaData\":null,\"tracking\":null,\"trackingData\":null,\"value\":{\"type\":\"VoteValue\",\"count\":53,\"isSelected\":false}},\"id\":\"d0240757-60fa-475b-b65c-bb19a95561ca\",\"sentimentCount\":134,\"text\":\"no\",\"up\":{\"action\":{\"constraints\":[{\"metaInfo\":{\"openInBottomSheet\":\"true\",\"url\":\"/login?type=mobile&sourceContext=qna_vote\"},\"type\":\"LOGIN\"}],\"fallback\":null,\"loginType\":\"LEGACY_LOGIN\",\"omnitureData\":null,\"originalUrl\":null,\"params\":{\"answerId\":\"d0240757-60fa-475b-b65c-bb19a95561ca\",\"sentiment\":\"UP\",\"source\":\"pp\"},\"screenType\":null,\"tracking\":{},\"type\":\"QNA_ANSWER_SENTIMENT\",\"url\":null},\"metaData\":null,\"tracking\":null,\"trackingData\":null,\"value\":{\"type\":\"VoteValue\",\"count\":81,\"isSelected\":false}}}],\"id\":\"debe302f-6e8d-491c-aa56-65be44a314fb\",\"text\":\"Is it washable?\"}},{\"action\":{\"constraints\":null,\"fallback\":null,\"loginType\":\"LOGIN_NOT_REQUIRED\",\"omnitureData\":null,\"originalUrl\":null,\"params\":{\"questionId\":\"037b97c7-e74c-4f0d-9451-19c2746945e2\",\"screenName\":\"QNA_ANSWERS_PAGE\",\"source\":\"pp\",\"productId\":\"SHOF32HGW4SNK2DM\"},\"screenType\":\"multiWidgetPage\",\"tracking\":{\"impressionId\":\"b9c9b834-213e-4b8b-91a3-c69ccc089bed\",\"answerId\":\"ff3d152e-552b-4bbe-b6cf-246b9db366c7\",\"questionId\":\"037b97c7-e74c-4f0d-9451-19c2746945e2\",\"contextType\":\"page\"},\"type\":\"NAVIGATION\",\"url\":\"/puma-slyde-nu-idp-sneakers-men/answers/itmf3xxcvu8fwgcp?pid=SHOF32HGW4SNK2DM&questionId=037b97c7-e74c-4f0d-9451-19c2746945e2\"},\"metaData\":null,\"tracking\":{\"impressionId\":\"b9c9b834-213e-4b8b-91a3-c69ccc089bed\",\"answerId\":\"ff3d152e-552b-4bbe-b6cf-246b9db366c7\",\"questionId\":\"037b97c7-e74c-4f0d-9451-19c2746945e2\",\"contextType\":\"page\"},\"trackingData\":null,\"value\":{\"type\":\"Question\",\"answers\":[{\"type\":\"Answer\",\"abuse\":{\"action\":{\"constraints\":[{\"metaInfo\":{\"openInBottomSheet\":\"true\",\"url\":\"/login?type=mobile&sourceContext=qna_report_abuse\"},\"type\":\"LOGIN\"}],\"fallback\":null,\"loginType\":\"LEGACY_LOGIN\",\"omnitureData\":null,\"originalUrl\":null,\"params\":{\"answerId\":\"ff3d152e-552b-4bbe-b6cf-246b9db366c7\",\"sentiment\":\"ABUSE\",\"source\":\"pp\"},\"screenType\":null,\"tracking\":{},\"type\":\"QNA_ANSWER_SENTIMENT\",\"url\":null},\"metaData\":null,\"tracking\":null,\"trackingData\":null,\"value\":{\"type\":\"VoteValue\",\"count\":0,\"isSelected\":false}},\"anonymous\":false,\"authorName\":\"VIshal Bs\",\"authorStatusMap\":{\"CERTIFIED_BUYER\":true},\"down\":{\"action\":{\"constraints\":[{\"metaInfo\":{\"openInBottomSheet\":\"true\",\"url\":\"/login?type=mobile&sourceContext=qna_vote\"},\"type\":\"LOGIN\"}],\"fallback\":null,\"loginType\":\"LEGACY_LOGIN\",\"omnitureData\":null,\"originalUrl\":null,\"params\":{\"answerId\":\"ff3d152e-552b-4bbe-b6cf-246b9db366c7\",\"sentiment\":\"DOWN\",\"source\":\"pp\"},\"screenType\":null,\"tracking\":{},\"type\":\"QNA_ANSWER_SENTIMENT\",\"url\":null},\"metaData\":null,\"tracking\":null,\"trackingData\":null,\"value\":{\"type\":\"VoteValue\",\"count\":0,\"isSelected\":false}},\"id\":\"ff3d152e-552b-4bbe-b6cf-246b9db366c7\",\"sentimentCount\":4,\"text\":\"yes\",\"up\":{\"action\":{\"constraints\":[{\"metaInfo\":{\"openInBottomSheet\":\"true\",\"url\":\"/login?type=mobile&sourceContext=qna_vote\"},\"type\":\"LOGIN\"}],\"fallback\":null,\"loginType\":\"LEGACY_LOGIN\",\"omnitureData\":null,\"originalUrl\":null,\"params\":{\"answerId\":\"ff3d152e-552b-4bbe-b6cf-246b9db366c7\",\"sentiment\":\"UP\",\"source\":\"pp\"},\"screenType\":null,\"tracking\":{},\"type\":\"QNA_ANSWER_SENTIMENT\",\"url\":null},\"metaData\":null,\"tracking\":null,\"trackingData\":null,\"value\":{\"type\":\"VoteValue\",\"count\":4,\"isSelected\":false}}}],\"id\":\"037b97c7-e74c-4f0d-9451-19c2746945e2\",\"text\":\"is there laces in this shoes\",\"viewAllAnswers\":{\"action\":{\"constraints\":null,\"fallback\":null,\"loginType\":\"LOGIN_NOT_REQUIRED\",\"omnitureData\":null,\"originalUrl\":null,\"params\":{\"questionId\":\"037b97c7-e74c-4f0d-9451-19c2746945e2\",\"screenName\":\"QNA_ANSWERS_PAGE\",\"source\":\"pp\",\"productId\":\"SHOEVXU7QCHWHBQH\"},\"screenType\":\"multiWidgetPage\",\"tracking\":{},\"type\":\"NAVIGATION\",\"url\":\"/puma-slyde-nu-idp-sneakers-men/answers/itmf3xxcvu8fwgcp?pid=SHOF32HGW4SNK2DM&questionId=037b97c7-e74c-4f0d-9451-19c2746945e2\"},\"metaData\":null,\"tracking\":null,\"trackingData\":null,\"value\":{\"type\":\"AnnouncementValue\",\"title\":\"Read other answers\"}}}},{\"action\":{\"constraints\":null,\"fallback\":null,\"loginType\":\"LOGIN_NOT_REQUIRED\",\"omnitureData\":null,\"originalUrl\":null,\"params\":{\"questionId\":\"8d6180fb-7997-43a5-a587-1eae2237334c\",\"screenName\":\"QNA_ANSWERS_PAGE\",\"source\":\"pp\",\"productId\":\"SHOF32HGW4SNK2DM\"},\"screenType\":\"multiWidgetPage\",\"tracking\":{\"impressionId\":\"b9c9b834-213e-4b8b-91a3-c69ccc089bed\",\"answerId\":\"a7cd37be-aa1d-4f5d-94d3-d9cad5e1759b\",\"questionId\":\"8d6180fb-7997-43a5-a587-1eae2237334c\",\"contextType\":\"page\"},\"type\":\"NAVIGATION\",\"url\":\"/puma-slyde-nu-idp-sneakers-men/answers/itmf3xxcvu8fwgcp?pid=SHOF32HGW4SNK2DM&questionId=8d6180fb-7997-43a5-a587-1eae2237334c\"},\"metaData\":null,\"tracking\":{\"impressionId\":\"b9c9b834-213e-4b8b-91a3-c69ccc089bed\",\"answerId\":\"a7cd37be-aa1d-4f5d-94d3-d9cad5e1759b\",\"questionId\":\"8d6180fb-7997-43a5-a587-1eae2237334c\",\"contextType\":\"page\"},\"trackingData\":null,\"value\":{\"type\":\"Question\",\"answers\":[{\"type\":\"Answer\",\"abuse\":{\"action\":{\"constraints\":[{\"metaInfo\":{\"openInBottomSheet\":\"true\",\"url\":\"/login?type=mobile&sourceContext=qna_report_abuse\"},\"type\":\"LOGIN\"}],\"fallback\":null,\"loginType\":\"LEGACY_LOGIN\",\"omnitureData\":null,\"originalUrl\":null,\"params\":{\"answerId\":\"a7cd37be-aa1d-4f5d-94d3-d9cad5e1759b\",\"sentiment\":\"ABUSE\",\"source\":\"pp\"},\"screenType\":null,\"tracking\":{},\"type\":\"QNA_ANSWER_SENTIMENT\",\"url\":null},\"metaData\":null,\"tracking\":null,\"trackingData\":null,\"value\":{\"type\":\"VoteValue\",\"count\":0,\"isSelected\":false}},\"anonymous\":false,\"authorName\":\"Flipkart Customer\",\"authorStatusMap\":{\"CERTIFIED_BUYER\":true},\"down\":{\"action\":{\"constraints\":[{\"metaInfo\":{\"openInBottomSheet\":\"true\",\"url\":\"/login?type=mobile&sourceContext=qna_vote\"},\"type\":\"LOGIN\"}],\"fallback\":null,\"loginType\":\"LEGACY_LOGIN\",\"omnitureData\":null,\"originalUrl\":null,\"params\":{\"answerId\":\"a7cd37be-aa1d-4f5d-94d3-d9cad5e1759b\",\"sentiment\":\"DOWN\",\"source\":\"pp\"},\"screenType\":null,\"tracking\":{},\"type\":\"QNA_ANSWER_SENTIMENT\",\"url\":null},\"metaData\":null,\"tracking\":null,\"trackingData\":null,\"value\":{\"type\":\"VoteValue\",\"count\":0,\"isSelected\":false}},\"id\":\"a7cd37be-aa1d-4f5d-94d3-d9cad5e1759b\",\"sentimentCount\":4,\"text\":\"yes , but that's there choice\",\"up\":{\"action\":{\"constraints\":[{\"metaInfo\":{\"openInBottomSheet\":\"true\",\"url\":\"/login?type=mobile&sourceContext=qna_vote\"},\"type\":\"LOGIN\"}],\"fallback\":null,\"loginType\":\"LEGACY_LOGIN\",\"omnitureData\":null,\"originalUrl\":null,\"params\":{\"answerId\":\"a7cd37be-aa1d-4f5d-94d3-d9cad5e1759b\",\"sentiment\":\"UP\",\"source\":\"pp\"},\"screenType\":null,\"tracking\":{},\"type\":\"QNA_ANSWER_SENTIMENT\",\"url\":null},\"metaData\":null,\"tracking\":null,\"trackingData\":null,\"value\":{\"type\":\"VoteValue\",\"count\":4,\"isSelected\":false}}}],\"id\":\"8d6180fb-7997-43a5-a587-1eae2237334c\",\"text\":\"can girls wear this or is it only for boys????\"}}]},\"header\":{\"action\":null,\"metaData\":null,\"tracking\":null,\"trackingData\":null,\"value\":{\"type\":\"HeaderValue\",\"actionButton\":{\"action\":{\"constraints\":null,\"fallback\":null,\"loginType\":\"LOGIN_NOT_REQUIRED\",\"omnitureData\":null,\"originalUrl\":\"/puma-slyde-nu-idp-sneakers-men/qna-search/itmf3xxcvu8fwgcp?pid=SHOF32HGW4SNK2DM&lid=LSTSHOF32HGW4SNK2DM6XG3EX&marketplace=FLIPKART&srno=b_1_12&otracker=browse&fm=organic&iid=5285686d-f13b-435f-9276-231e9d39f021.SHOF32HGW4SNK2DM.SEARCH&ppt=Store%20Browse&ppn=Store\",\"params\":{\"screenName\":\"UGC_SEARCH_PAGE\",\"source\":\"pp\",\"productId\":\"SHOF32HGW4SNK2DM\"},\"screenType\":\"multiWidgetPage\",\"tracking\":{},\"type\":\"NAVIGATION\",\"url\":\"/puma-slyde-nu-idp-sneakers-men/qna-search/itmf3xxcvu8fwgcp?pid=SHOF32HGW4SNK2DM&lid=LSTSHOF32HGW4SNK2DM6XG3EX&marketplace=FLIPKART&srno=b_1_12&otracker=browse&fm=organic&iid=5285686d-f13b-435f-9276-231e9d39f021.SHOF32HGW4SNK2DM.SEARCH&ppt=Store%20Browse&ppn=Store\"},\"metaData\":null,\"tracking\":null,\"trackingData\":null,\"value\":{\"type\":\"ButtonValue\",\"title\":\"Search\"}},\"collapsed\":false,\"collapsible\":false,\"imageValue\":null,\"referenceImageValue\":null,\"showActionButton\":false,\"showHeader\":true,\"subTitleValue\":{\"type\":\"TitleValue\",\"image\":null,\"text\":\"Have a question? Search for answers.\"},\"tags\":null,\"timerValue\":null,\"titleValue\":{\"type\":\"TitleValue\",\"image\":null,\"text\":\"Questions and Answers\"}}},\"footer\":{\"action\":{\"constraints\":null,\"fallback\":null,\"loginType\":\"LOGIN_NOT_REQUIRED\",\"omnitureData\":null,\"originalUrl\":null,\"params\":{\"productId\":\"SHOF32HGW4SNK2DM\",\"screenName\":\"PRODUCT_QNA_PAGE\"},\"screenType\":\"multiWidgetPage\",\"tracking\":{\"impressionId\":\"b9c9b834-213e-4b8b-91a3-c69ccc089bed\",\"viewAllShown\":\"true\",\"fetchId\":\"b9c9b834-213e-4b8b-91a3-c69ccc089bed.SHOF32HGW4SNK2DM\",\"productId\":\"SHOF32HGW4SNK2DM\",\"contextType\":\"page\",\"findingMethod\":\"pp\"},\"type\":\"NAVIGATION\",\"url\":\"/puma-slyde-nu-idp-sneakers-men/product-questions/itmf3xxcvu8fwgcp?pid=SHOF32HGW4SNK2DM\"},\"metaData\":null,\"tracking\":{\"contextType\":\"page\",\"findingMethod\":\"pp\"},\"trackingData\":null,\"value\":{\"type\":\"FooterValue\",\"imageValue\":null,\"subTitleValue\":null,\"timerValue\":null,\"titleValue\":{\"type\":\"TitleValue\",\"image\":null,\"text\":\"All questions\"}}},\"tracking\":{\"impressionId\":\"b9c9b834-213e-4b8b-91a3-c69ccc089bed\",\"viewAllShown\":\"true\",\"fetchId\":\"b9c9b834-213e-4b8b-91a3-c69ccc089bed.SHOF32HGW4SNK2DM\",\"productId\":\"SHOF32HGW4SNK2DM\",\"contextType\":\"page\",\"position\":13}}}],\"10007\":[{\"slotType\":\"WIDGET\",\"id\":20,\"parentId\":10007,\"layoutParams\":{\"margin\":\"0,0,12,0\",\"orientation\":\"\",\"widgetHeight\":150,\"widgetWidth\":6},\"dataId\":\"-608153253\",\"elementId\":\"20-PROMOTIONS\",\"hasWidgetDataChanged\":true,\"ttl\":30000,\"widget\":{\"type\":\"PROMOTIONS\",\"viewType\":\"BANNER\",\"widgetAttributes\":{\"backgroundDotColor\":null,\"bleedingColor\":null,\"displayItemSeparator\":false,\"displayViewAll\":false,\"selectedDotColor\":null,\"skin\":\"LIGHT\",\"skinType\":null,\"stopBleedingColor\":null,\"unselectedDotColor\":null,\"viewType\":\"BANNER\"},\"data\":{\"bottomSheetInfo\":{\"coinFaqs\":[{\"type\":\"CoinFaqValue\",\"footerText\":\"Max 50 SuperCoins per order. SuperCoins are credited after the return period is over for all the products in the order\",\"primaryText\":\"How do I earn SuperCoins?\",\"subText\":\"Shop for ₹100 = Earn 2 SuperCoins\"}],\"footNotes\":[{\"action\":null,\"metaData\":null,\"tracking\":null,\"trackingData\":null,\"value\":{\"type\":\"RichTextValue\",\"text\":\"Exchange SuperCoins to get additional offers on shopping, food,  travel and more\"}}],\"pageTitle\":\"Flipkart SuperCoins\",\"titleInfo\":{\"type\":\"RichMessageValue\",\"image\":{\"type\":\"ImageValue\",\"aspectRatio\":\"1:1\",\"dynamicImageUrl\":\"http://rukmini1.flixcart.com/lockin/{@width}/{@height}/images/super_coin_24x24.png?q={@quality}\",\"height\":0,\"source\":\"dj\",\"width\":0},\"title\":{\"type\":\"RichTextValue\",\"text\":\"Earn SuperCoins on Flipkart orders\"}}},\"promotionsInfo\":{\"action\":{\"constraints\":null,\"fallback\":null,\"loginType\":\"LOGIN_NOT_REQUIRED\",\"omnitureData\":null,\"originalUrl\":null,\"params\":{},\"screenType\":\"inlineBottomSheet\",\"tracking\":{\"contentId\":\"PRODUCT_PAGECOIN_CONVERSION_OVERLAYNonLoggedIn\",\"otracker\":\"pp_promotions_1_20.overlayCard.PROMOTIONS_PRODUCT_PAGECOIN_CONVERSION_OVERLAYNonLoggedIn\",\"widgetType\":\"promotions\",\"otracker1\":\"pp_promotions_WHITELISTED_lockin/coinConversionInfo_NA_NA_overlayCard_cc_1_NA_view-all\",\"findingMethod\":\"lockin/coinConversionInfo\",\"impressionId\":\"lo_cco:88ce5bdb-41da-c72a-ceee-191f167136f3.PRODUCT_PAGECOIN_CONVERSION_OVERLAYNonLoggedIn\",\"dataKey\":\"20.overlayCard.PROMOTIONS\",\"pageType\":\"pp\",\"widgetCategory\":\"WHITELISTED\",\"contextType\":\"page\",\"position\":\"1\",\"moduleId\":\"lockin/coinConversionInfo\",\"contentType\":\"overlayCard\",\"module_position\":\"1\",\"prop47\":\"overlayCard_promotions_PRODUCT_PAGE_1\"},\"type\":\"NAVIGATION\",\"url\":null},\"metaData\":null,\"tracking\":{\"contentId\":\"PRODUCT_PAGECOIN_CONVERSION_OVERLAYNonLoggedIn\",\"otracker\":\"pp_promotions_1_20.overlayCard.PROMOTIONS_PRODUCT_PAGECOIN_CONVERSION_OVERLAYNonLoggedIn\",\"widgetType\":\"promotions\",\"otracker1\":\"pp_promotions_WHITELISTED_lockin/coinConversionInfo_NA_NA_overlayCard_cc_1_NA_view-all\",\"findingMethod\":\"lockin/coinConversionInfo\",\"impressionId\":\"lo_cco:88ce5bdb-41da-c72a-ceee-191f167136f3.PRODUCT_PAGECOIN_CONVERSION_OVERLAYNonLoggedIn\",\"dataKey\":\"20.overlayCard.PROMOTIONS\",\"pageType\":\"pp\",\"widgetCategory\":\"WHITELISTED\",\"contextType\":\"page\",\"position\":\"1\",\"moduleId\":\"lockin/coinConversionInfo\",\"contentType\":\"overlayCard\",\"module_position\":\"1\",\"prop47\":\"overlayCard_promotions_PRODUCT_PAGE_1\"},\"trackingData\":null,\"value\":{\"type\":\"ImageValue\",\"aspectRatio\":\"1440:344\",\"dynamicImageUrl\":\"http://rukmini1.flixcart.com/lockin/{@width}/{@height}/images/CCO__PP_2019-07-14.png?q={@quality}\",\"height\":0,\"source\":\"dj\",\"width\":0}}},\"tracking\":{\"impressionId\":\"lo_cco:88ce5bdb-41da-c72a-ceee-191f167136f3\",\"pageType\":\"pp\",\"widgetCategory\":\"WHITELISTED\",\"contextType\":\"page\",\"viewType\":\"BANNER\",\"widgetKey\":\"20.overlayCard.PROMOTIONS\",\"otracker\":\"pp_promotions\",\"moduleId\":\"lockin/coinConversionInfo\",\"contentType\":\"contentCollection\",\"widgetType\":\"promotions\",\"otracker1\":\"pp_promotions_WHITELISTED_lockin/coinConversionInfo_NA_BANNER_wc_view-all\",\"findingMethod\":\"lockin/coinConversionInfo\",\"position\":10}}}],\"10008\":[],\"ROOT\":[{\"slotType\":\"LOGICAL\",\"id\":10000,\"parentId\":0,\"layoutParams\":{\"backgroundColor\":\"#FFFFFF\",\"margin\":\"16,16,16,16\",\"orientation\":\"\"},\"childArrangement\":\"ADJACENT\"},{\"slotType\":\"WIDGET\",\"id\":33,\"parentId\":0,\"layoutParams\":{\"orientation\":\"\",\"widgetHeight\":150,\"widgetWidth\":12},\"dataId\":\"-654121634\",\"elementId\":\"33-BANNER\",\"hasWidgetDataChanged\":true,\"ttl\":3000,\"widget\":{\"type\":\"BANNER\",\"viewType\":\"LIFESTYLE\",\"data\":{\"renderableComponents\":[{\"action\":{\"constraints\":null,\"fallback\":null,\"loginType\":\"LOGIN_NOT_REQUIRED\",\"omnitureData\":null,\"originalUrl\":null,\"params\":{\"screenName\":\"INTERNAL_SELLER_CALLOUTS_PAGE\"},\"screenType\":null,\"tracking\":{},\"type\":\"NAVIGATION\",\"url\":\"https://www.flipkart.com/pages/30_day_return_lifestyle\"},\"metaData\":null,\"tracking\":null,\"trackingData\":null,\"value\":{\"type\":\"ImageValue\",\"aspectRatio\":\"85:6\",\"dynamicImageUrl\":\"http://rukmini1.flixcart.com/www/{@width}/{@height}/promos/01/12/2018/8aa01ab4-de88-4a46-9d93-5c7f3ebac2df.png?q={@quality}\",\"height\":0,\"width\":0}}]}}}]},\"pageNumber\":1,\"timeStamp\":1569962095219,\"prevPageType\":\"Product\",\"pageType\":\"Product\",\"reload\":false,\"fetchId\":\"b9c9b834-213e-4b8b-91a3-c69ccc089bed.SHOF32HGW4SNK2DM\",\"responseHeaderObject\":{\"xReqId\":\"b9c9b834-213e-4b8b-91a3-c69ccc089bed\",\"xParentReqId\":\"\",\"xTabId\":\"\"},\"pageData\":{\"backTTL\":30000,\"elementId\":\"page\",\"hardTTL\":2147483647,\"hasMorePages\":true,\"infinitePage\":false,\"layoutParams\":{\"backgroundColor\":\"#F1F2F4\",\"orientation\":\"\",\"theme\":\"light\"},\"pageContext\":{\"type\":\"ProductPageContext\",\"analyticsData\":{\"category\":\"MenFW\",\"subCategory\":\"MenFootwear\",\"superCategory\":\"FootWearFitness\",\"vertical\":\"MenCasualShoe\"},\"brand\":\"Puma\",\"collapseSections\":true,\"easySizeUrl\":\"/1/easysize?productGender=male&productTypes=%5B%22shoe%22%5D&productBrand=Puma&productId=SHOF32HGW4SNK2DM&sizesInStock=%5B%224%22%2C%226%22%2C%227%22%2C%228%22%2C%229%22%2C%2210%22%2C%2211%22%2C%2212%22%5D\",\"enableOfferTag\":true,\"faAvailable\":true,\"fetchId\":\"b9c9b834-213e-4b8b-91a3-c69ccc089bed.SHOF32HGW4SNK2DM\",\"imageUrl\":\"http://rukmini1.flixcart.com/image/{@width}/{@height}/jg2kqkw0/shoe/2/d/m/slyde-nu-idp-ss18-11-puma-peacoat-infinity-original-imaf4eyvnme7nh5t.jpeg?q={@quality}\",\"isFaAvailable\":true,\"itemId\":\"ITMF3XXCVU8FWGCP\",\"listingId\":\"LSTSHOF32HGW4SNK2DM6XG3EX\",\"marketplace\":\"FLIPKART\",\"multipleMediaPresent\":true,\"pricing\":{\"finalPrice\":{\"additionalText\":null,\"currency\":\"INR\",\"decimalValue\":\"1949.00\",\"discount\":null,\"downpaymentRate\":0,\"downpaymentRequired\":false,\"name\":\"Final Price\",\"priceType\":\"FSP\",\"strikeOff\":false,\"value\":1949},\"minPrice\":{\"additionalText\":null,\"currency\":\"INR\",\"decimalValue\":\"1679.00\",\"discount\":null,\"downpaymentRate\":0,\"downpaymentRequired\":false,\"name\":\"Min Price\",\"priceType\":null,\"strikeOff\":false,\"value\":1679},\"prices\":[{\"additionalText\":\"(incl. of all taxes)\",\"currency\":\"INR\",\"decimalValue\":\"2999.00\",\"discount\":35,\"downpaymentRate\":0,\"downpaymentRequired\":false,\"name\":\"Maximum Retail Price\",\"priceType\":\"MRP\",\"strikeOff\":true,\"value\":2999},{\"additionalText\":null,\"currency\":\"INR\",\"decimalValue\":\"1949.00\",\"discount\":null,\"downpaymentRate\":0,\"downpaymentRequired\":false,\"name\":\"Selling Price\",\"priceType\":\"FSP\",\"strikeOff\":false,\"value\":1949}],\"totalDiscount\":35},\"productId\":\"SHOF32HGW4SNK2DM\",\"rating\":{\"type\":\"RatingValue\",\"average\":4.2,\"base\":5,\"breakup\":[856,443,1217,2988,6579],\"count\":12083,\"histogramBaseCount\":6579,\"reviewCount\":1906},\"seo\":{\"appUri\":\"android-app://com.flipkart.android/flipkart/fk.dl/de_wv_seg_--_http%3A%2F%2Fwww.flipkart.com%2Fpuma-slyde-nu-idp-sneakers-men%2Fp%2Fitmf3xxcvu8fwgcp~q~pid%3DSHOF32HGW4SNK2DM\",\"description\":\"\",\"enableAppIndexingApi\":true,\"keywords\":\"\",\"title\":\"Puma Slyde NU IDP Sneakers For Men\",\"webUrl\":\"https://www.flipkart.com/puma-slyde-nu-idp-sneakers-men/p/itmf3xxcvu8fwgcp\"},\"smartUrl\":\"http://dl.flipkart.com/dl/puma-slyde-nu-idp-sneakers-men/p/itmf3xxcvu8fwgcp?pid=SHOF32HGW4SNK2DM&cmpid=product.share.pp\",\"swatchInfo\":{\"mandatorySwatchAttributes\":[{\"compulsory\":true,\"dropNonWhitelistedOptions\":false,\"id\":\"size\",\"queryInfo\":{\"key\":\"sattr[]\",\"operation\":\"APPEND\",\"value\":\"size\"},\"selected\":false,\"showOnBrowsePage\":true,\"singleAttributeSwatchEnabled\":false,\"sizeChartInfo\":{\"displayText\":\"Size Chart\",\"url\":\"https://www.flipkart.com/rv/sizechart?pid=SHOF32HGW4SNK2DM\"},\"text\":\"Size- UK/India\",\"type\":\"TEXT\",\"viewOnly\":false,\"viewType\":\"BOX\"}],\"mandatorySwatchAvailable\":true},\"titles\":{\"coSubtitle\":\"Size: 6\",\"subtitle\":\"Blue\",\"title\":\"Puma Slyde NU IDP Sneakers For Men\"},\"trackingDataV2\":{\"abbAvailable\":false,\"bnplAvailable\":false,\"colorPickerAvailable\":true,\"digitalAvailable\":false,\"faAvailable\":true,\"fasterDeliveryAvailable\":false,\"listingId\":\"LSTSHOF32HGW4SNK2DM6XG3EX\",\"listingPreserved\":false,\"multipleDeliveryAvailable\":false,\"nbfcAvailable\":false,\"offerIds\":[\"nb:mp:08e28fa225\",\"nb:mp:0863d2ff24\",\"nb:mp:086c3bd926\",\"nb:mp:082796e808\",\"nb:mp:08cfac7126\",\"nb:mp:06ce8b8c12\",\"nb:mp:08addbba25\",\"nb:mp:08b90ba325\",\"nb:mp:09f75ee501\",\"nb:mp:08314f9524\",\"nb:mp:0875ab4725\",\"nb:mp:088182fb22\",\"nb:mp:085af53c26\",\"nb:mp:0848694225\"],\"offersAvailability\":\"NBFC_not_available|ABB_not_available|PAE_not_available|BNPL_not_available|Exchange_not_available\",\"paeAvailable\":false,\"preferredSellerWSR\":false,\"prexoAvailable\":false,\"productStatus\":\"Out of Stock\",\"ratingCount\":12083,\"reviewCount\":1906,\"sProductSuffix\":\"|eVar88=LSTSHOF32HGW4SNK2DM6XG3EX|eVar84=2990_1940_1940_0_35|evar67=4.2_2000_10000_200|eVar92=Look_3:Colour_2:Comfort_3|evar44=d591418b408940a0_FA_4.6|eVar89=Puma|eVar86=No Pincode\",\"sellerCount\":3,\"sellerId\":\"d591418b408940a0\",\"sellerName\":\"RetailNet\",\"sellerRating\":4.6,\"serviceable\":false,\"sproduct\":\";SHOF32HGW4SNK2DM;;;;eVar19=MenCasualShoe|eVar22=MenFW|eVar93=FLIPKART|eVar88=LSTSHOF32HGW4SNK2DM6XG3EX|eVar84=2990_1940_1940_0_35|evar67=4.2_2000_10000_200|eVar92=Look_3:Colour_2:Comfort_3|evar44=d591418b408940a0_FA_4.6|eVar89=Puma|eVar86=No Pincode\",\"tdOffersAvailable\":false,\"videoAvailable\":false,\"visualBrowseEnabled\":false,\"wsrSellerPresent\":false}},\"pageHash\":\"-720861857\",\"pageLevelSlots\":{},\"pageTTL\":30000,\"pageTags\":{\"tags\":[]},\"pageTitle\":\"Puma Slyde NU IDP Sneakers For Men\",\"paginationContextMap\":{\"lockin\":{\"context\":{\"collectionMetaInfoList\":[],\"paginationCursor\":null},\"pageType\":\"PRODUCT_PAGE\"}},\"seoData\":{\"links\":{\"footer\":[{\"footer_links\":{\"brandList\":[{\"brandName\":\"DC SHOES INDIA\",\"brandUrl\":\"/footwear/dc~brand/pr?sid=osp\"},{\"brandName\":\"MOCHI\",\"brandUrl\":\"/footwear/mochi~brand/pr?sid=osp\"},{\"brandName\":\"PARAGON FOOTWEAR ONLINE SHOPPING\",\"brandUrl\":\"/footwear/paragon~brand/pr?sid=osp\"},{\"brandName\":\"LOAFER SHOES\",\"brandUrl\":\"/mens-footwear/casual-shoes/loafers~type/pr?sid=osp,cil,e1f\"},{\"brandName\":\"CANVAS SHOES FOR MEN\",\"brandUrl\":\"/mens-footwear/casual-shoes/pr?sid=osp,cil,e1f\"},{\"brandName\":\"DIESEL SHOES\",\"brandUrl\":\"/mens-footwear/diesel~brand/pr?sid=osp,cil\"},{\"brandName\":\"BATA LEATHER SHOES\",\"brandUrl\":\"/mens-footwear/formal-shoes/bata~brand/pr?sid=osp,cil,ssb\"},{\"brandName\":\"BROWN SHOES\",\"brandUrl\":\"/mens-footwear/formal-shoes/pr?sid=osp,cil,ssb\"},{\"brandName\":\"LINING BADMINTON SHOES\",\"brandUrl\":\"/mens-footwear/li-ning~brand/pr?sid=osp,cil\"},{\"brandName\":\"MENS SHOES ONLINE INDIA\",\"brandUrl\":\"/mens-footwear/pr?sid=osp,cil\"},{\"brandName\":\"PUMA SHOSE\",\"brandUrl\":\"/mens-footwear/puma~brand/pr?sid=osp,cil\"},{\"brandName\":\"RED CHIEF SHOES PRICE IN INDIA\",\"brandUrl\":\"/mens-footwear/red-chief~brand/pr?sid=osp,cil\"},{\"brandName\":\"LEE COOPER SANDALS\",\"brandUrl\":\"/mens-footwear/sandals-floaters/lee-cooper~brand/pr?sid=osp,cil,e83\"},{\"brandName\":\"LEATHER SANDALS FOR MEN\",\"brandUrl\":\"/mens-footwear/sandals-floaters/pr?sid=osp,cil,e83\"},{\"brandName\":\"WOODLAND SANDALS DISCOUNT SALE\",\"brandUrl\":\"/mens-footwear/sandals-floaters/woodland~brand/pr?sid=osp,cil,e83\"},{\"brandName\":\"ADIDAS SHOES PRICE LIST\",\"brandUrl\":\"/mens-footwear/sports-shoes/adidas~brand/pr?sid=osp,cil,1cu\"},{\"brandName\":\"NIKE SHOES PRICE\",\"brandUrl\":\"/mens-footwear/sports-shoes/nike~brand/pr?sid=osp,cil,1cu\"},{\"brandName\":\"SPORTS SHOES ONLINE\",\"brandUrl\":\"/mens-footwear/sports-shoes/running-shoes~type/pr?sid=osp,cil,1cu\"},{\"brandName\":\"ALBERTO TORRESI SHOES\",\"brandUrl\":\"/q/alberto-torresi-shoes\"},{\"brandName\":\"BLACK SPORTS SHOES\",\"brandUrl\":\"/q/black-sports-shoes\"},{\"brandName\":\"HIGH ANKLE SHOES\",\"brandUrl\":\"/q/high-ankle-shoes\"},{\"brandName\":\"WHITE CANVAS SHOES\",\"brandUrl\":\"/q/white-canvas-shoes\"},{\"brandName\":\"LADIES CHAPPAL\",\"brandUrl\":\"/womens-footwear/pr?sid=osp,iko\"},{\"brandName\":\"LOTTO SHOES\",\"brandUrl\":\"/~lotto-shoes/pr?sid=osp\"},{\"brandName\":\"VANS SNEAKERS\",\"brandUrl\":\"https://www.flipkart.com/q/vans-sneakers\"},{\"brandName\":\"WHITE HEELS\",\"brandUrl\":\"https://www.flipkart.com/womens-footwear/heels/white~color/pr?sid=osp\"}],\"displayText\":\"MOST SEARCHED IN Footwear\"}}]},\"schema\":[{\"@context\":\"http://schema.org\",\"@type\":\"Product\",\"aggregateRating\":{\"@type\":\"AggregateRating\",\"ratingValue\":4.2,\"reviewCount\":1906},\"brand\":{\"@type\":\"Thing\",\"name\":\"Puma\"},\"image\":\"http://rukmini1.flixcart.com/image/128/128/jg2kqkw0/shoe/2/d/m/slyde-nu-idp-ss18-11-puma-peacoat-infinity-original-imaf4eyvnme7nh5t.jpeg?q=70\",\"name\":\"Puma Slyde NU IDP Sneakers For Men\"},{\"@context\":\"http://schema.org\",\"@type\":\"BreadcrumbList\",\"itemListElement\":[{\"@type\":\"ListItem\",\"item\":{\"@id\":\"https://www.flipkart.com/?otracker=product_breadCrumbs_Home\",\"name\":\"Home\"},\"position\":1},{\"@type\":\"ListItem\",\"item\":{\"@id\":\"https://www.flipkart.com/footwear/pr?sid=osp&marketplace=FLIPKART&otracker=product_breadCrumbs_Footwear\",\"name\":\"Footwear\"},\"position\":2},{\"@type\":\"ListItem\",\"item\":{\"@id\":\"https://www.flipkart.com/mens-footwear/pr?sid=osp,cil&marketplace=FLIPKART&otracker=product_breadCrumbs_Men%27s+Footwear\",\"name\":\"Men's Footwear\"},\"position\":3},{\"@type\":\"ListItem\",\"item\":{\"@id\":\"https://www.flipkart.com/mens-footwear/casual-shoes/pr?sid=osp,cil,e1f&marketplace=FLIPKART&otracker=product_breadCrumbs_Casual+Shoes\",\"name\":\"Casual Shoes\"},\"position\":4},{\"@type\":\"ListItem\",\"item\":{\"@id\":\"https://www.flipkart.com/mens-footwear/casual-shoes/puma~brand/pr?sid=osp,cil,e1f&marketplace=FLIPKART&otracker=product_breadCrumbs_Puma+Casual+Shoes\",\"name\":\"Puma Casual Shoes\"},\"position\":5},{\"@type\":\"ListItem\",\"item\":{\"@id\":\"https://www.flipkart.com/puma-slyde-nu-idp-sneakers-men/p/itmf3xxcvu8fwgcp?otracker=product_breadCrumbs_Puma+Slyde+NU+IDP+Sneakers+For+Men+%28Blue%29\",\"name\":\"Puma Slyde NU IDP Sneakers For Men (Blue)\"},\"position\":6}]}],\"seo\":{\"alexaVerifyId\":false,\"description\":\"Puma Slyde NU IDP Sneakers For Men - Buy Puma Slyde NU IDP Sneakers For Men - Slyde NU IDP SS18 only for Rs.2999 from Flipkart.com. Only Genuine Products. 30 Day Replacement Guarantee. Free Shipping. Cash On Delivery!\",\"googleSiteVerification\":false,\"keywords\":\"Puma Slyde NU IDP Sneakers For Men\",\"noIndexSeo\":false,\"ogTitle\":\"Puma Slyde NU IDP Sneakers For Men - Buy Peacoat-Infinity Color Puma Slyde NU IDP Sneakers For Men Online at Best Price - Shop Online for Footwears in India | Flipkart.com\",\"redirectUrl\":{\"incorrectUrl\":false,\"overrideQueryParams\":null,\"path\":null},\"seoFooterTitle\":\"More about Puma Slyde NU IDP Sneakers For Men\",\"title\":\"Puma Slyde NU IDP Sneakers For Men - Buy Peacoat-Infinity Color Puma Slyde NU IDP Sneakers For Men Online at Best Price - Shop Online for Footwears in India | Flipkart.com\"}},\"sharedData\":{},\"trackingContext\":{\"navigationalPageName\":\"pp\",\"navigationalPageType\":\"pp\",\"pageName\":null,\"pageType\":\"pp\",\"tracking\":{\"loginStatus\":\"logout\"}}},\"pageMeta\":{\"baseImpressionId\":\"b9c9b834-213e-4b8b-91a3-c69ccc089bed\",\"pageNotChanged\":false,\"parentReqId\":\"\",\"prefetchPage\":{\"enablePrefetch\":false}}},\"modal\":{\"asyncStatus\":\"INIT\",\"data\":{\"ROOT\":[]},\"pageNumber\":0,\"timeStamp\":1568891011395},\"tabs\":{\"asyncStatus\":\"INIT\",\"data\":{\"ROOT\":[]},\"pageNumber\":0,\"timeStamp\":1568891011395},\"browseMetadata\":{},\"productPageMetadata\":{\"modulePresence\":\"PP_RView\",\"videoTracking\":\"\",\"easySize\":\"\",\"events\":[],\"swatchIds\":\"color:Black,Black-Cherry Tomato,Blue,Blue Depths-Lapis Blue,Blue Depths-Lapis blue,Golden Brown-Chocolate Brown,MYKONOS BLUE-NRGY YELLOW-WHITE,Olive Night,Peacoat-Infinity,Puma Black-Cherry Tomato,Puma Black-Electric Blue Lemonade,QUIET SHADE-Peacoat,Tibetan Red-Cherry Tomato;size:4,6,7,8,9,10,11,12\",\"breadcrumbs\":[{\"title\":\"Home\",\"url\":\"/?otracker=product_breadCrumbs_Home\"},{\"title\":\"Footwear\",\"url\":\"/footwear/pr?sid=osp&marketplace=FLIPKART&otracker=product_breadCrumbs_Footwear\"},{\"title\":\"Men's Footwear\",\"url\":\"/mens-footwear/pr?sid=osp,cil&marketplace=FLIPKART&otracker=product_breadCrumbs_Men%27s+Footwear\"},{\"title\":\"Casual Shoes\",\"url\":\"/mens-footwear/casual-shoes/pr?sid=osp,cil,e1f&marketplace=FLIPKART&otracker=product_breadCrumbs_Casual+Shoes\"},{\"title\":\"Puma Casual Shoes\",\"url\":\"/mens-footwear/casual-shoes/puma~brand/pr?sid=osp,cil,e1f&marketplace=FLIPKART&otracker=product_breadCrumbs_Puma+Casual+Shoes\"},{\"title\":\"Puma Slyde NU IDP Sneakers For Men (Blue)\"}],\"speed\":\"\"},\"lookDetailsPageMetadata\":{},\"analtyticsData\":{\"omnitureData\":{},\"omnitureEvents\":[]}},\"payments\":{\"paymentOptions\":{\"asyncStatus\":\"INIT\"},\"paymentAsyncStatus\":\"INIT\",\"selectedPaymentOption\":{\"mainOption\":\"\",\"emiCard\":\"\"},\"instrumentCheck\":{},\"payWithDetails\":{\"asyncStatus\":\"INIT\"},\"payByInstrumentType\":{\"asyncStatus\":\"INIT\"},\"emiTerms\":{\"asyncStatus\":\"INIT\"},\"emiState\":{\"selectedBank\":\"\",\"selectedBankEmiType\":\"\",\"selectedTenure\":\"\",\"selectedSection\":\"\",\"selectedSectionKey\":\"\"},\"captcha\":{\"asyncStatus\":\"INIT\"},\"emiCards\":{\"asyncStatus\":\"INIT\"},\"emiBanks\":{},\"emiTenures\":{},\"emiItemLevelBreakup\":{\"asyncStatus\":\"INIT\",\"breakup\":[],\"error\":null},\"netOptions\":{},\"payViaWallet\":{\"asyncStatus\":\"INIT\"},\"adjustments\":{},\"otpModes\":{\"asyncStatus\":\"INIT\"},\"otpSubmitState\":{\"asyncStatus\":\"INIT\"},\"advancePaymentBreakup\":{\"asyncStatus\":\"INIT\"},\"selectInstrument\":{\"asyncStatus\":\"INIT\"},\"errorOverlay\":{},\"emiOnSavedCards\":{}},\"paymentToken\":{\"asyncStatus\":\"INIT\",\"tokenVersion\":\"v3\",\"dcId\":\"2\",\"hasDegraded\":false,\"error\":null},\"pincodeData\":{\"localPincodes\":[],\"suggestions\":[],\"regionFilters\":{},\"invalid\":false,\"state\":null,\"error\":null,\"asyncStatus\":\"INIT\"},\"productBuyBack\":{\"ttl\":{},\"asyncStatus\":\"INIT\"},\"productInfo\":{\"ttl\":{}},\"productPage\":{\"verifyImeiInfo\":{\"asyncStatus\":\"INIT\"},\"exchangeTooltip\":{\"asyncStatus\":\"INIT\",\"data\":{\"ROOT\":[]},\"pageNumber\":0,\"timeStamp\":1568891011395},\"exchangeTermsInfo\":{\"asyncStatus\":\"INIT\"},\"productSimilarReco\":{\"asyncStatus\":\"INIT\"},\"productCrossVerticalReco\":{\"asyncStatus\":\"INIT\"},\"productBrowsingHistoryReco\":{\"asyncStatus\":\"INIT\"},\"productDetails\":{\"asyncStatus\":\"INIT\"},\"productActions\":{\"share\":{\"asyncStatus\":\"INIT\"}},\"productReservation\":{\"asyncStatus\":\"INIT\"},\"productLayout\":{\"asyncStatus\":\"INIT\"},\"productImage\":{\"defaultMedia\":null},\"wiggleSwatches\":{},\"productABBData\":{\"asyncStatus\":\"INIT\"},\"recommendations\":{}},\"productSummary\":{},\"questionAndAnswer\":{\"pageData\":{\"asyncStatus\":\"INIT\"},\"inputValue\":{\"asyncStatus\":\"INIT\"},\"deleteAnswer\":{\"asyncStatus\":\"INIT\"},\"allAnswers\":{\"asyncStatus\":\"INIT\"},\"moreContent\":{\"asyncStatus\":\"INIT\"},\"searchQnAData\":{\"asyncStatus\":\"INIT\"}},\"ratingsAndReviews\":{\"imageReviews\":{},\"gallery\":{\"url\":\"\",\"asyncStatus\":\"INIT\",\"images\":[],\"imagePositionMap\":{},\"pageNumber\":1,\"hasMorePages\":true}},\"recentlyViewed\":{\"asyncStatus\":\"INIT\"},\"reviewPageData\":{\"asyncStatus\":\"INIT\"},\"reviewPageTitle\":{\"asyncStatus\":\"INIT\"},\"reviewsConfirmationPage\":{\"asyncStatus\":\"INIT\"},\"saalListingsData\":{\"listings\":[]},\"sale\":{\"asmData\":null,\"index\":0,\"asyncStatus\":\"INIT\",\"popup\":null,\"error\":null},\"selfServe\":{\"appContext\":{\"context\":{\"maxPageLength\":10},\"pageLoadEvents\":[]},\"deliverySlots\":{\"asyncStatus\":\"INIT\"},\"dogfoodingData\":{\"asyncStatus\":\"INIT\",\"topics\":{}},\"ifscFinderData\":{\"asyncStatus\":\"INIT\"},\"myOrders\":{\"asyncStatus\":\"INIT\"},\"myOrdersV2\":{\"asyncStatus\":\"INIT\"},\"orderAddress\":{\"asyncStatus\":\"INIT\"},\"orderCancellation\":{\"asyncStatus\":\"INIT\"},\"orderConfirmationPage\":{\"asyncStatus\":\"INIT\"},\"orderConfirmationPagePS2\":{\"asyncStatus\":\"INIT\"},\"orderConfirmationReco\":{\"asyncStatus\":\"INIT\"},\"postOrderDetails\":{\"asyncStatus\":\"INIT\"},\"postOrderDetailsV2\":{\"asyncStatus\":\"INIT\"},\"returnAddress\":{\"asyncStatus\":\"INIT\"},\"returns\":{\"asyncStatus\":\"INIT\",\"subStatus\":\"REASON\"},\"trackOrder\":{\"data\":{},\"asyncStatus\":\"INIT\"},\"bnplData\":{\"asyncStatus\":\"INIT\"},\"subscribeUnsubscribeData\":{\"asyncStatus\":\"INIT\"},\"returnVisualState\":{\"orderedSteps\":[],\"stepVisualStates\":{\"REASON\":\"COLLAPSED\",\"PICKUP_ADDRESS\":\"COLLAPSED\",\"IMAGE_UPLOAD\":\"COLLAPSED\",\"RETURN_ACTION\":\"COLLAPSED\"}},\"returnToken\":{\"reasonToken\":null,\"addressToken\":null,\"actionsToken\":null},\"neftData\":{\"asyncStatus\":\"INIT\"},\"neftIfscFinderData\":{\"asyncStatus\":\"INIT\"},\"cancelReturnData\":{\"asyncStatus\":\"INIT\"},\"payNow\":{\"asyncStatus\":\"INIT\"},\"ndrData\":{\"asyncStatus\":\"INIT\"},\"reschedule\":{},\"addressChange\":{\"asyncStatus\":\"INIT\"},\"fileManager\":{\"files\":[],\"filesSize\":0,\"dataURLs\":[]},\"imageInstructions\":{\"asyncStatus\":\"INIT\"},\"serviceListing\":{},\"payNowPreorder\":{\"asyncStatus\":\"INIT\"},\"prexoChecks\":{\"asyncStatus\":\"INIT\"},\"userInfo\":null},\"sellerDetails\":{\"asyncStatus\":\"INIT\",\"data\":[]},\"sellersPage\":{\"asyncStatus\":\"INIT\"},\"seoMeta\":{\"isFetching\":false,\"metadata\":{\"links\":{\"footer\":[{\"footer_links\":{\"brandList\":[{\"brandName\":\"DC SHOES INDIA\",\"brandUrl\":\"/footwear/dc~brand/pr?sid=osp\"},{\"brandName\":\"MOCHI\",\"brandUrl\":\"/footwear/mochi~brand/pr?sid=osp\"},{\"brandName\":\"PARAGON FOOTWEAR ONLINE SHOPPING\",\"brandUrl\":\"/footwear/paragon~brand/pr?sid=osp\"},{\"brandName\":\"LOAFER SHOES\",\"brandUrl\":\"/mens-footwear/casual-shoes/loafers~type/pr?sid=osp,cil,e1f\"},{\"brandName\":\"CANVAS SHOES FOR MEN\",\"brandUrl\":\"/mens-footwear/casual-shoes/pr?sid=osp,cil,e1f\"},{\"brandName\":\"DIESEL SHOES\",\"brandUrl\":\"/mens-footwear/diesel~brand/pr?sid=osp,cil\"},{\"brandName\":\"BATA LEATHER SHOES\",\"brandUrl\":\"/mens-footwear/formal-shoes/bata~brand/pr?sid=osp,cil,ssb\"},{\"brandName\":\"BROWN SHOES\",\"brandUrl\":\"/mens-footwear/formal-shoes/pr?sid=osp,cil,ssb\"},{\"brandName\":\"LINING BADMINTON SHOES\",\"brandUrl\":\"/mens-footwear/li-ning~brand/pr?sid=osp,cil\"},{\"brandName\":\"MENS SHOES ONLINE INDIA\",\"brandUrl\":\"/mens-footwear/pr?sid=osp,cil\"},{\"brandName\":\"PUMA SHOSE\",\"brandUrl\":\"/mens-footwear/puma~brand/pr?sid=osp,cil\"},{\"brandName\":\"RED CHIEF SHOES PRICE IN INDIA\",\"brandUrl\":\"/mens-footwear/red-chief~brand/pr?sid=osp,cil\"},{\"brandName\":\"LEE COOPER SANDALS\",\"brandUrl\":\"/mens-footwear/sandals-floaters/lee-cooper~brand/pr?sid=osp,cil,e83\"},{\"brandName\":\"LEATHER SANDALS FOR MEN\",\"brandUrl\":\"/mens-footwear/sandals-floaters/pr?sid=osp,cil,e83\"},{\"brandName\":\"WOODLAND SANDALS DISCOUNT SALE\",\"brandUrl\":\"/mens-footwear/sandals-floaters/woodland~brand/pr?sid=osp,cil,e83\"},{\"brandName\":\"ADIDAS SHOES PRICE LIST\",\"brandUrl\":\"/mens-footwear/sports-shoes/adidas~brand/pr?sid=osp,cil,1cu\"},{\"brandName\":\"NIKE SHOES PRICE\",\"brandUrl\":\"/mens-footwear/sports-shoes/nike~brand/pr?sid=osp,cil,1cu\"},{\"brandName\":\"SPORTS SHOES ONLINE\",\"brandUrl\":\"/mens-footwear/sports-shoes/running-shoes~type/pr?sid=osp,cil,1cu\"},{\"brandName\":\"ALBERTO TORRESI SHOES\",\"brandUrl\":\"/q/alberto-torresi-shoes\"},{\"brandName\":\"BLACK SPORTS SHOES\",\"brandUrl\":\"/q/black-sports-shoes\"},{\"brandName\":\"HIGH ANKLE SHOES\",\"brandUrl\":\"/q/high-ankle-shoes\"},{\"brandName\":\"WHITE CANVAS SHOES\",\"brandUrl\":\"/q/white-canvas-shoes\"},{\"brandName\":\"LADIES CHAPPAL\",\"brandUrl\":\"/womens-footwear/pr?sid=osp,iko\"},{\"brandName\":\"LOTTO SHOES\",\"brandUrl\":\"/~lotto-shoes/pr?sid=osp\"},{\"brandName\":\"VANS SNEAKERS\",\"brandUrl\":\"https://www.flipkart.com/q/vans-sneakers\"},{\"brandName\":\"WHITE HEELS\",\"brandUrl\":\"https://www.flipkart.com/womens-footwear/heels/white~color/pr?sid=osp\"}],\"displayText\":\"MOST SEARCHED IN Footwear\"}}]},\"schema\":[{\"@context\":\"http://schema.org\",\"@type\":\"Product\",\"aggregateRating\":{\"@type\":\"AggregateRating\",\"ratingValue\":4.2,\"reviewCount\":1906},\"brand\":{\"@type\":\"Thing\",\"name\":\"Puma\"},\"image\":\"http://rukmini1.flixcart.com/image/128/128/jg2kqkw0/shoe/2/d/m/slyde-nu-idp-ss18-11-puma-peacoat-infinity-original-imaf4eyvnme7nh5t.jpeg?q=70\",\"name\":\"Puma Slyde NU IDP Sneakers For Men\"},{\"@context\":\"http://schema.org\",\"@type\":\"BreadcrumbList\",\"itemListElement\":[{\"@type\":\"ListItem\",\"item\":{\"@id\":\"https://www.flipkart.com/?otracker=product_breadCrumbs_Home\",\"name\":\"Home\"},\"position\":1},{\"@type\":\"ListItem\",\"item\":{\"@id\":\"https://www.flipkart.com/footwear/pr?sid=osp&marketplace=FLIPKART&otracker=product_breadCrumbs_Footwear\",\"name\":\"Footwear\"},\"position\":2},{\"@type\":\"ListItem\",\"item\":{\"@id\":\"https://www.flipkart.com/mens-footwear/pr?sid=osp,cil&marketplace=FLIPKART&otracker=product_breadCrumbs_Men%27s+Footwear\",\"name\":\"Men's Footwear\"},\"position\":3},{\"@type\":\"ListItem\",\"item\":{\"@id\":\"https://www.flipkart.com/mens-footwear/casual-shoes/pr?sid=osp,cil,e1f&marketplace=FLIPKART&otracker=product_breadCrumbs_Casual+Shoes\",\"name\":\"Casual Shoes\"},\"position\":4},{\"@type\":\"ListItem\",\"item\":{\"@id\":\"https://www.flipkart.com/mens-footwear/casual-shoes/puma~brand/pr?sid=osp,cil,e1f&marketplace=FLIPKART&otracker=product_breadCrumbs_Puma+Casual+Shoes\",\"name\":\"Puma Casual Shoes\"},\"position\":5},{\"@type\":\"ListItem\",\"item\":{\"@id\":\"https://www.flipkart.com/puma-slyde-nu-idp-sneakers-men/p/itmf3xxcvu8fwgcp?otracker=product_breadCrumbs_Puma+Slyde+NU+IDP+Sneakers+For+Men+%28Blue%29\",\"name\":\"Puma Slyde NU IDP Sneakers For Men (Blue)\"},\"position\":6}]}],\"seo\":{\"alexaVerifyId\":false,\"description\":\"Puma Slyde NU IDP Sneakers For Men - Buy Puma Slyde NU IDP Sneakers For Men - Slyde NU IDP SS18 only for Rs.2999 from Flipkart.com. Only Genuine Products. 30 Day Replacement Guarantee. Free Shipping. Cash On Delivery!\",\"googleSiteVerification\":false,\"keywords\":\"Puma Slyde NU IDP Sneakers For Men\",\"noIndexSeo\":false,\"ogTitle\":\"Puma Slyde NU IDP Sneakers For Men - Buy Peacoat-Infinity Color Puma Slyde NU IDP Sneakers For Men Online at Best Price - Shop Online for Footwears in India | Flipkart.com\",\"redirectUrl\":{\"incorrectUrl\":false,\"overrideQueryParams\":null,\"path\":null},\"seoFooterTitle\":\"More about Puma Slyde NU IDP Sneakers For Men\",\"title\":\"Puma Slyde NU IDP Sneakers For Men - Buy Peacoat-Infinity Color Puma Slyde NU IDP Sneakers For Men Online at Best Price - Shop Online for Footwears in India | Flipkart.com\"}},\"asyncStatus\":\"SUCCESS\"},\"singleReview\":{\"asyncStatus\":\"INIT\"},\"stickyBasket\":{\"data\":{}},\"subscription\":{\"asyncStatus\":\"INIT\"},\"suggestions\":{},\"surveyState\":{\"asyncStatus\":\"INIT\"},\"swatches\":{\"asyncStatus\":\"INIT\",\"productSwatchDetails\":{}},\"tooltip\":{\"id\":null},\"userState\":{\"cart\":{\"fkItems\":[],\"groceryItems\":[],\"items\":[]},\"asyncStatus\":\"SUCCESS\",\"abResponse\":{\"abDataId\":1072181375,\"abExperiments\":[{\"abId\":\"2743a205\",\"appId\":\"TNS\",\"expId\":\"mlModelV4\",\"layerName\":\"rto_cod\",\"metadata\":{\"ruleModel\":\"ruleModelV1\",\"tnsModel\":\"mlModelV5dot1\"}}]},\"groceryEnabled\":true,\"locale\":\"en\",\"location\":{\"communityStore\":null,\"selectedLocation\":null},\"lockinResponse\":{\"flipkartLogoAction\":{\"constraints\":null,\"fallback\":null,\"loginType\":\"LOGIN_NOT_REQUIRED\",\"omnitureData\":null,\"originalUrl\":\"/plus\",\"params\":{\"valid\":true,\"screenName\":\"LOYALTY_PAGE\"},\"screenType\":\"multiWidgetPage\",\"tracking\":{},\"type\":\"NAVIGATION\",\"url\":\"/plus\"},\"userMembershipState\":\"NON_LOGGED_IN\"},\"tmxTransactionId\":\"4014dac7-9625-4f3a-9053-c5681dcc288e\",\"accountId\":null,\"asn\":null,\"firstName\":null,\"flipkartFirstUser\":false,\"isLoggedIn\":false,\"lastName\":null,\"ts\":0,\"twoFa\":false,\"userEmail\":null},\"winnerList\":{\"asyncStatus\":\"INIT\"},\"wishlistItemDetails\":{\"asyncStatus\":\"INIT\"},\"redeemVoucherReducer\":{\"asyncStatus\":\"INIT\"},\"apiError\":{},\"richNavigation\":{\"widget\":null},\"floodLights\":{\"visible\":false,\"isClickTriggered\":false},\"userAddressData\":{\"asyncStatus\":\"INIT\",\"data\":null},\"locationUpdate\":{\"asyncStatus\":\"INIT\",\"data\":{\"currentPincode\":\"\"}},\"productServiceabilityInfo\":{\"asyncStatus\":\"INIT\",\"data\":null},\"validate2Fa\":{\"asyncStatus\":\"INIT\"},\"basketV4\":{\"asyncStatus\":\"INIT\",\"data\":{\"ROOT\":[]},\"pageNumber\":0,\"timeStamp\":1568891011443},\"actionViewReducer\":{\"asyncStatus\":\"INIT\"}};\n",
       "</script>\n",
       "<script nonce=\"16740922582594893339\">\n",
       "\twindow.omniture={tpv:[],tl:[]};window.omniture.trackPageView=function(){window.omniture.tpv.push(arguments)};window.omniture.trackLink=function(){window.omniture.tl.push(arguments)}\n",
       "\n",
       "    if(window.location.host === 'www.flipkart.com' || /\\.store\\.flipkart\\.com/i.test(window.location.host)){\n",
       "        window.s_account = \"flipkart-prd\"; //omniture account id\n",
       "    }else{\n",
       "        window.s_account = \"flipkart-prd-test\";\n",
       "    }\n",
       "    window.s_isDesktop = true;\n",
       "\n",
       "\tif ('serviceWorker' in navigator && navigator.userAgent.indexOf(\"Mobile\") === -1) {\n",
       "\t\tnavigator.serviceWorker.register('/sw.js').then(function(registration) {\n",
       "\t\t\tconsole.log('ServiceWorker registration successful with scope: ', registration.scope);\n",
       "\t\t\tnavigator.onLine && navigator.serviceWorker.controller && navigator.serviceWorker.controller.postMessage('BANDWIDTH_COMPUTE');\n",
       "\t\t\tnavigator.serviceWorker.addEventListener('message', function (event) {\n",
       "\t\t\t\ttry {\n",
       "\t\t\t\t\tconst bandwidthData = JSON.parse(event.data);\n",
       "\t\t\t\t\tif (bandwidthData && bandwidthData.data) {\n",
       "\t\t\t\t\t\twindow.bandwidth = bandwidthData.data.downlink + '_' + bandwidthData.data.computeMethod + '_' + bandwidthData.data.effectiveType + '_' + bandwidthData.data.type;\n",
       "\t\t\t\t\t}\n",
       "\t\t\t\t}catch(err) {\n",
       "\t\t\t\t\tconsole.error('JSON.parse failed:', err);\n",
       "\t\t\t\t}\n",
       "\t\t\t});\n",
       "\t\t})\n",
       "\t\t.catch(function(err) {\n",
       "\t\t\tconsole.error('ServiceWorker registration failed: ', err);\n",
       "\t\t});\n",
       "\t} else if('serviceWorker' in navigator && navigator.userAgent.indexOf(\"Mobile\") > -1){\n",
       "        navigator.serviceWorker.getRegistration().then(function(registration) {\n",
       "            var serviceWorkerUnregistered=false;\n",
       "            if(registration) {\n",
       "                registration.unregister();\n",
       "                serviceWorkerUnregistered=true;\n",
       "            }\n",
       "            serviceWorkerUnregistered && window.location.reload();\n",
       "        });\n",
       "    }\n",
       "\n",
       "\n",
       "</script>\n",
       "<script nonce=\"16740922582594893339\" src=\"//img1a.flixcart.com/www/linchpin/fk-cp-zion/js/raven.3.22.3.js\"></script>\n",
       "<script nonce=\"16740922582594893339\">\n",
       "    window.Raven && window.Raven.config('https://b2fe488e344a47eda53b8d306edec9b7@sentry.flipkart.com/2',{\n",
       "\t\trelease: '3.49.0',\n",
       "\t\twhitelistUrls: [\n",
       "\t\t\t/flipkart\\.com/,\n",
       "\t\t\t/img1a\\.flixcart\\.com/\n",
       "\t\t],\n",
       "\t\tignoreErrors: [\n",
       "\t\t\t// Random plugins/extensions\n",
       "\t\t\t'top.GLOBALS',\n",
       "\t\t\t// See: http://blog.errorception.com/2012/03/tale-of-unfindable-js-error.html\n",
       "\t\t\t'originalCreateNotification',\n",
       "\t\t\t'canvas.contentDocument',\n",
       "\t\t\t'MyApp_RemoveAllHighlights',\n",
       "\t\t\t'atomicFindClose',\n",
       "\t\t\t// Facebook borked\n",
       "\t\t\t'fb_xd_fragment',\n",
       "\t\t\t// ISP \"optimizing\" proxy - `Cache-Control: no-transform` seems to reduce this. (thanks @acdha)\n",
       "\t\t\t// See http://stackoverflow.com/questions/4113268/how-to-stop-javascript-injection-from-vodafone-proxy\n",
       "\t\t\t'bmi_SafeAddOnload',\n",
       "\t\t\t'EBCallBackMessageReceived',\n",
       "\t\t\t'failed to fetch'\n",
       "\t\t],\n",
       "\t\tignoreUrls: [\n",
       "\t\t\t// Facebook flakiness\n",
       "\t\t\t/graph\\.facebook\\.com/i,\n",
       "\t\t\t// Facebook blocked\n",
       "\t\t\t/connect\\.facebook\\.net\\/en_US\\/all\\.js/i,\n",
       "\t\t\t// Chrome extensions\n",
       "\t\t\t/extensions\\//i,\n",
       "\t\t\t/^chrome:\\/\\//i\n",
       "\t\t],\n",
       "\t\tsanitizeKeys: ['nsid', 'secureToken', 'SN'],\n",
       "\t\tenvironment: 'production',\n",
       "\t\tsampleRate: 0.5\n",
       "\t}).install();\n",
       "\twindow.Raven && window.Raven.setUserContext({\n",
       "\t\taccountId: ''\n",
       "\t});\n",
       "</script>\n",
       "<script async=\"\" defer=\"\" nonce=\"16740922582594893339\" src=\"//img1a.flixcart.com/www/linchpin/batman-returns/omni/omni16.js\"></script>\n",
       "</body>\n",
       "</html>"
      ]
     },
     "execution_count": 71,
     "metadata": {},
     "output_type": "execute_result"
    }
   ],
   "source": [
    "## Web Crawling\n",
    "\n",
    "from bs4 import BeautifulSoup\n",
    "import urllib\n",
    "soup = BeautifulSoup(urllib.request.urlopen('https://www.flipkart.com/puma-slyde-nu-idp-sneakers-men/p/itmf3xxcvu8fwgcp?pid=SHOF32HGW4SNK2DM&lid=LSTSHOF32HGW4SNK2DM6XG3EX&marketplace=FLIPKART&srno=b_1_12&otracker=browse&fm=organic&iid=5285686d-f13b-435f-9276-231e9d39f021.SHOF32HGW4SNK2DM.SEARCH&ppt=Store%20Browse&ppn=Store').read())\n",
    "print (type(soup))\n",
    "soup"
   ]
  },
  {
   "cell_type": "code",
   "execution_count": 72,
   "metadata": {},
   "outputs": [
    {
     "data": {
      "text/plain": [
       "\"             Explore   Plus                                  Login   Signup          More                    Cart                                                                                                             NOTIFY ME  Get notified when this item comes back in stock.          Home        Footwear        Men's Footwear        Casual Shoes        Puma Casual Shoes          Puma Slyde NU IDP Sneakers For Men (Blue) \\n                   Share            Puma\\xa0  Slyde NU IDP Sneakers For Men \\xa0\\xa0(Blue)       ₹1,949  ₹ 2,999   35% off             4.2     12,083 ratings and 1,906 reviews            Sold Out  This item is currently out of stock           This is a genuine product of Puma Sports India Pvt Ltd. The product comes with a standard brand warranty of 90 days. Know More                Color          Black           Black-Cherry Tomato           Blue           Blue Depths-Lapis Blue           Blue Depths-Lapis blue           Golden Brown-Chocolate Brown           MYKONOS BLUE-NRGY YELLOW-WHITE           Olive Night           Peacoat-Infinity           Puma Black-Cherry Tomato           Puma Black-Electric Blue Lemonade           QUIET SHADE-Peacoat           Tibetan Red-Cherry Tomato        Please select a Color to proceed  ✕       Size- UK/India    4   4     6   Euro 39      7   Euro 40.5      8   Euro 42      9   Euro 43      10   Euro 44.5      11   Euro 46      12   12      Size Chart         Please select a Size- UK/India to proceed  ✕      💡  Tip :  This product runs a size larger. If you usually buy UK 10, buy UK 9 for this.          Read all details                      Product Details          Color  Blue    Outer Material  Fabric    Model Name  Slyde NU IDP    Ideal For  Men    Occasion  Casual    Sole Material  Rubber    Closure  Lace-Ups    Style  Panel and Stitch Detail, Loop at Ankle    Tip Shape  Round    Season  SS 18    Warranty Summary  This is a genuine product of Puma Sports India Pvt Ltd. The product comes with a standard brand warranty of 90 days.    Covered in Warranty  Manufacturing defects: stitching/ pasting issues, mesh quality, sole integrity. Exchange available within 90 days of purchase, provided the product is not inappropriately used as determined by the Brand.    Not Covered in Warranty  Wear   tear   Manufacturing, Packaging and Import Info   Read More          Ratings   Reviews    4.2     12,083 ratings and 1,906 reviews      Rate Product        What our customers felt:        Look    Comfort           Colour        Images uploaded by customers:            +  179             5   it's really amazing product I love it..and fast delivery..      but packing is not good.....   READ MORE                  Vãrùñ Gøwdâ  Jun, 2018          151        24         Permalink     Report Abuse                 Certified Buyer  , Chikkamagaluru             5   Nice product... It is very good looking, stylish and comfortable in affordable price...Can go for it   READ MORE            Flipkart Customer  Jun, 2018          15        0         Permalink     Report Abuse                 Certified Buyer  , Pune             5   Mind blowing shoes   READ MORE                    Anwar Ansari  11 months ago          71        10         Permalink     Report Abuse                 Certified Buyer  , Kodad          All 1906 reviews           Questions and Answers          Q:  Suitable to ware with?     A:  casual      Anonymous           Certified Buyer         70        12        Report Abuse            Q:  without socks can i use ????     A:  yes.      Anonymous           Certified Buyer         64        14        Report Abuse            Q:  It is in light weight     A:  yes      Anonymous           Certified Buyer         40        8        Report Abuse       Read other answers      All questions                                     Top Stories : Brand Directory    MOST SEARCHED IN Footwear :  DC SHOES INDIA  MOCHI  PARAGON FOOTWEAR ONLINE SHOPPING  LOAFER SHOES  CANVAS SHOES FOR MEN  DIESEL SHOES  BATA LEATHER SHOES  BROWN SHOES  LINING BADMINTON SHOES  MENS SHOES ONLINE INDIA  PUMA SHOSE  RED CHIEF SHOES PRICE IN INDIA  LEE COOPER SANDALS  LEATHER SANDALS FOR MEN  WOODLAND SANDALS DISCOUNT SALE  ADIDAS SHOES PRICE LIST  NIKE SHOES PRICE  SPORTS SHOES ONLINE  ALBERTO TORRESI SHOES  BLACK SPORTS SHOES  HIGH ANKLE SHOES  WHITE CANVAS SHOES  LADIES CHAPPAL  LOTTO SHOES  VANS SNEAKERS  WHITE HEELS        ABOUT  Contact Us  About Us  Careers  Flipkart Stories  Press    HELP  Payments  Shipping  Cancellation   Returns  FAQ  Report Infringement    POLICY  Return Policy  Terms Of Use  Security  Privacy  Sitemap  EPR Compliance    SOCIAL  Facebook  Twitter  YouTube      Mail Us:      Flipkart Internet Private Limited,  \\n  Buildings Alyssa, Begonia    \\n  Clove Embassy Tech Village,  \\n  Outer Ring Road, Devarabeesanahalli Village,  \\n  Bengaluru, 560103,  \\n  Karnataka, India. \\n         Registered Office Address:      Flipkart Internet Private Limited,  \\n  Buildings Alyssa, Begonia    \\n  Clove Embassy Tech Village,  \\n  Outer Ring Road, Devarabeesanahalli Village,  \\n  Bengaluru, 560103,  \\n  Karnataka, India  \\n  CIN : U51109KA2012PTC066107  \\n  Telephone:  1800 208 9898  \\n            Sell On Flipkart       Advertise       Gift Cards       Help Center    © 2007- 2019   Flipkart.com.               Back to top     \""
      ]
     },
     "execution_count": 72,
     "metadata": {},
     "output_type": "execute_result"
    }
   ],
   "source": [
    "#Remove Tags and special characters\n",
    "\n",
    "tags = re.compile('<.*?>|&([a-z0-9]+|#[0-9]{1,6}|#x[0-9a-f]{1,6});')\n",
    "\n",
    "def remove_tags(text):\n",
    "    return tags.sub(' ', text)\n",
    "\n",
    "# type(soup)\n",
    "\n",
    "#Fetch the div data in the crawled web page\n",
    "\n",
    "soup_to_str=str(soup.div)\n",
    "type(soup_to_str)\n",
    "soup_to_str\n",
    "\n",
    "soup_clean=remove_tags(soup_to_str)\n",
    "soup_clean\n",
    "\n"
   ]
  },
  {
   "cell_type": "code",
   "execution_count": 73,
   "metadata": {},
   "outputs": [
    {
     "data": {
      "text/plain": [
       "<title>Puma Slyde NU IDP Sneakers For Men - Buy Peacoat-Infinity Color Puma Slyde NU IDP Sneakers For Men Online at Best Price - Shop Online for Footwears in India | Flipkart.com</title>"
      ]
     },
     "execution_count": 73,
     "metadata": {},
     "output_type": "execute_result"
    }
   ],
   "source": [
    "soup.title"
   ]
  },
  {
   "cell_type": "code",
   "execution_count": 74,
   "metadata": {},
   "outputs": [
    {
     "name": "stdout",
     "output_type": "stream",
     "text": [
      " explore plus login signup cart notify get notified item comes back stock home footwear men footwear casual shoes puma casual shoes puma slyde nu idp sneakers men blue share puma slyde nu idp sneakers men blue ₹ ₹ ratings reviews sold item currently stock genuine product puma sports india pvt ltd product comes standard brand warranty days know color black black cherry tomato blue blue depths lapis blue blue depths lapis blue golden brown chocolate brown mykonos blue nrgy yellow white olive night peacoat infinity puma black cherry tomato puma black electric blue lemonade quiet shade peacoat tibetan red cherry tomato please select color proceed ✕ size uk india euro euro euro euro euro euro size chart please select size uk india proceed ✕ 💡 tip product runs size larger usually buy uk buy uk read details product details color blue outer material fabric model name slyde nu idp ideal men occasion casual sole material rubber closure lace ups style panel stitch detail loop ankle tip shape round season ss warranty summary genuine product puma sports india pvt ltd product comes standard brand warranty days covered warranty manufacturing defects stitching pasting issues mesh quality sole integrity exchange available within days purchase provided product inappropriately used determined brand covered warranty wear tear manufacturing packaging import info read ratings reviews ratings reviews rate product customers felt look comfort colour images uploaded customers really amazing product love fast delivery packing good read vãrùñ gøwdâ jun permalink report abuse certified buyer chikkamagaluru nice product good looking stylish comfortable affordable price go read flipkart customer jun permalink report abuse certified buyer pune mind blowing shoes read anwar ansari months ago permalink report abuse certified buyer kodad reviews questions answers q suitable ware casual anonymous certified buyer report abuse q without socks use yes anonymous certified buyer report abuse q light weight yes anonymous certified buyer report abuse read answers questions top stories brand directory searched footwear dc shoes india mochi paragon footwear online shopping loafer shoes canvas shoes men diesel shoes bata leather shoes brown shoes lining badminton shoes mens shoes online india puma shose red chief shoes price india lee cooper sandals leather sandals men woodland sandals discount sale adidas shoes price list nike shoes price sports shoes online alberto torresi shoes black sports shoes high ankle shoes white canvas shoes ladies chappal lotto shoes vans sneakers white heels contact us us careers flipkart stories press help payments shipping cancellation returns faq report infringement policy return policy terms use security privacy sitemap epr compliance social facebook twitter youtube mail us flipkart internet private limited buildings alyssa begonia clove embassy tech village outer ring road devarabeesanahalli village bengaluru karnataka india registered office address flipkart internet private limited buildings alyssa begonia clove embassy tech village outer ring road devarabeesanahalli village bengaluru karnataka india cin ukaptc telephone sell flipkart advertise gift cards help center © flipkart com back top \n"
     ]
    }
   ],
   "source": [
    "#Remove punctuations, stopwords and spaces from string\n",
    "\n",
    "# type(soup_clean)\n",
    "test99=soup_clean\n",
    "\n",
    "test99 = remove_punctuations_from_string(test99)\n",
    "test99 = remove_stopwords_from_string(test99)\n",
    "test99 = remove_space_from_string(test99)\n",
    "\n",
    "print(test99)"
   ]
  },
  {
   "cell_type": "code",
   "execution_count": 75,
   "metadata": {},
   "outputs": [
    {
     "data": {
      "text/plain": [
       "['',\n",
       " 'explore',\n",
       " 'plus',\n",
       " 'login',\n",
       " 'signup',\n",
       " 'cart',\n",
       " 'notify',\n",
       " 'get',\n",
       " 'notified',\n",
       " 'item',\n",
       " 'come',\n",
       " 'back',\n",
       " 'stock',\n",
       " 'home',\n",
       " 'footwear',\n",
       " 'men',\n",
       " 'footwear',\n",
       " 'casual',\n",
       " 'shoe',\n",
       " 'puma',\n",
       " 'casual',\n",
       " 'shoe',\n",
       " 'puma',\n",
       " 'slyde',\n",
       " 'nu',\n",
       " 'idp',\n",
       " 'sneaker',\n",
       " 'men',\n",
       " 'blue',\n",
       " 'share',\n",
       " 'puma',\n",
       " 'slyde',\n",
       " 'nu',\n",
       " 'idp',\n",
       " 'sneaker',\n",
       " 'men',\n",
       " 'blue',\n",
       " 'rating',\n",
       " 'review',\n",
       " 'sold',\n",
       " 'item',\n",
       " 'currently',\n",
       " 'stock',\n",
       " 'genuine',\n",
       " 'product',\n",
       " 'puma',\n",
       " 'sport',\n",
       " 'india',\n",
       " 'pvt',\n",
       " 'ltd',\n",
       " 'product',\n",
       " 'come',\n",
       " 'standard',\n",
       " 'brand',\n",
       " 'warranty',\n",
       " 'day',\n",
       " 'know',\n",
       " 'color',\n",
       " 'black',\n",
       " 'black',\n",
       " 'cherry',\n",
       " 'tomato',\n",
       " 'blue',\n",
       " 'blue',\n",
       " 'depth',\n",
       " 'lapis',\n",
       " 'blue',\n",
       " 'blue',\n",
       " 'depth',\n",
       " 'lapis',\n",
       " 'blue',\n",
       " 'golden',\n",
       " 'brown',\n",
       " 'chocolate',\n",
       " 'brown',\n",
       " 'mykonos',\n",
       " 'blue',\n",
       " 'nrgy',\n",
       " 'yellow',\n",
       " 'white',\n",
       " 'olive',\n",
       " 'night',\n",
       " 'peacoat',\n",
       " 'infinity',\n",
       " 'puma',\n",
       " 'black',\n",
       " 'cherry',\n",
       " 'tomato',\n",
       " 'puma',\n",
       " 'black',\n",
       " 'electric',\n",
       " 'blue',\n",
       " 'lemonade',\n",
       " 'quiet',\n",
       " 'shade',\n",
       " 'peacoat',\n",
       " 'tibetan',\n",
       " 'red',\n",
       " 'cherry',\n",
       " 'tomato',\n",
       " 'please',\n",
       " 'select',\n",
       " 'color',\n",
       " 'proceed',\n",
       " 'size',\n",
       " 'uk',\n",
       " 'india',\n",
       " 'euro',\n",
       " 'euro',\n",
       " 'euro',\n",
       " 'euro',\n",
       " 'euro',\n",
       " 'euro',\n",
       " 'size',\n",
       " 'chart',\n",
       " 'please',\n",
       " 'select',\n",
       " 'size',\n",
       " 'uk',\n",
       " 'india',\n",
       " 'proceed',\n",
       " 'tip',\n",
       " 'product',\n",
       " 'run',\n",
       " 'size',\n",
       " 'larger',\n",
       " 'usually',\n",
       " 'buy',\n",
       " 'uk',\n",
       " 'buy',\n",
       " 'uk',\n",
       " 'read',\n",
       " 'detail',\n",
       " 'product',\n",
       " 'detail',\n",
       " 'color',\n",
       " 'blue',\n",
       " 'outer',\n",
       " 'material',\n",
       " 'fabric',\n",
       " 'model',\n",
       " 'name',\n",
       " 'slyde',\n",
       " 'nu',\n",
       " 'idp',\n",
       " 'ideal',\n",
       " 'men',\n",
       " 'occasion',\n",
       " 'casual',\n",
       " 'sole',\n",
       " 'material',\n",
       " 'rubber',\n",
       " 'closure',\n",
       " 'lace',\n",
       " 'ups',\n",
       " 'style',\n",
       " 'panel',\n",
       " 'stitch',\n",
       " 'detail',\n",
       " 'loop',\n",
       " 'ankle',\n",
       " 'tip',\n",
       " 'shape',\n",
       " 'round',\n",
       " 'season',\n",
       " 's',\n",
       " 'warranty',\n",
       " 'summary',\n",
       " 'genuine',\n",
       " 'product',\n",
       " 'puma',\n",
       " 'sport',\n",
       " 'india',\n",
       " 'pvt',\n",
       " 'ltd',\n",
       " 'product',\n",
       " 'come',\n",
       " 'standard',\n",
       " 'brand',\n",
       " 'warranty',\n",
       " 'day',\n",
       " 'covered',\n",
       " 'warranty',\n",
       " 'manufacturing',\n",
       " 'defect',\n",
       " 'stitching',\n",
       " 'pasting',\n",
       " 'issue',\n",
       " 'mesh',\n",
       " 'quality',\n",
       " 'sole',\n",
       " 'integrity',\n",
       " 'exchange',\n",
       " 'available',\n",
       " 'within',\n",
       " 'day',\n",
       " 'purchase',\n",
       " 'provided',\n",
       " 'product',\n",
       " 'inappropriately',\n",
       " 'used',\n",
       " 'determined',\n",
       " 'brand',\n",
       " 'covered',\n",
       " 'warranty',\n",
       " 'wear',\n",
       " 'tear',\n",
       " 'manufacturing',\n",
       " 'packaging',\n",
       " 'import',\n",
       " 'info',\n",
       " 'read',\n",
       " 'rating',\n",
       " 'review',\n",
       " 'rating',\n",
       " 'review',\n",
       " 'rate',\n",
       " 'product',\n",
       " 'customer',\n",
       " 'felt',\n",
       " 'look',\n",
       " 'comfort',\n",
       " 'colour',\n",
       " 'image',\n",
       " 'uploaded',\n",
       " 'customer',\n",
       " 'really',\n",
       " 'amazing',\n",
       " 'product',\n",
       " 'love',\n",
       " 'fast',\n",
       " 'delivery',\n",
       " 'packing',\n",
       " 'good',\n",
       " 'read',\n",
       " 'vãrùñ',\n",
       " 'gøwdâ',\n",
       " 'jun',\n",
       " 'permalink',\n",
       " 'report',\n",
       " 'abuse',\n",
       " 'certified',\n",
       " 'buyer',\n",
       " 'chikkamagaluru',\n",
       " 'nice',\n",
       " 'product',\n",
       " 'good',\n",
       " 'looking',\n",
       " 'stylish',\n",
       " 'comfortable',\n",
       " 'affordable',\n",
       " 'price',\n",
       " 'go',\n",
       " 'read',\n",
       " 'flipkart',\n",
       " 'customer',\n",
       " 'jun',\n",
       " 'permalink',\n",
       " 'report',\n",
       " 'abuse',\n",
       " 'certified',\n",
       " 'buyer',\n",
       " 'pune',\n",
       " 'mind',\n",
       " 'blowing',\n",
       " 'shoe',\n",
       " 'read',\n",
       " 'anwar',\n",
       " 'ansari',\n",
       " 'month',\n",
       " 'ago',\n",
       " 'permalink',\n",
       " 'report',\n",
       " 'abuse',\n",
       " 'certified',\n",
       " 'buyer',\n",
       " 'kodad',\n",
       " 'review',\n",
       " 'question',\n",
       " 'answer',\n",
       " 'q',\n",
       " 'suitable',\n",
       " 'ware',\n",
       " 'casual',\n",
       " 'anonymous',\n",
       " 'certified',\n",
       " 'buyer',\n",
       " 'report',\n",
       " 'abuse',\n",
       " 'q',\n",
       " 'without',\n",
       " 'sock',\n",
       " 'use',\n",
       " 'yes',\n",
       " 'anonymous',\n",
       " 'certified',\n",
       " 'buyer',\n",
       " 'report',\n",
       " 'abuse',\n",
       " 'q',\n",
       " 'light',\n",
       " 'weight',\n",
       " 'yes',\n",
       " 'anonymous',\n",
       " 'certified',\n",
       " 'buyer',\n",
       " 'report',\n",
       " 'abuse',\n",
       " 'read',\n",
       " 'answer',\n",
       " 'question',\n",
       " 'top',\n",
       " 'story',\n",
       " 'brand',\n",
       " 'directory',\n",
       " 'searched',\n",
       " 'footwear',\n",
       " 'dc',\n",
       " 'shoe',\n",
       " 'india',\n",
       " 'mochi',\n",
       " 'paragon',\n",
       " 'footwear',\n",
       " 'online',\n",
       " 'shopping',\n",
       " 'loafer',\n",
       " 'shoe',\n",
       " 'canvas',\n",
       " 'shoe',\n",
       " 'men',\n",
       " 'diesel',\n",
       " 'shoe',\n",
       " 'bata',\n",
       " 'leather',\n",
       " 'shoe',\n",
       " 'brown',\n",
       " 'shoe',\n",
       " 'lining',\n",
       " 'badminton',\n",
       " 'shoe',\n",
       " 'men',\n",
       " 'shoe',\n",
       " 'online',\n",
       " 'india',\n",
       " 'puma',\n",
       " 'shose',\n",
       " 'red',\n",
       " 'chief',\n",
       " 'shoe',\n",
       " 'price',\n",
       " 'india',\n",
       " 'lee',\n",
       " 'cooper',\n",
       " 'sandal',\n",
       " 'leather',\n",
       " 'sandal',\n",
       " 'men',\n",
       " 'woodland',\n",
       " 'sandal',\n",
       " 'discount',\n",
       " 'sale',\n",
       " 'adidas',\n",
       " 'shoe',\n",
       " 'price',\n",
       " 'list',\n",
       " 'nike',\n",
       " 'shoe',\n",
       " 'price',\n",
       " 'sport',\n",
       " 'shoe',\n",
       " 'online',\n",
       " 'alberto',\n",
       " 'torresi',\n",
       " 'shoe',\n",
       " 'black',\n",
       " 'sport',\n",
       " 'shoe',\n",
       " 'high',\n",
       " 'ankle',\n",
       " 'shoe',\n",
       " 'white',\n",
       " 'canvas',\n",
       " 'shoe',\n",
       " 'lady',\n",
       " 'chappal',\n",
       " 'lotto',\n",
       " 'shoe',\n",
       " 'van',\n",
       " 'sneaker',\n",
       " 'white',\n",
       " 'heel',\n",
       " 'contact',\n",
       " 'u',\n",
       " 'u',\n",
       " 'career',\n",
       " 'flipkart',\n",
       " 'story',\n",
       " 'press',\n",
       " 'help',\n",
       " 'payment',\n",
       " 'shipping',\n",
       " 'cancellation',\n",
       " 'return',\n",
       " 'faq',\n",
       " 'report',\n",
       " 'infringement',\n",
       " 'policy',\n",
       " 'return',\n",
       " 'policy',\n",
       " 'term',\n",
       " 'use',\n",
       " 'security',\n",
       " 'privacy',\n",
       " 'sitemap',\n",
       " 'epr',\n",
       " 'compliance',\n",
       " 'social',\n",
       " 'facebook',\n",
       " 'twitter',\n",
       " 'youtube',\n",
       " 'mail',\n",
       " 'u',\n",
       " 'flipkart',\n",
       " 'internet',\n",
       " 'private',\n",
       " 'limited',\n",
       " 'building',\n",
       " 'alyssa',\n",
       " 'begonia',\n",
       " 'clove',\n",
       " 'embassy',\n",
       " 'tech',\n",
       " 'village',\n",
       " 'outer',\n",
       " 'ring',\n",
       " 'road',\n",
       " 'devarabeesanahalli',\n",
       " 'village',\n",
       " 'bengaluru',\n",
       " 'karnataka',\n",
       " 'india',\n",
       " 'registered',\n",
       " 'office',\n",
       " 'address',\n",
       " 'flipkart',\n",
       " 'internet',\n",
       " 'private',\n",
       " 'limited',\n",
       " 'building',\n",
       " 'alyssa',\n",
       " 'begonia',\n",
       " 'clove',\n",
       " 'embassy',\n",
       " 'tech',\n",
       " 'village',\n",
       " 'outer',\n",
       " 'ring',\n",
       " 'road',\n",
       " 'devarabeesanahalli',\n",
       " 'village',\n",
       " 'bengaluru',\n",
       " 'karnataka',\n",
       " 'india',\n",
       " 'cin',\n",
       " 'ukaptc',\n",
       " 'telephone',\n",
       " 'sell',\n",
       " 'flipkart',\n",
       " 'advertise',\n",
       " 'gift',\n",
       " 'card',\n",
       " 'help',\n",
       " 'center',\n",
       " 'flipkart',\n",
       " 'com',\n",
       " 'back',\n",
       " 'top',\n",
       " '']"
      ]
     },
     "execution_count": 75,
     "metadata": {},
     "output_type": "execute_result"
    }
   ],
   "source": [
    "#Tokenize and lemmatize the text\n",
    "\n",
    "test99 = tokenize(test99)\n",
    "test99 = lemmatize(test99)\n",
    "test99"
   ]
  },
  {
   "cell_type": "code",
   "execution_count": 76,
   "metadata": {},
   "outputs": [
    {
     "data": {
      "text/plain": [
       "list"
      ]
     },
     "execution_count": 76,
     "metadata": {},
     "output_type": "execute_result"
    }
   ],
   "source": [
    "type(test99)"
   ]
  },
  {
   "cell_type": "code",
   "execution_count": 77,
   "metadata": {},
   "outputs": [],
   "source": [
    "fd=nltk.FreqDist(test99)"
   ]
  },
  {
   "cell_type": "code",
   "execution_count": 78,
   "metadata": {},
   "outputs": [
    {
     "data": {
      "image/png": "[encoded data removed]",
      "text/plain": [
       "<Figure size 432x288 with 1 Axes>"
      ]
     },
     "metadata": {
      "needs_background": "light"
     },
     "output_type": "display_data"
    },
    {
     "data": {
      "text/plain": [
       "<matplotlib.axes._subplots.AxesSubplot at 0x171dce90>"
      ]
     },
     "execution_count": 78,
     "metadata": {},
     "output_type": "execute_result"
    }
   ],
   "source": [
    "fd.plot(15)"
   ]
  },
  {
   "cell_type": "code",
   "execution_count": null,
   "metadata": {},
   "outputs": [],
   "source": []
  },
  {
   "cell_type": "code",
   "execution_count": null,
   "metadata": {},
   "outputs": [],
   "source": []
  }
 ],
 "metadata": {
  "kernelspec": {
   "display_name": "Python 3",
   "language": "python",
   "name": "python3"
  },
  "language_info": {
   "codemirror_mode": {
    "name": "ipython",
    "version": 3
   },
   "file_extension": ".py",
   "mimetype": "text/x-python",
   "name": "python",
   "nbconvert_exporter": "python",
   "pygments_lexer": "ipython3",
   "version": "3.7.3"
  }
 },
 "nbformat": 4,
 "nbformat_minor": 2
}
